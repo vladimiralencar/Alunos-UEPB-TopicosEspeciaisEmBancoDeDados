{
 "cells": [
  {
   "cell_type": "markdown",
   "metadata": {},
   "source": [
    "# <font color='blue'>Tratamento de Dados - Funções auxiliares</font>"
   ]
  },
  {
   "cell_type": "markdown",
   "metadata": {},
   "source": [
    "## Construindo um Vetor de Features\n",
    "\n",
    "As redes neurais e outros algoritmos exigem que suas entradas sejam um número fixo de colunas. Isso é muito semelhante aos dados de uma planilha. Esta entrada deve ser completamente numérica.\n",
    "\n",
    "É importante representar os dados de forma a que a rede neural possa se formar a partir deles. Vejamos quais são algumas das formas mais básicas de transformar dados para uma rede neural, começando pelos possíveis tipos de dados:\n",
    "\n",
    "* Dados do Tipo Caracter (strings)\n",
    "    * **Nominal** - Itens discretos individuais, sem ordem. Por exemplo: cor, código postal, forma.\n",
    "    * **Ordinal** - Itens discretos individuais que podem ser ordenados. Por exemplo: nível de classificação, título do trabalho, tamanho de uma roupa (pequeno, médio, grande)\n",
    "    \n",
    "    \n",
    "* Dados Numéricos\n",
    "    * **Interval** - Valores numéricos, início não definido. Por exemplo, a temperatura. Você nunca diria \"ontem foi duas vezes mais quente do que hoje\".\n",
    "    * **Ratio** - Valores numéricos, início claramente definido. Por exemplo, a velocidade. Você diria que \"O primeiro carro está indo duas vezes mais rápido do que o segundo\".\n",
    "\n",
    "Abaixo você vai encontrar várias funções úteis para codificar o vetor de recursos para vários tipos de dados. \n",
    "\n",
    "* **encode_text_dummy** - Encoding de campos de texto, como as espécies de íris como um único campo para cada classe. Três classes se tornariam \"0,0,1\" \"0,1,0\" e \"1,0,0\". Podemos fazer o encoding dos preditores não-alvo dessa maneira. Bom para dados nominais.\n",
    "* **encode_text_index** - Encoding dos campos de texto, como um único campo numérico como \"0\" \"1\" e \"2\". Bom para dados nominais.\n",
    "* **encode_numeric_zscore** - Encoding dos valores numéricos com um escore z. As redes neurais lidam bem com os campos \"centrados\", o zscore geralmente é um bom ponto de partida para o intervalo / proporção.\n",
    "\n",
    "* Os valores ordinais podem ser codificados com as funções dummy ou index. Mais tarde, veremos um meio mais avançado de encoding *\n",
    "\n",
    "Tratamento de dados missing:\n",
    "\n",
    "* **missing_median** - Preenche todos os valores faltantes com o valor médio.\n",
    "\n",
    "Criando o vetor final de recursos:\n",
    "\n",
    "* **to_xy** - Uma vez que todos os campos são numéricos, esta função pode fornecer as matrizes x e y que são usadas para caber na rede neural.\n",
    "\n",
    "Outras funções de utilidade:\n",
    "\n",
    "* **hms_string** - Imprima uma sequência de tempo decorrido.\n",
    "* **chart_regression** - Exibe um gráfico para mostrar o quão bem uma regressão executa."
   ]
  },
  {
   "cell_type": "markdown",
   "metadata": {},
   "source": [
    "## Normalização"
   ]
  },
  {
   "cell_type": "markdown",
   "metadata": {},
   "source": [
    "Normalmente, os dados são dimensionados para um intervalo específico em um processo chamado normalização. "
   ]
  },
  {
   "cell_type": "markdown",
   "metadata": {},
   "source": [
    "Uma transformação usual durante o treinamento de uma RNA é normalizar o conjunto de dados de treinamento de acordo com a distribuição normal padrão (i.e., média igual a zero e variância igual a 1) para evitar problemas de comparação devido às diferentes escalas usadas nos dados. Ocorre que durante a passagem dos exemplos normalizados através das\n",
    "camadas da rede, esses valores são novamente transformados (por meio das pré-ativações e ativações), podendo fazer com que os dados de entrada de algumas camadas ocultas fiquem desnormalizados novamente. Esse problema, conhecido como mudança de co-variável interna (internal covariate shift), é tanto mais grave quanto mais profunda for a rede a ser treinada. Esse problema aumenta o tempo de treinamento porque implica na definição de uma taxa de aprendizagem pequena, além de propiciar a dissipação dos gradientes.\n",
    "\n",
    "A Normalização em Lote (Batch Normalization) é um mecanismo proposto recentemente para resolver o problema acima, e que consiste em normalizar os dados fornecidos a cada camada oculta. A normalização é aplicada em cada mini-lote (como já fizemos em exemplos anteriores), para aumentar a eficiência durante a aplicação da transformação. De acordo com os experimentos realizados pelos autores da técnica (link na seção de links úteis), ela também produz um efeito de regularização sobre o treinamento, em alguns casos eliminando a necessidade de aplicar o desligamento (Dropout). Uma aceleração significativa do tempo de treinamento também foi observada, resultante da diminuição de 14 vezes na quantidade de passos de treinamento necessários, quando comparada ao tempo de treinamento sem o uso da normalização."
   ]
  },
  {
   "cell_type": "markdown",
   "metadata": {},
   "source": [
    "Existem muitas maneiras diferentes de normalizar os dados. Vejamos algumas delas:"
   ]
  },
  {
   "cell_type": "markdown",
   "metadata": {},
   "source": [
    "### One Hot Encoding"
   ]
  },
  {
   "cell_type": "markdown",
   "metadata": {},
   "source": [
    "Se você tem um valor categórico, como a espécie de uma íris, a marca de um automóvel ou a etiqueta de dígitos no conjunto de dados MNIST, você deve usar uma codificação One-Hot Encoding. Para codificar dessa maneira, você usaria um neurônio de saída para cada classe no problema. Lembra do conjunto de dados MNSIT que já usamos em outras oportunidades, onde você tem imagens para dígitos entre 0 e 9? Este problema é mais comumente codificado como dez neurônios de saída com uma função de ativação softmax que dá a probabilidade de a entrada ser um desses dígitos. Usando a codificação One-Hot, os dez dígitos podem ser codificados da seguinte maneira:"
   ]
  },
  {
   "cell_type": "markdown",
   "metadata": {},
   "source": [
    "![One-Hot Encoding](images/one-hot.png \"One-Hot Encoding\")"
   ]
  },
  {
   "cell_type": "markdown",
   "metadata": {},
   "source": [
    "One-Hot Encoding sempre deve ser usado quando as classes não têm ordenação. Outro exemplo desse tipo de codificação é a marca de um automóvel. Normalmente, a lista de fabricantes de automóveis não está ordenada, a menos que exista algum significado que você deseja transmitir. Por exemplo, você pode encomendar as montadoras pelo número de anos de negócios. No entanto, esta classificação só deve ser feita se o número de anos de negócios tiver significado no seu problema. Se realmente não há ordem, então One-Hot deve sempre ser usado. Como você pode facilmente converter os dígitos, você pode se perguntar por que usamos uma codificação One-Hot. No entanto, a ordem dos dígitos não significa que o programa possa reconhecê-los. O fato de que \"1\" e \"2\" estarem numericamente próximos um do outro não ajuda o programa a reconhecer a imagem. Portanto, não devemos usar um neurônio de saída único que simplesmente exiba o dígito reconhecido. Os dígitos 0-9 são categorias, e não valores numéricos reais. \n",
    "\n",
    "As categorias de codificação com um único valor numérico prejudicam o processo de decisões da rede neural. Tanto a entrada como a saída podem usar One-Hot Encoding. A lista acima usou 0 's e 1' s. Normalmente você usará a unidade linear retificada (ReLU) e a ativação do softmax. No entanto, se você estiver trabalhando com uma função de ativação hiperbólica tangente, você deve utilizar um valor de -1 para os 0 para coincidir com o intervalo da hiperbólica tangente de -1 a 1.\n",
    "\n",
    "Se você tem um número extremamente grande de classes, One-Hot Encoding pode tornar-se complicado porque você deve ter um neurônio para cada classe. Nesses casos, você tem várias opções. Primeiro, você pode encontrar uma maneira de pedir suas categorias. Com esta ordem, suas categorias agora podem ser codificadas como um valor numérico, que seria a posição da categoria atual dentro da lista ordenada. Outra abordagem para lidar com um número extremamente grande de categorias é a codificação de frequência de documento inversa (TF-IDF) porque cada classe se torna essencialmente a probabilidade de ocorrência dessa classe em relação às demais. Desta forma, o TF-IDF permite que o programa mapeie um grande número de classes para um único neurônio. "
   ]
  },
  {
   "cell_type": "markdown",
   "metadata": {},
   "source": [
    "## Funções Auxiliares\n",
    "\n",
    "É uma boa prática criar suas próprias funções de limpeza e transformação dos dados que serão processados pelo modelo de rede neural. Use esses exemplos como referência."
   ]
  },
  {
   "cell_type": "code",
   "execution_count": 2,
   "metadata": {},
   "outputs": [],
   "source": [
    "from sklearn import preprocessing\n",
    "import matplotlib.pyplot as plt\n",
    "import numpy as np\n",
    "import pandas as pd\n",
    "import shutil\n",
    "import os\n",
    "\n",
    "# Encoding dos valores de texto para variáveis nominais\n",
    "def encode_text_dummy(df, name):\n",
    "    dummies = pd.get_dummies(df[name])\n",
    "    for x in dummies.columns:\n",
    "        dummy_name = \"{}-{}\".format(name, x)\n",
    "        df[dummy_name] = dummies[x]\n",
    "    df.drop(name, axis=1, inplace=True)\n",
    "\n",
    "\n",
    "# Encoding dos valores de texto para uma única variável dummy. As novas colunas (que não substituem o antigo) terão 1\n",
    "# em todos os locais onde a coluna original (nome) corresponde a cada um dos valores-alvo. Uma coluna é adicionada para\n",
    "# cada valor alvo.\n",
    "def encode_text_single_dummy(df, name, target_values):\n",
    "    for tv in target_values:\n",
    "        l = list(df[name].astype(str))\n",
    "        l = [1 if str(x) == str(tv) else 0 for x in l]\n",
    "        name2 = \"{}-{}\".format(name, tv)\n",
    "        df[name2] = l\n",
    "\n",
    "\n",
    "# Encoding dos valores de texto para índices (ou seja, [1], [2], [3] para vermelho, verde, azul por exemplo).\n",
    "def encode_text_index(df, name):\n",
    "    le = preprocessing.LabelEncoder()\n",
    "    df[name] = le.fit_transform(df[name])\n",
    "    return le.classes_\n",
    "\n",
    "\n",
    "# Normalização Z-score\n",
    "def encode_numeric_zscore(df, name, mean=None, sd=None):\n",
    "    if mean is None:\n",
    "        mean = df[name].mean()\n",
    "\n",
    "    if sd is None:\n",
    "        sd = df[name].std()\n",
    "\n",
    "    df[name] = (df[name] - mean) / sd\n",
    "\n",
    "\n",
    "# Converte todos os valores faltantes na coluna especificada para a mediana\n",
    "def missing_median(df, name):\n",
    "    med = df[name].median()\n",
    "    df[name] = df[name].fillna(med)\n",
    "\n",
    "\n",
    "# Converte todos os valores faltantes na coluna especificada para o padrão\n",
    "def missing_default(df, name, default_value):\n",
    "    df[name] = df[name].fillna(default_value)\n",
    "    \n",
    "    \n",
    "\n",
    "\n",
    "# Converte um dataframe Pandas para as entradas x, y que o TensorFlow precisa\n",
    "def to_xy(df, target):\n",
    "    result = []\n",
    "    for x in df.columns:\n",
    "        if x != target:\n",
    "            result.append(x)\n",
    "    # Descobre o tipo da coluna de destino. \n",
    "    target_type = df[target].dtypes\n",
    "    target_type = target_type[0] if hasattr(target_type, '__iter__') else target_type\n",
    "    # Encoding para int. TensorFlow gosta de 32 bits.\n",
    "    if target_type in (np.int64, np.int32):\n",
    "        # Classificação\n",
    "        dummies = pd.get_dummies(df[target])\n",
    "        return df.as_matrix(result).astype(np.float32), dummies.as_matrix().astype(np.float32)\n",
    "    else:\n",
    "        # Regressão\n",
    "        return df.as_matrix(result).astype(np.float32), df.as_matrix([target]).astype(np.float32)\n",
    "\n",
    "# String de tempo bem formatado\n",
    "def hms_string(sec_elapsed):\n",
    "    h = int(sec_elapsed / (60 * 60))\n",
    "    m = int((sec_elapsed % (60 * 60)) / 60)\n",
    "    s = sec_elapsed % 60\n",
    "    return \"{}:{:>02}:{:>05.2f}\".format(h, m, s)\n",
    "\n",
    "\n",
    "# Chart de Regressão\n",
    "def chart_regression(pred,y,sort=True):\n",
    "    t = pd.DataFrame({'pred' : pred, 'y' : y })  # y.flatten()\n",
    "    if sort:\n",
    "        t.sort_values(by=['y'],inplace=True)\n",
    "    a = plt.plot(t['y'].tolist(),label='expected')\n",
    "    b = plt.plot(t['pred'].tolist(),label='prediction')\n",
    "    plt.ylabel('output')\n",
    "    plt.legend()\n",
    "    plt.show()\n",
    "\n",
    "# Remove todas as linhas onde a coluna especificada em +/- desvios padrão\n",
    "def remove_outliers(df, name, sd):\n",
    "    drop_rows = df.index[(np.abs(df[name] - df[name].mean()) >= (sd * df[name].std()))]\n",
    "    df.drop(drop_rows, axis=0, inplace=True)\n",
    "\n",
    "\n",
    "# Normalização Range\n",
    "def encode_numeric_range(df, name, normalized_low=-1, normalized_high=1, data_low=None, data_high=None):\n",
    "    if data_low is None:\n",
    "        data_low = min(df[name])\n",
    "        data_high = max(df[name])\n",
    "\n",
    "    df[name] = ((df[name] - data_low) / (data_high - data_low)) * (normalized_high - normalized_low) + normalized_low"
   ]
  },
  {
   "cell_type": "code",
   "execution_count": 3,
   "metadata": {},
   "outputs": [],
   "source": [
    "from sklearn import preprocessing"
   ]
  },
  {
   "cell_type": "code",
   "execution_count": 4,
   "metadata": {},
   "outputs": [
    {
     "data": {
      "text/plain": [
       "array([[0., 1., 1.]])"
      ]
     },
     "execution_count": 4,
     "metadata": {},
     "output_type": "execute_result"
    }
   ],
   "source": [
    "enc = preprocessing.OrdinalEncoder()\n",
    "X = [['male', 'from US', 'uses Safari'], ['female', 'from Europe', 'uses Firefox']]\n",
    "enc.fit(X)  \n",
    "\n",
    "enc.transform([['female', 'from US', 'uses Safari']])\n",
    "#enc.inverse_transform()"
   ]
  },
  {
   "cell_type": "code",
   "execution_count": 5,
   "metadata": {},
   "outputs": [
    {
     "data": {
      "text/plain": [
       "array([[1., 0., 0., 1., 0., 1.],\n",
       "       [0., 1., 1., 0., 0., 1.]])"
      ]
     },
     "execution_count": 5,
     "metadata": {},
     "output_type": "execute_result"
    }
   ],
   "source": [
    "enc = preprocessing.OneHotEncoder()\n",
    "X = [['male', 'from US', 'uses Safari'], ['female', 'from Europe', 'uses Firefox']]\n",
    "enc.fit(X)  \n",
    "\n",
    "\n",
    "enc.transform([['female', 'from US', 'uses Safari'],\n",
    "               ['male', 'from Europe', 'uses Safari']]).toarray()\n"
   ]
  },
  {
   "cell_type": "code",
   "execution_count": 6,
   "metadata": {},
   "outputs": [
    {
     "name": "stdout",
     "output_type": "stream",
     "text": [
      "[3 2 5 0 1 4]\n"
     ]
    }
   ],
   "source": [
    "le = preprocessing.LabelEncoder()\n",
    "Y = ['male', 'from US', 'uses Safari', 'female', 'from Europe', 'uses Firefox']\n",
    "yy = le.fit(Y)\n",
    "\n",
    "y_categorical = le.transform(Y)\n",
    "le = preprocessing.LabelEncoder()\n",
    "le.fit([\"paris\", \"paris\", \"tokyo\", \"amsterdam\"])\n",
    "\n",
    "list(le.classes_)\n",
    "\n",
    "le.transform([\"tokyo\", \"tokyo\", \"paris\"]) \n",
    "\n",
    "print(y_categorical)"
   ]
  },
  {
   "cell_type": "code",
   "execution_count": 7,
   "metadata": {},
   "outputs": [
    {
     "name": "stdout",
     "output_type": "stream",
     "text": [
      "[2 2 1]\n",
      "['tokyo', 'tokyo', 'paris']\n"
     ]
    }
   ],
   "source": [
    "le = preprocessing.LabelEncoder()\n",
    "le.fit([\"paris\", \"paris\", \"tokyo\", \"amsterdam\"])\n",
    "\n",
    "#print(list(le.classes_))\n",
    "\n",
    "print(le.transform([\"tokyo\", \"tokyo\", \"paris\"])) \n",
    "\n",
    "print(list(le.inverse_transform([2, 2, 1])))"
   ]
  },
  {
   "cell_type": "code",
   "execution_count": 8,
   "metadata": {},
   "outputs": [
    {
     "name": "stdout",
     "output_type": "stream",
     "text": [
      "['a' 'g']\n",
      "[3 2 5 0 1 4]\n"
     ]
    }
   ],
   "source": [
    "le = preprocessing.LabelEncoder()\n",
    "le.fit([ 'g', 'a'])\n",
    "#df[name] = le.fit_transform(df[name])\n",
    "y = [ 'g', 'a', 'g', 'a', 'g', 'g', 'g', 'a', 'a']\n",
    "y_categorial = le.fit_transform(y)\n",
    "print(le.classes_)\n",
    "print(y_categorical)"
   ]
  },
  {
   "cell_type": "code",
   "execution_count": 9,
   "metadata": {},
   "outputs": [
    {
     "data": {
      "text/plain": [
       "array(['a', 'g'], dtype='<U1')"
      ]
     },
     "execution_count": 9,
     "metadata": {},
     "output_type": "execute_result"
    }
   ],
   "source": [
    "y = [ 'g', 'a', 'g', 'a', 'g', 'g', 'g', 'a', 'a']\n",
    "le = preprocessing.LabelEncoder()\n",
    "y_cat = le.fit_transform(y)\n",
    "le.classes_"
   ]
  },
  {
   "cell_type": "code",
   "execution_count": 10,
   "metadata": {},
   "outputs": [
    {
     "data": {
      "text/plain": [
       "array([1, 0, 1, 0, 1, 1, 1, 0, 0])"
      ]
     },
     "execution_count": 10,
     "metadata": {},
     "output_type": "execute_result"
    }
   ],
   "source": [
    "y_cat"
   ]
  },
  {
   "cell_type": "code",
   "execution_count": 11,
   "metadata": {
    "scrolled": true
   },
   "outputs": [
    {
     "data": {
      "text/plain": [
       "array(['g', 'a', 'g', 'a', 'g', 'g', 'g', 'a', 'a'], dtype='<U1')"
      ]
     },
     "execution_count": 11,
     "metadata": {},
     "output_type": "execute_result"
    }
   ],
   "source": [
    "le.inverse_transform(y_cat)"
   ]
  },
  {
   "cell_type": "code",
   "execution_count": 40,
   "metadata": {},
   "outputs": [
    {
     "data": {
      "text/html": [
       "<div>\n",
       "<style scoped>\n",
       "    .dataframe tbody tr th:only-of-type {\n",
       "        vertical-align: middle;\n",
       "    }\n",
       "\n",
       "    .dataframe tbody tr th {\n",
       "        vertical-align: top;\n",
       "    }\n",
       "\n",
       "    .dataframe thead th {\n",
       "        text-align: right;\n",
       "    }\n",
       "</style>\n",
       "<table border=\"1\" class=\"dataframe\">\n",
       "  <thead>\n",
       "    <tr style=\"text-align: right;\">\n",
       "      <th></th>\n",
       "      <th>sepal.length</th>\n",
       "      <th>sepal.width</th>\n",
       "      <th>petal.length</th>\n",
       "      <th>petal.width</th>\n",
       "      <th>variety</th>\n",
       "    </tr>\n",
       "  </thead>\n",
       "  <tbody>\n",
       "    <tr>\n",
       "      <th>0</th>\n",
       "      <td>5.1</td>\n",
       "      <td>3.5</td>\n",
       "      <td>1.4</td>\n",
       "      <td>0.2</td>\n",
       "      <td>0</td>\n",
       "    </tr>\n",
       "    <tr>\n",
       "      <th>1</th>\n",
       "      <td>4.9</td>\n",
       "      <td>3.0</td>\n",
       "      <td>1.4</td>\n",
       "      <td>0.2</td>\n",
       "      <td>0</td>\n",
       "    </tr>\n",
       "    <tr>\n",
       "      <th>2</th>\n",
       "      <td>4.7</td>\n",
       "      <td>3.2</td>\n",
       "      <td>1.3</td>\n",
       "      <td>0.2</td>\n",
       "      <td>0</td>\n",
       "    </tr>\n",
       "    <tr>\n",
       "      <th>3</th>\n",
       "      <td>4.6</td>\n",
       "      <td>3.1</td>\n",
       "      <td>1.5</td>\n",
       "      <td>0.2</td>\n",
       "      <td>0</td>\n",
       "    </tr>\n",
       "    <tr>\n",
       "      <th>4</th>\n",
       "      <td>5.0</td>\n",
       "      <td>3.6</td>\n",
       "      <td>1.4</td>\n",
       "      <td>0.2</td>\n",
       "      <td>0</td>\n",
       "    </tr>\n",
       "  </tbody>\n",
       "</table>\n",
       "</div>"
      ],
      "text/plain": [
       "   sepal.length  sepal.width  petal.length  petal.width  variety\n",
       "0           5.1          3.5           1.4          0.2        0\n",
       "1           4.9          3.0           1.4          0.2        0\n",
       "2           4.7          3.2           1.3          0.2        0\n",
       "3           4.6          3.1           1.5          0.2        0\n",
       "4           5.0          3.6           1.4          0.2        0"
      ]
     },
     "execution_count": 40,
     "metadata": {},
     "output_type": "execute_result"
    }
   ],
   "source": [
    "df.head()"
   ]
  },
  {
   "cell_type": "code",
   "execution_count": 41,
   "metadata": {},
   "outputs": [
    {
     "data": {
      "text/plain": [
       "array([[5.1, 3.5, 1.4, 0.2],\n",
       "       [4.9, 3. , 1.4, 0.2],\n",
       "       [4.7, 3.2, 1.3, 0.2]], dtype=float32)"
      ]
     },
     "execution_count": 41,
     "metadata": {},
     "output_type": "execute_result"
    }
   ],
   "source": [
    "x[:3]"
   ]
  },
  {
   "cell_type": "code",
   "execution_count": 42,
   "metadata": {},
   "outputs": [
    {
     "data": {
      "text/plain": [
       "array([[1., 0., 0.],\n",
       "       [1., 0., 0.],\n",
       "       [1., 0., 0.]], dtype=float32)"
      ]
     },
     "execution_count": 42,
     "metadata": {},
     "output_type": "execute_result"
    }
   ],
   "source": [
    "y[:3]"
   ]
  },
  {
   "cell_type": "code",
   "execution_count": 48,
   "metadata": {
    "scrolled": false
   },
   "outputs": [
    {
     "name": "stderr",
     "output_type": "stream",
     "text": [
      "/Users/vladimiralencar/anaconda3/lib/python3.6/site-packages/sklearn/linear_model/logistic.py:432: FutureWarning: Default solver will be changed to 'lbfgs' in 0.22. Specify a solver to silence this warning.\n",
      "  FutureWarning)\n",
      "/Users/vladimiralencar/anaconda3/lib/python3.6/site-packages/sklearn/linear_model/logistic.py:459: FutureWarning: Default multi_class will be changed to 'auto' in 0.22. Specify the multi_class option to silence this warning.\n",
      "  \"this warning.\", FutureWarning)\n"
     ]
    },
    {
     "data": {
      "text/plain": [
       "LogisticRegression(C=1.0, class_weight=None, dual=False, fit_intercept=True,\n",
       "          intercept_scaling=1, max_iter=100, multi_class='warn',\n",
       "          n_jobs=None, penalty='l2', random_state=None, solver='warn',\n",
       "          tol=0.0001, verbose=0, warm_start=False)"
      ]
     },
     "execution_count": 48,
     "metadata": {},
     "output_type": "execute_result"
    }
   ],
   "source": [
    "import pandas as pd\n",
    "import io\n",
    "import requests\n",
    "import numpy as np\n",
    "import os\n",
    "from sklearn.model_selection import train_test_split\n",
    "from sklearn import metrics\n",
    "from sklearn.linear_model import LogisticRegression\n",
    "\n",
    "# Path\n",
    "path = \"\"\n",
    "    \n",
    "# Arquivo\n",
    "filename = os.path.join(path,\"iris.csv\")   \n",
    "\n",
    "# Leitura do arquivo em um dataframe\n",
    "df = pd.read_csv(filename,na_values=['NA','?'])\n",
    "\n",
    "# Encoding dos valores de texto para índices\n",
    "species = encode_text_index(df, \"variety\")\n",
    "\n",
    "# Não exibe numpy na notação científica\n",
    "#np.set_printoptions(precision=4)\n",
    "#np.set_printoptions(suppress=True)\n",
    "\n",
    "\n",
    "# Conversão do input\n",
    "#x,y = to_xy(df,\"variety\")\n",
    "x = df.iloc[:, :4]\n",
    "y = df.iloc[:, 4]\n",
    "\n",
    "# Divisão em dados de treino e de teste\n",
    "x_train, x_test, y_train, y_test = train_test_split(x, y, test_size = 0.25, random_state = 42)\n",
    "\n",
    "# Construindoo modelo\n",
    "model = LogisticRegression()\n",
    "\n",
    "\n",
    "# Fit do modelo\n",
    "model.fit(x_train, y_train) "
   ]
  },
  {
   "cell_type": "markdown",
   "metadata": {},
   "source": [
    "## Avaliando o Resultado da Classificação em Redes Neurais"
   ]
  },
  {
   "cell_type": "markdown",
   "metadata": {},
   "source": [
    "### Calculando a Acurácia de Classificação\n",
    " \n",
    "A Acurácia é o número de linhas onde a rede neural previu corretamente a classe alvo. A Acurácia é usada apenas para classificação, não regressão.\n",
    "\n",
    "$ accuracy = \\frac{\\textit{#} \\ correct}{N} $\n",
    "\n",
    "Onde $N$ é o tamanho do conjunto avaliado (treinamento ou validação). A Acurácia deve ser tão alta quanto possível."
   ]
  },
  {
   "cell_type": "code",
   "execution_count": 51,
   "metadata": {},
   "outputs": [
    {
     "name": "stdout",
     "output_type": "stream",
     "text": [
      "Accurácia: 1.0\n"
     ]
    }
   ],
   "source": [
    "from sklearn import metrics\n",
    "\n",
    "# Avaliando o resultado usando a Acurácia\n",
    "x_train, x_test, y_train, y_test = train_test_split(x, y, test_size = 0.30, random_state = 22)\n",
    "pred = model.predict(x_test)\n",
    "#pred = np.argmax(pred,axis = 1) \n",
    "y_compare = y_test\n",
    "score = metrics.accuracy_score(y_compare, pred)\n",
    "print(\"Accurácia: {}\".format(score))"
   ]
  },
  {
   "cell_type": "markdown",
   "metadata": {},
   "source": [
    "### Calculando o Log Loss de Classificação\n",
    "\n",
    "As redes neurais podem prever uma probabilidade de cada uma das classes alvo. As redes neurais darão probabilidades elevadas a previsões que são mais prováveis. O Log Loss é uma métrica de erro que penaliza a confiança em respostas erradas. Valores baixos de Log Loss são desejados.\n",
    "\n",
    "Para qualquer modelo scikit-learn, existem duas maneiras de obter uma previsão:\n",
    "\n",
    "* **predict** - No caso da saída de classificação, o id numérico da classe prevista. Para a regressão, isso é simplesmente a previsão.\n",
    "* **predict_proba** - No caso da classificação, a probabilidade de cada uma das classes. Não utilizado para regressão.\n",
    "\n",
    "O código a seguir mostra a saída de predict_proba:"
   ]
  },
  {
   "cell_type": "code",
   "execution_count": null,
   "metadata": {},
   "outputs": [],
   "source": [
    "from IPython.display import display\n",
    "\n",
    "# Não exibe numpy na notação científica\n",
    "np.set_printoptions(precision=4)\n",
    "np.set_printoptions(suppress=True)\n",
    "\n",
    "# Gerar previsões\n",
    "pred = model.predict(x_test)\n",
    "\n",
    "print(\"Array Numpy de Previsões\")\n",
    "print(pred[0]*100)\n",
    "\n",
    "print(\"Como Percentual de Probabilidade\")\n",
    "display(pred[0:5])\n",
    "\n",
    "score = metrics.log_loss(y_test, pred)\n",
    "print(\"Log loss score: {}\".format(score))"
   ]
  },
  {
   "cell_type": "markdown",
   "metadata": {},
   "source": [
    "Log loss é calculado assim:\n",
    "\n",
    "$ \\text{log loss} = -\\frac{1}{N}\\sum_{i=1}^N {( {y}_i\\log(\\hat{y}_i) + (1 - {y}_i)\\log(1 - \\hat{y}_i))} $"
   ]
  },
  {
   "cell_type": "markdown",
   "metadata": {},
   "source": [
    "# Avaliando o Resultado da Regressão em Redes Neurais"
   ]
  },
  {
   "cell_type": "markdown",
   "metadata": {},
   "source": [
    "# Avaliando Resultado de Regressão\n",
    "\n",
    "Os resultados da regressão são avaliados de forma diferente da classificação. Considere o seguinte código que treina uma rede neural para o conjunto de dados MPG."
   ]
  },
  {
   "cell_type": "code",
   "execution_count": 55,
   "metadata": {},
   "outputs": [
    {
     "name": "stdout",
     "output_type": "stream",
     "text": [
      "\u001b[31mArvoresDeDecisao-Carros.ipynb\u001b[m\u001b[m          \u001b[31mcar.data\u001b[m\u001b[m\r\n",
      "\u001b[31mFunçõesAuxiliares-encodeText.ipynb\u001b[m\u001b[m     \u001b[31miris.csv\u001b[m\u001b[m\r\n",
      "TratamentoDeDados.ipynb\r\n"
     ]
    }
   ],
   "source": [
    "!ls"
   ]
  },
  {
   "cell_type": "code",
   "execution_count": 54,
   "metadata": {},
   "outputs": [
    {
     "ename": "FileNotFoundError",
     "evalue": "File b'auto-mpg.csv' does not exist",
     "output_type": "error",
     "traceback": [
      "\u001b[0;31m---------------------------------------------------------------------------\u001b[0m",
      "\u001b[0;31mFileNotFoundError\u001b[0m                         Traceback (most recent call last)",
      "\u001b[0;32m<ipython-input-54-92d56fd3fe21>\u001b[0m in \u001b[0;36m<module>\u001b[0;34m()\u001b[0m\n\u001b[1;32m     14\u001b[0m \u001b[0;34m\u001b[0m\u001b[0m\n\u001b[1;32m     15\u001b[0m \u001b[0;31m# Dataframe\u001b[0m\u001b[0;34m\u001b[0m\u001b[0;34m\u001b[0m\u001b[0m\n\u001b[0;32m---> 16\u001b[0;31m \u001b[0mdf\u001b[0m \u001b[0;34m=\u001b[0m \u001b[0mpd\u001b[0m\u001b[0;34m.\u001b[0m\u001b[0mread_csv\u001b[0m\u001b[0;34m(\u001b[0m\u001b[0mfilename_read\u001b[0m\u001b[0;34m,\u001b[0m\u001b[0mna_values\u001b[0m\u001b[0;34m=\u001b[0m\u001b[0;34m[\u001b[0m\u001b[0;34m'NA'\u001b[0m\u001b[0;34m,\u001b[0m\u001b[0;34m'?'\u001b[0m\u001b[0;34m]\u001b[0m\u001b[0;34m)\u001b[0m\u001b[0;34m\u001b[0m\u001b[0m\n\u001b[0m\u001b[1;32m     17\u001b[0m \u001b[0;34m\u001b[0m\u001b[0m\n\u001b[1;32m     18\u001b[0m \u001b[0;31m# Limpeza e transformação\u001b[0m\u001b[0;34m\u001b[0m\u001b[0;34m\u001b[0m\u001b[0m\n",
      "\u001b[0;32m~/anaconda3/lib/python3.6/site-packages/pandas/io/parsers.py\u001b[0m in \u001b[0;36mparser_f\u001b[0;34m(filepath_or_buffer, sep, delimiter, header, names, index_col, usecols, squeeze, prefix, mangle_dupe_cols, dtype, engine, converters, true_values, false_values, skipinitialspace, skiprows, nrows, na_values, keep_default_na, na_filter, verbose, skip_blank_lines, parse_dates, infer_datetime_format, keep_date_col, date_parser, dayfirst, iterator, chunksize, compression, thousands, decimal, lineterminator, quotechar, quoting, escapechar, comment, encoding, dialect, tupleize_cols, error_bad_lines, warn_bad_lines, skipfooter, doublequote, delim_whitespace, low_memory, memory_map, float_precision)\u001b[0m\n\u001b[1;32m    676\u001b[0m                     skip_blank_lines=skip_blank_lines)\n\u001b[1;32m    677\u001b[0m \u001b[0;34m\u001b[0m\u001b[0m\n\u001b[0;32m--> 678\u001b[0;31m         \u001b[0;32mreturn\u001b[0m \u001b[0m_read\u001b[0m\u001b[0;34m(\u001b[0m\u001b[0mfilepath_or_buffer\u001b[0m\u001b[0;34m,\u001b[0m \u001b[0mkwds\u001b[0m\u001b[0;34m)\u001b[0m\u001b[0;34m\u001b[0m\u001b[0m\n\u001b[0m\u001b[1;32m    679\u001b[0m \u001b[0;34m\u001b[0m\u001b[0m\n\u001b[1;32m    680\u001b[0m     \u001b[0mparser_f\u001b[0m\u001b[0;34m.\u001b[0m\u001b[0m__name__\u001b[0m \u001b[0;34m=\u001b[0m \u001b[0mname\u001b[0m\u001b[0;34m\u001b[0m\u001b[0m\n",
      "\u001b[0;32m~/anaconda3/lib/python3.6/site-packages/pandas/io/parsers.py\u001b[0m in \u001b[0;36m_read\u001b[0;34m(filepath_or_buffer, kwds)\u001b[0m\n\u001b[1;32m    438\u001b[0m \u001b[0;34m\u001b[0m\u001b[0m\n\u001b[1;32m    439\u001b[0m     \u001b[0;31m# Create the parser.\u001b[0m\u001b[0;34m\u001b[0m\u001b[0;34m\u001b[0m\u001b[0m\n\u001b[0;32m--> 440\u001b[0;31m     \u001b[0mparser\u001b[0m \u001b[0;34m=\u001b[0m \u001b[0mTextFileReader\u001b[0m\u001b[0;34m(\u001b[0m\u001b[0mfilepath_or_buffer\u001b[0m\u001b[0;34m,\u001b[0m \u001b[0;34m**\u001b[0m\u001b[0mkwds\u001b[0m\u001b[0;34m)\u001b[0m\u001b[0;34m\u001b[0m\u001b[0m\n\u001b[0m\u001b[1;32m    441\u001b[0m \u001b[0;34m\u001b[0m\u001b[0m\n\u001b[1;32m    442\u001b[0m     \u001b[0;32mif\u001b[0m \u001b[0mchunksize\u001b[0m \u001b[0;32mor\u001b[0m \u001b[0miterator\u001b[0m\u001b[0;34m:\u001b[0m\u001b[0;34m\u001b[0m\u001b[0m\n",
      "\u001b[0;32m~/anaconda3/lib/python3.6/site-packages/pandas/io/parsers.py\u001b[0m in \u001b[0;36m__init__\u001b[0;34m(self, f, engine, **kwds)\u001b[0m\n\u001b[1;32m    785\u001b[0m             \u001b[0mself\u001b[0m\u001b[0;34m.\u001b[0m\u001b[0moptions\u001b[0m\u001b[0;34m[\u001b[0m\u001b[0;34m'has_index_names'\u001b[0m\u001b[0;34m]\u001b[0m \u001b[0;34m=\u001b[0m \u001b[0mkwds\u001b[0m\u001b[0;34m[\u001b[0m\u001b[0;34m'has_index_names'\u001b[0m\u001b[0;34m]\u001b[0m\u001b[0;34m\u001b[0m\u001b[0m\n\u001b[1;32m    786\u001b[0m \u001b[0;34m\u001b[0m\u001b[0m\n\u001b[0;32m--> 787\u001b[0;31m         \u001b[0mself\u001b[0m\u001b[0;34m.\u001b[0m\u001b[0m_make_engine\u001b[0m\u001b[0;34m(\u001b[0m\u001b[0mself\u001b[0m\u001b[0;34m.\u001b[0m\u001b[0mengine\u001b[0m\u001b[0;34m)\u001b[0m\u001b[0;34m\u001b[0m\u001b[0m\n\u001b[0m\u001b[1;32m    788\u001b[0m \u001b[0;34m\u001b[0m\u001b[0m\n\u001b[1;32m    789\u001b[0m     \u001b[0;32mdef\u001b[0m \u001b[0mclose\u001b[0m\u001b[0;34m(\u001b[0m\u001b[0mself\u001b[0m\u001b[0;34m)\u001b[0m\u001b[0;34m:\u001b[0m\u001b[0;34m\u001b[0m\u001b[0m\n",
      "\u001b[0;32m~/anaconda3/lib/python3.6/site-packages/pandas/io/parsers.py\u001b[0m in \u001b[0;36m_make_engine\u001b[0;34m(self, engine)\u001b[0m\n\u001b[1;32m   1012\u001b[0m     \u001b[0;32mdef\u001b[0m \u001b[0m_make_engine\u001b[0m\u001b[0;34m(\u001b[0m\u001b[0mself\u001b[0m\u001b[0;34m,\u001b[0m \u001b[0mengine\u001b[0m\u001b[0;34m=\u001b[0m\u001b[0;34m'c'\u001b[0m\u001b[0;34m)\u001b[0m\u001b[0;34m:\u001b[0m\u001b[0;34m\u001b[0m\u001b[0m\n\u001b[1;32m   1013\u001b[0m         \u001b[0;32mif\u001b[0m \u001b[0mengine\u001b[0m \u001b[0;34m==\u001b[0m \u001b[0;34m'c'\u001b[0m\u001b[0;34m:\u001b[0m\u001b[0;34m\u001b[0m\u001b[0m\n\u001b[0;32m-> 1014\u001b[0;31m             \u001b[0mself\u001b[0m\u001b[0;34m.\u001b[0m\u001b[0m_engine\u001b[0m \u001b[0;34m=\u001b[0m \u001b[0mCParserWrapper\u001b[0m\u001b[0;34m(\u001b[0m\u001b[0mself\u001b[0m\u001b[0;34m.\u001b[0m\u001b[0mf\u001b[0m\u001b[0;34m,\u001b[0m \u001b[0;34m**\u001b[0m\u001b[0mself\u001b[0m\u001b[0;34m.\u001b[0m\u001b[0moptions\u001b[0m\u001b[0;34m)\u001b[0m\u001b[0;34m\u001b[0m\u001b[0m\n\u001b[0m\u001b[1;32m   1015\u001b[0m         \u001b[0;32melse\u001b[0m\u001b[0;34m:\u001b[0m\u001b[0;34m\u001b[0m\u001b[0m\n\u001b[1;32m   1016\u001b[0m             \u001b[0;32mif\u001b[0m \u001b[0mengine\u001b[0m \u001b[0;34m==\u001b[0m \u001b[0;34m'python'\u001b[0m\u001b[0;34m:\u001b[0m\u001b[0;34m\u001b[0m\u001b[0m\n",
      "\u001b[0;32m~/anaconda3/lib/python3.6/site-packages/pandas/io/parsers.py\u001b[0m in \u001b[0;36m__init__\u001b[0;34m(self, src, **kwds)\u001b[0m\n\u001b[1;32m   1706\u001b[0m         \u001b[0mkwds\u001b[0m\u001b[0;34m[\u001b[0m\u001b[0;34m'usecols'\u001b[0m\u001b[0;34m]\u001b[0m \u001b[0;34m=\u001b[0m \u001b[0mself\u001b[0m\u001b[0;34m.\u001b[0m\u001b[0musecols\u001b[0m\u001b[0;34m\u001b[0m\u001b[0m\n\u001b[1;32m   1707\u001b[0m \u001b[0;34m\u001b[0m\u001b[0m\n\u001b[0;32m-> 1708\u001b[0;31m         \u001b[0mself\u001b[0m\u001b[0;34m.\u001b[0m\u001b[0m_reader\u001b[0m \u001b[0;34m=\u001b[0m \u001b[0mparsers\u001b[0m\u001b[0;34m.\u001b[0m\u001b[0mTextReader\u001b[0m\u001b[0;34m(\u001b[0m\u001b[0msrc\u001b[0m\u001b[0;34m,\u001b[0m \u001b[0;34m**\u001b[0m\u001b[0mkwds\u001b[0m\u001b[0;34m)\u001b[0m\u001b[0;34m\u001b[0m\u001b[0m\n\u001b[0m\u001b[1;32m   1709\u001b[0m \u001b[0;34m\u001b[0m\u001b[0m\n\u001b[1;32m   1710\u001b[0m         \u001b[0mpassed_names\u001b[0m \u001b[0;34m=\u001b[0m \u001b[0mself\u001b[0m\u001b[0;34m.\u001b[0m\u001b[0mnames\u001b[0m \u001b[0;32mis\u001b[0m \u001b[0;32mNone\u001b[0m\u001b[0;34m\u001b[0m\u001b[0m\n",
      "\u001b[0;32mpandas/_libs/parsers.pyx\u001b[0m in \u001b[0;36mpandas._libs.parsers.TextReader.__cinit__\u001b[0;34m()\u001b[0m\n",
      "\u001b[0;32mpandas/_libs/parsers.pyx\u001b[0m in \u001b[0;36mpandas._libs.parsers.TextReader._setup_parser_source\u001b[0;34m()\u001b[0m\n",
      "\u001b[0;31mFileNotFoundError\u001b[0m: File b'auto-mpg.csv' does not exist"
     ]
    }
   ],
   "source": [
    "from sklearn.model_selection import train_test_split\n",
    "import pandas as pd\n",
    "import os\n",
    "import numpy as np\n",
    "from sklearn import metrics\n",
    "from scipy.stats import zscore\n",
    "\n",
    "# Path\n",
    "#path = \"./data/\"\n",
    "path= ''\n",
    "\n",
    "# Arquivo\n",
    "filename_read = os.path.join(path,\"auto-mpg.csv\")\n",
    "\n",
    "# Dataframe\n",
    "df = pd.read_csv(filename_read,na_values=['NA','?'])\n",
    "\n",
    "# Limpeza e transformação\n",
    "cars = df['name']\n",
    "df.drop('name',1,inplace=True)\n",
    "missing_median(df, 'horsepower')\n",
    "x,y = to_xy(df,\"mpg\")\n",
    "\n",
    "# Split em treino/teste\n",
    "x_train, x_test, y_train, y_test = train_test_split(x, y, test_size = 0.25, random_state = 45)\n",
    "\n",
    "# Rede Neural\n",
    "model\n"
   ]
  },
  {
   "cell_type": "markdown",
   "metadata": {},
   "source": [
    "## R2  \n",
    "Essa métrica fornece uma indicação do nível de precisão das previsões em relação aos valores observados.<br />\n",
    "Também chamado de coeficiente de determinação.<br />\n",
    "Valores entre 0 e 1, sendo 1 o valor ideal."
   ]
  },
  {
   "cell_type": "code",
   "execution_count": null,
   "metadata": {},
   "outputs": [],
   "source": [
    "# Previsões\n",
    "pred = model.predict(x_test)\n",
    "\n",
    "# Medindo o MSE\n",
    "    score = metrics.r2_score(pred,y_test)\n",
    "print(\"Final score (MSE): {}\".format(score))"
   ]
  },
  {
   "cell_type": "code",
   "execution_count": null,
   "metadata": {},
   "outputs": [],
   "source": [
    "def r2_est(X,y):\n",
    "    return r2_score(y, modelo.fit(X,y).predict(X))"
   ]
  },
  {
   "cell_type": "code",
   "execution_count": null,
   "metadata": {},
   "outputs": [],
   "source": [
    "print ('R2: %0.3f' %  r2_est(X,y))"
   ]
  },
  {
   "cell_type": "markdown",
   "metadata": {},
   "source": [
    "### Mean Square Error\n",
    "\n",
    "O erro quadrático médio é a soma das diferenças quadradas entre a previsão ($\\hat{y}$) e o esperado ($y$). Os valores de MSE não são de uma unidade específica. Se um valor MSE diminuiu para um modelo, isso é bom. No entanto, além disso, não há muito mais que você possa determinar. São desejados valores de MSE baixos.\n",
    "\n",
    "$ \\text{MSE} = \\frac{1}{n} \\sum_{i=1}^n \\left(\\hat{y}_i - y_i\\right)^2 $\n"
   ]
  },
  {
   "cell_type": "code",
   "execution_count": 8,
   "metadata": {},
   "outputs": [
    {
     "name": "stdout",
     "output_type": "stream",
     "text": [
      "Final score (MSE): 9.729010581970215\n"
     ]
    }
   ],
   "source": [
    "# Previsões\n",
    "pred = model.predict(x_test)\n",
    "\n",
    "# Medindo o MSE\n",
    "score = metrics.mean_squared_error(pred,y_test)\n",
    "print(\"Final score (MSE): {}\".format(score))"
   ]
  },
  {
   "cell_type": "markdown",
   "metadata": {},
   "source": [
    "### Root Mean Square Error\n",
    "\n",
    "O quadrado médio da raiz (RMSE) é essencialmente a raiz quadrada do MSE. Por causa disso, o erro RMSE está nas mesmas unidades que o resultado dos dados de treinamento. São desejados valores RMSE baixos.\n",
    "\n",
    "$ \\text{MSE} = \\sqrt{\\frac{1}{n} \\sum_{i=1}^n \\left(\\hat{y}_i - y_i\\right)^2} $"
   ]
  },
  {
   "cell_type": "code",
   "execution_count": 9,
   "metadata": {},
   "outputs": [
    {
     "name": "stdout",
     "output_type": "stream",
     "text": [
      "Final score (RMSE): 3.119136095046997\n"
     ]
    }
   ],
   "source": [
    "# Medindo o RMSE\n",
    "score = np.sqrt(metrics.mean_squared_error(pred,y_test))\n",
    "print(\"Final score (RMSE): {}\".format(score))"
   ]
  },
  {
   "cell_type": "markdown",
   "metadata": {},
   "source": [
    "# Treinamento com Cross Validation\n",
    "\n",
    "A validação cruzada usa várias \"dobras\" (folds) e vários modelos, para gerar previsões de amostra em todo o conjunto de dados. É importante notar que haverá um modelo (rede neural) para cada dobra. Cada modelo contribui parte da previsão final fora da amostra.\n",
    "\n",
    "![K-Fold Crossvalidation](images/kfold.png \"K-Fold Crossvalidation\")\n",
    "\n",
    "Para novos dados, que são dados não presentes no conjunto de treinamento, as previsões dos modelos dos folds podem ser tratadas de várias maneiras.\n",
    "\n",
    "* Escolha o modelo que teve o maior resultado de validação como modelo final.\n",
    "* Predefinição de novos dados para os 5 modelos e média do resultado \n",
    "* Retome um novo modelo (usando as mesmas configurações que a validação cruzada) em todo o conjunto de dados. Treine para vários passos e com a mesma estrutura de camada oculta.\n",
    "\n",
    "O código a seguir treina o conjunto de dados MPG usando uma validação cruzada 5 vezes. O desempenho esperado de uma rede neural, do tipo treinado aqui, seria a pontuação para as previsões geradas fora da amostra."
   ]
  },
  {
   "cell_type": "code",
   "execution_count": 20,
   "metadata": {
    "scrolled": true
   },
   "outputs": [
    {
     "name": "stderr",
     "output_type": "stream",
     "text": [
      "/Users/vladimiralencar/anaconda3/lib/python3.6/site-packages/ipykernel_launcher.py:73: FutureWarning: Method .as_matrix will be removed in a future version. Use .values instead.\n"
     ]
    },
    {
     "name": "stdout",
     "output_type": "stream",
     "text": [
      "Fold #1\n",
      "Epoch 00138: early stopping\n",
      "Fold score (RMSE): 6.129571437835693\n",
      "Fold #2\n",
      "Epoch 00188: early stopping\n",
      "Fold score (RMSE): 5.734884738922119\n",
      "Fold #3\n",
      "Epoch 00282: early stopping\n",
      "Fold score (RMSE): 3.7726824283599854\n",
      "Fold #4\n",
      "Epoch 00337: early stopping\n",
      "Fold score (RMSE): 5.467793941497803\n",
      "Fold #5\n",
      "Epoch 00190: early stopping\n",
      "Fold score (RMSE): 4.5409369468688965\n",
      "Final Score (RMSE): 5.201064586639404\n"
     ]
    }
   ],
   "source": [
    "import pandas as pd\n",
    "import os\n",
    "import numpy as np\n",
    "from sklearn import metrics\n",
    "from scipy.stats import zscore\n",
    "from sklearn.model_selection import KFold\n",
    "from keras.models import Sequential\n",
    "from keras.layers.core import Dense, Activation\n",
    "\n",
    "# Path\n",
    "path = \"./data/\"\n",
    "\n",
    "# Arquivos\n",
    "filename_read = os.path.join(path,\"auto-mpg.csv\")\n",
    "filename_write = os.path.join(path,\"auto-mpg-saida.csv\")\n",
    "df = pd.read_csv(filename_read,na_values=['NA','?'])\n",
    "\n",
    "# Shuffle\n",
    "np.random.seed(42)\n",
    "df = df.reindex(np.random.permutation(df.index))\n",
    "df.reset_index(inplace=True, drop=True)\n",
    "\n",
    "# Preprocesso\n",
    "cars = df['name']\n",
    "df.drop('name',1,inplace=True)\n",
    "missing_median(df, 'horsepower')\n",
    "\n",
    "# Encode para uma matriz 2D \n",
    "x,y = to_xy(df,'mpg')\n",
    "\n",
    "# Cross validate\n",
    "kf = KFold(5)\n",
    "    \n",
    "oos_y = []\n",
    "oos_pred = []\n",
    "fold = 0\n",
    "\n",
    "# Treino\n",
    "for train, test in kf.split(x):\n",
    "    fold += 1\n",
    "    print(\"Fold #{}\".format(fold))\n",
    "        \n",
    "    x_train = x[train]\n",
    "    y_train = y[train]\n",
    "    x_test = x[test]\n",
    "    y_test = y[test]\n",
    "    \n",
    "    model = Sequential()\n",
    "    model.add(Dense(20, input_dim = x.shape[1], activation = 'relu'))\n",
    "    model.add(Dense(1, kernel_initializer = 'normal'))\n",
    "    model.compile(loss = 'mean_squared_error', optimizer = 'adam')\n",
    "    \n",
    "    monitor = EarlyStopping(monitor = 'val_loss', min_delta = 1e-3, patience = 5, verbose = 1, mode = 'auto')\n",
    "    model.fit(x_train, y_train,validation_data = (x_test,y_test), callbacks = [monitor], verbose = 0, epochs = 1000)\n",
    "    \n",
    "    pred = model.predict(x_test)\n",
    "    \n",
    "    oos_y.append(y_test)\n",
    "    oos_pred.append(pred)        \n",
    "\n",
    "    # Medindo o RMSE por Fold\n",
    "    score = np.sqrt(metrics.mean_squared_error(pred,y_test))\n",
    "    print(\"Fold score (RMSE): {}\".format(score))\n",
    "\n",
    "\n",
    "# Crie a lista de previsões e calcula o erro.\n",
    "oos_y = np.concatenate(oos_y)\n",
    "oos_pred = np.concatenate(oos_pred)\n",
    "score = np.sqrt(metrics.mean_squared_error(oos_pred,oos_y))\n",
    "print(\"Final Score (RMSE): {}\".format(score))    \n",
    "\n",
    "\n",
    "yy = oos_y\n",
    "ppred = oos_pred\n",
    "\n",
    "# Grava a previsão\n",
    "oos_y = pd.DataFrame(oos_y)\n",
    "oos_pred = pd.DataFrame(oos_pred)\n",
    "oosDF = pd.concat( [df, oos_y, oos_pred],axis=1 )\n",
    "oosDF.columns.values[len(oosDF.columns)-2] = 'y'\n",
    "oosDF.columns.values[len(oosDF.columns)-1] = 'y_pred'\n",
    "oosDF.to_csv(filename_write, index=False)\n",
    "#oosDF.head()"
   ]
  },
  {
   "cell_type": "code",
   "execution_count": 21,
   "metadata": {},
   "outputs": [
    {
     "data": {
      "text/html": [
       "<div>\n",
       "<style scoped>\n",
       "    .dataframe tbody tr th:only-of-type {\n",
       "        vertical-align: middle;\n",
       "    }\n",
       "\n",
       "    .dataframe tbody tr th {\n",
       "        vertical-align: top;\n",
       "    }\n",
       "\n",
       "    .dataframe thead th {\n",
       "        text-align: right;\n",
       "    }\n",
       "</style>\n",
       "<table border=\"1\" class=\"dataframe\">\n",
       "  <thead>\n",
       "    <tr style=\"text-align: right;\">\n",
       "      <th></th>\n",
       "      <th>mpg</th>\n",
       "      <th>cylinders</th>\n",
       "      <th>displacement</th>\n",
       "      <th>horsepower</th>\n",
       "      <th>weight</th>\n",
       "      <th>acceleration</th>\n",
       "      <th>year</th>\n",
       "      <th>origin</th>\n",
       "      <th>y</th>\n",
       "      <th>y_pred</th>\n",
       "    </tr>\n",
       "  </thead>\n",
       "  <tbody>\n",
       "    <tr>\n",
       "      <th>0</th>\n",
       "      <td>33.0</td>\n",
       "      <td>4</td>\n",
       "      <td>91.0</td>\n",
       "      <td>53.0</td>\n",
       "      <td>1795</td>\n",
       "      <td>17.4</td>\n",
       "      <td>76</td>\n",
       "      <td>3</td>\n",
       "      <td>33.0</td>\n",
       "      <td>23.136301</td>\n",
       "    </tr>\n",
       "    <tr>\n",
       "      <th>1</th>\n",
       "      <td>28.0</td>\n",
       "      <td>4</td>\n",
       "      <td>120.0</td>\n",
       "      <td>79.0</td>\n",
       "      <td>2625</td>\n",
       "      <td>18.6</td>\n",
       "      <td>82</td>\n",
       "      <td>1</td>\n",
       "      <td>28.0</td>\n",
       "      <td>28.267159</td>\n",
       "    </tr>\n",
       "    <tr>\n",
       "      <th>2</th>\n",
       "      <td>19.0</td>\n",
       "      <td>6</td>\n",
       "      <td>232.0</td>\n",
       "      <td>100.0</td>\n",
       "      <td>2634</td>\n",
       "      <td>13.0</td>\n",
       "      <td>71</td>\n",
       "      <td>1</td>\n",
       "      <td>19.0</td>\n",
       "      <td>11.791639</td>\n",
       "    </tr>\n",
       "    <tr>\n",
       "      <th>3</th>\n",
       "      <td>13.0</td>\n",
       "      <td>8</td>\n",
       "      <td>318.0</td>\n",
       "      <td>150.0</td>\n",
       "      <td>3940</td>\n",
       "      <td>13.2</td>\n",
       "      <td>76</td>\n",
       "      <td>1</td>\n",
       "      <td>13.0</td>\n",
       "      <td>15.143261</td>\n",
       "    </tr>\n",
       "    <tr>\n",
       "      <th>4</th>\n",
       "      <td>14.0</td>\n",
       "      <td>8</td>\n",
       "      <td>318.0</td>\n",
       "      <td>150.0</td>\n",
       "      <td>4237</td>\n",
       "      <td>14.5</td>\n",
       "      <td>73</td>\n",
       "      <td>1</td>\n",
       "      <td>14.0</td>\n",
       "      <td>17.241243</td>\n",
       "    </tr>\n",
       "  </tbody>\n",
       "</table>\n",
       "</div>"
      ],
      "text/plain": [
       "    mpg  cylinders  displacement  horsepower  weight  acceleration  year  \\\n",
       "0  33.0          4          91.0        53.0    1795          17.4    76   \n",
       "1  28.0          4         120.0        79.0    2625          18.6    82   \n",
       "2  19.0          6         232.0       100.0    2634          13.0    71   \n",
       "3  13.0          8         318.0       150.0    3940          13.2    76   \n",
       "4  14.0          8         318.0       150.0    4237          14.5    73   \n",
       "\n",
       "   origin     y     y_pred  \n",
       "0       3  33.0  23.136301  \n",
       "1       1  28.0  28.267159  \n",
       "2       1  19.0  11.791639  \n",
       "3       1  13.0  15.143261  \n",
       "4       1  14.0  17.241243  "
      ]
     },
     "execution_count": 21,
     "metadata": {},
     "output_type": "execute_result"
    }
   ],
   "source": [
    "oosDF.columns\n",
    "oosDF.head()"
   ]
  },
  {
   "cell_type": "code",
   "execution_count": 39,
   "metadata": {},
   "outputs": [
    {
     "data": {
      "text/plain": [
       "(pandas.core.frame.DataFrame, pandas.core.frame.DataFrame)"
      ]
     },
     "execution_count": 39,
     "metadata": {},
     "output_type": "execute_result"
    }
   ],
   "source": [
    "type(oos_y), type(oos_pred)"
   ]
  },
  {
   "cell_type": "code",
   "execution_count": 46,
   "metadata": {},
   "outputs": [
    {
     "data": {
      "text/plain": [
       "array([23.1363, 28.2672, 11.7916, 15.1433, 17.2412, 26.2572, 28.1069,\n",
       "        8.328 , 22.4392, 18.7949,  5.3899, 26.2653, 24.2895, 15.8712,\n",
       "       22.9457, 15.5214, 29.0643, 28.8015,  8.0387, 26.6546, 25.4644,\n",
       "       17.9269, 16.4047, 25.7304, 10.5225, 26.5813, 27.3533, 24.3441,\n",
       "       17.4825, 12.419 , 27.0113, 24.5863,  9.8247, 25.8803, 27.0749,\n",
       "       10.7776, 21.9485, 12.651 , 19.7956, 26.8156, 22.8497, 22.0022,\n",
       "       30.8949, 18.1282, 26.849 , 25.1763, 23.7858, 29.3127, 27.4441,\n",
       "       27.3763, 21.3085, 26.3936, 26.9659,  9.6181, 23.0728,  8.7374,\n",
       "        9.8757, 27.7539, 20.8484, 18.7858,  9.5217, 22.967 , 24.4448,\n",
       "       30.3924, 19.119 , 25.1158, 25.4771, 25.099 , 25.5285, 16.0946,\n",
       "       25.2955, 19.6277,  4.8117, 11.6508, 24.4156, 16.3948, 18.8417,\n",
       "       29.877 , 24.6359, 15.616 , 12.3767, 25.8857, 28.868 , 26.0558,\n",
       "       28.6751,  9.1556, 28.9309, 29.6852, 28.1389, 10.3305, 10.2339,\n",
       "       33.0341, 24.2449, 27.1186, 26.9092, 26.7248, 26.6151, 20.8784,\n",
       "       25.8243, 15.8673, 24.362 , 27.4087, 18.7612, 14.3966, 19.1751,\n",
       "        4.056 , 23.5572, 17.0737, 27.4288, 29.0389, 28.1265, 28.1702,\n",
       "       19.6907, 28.1567, 28.1959, 23.3726, 26.5859, 22.36  , 28.0467,\n",
       "       29.8736, 15.4504, 23.2796, 17.2719, 23.4213, 17.7496, 26.402 ,\n",
       "       28.0988, 27.956 , 27.9066, 29.642 , 28.1627, 27.6326, 29.6726,\n",
       "       19.3592, 27.3694, 18.534 , 16.8251, 27.5711, 26.0516, 27.7798,\n",
       "       16.8253, 21.9112, 13.7262, 17.0517, 18.8328, 27.5554, 27.319 ,\n",
       "       29.3188, 25.4507, 27.9102,  2.9507, 12.8721, 28.912 , 27.5973,\n",
       "        4.7246, 28.4894, 13.3133, 27.7841, 23.6439, 26.5055, 29.5368,\n",
       "       22.6564, 29.1291, 21.5144, 16.3426, 18.6991, 22.5624, 28.1823,\n",
       "       25.3162, 14.354 , 13.7469, 23.4137, 13.962 , 27.3343, 29.5417,\n",
       "       21.9538, 23.3915, 13.9242, 23.0753, 20.7136, 31.3757, 24.0081,\n",
       "        9.0975, 19.274 , 28.9439, 30.2597, 25.7335, 25.3663, 23.3806,\n",
       "       27.3031, 29.3434, 16.5638, 28.747 , 29.0431, 26.5737, 17.8796,\n",
       "       23.3839, 29.0997, 28.3896, 30.1442, 27.0698, 26.9072, 26.6205,\n",
       "       30.4427, 13.2255, 13.5803, 33.4481, 28.2266, 31.0571, 26.2827,\n",
       "       25.0617, 28.3978, 25.107 , 30.7625, 25.8459, 28.2715, 32.3042,\n",
       "       20.6059, 29.4205, 22.3192, 33.0774, 17.1512, 24.5   , 22.7291,\n",
       "       29.3908, 28.9232, 15.4037, 30.5749, 15.6154, 16.9318, 29.9208,\n",
       "       11.868 , 23.7971, 26.9597, 18.8699, 32.7361, 29.6371, 27.7054,\n",
       "       28.3299, 22.8768, 14.6274, 28.8822, 28.2808, 26.9509, 29.7085,\n",
       "       18.442 , 31.5   , 25.1726, 15.5302, 29.5256, 25.0879, 14.8474,\n",
       "        8.1982, 21.6259, 12.271 , 29.3728, 15.4802, 28.5769, 28.8098,\n",
       "       11.2898,  7.67  , 15.2886, 20.2284, 24.5552, 28.8959, 30.1843,\n",
       "       26.4672, 16.4211, 11.5219, 29.6659, 28.4908, 21.282 , 30.0996,\n",
       "       26.6716, 13.8937, 29.5436, 22.2777, 20.0847, 17.4863, 14.261 ,\n",
       "       19.5145, 29.7196, 15.6593, 19.3243, 25.2412, 12.405 , 25.6991,\n",
       "       17.0151, 16.7898, 25.9109, 15.2281, 29.9392, 27.1167, 15.5215,\n",
       "       31.7225, 20.472 , 28.7888, 15.3013, 20.8083, 16.0989, 17.4661,\n",
       "       26.708 , 14.006 , 13.0465, 18.113 , 16.7787, 11.6802, 14.2875,\n",
       "       18.2118, 27.0357,  9.949 , 12.0822, 12.5783, 31.168 , 29.7547,\n",
       "       29.1584, 30.517 , 25.0527, 26.7666, 13.8364, 27.5275, 27.9217,\n",
       "       16.2806, 25.1248, 21.2472, 30.2964, 26.5741, 18.4986, 18.5983,\n",
       "        8.5201, 26.1323, 12.8891, 28.3692, 21.6289, 12.0703, 28.6204,\n",
       "       11.2021, 23.5051, 24.3559, 28.1765, 18.1802, 21.7532,  8.3986,\n",
       "       25.3374, 26.1061, 15.8603, 25.9544,  6.1768, 26.2308, 15.0531,\n",
       "       27.7967, 14.735 , 26.7306, 25.8086, 17.8144, 23.445 , 28.9205,\n",
       "       28.2195, 29.9812, 28.4434, 24.6576, 22.4595, 15.0682, 25.4353,\n",
       "       15.5214, 18.9485, 26.0184, 15.6166, 28.882 , 28.9752, 21.0064,\n",
       "       25.06  , 25.2739, 20.7143, 27.9588, 19.562 , 28.2706, 30.4528,\n",
       "       19.8374, 24.0737, 26.4791, 24.897 , 27.7164, 27.5033, 18.3096,\n",
       "       26.3126, 11.7884, 30.6017, 15.8801, 13.5713, 28.4952, 25.545 ,\n",
       "       15.0464, 28.5571, 12.9836, 26.7   , 30.0459, 26.7443],\n",
       "      dtype=float32)"
      ]
     },
     "execution_count": 46,
     "metadata": {},
     "output_type": "execute_result"
    }
   ],
   "source": [
    "oos_pred[0].values"
   ]
  },
  {
   "cell_type": "code",
   "execution_count": 43,
   "metadata": {},
   "outputs": [
    {
     "data": {
      "text/html": [
       "<div>\n",
       "<style scoped>\n",
       "    .dataframe tbody tr th:only-of-type {\n",
       "        vertical-align: middle;\n",
       "    }\n",
       "\n",
       "    .dataframe tbody tr th {\n",
       "        vertical-align: top;\n",
       "    }\n",
       "\n",
       "    .dataframe thead th {\n",
       "        text-align: right;\n",
       "    }\n",
       "</style>\n",
       "<table border=\"1\" class=\"dataframe\">\n",
       "  <thead>\n",
       "    <tr style=\"text-align: right;\">\n",
       "      <th></th>\n",
       "      <th>0</th>\n",
       "    </tr>\n",
       "  </thead>\n",
       "  <tbody>\n",
       "    <tr>\n",
       "      <th>0</th>\n",
       "      <td>33.0</td>\n",
       "    </tr>\n",
       "    <tr>\n",
       "      <th>1</th>\n",
       "      <td>28.0</td>\n",
       "    </tr>\n",
       "    <tr>\n",
       "      <th>2</th>\n",
       "      <td>19.0</td>\n",
       "    </tr>\n",
       "    <tr>\n",
       "      <th>3</th>\n",
       "      <td>13.0</td>\n",
       "    </tr>\n",
       "    <tr>\n",
       "      <th>4</th>\n",
       "      <td>14.0</td>\n",
       "    </tr>\n",
       "  </tbody>\n",
       "</table>\n",
       "</div>"
      ],
      "text/plain": [
       "      0\n",
       "0  33.0\n",
       "1  28.0\n",
       "2  19.0\n",
       "3  13.0\n",
       "4  14.0"
      ]
     },
     "execution_count": 43,
     "metadata": {},
     "output_type": "execute_result"
    }
   ],
   "source": [
    "oos_y[:5]"
   ]
  },
  {
   "cell_type": "code",
   "execution_count": 44,
   "metadata": {},
   "outputs": [
    {
     "data": {
      "text/plain": [
       "pandas.core.frame.DataFrame"
      ]
     },
     "execution_count": 44,
     "metadata": {},
     "output_type": "execute_result"
    }
   ],
   "source": [
    "type(oos_y)"
   ]
  },
  {
   "cell_type": "code",
   "execution_count": 48,
   "metadata": {},
   "outputs": [],
   "source": [
    "# Chart de Regressão\n",
    "def chart_regression2(pred,y,sort=True):\n",
    "    t = pd.DataFrame({'pred' : pred, 'y' : y.flatten() })  # y.flatten()\n",
    "    if sort:\n",
    "        t.sort_values(by=['y'],inplace=True)\n",
    "    a = plt.plot(t['y'].tolist(),label='expected')\n",
    "    b = plt.plot(t['pred'].tolist(),label='prediction')\n",
    "    plt.ylabel('output')\n",
    "    plt.legend()\n",
    "    plt.show()"
   ]
  },
  {
   "cell_type": "code",
   "execution_count": 51,
   "metadata": {},
   "outputs": [
    {
     "data": {
      "image/png": "[encoded data removed]",
      "text/plain": [
       "<Figure size 432x288 with 1 Axes>"
      ]
     },
     "metadata": {},
     "output_type": "display_data"
    }
   ],
   "source": [
    "chart_regression2(oos_pred[0].values, oos_y[0].values, sort=True)"
   ]
  },
  {
   "cell_type": "markdown",
   "metadata": {
    "collapsed": true
   },
   "source": [
    "# Fim"
   ]
  }
 ],
 "metadata": {
  "anaconda-cloud": {},
  "kernelspec": {
   "display_name": "Python 3",
   "language": "python",
   "name": "python3"
  },
  "language_info": {
   "codemirror_mode": {
    "name": "ipython",
    "version": 3
   },
   "file_extension": ".py",
   "mimetype": "text/x-python",
   "name": "python",
   "nbconvert_exporter": "python",
   "pygments_lexer": "ipython3",
   "version": "3.8.5"
  }
 },
 "nbformat": 4,
 "nbformat_minor": 1
}
