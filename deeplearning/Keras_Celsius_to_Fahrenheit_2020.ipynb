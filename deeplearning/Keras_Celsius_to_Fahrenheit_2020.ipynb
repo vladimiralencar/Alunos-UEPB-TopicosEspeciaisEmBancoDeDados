{
 "cells": [
  {
   "cell_type": "markdown",
   "metadata": {
    "colab_type": "text",
    "id": "view-in-github"
   },
   "source": [
    "<a href=\"https://colab.research.google.com/github/vladimiralencar/Alunos-UEPB-TopicosEspeciaisEmBancoDeDados/blob/master/deeplearning/Keras_Celsius_to_Fahrenheit_2020.ipynb\" target=\"_parent\"><img src=\"https://colab.research.google.com/assets/colab-badge.svg\" alt=\"Open In Colab\"/></a>"
   ]
  },
  {
   "cell_type": "markdown",
   "metadata": {
    "id": "YHI3vyhv5p85"
   },
   "source": [
    "# Treinando um modelo simples usando Keras"
   ]
  },
  {
   "cell_type": "markdown",
   "metadata": {
    "id": "F8YVA_634OFk"
   },
   "source": [
    "O problema é converter de Graus  Celsius para Fahrenheit,  a  fórmula é:\n",
    "\n",
    "$$ f = c \\times 1.8 + 32 $$\n",
    "\n",
    "\n",
    "No nosso caso, vamos informar valores em Celsius  (0, 8, 15, 22, 38) and seus correspondenets em Fahrenheit (32, 46, 59, 72, 100).\n",
    "\n",
    "Então, vamos treinar o modelo para \"APRENDER\" A fórmula acima."
   ]
  },
  {
   "cell_type": "markdown",
   "metadata": {
    "id": "HKWOTGDN9-fJ"
   },
   "source": [
    "![alt text](https://raw.githubusercontent.com/vladimiralencar/Alunos-UEPB-TopicosEspeciaisEmBancoDeDados/master/deeplearning/data/temperatures.png)"
   ]
  },
  {
   "cell_type": "markdown",
   "metadata": {
    "id": "fA93WUy1zzWf"
   },
   "source": [
    "## Importando dependências e bibliotecas\n"
   ]
  },
  {
   "cell_type": "code",
   "execution_count": 2,
   "metadata": {
    "id": "X9uIpOS2zx7k"
   },
   "outputs": [],
   "source": [
    "from __future__ import absolute_import, division, print_function, unicode_literals\n",
    "import tensorflow as tf\n",
    "\n",
    "import numpy as np\n",
    "import logging\n",
    "logger = tf.get_logger()\n",
    "logger.setLevel(logging.ERROR)"
   ]
  },
  {
   "cell_type": "markdown",
   "metadata": {
    "id": "AC3EQFi20buB"
   },
   "source": [
    "##  dados de treino\n",
    "\n",
    "temperaturas em Graus Celsius e Graus Fahrenheit"
   ]
  },
  {
   "cell_type": "code",
   "execution_count": 3,
   "metadata": {
    "colab": {
     "base_uri": "https://localhost:8080/"
    },
    "id": "gg4pn6aI1vms",
    "outputId": "17ac368d-1ed0-4c8f-d48a-97060cf10664"
   },
   "outputs": [
    {
     "name": "stdout",
     "output_type": "stream",
     "text": [
      "-40.0 Graus Celsius = -40.0 Graus Fahrenheit\n",
      "-10.0 Graus Celsius = 14.0 Graus Fahrenheit\n",
      "0.0 Graus Celsius = 32.0 Graus Fahrenheit\n",
      "8.0 Graus Celsius = 46.0 Graus Fahrenheit\n",
      "15.0 Graus Celsius = 59.0 Graus Fahrenheit\n",
      "22.0 Graus Celsius = 72.0 Graus Fahrenheit\n",
      "38.0 Graus Celsius = 100.0 Graus Fahrenheit\n"
     ]
    }
   ],
   "source": [
    "celsius_q    = np.array([-40, -10,  0,  8, 15, 22,  38],  dtype=float)\n",
    "fahrenheit_a = np.array([-40,  14, 32, 46, 59, 72, 100],  dtype=float)\n",
    "\n",
    "for i,c in enumerate(celsius_q):\n",
    "  print(\"{} Graus Celsius = {} Graus Fahrenheit\".format(c, fahrenheit_a[i]))"
   ]
  },
  {
   "cell_type": "markdown",
   "metadata": {
    "id": "VM7_9Klvq7MO"
   },
   "source": [
    "## Criando o modelo \n",
    "\n",
    "\n",
    "### Construindo camadas\n",
    "\n",
    "\n",
    "Parâmetros de configuração:\n",
    "\n",
    "\n",
    "*   `input_shape=[1]` — O shape dos dados de entrada. No nosso exemplo, o tamanho é igual a 1 (Uma temperatura em Graus Celsius)\n",
    "\n",
    "\n",
    "*   `units=1` — O Número de neurônios da camada. (Colocamos somente 1 neurônio, mas, dependendo do problema, podemos variar 10, 100, 1000 neurônioas, etc)\n",
    "\n"
   ]
  },
  {
   "cell_type": "code",
   "execution_count": 4,
   "metadata": {
    "id": "pRllo2HLfXiu"
   },
   "outputs": [],
   "source": [
    "layer0 = tf.keras.layers.Dense(units=1, input_shape=[1])  "
   ]
  },
  {
   "cell_type": "markdown",
   "metadata": {
    "id": "_F00_J9duLBD"
   },
   "source": [
    "### Construindo Layers (camadas) no modelo\n",
    "\n",
    "\n",
    "Este modelo tem somente uma camada ou  layer (layer0)"
   ]
  },
  {
   "cell_type": "code",
   "execution_count": 5,
   "metadata": {
    "id": "cSp-GpLSuMRq"
   },
   "outputs": [],
   "source": [
    "model = tf.keras.Sequential([layer0])"
   ]
  },
  {
   "cell_type": "markdown",
   "metadata": {
    "id": "kiZG7uhm8qCF"
   },
   "source": [
    "## Compilar o modelo, com o loss (função de peda) and função de otimização\n",
    ":\n",
    "\n",
    "- **Loss function** — Função de perda - Forma de medir o quanto as previsões estão próximas dos resultados ( y  e ypred).  Essa diferença é chamada de perda, função de custo ou \"loss\"\n",
    "\n",
    "- **Optimizer function** — A forma de adjustar o pesos internos com o objetivo de reduzir a perda\n",
    "\n"
   ]
  },
  {
   "cell_type": "code",
   "execution_count": 6,
   "metadata": {
    "id": "m8YQN1H41L-Y"
   },
   "outputs": [],
   "source": [
    "model.compile(loss='mean_squared_error',\n",
    "              optimizer=tf.keras.optimizers.Adam(0.1))"
   ]
  },
  {
   "cell_type": "markdown",
   "metadata": {
    "id": "17M3Pqv4P52R"
   },
   "source": [
    "\n",
    "\n",
    "A função de perda -  loss function ([mean squared error](https://en.wikipedia.org/wiki/Mean_squared_error)) e o otimizador  ([Adam](https://machinelearningmastery.com/adam-optimization-algorithm-for-deep-learning/)) foram usados neste modelo. \n",
    "\n",
    "Precisamento definir no Otimizador, a taxa de aprendizado (learning rate), valor 0.1 acima.\n",
    "Se a taxa de aprendizagem é muito pequena, o modelo precisará de muitas iterações para treinar o modelo. Se for muito grande, poderá ter uma acurácia menor.\n",
    "Um bom valor de learning rate necessita de tentativa e erro, mas é muito comum um valor entre 0.001 (default) e 0.1.\n"
   ]
  },
  {
   "cell_type": "markdown",
   "metadata": {
    "id": "c-Jk4dG91dvD"
   },
   "source": [
    "## Treinando o modelo\n",
    "\n",
    "Train the model by calling the `fit` method. \n",
    "\n",
    "No treinamento do modelo, são encontrando os pesos (weights).\n",
    "Inicialmente os pesos são inicializados randomicamente. A diferença entre a saída atual (y_previsto) e a saída desejada (y) é calculada usando a função de perda (loss function), e o otimizador acha quais os pesos ideais.\n",
    "\n",
    "Este ciclo de calcular, comparar e ajustar os pesos é controlado pelo método `fit`.\n",
    "\n",
    "As épocas (`epochs`) es.pecifica quantas vezes vamos integir como todo o conjunto de dados de entrada (X).\n"
   ]
  },
  {
   "cell_type": "code",
   "execution_count": 7,
   "metadata": {
    "colab": {
     "base_uri": "https://localhost:8080/"
    },
    "id": "lpRrl7WK10Pq",
    "outputId": "7619cbc7-76ca-4685-ae2f-1857dadc6116"
   },
   "outputs": [
    {
     "name": "stdout",
     "output_type": "stream",
     "text": [
      "Finished training the model\n"
     ]
    }
   ],
   "source": [
    "history = model.fit(celsius_q, fahrenheit_a, epochs=500, verbose=False)\n",
    "print(\"Finished training the model\")"
   ]
  },
  {
   "cell_type": "code",
   "execution_count": null,
   "metadata": {
    "id": "ZgD5G6dQDwXo"
   },
   "outputs": [],
   "source": [
    "#history.history['loss']"
   ]
  },
  {
   "cell_type": "markdown",
   "metadata": {
    "id": "0-QsNCLD4MJZ"
   },
   "source": [
    "## Display training statistics\n",
    "\n",
    "O métido  `fit` retorna um objeto 'history' que contem o erro (loss) de cada época de treinamento.\n",
    "\n",
    "\n",
    "\n"
   ]
  },
  {
   "cell_type": "code",
   "execution_count": 8,
   "metadata": {
    "colab": {
     "base_uri": "https://localhost:8080/",
     "height": 296
    },
    "id": "IeK6BzfbdO6_",
    "outputId": "784470be-288c-4942-daaf-387956757837"
   },
   "outputs": [
    {
     "data": {
      "text/plain": [
       "[<matplotlib.lines.Line2D at 0x7fe88650a390>]"
      ]
     },
     "execution_count": 8,
     "metadata": {
      "tags": []
     },
     "output_type": "execute_result"
    },
    {
     "data": {
      "image/png": "[encoded data removed]",
      "text/plain": [
       "<Figure size 432x288 with 1 Axes>"
      ]
     },
     "metadata": {
      "needs_background": "light",
      "tags": []
     },
     "output_type": "display_data"
    }
   ],
   "source": [
    "import matplotlib.pyplot as plt\n",
    "plt.xlabel('Epoch Number')\n",
    "plt.ylabel(\"Loss Magnitude\")\n",
    "plt.plot(history.history['loss'])"
   ]
  },
  {
   "cell_type": "markdown",
   "metadata": {
    "id": "LtQGDMob5LOD"
   },
   "source": [
    "## Usando o modelo prever novos valores\n"
   ]
  },
  {
   "cell_type": "code",
   "execution_count": 8,
   "metadata": {
    "colab": {
     "base_uri": "https://localhost:8080/"
    },
    "id": "oxNzL4lS2Gui",
    "outputId": "f7e837a0-204d-4fe3-b19d-928039a4fc55"
   },
   "outputs": [
    {
     "name": "stdout",
     "output_type": "stream",
     "text": [
      "211.30986\n"
     ]
    }
   ],
   "source": [
    "print(model.predict([100.0])[0][0])"
   ]
  },
  {
   "cell_type": "markdown",
   "metadata": {
    "id": "jApk6tZ1fBg1"
   },
   "source": [
    "A resposta correta é $100 \\times 1.8 + 32 = 212$, e nosso modelo preveu o valor de 211.7474 (erro de 0.2526, muito próximo)\n"
   ]
  },
  {
   "cell_type": "markdown",
   "metadata": {
    "id": "zRrOky5gm20Z"
   },
   "source": [
    "## a Matriz de pesos (layer weights)\n"
   ]
  },
  {
   "cell_type": "code",
   "execution_count": 9,
   "metadata": {
    "colab": {
     "base_uri": "https://localhost:8080/"
    },
    "id": "kmIkVdkbnZJI",
    "outputId": "ad148245-0edc-431f-cde6-94f999873682"
   },
   "outputs": [
    {
     "name": "stdout",
     "output_type": "stream",
     "text": [
      "Matriz de pesos: [array([[1.8243408]], dtype=float32), array([28.875776], dtype=float32)]\n"
     ]
    }
   ],
   "source": [
    "print(\"Matriz de pesos: {}\".format(layer0.get_weights()))"
   ]
  },
  {
   "cell_type": "markdown",
   "metadata": {
    "id": "RSplSnMvnWC-"
   },
   "source": [
    "A primeira variável está próxima a  ~1.8 e a segunda a  ~32. Esses valores (1.8 and 32) são os valores reais da fórmula de conversão.\n",
    "\n",
    "Fórmula $y = mx + b$, onde, $f = 1.8c + 32$.\n",
    "Fórmula aprendida $f = 1.820181c + 29.3202$.\n",
    "\n",
    "\n",
    "### Melhorando a previsão\n",
    "\n",
    "Vamos colocar mais camadas, para tentar melhorar a precisão."
   ]
  },
  {
   "cell_type": "code",
   "execution_count": 10,
   "metadata": {
    "colab": {
     "base_uri": "https://localhost:8080/"
    },
    "id": "Y2zTA-rDS5Xk",
    "outputId": "248b2f7e-007a-49a9-fe2e-ac5bf0734d20"
   },
   "outputs": [
    {
     "name": "stdout",
     "output_type": "stream",
     "text": [
      "Treinamento concluído\n",
      "Temperatura Prevista: 211.74745\n",
      "\n",
      "\n",
      "pesos da camada l0: [array([[-0.5861853 , -0.21256717, -0.17139475, -0.3116893 ]],\n",
      "      dtype=float32), array([-2.9491332, -1.2357405, -2.6428688, -2.8782976], dtype=float32)]\n",
      "pesos da camada l1: [array([[ 0.01035738, -0.70095974,  0.4773669 , -0.7911477 , -0.16266397,\n",
      "        -0.06108572, -0.16794494,  0.04849367,  0.06312281, -0.3459729 ],\n",
      "       [-0.5324648 , -0.2000327 , -0.35457993, -0.34840247, -0.03788486,\n",
      "         0.01242613,  0.0759638 ,  0.1388766 , -0.05576927,  0.1913226 ],\n",
      "       [-0.29446635,  0.08213317, -0.10632511, -0.329974  , -0.570219  ,\n",
      "        -0.6936071 , -0.6137196 ,  0.21637693,  0.457239  , -0.1975312 ],\n",
      "       [ 0.20844427, -0.3462187 , -0.2108841 , -0.6138668 , -0.5508317 ,\n",
      "         0.22877054, -0.24221149,  0.11067473, -0.18888864,  0.63265526]],\n",
      "      dtype=float32), array([ 0.17982233,  2.9007921 ,  2.5567343 ,  2.9007487 ,  2.863331  ,\n",
      "        2.0997658 ,  2.8537807 , -2.278997  , -2.5552776 ,  0.03496666],\n",
      "      dtype=float32)]\n",
      "pesos da camada l2: [array([[-0.05369399],\n",
      "       [ 0.6824062 ],\n",
      "       [ 0.28929868],\n",
      "       [ 0.96482265],\n",
      "       [ 1.0269488 ],\n",
      "       [ 0.5440699 ],\n",
      "       [ 0.74463916],\n",
      "       [-0.4111412 ],\n",
      "       [-0.6836828 ],\n",
      "       [ 0.1139091 ]], dtype=float32), array([2.8488176], dtype=float32)]\n"
     ]
    }
   ],
   "source": [
    "l0 = tf.keras.layers.Dense(units=4, input_shape=[1])  \n",
    "l1 = tf.keras.layers.Dense(units=10)   \n",
    "l2 = tf.keras.layers.Dense(units=1) \n",
    "model = tf.keras.Sequential([l0, l1, l2])\n",
    "model.compile(loss='mean_squared_error', optimizer=tf.keras.optimizers.Adam(0.1))\n",
    "model.fit(celsius_q, fahrenheit_a, epochs=600, verbose=False)\n",
    "print(\"Treinamento concluído\")\n",
    "print('Temperatura Prevista:',model.predict([100.0])[0][0])\n",
    "print()\n",
    "print()\n",
    "print(\"pesos da camada l0: {}\".format(l0.get_weights()))\n",
    "print(\"pesos da camada l1: {}\".format(l1.get_weights()))\n",
    "print(\"pesos da camada l2: {}\".format(l2.get_weights()))"
   ]
  }
 ],
 "metadata": {
  "accelerator": "GPU",
  "colab": {
   "collapsed_sections": [],
   "include_colab_link": true,
   "name": "Keras-Celsius-to-Fahrenheit-2020.ipynb",
   "provenance": []
  },
  "kernelspec": {
   "display_name": "Python 3 (ipykernel)",
   "language": "python",
   "name": "python3"
  },
  "language_info": {
   "codemirror_mode": {
    "name": "ipython",
    "version": 3
   },
   "file_extension": ".py",
   "mimetype": "text/x-python",
   "name": "python",
   "nbconvert_exporter": "python",
   "pygments_lexer": "ipython3",
   "version": "3.8.8"
  }
 },
 "nbformat": 4,
 "nbformat_minor": 1
}
