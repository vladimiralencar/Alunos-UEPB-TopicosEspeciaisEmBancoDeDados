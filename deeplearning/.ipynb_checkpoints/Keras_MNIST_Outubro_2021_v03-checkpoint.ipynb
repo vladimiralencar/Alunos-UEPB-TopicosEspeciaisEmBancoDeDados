{
 "cells": [
  {
   "cell_type": "markdown",
   "metadata": {
    "colab_type": "text",
    "id": "view-in-github"
   },
   "source": [
    "<a href=\"https://colab.research.google.com/github/vladimiralencar/Alunos-UEPB-TopicosEspeciaisEmBancoDeDados/blob/master/deeplearning/Keras_MNIST_Outubro_2021_v03.ipynb\" target=\"_parent\"><img src=\"https://colab.research.google.com/assets/colab-badge.svg\" alt=\"Open In Colab\"/></a>"
   ]
  },
  {
   "cell_type": "markdown",
   "metadata": {
    "id": "PFDfn6xucIPz"
   },
   "source": [
    "## Keras - Reconhecimento de Dígitos (MNIST)"
   ]
  },
  {
   "cell_type": "code",
   "execution_count": null,
   "metadata": {
    "colab": {
     "base_uri": "https://localhost:8080/"
    },
    "id": "qut7f9LHBY8t",
    "outputId": "e8856e41-93e1-49a9-b407-b58c64199642"
   },
   "outputs": [
    {
     "name": "stdout",
     "output_type": "stream",
     "text": [
      "Thu Oct 14 17:58:02 2021       \n",
      "+-----------------------------------------------------------------------------+\n",
      "| NVIDIA-SMI 470.74       Driver Version: 460.32.03    CUDA Version: 11.2     |\n",
      "|-------------------------------+----------------------+----------------------+\n",
      "| GPU  Name        Persistence-M| Bus-Id        Disp.A | Volatile Uncorr. ECC |\n",
      "| Fan  Temp  Perf  Pwr:Usage/Cap|         Memory-Usage | GPU-Util  Compute M. |\n",
      "|                               |                      |               MIG M. |\n",
      "|===============================+======================+======================|\n",
      "|   0  Tesla P100-PCIE...  Off  | 00000000:00:04.0 Off |                    0 |\n",
      "| N/A   40C    P0    27W / 250W |      0MiB / 16280MiB |      0%      Default |\n",
      "|                               |                      |                  N/A |\n",
      "+-------------------------------+----------------------+----------------------+\n",
      "                                                                               \n",
      "+-----------------------------------------------------------------------------+\n",
      "| Processes:                                                                  |\n",
      "|  GPU   GI   CI        PID   Type   Process name                  GPU Memory |\n",
      "|        ID   ID                                                   Usage      |\n",
      "|=============================================================================|\n",
      "|  No running processes found                                                 |\n",
      "+-----------------------------------------------------------------------------+\n"
     ]
    }
   ],
   "source": [
    "!nvidia-smi"
   ]
  },
  {
   "cell_type": "code",
   "execution_count": null,
   "metadata": {
    "id": "DOWs0me_cIP0"
   },
   "outputs": [],
   "source": [
    "import numpy as np\n",
    "import matplotlib.pyplot as plt\n",
    "plt.rcParams['figure.figsize'] = (7,7) # Make the figures a bit bigger\n",
    "from tensorflow.keras.datasets import mnist\n",
    "from tensorflow.keras.models import Sequential\n",
    "from tensorflow.keras.layers import Conv2D, MaxPooling2D, Dense, Flatten, Dropout, Activation\n",
    "from tensorflow.keras.optimizers import SGD, Adam, RMSprop\n",
    "from tensorflow.keras.utils import to_categorical\n",
    "from tensorflow.keras.models import load_model\n",
    "%matplotlib inline"
   ]
  },
  {
   "cell_type": "markdown",
   "metadata": {
    "id": "FhpUWYJwcIP8"
   },
   "source": [
    "## Carregando arquivo de dígitos"
   ]
  },
  {
   "cell_type": "code",
   "execution_count": null,
   "metadata": {
    "colab": {
     "base_uri": "https://localhost:8080/"
    },
    "id": "KB9stpCWcIP9",
    "outputId": "8aebbe58-9146-476f-d22c-33fa5af0f83d"
   },
   "outputs": [
    {
     "name": "stdout",
     "output_type": "stream",
     "text": [
      "Downloading data from https://storage.googleapis.com/tensorflow/tf-keras-datasets/mnist.npz\n",
      "11493376/11490434 [==============================] - 0s 0us/step\n",
      "11501568/11490434 [==============================] - 0s 0us/step\n",
      "X_train original shape (60000, 28, 28)\n",
      "y_train original shape (60000,)\n"
     ]
    }
   ],
   "source": [
    "nb_classes = 10\n",
    "\n",
    "# the data, shuffled and split between tran and test sets\n",
    "(X_train, y_train), (X_test, y_test) = mnist.load_data()\n",
    "print(\"X_train original shape\", X_train.shape)\n",
    "print(\"y_train original shape\", y_train.shape)"
   ]
  },
  {
   "cell_type": "markdown",
   "metadata": {
    "id": "iVv7M8TfcIQA"
   },
   "source": [
    "Let's look at some examples of the training data"
   ]
  },
  {
   "cell_type": "code",
   "execution_count": null,
   "metadata": {
    "colab": {
     "base_uri": "https://localhost:8080/",
     "height": 281
    },
    "id": "v1vFd-PxcIQB",
    "outputId": "16c774c6-9a3c-41ab-df31-5891c2d0eb45"
   },
   "outputs": [
    {
     "data": {
      "image/png": "[encoded data removed]",
      "text/plain": [
       "<Figure size 432x288 with 9 Axes>"
      ]
     },
     "metadata": {
      "needs_background": "light"
     },
     "output_type": "display_data"
    }
   ],
   "source": [
    "for i in range(9):\n",
    "    plt.subplot(3,3,i+1)\n",
    "    plt.imshow(X_train[i], cmap='gray', interpolation='none')\n",
    "    plt.title(\"Class {}\".format(y_train[i]))"
   ]
  },
  {
   "cell_type": "markdown",
   "metadata": {
    "id": "EVuPjfyUcIQE"
   },
   "source": [
    "## Formatar e  Colocar os dados em Escala \n",
    "Our neural-network is going to take a single vector for each training example, so we need to reshape the input so that each 28x28 image becomes a single 784 dimensional vector. We'll also scale the inputs to be in the range [0-1] rather than [0-255]"
   ]
  },
  {
   "cell_type": "code",
   "execution_count": null,
   "metadata": {
    "colab": {
     "base_uri": "https://localhost:8080/"
    },
    "id": "Q_Q9REmIcIQF",
    "outputId": "7797fc9d-3764-4b72-b3f1-f6cb6c9f0a01"
   },
   "outputs": [
    {
     "name": "stdout",
     "output_type": "stream",
     "text": [
      "Training matrix shape (60000, 784)\n",
      "Testing matrix shape (10000, 784)\n"
     ]
    }
   ],
   "source": [
    "X_train = X_train.reshape(60000, 784)\n",
    "X_test = X_test.reshape(10000, 784)\n",
    "X_train = X_train.astype('float32')\n",
    "X_test = X_test.astype('float32')\n",
    "X_train /= 255\n",
    "X_test /= 255\n",
    "print(\"Training matrix shape\", X_train.shape)\n",
    "print(\"Testing matrix shape\", X_test.shape)"
   ]
  },
  {
   "cell_type": "markdown",
   "metadata": {
    "id": "Sm0DR8vwcIQJ"
   },
   "source": [
    "Modify the target matrices to be in the one-hot format, i.e.\n",
    "\n",
    "```\n",
    "0 -> [1, 0, 0, 0, 0, 0, 0, 0, 0]\n",
    "1 -> [0, 1, 0, 0, 0, 0, 0, 0, 0]\n",
    "2 -> [0, 0, 1, 0, 0, 0, 0, 0, 0]\n",
    "etc.\n",
    "```"
   ]
  },
  {
   "cell_type": "code",
   "execution_count": null,
   "metadata": {
    "id": "SEfGsZGNcIQK"
   },
   "outputs": [],
   "source": [
    "# codificação ONE-HOT ENCODING\n",
    "Y_train = to_categorical(y_train, nb_classes)\n",
    "Y_test = to_categorical(y_test, nb_classes)"
   ]
  },
  {
   "cell_type": "code",
   "execution_count": null,
   "metadata": {
    "colab": {
     "base_uri": "https://localhost:8080/"
    },
    "id": "g5dP0oIocIQN",
    "outputId": "5bad6daf-5f68-41ae-ecae-d7d59f3ae6ac"
   },
   "outputs": [
    {
     "data": {
      "text/plain": [
       "array([0., 0., 0., 0., 0., 0., 0., 1., 0., 0.], dtype=float32)"
      ]
     },
     "execution_count": 7,
     "metadata": {},
     "output_type": "execute_result"
    }
   ],
   "source": [
    "Y_test[0]"
   ]
  },
  {
   "cell_type": "markdown",
   "metadata": {
    "id": "l8FKld2wcIQR"
   },
   "source": [
    "# Construindo a Rede Neural\n",
    "Build the neural-network. Here we'll do a simple 3 layer fully connected network.\n",
    "<img src=\"https://raw.githubusercontent.com/vladimiralencar/Alunos-UEPB-TopicosEspeciaisEmBancoDeDados/master/deeplearning/data/figure.png\" />"
   ]
  },
  {
   "cell_type": "code",
   "execution_count": null,
   "metadata": {
    "id": "45U_h6vQcIQS"
   },
   "outputs": [],
   "source": [
    "model = Sequential()\n",
    "model.add(Dense(512, input_shape=(784,)))\n",
    "model.add(Activation('relu')) # An \"activation\" is just a non-linear function applied to the output\n",
    "                              # of the layer above. Here, with a \"rectified linear unit\",\n",
    "                              # we clamp all values below 0 to 0.\n",
    "                           \n",
    "#model.add(Dropout(0.3))   # Dropout helps protect the model from memorizing or \"overfitting\" the training data\n",
    "model.add(Dense(512))\n",
    "model.add(Activation('relu'))\n",
    "#model.add(Dropout(0.3))\n",
    "model.add(Dense(10))\n",
    "model.add(Activation('softmax')) # This special \"softmax\" activation among other things,\n",
    "                                 # ensures the output is a valid probaility distribution, that is\n",
    "                                 # that its values are all non-negative and sum to 1."
   ]
  },
  {
   "cell_type": "markdown",
   "metadata": {
    "id": "bprkmGQxcIQW"
   },
   "source": [
    "## Compile the model\n"
   ]
  },
  {
   "cell_type": "code",
   "execution_count": null,
   "metadata": {
    "colab": {
     "base_uri": "https://localhost:8080/"
    },
    "id": "IlNffN5XcIQX",
    "outputId": "87812e75-6272-4274-d26b-7e52a1475597"
   },
   "outputs": [
    {
     "name": "stdout",
     "output_type": "stream",
     "text": [
      "Model: \"sequential\"\n",
      "_________________________________________________________________\n",
      "Layer (type)                 Output Shape              Param #   \n",
      "=================================================================\n",
      "dense (Dense)                (None, 512)               401920    \n",
      "_________________________________________________________________\n",
      "activation (Activation)      (None, 512)               0         \n",
      "_________________________________________________________________\n",
      "dense_1 (Dense)              (None, 512)               262656    \n",
      "_________________________________________________________________\n",
      "activation_1 (Activation)    (None, 512)               0         \n",
      "_________________________________________________________________\n",
      "dense_2 (Dense)              (None, 10)                5130      \n",
      "_________________________________________________________________\n",
      "activation_2 (Activation)    (None, 10)                0         \n",
      "=================================================================\n",
      "Total params: 669,706\n",
      "Trainable params: 669,706\n",
      "Non-trainable params: 0\n",
      "_________________________________________________________________\n"
     ]
    }
   ],
   "source": [
    "model.compile(loss='categorical_crossentropy', optimizer='RMSprop', metrics=['accuracy'])\n",
    "model.summary()"
   ]
  },
  {
   "cell_type": "markdown",
   "metadata": {
    "id": "2V_N8Ft-cIQb"
   },
   "source": [
    "## Train the model!\n",
    "This is the fun part: you can feed the training data loaded in earlier into this model and it will learn to classify digits"
   ]
  },
  {
   "cell_type": "code",
   "execution_count": null,
   "metadata": {
    "colab": {
     "base_uri": "https://localhost:8080/"
    },
    "id": "Y7uvIivNcIQc",
    "outputId": "e8b9e929-2275-49b0-ce75-32bca4a6fed7"
   },
   "outputs": [
    {
     "name": "stdout",
     "output_type": "stream",
     "text": [
      "Epoch 1/20\n",
      "235/235 [==============================] - 3s 5ms/step - loss: 0.2703 - accuracy: 0.9156 - val_loss: 0.1961 - val_accuracy: 0.9367\n",
      "Epoch 2/20\n",
      "235/235 [==============================] - 1s 4ms/step - loss: 0.0914 - accuracy: 0.9721 - val_loss: 0.0919 - val_accuracy: 0.9720\n",
      "Epoch 3/20\n",
      "235/235 [==============================] - 1s 4ms/step - loss: 0.0579 - accuracy: 0.9818 - val_loss: 0.0865 - val_accuracy: 0.9723\n",
      "Epoch 4/20\n",
      "235/235 [==============================] - 1s 4ms/step - loss: 0.0400 - accuracy: 0.9869 - val_loss: 0.0710 - val_accuracy: 0.9782\n",
      "Epoch 5/20\n",
      "235/235 [==============================] - 1s 4ms/step - loss: 0.0291 - accuracy: 0.9903 - val_loss: 0.0996 - val_accuracy: 0.9711\n",
      "Epoch 6/20\n",
      "235/235 [==============================] - 1s 3ms/step - loss: 0.0215 - accuracy: 0.9931 - val_loss: 0.0698 - val_accuracy: 0.9827\n",
      "Epoch 7/20\n",
      "235/235 [==============================] - 1s 4ms/step - loss: 0.0156 - accuracy: 0.9950 - val_loss: 0.0818 - val_accuracy: 0.9804\n",
      "Epoch 8/20\n",
      "235/235 [==============================] - 1s 4ms/step - loss: 0.0137 - accuracy: 0.9954 - val_loss: 0.0894 - val_accuracy: 0.9797\n",
      "Epoch 9/20\n",
      "235/235 [==============================] - 1s 4ms/step - loss: 0.0112 - accuracy: 0.9965 - val_loss: 0.0788 - val_accuracy: 0.9819\n",
      "Epoch 10/20\n",
      "235/235 [==============================] - 1s 4ms/step - loss: 0.0093 - accuracy: 0.9970 - val_loss: 0.0982 - val_accuracy: 0.9826\n",
      "Epoch 11/20\n",
      "235/235 [==============================] - 1s 4ms/step - loss: 0.0078 - accuracy: 0.9974 - val_loss: 0.1154 - val_accuracy: 0.9789\n",
      "Epoch 12/20\n",
      "235/235 [==============================] - 1s 4ms/step - loss: 0.0067 - accuracy: 0.9980 - val_loss: 0.1101 - val_accuracy: 0.9810\n",
      "Epoch 13/20\n",
      "235/235 [==============================] - 1s 4ms/step - loss: 0.0069 - accuracy: 0.9978 - val_loss: 0.1131 - val_accuracy: 0.9810\n",
      "Epoch 14/20\n",
      "235/235 [==============================] - 1s 4ms/step - loss: 0.0069 - accuracy: 0.9980 - val_loss: 0.1237 - val_accuracy: 0.9805\n",
      "Epoch 15/20\n",
      "235/235 [==============================] - 1s 4ms/step - loss: 0.0054 - accuracy: 0.9980 - val_loss: 0.1411 - val_accuracy: 0.9793\n",
      "Epoch 16/20\n",
      "235/235 [==============================] - 1s 4ms/step - loss: 0.0057 - accuracy: 0.9982 - val_loss: 0.1219 - val_accuracy: 0.9807\n",
      "Epoch 17/20\n",
      "235/235 [==============================] - 1s 3ms/step - loss: 0.0042 - accuracy: 0.9988 - val_loss: 0.1238 - val_accuracy: 0.9824\n",
      "Epoch 18/20\n",
      "235/235 [==============================] - 1s 4ms/step - loss: 0.0042 - accuracy: 0.9989 - val_loss: 0.1289 - val_accuracy: 0.9820\n",
      "Epoch 19/20\n",
      "235/235 [==============================] - 1s 4ms/step - loss: 0.0041 - accuracy: 0.9986 - val_loss: 0.1284 - val_accuracy: 0.9821\n",
      "Epoch 20/20\n",
      "235/235 [==============================] - 1s 4ms/step - loss: 0.0034 - accuracy: 0.9989 - val_loss: 0.1615 - val_accuracy: 0.9812\n",
      "CPU times: user 24.6 s, sys: 5.92 s, total: 30.6 s\n",
      "Wall time: 19.7 s\n"
     ]
    },
    {
     "data": {
      "text/plain": [
       "<keras.callbacks.History at 0x7fcc40615450>"
      ]
     },
     "execution_count": 10,
     "metadata": {},
     "output_type": "execute_result"
    }
   ],
   "source": [
    "%%time\n",
    "model.fit(X_train, Y_train,\n",
    "          batch_size=256, epochs=20,\n",
    "          verbose=1,\n",
    "          validation_data=(X_test, Y_test))"
   ]
  },
  {
   "cell_type": "markdown",
   "metadata": {
    "id": "LN4I2tmAcIQg"
   },
   "source": [
    "## Finally, evaluate its performance"
   ]
  },
  {
   "cell_type": "code",
   "execution_count": null,
   "metadata": {
    "colab": {
     "base_uri": "https://localhost:8080/"
    },
    "id": "ESUE8YzEcIQh",
    "outputId": "d1516ef3-fd58-42d8-d904-ec8a03d7d43c"
   },
   "outputs": [
    {
     "name": "stdout",
     "output_type": "stream",
     "text": [
      "> 98.120\n"
     ]
    }
   ],
   "source": [
    "#loss = model.evaluate(X_test, Y_test,verbose=0)\n",
    "#print('Acurácia de teste:', 1 - loss)\n",
    "\n",
    "_, acc = model.evaluate(X_test, Y_test, verbose=0)\n",
    "print('> %.3f' % (acc * 100.0))"
   ]
  },
  {
   "cell_type": "markdown",
   "metadata": {
    "id": "CdJ5z8Sg4qu_"
   },
   "source": [
    "# CNN Model"
   ]
  },
  {
   "cell_type": "markdown",
   "metadata": {
    "id": "5T6ozRm84qu_"
   },
   "source": [
    "![image](https://lh4.googleusercontent.com/ojMXAE77tiVVF3RSqK1lldysJx5OzBJdE5ng_0w7GpHYWl9GR9jjBN0p56UFW3dM3gEdS-0oTOw0IjORJXVImFvcXdD-EnFibJl06gxMN_kYTeOyfmanNEvXK59CYzt2t_3DifPG)"
   ]
  },
  {
   "cell_type": "code",
   "execution_count": null,
   "metadata": {
    "colab": {
     "base_uri": "https://localhost:8080/"
    },
    "id": "TA6O3OOJ4qu_",
    "outputId": "e9ba8490-76d8-4eef-84a8-87c8d8fe6c62"
   },
   "outputs": [
    {
     "name": "stdout",
     "output_type": "stream",
     "text": [
      "Model: \"sequential_1\"\n",
      "_________________________________________________________________\n",
      "Layer (type)                 Output Shape              Param #   \n",
      "=================================================================\n",
      "conv2d (Conv2D)              (None, 26, 26, 128)       1280      \n",
      "_________________________________________________________________\n",
      "conv2d_1 (Conv2D)            (None, 24, 24, 128)       147584    \n",
      "_________________________________________________________________\n",
      "max_pooling2d (MaxPooling2D) (None, 12, 12, 128)       0         \n",
      "_________________________________________________________________\n",
      "dropout (Dropout)            (None, 12, 12, 128)       0         \n",
      "_________________________________________________________________\n",
      "flatten (Flatten)            (None, 18432)             0         \n",
      "_________________________________________________________________\n",
      "dense_3 (Dense)              (None, 100)               1843300   \n",
      "_________________________________________________________________\n",
      "dense_4 (Dense)              (None, 10)                1010      \n",
      "=================================================================\n",
      "Total params: 1,993,174\n",
      "Trainable params: 1,993,174\n",
      "Non-trainable params: 0\n",
      "_________________________________________________________________\n"
     ]
    }
   ],
   "source": [
    "# define cnn model\n",
    "model = Sequential() # 32\n",
    "model.add(Conv2D(128, (3, 3), activation='relu', kernel_initializer='he_uniform', input_shape=(28, 28, 1) ) ) #\n",
    "model.add(Conv2D(128, (3, 3), activation='relu'))\n",
    "model.add(MaxPooling2D((2, 2)))\n",
    "model.add(Dropout(0.25))\n",
    "model.add(Flatten())\n",
    "model.add(Dense(100, activation='relu',  kernel_initializer='he_uniform')) #))\n",
    "model.add(Dense(10, activation='softmax'))\n",
    "\n",
    "# compile model\n",
    "#opt = SGD(lr=0.01, momentum=0.9)\n",
    "model.compile(optimizer=\"adam\", loss='categorical_crossentropy', metrics=['accuracy'])\n",
    "model.summary()"
   ]
  },
  {
   "cell_type": "code",
   "execution_count": null,
   "metadata": {
    "colab": {
     "base_uri": "https://localhost:8080/"
    },
    "id": "fR5PfERn4qu_",
    "outputId": "b6687683-2ce2-49a8-e95d-1b9d4177b463"
   },
   "outputs": [
    {
     "name": "stdout",
     "output_type": "stream",
     "text": [
      "Training matrix shape (60000, 28, 28, 1)\n",
      "Testing matrix shape (10000, 28, 28, 1)\n"
     ]
    }
   ],
   "source": [
    "# reshape dataset to have a single channel\n",
    "(X_train, y_train), (X_test, y_test) = mnist.load_data()\n",
    "X_train = X_train.reshape((X_train.shape[0], 28, 28, 1))\n",
    "X_test = X_test.reshape((X_test.shape[0], 28, 28, 1))\n",
    "\n",
    "X_train = X_train.astype('float32')\n",
    "X_test = X_test.astype('float32')\n",
    "X_train /= 255.0\n",
    "X_test /= 255.0\n",
    "print(\"Training matrix shape\", X_train.shape)\n",
    "print(\"Testing matrix shape\", X_test.shape)\n",
    "\n",
    "# one hot encode target values\n",
    "Y_train = to_categorical(y_train)\n",
    "Y_test = to_categorical(y_test)"
   ]
  },
  {
   "cell_type": "code",
   "execution_count": null,
   "metadata": {
    "colab": {
     "base_uri": "https://localhost:8080/"
    },
    "id": "M2jVaQtJ4qu_",
    "outputId": "d65f08ad-cd41-4daa-84c5-5553cb0d3270"
   },
   "outputs": [
    {
     "name": "stdout",
     "output_type": "stream",
     "text": [
      "Epoch 1/20\n",
      "118/118 [==============================] - 20s 38ms/step - loss: 0.2230 - accuracy: 0.9323 - val_loss: 0.0515 - val_accuracy: 0.9832\n",
      "Epoch 2/20\n",
      "118/118 [==============================] - 4s 33ms/step - loss: 0.0470 - accuracy: 0.9860 - val_loss: 0.0493 - val_accuracy: 0.9841\n",
      "Epoch 3/20\n",
      "118/118 [==============================] - 4s 33ms/step - loss: 0.0292 - accuracy: 0.9908 - val_loss: 0.0316 - val_accuracy: 0.9899\n",
      "Epoch 4/20\n",
      "118/118 [==============================] - 4s 33ms/step - loss: 0.0194 - accuracy: 0.9940 - val_loss: 0.0340 - val_accuracy: 0.9889\n",
      "Epoch 5/20\n",
      "118/118 [==============================] - 4s 33ms/step - loss: 0.0167 - accuracy: 0.9945 - val_loss: 0.0389 - val_accuracy: 0.9890\n",
      "Epoch 6/20\n",
      "118/118 [==============================] - 4s 34ms/step - loss: 0.0118 - accuracy: 0.9960 - val_loss: 0.0300 - val_accuracy: 0.9906\n",
      "Epoch 7/20\n",
      "118/118 [==============================] - 4s 34ms/step - loss: 0.0091 - accuracy: 0.9968 - val_loss: 0.0371 - val_accuracy: 0.9883\n",
      "Epoch 8/20\n",
      "118/118 [==============================] - 4s 33ms/step - loss: 0.0079 - accuracy: 0.9974 - val_loss: 0.0338 - val_accuracy: 0.9909\n",
      "Epoch 9/20\n",
      "118/118 [==============================] - 4s 33ms/step - loss: 0.0079 - accuracy: 0.9973 - val_loss: 0.0388 - val_accuracy: 0.9900\n",
      "Epoch 10/20\n",
      "118/118 [==============================] - 4s 33ms/step - loss: 0.0078 - accuracy: 0.9971 - val_loss: 0.0345 - val_accuracy: 0.9908\n",
      "Epoch 11/20\n",
      "118/118 [==============================] - 4s 33ms/step - loss: 0.0059 - accuracy: 0.9980 - val_loss: 0.0427 - val_accuracy: 0.9893\n",
      "Epoch 12/20\n",
      "118/118 [==============================] - 4s 33ms/step - loss: 0.0042 - accuracy: 0.9987 - val_loss: 0.0480 - val_accuracy: 0.9893\n",
      "Epoch 13/20\n",
      "118/118 [==============================] - 4s 33ms/step - loss: 0.0031 - accuracy: 0.9989 - val_loss: 0.0369 - val_accuracy: 0.9915\n",
      "Epoch 14/20\n",
      "118/118 [==============================] - 4s 34ms/step - loss: 0.0040 - accuracy: 0.9988 - val_loss: 0.0540 - val_accuracy: 0.9895\n",
      "Epoch 15/20\n",
      "118/118 [==============================] - 4s 33ms/step - loss: 0.0045 - accuracy: 0.9984 - val_loss: 0.0511 - val_accuracy: 0.9897\n",
      "Epoch 16/20\n",
      "118/118 [==============================] - 4s 33ms/step - loss: 0.0033 - accuracy: 0.9990 - val_loss: 0.0442 - val_accuracy: 0.9903\n",
      "Epoch 17/20\n",
      "118/118 [==============================] - 4s 33ms/step - loss: 0.0053 - accuracy: 0.9981 - val_loss: 0.0500 - val_accuracy: 0.9899\n",
      "Epoch 18/20\n",
      "118/118 [==============================] - 4s 33ms/step - loss: 0.0065 - accuracy: 0.9979 - val_loss: 0.0448 - val_accuracy: 0.9903\n",
      "Epoch 19/20\n",
      "118/118 [==============================] - 4s 33ms/step - loss: 0.0055 - accuracy: 0.9983 - val_loss: 0.0468 - val_accuracy: 0.9903\n",
      "Epoch 20/20\n",
      "118/118 [==============================] - 4s 33ms/step - loss: 0.0035 - accuracy: 0.9988 - val_loss: 0.0528 - val_accuracy: 0.9893\n",
      "CPU times: user 1min 6s, sys: 5.05 s, total: 1min 11s\n",
      "Wall time: 1min 35s\n"
     ]
    }
   ],
   "source": [
    "%%time\n",
    "history = model.fit(X_train, Y_train, \n",
    "                    epochs=20, \n",
    "                    batch_size=512, \n",
    "                    validation_data=(X_test, Y_test), \n",
    "                    verbose=1)"
   ]
  },
  {
   "cell_type": "markdown",
   "metadata": {
    "id": "xjgB6AmYI4QO"
   },
   "source": [
    "# Avaliando meu Modelo"
   ]
  },
  {
   "cell_type": "code",
   "execution_count": null,
   "metadata": {
    "colab": {
     "base_uri": "https://localhost:8080/"
    },
    "id": "xS5XXNHg4qu_",
    "outputId": "ad2c8a4f-5d6d-4a5d-dad4-571426ea313f"
   },
   "outputs": [
    {
     "name": "stdout",
     "output_type": "stream",
     "text": [
      "> 98.930\n"
     ]
    }
   ],
   "source": [
    "_, acc = model.evaluate(X_test, Y_test, verbose=0)\n",
    "print('> %.3f' % (acc * 100.0))"
   ]
  },
  {
   "cell_type": "markdown",
   "metadata": {
    "id": "wn7pD3c5I38v"
   },
   "source": [
    "# Resultados - Métricas Pesos Sinápticos e Hiperparâmetros"
   ]
  },
  {
   "cell_type": "code",
   "execution_count": null,
   "metadata": {
    "colab": {
     "base_uri": "https://localhost:8080/"
    },
    "id": "DfbDWTjWFZi8",
    "outputId": "4bcaddef-f639-4c3d-bb1c-130e3a9d8412"
   },
   "outputs": [
    {
     "data": {
      "text/plain": [
       "{'_chief_worker_only': None,\n",
       " '_supports_tf_logs': False,\n",
       " 'epoch': [0,\n",
       "  1,\n",
       "  2,\n",
       "  3,\n",
       "  4,\n",
       "  5,\n",
       "  6,\n",
       "  7,\n",
       "  8,\n",
       "  9,\n",
       "  10,\n",
       "  11,\n",
       "  12,\n",
       "  13,\n",
       "  14,\n",
       "  15,\n",
       "  16,\n",
       "  17,\n",
       "  18,\n",
       "  19],\n",
       " 'history': {'accuracy': [0.9322999715805054,\n",
       "   0.9859833121299744,\n",
       "   0.9908000230789185,\n",
       "   0.9940333366394043,\n",
       "   0.9944666624069214,\n",
       "   0.9960166811943054,\n",
       "   0.996833324432373,\n",
       "   0.9973666667938232,\n",
       "   0.9972500205039978,\n",
       "   0.9970999956130981,\n",
       "   0.9980499744415283,\n",
       "   0.9986666440963745,\n",
       "   0.9988999962806702,\n",
       "   0.9988333582878113,\n",
       "   0.99836665391922,\n",
       "   0.9989500045776367,\n",
       "   0.9981333613395691,\n",
       "   0.9978833198547363,\n",
       "   0.9983333349227905,\n",
       "   0.9987666606903076],\n",
       "  'loss': [0.22297453880310059,\n",
       "   0.04699425399303436,\n",
       "   0.02916743978857994,\n",
       "   0.019400103017687798,\n",
       "   0.016658207401633263,\n",
       "   0.011799756437540054,\n",
       "   0.009111249819397926,\n",
       "   0.007860473357141018,\n",
       "   0.007859046570956707,\n",
       "   0.00778904790058732,\n",
       "   0.00592934712767601,\n",
       "   0.00417298823595047,\n",
       "   0.003132437588647008,\n",
       "   0.003990355879068375,\n",
       "   0.004516359884291887,\n",
       "   0.0032553058117628098,\n",
       "   0.00534390052780509,\n",
       "   0.006524272263050079,\n",
       "   0.005462104920297861,\n",
       "   0.003499832469969988],\n",
       "  'val_accuracy': [0.9832000136375427,\n",
       "   0.9840999841690063,\n",
       "   0.9898999929428101,\n",
       "   0.9889000058174133,\n",
       "   0.9890000224113464,\n",
       "   0.9905999898910522,\n",
       "   0.9883000254631042,\n",
       "   0.9908999800682068,\n",
       "   0.9900000095367432,\n",
       "   0.9908000230789185,\n",
       "   0.989300012588501,\n",
       "   0.989300012588501,\n",
       "   0.9915000200271606,\n",
       "   0.9894999861717224,\n",
       "   0.9897000193595886,\n",
       "   0.9902999997138977,\n",
       "   0.9898999929428101,\n",
       "   0.9902999997138977,\n",
       "   0.9902999997138977,\n",
       "   0.989300012588501],\n",
       "  'val_loss': [0.051501933485269547,\n",
       "   0.049272067844867706,\n",
       "   0.03161550685763359,\n",
       "   0.0339934341609478,\n",
       "   0.03887390345335007,\n",
       "   0.029987115412950516,\n",
       "   0.03706580027937889,\n",
       "   0.03383979946374893,\n",
       "   0.03875269740819931,\n",
       "   0.03447766974568367,\n",
       "   0.04267323762178421,\n",
       "   0.047995977103710175,\n",
       "   0.03693907707929611,\n",
       "   0.05396183580160141,\n",
       "   0.051107168197631836,\n",
       "   0.04418567195534706,\n",
       "   0.04998137056827545,\n",
       "   0.04483932629227638,\n",
       "   0.04681053385138512,\n",
       "   0.052761077880859375]},\n",
       " 'model': <keras.engine.sequential.Sequential at 0x7fcc4030b590>,\n",
       " 'params': {'epochs': 20, 'steps': 118, 'verbose': 1},\n",
       " 'validation_data': None}"
      ]
     },
     "execution_count": 16,
     "metadata": {},
     "output_type": "execute_result"
    }
   ],
   "source": [
    "history.__dict__"
   ]
  },
  {
   "cell_type": "code",
   "execution_count": null,
   "metadata": {
    "colab": {
     "base_uri": "https://localhost:8080/"
    },
    "id": "Vo_UFRc3IPDp",
    "outputId": "2c901076-a2eb-44a1-a692-82b48ed3055d"
   },
   "outputs": [
    {
     "data": {
      "text/plain": [
       "[0.9322999715805054,\n",
       " 0.9859833121299744,\n",
       " 0.9908000230789185,\n",
       " 0.9940333366394043,\n",
       " 0.9944666624069214,\n",
       " 0.9960166811943054,\n",
       " 0.996833324432373,\n",
       " 0.9973666667938232,\n",
       " 0.9972500205039978,\n",
       " 0.9970999956130981,\n",
       " 0.9980499744415283,\n",
       " 0.9986666440963745,\n",
       " 0.9988999962806702,\n",
       " 0.9988333582878113,\n",
       " 0.99836665391922,\n",
       " 0.9989500045776367,\n",
       " 0.9981333613395691,\n",
       " 0.9978833198547363,\n",
       " 0.9983333349227905,\n",
       " 0.9987666606903076]"
      ]
     },
     "execution_count": 17,
     "metadata": {},
     "output_type": "execute_result"
    }
   ],
   "source": [
    "acc = history.history['accuracy']\n",
    "acc"
   ]
  },
  {
   "cell_type": "code",
   "execution_count": null,
   "metadata": {
    "colab": {
     "base_uri": "https://localhost:8080/",
     "height": 497
    },
    "id": "s5AmBeusFTrs",
    "outputId": "69428ad8-06b4-4cfa-a4d3-151e5605e94e"
   },
   "outputs": [
    {
     "data": {
      "image/png": "[encoded data removed]",
      "text/plain": [
       "<Figure size 1008x576 with 1 Axes>"
      ]
     },
     "metadata": {
      "needs_background": "light"
     },
     "output_type": "display_data"
    }
   ],
   "source": [
    "import matplotlib.pyplot as plt\n",
    "plt.rcParams[\"figure.figsize\"] = [14,8]\n",
    "\n",
    "acc = history.history['accuracy']\n",
    "\n",
    "plt.plot(history.epoch, acc)\n",
    "plt.plot(history.epoch, history.history['val_accuracy'] )\n",
    "plt.ylabel('Cost')\n",
    "plt.xlabel('Epochs')\n",
    "#plt.savefig('images/12_07.png', dpi=300)\n",
    "plt.legend(['treino', 'validacao'])\n",
    "plt.show()"
   ]
  },
  {
   "cell_type": "markdown",
   "metadata": {
    "id": "ECkrQFAGcIQk"
   },
   "source": [
    "## Plotando algumas predições erradas do conjunto de teste"
   ]
  },
  {
   "cell_type": "code",
   "execution_count": null,
   "metadata": {
    "colab": {
     "base_uri": "https://localhost:8080/"
    },
    "id": "aYVv9zbHg70Z",
    "outputId": "f8cc01dc-e762-4374-b798-7eeaf28b8ae9"
   },
   "outputs": [
    {
     "name": "stdout",
     "output_type": "stream",
     "text": [
      "[0.000000000000000047101322       0.000000000000045178586\n",
      " 0.00000000000000082677414        0.000000000000032877807\n",
      " 0.000000000000000036667715       0.000000000000000000011330548\n",
      " 0.000000000000000000000042777292 1.\n",
      " 0.000000000000017426402          0.0000000000000032424792        ]\n"
     ]
    }
   ],
   "source": [
    "np.set_printoptions(suppress=True, precision=30)\n",
    "\n",
    "predict_x = model.predict(X_test)[0]\n",
    "print(predict_x)"
   ]
  },
  {
   "cell_type": "code",
   "execution_count": null,
   "metadata": {
    "colab": {
     "base_uri": "https://localhost:8080/"
    },
    "id": "wBguec3ofuGY",
    "outputId": "d138928e-d6ba-420c-a4c5-c6e08e462b56"
   },
   "outputs": [
    {
     "data": {
      "text/plain": [
       "7"
      ]
     },
     "execution_count": 20,
     "metadata": {},
     "output_type": "execute_result"
    }
   ],
   "source": [
    "predict_x = model.predict (X_test)[0]\n",
    "classes_x= np.argmax(predict_x)\n",
    "classes_x"
   ]
  },
  {
   "cell_type": "code",
   "execution_count": null,
   "metadata": {
    "colab": {
     "base_uri": "https://localhost:8080/",
     "height": 496
    },
    "id": "QfQYcaQxcIQl",
    "outputId": "e9ea2dd2-9653-4129-acae-c6b076fb82b9"
   },
   "outputs": [
    {
     "data": {
      "image/png": "[encoded data removed]",
      "text/plain": [
       "<Figure size 1008x576 with 10 Axes>"
      ]
     },
     "metadata": {},
     "output_type": "display_data"
    }
   ],
   "source": [
    "# classificações incorretas\n",
    "predict_x = model.predict(X_test)\n",
    "y_test_pred = np.argmax(predict_x, axis=1)\n",
    "\n",
    "#y_test_pred = np_utils.to_categorical(y_test_pred, nb_classes)\n",
    "\n",
    "miscl_img = X_test[y_test != y_test_pred][:25]\n",
    "correct_lab = y_test[y_test != y_test_pred][:25]\n",
    "miscl_lab = y_test_pred[y_test != y_test_pred][:25]\n",
    "\n",
    "\n",
    "#miscl_img = X_test[correct_indices]\n",
    "fig, ax = plt.subplots(nrows=2, ncols=5, sharex=True, sharey=True,)\n",
    "ax = ax.flatten()\n",
    "for i in range(10):\n",
    "    img = miscl_img[i].reshape(28, 28)\n",
    "    ax[i].imshow(img, cmap='Greys', interpolation='nearest')\n",
    "    ax[i].set_title('%d) t: %d p: %d' % (i+1, correct_lab[i], miscl_lab[i]))\n",
    "\n",
    "ax[0].set_xticks([])\n",
    "ax[0].set_yticks([])\n",
    "plt.tight_layout()\n",
    "plt.show()"
   ]
  },
  {
   "cell_type": "markdown",
   "metadata": {
    "id": "4IfepFdZcIQp"
   },
   "source": [
    "# Plotando algumas predições Corretas do conjunto de teste"
   ]
  },
  {
   "cell_type": "code",
   "execution_count": null,
   "metadata": {
    "colab": {
     "base_uri": "https://localhost:8080/",
     "height": 585
    },
    "id": "9deHG7zKcIQq",
    "outputId": "1e97457a-04fb-41f4-c2dc-6e0573b3df03"
   },
   "outputs": [
    {
     "data": {
      "image/png": "[encoded data removed]",
      "text/plain": [
       "<Figure size 1008x576 with 15 Axes>"
      ]
     },
     "metadata": {},
     "output_type": "display_data"
    }
   ],
   "source": [
    "# classificações corretas\n",
    "miscl_img = X_test[y_test == y_test_pred][:25]\n",
    "correct_lab = y_test[y_test == y_test_pred][:25]\n",
    "miscl_lab = y_test_pred[y_test == y_test_pred][:25]\n",
    "\n",
    "\n",
    "#miscl_img = X_test[correct_indices]\n",
    "fig, ax = plt.subplots(nrows=3, ncols=5, sharex=True, sharey=True,)\n",
    "ax = ax.flatten()\n",
    "for i in range(15):\n",
    "    img = miscl_img[i].reshape(28, 28)\n",
    "    ax[i].imshow(img, cmap='Greys', interpolation='nearest')\n",
    "    ax[i].set_title('%d) t: %d p: %d' % (i+1, correct_lab[i], miscl_lab[i]))\n",
    "\n",
    "ax[0].set_xticks([])\n",
    "ax[0].set_yticks([])\n",
    "plt.tight_layout()\n",
    "plt.show()"
   ]
  },
  {
   "cell_type": "markdown",
   "metadata": {
    "id": "qwK1eRX5j_Vj"
   },
   "source": [
    "# Salvando o modelo"
   ]
  },
  {
   "cell_type": "code",
   "execution_count": null,
   "metadata": {
    "colab": {
     "base_uri": "https://localhost:8080/"
    },
    "id": "rLlLvy_tj-jh",
    "outputId": "2aff3d2b-a8c6-4802-e1b1-acc638c702f2"
   },
   "outputs": [
    {
     "name": "stdout",
     "output_type": "stream",
     "text": [
      "5242890 -rw-r--r-- 1 root root 23M Oct 14 18:00 modelo.hdf5\n"
     ]
    }
   ],
   "source": [
    "model.save('modelo.hdf5')\n",
    "!ls -ilah *.hdf5"
   ]
  },
  {
   "cell_type": "markdown",
   "metadata": {
    "id": "WjLPTr5ilFsH"
   },
   "source": [
    "# Carregando o modelo Salvo"
   ]
  },
  {
   "cell_type": "code",
   "execution_count": null,
   "metadata": {
    "colab": {
     "base_uri": "https://localhost:8080/"
    },
    "id": "Aa1AZaAGkR5l",
    "outputId": "7f02c329-07b4-43e6-ea96-eb2b68b44d98"
   },
   "outputs": [
    {
     "name": "stdout",
     "output_type": "stream",
     "text": [
      "> 98.930\n"
     ]
    }
   ],
   "source": [
    "loaded_model = load_model('modelo.hdf5')\n",
    "_, acc = model.evaluate(X_test, Y_test, verbose=0)\n",
    "print('> %.3f' % (acc * 100.0))"
   ]
  },
  {
   "cell_type": "markdown",
   "metadata": {
    "id": "K7jEDHawliY-"
   },
   "source": [
    "# Download do modelo"
   ]
  },
  {
   "cell_type": "code",
   "execution_count": null,
   "metadata": {
    "colab": {
     "base_uri": "https://localhost:8080/",
     "height": 51
    },
    "id": "XfshLa67kyhC",
    "outputId": "f39b8736-543b-4f05-afab-9147761d10f1"
   },
   "outputs": [
    {
     "data": {
      "application/javascript": [
       "\n",
       "    async function download(id, filename, size) {\n",
       "      if (!google.colab.kernel.accessAllowed) {\n",
       "        return;\n",
       "      }\n",
       "      const div = document.createElement('div');\n",
       "      const label = document.createElement('label');\n",
       "      label.textContent = `Downloading \"${filename}\": `;\n",
       "      div.appendChild(label);\n",
       "      const progress = document.createElement('progress');\n",
       "      progress.max = size;\n",
       "      div.appendChild(progress);\n",
       "      document.body.appendChild(div);\n",
       "\n",
       "      const buffers = [];\n",
       "      let downloaded = 0;\n",
       "\n",
       "      const channel = await google.colab.kernel.comms.open(id);\n",
       "      // Send a message to notify the kernel that we're ready.\n",
       "      channel.send({})\n",
       "\n",
       "      for await (const message of channel.messages) {\n",
       "        // Send a message to notify the kernel that we're ready.\n",
       "        channel.send({})\n",
       "        if (message.buffers) {\n",
       "          for (const buffer of message.buffers) {\n",
       "            buffers.push(buffer);\n",
       "            downloaded += buffer.byteLength;\n",
       "            progress.value = downloaded;\n",
       "          }\n",
       "        }\n",
       "      }\n",
       "      const blob = new Blob(buffers, {type: 'application/binary'});\n",
       "      const a = document.createElement('a');\n",
       "      a.href = window.URL.createObjectURL(blob);\n",
       "      a.download = filename;\n",
       "      div.appendChild(a);\n",
       "      a.click();\n",
       "      div.remove();\n",
       "    }\n",
       "  "
      ],
      "text/plain": [
       "<IPython.core.display.Javascript object>"
      ]
     },
     "metadata": {},
     "output_type": "display_data"
    },
    {
     "data": {
      "application/javascript": [
       "download(\"download_214b10a2-6684-49d9-8683-574c71a11163\", \"modelo.hdf5\", 23963152)"
      ],
      "text/plain": [
       "<IPython.core.display.Javascript object>"
      ]
     },
     "metadata": {},
     "output_type": "display_data"
    },
    {
     "name": "stdout",
     "output_type": "stream",
     "text": [
      "CPU times: user 6.19 ms, sys: 112 µs, total: 6.3 ms\n",
      "Wall time: 5.85 ms\n"
     ]
    }
   ],
   "source": [
    "%%time\n",
    "from google.colab import files\n",
    "files.download('modelo.hdf5')"
   ]
  }
 ],
 "metadata": {
  "accelerator": "GPU",
  "colab": {
   "collapsed_sections": [],
   "include_colab_link": true,
   "machine_shape": "hm",
   "name": "Keras_MNIST_Outubro_2021-v03.ipynb",
   "provenance": []
  },
  "kernelspec": {
   "display_name": "Python 3 (ipykernel)",
   "language": "python",
   "name": "python3"
  },
  "language_info": {
   "codemirror_mode": {
    "name": "ipython",
    "version": 3
   },
   "file_extension": ".py",
   "mimetype": "text/x-python",
   "name": "python",
   "nbconvert_exporter": "python",
   "pygments_lexer": "ipython3",
   "version": "3.9.7"
  }
 },
 "nbformat": 4,
 "nbformat_minor": 1
}
