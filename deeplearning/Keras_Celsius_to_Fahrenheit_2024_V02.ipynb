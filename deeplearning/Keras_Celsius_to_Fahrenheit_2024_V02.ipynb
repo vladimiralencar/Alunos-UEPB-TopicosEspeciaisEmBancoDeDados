{
  "cells": [
    {
      "cell_type": "markdown",
      "metadata": {
        "id": "YHI3vyhv5p85"
      },
      "source": [
        "# Treinando um modelo simples usando Keras"
      ]
    },
    {
      "cell_type": "markdown",
      "metadata": {
        "id": "F8YVA_634OFk"
      },
      "source": [
        "O problema é converter de Graus  Celsius para Fahrenheit,  a  fórmula é:\n",
        "\n",
        "$$ f = c \\times 1.8 + 32 $$\n",
        "\n",
        "\n",
        "No nosso caso, vamos informar valores em Celsius  (0, 8, 15, 22, 38) and seus correspondenets em Fahrenheit (32, 46, 59, 72, 100).\n",
        "\n",
        "Então, vamos treinar o modelo para \"APRENDER\" A fórmula acima."
      ]
    },
    {
      "cell_type": "markdown",
      "metadata": {
        "id": "HKWOTGDN9-fJ"
      },
      "source": [
        "![alt text](https://raw.githubusercontent.com/vladimiralencar/Alunos-UEPB-TopicosEspeciaisEmBancoDeDados/master/deeplearning/data/temperatures.png)"
      ]
    },
    {
      "cell_type": "markdown",
      "metadata": {
        "id": "fA93WUy1zzWf"
      },
      "source": [
        "## Importando dependências e bibliotecas\n"
      ]
    },
    {
      "cell_type": "code",
      "execution_count": null,
      "metadata": {
        "id": "X9uIpOS2zx7k"
      },
      "outputs": [],
      "source": [
        "#from __future__ import absolute_import, division, print_function, unicode_literals\n",
        "import tensorflow as tf\n",
        "\n",
        "import numpy as np\n",
        "import logging\n",
        "logger = tf.get_logger()\n",
        "logger.setLevel(logging.ERROR)"
      ]
    },
    {
      "cell_type": "markdown",
      "metadata": {
        "id": "AC3EQFi20buB"
      },
      "source": [
        "##  dados de treino\n",
        "\n",
        "temperaturas em Graus Celsius e Graus Fahrenheit"
      ]
    },
    {
      "cell_type": "code",
      "execution_count": null,
      "metadata": {
        "colab": {
          "base_uri": "https://localhost:8080/"
        },
        "id": "gg4pn6aI1vms",
        "outputId": "25115aae-ee4e-4086-ac0c-d27e20514809"
      },
      "outputs": [
        {
          "output_type": "stream",
          "name": "stdout",
          "text": [
            "-40.0 Graus Celsius = -40.0 Graus Fahrenheit\n",
            "-10.0 Graus Celsius = 14.0 Graus Fahrenheit\n",
            "0.0 Graus Celsius = 32.0 Graus Fahrenheit\n",
            "8.0 Graus Celsius = 46.0 Graus Fahrenheit\n",
            "15.0 Graus Celsius = 59.0 Graus Fahrenheit\n",
            "22.0 Graus Celsius = 72.0 Graus Fahrenheit\n",
            "38.0 Graus Celsius = 100.0 Graus Fahrenheit\n"
          ]
        }
      ],
      "source": [
        "celsius_q    = np.array([-40, -10,  0,  8, 15, 22,  38],  dtype=np.float64)\n",
        "fahrenheit_a = np.array([-40,  14, 32, 46, 59, 72, 100],  dtype=np.float64)\n",
        "\n",
        "for i,c in enumerate(celsius_q):\n",
        "  print(\"{} Graus Celsius = {} Graus Fahrenheit\".format(c, fahrenheit_a[i]))"
      ]
    },
    {
      "cell_type": "markdown",
      "metadata": {
        "id": "VM7_9Klvq7MO"
      },
      "source": [
        "## Criando o modelo\n",
        "\n",
        "\n",
        "### Construindo camadas\n",
        "\n",
        "\n",
        "Parâmetros de configuração:\n",
        "\n",
        "\n",
        "*   `input_shape=[1]` — O shape dos dados de entrada. No nosso exemplo, o tamanho é igual a 1 (Uma temperatura em Graus Celsius)\n",
        "\n",
        "\n",
        "*   `units=1` — O Número de neurônios da camada. (Colocamos somente 1 neurônio, mas, dependendo do problema, podemos variar 10, 100, 1000 neurônioas, etc)\n",
        "\n"
      ]
    },
    {
      "cell_type": "code",
      "execution_count": null,
      "metadata": {
        "id": "pRllo2HLfXiu",
        "colab": {
          "base_uri": "https://localhost:8080/"
        },
        "outputId": "9ca2ea79-cd8e-4844-c853-523eb243701b"
      },
      "outputs": [
        {
          "output_type": "stream",
          "name": "stderr",
          "text": [
            "/usr/local/lib/python3.10/dist-packages/keras/src/layers/core/dense.py:87: UserWarning: Do not pass an `input_shape`/`input_dim` argument to a layer. When using Sequential models, prefer using an `Input(shape)` object as the first layer in the model instead.\n",
            "  super().__init__(activity_regularizer=activity_regularizer, **kwargs)\n"
          ]
        }
      ],
      "source": [
        "layer0 = tf.keras.layers.Dense(units=1, input_shape=[1])"
      ]
    },
    {
      "cell_type": "markdown",
      "metadata": {
        "id": "_F00_J9duLBD"
      },
      "source": [
        "### Construindo Layers (camadas) no modelo\n",
        "\n",
        "\n",
        "Este modelo tem somente uma camada ou  layer (layer0)"
      ]
    },
    {
      "cell_type": "code",
      "execution_count": null,
      "metadata": {
        "id": "cSp-GpLSuMRq"
      },
      "outputs": [],
      "source": [
        "model = tf.keras.Sequential([layer0])"
      ]
    },
    {
      "cell_type": "markdown",
      "metadata": {
        "id": "kiZG7uhm8qCF"
      },
      "source": [
        "## Compilar o modelo, com o loss (função de peda) and função de otimização\n",
        ":\n",
        "\n",
        "- **Loss function** — Função de perda - Forma de medir o quanto as previsões estão próximas dos resultados ( y  e ypred).  Essa diferença é chamada de perda, função de custo ou \"loss\"\n",
        "\n",
        "- **Optimizer function** — A forma de adjustar o pesos internos com o objetivo de reduzir a perda\n",
        "\n"
      ]
    },
    {
      "cell_type": "code",
      "execution_count": null,
      "metadata": {
        "id": "m8YQN1H41L-Y"
      },
      "outputs": [],
      "source": [
        "model.compile(loss='mean_squared_error',\n",
        "              optimizer=tf.keras.optimizers.AdamW(0.2))"
      ]
    },
    {
      "cell_type": "markdown",
      "metadata": {
        "id": "17M3Pqv4P52R"
      },
      "source": [
        "\n",
        "\n",
        "A função de perda -  loss function ([mean squared error](https://en.wikipedia.org/wiki/Mean_squared_error)) e o otimizador  ([Adam](https://machinelearningmastery.com/adam-optimization-algorithm-for-deep-learning/)) foram usados neste modelo.\n",
        "\n",
        "Precisamento definir no Otimizador, a taxa de aprendizado (learning rate), valor 0.1 acima.\n",
        "Se a taxa de aprendizagem é muito pequena, o modelo precisará de muitas iterações para treinar o modelo. Se for muito grande, poderá ter uma acurácia menor.\n",
        "Um bom valor de learning rate necessita de tentativa e erro, mas é muito comum um valor entre 0.001 (default) e 0.1.\n"
      ]
    },
    {
      "cell_type": "markdown",
      "metadata": {
        "id": "c-Jk4dG91dvD"
      },
      "source": [
        "## Treinando o modelo\n",
        "\n",
        "Train the model by calling the `fit` method.\n",
        "\n",
        "No treinamento do modelo, são encontrando os pesos (weights).\n",
        "Inicialmente os pesos são inicializados randomicamente. A diferença entre a saída atual (y_previsto) e a saída desejada (y) é calculada usando a função de perda (loss function), e o otimizador acha quais os pesos ideais.\n",
        "\n",
        "Este ciclo de calcular, comparar e ajustar os pesos é controlado pelo método `fit`.\n",
        "\n",
        "As épocas (`epochs`) es.pecifica quantas vezes vamos integir como todo o conjunto de dados de entrada (X).\n"
      ]
    },
    {
      "cell_type": "code",
      "execution_count": null,
      "metadata": {
        "colab": {
          "base_uri": "https://localhost:8080/"
        },
        "id": "lpRrl7WK10Pq",
        "outputId": "1824a090-a58a-4f9b-bf65-e426a0881def"
      },
      "outputs": [
        {
          "output_type": "stream",
          "name": "stdout",
          "text": [
            "Finished training the model\n"
          ]
        }
      ],
      "source": [
        "history = model.fit(celsius_q, fahrenheit_a, epochs=500, verbose=False)\n",
        "print(\"Finished training the model\")"
      ]
    },
    {
      "cell_type": "code",
      "execution_count": null,
      "metadata": {
        "id": "ZgD5G6dQDwXo"
      },
      "outputs": [],
      "source": [
        "#history.history['loss']"
      ]
    },
    {
      "cell_type": "markdown",
      "metadata": {
        "id": "0-QsNCLD4MJZ"
      },
      "source": [
        "## Display training statistics\n",
        "\n",
        "O métido  `fit` retorna um objeto 'history' que contem o erro (loss) de cada época de treinamento.\n",
        "\n",
        "\n",
        "\n"
      ]
    },
    {
      "cell_type": "code",
      "execution_count": null,
      "metadata": {
        "colab": {
          "base_uri": "https://localhost:8080/",
          "height": 466
        },
        "id": "IeK6BzfbdO6_",
        "outputId": "39d06097-c9a2-45a2-9ff2-d75269a7e5ba"
      },
      "outputs": [
        {
          "output_type": "execute_result",
          "data": {
            "text/plain": [
              "[<matplotlib.lines.Line2D at 0x7dbb2a6a1e40>]"
            ]
          },
          "metadata": {},
          "execution_count": 7
        },
        {
          "output_type": "display_data",
          "data": {
            "text/plain": [
              "<Figure size 640x480 with 1 Axes>"
            ],
            "image/png": "[encoded data removed]"
          },
          "metadata": {}
        }
      ],
      "source": [
        "import matplotlib.pyplot as plt\n",
        "plt.xlabel('Epoch Number')\n",
        "plt.ylabel(\"Loss Magnitude\")\n",
        "plt.plot(history.history['loss'])"
      ]
    },
    {
      "cell_type": "markdown",
      "metadata": {
        "id": "LtQGDMob5LOD"
      },
      "source": [
        "## Usando o modelo prever novos valores\n"
      ]
    },
    {
      "cell_type": "code",
      "execution_count": null,
      "metadata": {
        "colab": {
          "base_uri": "https://localhost:8080/"
        },
        "id": "oxNzL4lS2Gui",
        "outputId": "24264126-3796-4ac8-9897-d14baa0d9a34"
      },
      "outputs": [
        {
          "output_type": "stream",
          "name": "stdout",
          "text": [
            "\u001b[1m1/1\u001b[0m \u001b[32m━━━━━━━━━━━━━━━━━━━━\u001b[0m\u001b[37m\u001b[0m \u001b[1m0s\u001b[0m 86ms/step\n",
            "previsão: 211.40071\n"
          ]
        }
      ],
      "source": [
        "a = np.array([100.0], dtype=np.float32).reshape(-1,1)\n",
        "print('previsão:', model.predict(a)[0][0])"
      ]
    },
    {
      "cell_type": "markdown",
      "metadata": {
        "id": "jApk6tZ1fBg1"
      },
      "source": [
        "A resposta correta é $100 \\times 1.8 + 32 = 212$, e nosso modelo preveu o valor de 211.7474 (erro de 0.2526, muito próximo)\n"
      ]
    },
    {
      "cell_type": "markdown",
      "metadata": {
        "id": "zRrOky5gm20Z"
      },
      "source": [
        "## a Matriz de pesos (layer weights)\n"
      ]
    },
    {
      "cell_type": "code",
      "execution_count": null,
      "metadata": {
        "colab": {
          "base_uri": "https://localhost:8080/"
        },
        "id": "kmIkVdkbnZJI",
        "outputId": "924d66e1-bc2b-4367-fcfd-66d90c6071db"
      },
      "outputs": [
        {
          "output_type": "stream",
          "name": "stdout",
          "text": [
            "Matriz de pesos: [array([[1.808926]], dtype=float32), array([30.508123], dtype=float32)]\n"
          ]
        }
      ],
      "source": [
        "print(\"Matriz de pesos: {}\".format(layer0.get_weights()))"
      ]
    },
    {
      "cell_type": "markdown",
      "metadata": {
        "id": "RSplSnMvnWC-"
      },
      "source": [
        "A primeira variável está próxima a  ~1.8 e a segunda a  ~32. Esses valores (1.8 and 32) são os valores reais da fórmula de conversão.\n",
        "\n",
        "Fórmula $y = mx + b$, onde, $f = 1.8c + 32$.\n",
        "Fórmula aprendida $f = 1.820181c + 29.3202$.\n",
        "\n",
        "\n",
        "### Melhorando a previsão\n",
        "\n",
        "Vamos colocar mais camadas, para tentar melhorar a precisão."
      ]
    },
    {
      "cell_type": "code",
      "execution_count": null,
      "metadata": {
        "colab": {
          "base_uri": "https://localhost:8080/"
        },
        "id": "Y2zTA-rDS5Xk",
        "outputId": "890a69dd-4486-41d1-98dc-5189940f26a7"
      },
      "outputs": [
        {
          "output_type": "stream",
          "name": "stdout",
          "text": [
            "Treinamento concluído\n",
            "\u001b[1m1/1\u001b[0m \u001b[32m━━━━━━━━━━━━━━━━━━━━\u001b[0m\u001b[37m\u001b[0m \u001b[1m0s\u001b[0m 108ms/step\n",
            "Temperatura Prevista: 211.74307\n",
            "\n",
            "\n",
            "pesos da camada l0: [array([[ 0.1256449 ,  0.32327127,  0.04830517, -0.04668128, -0.09804504,\n",
            "        -0.41156635,  0.00823608, -0.03481393]], dtype=float32), array([ 1.7763466,  1.9839301,  1.7193816, -1.6584059,  1.1288612,\n",
            "       -1.9946377, -1.3952969, -1.1601317], dtype=float32)]\n",
            "pesos da camada l1: [array([[ 0.6093714 ,  0.38294667,  0.59829044,  0.15447481,  0.7343273 ,\n",
            "        -0.5691644 ,  0.60846156,  0.06500284, -0.5100119 , -0.1955472 ,\n",
            "         0.08711836, -0.20616175],\n",
            "       [ 0.10938822,  0.289405  ,  0.37545016,  0.38507083,  0.10296487,\n",
            "        -0.4605735 ,  0.31735766,  0.66342604, -0.6163427 , -0.20320418,\n",
            "         0.51200444, -0.7179817 ],\n",
            "       [ 0.04568121,  0.29075024,  0.42094925,  0.10584235,  0.60231924,\n",
            "        -0.618615  ,  0.23467802,  0.26876295, -0.5566282 , -0.11308932,\n",
            "         0.35230723, -0.6141354 ],\n",
            "       [-0.16990212, -0.5634868 , -0.2057063 , -0.27604654, -0.62565386,\n",
            "         0.68236494, -0.5770459 , -0.1997203 ,  0.34566584,  0.4409193 ,\n",
            "        -0.5331346 ,  0.1285501 ],\n",
            "       [ 0.21262842,  0.27467763,  0.23423377,  0.5221958 ,  0.42683214,\n",
            "         0.10628503,  0.06384289,  0.4996661 , -0.17349766, -0.5246185 ,\n",
            "         0.21160777, -0.49985173],\n",
            "       [-0.2920423 , -0.31561357, -0.7440307 , -0.30009145, -0.44992003,\n",
            "         0.60281456, -0.670573  , -0.45069787,  0.440738  ,  0.21352041,\n",
            "        -0.364011  ,  0.01027018],\n",
            "       [-0.4397161 , -0.38478458, -0.32191908, -0.3700681 , -0.3617795 ,\n",
            "         0.05237148, -0.01284636, -0.6740725 ,  0.17775674,  0.76802045,\n",
            "        -0.16959727,  0.57823247],\n",
            "       [-0.37840244, -0.3578547 , -0.09170502, -0.5123763 , -0.08791995,\n",
            "         0.505441  , -0.52231574, -0.11163296,  0.15282531,  0.21251565,\n",
            "        -0.28073916,  0.46677902]], dtype=float32), array([ 0.3655311 ,  1.7581772 ,  1.3810058 ,  1.8206717 ,  1.7974252 ,\n",
            "       -2.020335  ,  1.9071975 ,  1.3089346 , -1.36266   , -0.20171672,\n",
            "        0.9720955 , -1.1787815 ], dtype=float32)]\n",
            "pesos da camada l2: [array([[ 0.08625226],\n",
            "       [ 0.51815516],\n",
            "       [ 0.33888912],\n",
            "       [ 0.5115749 ],\n",
            "       [ 0.6221263 ],\n",
            "       [-0.56591845],\n",
            "       [ 0.77857727],\n",
            "       [ 0.29004782],\n",
            "       [-0.32970905],\n",
            "       [-0.04176611],\n",
            "       [ 0.17202911],\n",
            "       [-0.30135098]], dtype=float32), array([1.7998886], dtype=float32)]\n"
          ]
        }
      ],
      "source": [
        "l0 = tf.keras.layers.Dense(units=8, input_shape=[1])  # 4\n",
        "l1 = tf.keras.layers.Dense(units=12) #10\n",
        "l2 = tf.keras.layers.Dense(units=1)\n",
        "model = tf.keras.Sequential([l0, l1, l2])\n",
        "model.compile(loss='mean_squared_error', optimizer=tf.keras.optimizers.AdamW(0.1))\n",
        "model.fit(celsius_q, fahrenheit_a, epochs=1000, verbose=False) # 600\n",
        "print(\"Treinamento concluído\")\n",
        "print('Temperatura Prevista:',model.predict(np.array(100.0).reshape(1,-1))[0][0])\n",
        "print()\n",
        "print()\n",
        "print(\"pesos da camada l0: {}\".format(l0.get_weights()))\n",
        "print(\"pesos da camada l1: {}\".format(l1.get_weights()))\n",
        "print(\"pesos da camada l2: {}\".format(l2.get_weights()))"
      ]
    },
    {
      "cell_type": "markdown",
      "source": [
        "Melhorando os dados de Treino"
      ],
      "metadata": {
        "id": "vvOQhc6MpbRS"
      }
    },
    {
      "cell_type": "code",
      "source": [
        "celsius_q    = [] #np.array([-40, -10,  0,  8, 15, 22,  38],  dtype=np.float64)\n",
        "fahrenheit_a = [] #np.array([-40,  14, 32, 46, 59, 72, 100],  dtype=np.float64)\n",
        "#𝑓=1.8𝑐+32\n",
        "\n",
        "for i in range(-10000, 10001):\n",
        "    celsius = i\n",
        "    fahrenheit = 1.8 * celsius + 32\n",
        "    celsius_q.append(celsius)\n",
        "    fahrenheit_a.append(fahrenheit)\n",
        "\n",
        "celsius_q    =  np.array(celsius_q,  dtype=np.float64)\n",
        "fahrenheit_a =  np.array(fahrenheit_a,  dtype=np.float64)\n",
        "\n",
        "for i,c in enumerate(celsius_q):\n",
        "  if i % 1000 == 0:\n",
        "    print(\"{} Graus Celsius = {} Graus Fahrenheit\".format(c, fahrenheit_a[i]))"
      ],
      "metadata": {
        "colab": {
          "base_uri": "https://localhost:8080/"
        },
        "id": "5WQatFFZpTKc",
        "outputId": "5c7ac933-83ed-4ebf-cd5c-b58380bfa6e3"
      },
      "execution_count": null,
      "outputs": [
        {
          "output_type": "stream",
          "name": "stdout",
          "text": [
            "-10000.0 Graus Celsius = -17968.0 Graus Fahrenheit\n",
            "-9000.0 Graus Celsius = -16168.0 Graus Fahrenheit\n",
            "-8000.0 Graus Celsius = -14368.0 Graus Fahrenheit\n",
            "-7000.0 Graus Celsius = -12568.0 Graus Fahrenheit\n",
            "-6000.0 Graus Celsius = -10768.0 Graus Fahrenheit\n",
            "-5000.0 Graus Celsius = -8968.0 Graus Fahrenheit\n",
            "-4000.0 Graus Celsius = -7168.0 Graus Fahrenheit\n",
            "-3000.0 Graus Celsius = -5368.0 Graus Fahrenheit\n",
            "-2000.0 Graus Celsius = -3568.0 Graus Fahrenheit\n",
            "-1000.0 Graus Celsius = -1768.0 Graus Fahrenheit\n",
            "0.0 Graus Celsius = 32.0 Graus Fahrenheit\n",
            "1000.0 Graus Celsius = 1832.0 Graus Fahrenheit\n",
            "2000.0 Graus Celsius = 3632.0 Graus Fahrenheit\n",
            "3000.0 Graus Celsius = 5432.0 Graus Fahrenheit\n",
            "4000.0 Graus Celsius = 7232.0 Graus Fahrenheit\n",
            "5000.0 Graus Celsius = 9032.0 Graus Fahrenheit\n",
            "6000.0 Graus Celsius = 10832.0 Graus Fahrenheit\n",
            "7000.0 Graus Celsius = 12632.0 Graus Fahrenheit\n",
            "8000.0 Graus Celsius = 14432.0 Graus Fahrenheit\n",
            "9000.0 Graus Celsius = 16232.0 Graus Fahrenheit\n",
            "10000.0 Graus Celsius = 18032.0 Graus Fahrenheit\n"
          ]
        }
      ]
    },
    {
      "cell_type": "code",
      "source": [
        "len(celsius_q)"
      ],
      "metadata": {
        "id": "djlkIvB7mAzO",
        "colab": {
          "base_uri": "https://localhost:8080/"
        },
        "outputId": "530a1e94-b12d-485d-ef69-286fb5b5890f"
      },
      "execution_count": null,
      "outputs": [
        {
          "output_type": "execute_result",
          "data": {
            "text/plain": [
              "20001"
            ]
          },
          "metadata": {},
          "execution_count": 13
        }
      ]
    },
    {
      "cell_type": "markdown",
      "source": [
        "# Melhorando a precisão do Modelo"
      ],
      "metadata": {
        "id": "KFUJ0xa4Dnsd"
      }
    },
    {
      "cell_type": "code",
      "source": [
        "import matplotlib.pyplot as plt\n",
        "\n",
        "def plotg(history):\n",
        "  plt.xlabel('Epoch Number')\n",
        "  plt.ylabel(\"Loss Magnitude\")\n",
        "  plt.plot(history.history['loss'])"
      ],
      "metadata": {
        "id": "SzIIbjJ6MDKX"
      },
      "execution_count": null,
      "outputs": []
    },
    {
      "cell_type": "code",
      "source": [
        "celsius_q.shape, fahrenheit_a.shape"
      ],
      "metadata": {
        "id": "E2riAiDZRnII",
        "outputId": "1c61e12d-b3d0-4830-afbe-f9e255b6daf5",
        "colab": {
          "base_uri": "https://localhost:8080/"
        }
      },
      "execution_count": null,
      "outputs": [
        {
          "output_type": "execute_result",
          "data": {
            "text/plain": [
              "((20001,), (20001,))"
            ]
          },
          "metadata": {},
          "execution_count": 15
        }
      ]
    },
    {
      "cell_type": "code",
      "source": [
        "celsius_q.reshape(-1,1).shape"
      ],
      "metadata": {
        "id": "SFjfJDd8R9q8",
        "outputId": "a56a199b-4487-491b-a1ad-8061c3b39a96",
        "colab": {
          "base_uri": "https://localhost:8080/"
        }
      },
      "execution_count": null,
      "outputs": [
        {
          "output_type": "execute_result",
          "data": {
            "text/plain": [
              "(20001, 1)"
            ]
          },
          "metadata": {},
          "execution_count": 16
        }
      ]
    },
    {
      "cell_type": "code",
      "source": [
        "%%time\n",
        "\n",
        "tf.keras.backend.set_floatx('float64')\n",
        "\n",
        "l0 = tf.keras.layers.Dense(units=4, input_shape=[1])  # 4 #Input(shape=1)\n",
        "l1 = tf.keras.layers.Dense(units=10) #10\n",
        "l11 = tf.keras.layers.Dense(units=10) #10\n",
        "l2 = tf.keras.layers.Dense(units=1)\n",
        "model = tf.keras.Sequential([l0, l1, l11, l2])\n",
        "\n",
        "import os\n",
        "\n",
        "folder = 'models'\n",
        "file = 'best_weights.keras'\n",
        "url = os.path.join(folder, file)\n",
        "os.makedirs(folder, exist_ok=True)\n",
        "checkpoint_filepath = 'best_weights.keras'\n",
        "model_checkpoint_callback = tf.keras.callbacks.ModelCheckpoint(\n",
        "    filepath=url,\n",
        "    monitor='loss',\n",
        "    verbose=0,\n",
        "    save_best_only=True,\n",
        ")\n",
        "\n",
        "model.compile(loss='mean_squared_error', optimizer=tf.keras.optimizers.Adamax(0.01))  #.Lamb(0.1))# 212\n",
        "\n",
        "epochs = 50 # 150 # 180 # 300 # 220 #100 #220\n",
        "history = model.fit(celsius_q, fahrenheit_a, epochs=epochs, verbose=1, callbacks=[model_checkpoint_callback]) # 600 800\n",
        "\n",
        "model.load_weights(url)\n",
        "\n",
        "print(\"Treinamento concluído\")\n",
        "print('\\nTemperatura Observada: 212.0')\n",
        "print('Temperatura Prevista:',model.predict(np.array(100.0).reshape(1,-1))[0][0])\n",
        "print('Erro:', 212.0 - model.predict(np.array(100.0).reshape(1,-1))[0][0])\n",
        "print()\n",
        "print()\n",
        "print(\"\\npesos da camada l0: {}\".format(l0.get_weights()))\n",
        "print(\"pesos da camada l1: {}\".format(l1.get_weights()))\n",
        "print(\"pesos da camada l2: {}\".format(l2.get_weights()))\n",
        "print('\\nTemperatura Observada: 212.0')\n",
        "print('Temperatura Prevista:',model.predict(np.array(100.0).reshape(1,-1))[0][0])\n",
        "\n",
        "#print('Erro:', 212.0 - model.predict(np.array(100.0).reshape(1,1))[0][0])\n",
        "\n",
        "print('Erro:', 212.0 - model.predict(np.array(100.0).reshape(1,-1))[0][0]) #this line is correct\n",
        "\n",
        "\n",
        "from sklearn.metrics import mean_squared_error, r2_score\n",
        "\n",
        "y_pred = model.predict(celsius_q.reshape(-1, 1))\n",
        "y_true = fahrenheit_a\n",
        "mse = mean_squared_error(y_true, y_pred)\n",
        "r2 = r2_score(y_true, y_pred)\n",
        "print(f\"Mean Squared Error: {mse}\")\n",
        "print(f\"R-squared: {r2}\")\n",
        "\n",
        "plotg(history)\n",
        "\n",
        "# Epoca de menor erro\n",
        "print('\\nEpoca de menor erro')\n",
        "epoch_min_error = np.argmin(history.history['loss'])\n",
        "print('\\nEpoca de menor erro', epoch_min_error)\n",
        "print('Erro:', history.history['loss'][epoch_min_error])\n",
        "print('\\nTemperatura Observada: 212.0')\n",
        "print('Temperatura Prevista:',model.predict(np.array(100.0).reshape(1,-1))[0][0])"
      ],
      "metadata": {
        "colab": {
          "base_uri": "https://localhost:8080/",
          "height": 1000
        },
        "id": "T3MXDzPso9rn",
        "outputId": "acd9bb3b-34a3-4a8c-99cf-d033090ffa3d"
      },
      "execution_count": null,
      "outputs": [
        {
          "output_type": "stream",
          "name": "stdout",
          "text": [
            "Epoch 1/50\n"
          ]
        },
        {
          "output_type": "stream",
          "name": "stderr",
          "text": [
            "/usr/local/lib/python3.10/dist-packages/keras/src/layers/core/dense.py:87: UserWarning: Do not pass an `input_shape`/`input_dim` argument to a layer. When using Sequential models, prefer using an `Input(shape)` object as the first layer in the model instead.\n",
            "  super().__init__(activity_regularizer=activity_regularizer, **kwargs)\n"
          ]
        },
        {
          "output_type": "stream",
          "name": "stdout",
          "text": [
            "\u001b[1m626/626\u001b[0m \u001b[32m━━━━━━━━━━━━━━━━━━━━\u001b[0m\u001b[37m\u001b[0m \u001b[1m3s\u001b[0m 2ms/step - loss: 1971087.2500\n",
            "Epoch 2/50\n",
            "\u001b[1m626/626\u001b[0m \u001b[32m━━━━━━━━━━━━━━━━━━━━\u001b[0m\u001b[37m\u001b[0m \u001b[1m1s\u001b[0m 2ms/step - loss: 860.4899\n",
            "Epoch 3/50\n",
            "\u001b[1m626/626\u001b[0m \u001b[32m━━━━━━━━━━━━━━━━━━━━\u001b[0m\u001b[37m\u001b[0m \u001b[1m1s\u001b[0m 2ms/step - loss: 646.5256\n",
            "Epoch 4/50\n",
            "\u001b[1m626/626\u001b[0m \u001b[32m━━━━━━━━━━━━━━━━━━━━\u001b[0m\u001b[37m\u001b[0m \u001b[1m1s\u001b[0m 2ms/step - loss: 383.4695\n",
            "Epoch 5/50\n",
            "\u001b[1m626/626\u001b[0m \u001b[32m━━━━━━━━━━━━━━━━━━━━\u001b[0m\u001b[37m\u001b[0m \u001b[1m1s\u001b[0m 2ms/step - loss: 145.5659\n",
            "Epoch 6/50\n",
            "\u001b[1m626/626\u001b[0m \u001b[32m━━━━━━━━━━━━━━━━━━━━\u001b[0m\u001b[37m\u001b[0m \u001b[1m1s\u001b[0m 2ms/step - loss: 25.3603\n",
            "Epoch 7/50\n",
            "\u001b[1m626/626\u001b[0m \u001b[32m━━━━━━━━━━━━━━━━━━━━\u001b[0m\u001b[37m\u001b[0m \u001b[1m1s\u001b[0m 2ms/step - loss: 1.0125\n",
            "Epoch 8/50\n",
            "\u001b[1m626/626\u001b[0m \u001b[32m━━━━━━━━━━━━━━━━━━━━\u001b[0m\u001b[37m\u001b[0m \u001b[1m1s\u001b[0m 2ms/step - loss: 60.1651\n",
            "Epoch 9/50\n",
            "\u001b[1m626/626\u001b[0m \u001b[32m━━━━━━━━━━━━━━━━━━━━\u001b[0m\u001b[37m\u001b[0m \u001b[1m1s\u001b[0m 2ms/step - loss: 92.0190\n",
            "Epoch 10/50\n",
            "\u001b[1m626/626\u001b[0m \u001b[32m━━━━━━━━━━━━━━━━━━━━\u001b[0m\u001b[37m\u001b[0m \u001b[1m1s\u001b[0m 1ms/step - loss: 2.5217\n",
            "Epoch 11/50\n",
            "\u001b[1m626/626\u001b[0m \u001b[32m━━━━━━━━━━━━━━━━━━━━\u001b[0m\u001b[37m\u001b[0m \u001b[1m1s\u001b[0m 1ms/step - loss: 242.3074\n",
            "Epoch 12/50\n",
            "\u001b[1m626/626\u001b[0m \u001b[32m━━━━━━━━━━━━━━━━━━━━\u001b[0m\u001b[37m\u001b[0m \u001b[1m1s\u001b[0m 1ms/step - loss: 308.3984\n",
            "Epoch 13/50\n",
            "\u001b[1m626/626\u001b[0m \u001b[32m━━━━━━━━━━━━━━━━━━━━\u001b[0m\u001b[37m\u001b[0m \u001b[1m1s\u001b[0m 1ms/step - loss: 1060.9135\n",
            "Epoch 14/50\n",
            "\u001b[1m626/626\u001b[0m \u001b[32m━━━━━━━━━━━━━━━━━━━━\u001b[0m\u001b[37m\u001b[0m \u001b[1m1s\u001b[0m 1ms/step - loss: 74.5296\n",
            "Epoch 15/50\n",
            "\u001b[1m626/626\u001b[0m \u001b[32m━━━━━━━━━━━━━━━━━━━━\u001b[0m\u001b[37m\u001b[0m \u001b[1m1s\u001b[0m 2ms/step - loss: 42.1177\n",
            "Epoch 16/50\n",
            "\u001b[1m626/626\u001b[0m \u001b[32m━━━━━━━━━━━━━━━━━━━━\u001b[0m\u001b[37m\u001b[0m \u001b[1m1s\u001b[0m 2ms/step - loss: 0.1355\n",
            "Epoch 17/50\n",
            "\u001b[1m626/626\u001b[0m \u001b[32m━━━━━━━━━━━━━━━━━━━━\u001b[0m\u001b[37m\u001b[0m \u001b[1m1s\u001b[0m 2ms/step - loss: 413.0496\n",
            "Epoch 18/50\n",
            "\u001b[1m626/626\u001b[0m \u001b[32m━━━━━━━━━━━━━━━━━━━━\u001b[0m\u001b[37m\u001b[0m \u001b[1m1s\u001b[0m 2ms/step - loss: 173.4583\n",
            "Epoch 19/50\n",
            "\u001b[1m626/626\u001b[0m \u001b[32m━━━━━━━━━━━━━━━━━━━━\u001b[0m\u001b[37m\u001b[0m \u001b[1m1s\u001b[0m 2ms/step - loss: 0.2368\n",
            "Epoch 20/50\n",
            "\u001b[1m626/626\u001b[0m \u001b[32m━━━━━━━━━━━━━━━━━━━━\u001b[0m\u001b[37m\u001b[0m \u001b[1m2s\u001b[0m 1ms/step - loss: 207.6535\n",
            "Epoch 21/50\n",
            "\u001b[1m626/626\u001b[0m \u001b[32m━━━━━━━━━━━━━━━━━━━━\u001b[0m\u001b[37m\u001b[0m \u001b[1m1s\u001b[0m 2ms/step - loss: 321.1517\n",
            "Epoch 22/50\n",
            "\u001b[1m626/626\u001b[0m \u001b[32m━━━━━━━━━━━━━━━━━━━━\u001b[0m\u001b[37m\u001b[0m \u001b[1m1s\u001b[0m 2ms/step - loss: 6.2007e-05\n",
            "Epoch 23/50\n",
            "\u001b[1m626/626\u001b[0m \u001b[32m━━━━━━━━━━━━━━━━━━━━\u001b[0m\u001b[37m\u001b[0m \u001b[1m1s\u001b[0m 2ms/step - loss: 189.3781\n",
            "Epoch 24/50\n",
            "\u001b[1m626/626\u001b[0m \u001b[32m━━━━━━━━━━━━━━━━━━━━\u001b[0m\u001b[37m\u001b[0m \u001b[1m1s\u001b[0m 2ms/step - loss: 31.0625\n",
            "Epoch 25/50\n",
            "\u001b[1m626/626\u001b[0m \u001b[32m━━━━━━━━━━━━━━━━━━━━\u001b[0m\u001b[37m\u001b[0m \u001b[1m1s\u001b[0m 2ms/step - loss: 45.7790\n",
            "Epoch 26/50\n",
            "\u001b[1m626/626\u001b[0m \u001b[32m━━━━━━━━━━━━━━━━━━━━\u001b[0m\u001b[37m\u001b[0m \u001b[1m1s\u001b[0m 1ms/step - loss: 21.8123\n",
            "Epoch 27/50\n",
            "\u001b[1m626/626\u001b[0m \u001b[32m━━━━━━━━━━━━━━━━━━━━\u001b[0m\u001b[37m\u001b[0m \u001b[1m1s\u001b[0m 1ms/step - loss: 0.1239\n",
            "Epoch 28/50\n",
            "\u001b[1m626/626\u001b[0m \u001b[32m━━━━━━━━━━━━━━━━━━━━\u001b[0m\u001b[37m\u001b[0m \u001b[1m2s\u001b[0m 2ms/step - loss: 325.2920\n",
            "Epoch 29/50\n",
            "\u001b[1m626/626\u001b[0m \u001b[32m━━━━━━━━━━━━━━━━━━━━\u001b[0m\u001b[37m\u001b[0m \u001b[1m1s\u001b[0m 2ms/step - loss: 29.0776\n",
            "Epoch 30/50\n",
            "\u001b[1m626/626\u001b[0m \u001b[32m━━━━━━━━━━━━━━━━━━━━\u001b[0m\u001b[37m\u001b[0m \u001b[1m2s\u001b[0m 2ms/step - loss: 103.1823\n",
            "Epoch 31/50\n",
            "\u001b[1m626/626\u001b[0m \u001b[32m━━━━━━━━━━━━━━━━━━━━\u001b[0m\u001b[37m\u001b[0m \u001b[1m1s\u001b[0m 2ms/step - loss: 202.1073\n",
            "Epoch 32/50\n",
            "\u001b[1m626/626\u001b[0m \u001b[32m━━━━━━━━━━━━━━━━━━━━\u001b[0m\u001b[37m\u001b[0m \u001b[1m1s\u001b[0m 1ms/step - loss: 49.7838\n",
            "Epoch 33/50\n",
            "\u001b[1m626/626\u001b[0m \u001b[32m━━━━━━━━━━━━━━━━━━━━\u001b[0m\u001b[37m\u001b[0m \u001b[1m1s\u001b[0m 2ms/step - loss: 79.9165\n",
            "Epoch 34/50\n",
            "\u001b[1m626/626\u001b[0m \u001b[32m━━━━━━━━━━━━━━━━━━━━\u001b[0m\u001b[37m\u001b[0m \u001b[1m1s\u001b[0m 2ms/step - loss: 57.0524\n",
            "Epoch 35/50\n",
            "\u001b[1m626/626\u001b[0m \u001b[32m━━━━━━━━━━━━━━━━━━━━\u001b[0m\u001b[37m\u001b[0m \u001b[1m1s\u001b[0m 1ms/step - loss: 6.5069\n",
            "Epoch 36/50\n",
            "\u001b[1m626/626\u001b[0m \u001b[32m━━━━━━━━━━━━━━━━━━━━\u001b[0m\u001b[37m\u001b[0m \u001b[1m1s\u001b[0m 1ms/step - loss: 19.3358\n",
            "Epoch 37/50\n",
            "\u001b[1m626/626\u001b[0m \u001b[32m━━━━━━━━━━━━━━━━━━━━\u001b[0m\u001b[37m\u001b[0m \u001b[1m1s\u001b[0m 2ms/step - loss: 255.7702\n",
            "Epoch 38/50\n",
            "\u001b[1m626/626\u001b[0m \u001b[32m━━━━━━━━━━━━━━━━━━━━\u001b[0m\u001b[37m\u001b[0m \u001b[1m1s\u001b[0m 2ms/step - loss: 0.0025\n",
            "Epoch 39/50\n",
            "\u001b[1m626/626\u001b[0m \u001b[32m━━━━━━━━━━━━━━━━━━━━\u001b[0m\u001b[37m\u001b[0m \u001b[1m1s\u001b[0m 2ms/step - loss: 111.1171\n",
            "Epoch 40/50\n",
            "\u001b[1m626/626\u001b[0m \u001b[32m━━━━━━━━━━━━━━━━━━━━\u001b[0m\u001b[37m\u001b[0m \u001b[1m2s\u001b[0m 2ms/step - loss: 120.8296\n",
            "Epoch 41/50\n",
            "\u001b[1m626/626\u001b[0m \u001b[32m━━━━━━━━━━━━━━━━━━━━\u001b[0m\u001b[37m\u001b[0m \u001b[1m1s\u001b[0m 2ms/step - loss: 153.8503\n",
            "Epoch 42/50\n",
            "\u001b[1m626/626\u001b[0m \u001b[32m━━━━━━━━━━━━━━━━━━━━\u001b[0m\u001b[37m\u001b[0m \u001b[1m1s\u001b[0m 2ms/step - loss: 55.4870\n",
            "Epoch 43/50\n",
            "\u001b[1m626/626\u001b[0m \u001b[32m━━━━━━━━━━━━━━━━━━━━\u001b[0m\u001b[37m\u001b[0m \u001b[1m1s\u001b[0m 2ms/step - loss: 55.0704\n",
            "Epoch 44/50\n",
            "\u001b[1m626/626\u001b[0m \u001b[32m━━━━━━━━━━━━━━━━━━━━\u001b[0m\u001b[37m\u001b[0m \u001b[1m1s\u001b[0m 2ms/step - loss: 601.7535\n",
            "Epoch 45/50\n",
            "\u001b[1m626/626\u001b[0m \u001b[32m━━━━━━━━━━━━━━━━━━━━\u001b[0m\u001b[37m\u001b[0m \u001b[1m1s\u001b[0m 2ms/step - loss: 0.0023\n",
            "Epoch 46/50\n",
            "\u001b[1m626/626\u001b[0m \u001b[32m━━━━━━━━━━━━━━━━━━━━\u001b[0m\u001b[37m\u001b[0m \u001b[1m1s\u001b[0m 2ms/step - loss: 7.3842\n",
            "Epoch 47/50\n",
            "\u001b[1m626/626\u001b[0m \u001b[32m━━━━━━━━━━━━━━━━━━━━\u001b[0m\u001b[37m\u001b[0m \u001b[1m1s\u001b[0m 2ms/step - loss: 88.1417\n",
            "Epoch 48/50\n",
            "\u001b[1m626/626\u001b[0m \u001b[32m━━━━━━━━━━━━━━━━━━━━\u001b[0m\u001b[37m\u001b[0m \u001b[1m1s\u001b[0m 2ms/step - loss: 48.9556\n",
            "Epoch 49/50\n",
            "\u001b[1m626/626\u001b[0m \u001b[32m━━━━━━━━━━━━━━━━━━━━\u001b[0m\u001b[37m\u001b[0m \u001b[1m1s\u001b[0m 2ms/step - loss: 84.4798\n",
            "Epoch 50/50\n",
            "\u001b[1m626/626\u001b[0m \u001b[32m━━━━━━━━━━━━━━━━━━━━\u001b[0m\u001b[37m\u001b[0m \u001b[1m2s\u001b[0m 2ms/step - loss: 292.4596\n",
            "Treinamento concluído\n",
            "\n",
            "Temperatura Observada: 212.0\n",
            "\u001b[1m1/1\u001b[0m \u001b[32m━━━━━━━━━━━━━━━━━━━━\u001b[0m\u001b[37m\u001b[0m \u001b[1m0s\u001b[0m 136ms/step\n",
            "Temperatura Prevista: 211.99774\n",
            "\u001b[1m1/1\u001b[0m \u001b[32m━━━━━━━━━━━━━━━━━━━━\u001b[0m\u001b[37m\u001b[0m \u001b[1m0s\u001b[0m 16ms/step\n",
            "Erro: 0.00225830078125\n",
            "\n",
            "\n",
            "\n",
            "pesos da camada l0: [array([[-0.40745485,  0.8393707 ,  0.40550202, -0.8982749 ]],\n",
            "      dtype=float32), array([-3.1374652,  2.4169447,  1.1037682, -2.6083212], dtype=float32)]\n",
            "pesos da camada l1: [array([[-0.58588004, -0.3218117 , -0.1591128 , -0.5251084 , -0.3472954 ,\n",
            "        -0.16399808, -0.27897447,  0.45630085, -0.52492076,  0.3263834 ],\n",
            "       [-0.44616282,  0.5250376 ,  0.37465325,  0.04804767, -0.5298056 ,\n",
            "        -0.23586117, -0.09620695, -0.08528909,  0.14192507, -0.55663747],\n",
            "       [-0.48561388,  0.31550243, -0.20314318, -0.2812778 , -0.42595208,\n",
            "        -0.18728158, -0.48808765, -0.3546672 ,  0.3068909 ,  0.1969022 ],\n",
            "       [-0.07145634,  0.59887403,  0.04776318, -0.3076666 , -0.5308421 ,\n",
            "         0.61998445, -0.18427818, -0.6894527 ,  0.2562775 ,  0.23593356]],\n",
            "      dtype=float32), array([-2.608458 , -2.7462168,  2.3514147,  2.571964 , -1.4542407,\n",
            "       -2.8191564, -1.3559511,  1.4082143,  2.8138819, -2.8062668],\n",
            "      dtype=float32)]\n",
            "pesos da camada l2: [array([[-0.43213084],\n",
            "       [-0.5618266 ],\n",
            "       [-0.67193186],\n",
            "       [ 0.16014145],\n",
            "       [ 0.18161926],\n",
            "       [ 0.5092979 ],\n",
            "       [-0.5723518 ],\n",
            "       [-0.00120385],\n",
            "       [ 0.18348096],\n",
            "       [-0.26274714]], dtype=float32), array([3.075794], dtype=float32)]\n",
            "\n",
            "Temperatura Observada: 212.0\n",
            "\u001b[1m1/1\u001b[0m \u001b[32m━━━━━━━━━━━━━━━━━━━━\u001b[0m\u001b[37m\u001b[0m \u001b[1m0s\u001b[0m 20ms/step\n",
            "Temperatura Prevista: 211.99774\n",
            "\u001b[1m1/1\u001b[0m \u001b[32m━━━━━━━━━━━━━━━━━━━━\u001b[0m\u001b[37m\u001b[0m \u001b[1m0s\u001b[0m 21ms/step\n",
            "Erro: 0.00225830078125\n",
            "\u001b[1m626/626\u001b[0m \u001b[32m━━━━━━━━━━━━━━━━━━━━\u001b[0m\u001b[37m\u001b[0m \u001b[1m1s\u001b[0m 1ms/step\n",
            "Mean Squared Error: 0.013104076986771771\n",
            "R-squared: 0.999999999878678\n",
            "\n",
            "Epoca de menor erro\n",
            "\n",
            "Epoca de menor erro 21\n",
            "Erro: 7.767546845465227e-05\n",
            "\n",
            "Temperatura Observada: 212.0\n",
            "\u001b[1m1/1\u001b[0m \u001b[32m━━━━━━━━━━━━━━━━━━━━\u001b[0m\u001b[37m\u001b[0m \u001b[1m0s\u001b[0m 16ms/step\n",
            "Temperatura Prevista: 211.99774\n",
            "CPU times: user 1min 1s, sys: 4.42 s, total: 1min 5s\n",
            "Wall time: 1min 6s\n"
          ]
        },
        {
          "output_type": "display_data",
          "data": {
            "text/plain": [
              "<Figure size 640x480 with 1 Axes>"
            ],
            "image/png": "[encoded data removed]"
          },
          "metadata": {}
        }
      ]
    },
    {
      "cell_type": "code",
      "source": [
        "y_pred = model.predict(celsius_q.reshape(-1, 1))\n",
        "y_true = fahrenheit_a\n",
        "mse = mean_squared_error(y_true, y_pred)\n",
        "r2 = r2_score(y_true, y_pred)\n",
        "print(f\"Mean Squared Error: {mse}\")\n",
        "print(f\"R-squared: {r2}\")\n",
        "\n",
        "plotg(history)\n",
        "\n",
        "# Epoca de menor erro\n",
        "print('\\nEpoca de menor erro')\n",
        "epoch_min_error = np.argmin(history.history['loss'])\n",
        "print('\\nEpoca de menor erro', epoch_min_error)\n",
        "print('Erro:', history.history['loss'][epoch_min_error])\n",
        "print('\\nTemperatura Observada: 212.0')\n",
        "print('Temperatura Prevista:',model.predict(np.array(100.0).reshape(1,-1))[0][0])"
      ],
      "metadata": {
        "colab": {
          "base_uri": "https://localhost:8080/",
          "height": 657
        },
        "id": "XQUvNzwqfHtS",
        "outputId": "5f9ffa5d-7d4d-4358-9ec4-531f0c25e6f7"
      },
      "execution_count": null,
      "outputs": [
        {
          "output_type": "stream",
          "name": "stdout",
          "text": [
            "\u001b[1m626/626\u001b[0m \u001b[32m━━━━━━━━━━━━━━━━━━━━\u001b[0m\u001b[37m\u001b[0m \u001b[1m1s\u001b[0m 1ms/step\n",
            "Mean Squared Error: 0.013104076986771771\n",
            "R-squared: 0.999999999878678\n",
            "\n",
            "Epoca de menor erro\n",
            "\n",
            "Epoca de menor erro 21\n",
            "Erro: 7.767546845465227e-05\n",
            "\n",
            "Temperatura Observada: 212.0\n",
            "\u001b[1m1/1\u001b[0m \u001b[32m━━━━━━━━━━━━━━━━━━━━\u001b[0m\u001b[37m\u001b[0m \u001b[1m0s\u001b[0m 18ms/step\n",
            "Temperatura Prevista: 211.99774\n"
          ]
        },
        {
          "output_type": "display_data",
          "data": {
            "text/plain": [
              "<Figure size 640x480 with 1 Axes>"
            ],
            "image/png": "[encoded data removed]"
          },
          "metadata": {}
        }
      ]
    },
    {
      "cell_type": "code",
      "source": [
        "# colocar em Escala\n",
        "\n",
        "def escala(X, mean=None, std=None):\n",
        "  if mean is None:\n",
        "    mean = np.mean(X)\n",
        "  if std is None:\n",
        "    std = np.std(X)\n",
        "  X = (X - mean) / std\n",
        "  #X = np.array(X,  dtype=np.float64)\n",
        "  #x = (X - np.mean(X)) / np.std(X)\n",
        "  return X, mean, std\n",
        "\n",
        "def inv_escala(X, mean, std):\n",
        "  X = X * std + mean\n",
        "  return X\n",
        "\n",
        "escala_celsius, mean, std   =  escala(celsius_q)\n",
        "print(celsius_q[:3])\n",
        "print(escala_celsius[:3])\n",
        "print(inv_escala(escala_celsius, mean, std)[:3])\n",
        "print(mean, std)"
      ],
      "metadata": {
        "colab": {
          "base_uri": "https://localhost:8080/"
        },
        "id": "iLEVBj3ZmbzI",
        "outputId": "5acd6879-e4af-4934-9e21-4ab530af6a54"
      },
      "execution_count": null,
      "outputs": [
        {
          "output_type": "stream",
          "name": "stdout",
          "text": [
            "[-10000.  -9999.  -9998.]\n",
            "[-1.73196421 -1.73179102 -1.73161782]\n",
            "[-10000.  -9999.  -9998.]\n",
            "0.0 5773.791359814335\n"
          ]
        }
      ]
    },
    {
      "cell_type": "code",
      "source": [
        "escala_celsius.shape[0]"
      ],
      "metadata": {
        "colab": {
          "base_uri": "https://localhost:8080/"
        },
        "id": "jwTMmySlGbq4",
        "outputId": "e7496ce7-e7db-4738-953d-0d547276b75f"
      },
      "execution_count": null,
      "outputs": [
        {
          "output_type": "execute_result",
          "data": {
            "text/plain": [
              "20001"
            ]
          },
          "metadata": {},
          "execution_count": 20
        }
      ]
    },
    {
      "cell_type": "code",
      "source": [
        "%%time\n",
        "\n",
        "tf.keras.backend.set_floatx('float64')\n",
        "from sklearn.metrics import mean_squared_error, r2_score\n",
        "import os\n",
        "\n",
        "linput = tf.keras.layers.Input(shape=(1,))\n",
        "l0 = tf.keras.layers.Dense(units=6)  # 4\n",
        "l1 = tf.keras.layers.Dense(units=12) #10\n",
        "l2 = tf.keras.layers.Dense(units=12) #10\n",
        "lout = tf.keras.layers.Dense(units=1)\n",
        "model = tf.keras.Sequential([linput, l0, l1, l2, lout])\n",
        "\n",
        "\n",
        "folder = 'models'\n",
        "file = 'best_weights.keras'\n",
        "url = os.path.join(folder, file)\n",
        "os.makedirs(folder, exist_ok=True)\n",
        "checkpoint_filepath = 'best_weights.keras'\n",
        "model_checkpoint_callback = tf.keras.callbacks.ModelCheckpoint(\n",
        "    filepath=url,\n",
        "    monitor='loss',\n",
        "    verbose=0,\n",
        "    save_best_only=True,\n",
        ")\n",
        "\n",
        "model.compile(loss='mean_squared_error', optimizer=tf.keras.optimizers.Adamax(0.01))  #.Lamb(0.1))# 212\n",
        "\n",
        "epochs = 10 #150 # 180 # 300 # 220 #100 #220\n",
        "history = model.fit(escala_celsius, fahrenheit_a, epochs=epochs, verbose=1, callbacks=[model_checkpoint_callback]) # 600 800 celsius_q\n",
        "\n",
        "model.load_weights(url)\n",
        "\n",
        "print(\"Treinamento concluído\")\n",
        "print('\\nTemperatura Observada: 212.0')\n",
        "\n",
        "temperatura = np.array(100).reshape(-1,1)\n",
        "temperatura_escala, _, _ = escala(temperatura, mean, std)\n",
        "\n",
        "print('Temperatura Prevista:',model.predict(temperatura_escala)[0][0])\n",
        "print('Erro:', 212.0 - model.predict(temperatura_escala)[0][0])\n",
        "print()\n",
        "print()\n",
        "print(\"\\npesos da camada l0: {}\".format(l0.get_weights()))\n",
        "print(\"pesos da camada l1: {}\".format(l1.get_weights()))\n",
        "print(\"pesos da camada l2: {}\".format(l2.get_weights()))\n",
        "print('\\nTemperatura Observada: 212.0')\n",
        "print('Temperatura Prevista:',  model.predict(np.array(temperatura_escala).reshape(-1,1)))\n",
        "print('Erro:', 212.0 - model.predict(np.array(temperatura_escala).reshape(-1,1))[0][0] )\n",
        "\n",
        "y_pred = model.predict(escala_celsius.reshape(-1, 1))\n",
        "y_true = fahrenheit_a\n",
        "mse = mean_squared_error(y_true, y_pred)\n",
        "r2 = r2_score(y_true, y_pred)\n",
        "print(f\"Mean Squared Error: {mse}\")\n",
        "print(f\"R-squared: {r2}\")\n",
        "\n",
        "plotg(history)\n",
        "\n",
        "# Epoca de menor erro\n",
        "epoch_min_error = np.argmin(history.history['loss'])\n",
        "print('\\nEpoca de menor erro:', epoch_min_error + 1)\n",
        "print('Erro:', history.history['loss'][epoch_min_error])\n",
        "print('\\nTemperatura Observada: 212.0')\n",
        "\n",
        "temperatura = np.array(100).reshape(-1,1)\n",
        "temperatura_escala, _, _ = escala(temperatura, mean, std)\n",
        "print('Temperatura Prevista:',  model.predict(np.array(temperatura_escala).reshape(-1,1))[0][0])"
      ],
      "metadata": {
        "colab": {
          "base_uri": "https://localhost:8080/",
          "height": 1000
        },
        "id": "irEvdtFemhQT",
        "outputId": "6bd8b9e1-d347-458d-d9e6-82d45f477589"
      },
      "execution_count": null,
      "outputs": [
        {
          "output_type": "stream",
          "name": "stdout",
          "text": [
            "Epoch 1/10\n",
            "\u001b[1m626/626\u001b[0m \u001b[32m━━━━━━━━━━━━━━━━━━━━\u001b[0m\u001b[37m\u001b[0m \u001b[1m3s\u001b[0m 2ms/step - loss: 67038632.0000\n",
            "Epoch 2/10\n",
            "\u001b[1m626/626\u001b[0m \u001b[32m━━━━━━━━━━━━━━━━━━━━\u001b[0m\u001b[37m\u001b[0m \u001b[1m1s\u001b[0m 2ms/step - loss: 1.7268e-05\n",
            "Epoch 3/10\n",
            "\u001b[1m626/626\u001b[0m \u001b[32m━━━━━━━━━━━━━━━━━━━━\u001b[0m\u001b[37m\u001b[0m \u001b[1m1s\u001b[0m 2ms/step - loss: 1.7354e-05\n",
            "Epoch 4/10\n",
            "\u001b[1m626/626\u001b[0m \u001b[32m━━━━━━━━━━━━━━━━━━━━\u001b[0m\u001b[37m\u001b[0m \u001b[1m1s\u001b[0m 2ms/step - loss: 1.1339e-05\n",
            "Epoch 5/10\n",
            "\u001b[1m626/626\u001b[0m \u001b[32m━━━━━━━━━━━━━━━━━━━━\u001b[0m\u001b[37m\u001b[0m \u001b[1m2s\u001b[0m 2ms/step - loss: 3.8056e-06\n",
            "Epoch 6/10\n",
            "\u001b[1m626/626\u001b[0m \u001b[32m━━━━━━━━━━━━━━━━━━━━\u001b[0m\u001b[37m\u001b[0m \u001b[1m1s\u001b[0m 2ms/step - loss: 1.2685e-06\n",
            "Epoch 7/10\n",
            "\u001b[1m626/626\u001b[0m \u001b[32m━━━━━━━━━━━━━━━━━━━━\u001b[0m\u001b[37m\u001b[0m \u001b[1m1s\u001b[0m 2ms/step - loss: 6.4701e-07\n",
            "Epoch 8/10\n",
            "\u001b[1m626/626\u001b[0m \u001b[32m━━━━━━━━━━━━━━━━━━━━\u001b[0m\u001b[37m\u001b[0m \u001b[1m1s\u001b[0m 2ms/step - loss: 5.8124e-07\n",
            "Epoch 9/10\n",
            "\u001b[1m626/626\u001b[0m \u001b[32m━━━━━━━━━━━━━━━━━━━━\u001b[0m\u001b[37m\u001b[0m \u001b[1m1s\u001b[0m 2ms/step - loss: 7.0098e-07\n",
            "Epoch 10/10\n",
            "\u001b[1m626/626\u001b[0m \u001b[32m━━━━━━━━━━━━━━━━━━━━\u001b[0m\u001b[37m\u001b[0m \u001b[1m1s\u001b[0m 1ms/step - loss: 7.6586e-06\n",
            "Treinamento concluído\n",
            "\n",
            "Temperatura Observada: 212.0\n",
            "\u001b[1m1/1\u001b[0m \u001b[32m━━━━━━━━━━━━━━━━━━━━\u001b[0m\u001b[37m\u001b[0m \u001b[1m0s\u001b[0m 122ms/step\n",
            "Temperatura Prevista: 211.99977\n",
            "\u001b[1m1/1\u001b[0m \u001b[32m━━━━━━━━━━━━━━━━━━━━\u001b[0m\u001b[37m\u001b[0m \u001b[1m0s\u001b[0m 17ms/step\n",
            "Erro: 0.0002288818359375\n",
            "\n",
            "\n",
            "\n",
            "pesos da camada l0: [array([[-1.5987338, -1.9799302, -1.7970945, -1.9657074,  2.3162744,\n",
            "        -2.1289756]], dtype=float32), array([-0.01376907, -0.0174062 , -0.00594148,  0.01186439,  0.01892392,\n",
            "        0.01714172], dtype=float32)]\n",
            "pesos da camada l1: [array([[-2.1925986, -1.2912306,  1.2269294, -1.5065873,  1.5624071,\n",
            "        -1.929942 , -1.205195 , -2.0118134, -1.8360435,  1.4950578,\n",
            "         1.0007733,  1.7572489],\n",
            "       [-2.2564018, -1.9876771,  1.9396454, -2.0682492,  1.6730747,\n",
            "        -1.3073555, -1.9168339, -1.8609831, -1.4675466,  2.0831316,\n",
            "         1.1123271,  1.504614 ],\n",
            "       [-2.093074 , -2.0847425,  1.1885031, -1.9081478,  2.1969929,\n",
            "        -1.1845802, -1.4127333, -1.1970683, -1.4927729,  1.9056991,\n",
            "         1.9509456,  1.4941428],\n",
            "       [-1.6873955, -1.9611806,  1.6846168, -1.6160412,  1.9505174,\n",
            "        -1.3950067, -1.7734851, -1.9474976, -1.8078449,  1.6076365,\n",
            "         1.8320036,  1.7160728],\n",
            "       [ 1.8455518,  2.1710775, -1.6974119,  1.5586224, -1.9186478,\n",
            "         1.8252705,  2.0070374,  2.2325804,  1.5560876, -2.2028413,\n",
            "        -1.7257571, -2.2035103],\n",
            "       [-1.768254 , -1.2578113,  1.7426844, -2.2048466,  1.5711149,\n",
            "        -1.613453 , -1.9935914, -2.2987993, -1.0463475,  1.5719559,\n",
            "         1.873252 ,  1.7433393]], dtype=float32), array([ 0.01801649,  0.01816674,  0.00607953,  0.01855114, -0.01918844,\n",
            "        0.02783846,  0.01855019,  0.01738065,  0.00018307, -0.01804011,\n",
            "        0.00600689, -0.01881959], dtype=float32)]\n",
            "pesos da camada l2: [array([[ 1.632812 ,  2.2318523, -1.9180664, -2.235561 , -1.926466 ,\n",
            "        -1.8896344, -2.0241807,  1.5873537, -1.6887275, -1.4684894,\n",
            "        -1.653699 , -1.5491229],\n",
            "       [ 2.0184162,  1.4024574, -1.8128349, -2.0544262, -1.5803299,\n",
            "        -1.5123812, -1.6856616,  1.3623382, -1.8902911, -1.7231491,\n",
            "        -2.2365322, -2.2043223],\n",
            "       [-1.4045181, -1.3547904,  1.9700755,  1.9394456,  1.7717915,\n",
            "         1.7566223,  1.8110896, -1.9978607,  1.2988976,  1.5359533,\n",
            "         1.3416371,  1.951718 ],\n",
            "       [ 1.611679 ,  1.5865066, -1.4219365, -1.9880135, -2.2168827,\n",
            "        -2.2080348, -1.8081235,  2.0085554, -1.575845 , -2.1278696,\n",
            "        -1.2578877, -2.1106381],\n",
            "       [-2.1510785, -2.1832333,  1.8513858,  1.6693811,  1.6963776,\n",
            "         1.3281778,  2.189159 , -1.9271294,  1.7950733,  1.2850797,\n",
            "         2.200274 ,  2.045761 ],\n",
            "       [ 1.6798924,  1.1530628, -1.8533255, -1.9363418, -1.6446946,\n",
            "        -1.7743069, -1.9406706,  2.0027337, -1.5813338, -1.8889278,\n",
            "        -1.1442453, -1.0434102],\n",
            "       [ 1.3256457,  2.1186495, -1.4765807, -1.988323 , -2.086894 ,\n",
            "        -1.4460121, -2.2561793,  2.2525973, -2.1285558, -1.4313543,\n",
            "        -2.0401952, -2.1013393],\n",
            "       [ 2.0571856,  2.0557854, -2.0641763, -2.2104008, -2.275219 ,\n",
            "        -1.6346236, -1.3897291,  1.4297955, -2.0289564, -1.2526588,\n",
            "        -1.4973412, -1.9173397],\n",
            "       [ 1.09613  ,  1.9932673, -1.3204046, -1.4850178, -1.2365394,\n",
            "        -1.247743 , -1.5230255,  1.1793205, -1.7475942, -1.855833 ,\n",
            "        -1.5952753, -1.680896 ],\n",
            "       [-2.0508409, -1.5289748,  1.4016209,  1.900848 ,  2.2024624,\n",
            "         1.855738 ,  1.4173319, -1.8222126,  1.8383565,  1.8438681,\n",
            "         2.2402189,  1.4973019],\n",
            "       [-2.1660576, -1.4902935,  1.5778345,  1.7606541,  1.3535684,\n",
            "         1.2689348,  1.3971434, -1.3607535,  1.7236038,  1.1732576,\n",
            "         2.091215 ,  1.7875869],\n",
            "       [-2.0963557, -1.3864964,  1.9171641,  1.7289382,  2.098113 ,\n",
            "         1.5214195,  2.2399452, -1.6709529,  1.8331422,  1.9170142,\n",
            "         1.8044754,  2.0293877]], dtype=float32), array([ 0.02184579,  0.02109266, -0.02073003, -0.02051598, -0.02067916,\n",
            "       -0.02003872, -0.02128407,  0.02016448, -0.0165379 , -0.01933735,\n",
            "       -0.02168645, -0.02147619], dtype=float32)]\n",
            "\n",
            "Temperatura Observada: 212.0\n",
            "\u001b[1m1/1\u001b[0m \u001b[32m━━━━━━━━━━━━━━━━━━━━\u001b[0m\u001b[37m\u001b[0m \u001b[1m0s\u001b[0m 16ms/step\n",
            "Temperatura Prevista: [[211.99977]]\n",
            "\u001b[1m1/1\u001b[0m \u001b[32m━━━━━━━━━━━━━━━━━━━━\u001b[0m\u001b[37m\u001b[0m \u001b[1m0s\u001b[0m 15ms/step\n",
            "Erro: 0.0002288818359375\n",
            "\u001b[1m626/626\u001b[0m \u001b[32m━━━━━━━━━━━━━━━━━━━━\u001b[0m\u001b[37m\u001b[0m \u001b[1m1s\u001b[0m 1ms/step\n",
            "Mean Squared Error: 4.88474658955547e-07\n",
            "R-squared: 0.9999999999999954\n",
            "\n",
            "Epoca de menor erro: 8\n",
            "Erro: 5.665552499043952e-07\n",
            "\n",
            "Temperatura Observada: 212.0\n",
            "\u001b[1m1/1\u001b[0m \u001b[32m━━━━━━━━━━━━━━━━━━━━\u001b[0m\u001b[37m\u001b[0m \u001b[1m0s\u001b[0m 16ms/step\n",
            "Temperatura Prevista: 211.99977\n",
            "CPU times: user 14.6 s, sys: 966 ms, total: 15.6 s\n",
            "Wall time: 16.8 s\n"
          ]
        },
        {
          "output_type": "display_data",
          "data": {
            "text/plain": [
              "<Figure size 640x480 with 1 Axes>"
            ],
            "image/png": "[encoded data removed]"
          },
          "metadata": {}
        }
      ]
    }
  ],
  "metadata": {
    "accelerator": "GPU",
    "colab": {
      "provenance": [],
      "gpuType": "T4"
    },
    "kernelspec": {
      "display_name": "Python 3",
      "name": "python3"
    },
    "language_info": {
      "codemirror_mode": {
        "name": "ipython",
        "version": 3
      },
      "file_extension": ".py",
      "mimetype": "text/x-python",
      "name": "python",
      "nbconvert_exporter": "python",
      "pygments_lexer": "ipython3",
      "version": "3.8.8"
    }
  },
  "nbformat": 4,
  "nbformat_minor": 0
}