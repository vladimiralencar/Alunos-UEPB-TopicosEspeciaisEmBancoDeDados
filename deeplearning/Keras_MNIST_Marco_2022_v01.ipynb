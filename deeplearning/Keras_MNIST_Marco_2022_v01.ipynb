{
 "cells": [
  {
   "cell_type": "markdown",
   "metadata": {
    "id": "PFDfn6xucIPz"
   },
   "source": [
    "## Keras - Reconhecimento de Dígitos (MNIST)"
   ]
  },
  {
   "cell_type": "code",
   "execution_count": 1,
   "metadata": {
    "colab": {
<<<<<<< HEAD
     "base_uri": "https://localhost:8080/"
=======
      "name": "Keras_MNIST_Marco_2022_v01.ipynb",
      "provenance": [],
      "collapsed_sections": [],
      "machine_shape": "hm",
      "include_colab_link": true
    },
    "kernelspec": {
      "display_name": "Python 3",
      "language": "python",
      "name": "python3"
>>>>>>> 087816cf9da14d87e620cbbc776cde5098adeaf5
    },
    "id": "qut7f9LHBY8t",
    "outputId": "59e72f0b-0c6e-4f53-f616-0ff18b4cbdd3"
   },
   "outputs": [
    {
     "name": "stdout",
     "output_type": "stream",
     "text": [
      "Sat Mar 26 07:52:03 2022       \n",
      "+-----------------------------------------------------------------------------+\n",
      "| NVIDIA-SMI 460.32.03    Driver Version: 460.32.03    CUDA Version: 11.2     |\n",
      "|-------------------------------+----------------------+----------------------+\n",
      "| GPU  Name        Persistence-M| Bus-Id        Disp.A | Volatile Uncorr. ECC |\n",
      "| Fan  Temp  Perf  Pwr:Usage/Cap|         Memory-Usage | GPU-Util  Compute M. |\n",
      "|                               |                      |               MIG M. |\n",
      "|===============================+======================+======================|\n",
      "|   0  Tesla K80           Off  | 00000000:00:04.0 Off |                    0 |\n",
      "| N/A   72C    P8    32W / 149W |      0MiB / 11441MiB |      0%      Default |\n",
      "|                               |                      |                  N/A |\n",
      "+-------------------------------+----------------------+----------------------+\n",
      "                                                                               \n",
      "+-----------------------------------------------------------------------------+\n",
      "| Processes:                                                                  |\n",
      "|  GPU   GI   CI        PID   Type   Process name                  GPU Memory |\n",
      "|        ID   ID                                                   Usage      |\n",
      "|=============================================================================|\n",
      "|  No running processes found                                                 |\n",
      "+-----------------------------------------------------------------------------+\n"
     ]
    }
   ],
   "source": [
    "!nvidia-smi"
   ]
  },
<<<<<<< HEAD
  {
   "cell_type": "code",
   "execution_count": 2,
   "metadata": {
    "id": "DOWs0me_cIP0"
   },
   "outputs": [],
   "source": [
    "import numpy as np\n",
    "import matplotlib.pyplot as plt\n",
    "plt.rcParams['figure.figsize'] = (7,7) # Make the figures a bit bigger\n",
    "from tensorflow.keras.datasets import mnist\n",
    "from tensorflow.keras.models import Sequential\n",
    "from tensorflow.keras.layers import Conv2D, MaxPooling2D, Dense, Flatten, Dropout, Activation\n",
    "from tensorflow.keras.optimizers import SGD, Adam, RMSprop\n",
    "from tensorflow.keras.utils import to_categorical\n",
    "from tensorflow.keras.models import load_model\n",
    "%matplotlib inline"
   ]
  },
  {
   "cell_type": "markdown",
   "metadata": {
    "id": "FhpUWYJwcIP8"
   },
   "source": [
    "## Carregando arquivo de dígitos"
   ]
  },
  {
   "cell_type": "code",
   "execution_count": 3,
   "metadata": {
    "colab": {
     "base_uri": "https://localhost:8080/"
=======
  "cells": [
    {
      "cell_type": "markdown",
      "metadata": {
        "id": "view-in-github",
        "colab_type": "text"
      },
      "source": [
        "<a href=\"https://colab.research.google.com/github/vladimiralencar/Alunos-UEPB-TopicosEspeciaisEmBancoDeDados/blob/master/deeplearning/Keras_MNIST_Marco_2022_v01.ipynb\" target=\"_parent\"><img src=\"https://colab.research.google.com/assets/colab-badge.svg\" alt=\"Open In Colab\"/></a>"
      ]
    },
    {
      "cell_type": "markdown",
      "metadata": {
        "id": "PFDfn6xucIPz"
      },
      "source": [
        "## Keras - Reconhecimento de Dígitos (MNIST)"
      ]
    },
    {
      "cell_type": "code",
      "metadata": {
        "id": "qut7f9LHBY8t",
        "colab": {
          "base_uri": "https://localhost:8080/"
        },
        "outputId": "59e72f0b-0c6e-4f53-f616-0ff18b4cbdd3"
      },
      "source": [
        "!nvidia-smi"
      ],
      "execution_count": null,
      "outputs": [
        {
          "output_type": "stream",
          "name": "stdout",
          "text": [
            "Sat Mar 26 07:52:03 2022       \n",
            "+-----------------------------------------------------------------------------+\n",
            "| NVIDIA-SMI 460.32.03    Driver Version: 460.32.03    CUDA Version: 11.2     |\n",
            "|-------------------------------+----------------------+----------------------+\n",
            "| GPU  Name        Persistence-M| Bus-Id        Disp.A | Volatile Uncorr. ECC |\n",
            "| Fan  Temp  Perf  Pwr:Usage/Cap|         Memory-Usage | GPU-Util  Compute M. |\n",
            "|                               |                      |               MIG M. |\n",
            "|===============================+======================+======================|\n",
            "|   0  Tesla K80           Off  | 00000000:00:04.0 Off |                    0 |\n",
            "| N/A   72C    P8    32W / 149W |      0MiB / 11441MiB |      0%      Default |\n",
            "|                               |                      |                  N/A |\n",
            "+-------------------------------+----------------------+----------------------+\n",
            "                                                                               \n",
            "+-----------------------------------------------------------------------------+\n",
            "| Processes:                                                                  |\n",
            "|  GPU   GI   CI        PID   Type   Process name                  GPU Memory |\n",
            "|        ID   ID                                                   Usage      |\n",
            "|=============================================================================|\n",
            "|  No running processes found                                                 |\n",
            "+-----------------------------------------------------------------------------+\n"
          ]
        }
      ]
    },
    {
      "cell_type": "code",
      "metadata": {
        "id": "DOWs0me_cIP0"
      },
      "source": [
        "import numpy as np\n",
        "import matplotlib.pyplot as plt\n",
        "plt.rcParams['figure.figsize'] = (7,7) # Make the figures a bit bigger\n",
        "from tensorflow.keras.datasets import mnist\n",
        "from tensorflow.keras.models import Sequential\n",
        "from tensorflow.keras.layers import Conv2D, MaxPooling2D, Dense, Flatten, Dropout, Activation\n",
        "from tensorflow.keras.optimizers import SGD, Adam, RMSprop\n",
        "from tensorflow.keras.utils import to_categorical\n",
        "from tensorflow.keras.models import load_model\n",
        "%matplotlib inline"
      ],
      "execution_count": null,
      "outputs": []
    },
    {
      "cell_type": "markdown",
      "metadata": {
        "id": "FhpUWYJwcIP8"
      },
      "source": [
        "## Carregando arquivo de dígitos"
      ]
    },
    {
      "cell_type": "code",
      "metadata": {
        "id": "KB9stpCWcIP9",
        "colab": {
          "base_uri": "https://localhost:8080/"
        },
        "outputId": "8228af00-e1fe-409c-e99a-72b5a8923587"
      },
      "source": [
        "nb_classes = 10\n",
        "\n",
        "# the data, shuffled and split between tran and test sets\n",
        "(X_train, y_train), (X_test, y_test) = mnist.load_data()\n",
        "print(\"X_train original shape\", X_train.shape)\n",
        "print(\"y_train original shape\", y_train.shape)"
      ],
      "execution_count": null,
      "outputs": [
        {
          "output_type": "stream",
          "name": "stdout",
          "text": [
            "Downloading data from https://storage.googleapis.com/tensorflow/tf-keras-datasets/mnist.npz\n",
            "11493376/11490434 [==============================] - 0s 0us/step\n",
            "11501568/11490434 [==============================] - 0s 0us/step\n",
            "X_train original shape (60000, 28, 28)\n",
            "y_train original shape (60000,)\n"
          ]
        }
      ]
    },
    {
      "cell_type": "markdown",
      "metadata": {
        "id": "iVv7M8TfcIQA"
      },
      "source": [
        "Let's look at some examples of the training data"
      ]
    },
    {
      "cell_type": "code",
      "metadata": {
        "id": "v1vFd-PxcIQB",
        "colab": {
          "base_uri": "https://localhost:8080/",
          "height": 281
        },
        "outputId": "fc81194c-67c9-4ca6-dea5-c4f21c2098f5"
      },
      "source": [
        "for i in range(9):\n",
        "    plt.subplot(3,3,i+1)\n",
        "    plt.imshow(X_train[i], cmap='gray', interpolation='none')\n",
        "    plt.title(\"Class {}\".format(y_train[i]))"
      ],
      "execution_count": null,
      "outputs": [
        {
          "output_type": "display_data",
          "data": {
            "text/plain": [
              "<Figure size 432x288 with 9 Axes>"
            ],
            "image/png": "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\n"
          },
          "metadata": {
            "needs_background": "light"
          }
        }
      ]
    },
    {
      "cell_type": "markdown",
      "metadata": {
        "id": "EVuPjfyUcIQE"
      },
      "source": [
        "## Formatar e  Colocar os dados em Escala \n",
        "Our neural-network is going to take a single vector for each training example, so we need to reshape the input so that each 28x28 image becomes a single 784 dimensional vector. We'll also scale the inputs to be in the range [0-1] rather than [0-255]"
      ]
    },
    {
      "cell_type": "code",
      "metadata": {
        "id": "Q_Q9REmIcIQF",
        "colab": {
          "base_uri": "https://localhost:8080/"
        },
        "outputId": "fc5b2f80-28f5-4ca5-addd-6acdf265d992"
      },
      "source": [
        "X_train = X_train.reshape(60000, 784)\n",
        "X_test = X_test.reshape(10000, 784)\n",
        "X_train = X_train.astype('float32')\n",
        "X_test = X_test.astype('float32')\n",
        "X_train /= 255\n",
        "X_test /= 255\n",
        "print(\"Training matrix shape\", X_train.shape)\n",
        "print(\"Testing matrix shape\", X_test.shape)"
      ],
      "execution_count": null,
      "outputs": [
        {
          "output_type": "stream",
          "name": "stdout",
          "text": [
            "Training matrix shape (60000, 784)\n",
            "Testing matrix shape (10000, 784)\n"
          ]
        }
      ]
    },
    {
      "cell_type": "markdown",
      "metadata": {
        "id": "Sm0DR8vwcIQJ"
      },
      "source": [
        "Modify the target matrices to be in the one-hot format, i.e.\n",
        "\n",
        "```\n",
        "0 -> [1, 0, 0, 0, 0, 0, 0, 0, 0]\n",
        "1 -> [0, 1, 0, 0, 0, 0, 0, 0, 0]\n",
        "2 -> [0, 0, 1, 0, 0, 0, 0, 0, 0]\n",
        "etc.\n",
        "```"
      ]
    },
    {
      "cell_type": "code",
      "metadata": {
        "id": "SEfGsZGNcIQK"
      },
      "source": [
        "# codificação ONE-HOT ENCODING\n",
        "Y_train = to_categorical(y_train, nb_classes)\n",
        "Y_test = to_categorical(y_test, nb_classes)"
      ],
      "execution_count": null,
      "outputs": []
    },
    {
      "cell_type": "code",
      "metadata": {
        "id": "g5dP0oIocIQN",
        "colab": {
          "base_uri": "https://localhost:8080/"
        },
        "outputId": "9ff1c694-c269-4e06-d00d-918cf42a9326"
      },
      "source": [
        "Y_test[0]"
      ],
      "execution_count": null,
      "outputs": [
        {
          "output_type": "execute_result",
          "data": {
            "text/plain": [
              "array([0., 0., 0., 0., 0., 0., 0., 1., 0., 0.], dtype=float32)"
            ]
          },
          "metadata": {},
          "execution_count": 7
        }
      ]
    },
    {
      "cell_type": "markdown",
      "metadata": {
        "id": "l8FKld2wcIQR"
      },
      "source": [
        "# Construindo a Rede Neural\n",
        "Build the neural-network. Here we'll do a simple 3 layer fully connected network.\n",
        "<img src=\"https://raw.githubusercontent.com/vladimiralencar/Alunos-UEPB-TopicosEspeciaisEmBancoDeDados/master/deeplearning/data/figure.png\" />"
      ]
    },
    {
      "cell_type": "code",
      "metadata": {
        "id": "45U_h6vQcIQS"
      },
      "source": [
        "model = Sequential()\n",
        "model.add(Dense(512, input_shape=(784,)))\n",
        "model.add(Activation('relu')) # An \"activation\" is just a non-linear function applied to the output\n",
        "                              # of the layer above. Here, with a \"rectified linear unit\",\n",
        "                              # we clamp all values below 0 to 0.\n",
        "                           \n",
        "#model.add(Dropout(0.3))   # Dropout helps protect the model from memorizing or \"overfitting\" the training data\n",
        "model.add(Dense(512))\n",
        "model.add(Activation('relu'))\n",
        "#model.add(Dropout(0.3))\n",
        "model.add(Dense(10))\n",
        "model.add(Activation('softmax')) # This special \"softmax\" activation among other things,\n",
        "                                 # ensures the output is a valid probaility distribution, that is\n",
        "                                 # that its values are all non-negative and sum to 1."
      ],
      "execution_count": null,
      "outputs": []
    },
    {
      "cell_type": "markdown",
      "metadata": {
        "id": "bprkmGQxcIQW"
      },
      "source": [
        "## Compile the model\n"
      ]
    },
    {
      "cell_type": "code",
      "metadata": {
        "id": "IlNffN5XcIQX",
        "colab": {
          "base_uri": "https://localhost:8080/"
        },
        "outputId": "7bb4c456-b9c4-4dd9-a3f0-099f1db71c87"
      },
      "source": [
        "model.compile(loss='categorical_crossentropy', optimizer='RMSprop', metrics=['accuracy'])\n",
        "model.summary()"
      ],
      "execution_count": null,
      "outputs": [
        {
          "output_type": "stream",
          "name": "stdout",
          "text": [
            "Model: \"sequential\"\n",
            "_________________________________________________________________\n",
            " Layer (type)                Output Shape              Param #   \n",
            "=================================================================\n",
            " dense (Dense)               (None, 512)               401920    \n",
            "                                                                 \n",
            " activation (Activation)     (None, 512)               0         \n",
            "                                                                 \n",
            " dense_1 (Dense)             (None, 512)               262656    \n",
            "                                                                 \n",
            " activation_1 (Activation)   (None, 512)               0         \n",
            "                                                                 \n",
            " dense_2 (Dense)             (None, 10)                5130      \n",
            "                                                                 \n",
            " activation_2 (Activation)   (None, 10)                0         \n",
            "                                                                 \n",
            "=================================================================\n",
            "Total params: 669,706\n",
            "Trainable params: 669,706\n",
            "Non-trainable params: 0\n",
            "_________________________________________________________________\n"
          ]
        }
      ]
    },
    {
      "cell_type": "markdown",
      "metadata": {
        "id": "2V_N8Ft-cIQb"
      },
      "source": [
        "## Train the model!\n",
        "This is the fun part: you can feed the training data loaded in earlier into this model and it will learn to classify digits"
      ]
>>>>>>> 087816cf9da14d87e620cbbc776cde5098adeaf5
    },
    "id": "KB9stpCWcIP9",
    "outputId": "8228af00-e1fe-409c-e99a-72b5a8923587"
   },
   "outputs": [
    {
<<<<<<< HEAD
     "name": "stdout",
     "output_type": "stream",
     "text": [
      "Downloading data from https://storage.googleapis.com/tensorflow/tf-keras-datasets/mnist.npz\n",
      "11493376/11490434 [==============================] - 0s 0us/step\n",
      "11501568/11490434 [==============================] - 0s 0us/step\n",
      "X_train original shape (60000, 28, 28)\n",
      "y_train original shape (60000,)\n"
     ]
    }
   ],
   "source": [
    "nb_classes = 10\n",
    "\n",
    "# the data, shuffled and split between tran and test sets\n",
    "(X_train, y_train), (X_test, y_test) = mnist.load_data()\n",
    "print(\"X_train original shape\", X_train.shape)\n",
    "print(\"y_train original shape\", y_train.shape)"
   ]
  },
  {
   "cell_type": "markdown",
   "metadata": {
    "id": "iVv7M8TfcIQA"
   },
   "source": [
    "Let's look at some examples of the training data"
   ]
  },
  {
   "cell_type": "code",
   "execution_count": 4,
   "metadata": {
    "colab": {
     "base_uri": "https://localhost:8080/",
     "height": 281
=======
      "cell_type": "code",
      "metadata": {
        "id": "Y7uvIivNcIQc",
        "colab": {
          "base_uri": "https://localhost:8080/"
        },
        "outputId": "643c5fc8-082b-45b7-c8f7-713667eda91a"
      },
      "source": [
        "%%time\n",
        "model.fit(X_train, Y_train,\n",
        "          batch_size=256, epochs=20,\n",
        "          verbose=1,\n",
        "          validation_data=(X_test, Y_test))"
      ],
      "execution_count": null,
      "outputs": [
        {
          "output_type": "stream",
          "name": "stdout",
          "text": [
            "Epoch 1/20\n",
            "235/235 [==============================] - 5s 8ms/step - loss: 0.2755 - accuracy: 0.9158 - val_loss: 0.1346 - val_accuracy: 0.9543\n",
            "Epoch 2/20\n",
            "235/235 [==============================] - 2s 6ms/step - loss: 0.0935 - accuracy: 0.9715 - val_loss: 0.0779 - val_accuracy: 0.9750\n",
            "Epoch 3/20\n",
            "235/235 [==============================] - 2s 6ms/step - loss: 0.0581 - accuracy: 0.9820 - val_loss: 0.1101 - val_accuracy: 0.9663\n",
            "Epoch 4/20\n",
            "235/235 [==============================] - 2s 7ms/step - loss: 0.0397 - accuracy: 0.9872 - val_loss: 0.0809 - val_accuracy: 0.9759\n",
            "Epoch 5/20\n",
            "235/235 [==============================] - 2s 6ms/step - loss: 0.0294 - accuracy: 0.9908 - val_loss: 0.0712 - val_accuracy: 0.9794\n",
            "Epoch 6/20\n",
            "235/235 [==============================] - 1s 6ms/step - loss: 0.0220 - accuracy: 0.9927 - val_loss: 0.0627 - val_accuracy: 0.9825\n",
            "Epoch 7/20\n",
            "235/235 [==============================] - 2s 7ms/step - loss: 0.0178 - accuracy: 0.9943 - val_loss: 0.0697 - val_accuracy: 0.9820\n",
            "Epoch 8/20\n",
            "235/235 [==============================] - 2s 7ms/step - loss: 0.0130 - accuracy: 0.9957 - val_loss: 0.0701 - val_accuracy: 0.9825\n",
            "Epoch 9/20\n",
            "235/235 [==============================] - 2s 6ms/step - loss: 0.0118 - accuracy: 0.9962 - val_loss: 0.0710 - val_accuracy: 0.9826\n",
            "Epoch 10/20\n",
            "235/235 [==============================] - 2s 7ms/step - loss: 0.0096 - accuracy: 0.9968 - val_loss: 0.0800 - val_accuracy: 0.9824\n",
            "Epoch 11/20\n",
            "235/235 [==============================] - 2s 6ms/step - loss: 0.0073 - accuracy: 0.9976 - val_loss: 0.0789 - val_accuracy: 0.9844\n",
            "Epoch 12/20\n",
            "235/235 [==============================] - 1s 6ms/step - loss: 0.0077 - accuracy: 0.9974 - val_loss: 0.0903 - val_accuracy: 0.9836\n",
            "Epoch 13/20\n",
            "235/235 [==============================] - 2s 7ms/step - loss: 0.0072 - accuracy: 0.9979 - val_loss: 0.0946 - val_accuracy: 0.9834\n",
            "Epoch 14/20\n",
            "235/235 [==============================] - 2s 7ms/step - loss: 0.0066 - accuracy: 0.9981 - val_loss: 0.1295 - val_accuracy: 0.9808\n",
            "Epoch 15/20\n",
            "235/235 [==============================] - 2s 7ms/step - loss: 0.0051 - accuracy: 0.9984 - val_loss: 0.1220 - val_accuracy: 0.9800\n",
            "Epoch 16/20\n",
            "235/235 [==============================] - 2s 6ms/step - loss: 0.0056 - accuracy: 0.9983 - val_loss: 0.1096 - val_accuracy: 0.9842\n",
            "Epoch 17/20\n",
            "235/235 [==============================] - 2s 7ms/step - loss: 0.0040 - accuracy: 0.9986 - val_loss: 0.1111 - val_accuracy: 0.9831\n",
            "Epoch 18/20\n",
            "235/235 [==============================] - 2s 6ms/step - loss: 0.0042 - accuracy: 0.9986 - val_loss: 0.1152 - val_accuracy: 0.9828\n",
            "Epoch 19/20\n",
            "235/235 [==============================] - 2s 7ms/step - loss: 0.0036 - accuracy: 0.9989 - val_loss: 0.1261 - val_accuracy: 0.9830\n",
            "Epoch 20/20\n",
            "235/235 [==============================] - 2s 7ms/step - loss: 0.0031 - accuracy: 0.9990 - val_loss: 0.1422 - val_accuracy: 0.9807\n",
            "CPU times: user 33.2 s, sys: 4.34 s, total: 37.5 s\n",
            "Wall time: 42 s\n"
          ]
        },
        {
          "output_type": "execute_result",
          "data": {
            "text/plain": [
              "<keras.callbacks.History at 0x7fad30571350>"
            ]
          },
          "metadata": {},
          "execution_count": 10
        }
      ]
>>>>>>> 087816cf9da14d87e620cbbc776cde5098adeaf5
    },
    "id": "v1vFd-PxcIQB",
    "outputId": "fc81194c-67c9-4ca6-dea5-c4f21c2098f5"
   },
   "outputs": [
    {
     "data": {
      "image/png": "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\n",
      "text/plain": [
       "<Figure size 432x288 with 9 Axes>"
      ]
     },
     "metadata": {
      "needs_background": "light"
     },
     "output_type": "display_data"
    }
   ],
   "source": [
    "for i in range(9):\n",
    "    plt.subplot(3,3,i+1)\n",
    "    plt.imshow(X_train[i], cmap='gray', interpolation='none')\n",
    "    plt.title(\"Class {}\".format(y_train[i]))"
   ]
  },
  {
   "cell_type": "markdown",
   "metadata": {
    "id": "EVuPjfyUcIQE"
   },
   "source": [
    "## Formatar e  Colocar os dados em Escala \n",
    "Our neural-network is going to take a single vector for each training example, so we need to reshape the input so that each 28x28 image becomes a single 784 dimensional vector. We'll also scale the inputs to be in the range [0-1] rather than [0-255]"
   ]
  },
  {
   "cell_type": "code",
   "execution_count": 5,
   "metadata": {
    "colab": {
     "base_uri": "https://localhost:8080/"
    },
    "id": "Q_Q9REmIcIQF",
    "outputId": "fc5b2f80-28f5-4ca5-addd-6acdf265d992"
   },
   "outputs": [
    {
<<<<<<< HEAD
     "name": "stdout",
     "output_type": "stream",
     "text": [
      "Training matrix shape (60000, 784)\n",
      "Testing matrix shape (10000, 784)\n"
     ]
    }
   ],
   "source": [
    "X_train = X_train.reshape(60000, 784)\n",
    "X_test = X_test.reshape(10000, 784)\n",
    "X_train = X_train.astype('float32')\n",
    "X_test = X_test.astype('float32')\n",
    "X_train /= 255\n",
    "X_test /= 255\n",
    "print(\"Training matrix shape\", X_train.shape)\n",
    "print(\"Testing matrix shape\", X_test.shape)"
   ]
  },
  {
   "cell_type": "markdown",
   "metadata": {
    "id": "Sm0DR8vwcIQJ"
   },
   "source": [
    "Modify the target matrices to be in the one-hot format, i.e.\n",
    "\n",
    "```\n",
    "0 -> [1, 0, 0, 0, 0, 0, 0, 0, 0]\n",
    "1 -> [0, 1, 0, 0, 0, 0, 0, 0, 0]\n",
    "2 -> [0, 0, 1, 0, 0, 0, 0, 0, 0]\n",
    "etc.\n",
    "```"
   ]
  },
  {
   "cell_type": "code",
   "execution_count": 6,
   "metadata": {
    "id": "SEfGsZGNcIQK"
   },
   "outputs": [],
   "source": [
    "# codificação ONE-HOT ENCODING\n",
    "Y_train = to_categorical(y_train, nb_classes)\n",
    "Y_test = to_categorical(y_test, nb_classes)"
   ]
  },
  {
   "cell_type": "code",
   "execution_count": 7,
   "metadata": {
    "colab": {
     "base_uri": "https://localhost:8080/"
=======
      "cell_type": "code",
      "metadata": {
        "id": "ESUE8YzEcIQh",
        "colab": {
          "base_uri": "https://localhost:8080/"
        },
        "outputId": "7e186cb0-7837-48f0-fe73-9d6e58ef157a"
      },
      "source": [
        "#loss = model.evaluate(X_test, Y_test,verbose=0)\n",
        "#print('Acurácia de teste:', 1 - loss)\n",
        "\n",
        "_, acc = model.evaluate(X_test, Y_test, verbose=0)\n",
        "print('> %.3f' % (acc * 100.0))"
      ],
      "execution_count": null,
      "outputs": [
        {
          "output_type": "stream",
          "name": "stdout",
          "text": [
            "> 98.070\n"
          ]
        }
      ]
>>>>>>> 087816cf9da14d87e620cbbc776cde5098adeaf5
    },
    "id": "g5dP0oIocIQN",
    "outputId": "9ff1c694-c269-4e06-d00d-918cf42a9326"
   },
   "outputs": [
    {
     "data": {
      "text/plain": [
       "array([0., 0., 0., 0., 0., 0., 0., 1., 0., 0.], dtype=float32)"
      ]
     },
     "execution_count": 7,
     "metadata": {},
     "output_type": "execute_result"
    }
   ],
   "source": [
    "Y_test[0]"
   ]
  },
  {
   "cell_type": "markdown",
   "metadata": {
    "id": "l8FKld2wcIQR"
   },
   "source": [
    "# Construindo a Rede Neural\n",
    "Build the neural-network. Here we'll do a simple 3 layer fully connected network.\n",
    "<img src=\"https://raw.githubusercontent.com/vladimiralencar/Alunos-UEPB-TopicosEspeciaisEmBancoDeDados/master/deeplearning/data/figure.png\" />"
   ]
  },
  {
   "cell_type": "code",
   "execution_count": 8,
   "metadata": {
    "id": "45U_h6vQcIQS"
   },
   "outputs": [],
   "source": [
    "model = Sequential()\n",
    "model.add(Dense(512, input_shape=(784,)))\n",
    "model.add(Activation('relu')) # An \"activation\" is just a non-linear function applied to the output\n",
    "                              # of the layer above. Here, with a \"rectified linear unit\",\n",
    "                              # we clamp all values below 0 to 0.\n",
    "                           \n",
    "#model.add(Dropout(0.3))   # Dropout helps protect the model from memorizing or \"overfitting\" the training data\n",
    "model.add(Dense(512))\n",
    "model.add(Activation('relu'))\n",
    "#model.add(Dropout(0.3))\n",
    "model.add(Dense(10))\n",
    "model.add(Activation('softmax')) # This special \"softmax\" activation among other things,\n",
    "                                 # ensures the output is a valid probaility distribution, that is\n",
    "                                 # that its values are all non-negative and sum to 1."
   ]
  },
  {
   "cell_type": "markdown",
   "metadata": {
    "id": "bprkmGQxcIQW"
   },
   "source": [
    "## Compile the model\n"
   ]
  },
  {
   "cell_type": "code",
   "execution_count": 9,
   "metadata": {
    "colab": {
     "base_uri": "https://localhost:8080/"
    },
    "id": "IlNffN5XcIQX",
    "outputId": "7bb4c456-b9c4-4dd9-a3f0-099f1db71c87"
   },
   "outputs": [
    {
     "name": "stdout",
     "output_type": "stream",
     "text": [
      "Model: \"sequential\"\n",
      "_________________________________________________________________\n",
      " Layer (type)                Output Shape              Param #   \n",
      "=================================================================\n",
      " dense (Dense)               (None, 512)               401920    \n",
      "                                                                 \n",
      " activation (Activation)     (None, 512)               0         \n",
      "                                                                 \n",
      " dense_1 (Dense)             (None, 512)               262656    \n",
      "                                                                 \n",
      " activation_1 (Activation)   (None, 512)               0         \n",
      "                                                                 \n",
      " dense_2 (Dense)             (None, 10)                5130      \n",
      "                                                                 \n",
      " activation_2 (Activation)   (None, 10)                0         \n",
      "                                                                 \n",
      "=================================================================\n",
      "Total params: 669,706\n",
      "Trainable params: 669,706\n",
      "Non-trainable params: 0\n",
      "_________________________________________________________________\n"
     ]
    }
   ],
   "source": [
    "model.compile(loss='categorical_crossentropy', optimizer='RMSprop', metrics=['accuracy'])\n",
    "model.summary()"
   ]
  },
  {
   "cell_type": "markdown",
   "metadata": {
    "id": "2V_N8Ft-cIQb"
   },
   "source": [
    "## Train the model!\n",
    "This is the fun part: you can feed the training data loaded in earlier into this model and it will learn to classify digits"
   ]
  },
  {
   "cell_type": "code",
   "execution_count": 10,
   "metadata": {
    "colab": {
     "base_uri": "https://localhost:8080/"
    },
    "id": "Y7uvIivNcIQc",
    "outputId": "643c5fc8-082b-45b7-c8f7-713667eda91a"
   },
   "outputs": [
    {
<<<<<<< HEAD
     "name": "stdout",
     "output_type": "stream",
     "text": [
      "Epoch 1/20\n",
      "235/235 [==============================] - 5s 8ms/step - loss: 0.2755 - accuracy: 0.9158 - val_loss: 0.1346 - val_accuracy: 0.9543\n",
      "Epoch 2/20\n",
      "235/235 [==============================] - 2s 6ms/step - loss: 0.0935 - accuracy: 0.9715 - val_loss: 0.0779 - val_accuracy: 0.9750\n",
      "Epoch 3/20\n",
      "235/235 [==============================] - 2s 6ms/step - loss: 0.0581 - accuracy: 0.9820 - val_loss: 0.1101 - val_accuracy: 0.9663\n",
      "Epoch 4/20\n",
      "235/235 [==============================] - 2s 7ms/step - loss: 0.0397 - accuracy: 0.9872 - val_loss: 0.0809 - val_accuracy: 0.9759\n",
      "Epoch 5/20\n",
      "235/235 [==============================] - 2s 6ms/step - loss: 0.0294 - accuracy: 0.9908 - val_loss: 0.0712 - val_accuracy: 0.9794\n",
      "Epoch 6/20\n",
      "235/235 [==============================] - 1s 6ms/step - loss: 0.0220 - accuracy: 0.9927 - val_loss: 0.0627 - val_accuracy: 0.9825\n",
      "Epoch 7/20\n",
      "235/235 [==============================] - 2s 7ms/step - loss: 0.0178 - accuracy: 0.9943 - val_loss: 0.0697 - val_accuracy: 0.9820\n",
      "Epoch 8/20\n",
      "235/235 [==============================] - 2s 7ms/step - loss: 0.0130 - accuracy: 0.9957 - val_loss: 0.0701 - val_accuracy: 0.9825\n",
      "Epoch 9/20\n",
      "235/235 [==============================] - 2s 6ms/step - loss: 0.0118 - accuracy: 0.9962 - val_loss: 0.0710 - val_accuracy: 0.9826\n",
      "Epoch 10/20\n",
      "235/235 [==============================] - 2s 7ms/step - loss: 0.0096 - accuracy: 0.9968 - val_loss: 0.0800 - val_accuracy: 0.9824\n",
      "Epoch 11/20\n",
      "235/235 [==============================] - 2s 6ms/step - loss: 0.0073 - accuracy: 0.9976 - val_loss: 0.0789 - val_accuracy: 0.9844\n",
      "Epoch 12/20\n",
      "235/235 [==============================] - 1s 6ms/step - loss: 0.0077 - accuracy: 0.9974 - val_loss: 0.0903 - val_accuracy: 0.9836\n",
      "Epoch 13/20\n",
      "235/235 [==============================] - 2s 7ms/step - loss: 0.0072 - accuracy: 0.9979 - val_loss: 0.0946 - val_accuracy: 0.9834\n",
      "Epoch 14/20\n",
      "235/235 [==============================] - 2s 7ms/step - loss: 0.0066 - accuracy: 0.9981 - val_loss: 0.1295 - val_accuracy: 0.9808\n",
      "Epoch 15/20\n",
      "235/235 [==============================] - 2s 7ms/step - loss: 0.0051 - accuracy: 0.9984 - val_loss: 0.1220 - val_accuracy: 0.9800\n",
      "Epoch 16/20\n",
      "235/235 [==============================] - 2s 6ms/step - loss: 0.0056 - accuracy: 0.9983 - val_loss: 0.1096 - val_accuracy: 0.9842\n",
      "Epoch 17/20\n",
      "235/235 [==============================] - 2s 7ms/step - loss: 0.0040 - accuracy: 0.9986 - val_loss: 0.1111 - val_accuracy: 0.9831\n",
      "Epoch 18/20\n",
      "235/235 [==============================] - 2s 6ms/step - loss: 0.0042 - accuracy: 0.9986 - val_loss: 0.1152 - val_accuracy: 0.9828\n",
      "Epoch 19/20\n",
      "235/235 [==============================] - 2s 7ms/step - loss: 0.0036 - accuracy: 0.9989 - val_loss: 0.1261 - val_accuracy: 0.9830\n",
      "Epoch 20/20\n",
      "235/235 [==============================] - 2s 7ms/step - loss: 0.0031 - accuracy: 0.9990 - val_loss: 0.1422 - val_accuracy: 0.9807\n",
      "CPU times: user 33.2 s, sys: 4.34 s, total: 37.5 s\n",
      "Wall time: 42 s\n"
     ]
    },
    {
     "data": {
      "text/plain": [
       "<keras.callbacks.History at 0x7fad30571350>"
=======
      "cell_type": "code",
      "metadata": {
        "id": "TA6O3OOJ4qu_",
        "colab": {
          "base_uri": "https://localhost:8080/"
        },
        "outputId": "a8960fc0-72d8-461d-d0bd-91d5048e8205"
      },
      "source": [
        "# define cnn model\n",
        "model = Sequential() # 32\n",
        "model.add(Conv2D(128, (3, 3), activation='relu', kernel_initializer='he_uniform', input_shape=(28, 28, 1) ) ) #\n",
        "model.add(Conv2D(128, (3, 3), activation='relu'))\n",
        "model.add(MaxPooling2D((2, 2)))\n",
        "model.add(Dropout(0.25))\n",
        "model.add(Flatten())\n",
        "model.add(Dense(100, activation='relu',  kernel_initializer='he_uniform')) #))\n",
        "model.add(Dense(10, activation='softmax'))\n",
        "\n",
        "# compile model\n",
        "#opt = SGD(lr=0.01, momentum=0.9)\n",
        "model.compile(optimizer=\"adam\", loss='categorical_crossentropy', metrics=['accuracy'])\n",
        "model.summary()"
      ],
      "execution_count": null,
      "outputs": [
        {
          "output_type": "stream",
          "name": "stdout",
          "text": [
            "Model: \"sequential_1\"\n",
            "_________________________________________________________________\n",
            " Layer (type)                Output Shape              Param #   \n",
            "=================================================================\n",
            " conv2d (Conv2D)             (None, 26, 26, 128)       1280      \n",
            "                                                                 \n",
            " conv2d_1 (Conv2D)           (None, 24, 24, 128)       147584    \n",
            "                                                                 \n",
            " max_pooling2d (MaxPooling2D  (None, 12, 12, 128)      0         \n",
            " )                                                               \n",
            "                                                                 \n",
            " dropout (Dropout)           (None, 12, 12, 128)       0         \n",
            "                                                                 \n",
            " flatten (Flatten)           (None, 18432)             0         \n",
            "                                                                 \n",
            " dense_3 (Dense)             (None, 100)               1843300   \n",
            "                                                                 \n",
            " dense_4 (Dense)             (None, 10)                1010      \n",
            "                                                                 \n",
            "=================================================================\n",
            "Total params: 1,993,174\n",
            "Trainable params: 1,993,174\n",
            "Non-trainable params: 0\n",
            "_________________________________________________________________\n"
          ]
        }
      ]
    },
    {
      "cell_type": "code",
      "metadata": {
        "id": "fR5PfERn4qu_",
        "colab": {
          "base_uri": "https://localhost:8080/"
        },
        "outputId": "fe655cf8-0271-4659-a387-e3d3a1ec0bdb"
      },
      "source": [
        "# reshape dataset to have a single channel\n",
        "(X_train, y_train), (X_test, y_test) = mnist.load_data()\n",
        "X_train = X_train.reshape((X_train.shape[0], 28, 28, 1))\n",
        "X_test = X_test.reshape((X_test.shape[0], 28, 28, 1))\n",
        "\n",
        "X_train = X_train.astype('float32')\n",
        "X_test = X_test.astype('float32')\n",
        "X_train /= 255.0\n",
        "X_test /= 255.0\n",
        "print(\"Training matrix shape\", X_train.shape)\n",
        "print(\"Testing matrix shape\", X_test.shape)\n",
        "\n",
        "# one hot encode target values\n",
        "Y_train = to_categorical(y_train)\n",
        "Y_test = to_categorical(y_test)\n",
        "\n",
        "print(\"y Testing matrix shape\", Y_test.shape)"
      ],
      "execution_count": null,
      "outputs": [
        {
          "output_type": "stream",
          "name": "stdout",
          "text": [
            "Training matrix shape (60000, 28, 28, 1)\n",
            "Testing matrix shape (10000, 28, 28, 1)\n",
            "y Testing matrix shape (10000, 10)\n"
          ]
        }
>>>>>>> 087816cf9da14d87e620cbbc776cde5098adeaf5
      ]
     },
     "execution_count": 10,
     "metadata": {},
     "output_type": "execute_result"
    }
   ],
   "source": [
    "%%time\n",
    "model.fit(X_train, Y_train,\n",
    "          batch_size=256, epochs=20,\n",
    "          verbose=1,\n",
    "          validation_data=(X_test, Y_test))"
   ]
  },
  {
   "cell_type": "markdown",
   "metadata": {
    "id": "LN4I2tmAcIQg"
   },
   "source": [
    "## Finally, evaluate its performance"
   ]
  },
  {
   "cell_type": "code",
   "execution_count": 11,
   "metadata": {
    "colab": {
     "base_uri": "https://localhost:8080/"
    },
    "id": "ESUE8YzEcIQh",
    "outputId": "7e186cb0-7837-48f0-fe73-9d6e58ef157a"
   },
   "outputs": [
    {
<<<<<<< HEAD
     "name": "stdout",
     "output_type": "stream",
     "text": [
      "> 98.070\n"
     ]
    }
   ],
   "source": [
    "#loss = model.evaluate(X_test, Y_test,verbose=0)\n",
    "#print('Acurácia de teste:', 1 - loss)\n",
    "\n",
    "_, acc = model.evaluate(X_test, Y_test, verbose=0)\n",
    "print('> %.3f' % (acc * 100.0))"
   ]
  },
  {
   "cell_type": "markdown",
   "metadata": {
    "id": "CdJ5z8Sg4qu_"
   },
   "source": [
    "# CNN Model"
   ]
  },
  {
   "cell_type": "markdown",
   "metadata": {
    "id": "5T6ozRm84qu_"
   },
   "source": [
    "![image](https://lh4.googleusercontent.com/ojMXAE77tiVVF3RSqK1lldysJx5OzBJdE5ng_0w7GpHYWl9GR9jjBN0p56UFW3dM3gEdS-0oTOw0IjORJXVImFvcXdD-EnFibJl06gxMN_kYTeOyfmanNEvXK59CYzt2t_3DifPG)"
   ]
  },
  {
   "cell_type": "code",
   "execution_count": 12,
   "metadata": {
    "colab": {
     "base_uri": "https://localhost:8080/"
=======
      "cell_type": "markdown",
      "source": [
        "# Particiona em Treino e Validação o dataset de Treino"
      ],
      "metadata": {
        "id": "8VwdGj-HRWiO"
      }
    },
    {
      "cell_type": "code",
      "source": [
        "# Particiona em Treino e Validação o dataset de Treino\n",
        "\n",
        "X_valid=X_train[55000:]\n",
        "y_valid=Y_train[55000:]\n",
        "\n",
        "X_train=X_train[:55000]\n",
        "y_train=y_train[:55000]\n",
        "y_train = to_categorical(y_train)\n",
        "\n",
        "\n",
        "print(\"Training matrix shape\", X_train.shape)\n",
        "print(\"Testing matrix shape\", X_valid.shape)"
      ],
      "metadata": {
        "colab": {
          "base_uri": "https://localhost:8080/"
        },
        "id": "Ysy6R0wEQ5Ny",
        "outputId": "4908d0da-a2f2-4c95-e4a9-c6da8bb5efc5"
      },
      "execution_count": null,
      "outputs": [
        {
          "output_type": "stream",
          "name": "stdout",
          "text": [
            "Training matrix shape (55000, 28, 28, 1)\n",
            "Testing matrix shape (5000, 28, 28, 1)\n"
          ]
        }
      ]
>>>>>>> 087816cf9da14d87e620cbbc776cde5098adeaf5
    },
    "id": "TA6O3OOJ4qu_",
    "outputId": "a8960fc0-72d8-461d-d0bd-91d5048e8205"
   },
   "outputs": [
    {
<<<<<<< HEAD
     "name": "stdout",
     "output_type": "stream",
     "text": [
      "Model: \"sequential_1\"\n",
      "_________________________________________________________________\n",
      " Layer (type)                Output Shape              Param #   \n",
      "=================================================================\n",
      " conv2d (Conv2D)             (None, 26, 26, 128)       1280      \n",
      "                                                                 \n",
      " conv2d_1 (Conv2D)           (None, 24, 24, 128)       147584    \n",
      "                                                                 \n",
      " max_pooling2d (MaxPooling2D  (None, 12, 12, 128)      0         \n",
      " )                                                               \n",
      "                                                                 \n",
      " dropout (Dropout)           (None, 12, 12, 128)       0         \n",
      "                                                                 \n",
      " flatten (Flatten)           (None, 18432)             0         \n",
      "                                                                 \n",
      " dense_3 (Dense)             (None, 100)               1843300   \n",
      "                                                                 \n",
      " dense_4 (Dense)             (None, 10)                1010      \n",
      "                                                                 \n",
      "=================================================================\n",
      "Total params: 1,993,174\n",
      "Trainable params: 1,993,174\n",
      "Non-trainable params: 0\n",
      "_________________________________________________________________\n"
     ]
    }
   ],
   "source": [
    "# define cnn model\n",
    "model = Sequential() # 32\n",
    "model.add(Conv2D(128, (3, 3), activation='relu', kernel_initializer='he_uniform', input_shape=(28, 28, 1) ) ) #\n",
    "model.add(Conv2D(128, (3, 3), activation='relu'))\n",
    "model.add(MaxPooling2D((2, 2)))\n",
    "model.add(Dropout(0.25))\n",
    "model.add(Flatten())\n",
    "model.add(Dense(100, activation='relu',  kernel_initializer='he_uniform')) #))\n",
    "model.add(Dense(10, activation='softmax'))\n",
    "\n",
    "# compile model\n",
    "#opt = SGD(lr=0.01, momentum=0.9)\n",
    "model.compile(optimizer=\"adam\", loss='categorical_crossentropy', metrics=['accuracy'])\n",
    "model.summary()"
   ]
  },
  {
   "cell_type": "code",
   "execution_count": 34,
   "metadata": {
    "colab": {
     "base_uri": "https://localhost:8080/"
=======
      "cell_type": "code",
      "metadata": {
        "id": "M2jVaQtJ4qu_",
        "colab": {
          "base_uri": "https://localhost:8080/"
        },
        "outputId": "ece1eae2-d6ee-4296-8bd2-6abd4726b533"
      },
      "source": [
        "%%time\n",
        "\n",
        "history = model.fit(X_train, y_train, \n",
        "                    epochs=20, #10, #20, # 6\n",
        "                    batch_size=512, #512, \n",
        "                    validation_data=(X_valid, y_valid), \n",
        "                    verbose=1)"
      ],
      "execution_count": null,
      "outputs": [
        {
          "output_type": "stream",
          "name": "stdout",
          "text": [
            "Epoch 1/20\n",
            "108/108 [==============================] - 14s 132ms/step - loss: 7.4942e-05 - accuracy: 1.0000 - val_loss: 0.0059 - val_accuracy: 0.9986\n",
            "Epoch 2/20\n",
            "108/108 [==============================] - 14s 131ms/step - loss: 1.3024e-04 - accuracy: 0.9999 - val_loss: 0.0050 - val_accuracy: 0.9986\n",
            "Epoch 3/20\n",
            "108/108 [==============================] - 14s 131ms/step - loss: 8.8893e-05 - accuracy: 0.9999 - val_loss: 0.0045 - val_accuracy: 0.9986\n",
            "Epoch 4/20\n",
            "108/108 [==============================] - 14s 130ms/step - loss: 1.9283e-04 - accuracy: 0.9999 - val_loss: 0.0043 - val_accuracy: 0.9988\n",
            "Epoch 5/20\n",
            "108/108 [==============================] - 14s 132ms/step - loss: 6.8000e-05 - accuracy: 1.0000 - val_loss: 0.0043 - val_accuracy: 0.9990\n",
            "Epoch 6/20\n",
            "108/108 [==============================] - 14s 130ms/step - loss: 7.1900e-05 - accuracy: 1.0000 - val_loss: 0.0045 - val_accuracy: 0.9988\n",
            "Epoch 7/20\n",
            "108/108 [==============================] - 14s 131ms/step - loss: 1.8040e-05 - accuracy: 1.0000 - val_loss: 0.0047 - val_accuracy: 0.9986\n",
            "Epoch 8/20\n",
            "108/108 [==============================] - 14s 130ms/step - loss: 8.9573e-05 - accuracy: 1.0000 - val_loss: 0.0045 - val_accuracy: 0.9988\n",
            "Epoch 9/20\n",
            "108/108 [==============================] - 14s 130ms/step - loss: 2.7976e-05 - accuracy: 1.0000 - val_loss: 0.0051 - val_accuracy: 0.9986\n",
            "Epoch 10/20\n",
            "108/108 [==============================] - 14s 130ms/step - loss: 2.0000e-05 - accuracy: 1.0000 - val_loss: 0.0048 - val_accuracy: 0.9988\n",
            "Epoch 11/20\n",
            "108/108 [==============================] - 14s 130ms/step - loss: 3.7394e-05 - accuracy: 1.0000 - val_loss: 0.0045 - val_accuracy: 0.9990\n",
            "Epoch 12/20\n",
            "108/108 [==============================] - 14s 130ms/step - loss: 3.2809e-05 - accuracy: 1.0000 - val_loss: 0.0049 - val_accuracy: 0.9988\n",
            "Epoch 13/20\n",
            "108/108 [==============================] - 14s 130ms/step - loss: 1.7558e-05 - accuracy: 1.0000 - val_loss: 0.0046 - val_accuracy: 0.9992\n",
            "Epoch 14/20\n",
            "108/108 [==============================] - 14s 130ms/step - loss: 1.9141e-04 - accuracy: 0.9999 - val_loss: 0.0038 - val_accuracy: 0.9990\n",
            "Epoch 15/20\n",
            "108/108 [==============================] - 14s 130ms/step - loss: 2.4357e-04 - accuracy: 0.9999 - val_loss: 0.0050 - val_accuracy: 0.9990\n",
            "Epoch 16/20\n",
            "108/108 [==============================] - 14s 132ms/step - loss: 2.4598e-04 - accuracy: 0.9999 - val_loss: 0.0053 - val_accuracy: 0.9990\n",
            "Epoch 17/20\n",
            "108/108 [==============================] - 14s 130ms/step - loss: 3.7048e-05 - accuracy: 1.0000 - val_loss: 0.0053 - val_accuracy: 0.9988\n",
            "Epoch 18/20\n",
            "108/108 [==============================] - 14s 130ms/step - loss: 5.3697e-05 - accuracy: 1.0000 - val_loss: 0.0053 - val_accuracy: 0.9992\n",
            "Epoch 19/20\n",
            "108/108 [==============================] - 14s 130ms/step - loss: 3.8976e-05 - accuracy: 1.0000 - val_loss: 0.0058 - val_accuracy: 0.9988\n",
            "Epoch 20/20\n",
            "108/108 [==============================] - 14s 130ms/step - loss: 2.0138e-05 - accuracy: 1.0000 - val_loss: 0.0061 - val_accuracy: 0.9988\n",
            "CPU times: user 3min 9s, sys: 6.71 s, total: 3min 16s\n",
            "Wall time: 5min 22s\n"
          ]
        }
      ]
>>>>>>> 087816cf9da14d87e620cbbc776cde5098adeaf5
    },
    "id": "fR5PfERn4qu_",
    "outputId": "fe655cf8-0271-4659-a387-e3d3a1ec0bdb"
   },
   "outputs": [
    {
     "name": "stdout",
     "output_type": "stream",
     "text": [
      "Training matrix shape (60000, 28, 28, 1)\n",
      "Testing matrix shape (10000, 28, 28, 1)\n",
      "y Testing matrix shape (10000, 10)\n"
     ]
    }
   ],
   "source": [
    "# reshape dataset to have a single channel\n",
    "(X_train, y_train), (X_test, y_test) = mnist.load_data()\n",
    "X_train = X_train.reshape((X_train.shape[0], 28, 28, 1))\n",
    "X_test = X_test.reshape((X_test.shape[0], 28, 28, 1))\n",
    "\n",
    "X_train = X_train.astype('float32')\n",
    "X_test = X_test.astype('float32')\n",
    "X_train /= 255.0\n",
    "X_test /= 255.0\n",
    "print(\"Training matrix shape\", X_train.shape)\n",
    "print(\"Testing matrix shape\", X_test.shape)\n",
    "\n",
    "# one hot encode target values\n",
    "Y_train = to_categorical(y_train)\n",
    "Y_test = to_categorical(y_test)\n",
    "\n",
    "print(\"y Testing matrix shape\", Y_test.shape)"
   ]
  },
  {
   "cell_type": "markdown",
   "metadata": {
    "id": "8VwdGj-HRWiO"
   },
   "source": [
    "# Particiona em Treino e Validação o dataset de Treino"
   ]
  },
  {
   "cell_type": "code",
   "execution_count": 35,
   "metadata": {
    "colab": {
     "base_uri": "https://localhost:8080/"
    },
    "id": "Ysy6R0wEQ5Ny",
    "outputId": "4908d0da-a2f2-4c95-e4a9-c6da8bb5efc5"
   },
   "outputs": [
    {
<<<<<<< HEAD
     "name": "stdout",
     "output_type": "stream",
     "text": [
      "Training matrix shape (55000, 28, 28, 1)\n",
      "Testing matrix shape (5000, 28, 28, 1)\n"
     ]
    }
   ],
   "source": [
    "# Particiona em Treino e Validação o dataset de Treino\n",
    "\n",
    "X_valid=X_train[55000:]\n",
    "y_valid=Y_train[55000:]\n",
    "\n",
    "X_train=X_train[:55000]\n",
    "y_train=y_train[:55000]\n",
    "y_train = to_categorical(y_train)\n",
    "\n",
    "\n",
    "print(\"Training matrix shape\", X_train.shape)\n",
    "print(\"Testing matrix shape\", X_valid.shape)"
   ]
  },
  {
   "cell_type": "code",
   "execution_count": 54,
   "metadata": {
    "colab": {
     "base_uri": "https://localhost:8080/"
=======
      "cell_type": "code",
      "metadata": {
        "id": "xS5XXNHg4qu_",
        "colab": {
          "base_uri": "https://localhost:8080/"
        },
        "outputId": "932b6da1-aba0-4060-c30c-c515ebd67ba0"
      },
      "source": [
        "_, acc = model.evaluate(X_test, Y_test, verbose=0)\n",
        "print('> %.3f' % (acc * 100.0))"
      ],
      "execution_count": null,
      "outputs": [
        {
          "output_type": "stream",
          "name": "stdout",
          "text": [
            "> 99.160\n"
          ]
        }
      ]
>>>>>>> 087816cf9da14d87e620cbbc776cde5098adeaf5
    },
    "id": "M2jVaQtJ4qu_",
    "outputId": "ece1eae2-d6ee-4296-8bd2-6abd4726b533"
   },
   "outputs": [
    {
     "name": "stdout",
     "output_type": "stream",
     "text": [
      "Epoch 1/20\n",
      "108/108 [==============================] - 14s 132ms/step - loss: 7.4942e-05 - accuracy: 1.0000 - val_loss: 0.0059 - val_accuracy: 0.9986\n",
      "Epoch 2/20\n",
      "108/108 [==============================] - 14s 131ms/step - loss: 1.3024e-04 - accuracy: 0.9999 - val_loss: 0.0050 - val_accuracy: 0.9986\n",
      "Epoch 3/20\n",
      "108/108 [==============================] - 14s 131ms/step - loss: 8.8893e-05 - accuracy: 0.9999 - val_loss: 0.0045 - val_accuracy: 0.9986\n",
      "Epoch 4/20\n",
      "108/108 [==============================] - 14s 130ms/step - loss: 1.9283e-04 - accuracy: 0.9999 - val_loss: 0.0043 - val_accuracy: 0.9988\n",
      "Epoch 5/20\n",
      "108/108 [==============================] - 14s 132ms/step - loss: 6.8000e-05 - accuracy: 1.0000 - val_loss: 0.0043 - val_accuracy: 0.9990\n",
      "Epoch 6/20\n",
      "108/108 [==============================] - 14s 130ms/step - loss: 7.1900e-05 - accuracy: 1.0000 - val_loss: 0.0045 - val_accuracy: 0.9988\n",
      "Epoch 7/20\n",
      "108/108 [==============================] - 14s 131ms/step - loss: 1.8040e-05 - accuracy: 1.0000 - val_loss: 0.0047 - val_accuracy: 0.9986\n",
      "Epoch 8/20\n",
      "108/108 [==============================] - 14s 130ms/step - loss: 8.9573e-05 - accuracy: 1.0000 - val_loss: 0.0045 - val_accuracy: 0.9988\n",
      "Epoch 9/20\n",
      "108/108 [==============================] - 14s 130ms/step - loss: 2.7976e-05 - accuracy: 1.0000 - val_loss: 0.0051 - val_accuracy: 0.9986\n",
      "Epoch 10/20\n",
      "108/108 [==============================] - 14s 130ms/step - loss: 2.0000e-05 - accuracy: 1.0000 - val_loss: 0.0048 - val_accuracy: 0.9988\n",
      "Epoch 11/20\n",
      "108/108 [==============================] - 14s 130ms/step - loss: 3.7394e-05 - accuracy: 1.0000 - val_loss: 0.0045 - val_accuracy: 0.9990\n",
      "Epoch 12/20\n",
      "108/108 [==============================] - 14s 130ms/step - loss: 3.2809e-05 - accuracy: 1.0000 - val_loss: 0.0049 - val_accuracy: 0.9988\n",
      "Epoch 13/20\n",
      "108/108 [==============================] - 14s 130ms/step - loss: 1.7558e-05 - accuracy: 1.0000 - val_loss: 0.0046 - val_accuracy: 0.9992\n",
      "Epoch 14/20\n",
      "108/108 [==============================] - 14s 130ms/step - loss: 1.9141e-04 - accuracy: 0.9999 - val_loss: 0.0038 - val_accuracy: 0.9990\n",
      "Epoch 15/20\n",
      "108/108 [==============================] - 14s 130ms/step - loss: 2.4357e-04 - accuracy: 0.9999 - val_loss: 0.0050 - val_accuracy: 0.9990\n",
      "Epoch 16/20\n",
      "108/108 [==============================] - 14s 132ms/step - loss: 2.4598e-04 - accuracy: 0.9999 - val_loss: 0.0053 - val_accuracy: 0.9990\n",
      "Epoch 17/20\n",
      "108/108 [==============================] - 14s 130ms/step - loss: 3.7048e-05 - accuracy: 1.0000 - val_loss: 0.0053 - val_accuracy: 0.9988\n",
      "Epoch 18/20\n",
      "108/108 [==============================] - 14s 130ms/step - loss: 5.3697e-05 - accuracy: 1.0000 - val_loss: 0.0053 - val_accuracy: 0.9992\n",
      "Epoch 19/20\n",
      "108/108 [==============================] - 14s 130ms/step - loss: 3.8976e-05 - accuracy: 1.0000 - val_loss: 0.0058 - val_accuracy: 0.9988\n",
      "Epoch 20/20\n",
      "108/108 [==============================] - 14s 130ms/step - loss: 2.0138e-05 - accuracy: 1.0000 - val_loss: 0.0061 - val_accuracy: 0.9988\n",
      "CPU times: user 3min 9s, sys: 6.71 s, total: 3min 16s\n",
      "Wall time: 5min 22s\n"
     ]
    }
   ],
   "source": [
    "%%time\n",
    "\n",
    "history = model.fit(X_train, y_train, \n",
    "                    epochs=20, #10, #20, # 6\n",
    "                    batch_size=512, #512, \n",
    "                    validation_data=(X_valid, y_valid), \n",
    "                    verbose=1)"
   ]
  },
  {
   "cell_type": "markdown",
   "metadata": {
    "id": "xjgB6AmYI4QO"
   },
   "source": [
    "# Avaliando meu Modelo"
   ]
  },
  {
   "cell_type": "code",
   "execution_count": 55,
   "metadata": {
    "colab": {
     "base_uri": "https://localhost:8080/"
    },
    "id": "xS5XXNHg4qu_",
    "outputId": "932b6da1-aba0-4060-c30c-c515ebd67ba0"
   },
   "outputs": [
    {
<<<<<<< HEAD
     "name": "stdout",
     "output_type": "stream",
     "text": [
      "> 99.160\n"
     ]
    }
   ],
   "source": [
    "_, acc = model.evaluate(X_test, Y_test, verbose=0)\n",
    "print('> %.3f' % (acc * 100.0))"
   ]
  },
  {
   "cell_type": "markdown",
   "metadata": {
    "id": "wn7pD3c5I38v"
   },
   "source": [
    "# Resultados - Métricas Pesos Sinápticos e Hiperparâmetros"
   ]
  },
  {
   "cell_type": "code",
   "execution_count": 56,
   "metadata": {
    "colab": {
     "base_uri": "https://localhost:8080/"
=======
      "cell_type": "code",
      "metadata": {
        "id": "DfbDWTjWFZi8",
        "colab": {
          "base_uri": "https://localhost:8080/"
        },
        "outputId": "9dc99425-42a1-484a-c21b-4c54fdc0d439"
      },
      "source": [
        "history.__dict__"
      ],
      "execution_count": null,
      "outputs": [
        {
          "output_type": "execute_result",
          "data": {
            "text/plain": [
              "{'_chief_worker_only': None,\n",
              " '_supports_tf_logs': False,\n",
              " 'epoch': [0,\n",
              "  1,\n",
              "  2,\n",
              "  3,\n",
              "  4,\n",
              "  5,\n",
              "  6,\n",
              "  7,\n",
              "  8,\n",
              "  9,\n",
              "  10,\n",
              "  11,\n",
              "  12,\n",
              "  13,\n",
              "  14,\n",
              "  15,\n",
              "  16,\n",
              "  17,\n",
              "  18,\n",
              "  19],\n",
              " 'history': {'accuracy': [0.9999818205833435,\n",
              "   0.9999454617500305,\n",
              "   0.9999454617500305,\n",
              "   0.999927282333374,\n",
              "   0.9999818205833435,\n",
              "   0.999963641166687,\n",
              "   1.0,\n",
              "   0.999963641166687,\n",
              "   0.9999818205833435,\n",
              "   1.0,\n",
              "   0.9999818205833435,\n",
              "   0.9999818205833435,\n",
              "   1.0,\n",
              "   0.9999454617500305,\n",
              "   0.9999454617500305,\n",
              "   0.9999454617500305,\n",
              "   1.0,\n",
              "   0.9999818205833435,\n",
              "   0.9999818205833435,\n",
              "   1.0],\n",
              "  'loss': [7.494239980587736e-05,\n",
              "   0.00013023600331507623,\n",
              "   8.889302262105048e-05,\n",
              "   0.00019283285655546933,\n",
              "   6.799978291383013e-05,\n",
              "   7.190027827164158e-05,\n",
              "   1.8040373106487095e-05,\n",
              "   8.957293903222308e-05,\n",
              "   2.797616798488889e-05,\n",
              "   2.000031054194551e-05,\n",
              "   3.739408930414356e-05,\n",
              "   3.280902456026524e-05,\n",
              "   1.755772791511845e-05,\n",
              "   0.0001914064196171239,\n",
              "   0.00024356524227187037,\n",
              "   0.0002459819079376757,\n",
              "   3.704757182276808e-05,\n",
              "   5.3696639952249825e-05,\n",
              "   3.8976111682131886e-05,\n",
              "   2.013848461501766e-05],\n",
              "  'val_accuracy': [0.9986000061035156,\n",
              "   0.9986000061035156,\n",
              "   0.9986000061035156,\n",
              "   0.9987999796867371,\n",
              "   0.9990000128746033,\n",
              "   0.9987999796867371,\n",
              "   0.9986000061035156,\n",
              "   0.9987999796867371,\n",
              "   0.9986000061035156,\n",
              "   0.9987999796867371,\n",
              "   0.9990000128746033,\n",
              "   0.9987999796867371,\n",
              "   0.9991999864578247,\n",
              "   0.9990000128746033,\n",
              "   0.9990000128746033,\n",
              "   0.9990000128746033,\n",
              "   0.9987999796867371,\n",
              "   0.9991999864578247,\n",
              "   0.9987999796867371,\n",
              "   0.9987999796867371],\n",
              "  'val_loss': [0.005926902871578932,\n",
              "   0.005019864067435265,\n",
              "   0.0044587403535842896,\n",
              "   0.004311277065426111,\n",
              "   0.004316288977861404,\n",
              "   0.004549185745418072,\n",
              "   0.004732977598905563,\n",
              "   0.004517115652561188,\n",
              "   0.005121917929500341,\n",
              "   0.004759800620377064,\n",
              "   0.004516668617725372,\n",
              "   0.004940360318869352,\n",
              "   0.004572080913931131,\n",
              "   0.003766525536775589,\n",
              "   0.005030673462897539,\n",
              "   0.005257903598248959,\n",
              "   0.0052531007677316666,\n",
              "   0.005299288779497147,\n",
              "   0.005750503856688738,\n",
              "   0.006069650407880545]},\n",
              " 'model': <keras.engine.sequential.Sequential at 0x7fad3028ac50>,\n",
              " 'params': {'epochs': 20, 'steps': 108, 'verbose': 1},\n",
              " 'validation_data': None}"
            ]
          },
          "metadata": {},
          "execution_count": 56
        }
      ]
>>>>>>> 087816cf9da14d87e620cbbc776cde5098adeaf5
    },
    "id": "DfbDWTjWFZi8",
    "outputId": "9dc99425-42a1-484a-c21b-4c54fdc0d439"
   },
   "outputs": [
    {
<<<<<<< HEAD
     "data": {
      "text/plain": [
       "{'_chief_worker_only': None,\n",
       " '_supports_tf_logs': False,\n",
       " 'epoch': [0,\n",
       "  1,\n",
       "  2,\n",
       "  3,\n",
       "  4,\n",
       "  5,\n",
       "  6,\n",
       "  7,\n",
       "  8,\n",
       "  9,\n",
       "  10,\n",
       "  11,\n",
       "  12,\n",
       "  13,\n",
       "  14,\n",
       "  15,\n",
       "  16,\n",
       "  17,\n",
       "  18,\n",
       "  19],\n",
       " 'history': {'accuracy': [0.9999818205833435,\n",
       "   0.9999454617500305,\n",
       "   0.9999454617500305,\n",
       "   0.999927282333374,\n",
       "   0.9999818205833435,\n",
       "   0.999963641166687,\n",
       "   1.0,\n",
       "   0.999963641166687,\n",
       "   0.9999818205833435,\n",
       "   1.0,\n",
       "   0.9999818205833435,\n",
       "   0.9999818205833435,\n",
       "   1.0,\n",
       "   0.9999454617500305,\n",
       "   0.9999454617500305,\n",
       "   0.9999454617500305,\n",
       "   1.0,\n",
       "   0.9999818205833435,\n",
       "   0.9999818205833435,\n",
       "   1.0],\n",
       "  'loss': [7.494239980587736e-05,\n",
       "   0.00013023600331507623,\n",
       "   8.889302262105048e-05,\n",
       "   0.00019283285655546933,\n",
       "   6.799978291383013e-05,\n",
       "   7.190027827164158e-05,\n",
       "   1.8040373106487095e-05,\n",
       "   8.957293903222308e-05,\n",
       "   2.797616798488889e-05,\n",
       "   2.000031054194551e-05,\n",
       "   3.739408930414356e-05,\n",
       "   3.280902456026524e-05,\n",
       "   1.755772791511845e-05,\n",
       "   0.0001914064196171239,\n",
       "   0.00024356524227187037,\n",
       "   0.0002459819079376757,\n",
       "   3.704757182276808e-05,\n",
       "   5.3696639952249825e-05,\n",
       "   3.8976111682131886e-05,\n",
       "   2.013848461501766e-05],\n",
       "  'val_accuracy': [0.9986000061035156,\n",
       "   0.9986000061035156,\n",
       "   0.9986000061035156,\n",
       "   0.9987999796867371,\n",
       "   0.9990000128746033,\n",
       "   0.9987999796867371,\n",
       "   0.9986000061035156,\n",
       "   0.9987999796867371,\n",
       "   0.9986000061035156,\n",
       "   0.9987999796867371,\n",
       "   0.9990000128746033,\n",
       "   0.9987999796867371,\n",
       "   0.9991999864578247,\n",
       "   0.9990000128746033,\n",
       "   0.9990000128746033,\n",
       "   0.9990000128746033,\n",
       "   0.9987999796867371,\n",
       "   0.9991999864578247,\n",
       "   0.9987999796867371,\n",
       "   0.9987999796867371],\n",
       "  'val_loss': [0.005926902871578932,\n",
       "   0.005019864067435265,\n",
       "   0.0044587403535842896,\n",
       "   0.004311277065426111,\n",
       "   0.004316288977861404,\n",
       "   0.004549185745418072,\n",
       "   0.004732977598905563,\n",
       "   0.004517115652561188,\n",
       "   0.005121917929500341,\n",
       "   0.004759800620377064,\n",
       "   0.004516668617725372,\n",
       "   0.004940360318869352,\n",
       "   0.004572080913931131,\n",
       "   0.003766525536775589,\n",
       "   0.005030673462897539,\n",
       "   0.005257903598248959,\n",
       "   0.0052531007677316666,\n",
       "   0.005299288779497147,\n",
       "   0.005750503856688738,\n",
       "   0.006069650407880545]},\n",
       " 'model': <keras.engine.sequential.Sequential at 0x7fad3028ac50>,\n",
       " 'params': {'epochs': 20, 'steps': 108, 'verbose': 1},\n",
       " 'validation_data': None}"
=======
      "cell_type": "code",
      "metadata": {
        "id": "Vo_UFRc3IPDp",
        "colab": {
          "base_uri": "https://localhost:8080/"
        },
        "outputId": "c0de51d9-cba9-48b8-95aa-85c219082c95"
      },
      "source": [
        "acc = history.history['accuracy']\n",
        "acc"
      ],
      "execution_count": null,
      "outputs": [
        {
          "output_type": "execute_result",
          "data": {
            "text/plain": [
              "[0.9999818205833435,\n",
              " 0.9999454617500305,\n",
              " 0.9999454617500305,\n",
              " 0.999927282333374,\n",
              " 0.9999818205833435,\n",
              " 0.999963641166687,\n",
              " 1.0,\n",
              " 0.999963641166687,\n",
              " 0.9999818205833435,\n",
              " 1.0,\n",
              " 0.9999818205833435,\n",
              " 0.9999818205833435,\n",
              " 1.0,\n",
              " 0.9999454617500305,\n",
              " 0.9999454617500305,\n",
              " 0.9999454617500305,\n",
              " 1.0,\n",
              " 0.9999818205833435,\n",
              " 0.9999818205833435,\n",
              " 1.0]"
            ]
          },
          "metadata": {},
          "execution_count": 57
        }
>>>>>>> 087816cf9da14d87e620cbbc776cde5098adeaf5
      ]
     },
     "execution_count": 56,
     "metadata": {},
     "output_type": "execute_result"
    }
   ],
   "source": [
    "history.__dict__"
   ]
  },
  {
   "cell_type": "code",
   "execution_count": 57,
   "metadata": {
    "colab": {
     "base_uri": "https://localhost:8080/"
    },
    "id": "Vo_UFRc3IPDp",
    "outputId": "c0de51d9-cba9-48b8-95aa-85c219082c95"
   },
   "outputs": [
    {
<<<<<<< HEAD
     "data": {
      "text/plain": [
       "[0.9999818205833435,\n",
       " 0.9999454617500305,\n",
       " 0.9999454617500305,\n",
       " 0.999927282333374,\n",
       " 0.9999818205833435,\n",
       " 0.999963641166687,\n",
       " 1.0,\n",
       " 0.999963641166687,\n",
       " 0.9999818205833435,\n",
       " 1.0,\n",
       " 0.9999818205833435,\n",
       " 0.9999818205833435,\n",
       " 1.0,\n",
       " 0.9999454617500305,\n",
       " 0.9999454617500305,\n",
       " 0.9999454617500305,\n",
       " 1.0,\n",
       " 0.9999818205833435,\n",
       " 0.9999818205833435,\n",
       " 1.0]"
=======
      "cell_type": "code",
      "metadata": {
        "id": "s5AmBeusFTrs",
        "colab": {
          "base_uri": "https://localhost:8080/",
          "height": 497
        },
        "outputId": "6fdcb32e-1e58-44b3-ee74-7d396d394d45"
      },
      "source": [
        "import matplotlib.pyplot as plt\n",
        "plt.rcParams[\"figure.figsize\"] = [14,8]\n",
        "\n",
        "acc = history.history['accuracy']\n",
        "\n",
        "plt.plot(history.epoch, acc)\n",
        "plt.plot(history.epoch, history.history['val_accuracy'] )\n",
        "plt.ylabel('Cost')\n",
        "plt.xlabel('Epochs')\n",
        "#plt.savefig('images/12_07.png', dpi=300)\n",
        "plt.legend(['treino', 'validacao'])\n",
        "plt.show()"
      ],
      "execution_count": null,
      "outputs": [
        {
          "output_type": "display_data",
          "data": {
            "text/plain": [
              "<Figure size 1008x576 with 1 Axes>"
            ],
            "image/png": "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\n"
          },
          "metadata": {
            "needs_background": "light"
          }
        }
>>>>>>> 087816cf9da14d87e620cbbc776cde5098adeaf5
      ]
     },
     "execution_count": 57,
     "metadata": {},
     "output_type": "execute_result"
    }
   ],
   "source": [
    "acc = history.history['accuracy']\n",
    "acc"
   ]
  },
  {
   "cell_type": "code",
   "execution_count": 58,
   "metadata": {
    "colab": {
     "base_uri": "https://localhost:8080/",
     "height": 497
    },
    "id": "s5AmBeusFTrs",
    "outputId": "6fdcb32e-1e58-44b3-ee74-7d396d394d45"
   },
   "outputs": [
    {
     "data": {
      "image/png": "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\n",
      "text/plain": [
       "<Figure size 1008x576 with 1 Axes>"
      ]
     },
     "metadata": {
      "needs_background": "light"
     },
     "output_type": "display_data"
    }
   ],
   "source": [
    "import matplotlib.pyplot as plt\n",
    "plt.rcParams[\"figure.figsize\"] = [14,8]\n",
    "\n",
    "acc = history.history['accuracy']\n",
    "\n",
    "plt.plot(history.epoch, acc)\n",
    "plt.plot(history.epoch, history.history['val_accuracy'] )\n",
    "plt.ylabel('Cost')\n",
    "plt.xlabel('Epochs')\n",
    "#plt.savefig('images/12_07.png', dpi=300)\n",
    "plt.legend(['treino', 'validacao'])\n",
    "plt.show()"
   ]
  },
  {
   "cell_type": "markdown",
   "metadata": {
    "id": "ECkrQFAGcIQk"
   },
   "source": [
    "## Plotando algumas predições erradas do conjunto de teste"
   ]
  },
  {
   "cell_type": "code",
   "execution_count": 59,
   "metadata": {
    "colab": {
     "base_uri": "https://localhost:8080/"
    },
    "id": "aYVv9zbHg70Z",
    "outputId": "b826085c-5066-4e63-cfd8-723bf7449ffd"
   },
   "outputs": [
    {
<<<<<<< HEAD
     "name": "stdout",
     "output_type": "stream",
     "text": [
      "[0.000000000000000000000000013266 0.000000000000000000000000421163\n",
      " 0.000000000000000000009933705    0.000000000000000000000000499509\n",
      " 0.                               0.000000000000000000000000000002\n",
      " 0.                               1.\n",
      " 0.000000000000000000000000000019 0.00000000000000000062609585    ]\n"
     ]
    }
   ],
   "source": [
    "np.set_printoptions(suppress=True, precision=30)\n",
    "\n",
    "predict_x = model.predict(X_test)[0]\n",
    "print(predict_x)"
   ]
  },
  {
   "cell_type": "code",
   "execution_count": 60,
   "metadata": {
    "colab": {
     "base_uri": "https://localhost:8080/"
=======
      "cell_type": "code",
      "metadata": {
        "colab": {
          "base_uri": "https://localhost:8080/"
        },
        "id": "aYVv9zbHg70Z",
        "outputId": "b826085c-5066-4e63-cfd8-723bf7449ffd"
      },
      "source": [
        "np.set_printoptions(suppress=True, precision=30)\n",
        "\n",
        "predict_x = model.predict(X_test)[0]\n",
        "print(predict_x)"
      ],
      "execution_count": null,
      "outputs": [
        {
          "output_type": "stream",
          "name": "stdout",
          "text": [
            "[0.000000000000000000000000013266 0.000000000000000000000000421163\n",
            " 0.000000000000000000009933705    0.000000000000000000000000499509\n",
            " 0.                               0.000000000000000000000000000002\n",
            " 0.                               1.\n",
            " 0.000000000000000000000000000019 0.00000000000000000062609585    ]\n"
          ]
        }
      ]
>>>>>>> 087816cf9da14d87e620cbbc776cde5098adeaf5
    },
    "id": "wBguec3ofuGY",
    "outputId": "41a35e05-c0a7-4b7e-9fb4-68a7e187c4d1"
   },
   "outputs": [
    {
<<<<<<< HEAD
     "data": {
      "text/plain": [
       "7"
=======
      "cell_type": "code",
      "metadata": {
        "colab": {
          "base_uri": "https://localhost:8080/"
        },
        "id": "wBguec3ofuGY",
        "outputId": "41a35e05-c0a7-4b7e-9fb4-68a7e187c4d1"
      },
      "source": [
        "predict_x = model.predict (X_test)[0]\n",
        "classes_x= np.argmax(predict_x)\n",
        "classes_x"
      ],
      "execution_count": null,
      "outputs": [
        {
          "output_type": "execute_result",
          "data": {
            "text/plain": [
              "7"
            ]
          },
          "metadata": {},
          "execution_count": 60
        }
>>>>>>> 087816cf9da14d87e620cbbc776cde5098adeaf5
      ]
     },
     "execution_count": 60,
     "metadata": {},
     "output_type": "execute_result"
    }
   ],
   "source": [
    "predict_x = model.predict (X_test)[0]\n",
    "classes_x= np.argmax(predict_x)\n",
    "classes_x"
   ]
  },
  {
   "cell_type": "code",
   "execution_count": 61,
   "metadata": {
    "colab": {
     "base_uri": "https://localhost:8080/",
     "height": 496
    },
    "id": "QfQYcaQxcIQl",
    "outputId": "d13866aa-9f0c-4211-9805-1bd1c660ec82"
   },
   "outputs": [
    {
<<<<<<< HEAD
     "data": {
      "image/png": "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\n",
      "text/plain": [
       "<Figure size 1008x576 with 10 Axes>"
=======
      "cell_type": "code",
      "metadata": {
        "id": "QfQYcaQxcIQl",
        "colab": {
          "base_uri": "https://localhost:8080/",
          "height": 496
        },
        "outputId": "d13866aa-9f0c-4211-9805-1bd1c660ec82"
      },
      "source": [
        "# classificações incorretas\n",
        "predict_x = model.predict(X_test)\n",
        "y_test_pred = np.argmax(predict_x, axis=1)\n",
        "\n",
        "#y_test_pred = np_utils.to_categorical(y_test_pred, nb_classes)\n",
        "\n",
        "miscl_img = X_test[y_test != y_test_pred][:25]\n",
        "correct_lab = y_test[y_test != y_test_pred][:25]\n",
        "miscl_lab = y_test_pred[y_test != y_test_pred][:25]\n",
        "\n",
        "\n",
        "#miscl_img = X_test[correct_indices]\n",
        "fig, ax = plt.subplots(nrows=2, ncols=5, sharex=True, sharey=True,)\n",
        "ax = ax.flatten()\n",
        "for i in range(10):\n",
        "    img = miscl_img[i].reshape(28, 28)\n",
        "    ax[i].imshow(img, cmap='Greys', interpolation='nearest')\n",
        "    ax[i].set_title('%d) t: %d p: %d' % (i+1, correct_lab[i], miscl_lab[i]))\n",
        "\n",
        "ax[0].set_xticks([])\n",
        "ax[0].set_yticks([])\n",
        "plt.tight_layout()\n",
        "plt.show()"
      ],
      "execution_count": null,
      "outputs": [
        {
          "output_type": "display_data",
          "data": {
            "text/plain": [
              "<Figure size 1008x576 with 10 Axes>"
            ],
            "image/png": "iVBORw0KGgoAAAANSUhEUgAAA+gAAAHfCAYAAADDQ/LYAAAABHNCSVQICAgIfAhkiAAAAAlwSFlzAAALEgAACxIB0t1+/AAAADh0RVh0U29mdHdhcmUAbWF0cGxvdGxpYiB2ZXJzaW9uMy4yLjIsIGh0dHA6Ly9tYXRwbG90bGliLm9yZy+WH4yJAAAgAElEQVR4nOzdd5hdVbk44G8REiAQSuglENCAgBQJJgJSlKIiTUG6VC8dL1J+SLsWQES4UrwgIkSqKKJIaAIXDSCgggoIGkuUAFJiiJBQDCX798c5uXfI3etkzsxksmbmfZ/nPMD37W/vNcNZs8939jl7paqqAgAAAJi/FpjfAwAAAAA06AAAAFAEDToAAAAUQIMOAAAABdCgAwAAQAE06AAAAFAADXo3pZTWTyk9ML/HAaUxNyDP/IB6KaUdU0rfn9/jgNKYGwOHBr0TUkpHpZQeTinNTCld0TFXVdVjEfFSSmnHFvUTUkqfaeN4a6aUbkop/SOlNC2ldEdKaa2u/wRzPd6OKaXHU0qvpJQeSCmtM6+ORf+RUloopXR5SmlySmlGSumRlNLHZuf7+txIKW3enBMdH1VKadd5cTz6n5TSNSml51JK01NKf+r4XJ8X86NZMyildEZK6dnmvPxtSmnJbvwYrY61YUrp1yml15r/3HBeHIf+K6U0KqX0r5TSNbNjVVXdHBHrppTWb1H3ZEppmzaPtXtK6Q/NefH7lNIu3Rh6q+P06ms4+pfm3/1/dXjd8cfZuXkxN1JKH0gp3dV8rv4jpfSDlNKK3fwxcsfaZ47XVK81X1eNnhfH68s06J3zbEScERHjMvlrI+LQHjzekhExPiLWiojlI+JXEXFTD+7/f6SURkVj/Ic1j3tzRIxPKS04L45Hv7JgRDwdEVtGxBIRcWpEXJ9SGtlhmz47N6qquq+qqsVmPyJih4h4JSJ+Mi+OR790VkSMrKpq8YjYKSLOmOOFSE/Pj4iIL0XEphGxSUQsHhGfjoh/9fAxIqU0JBpz75qIWCoiroyIm5px6KyLIuKhmvh1EXFITx0kpbRyNJ6rx0ZjXpwQEd9NKS3XU8fooNfOU/RbR3V4/THnmzs9Ojei8ff70ogYGRGrRcSMiPhOD+7/f1RVde0cr6uOiIi/RsRv5sXx+rSqqjw6+YhGk35FTXzliHg9IhaqyZ0ZEW9H4wXSKxHxX1047vCIqCJi6Uz+ioi4JCLuisbEuiciVuvkvo+KiFs7/PcCzZ9l6/n9+/boe4+IeCwidu3w3312btTs6zsR8Z35/Tv26JuPaLxYfy4idu8Q69H5EY0XWq9ExLs6OabunDu2i4i/R0TqEHsqIj46v3/XHn3jERF7RsT1EfHFiLhmjtxmEfG3TN3VETGrOXdeiYj/14ljjY2IKXPE/hERm2S278lzR8vzlIdHx0dETIiIz7TI9+jcqNnHRhExYy7jOysabzxNj8abT8O7+LP+LCK+ML9/5yU+XEHvAVVV/T0i3ozGC7A5c6dExH3xv++GHRURkVK6JaX0+U4eYouIeL6qqhdbbLNPRJweEctExCPRuDITnTxWmuPfU0S8t5Njg4iISCktHxFrRsQTs2P9YG7M3m7RiNgtGlcJodNSShenlF6LiInRaNBvm52bB/NjvYh4KyJ2Syk93/xY/ZFzGWJX58e6EfFY1XyV1fRYMw4tpZQWj4gvR+OKdp0/RMTI5nbvUFXVp6PxZtCOzbnxteY+H0sp7Z3Z38MR8YeU0k7Nr4HsEhEzo/Gczen2uaOpM+cp6OislNLUlNL9KaWt5sj19NyY0xbR4XVcxn4RcVBErBiNc86FsxOdPVZKabXmsa7q5LgGFB9j7jkzovGxpk6pqmqHzmyXUlolGh8By53EZru1qqp7mzWnRMTLKaURVVU9PZdj/XdEnN38A/BARJwYEUMiYmhnxgcRESmlwdF48XJlVVUT50j31bnR0ScjYmo0rqJAp1VVdURK6ehofOR8q2g0BR315PxYJRpfN1kzIlaPiFERcXdK6U9VVd2Vqenq/FgsIl6eI/ZyRAzrzM/BgHd6RFxeVdUzKaW6/IzmP5eMxlW6uaqqKvu93Kqq3k4pXRUR342IhSPijYj4VFVVr7bYZbfPHW2cp2C2EyPi99F4ju4ZETenlDasqmpSM9+jc6Oj5nfb/yMidp7LpldXVfV4s+a0iHgkpbR/VVVvd/ZY0Wjy76uq6m+d3H5AcQW95wyLiJd6cocppWUj4s6IuLiqquvmsvnTs/+lqqpXImJaRKw0t2M0m6n9I+K/onF1Z5lo/GF4povDZoBJKS0QjY9VvRGNr0zMqU/OjTnsHxFXzXG1EDql+aLl59FooA+fI92T8+P15j+/XFXV61XjRnTfi4jtW9R0dX68Eo3v8na0ePzvi0eo1byZ4DYRcV6LzWa/0dMjc6N506yvReNNsiHRuHfKZXO5sWG3zh1tnqcgIiKqqvplVVUzqqqaWVXVlRFxf7zzb3iPzo3ZUkrvjojbI+Lfq6q6by6bP93h3ydHxOBo9A/t2C98KjHLFfQe0Lz5yJCI+GNmk7Zf1KeUlorGH/bxVVWd2YmSER1qF4vGd56e7cyxqqq6ISJuaNYuGREHR/1NW+AdUuPSx+XRuBHO9lVVvTlHvk/PjWbNiGi8qOvpm3kx8CwYEe+a/R/zYH7M/rhux7q57aOr8+OJiDgupZQ6vHG1fjSuFkIrW0XjhlRPNa+eLxYRg1JK61RVtVFzm7Uj4smqqnJXCNudGxtGxL1VVT3c/O+HUkq/jMYbBY9karp87ujCeQpyqnjnV1F7em7M/rj5f0fE6VVVXd2JkhEd/n3VaHxVa2obx9ssGm923dDOOAcSV9A7IaW0YEpp4YgYFI2TyMJz3OV8y4j4aVVVc350cbYXImKNNo63eETcERH3V1XV2e84bZ9S+mDzDrqnR8Qvqqp6em5FzeONbn4na9lo3MlxfM3HlKHON6NxstixqqrXa/J9em40fToiHujw8TKYq5TScimlPVNKizX/vn4kIvaKiLs7bNaj86P5HL0vIk5JjWUQ147GRyRvaVHW1fkxIRo3sfts81izPz3z086OlwHr0mi8UbVh83FJRNwaER/psM2W0bial9PW3IjGRYfNZ18xTym9LyI2j9bfQe/S3OjieQoipbRkSukjs/uMlNI+0fiedsfVY3p0bjTfKP5pNG5Eekkny/ZNKa2TUhoajXtJ3FBV1dudPWY0PpX4w6qqfOIqp7fvStcXH9G4w2g1x+OLHfK3RsROLeo3iYg/RcQ/I+LCZuz2iDg5s/3+zWO8Go2PEc5+rJrZ/or437uNvhIR90bE6h3y2WM18z+PxscSp0XEtyJi0fn9O/co/xGN5Tiq+N+7TM9+7NNhmz49N5rbTIyIg+f379ujbz0iYtlo3LPgpWh8T/B3EfFvc2zTo/OjmV85Gi/mXonG8jWHtti2u+eO90XEr6Px0frfRMT75vfv3aPvPaL+Lu6/i4gNWtTsHI2bYb0UEcc3Y090PP/U1BwVEX9pvt75a0Qc12LbLs+Nds9THh6zH83zxkPN5+hLEfGLiNh2jm16dG5ExBeaz9eOz9VXWux/QrzzLu43R8QyHfJzm4cLN8dmtagWj9T8ZdFFzRsqfKuqqk3m4xiuiIhnqqo6dX6NAeZkbkCe+QH1Uko7RsSnq6rafT6O4YowNyhMIXNjQjTeULtsfo1hIPAd9G6qGjfhmW8vsKBU5gbkmR9Qr6qqm6NxVQ7owNwYOHwHHQAAAArgI+4AAABQAFfQAQAAoABtfQd9mWWWqUaOHDmPhgLz35NPPhlTp05Nc9/yncwN+ruuzo0I84P+z7kD6pkbkPfrX/96alVVy84Zb6tBHzlyZDz88MM9NyoozMYbb9ylOnOD/q6rcyPC/KD/c+6AeuYG5KWUJtfFfcQdAAAACqBBBwAAgAJo0AEAAKAAGnQAAAAogAYdAAAACqBBBwAAgAJo0AEAAKAAGnQAAAAogAYdAAAACqBBBwAAgAJo0AEAAKAAGnQAAAAogAYdAAAACqBBBwAAgAJo0AEAAKAAGnQAAAAogAYdAAAACqBBBwAAgAJo0AEAAKAAGnQAAAAogAYdAAAACqBBBwAAgAJo0AEAAKAAGnQAAAAowILzewAAANAbFlggf23qM5/5TG28qqpszfrrr5/NHX300Z0fGECTK+gAAABQAA06AAAAFECDDgAAAAXQoAMAAEABNOgAAABQAHdx70WzZs1qu6bV3UYB6B9uuOGGbG633XbrxZFA/5ZSyubGjRtXG291F/dW+xszZkxtfOzYsdka6OiNN97I5l544YVs7lvf+lbbx2q1v9zcOOmkk9o+TkTE/vvvXxsfNWpUl/bX3+j+AAAAoAAadAAAACiABh0AAAAKoEEHAACAAmjQAQAAoAAadAAAACiAZdZ62G9/+9tsbtttt62NL7/88tmaCy64IJvbeuuta+OtlvyAeelf//pXNtdq+Y5rrrmm7WOddtpp2VxPz4FVVlmlNv7YY49la5ZYYokeHQN9R25ZnLPOOitbM2nSpGzOMmvQc26++ea2aw4++OBsbsqUKdlcbgmqn/70p22Pgb7vsssuy+a++93v1sanT5+erXnkkUeyudzSgK1eH3VlOcFW57VWx3rggQdq47fccku2ZujQodlcf+MKOgAAABRAgw4AAAAF0KADAABAATToAAAAUAANOgAAABTAXdx72Oqrr57NnXDCCbXxSy+9NFvzkY98JJvbYYcdauOXX355tmaZZZbJ5qCz7r333tr4sccem61pdbfRrmh1d9DNNtusNv76669na1qtwPD3v/+9Nv7Pf/4zW+Mu7gPXtGnTauNf/vKXszV/+9vf5tVwgA623377tmta3cX9q1/9aneGQx91zz331Mb32muvbM1zzz2XzS2wQP0101mzZmVrRo8enc2ttdZatfF99tknW9PKVltt1XbNhhtumM1NmDChNv7iiy9ma9zFHQAAAOhVGnQAAAAogAYdAAAACqBBBwAAgAJo0AEAAKAAGnQAAAAogGXWetiSSy6ZzZ144oltxSMiHn/88Wwut+TBGmuska3JLRcVETFs2LBsjoEnt5RaRH6Jv9deey1b02qJv9wSNmPGjMnWjB07NptbaqmlauNVVWVrll122Wwutzzb1Vdfna057bTTsjn6t89+9rO18VbP5yFDhsyr4QDzUKvzyrbbbtuLI6E3Pf/887XxKVOmZGtOPfXUto9zyCGHZHMrrLBCNjd48OC2j9UVrX7e3O8oovVSubiCDgAAAEXQoAMAAEABNOgAAABQAA06AAAAFECDDgAAAAXQoAMAAEABLLNWuPe+973Z3K233lob32yzzbI1f/vb37K59ddfv/MDo1948803s7lvfOMb2dzWW29dGz/zzDOzNaNGjcrmems5kFY/b1eW/Nh77727Mxz6sCeeeCKbyz3PHnzwwXk1nB4xbdq0bO7VV1/N5kaMGFEbnzhxYrbmvvvu6/zAOmH06NG18Y022qhHj8PANG7cuGyu1bljt912mxfDoQB77LFHW/H+aubMmdlcq/PGcsstVxtffPHFuz2m/sAVdAAAACiABh0AAAAKoEEHAACAAmjQAQAAoAAadAAAACiAu7j3YWPHjq2Nt7ob+8MPP5zNuYv7wNPq7uk/+MEPenEkveOKK67I5l577bVsLreawkorrdTdIdFH3XLLLdncoEGDemUMM2bMyOZ22WWXtvf34osvZnOt5seaa65ZG3/mmWeyNb/73e86P7BOWH755Wvja6+9drbm7rvv7tEx0H8ddNBB2dxZZ52VzbVavQT6gxtvvDGba7XCQVdWzhlIXEEHAACAAmjQAQAAoAAadAAAACiABh0AAAAKoEEHAACAAmjQAQAAoACWWWsht4RNq+V17rzzzmxu+PDhtfFPf/rT2Zr3vOc92dxLL73UVjwiYscdd8zmoL+YPHlybfy4447r0v5OOeWU2vgiiyzSpf3RN7Raxuw3v/lNNvftb3+7Nv7UU09la5ZeeulsbtFFF62NH3roodmaVkumzZo1qzb+xBNPZGtaOeaYY2rjb7/9dts1XfXCCy/UxrfddtsePQ59X6slAy+44ILa+Lhx47I1G220UbfHBH1VqyUzq6rK5nL9zRJLLNHtMXX08ssvZ3PTp0+vjbc6Hw8dOrTbY+oMV9ABAACgABp0AAAAKIAGHQAAAAqgQQcAAIACaNABAACgABp0AAAAKMCAWGZt5syZ2dy9996bze2+++618VbLBiy//PLZ3Jtvvlkb//rXv56tGTFiRDa31lpr1cZbLSuz7LLLZnPQl7Sah3fddVdtvNXyOksttVQ2t9lmm3V+YPQbBx10UDb3ox/9qO39/eEPf8jmWi3fmVtmbbHFFsvW3H777dlcbu7885//zNa0kjsX5ZawicgvWzVx4sRszRtvvJHN7bXXXrXxb37zm9ka+r7cEkqtlkIaP358Nnfqqae2vb/bbrstm4P+rtUShCmlbG677barjXdlPl177bXZ3M9+9rNsbsqUKbXxNdZYI1tzzTXXZHNjxozJ5trlCjoAAAAUQIMOAAAABdCgAwAAQAE06AAAAFAADToAAAAUYEDcxf3xxx/P5m688cZs7owzzqiN77vvvtmaJZZYIpt7++23a+OPPvpotmb06NHZ3NNPP10bz919PiJ/x9OI1mOH0vzkJz/J5g477LC293fllVdmcyuttFLb+6PvePLJJ2vjudUAIiK22GKLbO7cc8+tjZ9zzjnZmmHDhmVzOZdeemnbNa309PN8+PDh2dwvfvGL2vjnP//5bM2FF16Yza288sq18VZ336bvW3vttWvj3/ve97I1xx57bDaXu+v0+eefn62xOg4DwWWXXVYbb7WiTisnn3xybbzVnd9zx9poo42yNblVRiIi9thjj9r4SSedlK1Zbrnlsrme5Ao6AAAAFECDDgAAAAXQoAMAAEABNOgAAABQAA06AAAAFECDDgAAAAXoV8usTZo0qTa+zTbbZGt+9rOfZXMbbrhht8fU0aBBg2rjr776apf29573vKc2/uMf/zhb8/Of/zybu//++2vjI0eObGtc0Buuv/76tmve9a53ZXPbbbddd4ZDH3bRRRfVxmfMmJGtOfTQQ7O5ESNG1MZbLRM20OTOe35HzOmXv/xlNvf888/XxlstpZaricgv13TwwQdna6C/OOaYY7K5cePG1cZbLYvWKrfTTjvVxt/73vdmaw455JDa+AorrJCtGTx4cDZXMlfQAQAAoAAadAAAACiABh0AAAAKoEEHAACAAmjQAQAAoAAadAAAAChAv1pm7fDDD6+Nr7feetmatddee14N5/949NFHa+P77rtvtmbzzTfP5m6//fba+MSJE7M1e++9dza3zjrr1MYnT56crVl22WWzOeiuZ555Jpu76qqrsrnc0h5f+9rXsjULLtiv/hwyh0suuSSbu+CCC2rjO+64Y7Zm99137/aY+ruLL744mzv++ONr42eccUa25oQTTsjmWi3nQzmmTJlSGx8/fny2ptWSabn/7wcccEC2JreUWkR+KanLLrssW/OZz3wmm4N5qdUShLmeKNeLRERUVZXN5eba0KFDszV33313NjdmzJhsDlfQAQAAoAgadAAAACiABh0AAAAKoEEHAACAAmjQAQAAoAD96rbFI0eOrI1/9KMfzdYstNBCPTqGl19+OZvbeeeda+Ot7oB42223ZXOLLrpobXz06NHZmgcffDCb22STTWrj2267bbbmnnvuqY0vscQS2RqY0xtvvFEbP+2007I1s2bNyuZyd9jOzUH6vyOOOCKby92ddtCgQdmaBRbw/vZs5513Xm385ptvztace+65tfFW52srLfQNrV4HnXLKKbXxyy+/PFvT6u/27373u9r4Hnvs0aX95Vb9OeSQQ7I1a665Zja3xRZbZHPQUe6O7Nddd122JrfqQETEq6++WhtvtepAq9UKcufJVvtzp/au8woDAAAACqBBBwAAgAJo0AEAAKAAGnQAAAAogAYdAAAACqBBBwAAgAL0qzVLcst3bL311tma3NJsEREbbbRRbfyRRx7J1hxwwAHZ3Oqrr14b/+EPf5itWWyxxbK5rhg+fHg2l1uCLbf8WkTElltuWRv/1a9+la0ZMmRINsfAlFtO8Oqrr87W5JYZjIg48sgjuz0m+peqqrK53PIx06ZNy9a88sor2VxP/93uLU899VQ2d9FFF2VzuWXWRowYka3Za6+9auNLLbVUtoa+Yf/998/mbrnlltr4CiuskK258MILs7mll166Nt5q+do333wzmzvssMNq47vssku25vTTT8/mckv5jh07NltD3/baa69lc1/5yleyudySaTNmzMjWtFri7KSTTqqNL7fcctmab3/729lcTqulmOk6V9ABAACgABp0AAAAKIAGHQAAAAqgQQcAAIACaNABAACgABp0AAAAKEC/WmZttdVWq40fc8wx2ZqNN944m8stX9Bq6adVV101m7vvvvtq48OGDcvW9KbcEmy55dciItZYY43aeKulHy6//PJsbvDgwdkcfduLL76YzR144IFt7+/ss8/O5rbYYou290f/lltKrZV77703m/u3f/u3bC63XM4iiyzS9hi66tlnn83mckt7Hn/88dmafffdN5v75je/WRvfaqutsjWWU+vbWi0lNX78+Gxu5513ro3feOON3R5TZ3XldUarJQMvvfTSbG7FFVesjbdairbVsSjHlClTauMf/OAHszWTJk3K5nJLO7da4nLMmDHZXE5u3BGtz5O5XKu/83SdK+gAAABQAA06AAAAFECDDgAAAAXQoAMAAEABNOgAAABQgH51F/ecQw45JJu7++67s7nHHnusNn7LLbdka1rdvXGhhRbK5kqWu7t7RP7O9Jtuumm25s9//nPb+1twwQHxVO3zqqrK5r761a9mczNmzGj7WDvssEPbNQxca6+9djb33HPP1cZffvnlbM3111+fzeXmwcUXX5ytOeGEE7K5xx9/PJvLmTp1ajZ3+umn18YnT56crVliiSWyud68Oz1lmDBhQjbX6k7Qe++99zwYTbnuvPPO2vhf//rXbI27uPcNH/3oR2vjre7UfvPNN2dzubuhDx06tK1xzc1XvvKVbK7Va7jzzz+/Nt7T46PBFXQAAAAogAYdAAAACqBBBwAAgAJo0AEAAKAAGnQAAAAogAYdAAAACjAg1q4aMmRINveDH/wgm8stFTJo0KBuj6m/WG+99WrjrZaZWH311bO5ffbZpzb+ve99L1vTakkXetcvf/nLbO68885re3/HHXdcNrfaaqu1vT8GrieeeCKbyy1xNmzYsGzNPffck83lziutzjdd0Wr5yTPOOCOb23LLLWvjK6ywQrfHxMCw9NJLZ3PLLbdcNnf22WfXxlddddVszdixYzs/sPmg1XnvAx/4QG18gQXy18fefvvtbo+Jee/RRx+tjbd6Tdpq3vT0cmW55+W4ceOyNa3Gvssuu3R7THSeK+gAAABQAA06AAAAFECDDgAAAAXQoAMAAEABNOgAAABQgAFxF/dWWt0Fl65rdRfX22+/PZv78Ic/XBv/4Q9/mK3ZbbfdOj8w5qlWd8ruipNOOqlH99fK/fffn81tttlmvTYOet+JJ55YGx8+fHi25uijj87mtttuu9r4008/3d7A5uJb3/pWNrfzzjv36LGgo1Z3Vj///POzuXPPPbc2vu2222ZrWq0AcvDBB2dzPemyyy7L5o499thsLne39gsuuKDbY2L+mjhxYm38hhtuyNYcfvjh2VzuubLffvtla/bff/9sLvecffXVV7M1rVb/GDFiRDZHz3MFHQAAAAqgQQcAAIACaNABAACgABp0AAAAKIAGHQAAAAqgQQcAAIACWGOMXrfFFltkc9ddd11tfM8998zWPPDAA9ncmDFjOj8wuu3BBx/sUt2FF15YG1988cWzNW+99Vbb4/jc5z6Xrbn66quzOfq3ZZZZpu2apZZaKpt76KGHujMc6NP22GOPbO5DH/pQbXzTTTfN1uy1117dHlNnHXPMMbXxxx57LFuzwgorZHO580qrZeroG0aNGlUbb7U87PHHH5/NPf/887XxT3ziE9mas88+u+39pZSyNf/+7/+ezdG7XEEHAACAAmjQAQAAoAAadAAAACiABh0AAAAKoEEHAACAAmjQAQAAoACWWaMou+66a238ox/9aLam1RIskyZN6vaY6Lyf/OQnXaqbOnVqbfyFF17I1rRaeuSPf/xjbfyCCy7I1qy11lrZHADdt9xyy9XGb7/99l4bw5QpU7K5cePG1cbPO++8bE2r1yBDhw7t/MDo9wYPHpzNjRgxojb+8MMPZ2vOOuusbO7kk0+uje+yyy7ZGs/XcriCDgAAAAXQoAMAAEABNOgAAABQAA06AAAAFECDDgAAAAVwF3eKssAC9e8Z3Xzzzdmaqqrm1XBo08EHH5zNnXnmmdncl7/85bbiEa3/v5900km18f322y9bA8D8MWrUqF47Vu5O8hER06dP77VxQHdtsMEG2Vzu9fTee+89r4ZDD3IFHQAAAAqgQQcAAIACaNABAACgABp0AAAAKIAGHQAAAAqgQQcAAIACWGaNPiGl1KUcvevEE0/M5u68885s7qGHHqqNb7755tmas88+O5t73/vel80BAPR122+/fTb39ttv9+JI6GmuoAMAAEABNOgAAABQAA06AAAAFECDDgAAAAXQoAMAAEABNOgAAABQAMusAT1m6NCh2dyDDz7YiyMBAIC+xxV0AAAAKIAGHQAAAAqgQQcAAIACaNABAACgABp0AAAAKIAGHQAAAAqgQQcAAIACaNABAACgABp0AAAAKIAGHQAAAAqgQQcAAIACaNABAACgAKmqqs5vnNI/ImLyvBsOzHerVVW1bLtF5gYDQJfmRoT5wYDg3AH1zA3Iq50fbTXoAAAAwLzhI+4AAABQAA06AAAAFECDDgAAAAXQoAMAAEABNOgAAABQAA06AAAAFECDDgAAAAXQoAMAAEABNOgAAABQAA06AAAAFECDDgAAAAXQoAMAAEABNOgAAABQAA06AAAAFECDDgAAAAXQoPlBr6sAAB9ySURBVAMAAEABNOgAAABQAA06AAAAFECDDgAAAAXQoAMAAEABNOgAAABQAA06AAAAFECDDgAAAAXQoAMAAEABNOgAAABQAA06AAAAFECDDgAAAAXQoAMAAEABNOgAAABQAA06AAAAFECDDgAAAAXQoAMAAEABNOgAAABQAA06AAAAFECDDgAAAAXQoAMAAEABNOgAAABQAA06AAAAFECDDgAAAAXQoAMAAEABNOgAAABQAA06AAAAFECDDgAAAAXQoAMAAEABNOgAAABQAA06AAAAFECDDgAAAAXQoAMAAEABNOgAAABQAA06AAAAFECDDgAAAAXQoAMAAEABNOgAAABQAA06AAAAFECDDgAAAAXQoAMAAEABNOgAAABQAA06AAAAFECDDgAAAAXQoHdTSmn9lNID83scUBpzA+qllJZPKf0hpbTQ/B4LlMa5AzovpfTDlNLH5vc46Fka9E5KKe3ZfEH1akppUkpp84iIqqoei4iXUko7tqidkFL6TBvHWjOldFNK6R8ppWkppTtSSmv1wI+RO96lKaU/ppRmpZQOmFfHof9JKb0yx+PtlNI3IubN3GjW9MrzNaW0ec3PV6WUdp1Xx6T/SCmNTCndllL6Z0rp+ZTSf6WUFoyIqKrqhYj4WUQc0qL+ipTSGW0e82fN88b0lNKjKaWdu/dTtDzWkyml1zvMjTvn1bHof1JKa6eUfppSejml9JeU0idm5/r66yrnDtqVUjoqpfRwSmlmSumKmvzWKaWJKaXXmn/nV+uQPjsisueKlNJWKaVn2hzP51JKf22eS55NKZ03+/zV01JKX0wpvTnHfFljXhyrL9Ggd0JKadtoTIADI2JYRGwREX/tsMm1EXFoDx5yyYgYHxFrRcTyEfGriLipB/c/p0cj4oiI+M08PAb9UFVVi81+RMQKEfF6RPygwyY9PTcieun5WlXVfXP8fDtExCsR8ZN5eVz6jYsjYkpErBgRG0bEltF43s42L+bGv0fEilVVLR6N5v+alNKKPXyMjnbsMEe2m4fHoR9pvtC/KSJuiYjh8b/P1TU7bNZnX1c5d9AFz0ajyR43ZyKltExE/CgiTovGfHk4Ir4/O19V1a8iYvGU0sY9OJ7xEbFR81zy3ojYICI+24P7n9P3O86Zqqr+OveS/k2D3jlfiogvV1X1i6qqZlVV9feqqv7eIT8hIrau+7hiSunMiNg8Iv6r+a7Qf83tYFVV/aqqqsurqppWVdWbEXFeRKyVUlq6bvvmlZZLUkp3pZRmpJTumePdtbkd76Kqqu6OiH91tgZq7BqNhuS+DrEJ0YNzI6K952t358Yc9o+IG6qqerWL9Qwsq0fE9VVV/auqquej8eJ83Q75X0bEGnXPx5TSIRGxT0T8v+bcuLkzB6yq6rGqqt6a/Z8RMTgiRtRt27xqcUNK6fvNufGblNIGnf/xoMveExErRcR5VVW9XVXVTyPi/oj4dIdtJkQffl01B+cOWqqq6kdVVf04Il6sSX8yIp6oquoHVVX9KyK+GBEbpJTe02GbCRHx8TkLU0qLRsTtEbFSh6vTK3ViPJOqqnpp9m4iYlZEvLtu2+anxaqU0iHNq+3PpZSOn9sxaE2DPhcppUERsXFELNv8GNYzzY8qLjJ7m2az/mY03pl9h6qqTolGw3JU812ho5r7vSWl9PlODmOLiHi+qqq6iTvbPhFxekQsExGPROPd59k/QzvHgq7aPyKuqqqqmh3ohbnRGd2eG82T3G4RcWUPjov+7fyI2DOlNDSltHJEfCw6XEFrNtJ/icaViXeoqurSaDxPv9acGztGRKSULk4pXdzqoM3n9L+i8QbAhGhcbcnZORqfeBkeEd+NiB+nlAZ39lgRcW3zI8N3au7pphSNK3UR0X9eVzl30APWjcYnByMiovlGz6R45xu+f4j6c8mr0Tj3PNvh6vSzKaUPppRemnP7jlJKe6eUpkfE1Oa+vzWXcX4oIkZFxHYRcWJKaZvmfuZ6rIjYMTW+evJESunwuWw7IMyT7xP0M8tH4yrEbtF4x/bNaHws6tSIOKXDdjOi8RGqTqmqaofObJdSWiUiLoqIY+ey6a1VVd3brDklIl5OKY2oqurpzh4Luqp5ZWHLiDi4Jj1P5kYbemJufDIaJ6l7enhs9F/3RuOju9MjYlA0XqD/eI5t2p0bR3Rimx2aTfY2EbF2VVWzWmz+66qqboiISCl9PSKOi4gPRMR9nTjWPtH4mkmKxkfr70gpvafDVRfI+WM0Pm11QkrpvGi8sN8yGvdl6Kg/vK5y7qC7FouIf8wRezkaX7mdrd258vO5bV9V1Xcj4rsppVERsV9EvDCX3X6p+YbA71JK34mIvSLivztxrOsj4tLm/sdGxA9TSi9VVXVd536a/skV9Ll7vfnPb1RV9VxVVVMj4usRsf0c2w2LiB59YZJSWjYi7oyIizvxRH169r9UVfVKREyLxkfIoDd8OiJ+XlXV32pyPT432tQTc+P/fDoAclJKC0TjavmPImLRaFyBWyoa9zLpaJ7Mjaqq3qyq6vaI2C6ltFOLTTvOjVkR8Ux0cm5UVXV/VVWvV1X1WlVVZ0Xj59i8O+NmYGh+xHyXaHwk9/lovDF0fTSefx31h9dVzh101ysRsfgcscWj0ZTPNs9eZ1VV9eeIeCIa91Vp5ekO/z45On8u+X1VVc82v+7yQERcEI2LogOaBn0uqqr6ZzROGh3/uL7jD23z44tDovGucO1u2j1uSmmpaJxExldVdWYnSv7ne4YppcWi8ZHFZ9s9LnTRflHzEb55MTe6oFtzI6U0IiK2ioirenxk9FfDI2LViPivqqpmNj9G+53o8MZu80ZZ744OH12cQ0/MjQUj4l0t8h3nxgIRsUp0/bxRReNqOsxV834JW1ZVtXRVVR+JiDWiceO2iOgfr6ucO+ghT0SHj683vzbxrmZ8trVj/p5LIt55v5NVw7mkWzTonfOdiDg6pbRc8w/856Jx99HZtoyIn1ZVNTNT/0I0Tj6dklJaPCLuiIj7q6rq7Peptm9+z2NINL4z9Yuqqp6eW1HzeENSSgtHY0IMTikt3HyxBnOVUto0IlaOd969fbYenRvN47X7fO3y3Gj6dEQ8UFXVpHbGycDV/KTV3yLi8JTSgimlJaNxJe2xDpuNiYgnq6qanNlNu+eN96SUPpZSWiSlNDiltG80vmfb6qO1o1NKn2y+WXBMRMyMiF904lirppQ2mz0XU0onRONTAvd3drwMbKmx1vnCzXs0HB+N1Q6u6LBJn35d1eTcQac0zxMLR+PrUIOac2P215BvjIj3ppR2bW7zHxHxWFVVEzvsYsto3AyuzgsRsXRKaYk2xvOZlNJyzX9fJyJOioi751J2WnM+rxuNVa++P5ftZx9r55TSUqlhTDTuFj8vV67qG6qq8pjLIxrfQb84Gh8feT4iLoyIhTvkb42InVrUbxIRf4qIf0bEhc3Y7RFxcmb7/aPxDtKr0fhoy+zHqpntr4iISyLiruZ290bE6h3y2WM18xOax+v42Gp+/949+sYjGjcOuTqT69G50cx3+vna3bnR3GZiRBw8v3/PHn3rEY2l1SY0n9tTo/ER3uU75C+KiM+2qB8VjRtTvRQRP27GLomISzLbrx2NG8PNaNY8FBGfaLH/L0bEDdF4ETUjIn4bjWV1ohPHWjcabza8Go27Dt8dERvP79+5R995RMQ5zbnxSvPv8LvnyPfp11XNbZw7PDr1aP49nvN1zRc75LdpPp9eb55XRnbIvT8ifjOX/Y9r/q1+KRofPd88Il5psf13otHYvxoRTzbn68KZbUc2x3tINK6aPx8R/69Dfm7Huq45tleaP2P2vDiQHqn5y6GLUkrrR8S3qqraZD6O4YqIeKaqqlPn1xhgTuYG1GtembgnIt5XNZbNmR9j+GI0mqJ958fxIce5AzovpfTDiLi8qqrb5tPxR0bjE2ODq/9d5pNuchf3bqqq6rFovJMLdGBuQL2qqqZE44o3MAfnDui8qqp2nd9joOf5njEAAAAUwEfcAQAAoACuoAMAAEAB2voO+jLLLFONHDlyHg0F5r8nn3wypk6d2vb6i+YG/V1X50aE+UH/59wB9cwNyPv1r389taqqZeeMt9Wgjxw5Mh5++OGeGxUUZuONN+5SnblBf9fVuRFhftD/OXdAPXMD8lJKk+viPuIOAAAABdCgAwAAQAE06AAAAFAADToAAAAUQIMOAAAABdCgAwAAQAE06AAAAFAADToAAAAUQIMOAAAABdCgAwAAQAE06AAAAFAADToAAAAUQIMOAAAABdCgAwAAQAE06AAAAFAADToAAAAUQIMOAAAABVhwfg+AiBNOOCGbO/fcc7O5gw46qDZ++eWXd3tMAAAA9C5X0AEAAKAAGnQAAAAogAYdAAAACqBBBwAAgAJo0AEAAKAAGnQAAAAogGXWCrDAAvn3SVrlUkrzYjgAzMW0adOyuaWXXro2vu+++2ZrvvKVr2RzI0aM6PzAAIA+zRV0AAAAKIAGHQAAAAqgQQcAAIACaNABAACgABp0AAAAKIC7uANAD8qtsHHttddma2688cZs7oUXXqiNL7roou0NDIABbdKkSV2qu/POO2vjxx9/fLbmU5/6VDaXW9Vk4403ztYsueSS2Vx/4wo6AAAAFECDDgAAAAXQoAMAAEABNOgAAABQAA06AAAAFECDDgAAAAWwzBpQrMmTJ2dzEydOzOY+8YlP1Mb33HPPbM25556bzQ0fPjybgzmNGDGiNp5bpiYiYu21187mttpqq9r4Qw891Na4YKCYPn16Nve9732vR4/1ne98J5tbZ511auNjx45t+zjbbLNNNrfGGmu0vT9639tvv53NzZw5sza+4IL5Vm3cuHHZ3KWXXlobf+SRR7I1uSVCu+rqq6/O5q666qraeKvXYscee2y3x9RXuIIOAAAABdCgAwAAQAE06AAAAFAADToAAAAUQIMOAAAABXAXd6BXTJkyJZv7xje+URtvdTfPJZdcMpvL3Q31yiuvzNZ84QtfyObcxZ05DR06NJv75je/WRtfc801szWXXHJJNnfYYYfVxp955plszSqrrJLNwfzy5z//uTb+4x//OFtz6qmntn2cqqqyubfeeqvtuq7e3foPf/hDbXzkyJHZmty5aIEF8tfU9tprr2yu1Z206V0nn3xyNpd7vfOud70rWzNp0qRuj6m7dtppp2xu/PjxvTiS/sUVdAAAACiABh0AAAAKoEEHAACAAmjQAQAAoAAadAAAACiABh0AAAAKYJk1oMc8++yz2dxGG22UzS24YP2foq9//evZmj333DObyy1L8vLLL2droB0LL7xwNrf99tu3vb8DDzwwm8sts3baaadla8aNG5fNdXXJKPq2p556qjb+4IMPZms+97nP1cbHjh2brXn00Uezub///e+18bfffjtbM2vWrGzu8MMPr42vtNJK2ZpVV101m3vPe95TG99ggw2yNV0xePDgbC73O1988cWzNddee202Z5m13nXmmWdmc+ecc042l/u73GoptfXWWy+bu+yyy2rjI0aMaHsMERHf/va3a+MPPfRQtqaVTTfdtDa+ww47dGl//Y0r6AAAAFAADToAAAAUQIMOAAAABdCgAwAAQAE06AAAAFAADToAAAAUwDJrQI8ZOnRoNvezn/0sm8stibPEEktka/bZZ59sLrec2oorrpitWXLJJbM5mNdaLW+z2GKL1cavvPLKbE1uSZyI/LKG9H25Zcci8sttvfbaa20f56abbmq7JiLiqKOOqo0vtdRS2ZrcMoMREcstt1xtfNCgQe0NrJe9+eab2dwRRxzR9v622Wab7gyHHrTyyiv36P522mmnbO6qq67K5oYNG9b2sS6++OJs7hvf+EZt/B//+Ee2Zv3118/m7rjjjtr4oosumq0ZSFxBBwAAgAJo0AEAAKAAGnQAAAAogAYdAAAACqBBBwAAgAK4lWsvyt1ZevLkyb08Epg3Wt0Jvafvkn7ddddlc7k7Yp9yyinZmlZ3jId5rdWd1T/1qU/VxseNG5etaXWXaHdx779+//vfZ3NduVt7zpFHHpnNnXrqqdncsssuWxtfYIGBdb1o4sSJ2dw111xTGx88eHC25uabb+72mOgZBxxwQDZ34IEHtr2/DTbYIJs744wzsrncc2z8+PHZmlariWy00Ua18f/4j//I1nRlRQIaBtZfRAAAACiUBh0AAAAKoEEHAACAAmjQAQAAoAAadAAAACiABh0AAAAKYK2VXvSLX/yiNv6DH/wgW3POOedkc5tvvnm3xwQlmzRpUjZXVVU2N3z48Nr4vvvu2+0xQW/7xCc+URv/zne+k63ZZJNNsrmRI0fWxpdeeulszfnnn5/NDRs2LJujd91xxx3Z3L/+9a8eO87iiy+ezQ20JdNa+d3vflcb78rrty233DKbW2ihhdreH73vT3/6UzaXe06cfvrpPTqGc889N5vbbbfdsrkVV1yxNj5kyJBuj4n/y19RAAAAKIAGHQAAAAqgQQcAAIACaNABAACgABp0AAAAKIAGHQAAAApgmbXC7bffftncMsss04sjgXln1qxZtfETTzwxW5NSyuY+/vGP18YtB0VftMMOO9TGjz/++C7t7/LLL6+Nz5gxI1vzwx/+MJv761//WhvPLXfIvLPwwgt3KUfXvfHGG9ncl770pdr49OnTszULLlj/0vyss85qb2AUZ9SoUdnchz/84dr497///R4dw7Rp07K5l156KZtbbbXVenQctOYKOgAAABRAgw4AAAAF0KADAABAATToAAAAUAANOgAAABTAXdx72AMPPJDNfexjH6uN33nnndkad2pnIJg5c2Zt/MYbb+zS/vbff//uDAf6hK997Ws9WvfnP/85W/P+978/m9t1111r47fddlu2ZpFFFsnmoDS5c1RExOc+97ls7kc/+lFtfKGFFsrW5M57o0ePztbQ91155ZW18SOPPDJbc+2112Zzt956a2281WoArc4pH/zgB9veX6vn7ODBg7M5XEEHAACAImjQAQAAoAAadAAAACiABh0AAAAKoEEHAACAAmjQAQAAoACWWethn/zkJ7O5lFIvjgT6jueee65H97fJJpv06P5gIBg1alQ2t9VWW2Vz48ePr41PmTIlW7Paaqt1elzQW55++una+Fe/+tVszSWXXJLNLbzwwrXxAw88MFvz0Y9+NJuj/8otO7bZZptla1rlXn311dr4E088ka3Zfvvts7l777237TEccsghbefe9773ZWsGElfQAQAAoAAadAAAACiABh0AAAAKoEEHAACAAmjQAQAAoAAadAAAACiAZdaA+e63v/3t/B4C0MLWW2+dzeWWWbO0KCWaOXNmNnfooYfWxn/yk5906VjnnntubfyII47o0v6gsxZddNHa+JgxY7I1U6dOzeZ+//vf18Y/9alPZWu+9a1vZXO55Qkvu+yybM3BBx+czfU3rqADAABAATToAAAAUAANOgAAABRAgw4AAAAF0KADAABAAdzFvQumT5+ezb311ls9eqxZs2Zlcy+++GKPHuuwww6rjX/oQx/K1pxxxhltH2f48OHZ3BprrFEbz909MiJixRVXzOZef/312vi4ceNq46+99lp2X8w7kydPro1XVZWtWX755bO5BRbw3iPAQPXcc89lc/vss082N2HChNr40KFDszWXX355Nvfxj388m4O+ZJ111qmNP/TQQ9mam266KZs7+uija+OHH354tmbIkCG18X333Tdb01dXE/EqFgAAAAqgQQcAAIACaNABAACgABp0AAAAKIAGHQAAAAqgQQcAAIACWGatC4455phs7p///Gfb+7vrrru6tL8999yz7WO1ssIKK9TG11xzzWzNgQce2PZxtt1222zuwx/+cG08tyxaRMR2222XzeV+f7llISyzNu+0ei6fdNJJtfFWy2NcffXV2dxCCy3U+YEB0CfNnDmzNn7mmWdma3JLqbUyatSobG6PPfZoe3+t5JbXbfX6ZLHFFuvRMUBntVqCcK+99srmxowZUxtv1XMccMABtfHddtstW7PIIotkcyVzBR0AAAAKoEEHAACAAmjQAQAAoAAadAAAACiABh0AAAAKoEEHAACAAlhmrYVHH320Nv7zn/+8R49z7rnndqluiy22qI2fcsopXdrfMsssUxvfcMMNu7S/nnTQQQd1qW6VVVapja+33nq18YsvvrhLx2HuWi2ZNnjw4Nr4W2+9la0ZO3Zst8cEdM60adPm9xAYoF588cVs7gtf+EJtvKvn8tyyreeff36X9jd9+vTa+NSpU7M1X/rSl2rj++23X7Zm6623bm9gvENuabtWr0GGDBkyr4YzIIwcObI2vu6662Zrnnjiidr4rbfemq1ptQRbyVxBBwAAgAJo0AEAAKAAGnQAAAAogAYdAAAACqBBBwAAgAK4i3sLubu4T5o0qUePs8QSS2Rz999/fzaXu0P5sGHDuj0m6GkLL7xwNrfyyivXxv/yl79kawYNGtTtMQGdc/3118/vIdCPTZ48OZsbPXp0NpdbXWDo0KHZmgsvvDCb++QnP1kbb3XX9cMPPzyby636s//++2drjjrqqNr4+9///mwN3TNhwoTa+Iknnpit+c///M/aeG6FJd4p9xpuwQXbb01ff/317g6nOK6gAwAAQAE06AAAAFAADToAAAAUQIMOAAAABdCgAwAAQAE06AAAAFCAAb/M2kMPPZTNPfbYY23vb5999snmhgwZUhs/7rjjsjVrr71222OAEr311lvZ3IwZM9reX6tldID23Xvvvdnc3/72t2xu9913r42vsMIK3R4T/cv06dNr42effXa2JreUWkTExz/+8dr4WWedla0ZOXJkNnfRRRfVxk866aRsTavnea7u6KOPztbQ+zbddNPaeFVV2ZqtttqqNr7ffvtla0455ZRsbtSoUdlcf/Tiiy/WxlstuZj7/5FbqrcvcwUdAAAACqBBBwAAgAJo0AEAAKAAGnQAAAAogAYdAAAACjDg7+I+duzYbC6lVBtvddf1M888M5sbPHhw5wcG/czMmTOzueeff74XRwLd12rlgVdeeaXt/f3qV79qu6bVndUnTJjQ9v7uuOOObG655ZbL5r7+9a/XxnMrl9C/tXr+f+ADH6iNT5w4sUvH+sIXvlAbf+CBB7I1O+64Yzb397//vTa+ySabZGtuvvnmbG748OHZHOVYeOGFa+OtnkcHH3xwbfz73/9+tuanP/1pNnfdddfVxjfeeONszUILLZTNlaDV6j1HHnlkbfyll17K1uT+P7Wan32VK+gAAABQAA06AAAAFECDDgAAAAXQoAMAAEABNOgAAABQAA06AAAAFGDAL7M2fvz4bC63HMKXvvSlbI2l1KDeoosums2NGjWqNv6Xv/wlW/Paa69lc0OHDu38wBjwqqqqjV900UXZmlNPPTWbmz59em08t0RMRMSuu+6aza244oq18bvuuitb8+c//zmby/nMZz6TzZ100knZ3EorrdT2sejbJk2alM2NHj06m8vNja56//vfXxvPLZMbEbHkkktmcxdeeGFt/LDDDmtvYPQLrZaKvPrqq2vjuaX/IiK23377bG6LLbaoja+yyirZmptuuimb23DDDbO5rsgtn/jQQw9la774xS9mc/fdd19tvNXcPfnkk2vjiyyySLamr3IFHQAAAAqgQQcAAIACaNABAACgABp0AAAAKIAGHQAAAAqgQQcAAIACDPhl1nbYYYcu5YD2tFpi6itf+UptfPfdd8/WfPOb38zmjjvuuM4PjAHvqaeeqo23WiLmnHPOyebe97731cbXXXfdbE1/XCaG/qvVEpg9vZRaK4sttlht/POf/3y25qijjsrmllhiiW6PiYHt3e9+dzb3+OOPZ3MTJ06sje+yyy7ZmjFjxmRzn/3sZ2vjK6ywQrbmkUceyeZuu+222vjLL7+crWll0003rY23em23zjrrdOlYfZEr6AAAAFAADToAAAAUQIMOAAAABdCgAwAAQAE06AAAAFCAAX8Xd2D+23777duuaXW3UWjHaqutVhufOnVqL48E+ob11lsvm1t66aWzuRdffLE2vsAC+etFo0ePzub++7//uzY+bNiwbA3ML0OGDMnm1l9//dr4E088ka157rnn2h7Dl7/85Wzuuuuua3t/ubvFR0Tsvffe2VzujuyLLrpo22Poj1xBBwAAgAJo0AEAAKAAGnQAAAAogAYdAAAACqBBBwAAgAJo0AEAAKAAllkD5rvc0iOHHnpotuaxxx7L5t56663a+IIL+pMH0F0rrbRSNnfJJZdkc9OmTauNr7vuutmaTTfdtPMDg35mkUUWyebWWGONtvd3xRVXdClH73IFHQAAAAqgQQcAAIACaNABAACgABp0AAAAKIAGHQAAAAqgQQcAAIACWHMImO8GDRpUG7/44ot7eSQAdMeuu+46v4cA0Ke5gg4AAAAF0KADAABAATToAAAAUAANOgAAABRAgw4AAAAF0KADAABAATToAAAAUAANOgAAABRAgw4AAAAF0KADAABAATToAAAAUAANOgAAABQgVVXV+Y3/f7t2bAIwCEVR9DtE6uw/VuoMYRYwhQHJA8/pBZuHXLC1u6quddeB352992P2kG2wgU/bqLIPtuDtgDHbgHfDfUwFOgAAALCGL+4AAAAQQKADAABAAIEOAAAAAQQ6AAAABBDoAAAAEECgAwAAQACBDgAAAAEEOgAAAAQQ6AAAABDgAXkNXtDdBr+hAAAAAElFTkSuQmCC\n"
          },
          "metadata": {}
        }
>>>>>>> 087816cf9da14d87e620cbbc776cde5098adeaf5
      ]
     },
     "metadata": {},
     "output_type": "display_data"
    }
   ],
   "source": [
    "# classificações incorretas\n",
    "predict_x = model.predict(X_test)\n",
    "y_test_pred = np.argmax(predict_x, axis=1)\n",
    "\n",
    "#y_test_pred = np_utils.to_categorical(y_test_pred, nb_classes)\n",
    "\n",
    "miscl_img = X_test[y_test != y_test_pred][:25]\n",
    "correct_lab = y_test[y_test != y_test_pred][:25]\n",
    "miscl_lab = y_test_pred[y_test != y_test_pred][:25]\n",
    "\n",
    "\n",
    "#miscl_img = X_test[correct_indices]\n",
    "fig, ax = plt.subplots(nrows=2, ncols=5, sharex=True, sharey=True,)\n",
    "ax = ax.flatten()\n",
    "for i in range(10):\n",
    "    img = miscl_img[i].reshape(28, 28)\n",
    "    ax[i].imshow(img, cmap='Greys', interpolation='nearest')\n",
    "    ax[i].set_title('%d) t: %d p: %d' % (i+1, correct_lab[i], miscl_lab[i]))\n",
    "\n",
    "ax[0].set_xticks([])\n",
    "ax[0].set_yticks([])\n",
    "plt.tight_layout()\n",
    "plt.show()"
   ]
  },
  {
   "cell_type": "markdown",
   "metadata": {
    "id": "4IfepFdZcIQp"
   },
   "source": [
    "# Plotando algumas predições Corretas do conjunto de teste"
   ]
  },
  {
   "cell_type": "code",
   "execution_count": 62,
   "metadata": {
    "colab": {
     "base_uri": "https://localhost:8080/",
     "height": 585
    },
    "id": "9deHG7zKcIQq",
    "outputId": "a8f52c27-9830-4866-f1ea-6e4a98ae7a7c"
   },
   "outputs": [
    {
     "data": {
      "image/png": "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\n",
      "text/plain": [
       "<Figure size 1008x576 with 15 Axes>"
      ]
     },
     "metadata": {},
     "output_type": "display_data"
    }
   ],
   "source": [
    "# classificações corretas\n",
    "miscl_img = X_test[y_test == y_test_pred][:25]\n",
    "correct_lab = y_test[y_test == y_test_pred][:25]\n",
    "miscl_lab = y_test_pred[y_test == y_test_pred][:25]\n",
    "\n",
    "\n",
    "#miscl_img = X_test[correct_indices]\n",
    "fig, ax = plt.subplots(nrows=3, ncols=5, sharex=True, sharey=True,)\n",
    "ax = ax.flatten()\n",
    "for i in range(15):\n",
    "    img = miscl_img[i].reshape(28, 28)\n",
    "    ax[i].imshow(img, cmap='Greys', interpolation='nearest')\n",
    "    ax[i].set_title('%d) t: %d p: %d' % (i+1, correct_lab[i], miscl_lab[i]))\n",
    "\n",
    "ax[0].set_xticks([])\n",
    "ax[0].set_yticks([])\n",
    "plt.tight_layout()\n",
    "plt.show()"
   ]
  },
  {
   "cell_type": "markdown",
   "metadata": {
    "id": "qwK1eRX5j_Vj"
   },
   "source": [
    "# Salvando o modelo"
   ]
  },
  {
   "cell_type": "code",
   "execution_count": 63,
   "metadata": {
    "colab": {
     "base_uri": "https://localhost:8080/"
    },
    "id": "rLlLvy_tj-jh",
    "outputId": "fd6a5dcf-82d9-4c60-a510-55594845aed2"
   },
   "outputs": [
    {
<<<<<<< HEAD
     "name": "stdout",
     "output_type": "stream",
     "text": [
      "3670026 -rw-r--r-- 1 root root 23M Mar 26 08:42 modelo.hdf5\n"
     ]
    }
   ],
   "source": [
    "model.save('modelo.hdf5')\n",
    "!ls -ilah *.hdf5"
   ]
  },
  {
   "cell_type": "markdown",
   "metadata": {
    "id": "WjLPTr5ilFsH"
   },
   "source": [
    "# Carregando o modelo Salvo"
   ]
  },
  {
   "cell_type": "code",
   "execution_count": 64,
   "metadata": {
    "colab": {
     "base_uri": "https://localhost:8080/"
=======
      "cell_type": "code",
      "metadata": {
        "id": "9deHG7zKcIQq",
        "colab": {
          "base_uri": "https://localhost:8080/",
          "height": 585
        },
        "outputId": "a8f52c27-9830-4866-f1ea-6e4a98ae7a7c"
      },
      "source": [
        "# classificações corretas\n",
        "miscl_img = X_test[y_test == y_test_pred][:25]\n",
        "correct_lab = y_test[y_test == y_test_pred][:25]\n",
        "miscl_lab = y_test_pred[y_test == y_test_pred][:25]\n",
        "\n",
        "\n",
        "#miscl_img = X_test[correct_indices]\n",
        "fig, ax = plt.subplots(nrows=3, ncols=5, sharex=True, sharey=True,)\n",
        "ax = ax.flatten()\n",
        "for i in range(15):\n",
        "    img = miscl_img[i].reshape(28, 28)\n",
        "    ax[i].imshow(img, cmap='Greys', interpolation='nearest')\n",
        "    ax[i].set_title('%d) t: %d p: %d' % (i+1, correct_lab[i], miscl_lab[i]))\n",
        "\n",
        "ax[0].set_xticks([])\n",
        "ax[0].set_yticks([])\n",
        "plt.tight_layout()\n",
        "plt.show()"
      ],
      "execution_count": null,
      "outputs": [
        {
          "output_type": "display_data",
          "data": {
            "text/plain": [
              "<Figure size 1008x576 with 15 Axes>"
            ],
            "image/png": "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\n"
          },
          "metadata": {}
        }
      ]
>>>>>>> 087816cf9da14d87e620cbbc776cde5098adeaf5
    },
    "id": "Aa1AZaAGkR5l",
    "outputId": "8905b1ef-3426-4133-85f4-71e0f12ba83f"
   },
   "outputs": [
    {
     "name": "stdout",
     "output_type": "stream",
     "text": [
      "> 99.160\n"
     ]
    }
   ],
   "source": [
    "loaded_model = load_model('modelo.hdf5')\n",
    "_, acc = model.evaluate(X_test, Y_test, verbose=0)\n",
    "print('> %.3f' % (acc * 100.0))"
   ]
  },
  {
   "cell_type": "markdown",
   "metadata": {
    "id": "K7jEDHawliY-"
   },
   "source": [
    "# Download do modelo"
   ]
  },
  {
   "cell_type": "code",
   "execution_count": 65,
   "metadata": {
    "colab": {
     "base_uri": "https://localhost:8080/",
     "height": 69
    },
    "id": "XfshLa67kyhC",
    "outputId": "39306d51-1565-472d-da0c-a3bd6e71f5d9"
   },
   "outputs": [
    {
     "data": {
      "application/javascript": [
       "\n",
       "    async function download(id, filename, size) {\n",
       "      if (!google.colab.kernel.accessAllowed) {\n",
       "        return;\n",
       "      }\n",
       "      const div = document.createElement('div');\n",
       "      const label = document.createElement('label');\n",
       "      label.textContent = `Downloading \"${filename}\": `;\n",
       "      div.appendChild(label);\n",
       "      const progress = document.createElement('progress');\n",
       "      progress.max = size;\n",
       "      div.appendChild(progress);\n",
       "      document.body.appendChild(div);\n",
       "\n",
       "      const buffers = [];\n",
       "      let downloaded = 0;\n",
       "\n",
       "      const channel = await google.colab.kernel.comms.open(id);\n",
       "      // Send a message to notify the kernel that we're ready.\n",
       "      channel.send({})\n",
       "\n",
       "      for await (const message of channel.messages) {\n",
       "        // Send a message to notify the kernel that we're ready.\n",
       "        channel.send({})\n",
       "        if (message.buffers) {\n",
       "          for (const buffer of message.buffers) {\n",
       "            buffers.push(buffer);\n",
       "            downloaded += buffer.byteLength;\n",
       "            progress.value = downloaded;\n",
       "          }\n",
       "        }\n",
       "      }\n",
       "      const blob = new Blob(buffers, {type: 'application/binary'});\n",
       "      const a = document.createElement('a');\n",
       "      a.href = window.URL.createObjectURL(blob);\n",
       "      a.download = filename;\n",
       "      div.appendChild(a);\n",
       "      a.click();\n",
       "      div.remove();\n",
       "    }\n",
       "  "
      ],
<<<<<<< HEAD
      "text/plain": [
       "<IPython.core.display.Javascript object>"
=======
      "execution_count": null,
      "outputs": [
        {
          "output_type": "stream",
          "name": "stdout",
          "text": [
            "3670026 -rw-r--r-- 1 root root 23M Mar 26 08:42 modelo.hdf5\n"
          ]
        }
      ]
    },
    {
      "cell_type": "markdown",
      "metadata": {
        "id": "WjLPTr5ilFsH"
      },
      "source": [
        "# Carregando o modelo Salvo"
>>>>>>> 087816cf9da14d87e620cbbc776cde5098adeaf5
      ]
     },
     "metadata": {},
     "output_type": "display_data"
    },
    {
     "data": {
      "application/javascript": [
       "download(\"download_de297a3f-8036-4d1f-bd9f-08f98ffc6692\", \"modelo.hdf5\", 23963984)"
      ],
<<<<<<< HEAD
      "text/plain": [
       "<IPython.core.display.Javascript object>"
=======
      "execution_count": null,
      "outputs": [
        {
          "output_type": "stream",
          "name": "stdout",
          "text": [
            "> 99.160\n"
          ]
        }
>>>>>>> 087816cf9da14d87e620cbbc776cde5098adeaf5
      ]
     },
     "metadata": {},
     "output_type": "display_data"
    },
    {
<<<<<<< HEAD
     "name": "stdout",
     "output_type": "stream",
     "text": [
      "CPU times: user 5.34 ms, sys: 990 µs, total: 6.33 ms\n",
      "Wall time: 6.48 ms\n"
     ]
=======
      "cell_type": "markdown",
      "metadata": {
        "id": "K7jEDHawliY-"
      },
      "source": [
        "# Download do modelo"
      ]
    },
    {
      "cell_type": "code",
      "metadata": {
        "colab": {
          "base_uri": "https://localhost:8080/",
          "height": 69
        },
        "id": "XfshLa67kyhC",
        "outputId": "39306d51-1565-472d-da0c-a3bd6e71f5d9"
      },
      "source": [
        "%%time\n",
        "from google.colab import files\n",
        "files.download('modelo.hdf5')"
      ],
      "execution_count": null,
      "outputs": [
        {
          "output_type": "display_data",
          "data": {
            "text/plain": [
              "<IPython.core.display.Javascript object>"
            ],
            "application/javascript": [
              "\n",
              "    async function download(id, filename, size) {\n",
              "      if (!google.colab.kernel.accessAllowed) {\n",
              "        return;\n",
              "      }\n",
              "      const div = document.createElement('div');\n",
              "      const label = document.createElement('label');\n",
              "      label.textContent = `Downloading \"${filename}\": `;\n",
              "      div.appendChild(label);\n",
              "      const progress = document.createElement('progress');\n",
              "      progress.max = size;\n",
              "      div.appendChild(progress);\n",
              "      document.body.appendChild(div);\n",
              "\n",
              "      const buffers = [];\n",
              "      let downloaded = 0;\n",
              "\n",
              "      const channel = await google.colab.kernel.comms.open(id);\n",
              "      // Send a message to notify the kernel that we're ready.\n",
              "      channel.send({})\n",
              "\n",
              "      for await (const message of channel.messages) {\n",
              "        // Send a message to notify the kernel that we're ready.\n",
              "        channel.send({})\n",
              "        if (message.buffers) {\n",
              "          for (const buffer of message.buffers) {\n",
              "            buffers.push(buffer);\n",
              "            downloaded += buffer.byteLength;\n",
              "            progress.value = downloaded;\n",
              "          }\n",
              "        }\n",
              "      }\n",
              "      const blob = new Blob(buffers, {type: 'application/binary'});\n",
              "      const a = document.createElement('a');\n",
              "      a.href = window.URL.createObjectURL(blob);\n",
              "      a.download = filename;\n",
              "      div.appendChild(a);\n",
              "      a.click();\n",
              "      div.remove();\n",
              "    }\n",
              "  "
            ]
          },
          "metadata": {}
        },
        {
          "output_type": "display_data",
          "data": {
            "text/plain": [
              "<IPython.core.display.Javascript object>"
            ],
            "application/javascript": [
              "download(\"download_de297a3f-8036-4d1f-bd9f-08f98ffc6692\", \"modelo.hdf5\", 23963984)"
            ]
          },
          "metadata": {}
        },
        {
          "output_type": "stream",
          "name": "stdout",
          "text": [
            "CPU times: user 5.34 ms, sys: 990 µs, total: 6.33 ms\n",
            "Wall time: 6.48 ms\n"
          ]
        }
      ]
>>>>>>> 087816cf9da14d87e620cbbc776cde5098adeaf5
    }
   ],
   "source": [
    "%%time\n",
    "from google.colab import files\n",
    "files.download('modelo.hdf5')"
   ]
  }
 ],
 "metadata": {
  "accelerator": "GPU",
  "colab": {
   "collapsed_sections": [],
   "machine_shape": "hm",
   "name": "Keras_MNIST_Marco_2022-v01.ipynb",
   "provenance": []
  },
  "kernelspec": {
   "display_name": "Python 3 (ipykernel)",
   "language": "python",
   "name": "python3"
  },
  "language_info": {
   "codemirror_mode": {
    "name": "ipython",
    "version": 3
   },
   "file_extension": ".py",
   "mimetype": "text/x-python",
   "name": "python",
   "nbconvert_exporter": "python",
   "pygments_lexer": "ipython3",
   "version": "3.8.8"
  }
 },
 "nbformat": 4,
 "nbformat_minor": 1
}
