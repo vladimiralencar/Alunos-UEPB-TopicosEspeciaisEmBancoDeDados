{
  "nbformat": 4,
  "nbformat_minor": 0,
  "metadata": {
    "colab": {
      "provenance": [],
      "gpuType": "T4"
    },
    "kernelspec": {
      "name": "python3",
      "display_name": "Python 3"
    },
    "language_info": {
      "name": "python"
    },
    "accelerator": "GPU"
  },
  "cells": [
    {
      "cell_type": "code",
      "execution_count": null,
      "metadata": {
        "colab": {
          "base_uri": "https://localhost:8080/"
        },
        "id": "2sQEPwznYOnT",
        "outputId": "f07a9833-49f7-4854-f439-cdc6058a5d6d"
      },
      "outputs": [
        {
          "output_type": "stream",
          "name": "stdout",
          "text": [
            "Mon Nov 18 13:10:59 2024       \n",
            "+---------------------------------------------------------------------------------------+\n",
            "| NVIDIA-SMI 535.104.05             Driver Version: 535.104.05   CUDA Version: 12.2     |\n",
            "|-----------------------------------------+----------------------+----------------------+\n",
            "| GPU  Name                 Persistence-M | Bus-Id        Disp.A | Volatile Uncorr. ECC |\n",
            "| Fan  Temp   Perf          Pwr:Usage/Cap |         Memory-Usage | GPU-Util  Compute M. |\n",
            "|                                         |                      |               MIG M. |\n",
            "|=========================================+======================+======================|\n",
            "|   0  Tesla T4                       Off | 00000000:00:04.0 Off |                    0 |\n",
            "| N/A   33C    P8               9W /  70W |      0MiB / 15360MiB |      0%      Default |\n",
            "|                                         |                      |                  N/A |\n",
            "+-----------------------------------------+----------------------+----------------------+\n",
            "                                                                                         \n",
            "+---------------------------------------------------------------------------------------+\n",
            "| Processes:                                                                            |\n",
            "|  GPU   GI   CI        PID   Type   Process name                            GPU Memory |\n",
            "|        ID   ID                                                             Usage      |\n",
            "|=======================================================================================|\n",
            "|  No running processes found                                                           |\n",
            "+---------------------------------------------------------------------------------------+\n"
          ]
        }
      ],
      "source": [
        "!nvidia-smi"
      ]
    },
    {
      "cell_type": "code",
      "source": [
        "from google.colab import drive\n",
        "drive.mount('/content/drive', force_remount=True)"
      ],
      "metadata": {
        "colab": {
          "base_uri": "https://localhost:8080/"
        },
        "id": "5k-90mNLZgNR",
        "outputId": "93ef0512-6089-4015-b803-8a4bbc35dc9c"
      },
      "execution_count": null,
      "outputs": [
        {
          "output_type": "stream",
          "name": "stdout",
          "text": [
            "Mounted at /content/drive\n"
          ]
        }
      ]
    },
    {
      "cell_type": "code",
      "source": [
        "!ls drive/MyDrive/'Colab Notebooks'/*.cu"
      ],
      "metadata": {
        "colab": {
          "base_uri": "https://localhost:8080/"
        },
        "id": "ZHAmixeWadT0",
        "outputId": "a6c46eb4-80b4-450d-bb59-c33abc95a6f1"
      },
      "execution_count": null,
      "outputs": [
        {
          "output_type": "stream",
          "name": "stdout",
          "text": [
            "'drive/MyDrive/Colab Notebooks/soma.cu'\n"
          ]
        }
      ]
    },
    {
      "cell_type": "code",
      "source": [
        "!cp drive/MyDrive/'Colab Notebooks'/*.cu ."
      ],
      "metadata": {
        "id": "_7v5gUWnbI_T"
      },
      "execution_count": null,
      "outputs": []
    },
    {
      "cell_type": "code",
      "source": [
        "!cat soma.cu"
      ],
      "metadata": {
        "colab": {
          "base_uri": "https://localhost:8080/"
        },
        "id": "fiMkP-M8bOPv",
        "outputId": "bd533406-f1eb-4df6-e230-dc58d36f8b2f"
      },
      "execution_count": null,
      "outputs": [
        {
          "output_type": "stream",
          "name": "stdout",
          "text": [
            "#include <stdio.h>\n",
            "#include <iostream>\n",
            "\n",
            "__global__ void add(int *a, int *b, int *c, int n)\n",
            "{\n",
            "    int i = blockDim.x * blockIdx.x + threadIdx.x;\n",
            "    if (i < n) \n",
            "        c[i] = a[i] + b[i];\n",
            "}\n",
            "\n",
            "int main() {\n",
            "    int n = 10;\n",
            "    int *a, *b, *c;\n",
            "    int *d_a, *d_b, *d_c;\n",
            "    int size = n * sizeof(int);\n",
            "\n",
            "    a = (int *)malloc(size);\n",
            "    b = (int *)malloc(size);\n",
            "    c = (int *)malloc(size);\n",
            "\n",
            "    for (int i = 0; i < n; i++) {\n",
            "        a[i] = i;\n",
            "        b[i] = i * 2;\n",
            "    }\n",
            "\n",
            "    cudaMalloc((void **)&d_a, size);\n",
            "    cudaMalloc((void **)&d_b, size);\n",
            "    cudaMalloc((void **)&d_c, size);\n",
            "\n",
            "    cudaMemcpy(d_a, a, size, cudaMemcpyHostToDevice);\n",
            "    cudaMemcpy(d_b, b, size, cudaMemcpyHostToDevice);\n",
            "\n",
            "    add<<<1, n>>>(d_a, d_b, d_c, n);\n",
            "\n",
            "    cudaMemcpy(c, d_c, size, cudaMemcpyDeviceToHost);\n",
            "\n",
            "    for (int i = 0; i < n; i++)\n",
            "        printf(\"%d + %d = %d\\n\", a[i], b[i], c[i]);\n",
            "\n",
            "    cudaFree(d_a);\n",
            "    cudaFree(d_b);\n",
            "    cudaFree(d_c);\n",
            "    free(a);\n",
            "    free(b);\n",
            "    free(c);\n",
            "\n",
            "    return 0;\n",
            "}"
          ]
        }
      ]
    },
    {
      "cell_type": "code",
      "source": [
        "!nvcc -O3 soma.cu -o soma"
      ],
      "metadata": {
        "id": "I0jWqo1zbc5v"
      },
      "execution_count": null,
      "outputs": []
    },
    {
      "cell_type": "code",
      "source": [
        "!./soma"
      ],
      "metadata": {
        "colab": {
          "base_uri": "https://localhost:8080/"
        },
        "id": "ZNRozF3mcGLD",
        "outputId": "ac73e84d-3222-4531-cb31-515b578b5def"
      },
      "execution_count": null,
      "outputs": [
        {
          "output_type": "stream",
          "name": "stdout",
          "text": [
            "0 + 0 = 0\n",
            "1 + 2 = 3\n",
            "2 + 4 = 6\n",
            "3 + 6 = 9\n",
            "4 + 8 = 12\n",
            "5 + 10 = 15\n",
            "6 + 12 = 18\n",
            "7 + 14 = 21\n",
            "8 + 16 = 24\n",
            "9 + 18 = 27\n"
          ]
        }
      ]
    }
  ]
}