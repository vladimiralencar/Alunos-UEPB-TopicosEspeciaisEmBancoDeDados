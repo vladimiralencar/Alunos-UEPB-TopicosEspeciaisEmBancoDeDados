{
 "cells": [
  {
   "cell_type": "markdown",
   "metadata": {
    "collapsed": true
   },
   "source": [
    "# Regressao Linear - Açudes da Paraíba \n",
    "## Época da seca - até Março 2017 - Boqueirão\n",
    "### http://www.aesa.pb.gov.br/aesa-website/monitoramento/\n",
    "#### http://www.aesa.pb.gov.br/aesa-website/monitoramento/volume-acude/?id_acude=531\n",
    "#### http://www.aesa.pb.gov.br/aesa-website/monitoramento/volume-diario/?tipo=atual"
   ]
  },
  {
   "cell_type": "markdown",
   "metadata": {},
   "source": [
    "## Nome: Matricula - Nome do Açude"
   ]
  },
  {
   "cell_type": "code",
   "execution_count": 1,
   "metadata": {},
   "outputs": [],
   "source": [
    "import pandas as pd"
   ]
  },
  {
   "cell_type": "markdown",
   "metadata": {},
   "source": [
    "## Leitura do dataset\n",
    "## Acude de Boqueirão - Previsão de Seca - 31/01/2008 ate 31/03/2017"
   ]
  },
  {
   "cell_type": "code",
   "execution_count": 2,
   "metadata": {},
   "outputs": [
    {
     "name": "stdout",
     "output_type": "stream",
     "text": [
      "boqueirao-2017-2018.xlsx    boqueiraoRecarga2018.xlsx\r\n",
      "boqueirao20172018.xlsx      boqueirao_sem_recarga3.xlsx\r\n"
     ]
    }
   ],
   "source": [
    "!ls *.xlsx"
   ]
  },
  {
   "cell_type": "code",
   "execution_count": 3,
   "metadata": {},
   "outputs": [
    {
     "data": {
      "text/html": [
       "<div>\n",
       "<style scoped>\n",
       "    .dataframe tbody tr th:only-of-type {\n",
       "        vertical-align: middle;\n",
       "    }\n",
       "\n",
       "    .dataframe tbody tr th {\n",
       "        vertical-align: top;\n",
       "    }\n",
       "\n",
       "    .dataframe thead th {\n",
       "        text-align: right;\n",
       "    }\n",
       "</style>\n",
       "<table border=\"1\" class=\"dataframe\">\n",
       "  <thead>\n",
       "    <tr style=\"text-align: right;\">\n",
       "      <th></th>\n",
       "      <th>Açude</th>\n",
       "      <th>Data do registro</th>\n",
       "      <th>Volume (%)</th>\n",
       "      <th>Volume (m³)</th>\n",
       "      <th>Volume de chuvas (mm)</th>\n",
       "    </tr>\n",
       "  </thead>\n",
       "  <tbody>\n",
       "    <tr>\n",
       "      <th>0</th>\n",
       "      <td>Epitácio Pessoa</td>\n",
       "      <td>31/01/2008</td>\n",
       "      <td>67.39</td>\n",
       "      <td>2.774251e+08</td>\n",
       "      <td>0</td>\n",
       "    </tr>\n",
       "    <tr>\n",
       "      <th>1</th>\n",
       "      <td>Epitácio Pessoa</td>\n",
       "      <td>29/02/2008</td>\n",
       "      <td>65.23</td>\n",
       "      <td>2.685472e+08</td>\n",
       "      <td>0</td>\n",
       "    </tr>\n",
       "    <tr>\n",
       "      <th>2</th>\n",
       "      <td>Epitácio Pessoa</td>\n",
       "      <td>31/03/2008</td>\n",
       "      <td>110.03</td>\n",
       "      <td>4.529657e+08</td>\n",
       "      <td>0</td>\n",
       "    </tr>\n",
       "    <tr>\n",
       "      <th>3</th>\n",
       "      <td>Epitácio Pessoa</td>\n",
       "      <td>30/04/2008</td>\n",
       "      <td>104.93</td>\n",
       "      <td>4.319852e+08</td>\n",
       "      <td>0</td>\n",
       "    </tr>\n",
       "    <tr>\n",
       "      <th>4</th>\n",
       "      <td>Epitácio Pessoa</td>\n",
       "      <td>31/05/2008</td>\n",
       "      <td>104.83</td>\n",
       "      <td>4.315656e+08</td>\n",
       "      <td>0</td>\n",
       "    </tr>\n",
       "  </tbody>\n",
       "</table>\n",
       "</div>"
      ],
      "text/plain": [
       "             Açude Data do registro  Volume (%)   Volume (m³)  \\\n",
       "0  Epitácio Pessoa       31/01/2008       67.39  2.774251e+08   \n",
       "1  Epitácio Pessoa       29/02/2008       65.23  2.685472e+08   \n",
       "2  Epitácio Pessoa       31/03/2008      110.03  4.529657e+08   \n",
       "3  Epitácio Pessoa       30/04/2008      104.93  4.319852e+08   \n",
       "4  Epitácio Pessoa       31/05/2008      104.83  4.315656e+08   \n",
       "\n",
       "   Volume de chuvas (mm)  \n",
       "0                      0  \n",
       "1                      0  \n",
       "2                      0  \n",
       "3                      0  \n",
       "4                      0  "
      ]
     },
     "execution_count": 3,
     "metadata": {},
     "output_type": "execute_result"
    }
   ],
   "source": [
    "# Acude de Boqueirão com Recarga do Rio São Francisco - 31/01/2008 ate 31/03/2017\n",
    "df = pd.read_excel(open(\"boqueirao_sem_recarga3.xlsx\",'rb'))\n",
    "df.head()"
   ]
  },
  {
   "cell_type": "code",
   "execution_count": 4,
   "metadata": {},
   "outputs": [
    {
     "data": {
      "text/html": [
       "<div>\n",
       "<style scoped>\n",
       "    .dataframe tbody tr th:only-of-type {\n",
       "        vertical-align: middle;\n",
       "    }\n",
       "\n",
       "    .dataframe tbody tr th {\n",
       "        vertical-align: top;\n",
       "    }\n",
       "\n",
       "    .dataframe thead th {\n",
       "        text-align: right;\n",
       "    }\n",
       "</style>\n",
       "<table border=\"1\" class=\"dataframe\">\n",
       "  <thead>\n",
       "    <tr style=\"text-align: right;\">\n",
       "      <th></th>\n",
       "      <th>Açude</th>\n",
       "      <th>Data do registro</th>\n",
       "      <th>Volume (%)</th>\n",
       "      <th>Volume (m³)</th>\n",
       "      <th>Volume de chuvas (mm)</th>\n",
       "    </tr>\n",
       "  </thead>\n",
       "  <tbody>\n",
       "    <tr>\n",
       "      <th>106</th>\n",
       "      <td>Epitácio Pessoa</td>\n",
       "      <td>30/11/2016</td>\n",
       "      <td>5.39</td>\n",
       "      <td>22196764.40</td>\n",
       "      <td>0</td>\n",
       "    </tr>\n",
       "    <tr>\n",
       "      <th>107</th>\n",
       "      <td>Epitácio Pessoa</td>\n",
       "      <td>31/12/2016</td>\n",
       "      <td>4.82</td>\n",
       "      <td>19828074.48</td>\n",
       "      <td>0</td>\n",
       "    </tr>\n",
       "    <tr>\n",
       "      <th>108</th>\n",
       "      <td>Epitácio Pessoa</td>\n",
       "      <td>31/01/2017</td>\n",
       "      <td>4.21</td>\n",
       "      <td>17343204.52</td>\n",
       "      <td>0</td>\n",
       "    </tr>\n",
       "    <tr>\n",
       "      <th>109</th>\n",
       "      <td>Epitácio Pessoa</td>\n",
       "      <td>28/02/2017</td>\n",
       "      <td>3.72</td>\n",
       "      <td>15312655.88</td>\n",
       "      <td>0</td>\n",
       "    </tr>\n",
       "    <tr>\n",
       "      <th>110</th>\n",
       "      <td>Epitácio Pessoa</td>\n",
       "      <td>31/03/2017</td>\n",
       "      <td>3.18</td>\n",
       "      <td>13094571.31</td>\n",
       "      <td>0</td>\n",
       "    </tr>\n",
       "  </tbody>\n",
       "</table>\n",
       "</div>"
      ],
      "text/plain": [
       "               Açude Data do registro  Volume (%)  Volume (m³)  \\\n",
       "106  Epitácio Pessoa       30/11/2016        5.39  22196764.40   \n",
       "107  Epitácio Pessoa       31/12/2016        4.82  19828074.48   \n",
       "108  Epitácio Pessoa       31/01/2017        4.21  17343204.52   \n",
       "109  Epitácio Pessoa       28/02/2017        3.72  15312655.88   \n",
       "110  Epitácio Pessoa       31/03/2017        3.18  13094571.31   \n",
       "\n",
       "     Volume de chuvas (mm)  \n",
       "106                      0  \n",
       "107                      0  \n",
       "108                      0  \n",
       "109                      0  \n",
       "110                      0  "
      ]
     },
     "execution_count": 4,
     "metadata": {},
     "output_type": "execute_result"
    }
   ],
   "source": [
    "df.tail()"
   ]
  },
  {
   "cell_type": "code",
   "execution_count": 5,
   "metadata": {},
   "outputs": [],
   "source": [
    "#!ls -ilah *.csv"
   ]
  },
  {
   "cell_type": "code",
   "execution_count": 6,
   "metadata": {},
   "outputs": [],
   "source": [
    "#!dir *.csv"
   ]
  },
  {
   "cell_type": "code",
   "execution_count": 7,
   "metadata": {},
   "outputs": [],
   "source": [
    "#import pandas as pd\n",
    "#file = 'boqueirao-2021.csv'\n",
    "#df = pd.read_csv(file)\n",
    "#df.head()"
   ]
  },
  {
   "cell_type": "code",
   "execution_count": 8,
   "metadata": {},
   "outputs": [
    {
     "name": "stdout",
     "output_type": "stream",
     "text": [
      "<class 'pandas.core.frame.DataFrame'>\n",
      "RangeIndex: 111 entries, 0 to 110\n",
      "Data columns (total 5 columns):\n",
      " #   Column                 Non-Null Count  Dtype  \n",
      "---  ------                 --------------  -----  \n",
      " 0   Açude                  111 non-null    object \n",
      " 1   Data do registro       111 non-null    object \n",
      " 2   Volume (%)             111 non-null    float64\n",
      " 3   Volume (m³)            111 non-null    float64\n",
      " 4   Volume de chuvas (mm)  111 non-null    int64  \n",
      "dtypes: float64(2), int64(1), object(2)\n",
      "memory usage: 4.5+ KB\n"
     ]
    }
   ],
   "source": [
    "df.info()"
   ]
  },
  {
   "cell_type": "code",
   "execution_count": 9,
   "metadata": {},
   "outputs": [],
   "source": [
    "#df['volume'] = df['Volume (%)'].apply(lambda x : float ( x.replace(',','.') ) )\n",
    "#df.head()"
   ]
  },
  {
   "cell_type": "code",
   "execution_count": 10,
   "metadata": {},
   "outputs": [
    {
     "data": {
      "text/html": [
       "<div>\n",
       "<style scoped>\n",
       "    .dataframe tbody tr th:only-of-type {\n",
       "        vertical-align: middle;\n",
       "    }\n",
       "\n",
       "    .dataframe tbody tr th {\n",
       "        vertical-align: top;\n",
       "    }\n",
       "\n",
       "    .dataframe thead th {\n",
       "        text-align: right;\n",
       "    }\n",
       "</style>\n",
       "<table border=\"1\" class=\"dataframe\">\n",
       "  <thead>\n",
       "    <tr style=\"text-align: right;\">\n",
       "      <th></th>\n",
       "      <th>Data do registro</th>\n",
       "      <th>Volume (%)</th>\n",
       "      <th>Volume (m³)</th>\n",
       "      <th>Volume de chuvas (mm)</th>\n",
       "    </tr>\n",
       "  </thead>\n",
       "  <tbody>\n",
       "    <tr>\n",
       "      <th>0</th>\n",
       "      <td>31/01/2008</td>\n",
       "      <td>67.39</td>\n",
       "      <td>2.774251e+08</td>\n",
       "      <td>0</td>\n",
       "    </tr>\n",
       "    <tr>\n",
       "      <th>1</th>\n",
       "      <td>29/02/2008</td>\n",
       "      <td>65.23</td>\n",
       "      <td>2.685472e+08</td>\n",
       "      <td>0</td>\n",
       "    </tr>\n",
       "    <tr>\n",
       "      <th>2</th>\n",
       "      <td>31/03/2008</td>\n",
       "      <td>110.03</td>\n",
       "      <td>4.529657e+08</td>\n",
       "      <td>0</td>\n",
       "    </tr>\n",
       "    <tr>\n",
       "      <th>3</th>\n",
       "      <td>30/04/2008</td>\n",
       "      <td>104.93</td>\n",
       "      <td>4.319852e+08</td>\n",
       "      <td>0</td>\n",
       "    </tr>\n",
       "    <tr>\n",
       "      <th>4</th>\n",
       "      <td>31/05/2008</td>\n",
       "      <td>104.83</td>\n",
       "      <td>4.315656e+08</td>\n",
       "      <td>0</td>\n",
       "    </tr>\n",
       "    <tr>\n",
       "      <th>5</th>\n",
       "      <td>30/06/2008</td>\n",
       "      <td>102.16</td>\n",
       "      <td>4.205598e+08</td>\n",
       "      <td>0</td>\n",
       "    </tr>\n",
       "    <tr>\n",
       "      <th>6</th>\n",
       "      <td>31/07/2008</td>\n",
       "      <td>100.78</td>\n",
       "      <td>4.148863e+08</td>\n",
       "      <td>0</td>\n",
       "    </tr>\n",
       "    <tr>\n",
       "      <th>7</th>\n",
       "      <td>31/08/2008</td>\n",
       "      <td>99.05</td>\n",
       "      <td>4.077733e+08</td>\n",
       "      <td>0</td>\n",
       "    </tr>\n",
       "    <tr>\n",
       "      <th>8</th>\n",
       "      <td>30/09/2008</td>\n",
       "      <td>96.67</td>\n",
       "      <td>3.979907e+08</td>\n",
       "      <td>0</td>\n",
       "    </tr>\n",
       "    <tr>\n",
       "      <th>9</th>\n",
       "      <td>31/10/2008</td>\n",
       "      <td>94.00</td>\n",
       "      <td>3.870028e+08</td>\n",
       "      <td>0</td>\n",
       "    </tr>\n",
       "  </tbody>\n",
       "</table>\n",
       "</div>"
      ],
      "text/plain": [
       "  Data do registro  Volume (%)   Volume (m³)  Volume de chuvas (mm)\n",
       "0       31/01/2008       67.39  2.774251e+08                      0\n",
       "1       29/02/2008       65.23  2.685472e+08                      0\n",
       "2       31/03/2008      110.03  4.529657e+08                      0\n",
       "3       30/04/2008      104.93  4.319852e+08                      0\n",
       "4       31/05/2008      104.83  4.315656e+08                      0\n",
       "5       30/06/2008      102.16  4.205598e+08                      0\n",
       "6       31/07/2008      100.78  4.148863e+08                      0\n",
       "7       31/08/2008       99.05  4.077733e+08                      0\n",
       "8       30/09/2008       96.67  3.979907e+08                      0\n",
       "9       31/10/2008       94.00  3.870028e+08                      0"
      ]
     },
     "execution_count": 10,
     "metadata": {},
     "output_type": "execute_result"
    }
   ],
   "source": [
    "del df[\"Açude\"]\n",
    "df.head(10)"
   ]
  },
  {
   "cell_type": "code",
   "execution_count": 11,
   "metadata": {},
   "outputs": [
    {
     "name": "stdout",
     "output_type": "stream",
     "text": [
      "<class 'pandas.core.frame.DataFrame'>\n",
      "RangeIndex: 111 entries, 0 to 110\n",
      "Data columns (total 4 columns):\n",
      " #   Column                 Non-Null Count  Dtype  \n",
      "---  ------                 --------------  -----  \n",
      " 0   Data do registro       111 non-null    object \n",
      " 1   Volume (%)             111 non-null    float64\n",
      " 2   Volume (m³)            111 non-null    float64\n",
      " 3   Volume de chuvas (mm)  111 non-null    int64  \n",
      "dtypes: float64(2), int64(1), object(1)\n",
      "memory usage: 3.6+ KB\n"
     ]
    }
   ],
   "source": [
    "df.info()"
   ]
  },
  {
   "cell_type": "code",
   "execution_count": 12,
   "metadata": {},
   "outputs": [
    {
     "data": {
      "text/html": [
       "<div>\n",
       "<style scoped>\n",
       "    .dataframe tbody tr th:only-of-type {\n",
       "        vertical-align: middle;\n",
       "    }\n",
       "\n",
       "    .dataframe tbody tr th {\n",
       "        vertical-align: top;\n",
       "    }\n",
       "\n",
       "    .dataframe thead th {\n",
       "        text-align: right;\n",
       "    }\n",
       "</style>\n",
       "<table border=\"1\" class=\"dataframe\">\n",
       "  <thead>\n",
       "    <tr style=\"text-align: right;\">\n",
       "      <th></th>\n",
       "      <th>Data do registro</th>\n",
       "      <th>Volume (%)</th>\n",
       "      <th>Volume (m³)</th>\n",
       "      <th>Volume de chuvas (mm)</th>\n",
       "    </tr>\n",
       "  </thead>\n",
       "  <tbody>\n",
       "    <tr>\n",
       "      <th>0</th>\n",
       "      <td>31/01/2008</td>\n",
       "      <td>67.39</td>\n",
       "      <td>2.774251e+08</td>\n",
       "      <td>0</td>\n",
       "    </tr>\n",
       "    <tr>\n",
       "      <th>1</th>\n",
       "      <td>29/02/2008</td>\n",
       "      <td>65.23</td>\n",
       "      <td>2.685472e+08</td>\n",
       "      <td>0</td>\n",
       "    </tr>\n",
       "    <tr>\n",
       "      <th>2</th>\n",
       "      <td>31/03/2008</td>\n",
       "      <td>110.03</td>\n",
       "      <td>4.529657e+08</td>\n",
       "      <td>0</td>\n",
       "    </tr>\n",
       "    <tr>\n",
       "      <th>3</th>\n",
       "      <td>30/04/2008</td>\n",
       "      <td>104.93</td>\n",
       "      <td>4.319852e+08</td>\n",
       "      <td>0</td>\n",
       "    </tr>\n",
       "    <tr>\n",
       "      <th>4</th>\n",
       "      <td>31/05/2008</td>\n",
       "      <td>104.83</td>\n",
       "      <td>4.315656e+08</td>\n",
       "      <td>0</td>\n",
       "    </tr>\n",
       "  </tbody>\n",
       "</table>\n",
       "</div>"
      ],
      "text/plain": [
       "  Data do registro  Volume (%)   Volume (m³)  Volume de chuvas (mm)\n",
       "0       31/01/2008       67.39  2.774251e+08                      0\n",
       "1       29/02/2008       65.23  2.685472e+08                      0\n",
       "2       31/03/2008      110.03  4.529657e+08                      0\n",
       "3       30/04/2008      104.93  4.319852e+08                      0\n",
       "4       31/05/2008      104.83  4.315656e+08                      0"
      ]
     },
     "execution_count": 12,
     "metadata": {},
     "output_type": "execute_result"
    }
   ],
   "source": [
    "df.head()"
   ]
  },
  {
   "cell_type": "code",
   "execution_count": 13,
   "metadata": {},
   "outputs": [
    {
     "data": {
      "text/html": [
       "<div>\n",
       "<style scoped>\n",
       "    .dataframe tbody tr th:only-of-type {\n",
       "        vertical-align: middle;\n",
       "    }\n",
       "\n",
       "    .dataframe tbody tr th {\n",
       "        vertical-align: top;\n",
       "    }\n",
       "\n",
       "    .dataframe thead th {\n",
       "        text-align: right;\n",
       "    }\n",
       "</style>\n",
       "<table border=\"1\" class=\"dataframe\">\n",
       "  <thead>\n",
       "    <tr style=\"text-align: right;\">\n",
       "      <th></th>\n",
       "      <th>Data do registro</th>\n",
       "      <th>Volume (%)</th>\n",
       "      <th>Volume (m³)</th>\n",
       "      <th>Volume de chuvas (mm)</th>\n",
       "    </tr>\n",
       "  </thead>\n",
       "  <tbody>\n",
       "    <tr>\n",
       "      <th>0</th>\n",
       "      <td>2008-01-31</td>\n",
       "      <td>67.39</td>\n",
       "      <td>2.774251e+08</td>\n",
       "      <td>0</td>\n",
       "    </tr>\n",
       "    <tr>\n",
       "      <th>1</th>\n",
       "      <td>2008-02-29</td>\n",
       "      <td>65.23</td>\n",
       "      <td>2.685472e+08</td>\n",
       "      <td>0</td>\n",
       "    </tr>\n",
       "    <tr>\n",
       "      <th>2</th>\n",
       "      <td>2008-03-31</td>\n",
       "      <td>110.03</td>\n",
       "      <td>4.529657e+08</td>\n",
       "      <td>0</td>\n",
       "    </tr>\n",
       "    <tr>\n",
       "      <th>3</th>\n",
       "      <td>2008-04-30</td>\n",
       "      <td>104.93</td>\n",
       "      <td>4.319852e+08</td>\n",
       "      <td>0</td>\n",
       "    </tr>\n",
       "    <tr>\n",
       "      <th>4</th>\n",
       "      <td>2008-05-31</td>\n",
       "      <td>104.83</td>\n",
       "      <td>4.315656e+08</td>\n",
       "      <td>0</td>\n",
       "    </tr>\n",
       "  </tbody>\n",
       "</table>\n",
       "</div>"
      ],
      "text/plain": [
       "  Data do registro  Volume (%)   Volume (m³)  Volume de chuvas (mm)\n",
       "0       2008-01-31       67.39  2.774251e+08                      0\n",
       "1       2008-02-29       65.23  2.685472e+08                      0\n",
       "2       2008-03-31      110.03  4.529657e+08                      0\n",
       "3       2008-04-30      104.93  4.319852e+08                      0\n",
       "4       2008-05-31      104.83  4.315656e+08                      0"
      ]
     },
     "execution_count": 13,
     "metadata": {},
     "output_type": "execute_result"
    }
   ],
   "source": [
    "# converter atributo para data\n",
    "df['Data do registro'] =  pd.to_datetime( df['Data do registro'], format=\"%d/%m/%Y\") \n",
    "df.head()"
   ]
  },
  {
   "cell_type": "code",
   "execution_count": 14,
   "metadata": {},
   "outputs": [
    {
     "name": "stdout",
     "output_type": "stream",
     "text": [
      "<class 'pandas.core.frame.DataFrame'>\n",
      "RangeIndex: 111 entries, 0 to 110\n",
      "Data columns (total 4 columns):\n",
      " #   Column                 Non-Null Count  Dtype         \n",
      "---  ------                 --------------  -----         \n",
      " 0   Data do registro       111 non-null    datetime64[ns]\n",
      " 1   Volume (%)             111 non-null    float64       \n",
      " 2   Volume (m³)            111 non-null    float64       \n",
      " 3   Volume de chuvas (mm)  111 non-null    int64         \n",
      "dtypes: datetime64[ns](1), float64(2), int64(1)\n",
      "memory usage: 3.6 KB\n"
     ]
    }
   ],
   "source": [
    "df.info()"
   ]
  },
  {
   "cell_type": "code",
   "execution_count": 15,
   "metadata": {},
   "outputs": [
    {
     "data": {
      "text/html": [
       "<div>\n",
       "<style scoped>\n",
       "    .dataframe tbody tr th:only-of-type {\n",
       "        vertical-align: middle;\n",
       "    }\n",
       "\n",
       "    .dataframe tbody tr th {\n",
       "        vertical-align: top;\n",
       "    }\n",
       "\n",
       "    .dataframe thead th {\n",
       "        text-align: right;\n",
       "    }\n",
       "</style>\n",
       "<table border=\"1\" class=\"dataframe\">\n",
       "  <thead>\n",
       "    <tr style=\"text-align: right;\">\n",
       "      <th></th>\n",
       "      <th>Volume (%)</th>\n",
       "      <th>Volume (m³)</th>\n",
       "      <th>Volume de chuvas (mm)</th>\n",
       "    </tr>\n",
       "    <tr>\n",
       "      <th>Data do registro</th>\n",
       "      <th></th>\n",
       "      <th></th>\n",
       "      <th></th>\n",
       "    </tr>\n",
       "  </thead>\n",
       "  <tbody>\n",
       "    <tr>\n",
       "      <th>2008-01-31</th>\n",
       "      <td>67.39</td>\n",
       "      <td>2.774251e+08</td>\n",
       "      <td>0</td>\n",
       "    </tr>\n",
       "    <tr>\n",
       "      <th>2008-02-29</th>\n",
       "      <td>65.23</td>\n",
       "      <td>2.685472e+08</td>\n",
       "      <td>0</td>\n",
       "    </tr>\n",
       "    <tr>\n",
       "      <th>2008-03-31</th>\n",
       "      <td>110.03</td>\n",
       "      <td>4.529657e+08</td>\n",
       "      <td>0</td>\n",
       "    </tr>\n",
       "    <tr>\n",
       "      <th>2008-04-30</th>\n",
       "      <td>104.93</td>\n",
       "      <td>4.319852e+08</td>\n",
       "      <td>0</td>\n",
       "    </tr>\n",
       "    <tr>\n",
       "      <th>2008-05-31</th>\n",
       "      <td>104.83</td>\n",
       "      <td>4.315656e+08</td>\n",
       "      <td>0</td>\n",
       "    </tr>\n",
       "  </tbody>\n",
       "</table>\n",
       "</div>"
      ],
      "text/plain": [
       "                  Volume (%)   Volume (m³)  Volume de chuvas (mm)\n",
       "Data do registro                                                 \n",
       "2008-01-31             67.39  2.774251e+08                      0\n",
       "2008-02-29             65.23  2.685472e+08                      0\n",
       "2008-03-31            110.03  4.529657e+08                      0\n",
       "2008-04-30            104.93  4.319852e+08                      0\n",
       "2008-05-31            104.83  4.315656e+08                      0"
      ]
     },
     "execution_count": 15,
     "metadata": {},
     "output_type": "execute_result"
    }
   ],
   "source": [
    "# colocar a data como indice para fazer uma série temporal\n",
    "df2 = df.set_index(pd.DatetimeIndex(df['Data do registro']))\n",
    "del df2['Data do registro']\n",
    "df2.head()"
   ]
  },
  {
   "cell_type": "code",
   "execution_count": 16,
   "metadata": {},
   "outputs": [
    {
     "data": {
      "text/html": [
       "<div>\n",
       "<style scoped>\n",
       "    .dataframe tbody tr th:only-of-type {\n",
       "        vertical-align: middle;\n",
       "    }\n",
       "\n",
       "    .dataframe tbody tr th {\n",
       "        vertical-align: top;\n",
       "    }\n",
       "\n",
       "    .dataframe thead th {\n",
       "        text-align: right;\n",
       "    }\n",
       "</style>\n",
       "<table border=\"1\" class=\"dataframe\">\n",
       "  <thead>\n",
       "    <tr style=\"text-align: right;\">\n",
       "      <th></th>\n",
       "      <th>Volume (%)</th>\n",
       "      <th>Volume (m³)</th>\n",
       "      <th>Volume de chuvas (mm)</th>\n",
       "    </tr>\n",
       "  </thead>\n",
       "  <tbody>\n",
       "    <tr>\n",
       "      <th>count</th>\n",
       "      <td>111.000000</td>\n",
       "      <td>1.110000e+02</td>\n",
       "      <td>111.0</td>\n",
       "    </tr>\n",
       "    <tr>\n",
       "      <th>mean</th>\n",
       "      <td>59.710360</td>\n",
       "      <td>2.458193e+08</td>\n",
       "      <td>0.0</td>\n",
       "    </tr>\n",
       "    <tr>\n",
       "      <th>std</th>\n",
       "      <td>35.520442</td>\n",
       "      <td>1.462318e+08</td>\n",
       "      <td>0.0</td>\n",
       "    </tr>\n",
       "    <tr>\n",
       "      <th>min</th>\n",
       "      <td>3.180000</td>\n",
       "      <td>1.309457e+07</td>\n",
       "      <td>0.0</td>\n",
       "    </tr>\n",
       "    <tr>\n",
       "      <th>25%</th>\n",
       "      <td>23.640000</td>\n",
       "      <td>9.731290e+07</td>\n",
       "      <td>0.0</td>\n",
       "    </tr>\n",
       "    <tr>\n",
       "      <th>50%</th>\n",
       "      <td>67.390000</td>\n",
       "      <td>2.774251e+08</td>\n",
       "      <td>0.0</td>\n",
       "    </tr>\n",
       "    <tr>\n",
       "      <th>75%</th>\n",
       "      <td>90.150000</td>\n",
       "      <td>3.711295e+08</td>\n",
       "      <td>0.0</td>\n",
       "    </tr>\n",
       "    <tr>\n",
       "      <th>max</th>\n",
       "      <td>110.030000</td>\n",
       "      <td>4.529657e+08</td>\n",
       "      <td>0.0</td>\n",
       "    </tr>\n",
       "  </tbody>\n",
       "</table>\n",
       "</div>"
      ],
      "text/plain": [
       "       Volume (%)   Volume (m³)  Volume de chuvas (mm)\n",
       "count  111.000000  1.110000e+02                  111.0\n",
       "mean    59.710360  2.458193e+08                    0.0\n",
       "std     35.520442  1.462318e+08                    0.0\n",
       "min      3.180000  1.309457e+07                    0.0\n",
       "25%     23.640000  9.731290e+07                    0.0\n",
       "50%     67.390000  2.774251e+08                    0.0\n",
       "75%     90.150000  3.711295e+08                    0.0\n",
       "max    110.030000  4.529657e+08                    0.0"
      ]
     },
     "execution_count": 16,
     "metadata": {},
     "output_type": "execute_result"
    }
   ],
   "source": [
    "#del df2[\"Açude\"]\n",
    "df2.describe()"
   ]
  },
  {
   "cell_type": "code",
   "execution_count": 17,
   "metadata": {},
   "outputs": [
    {
     "name": "stdout",
     "output_type": "stream",
     "text": [
      "<class 'pandas.core.frame.DataFrame'>\n",
      "DatetimeIndex: 111 entries, 2008-01-31 to 2017-03-31\n",
      "Data columns (total 3 columns):\n",
      " #   Column                 Non-Null Count  Dtype  \n",
      "---  ------                 --------------  -----  \n",
      " 0   Volume (%)             111 non-null    float64\n",
      " 1   Volume (m³)            111 non-null    float64\n",
      " 2   Volume de chuvas (mm)  111 non-null    int64  \n",
      "dtypes: float64(2), int64(1)\n",
      "memory usage: 3.5 KB\n"
     ]
    }
   ],
   "source": [
    "df2.info()"
   ]
  },
  {
   "cell_type": "code",
   "execution_count": 18,
   "metadata": {},
   "outputs": [
    {
     "data": {
      "text/html": [
       "<div>\n",
       "<style scoped>\n",
       "    .dataframe tbody tr th:only-of-type {\n",
       "        vertical-align: middle;\n",
       "    }\n",
       "\n",
       "    .dataframe tbody tr th {\n",
       "        vertical-align: top;\n",
       "    }\n",
       "\n",
       "    .dataframe thead th {\n",
       "        text-align: right;\n",
       "    }\n",
       "</style>\n",
       "<table border=\"1\" class=\"dataframe\">\n",
       "  <thead>\n",
       "    <tr style=\"text-align: right;\">\n",
       "      <th></th>\n",
       "      <th>Volume (%)</th>\n",
       "      <th>Volume (m³)</th>\n",
       "      <th>Volume de chuvas (mm)</th>\n",
       "    </tr>\n",
       "    <tr>\n",
       "      <th>Data do registro</th>\n",
       "      <th></th>\n",
       "      <th></th>\n",
       "      <th></th>\n",
       "    </tr>\n",
       "  </thead>\n",
       "  <tbody>\n",
       "    <tr>\n",
       "      <th>2008-01-31</th>\n",
       "      <td>67.39</td>\n",
       "      <td>2.774251e+08</td>\n",
       "      <td>0</td>\n",
       "    </tr>\n",
       "    <tr>\n",
       "      <th>2008-02-29</th>\n",
       "      <td>65.23</td>\n",
       "      <td>2.685472e+08</td>\n",
       "      <td>0</td>\n",
       "    </tr>\n",
       "    <tr>\n",
       "      <th>2008-03-31</th>\n",
       "      <td>110.03</td>\n",
       "      <td>4.529657e+08</td>\n",
       "      <td>0</td>\n",
       "    </tr>\n",
       "    <tr>\n",
       "      <th>2008-04-30</th>\n",
       "      <td>104.93</td>\n",
       "      <td>4.319852e+08</td>\n",
       "      <td>0</td>\n",
       "    </tr>\n",
       "    <tr>\n",
       "      <th>2008-05-31</th>\n",
       "      <td>104.83</td>\n",
       "      <td>4.315656e+08</td>\n",
       "      <td>0</td>\n",
       "    </tr>\n",
       "  </tbody>\n",
       "</table>\n",
       "</div>"
      ],
      "text/plain": [
       "                  Volume (%)   Volume (m³)  Volume de chuvas (mm)\n",
       "Data do registro                                                 \n",
       "2008-01-31             67.39  2.774251e+08                      0\n",
       "2008-02-29             65.23  2.685472e+08                      0\n",
       "2008-03-31            110.03  4.529657e+08                      0\n",
       "2008-04-30            104.93  4.319852e+08                      0\n",
       "2008-05-31            104.83  4.315656e+08                      0"
      ]
     },
     "execution_count": 18,
     "metadata": {},
     "output_type": "execute_result"
    }
   ],
   "source": [
    "#del df2[\"Açude\"]\n",
    "#del df2[\"Data do registro\"]\n",
    "df2.head()"
   ]
  },
  {
   "cell_type": "markdown",
   "metadata": {},
   "source": [
    "## Plota dados da época da seca"
   ]
  },
  {
   "cell_type": "code",
   "execution_count": 19,
   "metadata": {},
   "outputs": [
    {
     "data": {
      "image/png": "[encoded data removed]",
      "text/plain": [
       "<Figure size 1080x720 with 1 Axes>"
      ]
     },
     "metadata": {},
     "output_type": "display_data"
    }
   ],
   "source": [
    "import matplotlib, matplotlib.pyplot as plt\n",
    "\n",
    "matplotlib.style.use(\"ggplot\")\n",
    "plt.figure(figsize=(15,10))\n",
    "plt.plot(df2[\"Volume (%)\"])\n",
    "# adcionando textos\n",
    "plt.title(\"Açude de Boqueirão - Época da Seca (01/10/2008 ate 31/03/2017)\")\n",
    "plt.xlabel(\"Ano\")\n",
    "plt.ylabel(\"Volume (%)\")\n",
    "#plt.savefig(\"Boqueirao-seca.pdf\")\n",
    "plt.show()"
   ]
  },
  {
   "cell_type": "code",
   "execution_count": 20,
   "metadata": {},
   "outputs": [
    {
     "name": "stdout",
     "output_type": "stream",
     "text": [
      "[1, 2, 3, 4, 5, 6, 7, 8, 9]\n"
     ]
    }
   ],
   "source": [
    "print(list(range(1,10)))"
   ]
  },
  {
   "cell_type": "code",
   "execution_count": 21,
   "metadata": {},
   "outputs": [
    {
     "data": {
      "text/plain": [
       "111"
      ]
     },
     "execution_count": 21,
     "metadata": {},
     "output_type": "execute_result"
    }
   ],
   "source": [
    "len(df2)"
   ]
  },
  {
   "cell_type": "code",
   "execution_count": 22,
   "metadata": {},
   "outputs": [
    {
     "data": {
      "text/html": [
       "<div>\n",
       "<style scoped>\n",
       "    .dataframe tbody tr th:only-of-type {\n",
       "        vertical-align: middle;\n",
       "    }\n",
       "\n",
       "    .dataframe tbody tr th {\n",
       "        vertical-align: top;\n",
       "    }\n",
       "\n",
       "    .dataframe thead th {\n",
       "        text-align: right;\n",
       "    }\n",
       "</style>\n",
       "<table border=\"1\" class=\"dataframe\">\n",
       "  <thead>\n",
       "    <tr style=\"text-align: right;\">\n",
       "      <th></th>\n",
       "      <th>Volume (%)</th>\n",
       "      <th>Volume (m³)</th>\n",
       "      <th>Volume de chuvas (mm)</th>\n",
       "    </tr>\n",
       "    <tr>\n",
       "      <th>Data do registro</th>\n",
       "      <th></th>\n",
       "      <th></th>\n",
       "      <th></th>\n",
       "    </tr>\n",
       "  </thead>\n",
       "  <tbody>\n",
       "    <tr>\n",
       "      <th>2008-01-31</th>\n",
       "      <td>67.39</td>\n",
       "      <td>2.774251e+08</td>\n",
       "      <td>0</td>\n",
       "    </tr>\n",
       "    <tr>\n",
       "      <th>2008-02-29</th>\n",
       "      <td>65.23</td>\n",
       "      <td>2.685472e+08</td>\n",
       "      <td>0</td>\n",
       "    </tr>\n",
       "    <tr>\n",
       "      <th>2008-03-31</th>\n",
       "      <td>110.03</td>\n",
       "      <td>4.529657e+08</td>\n",
       "      <td>0</td>\n",
       "    </tr>\n",
       "    <tr>\n",
       "      <th>2008-04-30</th>\n",
       "      <td>104.93</td>\n",
       "      <td>4.319852e+08</td>\n",
       "      <td>0</td>\n",
       "    </tr>\n",
       "    <tr>\n",
       "      <th>2008-05-31</th>\n",
       "      <td>104.83</td>\n",
       "      <td>4.315656e+08</td>\n",
       "      <td>0</td>\n",
       "    </tr>\n",
       "  </tbody>\n",
       "</table>\n",
       "</div>"
      ],
      "text/plain": [
       "                  Volume (%)   Volume (m³)  Volume de chuvas (mm)\n",
       "Data do registro                                                 \n",
       "2008-01-31             67.39  2.774251e+08                      0\n",
       "2008-02-29             65.23  2.685472e+08                      0\n",
       "2008-03-31            110.03  4.529657e+08                      0\n",
       "2008-04-30            104.93  4.319852e+08                      0\n",
       "2008-05-31            104.83  4.315656e+08                      0"
      ]
     },
     "execution_count": 22,
     "metadata": {},
     "output_type": "execute_result"
    }
   ],
   "source": [
    "df2.head()"
   ]
  },
  {
   "cell_type": "code",
   "execution_count": 23,
   "metadata": {},
   "outputs": [
    {
     "data": {
      "text/html": [
       "<div>\n",
       "<style scoped>\n",
       "    .dataframe tbody tr th:only-of-type {\n",
       "        vertical-align: middle;\n",
       "    }\n",
       "\n",
       "    .dataframe tbody tr th {\n",
       "        vertical-align: top;\n",
       "    }\n",
       "\n",
       "    .dataframe thead th {\n",
       "        text-align: right;\n",
       "    }\n",
       "</style>\n",
       "<table border=\"1\" class=\"dataframe\">\n",
       "  <thead>\n",
       "    <tr style=\"text-align: right;\">\n",
       "      <th></th>\n",
       "      <th>Volume (%)</th>\n",
       "      <th>Volume (m³)</th>\n",
       "      <th>Volume de chuvas (mm)</th>\n",
       "      <th>mes</th>\n",
       "    </tr>\n",
       "    <tr>\n",
       "      <th>Data do registro</th>\n",
       "      <th></th>\n",
       "      <th></th>\n",
       "      <th></th>\n",
       "      <th></th>\n",
       "    </tr>\n",
       "  </thead>\n",
       "  <tbody>\n",
       "    <tr>\n",
       "      <th>2008-01-31</th>\n",
       "      <td>67.39</td>\n",
       "      <td>2.774251e+08</td>\n",
       "      <td>0</td>\n",
       "      <td>1</td>\n",
       "    </tr>\n",
       "    <tr>\n",
       "      <th>2008-02-29</th>\n",
       "      <td>65.23</td>\n",
       "      <td>2.685472e+08</td>\n",
       "      <td>0</td>\n",
       "      <td>2</td>\n",
       "    </tr>\n",
       "    <tr>\n",
       "      <th>2008-03-31</th>\n",
       "      <td>110.03</td>\n",
       "      <td>4.529657e+08</td>\n",
       "      <td>0</td>\n",
       "      <td>3</td>\n",
       "    </tr>\n",
       "    <tr>\n",
       "      <th>2008-04-30</th>\n",
       "      <td>104.93</td>\n",
       "      <td>4.319852e+08</td>\n",
       "      <td>0</td>\n",
       "      <td>4</td>\n",
       "    </tr>\n",
       "    <tr>\n",
       "      <th>2008-05-31</th>\n",
       "      <td>104.83</td>\n",
       "      <td>4.315656e+08</td>\n",
       "      <td>0</td>\n",
       "      <td>5</td>\n",
       "    </tr>\n",
       "  </tbody>\n",
       "</table>\n",
       "</div>"
      ],
      "text/plain": [
       "                  Volume (%)   Volume (m³)  Volume de chuvas (mm)  mes\n",
       "Data do registro                                                      \n",
       "2008-01-31             67.39  2.774251e+08                      0    1\n",
       "2008-02-29             65.23  2.685472e+08                      0    2\n",
       "2008-03-31            110.03  4.529657e+08                      0    3\n",
       "2008-04-30            104.93  4.319852e+08                      0    4\n",
       "2008-05-31            104.83  4.315656e+08                      0    5"
      ]
     },
     "execution_count": 23,
     "metadata": {},
     "output_type": "execute_result"
    }
   ],
   "source": [
    "# criar uma coluna com os dias\n",
    "df3 = df2\n",
    "numero_de_medicoes = len(df3)\n",
    "df3[\"mes\"] = range(1,numero_de_medicoes+1)\n",
    "df3.head()"
   ]
  },
  {
   "cell_type": "code",
   "execution_count": 24,
   "metadata": {},
   "outputs": [
    {
     "data": {
      "text/plain": [
       "111"
      ]
     },
     "execution_count": 24,
     "metadata": {},
     "output_type": "execute_result"
    }
   ],
   "source": [
    "len(df3) # numero de tuplas ou linhas ou medições"
   ]
  },
  {
   "cell_type": "code",
   "execution_count": 25,
   "metadata": {},
   "outputs": [
    {
     "data": {
      "text/html": [
       "<div>\n",
       "<style scoped>\n",
       "    .dataframe tbody tr th:only-of-type {\n",
       "        vertical-align: middle;\n",
       "    }\n",
       "\n",
       "    .dataframe tbody tr th {\n",
       "        vertical-align: top;\n",
       "    }\n",
       "\n",
       "    .dataframe thead th {\n",
       "        text-align: right;\n",
       "    }\n",
       "</style>\n",
       "<table border=\"1\" class=\"dataframe\">\n",
       "  <thead>\n",
       "    <tr style=\"text-align: right;\">\n",
       "      <th></th>\n",
       "      <th>Volume (%)</th>\n",
       "      <th>Volume (m³)</th>\n",
       "      <th>Volume de chuvas (mm)</th>\n",
       "      <th>mes</th>\n",
       "    </tr>\n",
       "    <tr>\n",
       "      <th>Data do registro</th>\n",
       "      <th></th>\n",
       "      <th></th>\n",
       "      <th></th>\n",
       "      <th></th>\n",
       "    </tr>\n",
       "  </thead>\n",
       "  <tbody>\n",
       "    <tr>\n",
       "      <th>2016-11-30</th>\n",
       "      <td>5.39</td>\n",
       "      <td>22196764.40</td>\n",
       "      <td>0</td>\n",
       "      <td>107</td>\n",
       "    </tr>\n",
       "    <tr>\n",
       "      <th>2016-12-31</th>\n",
       "      <td>4.82</td>\n",
       "      <td>19828074.48</td>\n",
       "      <td>0</td>\n",
       "      <td>108</td>\n",
       "    </tr>\n",
       "    <tr>\n",
       "      <th>2017-01-31</th>\n",
       "      <td>4.21</td>\n",
       "      <td>17343204.52</td>\n",
       "      <td>0</td>\n",
       "      <td>109</td>\n",
       "    </tr>\n",
       "    <tr>\n",
       "      <th>2017-02-28</th>\n",
       "      <td>3.72</td>\n",
       "      <td>15312655.88</td>\n",
       "      <td>0</td>\n",
       "      <td>110</td>\n",
       "    </tr>\n",
       "    <tr>\n",
       "      <th>2017-03-31</th>\n",
       "      <td>3.18</td>\n",
       "      <td>13094571.31</td>\n",
       "      <td>0</td>\n",
       "      <td>111</td>\n",
       "    </tr>\n",
       "  </tbody>\n",
       "</table>\n",
       "</div>"
      ],
      "text/plain": [
       "                  Volume (%)  Volume (m³)  Volume de chuvas (mm)  mes\n",
       "Data do registro                                                     \n",
       "2016-11-30              5.39  22196764.40                      0  107\n",
       "2016-12-31              4.82  19828074.48                      0  108\n",
       "2017-01-31              4.21  17343204.52                      0  109\n",
       "2017-02-28              3.72  15312655.88                      0  110\n",
       "2017-03-31              3.18  13094571.31                      0  111"
      ]
     },
     "execution_count": 25,
     "metadata": {},
     "output_type": "execute_result"
    }
   ],
   "source": [
    "df3.tail()"
   ]
  },
  {
   "cell_type": "markdown",
   "metadata": {},
   "source": [
    "## Preparar os dados para aplicar o modelo de regressao"
   ]
  },
  {
   "cell_type": "code",
   "execution_count": 26,
   "metadata": {},
   "outputs": [],
   "source": [
    "import warnings\n",
    "warnings.filterwarnings('ignore')\n",
    "\n",
    "import numpy, pandas as pd\n",
    "import sklearn.linear_model as lm\n",
    "\n",
    "\n",
    "olm = lm.LinearRegression()\n",
    "\n",
    "X = df3['mes'].values.reshape(-1, 1)\n",
    "y = df3[\"Volume (%)\"].values"
   ]
  },
  {
   "cell_type": "code",
   "execution_count": 27,
   "metadata": {},
   "outputs": [
    {
     "data": {
      "text/plain": [
       "array([[1],\n",
       "       [2],\n",
       "       [3],\n",
       "       [4],\n",
       "       [5]])"
      ]
     },
     "execution_count": 27,
     "metadata": {},
     "output_type": "execute_result"
    }
   ],
   "source": [
    "X[:5]"
   ]
  },
  {
   "cell_type": "code",
   "execution_count": 28,
   "metadata": {},
   "outputs": [
    {
     "data": {
      "text/plain": [
       "array([ 67.39,  65.23, 110.03, 104.93, 104.83])"
      ]
     },
     "execution_count": 28,
     "metadata": {},
     "output_type": "execute_result"
    }
   ],
   "source": [
    "y[:5]"
   ]
  },
  {
   "cell_type": "markdown",
   "metadata": {},
   "source": [
    "## Aplicar o modelo de Regressao"
   ]
  },
  {
   "cell_type": "code",
   "execution_count": 29,
   "metadata": {},
   "outputs": [
    {
     "data": {
      "text/plain": [
       "LinearRegression()"
      ]
     },
     "execution_count": 29,
     "metadata": {},
     "output_type": "execute_result"
    }
   ],
   "source": [
    "olm.fit(X, y) #, epochs=100, learning_rate=0.001, momentum=0.8, optimizer='SGD') HIPERPARAMETROS\n",
    "olm"
   ]
  },
  {
   "cell_type": "markdown",
   "metadata": {},
   "source": [
    "### A reta de regressao"
   ]
  },
  {
   "cell_type": "code",
   "execution_count": 30,
   "metadata": {},
   "outputs": [
    {
     "name": "stdout",
     "output_type": "stream",
     "text": [
      " y = -1.0228873288873293 * x + 116.99205077805081\n"
     ]
    }
   ],
   "source": [
    "a = olm.coef_[0]\n",
    "b = olm.intercept_\n",
    "print(' y = {0} * x + {1}'.format(a, b))"
   ]
  },
  {
   "cell_type": "markdown",
   "metadata": {},
   "source": [
    "# Solução Algébrica"
   ]
  },
  {
   "cell_type": "markdown",
   "metadata": {},
   "source": [
    "![title](SolucaoAlgebrica.png)"
   ]
  },
  {
   "cell_type": "code",
   "execution_count": 33,
   "metadata": {},
   "outputs": [
    {
     "data": {
      "text/plain": [
       "(56.0, 59.71036036036036)"
      ]
     },
     "execution_count": 33,
     "metadata": {},
     "output_type": "execute_result"
    }
   ],
   "source": [
    "import numpy as np\n",
    "\n",
    "X_media = np.mean(X)\n",
    "y_media = np.mean(y)\n",
    "X_media, y_media"
   ]
  },
  {
   "cell_type": "code",
   "execution_count": 34,
   "metadata": {},
   "outputs": [
    {
     "data": {
      "text/plain": [
       "111"
      ]
     },
     "execution_count": 34,
     "metadata": {},
     "output_type": "execute_result"
    }
   ],
   "source": [
    "n = len(X)\n",
    "n"
   ]
  },
  {
   "cell_type": "code",
   "execution_count": 36,
   "metadata": {},
   "outputs": [
    {
     "name": "stdout",
     "output_type": "stream",
     "text": [
      "[0, 1, 2, 3, 4, 5, 6, 7, 8, 9, 10, 11, 12, 13, 14, 15, 16, 17, 18, 19, 20, 21, 22, 23, 24, 25, 26, 27, 28, 29, 30, 31, 32, 33, 34, 35, 36, 37, 38, 39, 40, 41, 42, 43, 44, 45, 46, 47, 48, 49, 50, 51, 52, 53, 54, 55, 56, 57, 58, 59, 60, 61, 62, 63, 64, 65, 66, 67, 68, 69, 70, 71, 72, 73, 74, 75, 76, 77, 78, 79, 80, 81, 82, 83, 84, 85, 86, 87, 88, 89, 90, 91, 92, 93, 94, 95, 96, 97, 98, 99, 100, 101, 102, 103, 104, 105, 106, 107, 108, 109, 110]\n"
     ]
    }
   ],
   "source": [
    "print(list(range(n)))"
   ]
  },
  {
   "cell_type": "code",
   "execution_count": 42,
   "metadata": {},
   "outputs": [
    {
     "data": {
      "text/plain": [
       "-1.0228873288873284"
      ]
     },
     "execution_count": 42,
     "metadata": {},
     "output_type": "execute_result"
    }
   ],
   "source": [
    "numerador = 0\n",
    "denominador = 0\n",
    "for i in range(n):\n",
    "    numerador = numerador + (X[i] - X_media) * (y[i] - y_media)\n",
    "    denominador = denominador + (X[i] - X_media) ** 2\n",
    "\n",
    "b1 = numerador / denominador\n",
    "b1[0]"
   ]
  },
  {
   "cell_type": "code",
   "execution_count": 53,
   "metadata": {},
   "outputs": [
    {
     "data": {
      "text/plain": [
       "116.99205077805075"
      ]
     },
     "execution_count": 53,
     "metadata": {},
     "output_type": "execute_result"
    }
   ],
   "source": [
    "b0 = y_media - b1[0]  * X_media\n",
    "b0"
   ]
  },
  {
   "cell_type": "code",
   "execution_count": 57,
   "metadata": {},
   "outputs": [
    {
     "name": "stdout",
     "output_type": "stream",
     "text": [
      " y_prev_algebrico = 116.99205077805075  -1.0228873288873284 * x\n",
      " y_prev = 116.99205077805081  -1.0228873288873293 * x\n"
     ]
    }
   ],
   "source": [
    "print(' y_prev_algebrico = {0}  {1} * x'.format(b0, b1[0]))\n",
    "\n",
    "print(' y_prev = {0}  {1} * x'.format(b, a))"
   ]
  },
  {
   "cell_type": "markdown",
   "metadata": {},
   "source": [
    "# dados Previstos e Observados"
   ]
  },
  {
   "cell_type": "code",
   "execution_count": 58,
   "metadata": {},
   "outputs": [
    {
     "data": {
      "text/html": [
       "<div>\n",
       "<style scoped>\n",
       "    .dataframe tbody tr th:only-of-type {\n",
       "        vertical-align: middle;\n",
       "    }\n",
       "\n",
       "    .dataframe tbody tr th {\n",
       "        vertical-align: top;\n",
       "    }\n",
       "\n",
       "    .dataframe thead th {\n",
       "        text-align: right;\n",
       "    }\n",
       "</style>\n",
       "<table border=\"1\" class=\"dataframe\">\n",
       "  <thead>\n",
       "    <tr style=\"text-align: right;\">\n",
       "      <th></th>\n",
       "      <th>Volume (%)</th>\n",
       "      <th>Volume (m³)</th>\n",
       "      <th>Volume de chuvas (mm)</th>\n",
       "      <th>mes</th>\n",
       "    </tr>\n",
       "    <tr>\n",
       "      <th>Data do registro</th>\n",
       "      <th></th>\n",
       "      <th></th>\n",
       "      <th></th>\n",
       "      <th></th>\n",
       "    </tr>\n",
       "  </thead>\n",
       "  <tbody>\n",
       "    <tr>\n",
       "      <th>2016-11-30</th>\n",
       "      <td>5.39</td>\n",
       "      <td>22196764.40</td>\n",
       "      <td>0</td>\n",
       "      <td>107</td>\n",
       "    </tr>\n",
       "    <tr>\n",
       "      <th>2016-12-31</th>\n",
       "      <td>4.82</td>\n",
       "      <td>19828074.48</td>\n",
       "      <td>0</td>\n",
       "      <td>108</td>\n",
       "    </tr>\n",
       "    <tr>\n",
       "      <th>2017-01-31</th>\n",
       "      <td>4.21</td>\n",
       "      <td>17343204.52</td>\n",
       "      <td>0</td>\n",
       "      <td>109</td>\n",
       "    </tr>\n",
       "    <tr>\n",
       "      <th>2017-02-28</th>\n",
       "      <td>3.72</td>\n",
       "      <td>15312655.88</td>\n",
       "      <td>0</td>\n",
       "      <td>110</td>\n",
       "    </tr>\n",
       "    <tr>\n",
       "      <th>2017-03-31</th>\n",
       "      <td>3.18</td>\n",
       "      <td>13094571.31</td>\n",
       "      <td>0</td>\n",
       "      <td>111</td>\n",
       "    </tr>\n",
       "  </tbody>\n",
       "</table>\n",
       "</div>"
      ],
      "text/plain": [
       "                  Volume (%)  Volume (m³)  Volume de chuvas (mm)  mes\n",
       "Data do registro                                                     \n",
       "2016-11-30              5.39  22196764.40                      0  107\n",
       "2016-12-31              4.82  19828074.48                      0  108\n",
       "2017-01-31              4.21  17343204.52                      0  109\n",
       "2017-02-28              3.72  15312655.88                      0  110\n",
       "2017-03-31              3.18  13094571.31                      0  111"
      ]
     },
     "execution_count": 58,
     "metadata": {},
     "output_type": "execute_result"
    }
   ],
   "source": [
    "df3.tail()"
   ]
  },
  {
   "cell_type": "code",
   "execution_count": 59,
   "metadata": {},
   "outputs": [
    {
     "data": {
      "text/plain": [
       "2.428669942669984"
      ]
     },
     "execution_count": 59,
     "metadata": {},
     "output_type": "execute_result"
    }
   ],
   "source": [
    "x1 = 112\n",
    "y_prev = b1[0] * x1 + b0\n",
    "y_prev"
   ]
  },
  {
   "cell_type": "code",
   "execution_count": 60,
   "metadata": {},
   "outputs": [
    {
     "data": {
      "text/plain": [
       "array([[112]])"
      ]
     },
     "execution_count": 60,
     "metadata": {},
     "output_type": "execute_result"
    }
   ],
   "source": [
    "# Previsao com o modelo - Método Predict\n",
    "import numpy as np\n",
    "\n",
    "x1 = np.array(x1).reshape(-1, 1)\n",
    "x1"
   ]
  },
  {
   "cell_type": "code",
   "execution_count": 61,
   "metadata": {},
   "outputs": [
    {
     "data": {
      "text/plain": [
       "2.428669942669927"
      ]
     },
     "execution_count": 61,
     "metadata": {},
     "output_type": "execute_result"
    }
   ],
   "source": [
    "olm.predict(x1)[0]"
   ]
  },
  {
   "cell_type": "code",
   "execution_count": 64,
   "metadata": {},
   "outputs": [
    {
     "data": {
      "text/plain": [
       "1.4057826137826481"
      ]
     },
     "execution_count": 64,
     "metadata": {},
     "output_type": "execute_result"
    }
   ],
   "source": [
    "x2 = 113\n",
    "y_prev = b1[0] * x2 + b0\n",
    "y_prev"
   ]
  },
  {
   "cell_type": "code",
   "execution_count": 65,
   "metadata": {},
   "outputs": [
    {
     "data": {
      "text/plain": [
       "1.4057826137826055"
      ]
     },
     "execution_count": 65,
     "metadata": {},
     "output_type": "execute_result"
    }
   ],
   "source": [
    "# Previsao com o modelo - Método Predict\n",
    "x2 = np.array(x2).reshape(-1, 1)\n",
    "olm.predict(x2)[0]"
   ]
  },
  {
   "cell_type": "markdown",
   "metadata": {},
   "source": [
    "## Plota os dados Previstos e Observados"
   ]
  },
  {
   "cell_type": "code",
   "execution_count": 66,
   "metadata": {},
   "outputs": [
    {
     "name": "stdout",
     "output_type": "stream",
     "text": [
      "Equação: y = -1.0228873288873293 * x + 116.99205077805081\n"
     ]
    },
    {
     "data": {
      "image/png": "[encoded data removed]",
      "text/plain": [
       "<Figure size 1080x720 with 1 Axes>"
      ]
     },
     "metadata": {},
     "output_type": "display_data"
    }
   ],
   "source": [
    "# Plot outputs\n",
    "matplotlib.style.use(\"ggplot\")\n",
    "plt.figure(figsize=(15,10))\n",
    "\n",
    "# Plot both data sets\n",
    "#plt.scatter(X_test, Y_test,  color='black')\n",
    "plt.plot(X, y, color='blue',\n",
    "         linewidth=1)\n",
    "\n",
    "plt.plot(X, olm.predict(X), color='green',\n",
    "         linewidth=1)\n",
    "\n",
    "# Add decorations\n",
    "plt.title(\"Açude de Boqueirão - Época da Seca (2013 a 2016)\")\n",
    "plt.xlabel(\"Ano\")\n",
    "plt.ylabel(\"Volume (%)\")\n",
    "plt.legend([\"Observado\", \"Previsto\",], loc=\"upper right\")\n",
    "\n",
    "print('Equação: y = {0} * x + {1}'.format(a, b))\n",
    "plt.show()"
   ]
  },
  {
   "cell_type": "markdown",
   "metadata": {},
   "source": [
    "## Métrica para avaliar o modelo\n",
    "### R² - coeficiente de determinação.\n",
    "É uma métrica que mede os o quanto dos futuros examplos são previstos corretamente. <br />\n",
    "Varia entre 0 e 1. Quanto mais o R² se aproximar de 1, melhor a previsão. <br />\n",
    "Um R² próximo de 0, não reflete o modelo."
   ]
  },
  {
   "cell_type": "code",
   "execution_count": 67,
   "metadata": {},
   "outputs": [
    {
     "data": {
      "text/html": [
       "<div>\n",
       "<style scoped>\n",
       "    .dataframe tbody tr th:only-of-type {\n",
       "        vertical-align: middle;\n",
       "    }\n",
       "\n",
       "    .dataframe tbody tr th {\n",
       "        vertical-align: top;\n",
       "    }\n",
       "\n",
       "    .dataframe thead th {\n",
       "        text-align: right;\n",
       "    }\n",
       "</style>\n",
       "<table border=\"1\" class=\"dataframe\">\n",
       "  <thead>\n",
       "    <tr style=\"text-align: right;\">\n",
       "      <th></th>\n",
       "      <th>Volume (%)</th>\n",
       "      <th>Volume (m³)</th>\n",
       "      <th>Volume de chuvas (mm)</th>\n",
       "      <th>mes</th>\n",
       "      <th>Volume_previsto</th>\n",
       "    </tr>\n",
       "    <tr>\n",
       "      <th>Data do registro</th>\n",
       "      <th></th>\n",
       "      <th></th>\n",
       "      <th></th>\n",
       "      <th></th>\n",
       "      <th></th>\n",
       "    </tr>\n",
       "  </thead>\n",
       "  <tbody>\n",
       "    <tr>\n",
       "      <th>2008-01-31</th>\n",
       "      <td>67.39</td>\n",
       "      <td>2.774251e+08</td>\n",
       "      <td>0</td>\n",
       "      <td>1</td>\n",
       "      <td>115.969163</td>\n",
       "    </tr>\n",
       "    <tr>\n",
       "      <th>2008-02-29</th>\n",
       "      <td>65.23</td>\n",
       "      <td>2.685472e+08</td>\n",
       "      <td>0</td>\n",
       "      <td>2</td>\n",
       "      <td>114.946276</td>\n",
       "    </tr>\n",
       "    <tr>\n",
       "      <th>2008-03-31</th>\n",
       "      <td>110.03</td>\n",
       "      <td>4.529657e+08</td>\n",
       "      <td>0</td>\n",
       "      <td>3</td>\n",
       "      <td>113.923389</td>\n",
       "    </tr>\n",
       "    <tr>\n",
       "      <th>2008-04-30</th>\n",
       "      <td>104.93</td>\n",
       "      <td>4.319852e+08</td>\n",
       "      <td>0</td>\n",
       "      <td>4</td>\n",
       "      <td>112.900501</td>\n",
       "    </tr>\n",
       "    <tr>\n",
       "      <th>2008-05-31</th>\n",
       "      <td>104.83</td>\n",
       "      <td>4.315656e+08</td>\n",
       "      <td>0</td>\n",
       "      <td>5</td>\n",
       "      <td>111.877614</td>\n",
       "    </tr>\n",
       "  </tbody>\n",
       "</table>\n",
       "</div>"
      ],
      "text/plain": [
       "                  Volume (%)   Volume (m³)  Volume de chuvas (mm)  mes  \\\n",
       "Data do registro                                                         \n",
       "2008-01-31             67.39  2.774251e+08                      0    1   \n",
       "2008-02-29             65.23  2.685472e+08                      0    2   \n",
       "2008-03-31            110.03  4.529657e+08                      0    3   \n",
       "2008-04-30            104.93  4.319852e+08                      0    4   \n",
       "2008-05-31            104.83  4.315656e+08                      0    5   \n",
       "\n",
       "                  Volume_previsto  \n",
       "Data do registro                   \n",
       "2008-01-31             115.969163  \n",
       "2008-02-29             114.946276  \n",
       "2008-03-31             113.923389  \n",
       "2008-04-30             112.900501  \n",
       "2008-05-31             111.877614  "
      ]
     },
     "execution_count": 67,
     "metadata": {},
     "output_type": "execute_result"
    }
   ],
   "source": [
    "# Predict values\n",
    "from sklearn.metrics import r2_score\n",
    "\n",
    "y_pred = olm.predict(df3['mes'].values.reshape(-1,1))\n",
    "\n",
    "df3['Volume_previsto'] = y_pred\n",
    "\n",
    "df3.head()"
   ]
  },
  {
   "cell_type": "code",
   "execution_count": 68,
   "metadata": {},
   "outputs": [
    {
     "name": "stdout",
     "output_type": "stream",
     "text": [
      "r2 =  0.8591295085121183\n"
     ]
    }
   ],
   "source": [
    "# Evaluate the model\n",
    "r2 = r2_score(y, y_pred)\n",
    "print('r2 = ', r2 )"
   ]
  },
  {
   "cell_type": "markdown",
   "metadata": {},
   "source": [
    "## predição futura"
   ]
  },
  {
   "cell_type": "code",
   "execution_count": 69,
   "metadata": {},
   "outputs": [
    {
     "data": {
      "text/plain": [
       "111"
      ]
     },
     "execution_count": 69,
     "metadata": {},
     "output_type": "execute_result"
    }
   ],
   "source": [
    "numero_de_meses_medicao = len(X)\n",
    "numero_de_meses_medicao"
   ]
  },
  {
   "cell_type": "code",
   "execution_count": 70,
   "metadata": {},
   "outputs": [
    {
     "data": {
      "text/plain": [
       "array([[111]])"
      ]
     },
     "execution_count": 70,
     "metadata": {},
     "output_type": "execute_result"
    }
   ],
   "source": [
    "import numpy as np\n",
    "numero_de_meses_medicao = np.array(numero_de_meses_medicao).reshape(1, -1)\n",
    "numero_de_meses_medicao"
   ]
  },
  {
   "cell_type": "code",
   "execution_count": 71,
   "metadata": {},
   "outputs": [
    {
     "data": {
      "text/plain": [
       "(1, 1)"
      ]
     },
     "execution_count": 71,
     "metadata": {},
     "output_type": "execute_result"
    }
   ],
   "source": [
    "numero_de_meses_medicao.shape"
   ]
  },
  {
   "cell_type": "code",
   "execution_count": 72,
   "metadata": {},
   "outputs": [
    {
     "name": "stdout",
     "output_type": "stream",
     "text": [
      "Volume Boqueirão depois de um mes =   2.43 %\n"
     ]
    }
   ],
   "source": [
    "# predicao para 30 dias - 1 mes de medicao\n",
    "#numero_de_meses_medicao = np.array(numero_de_meses_medicao).reshape(1, -1)\n",
    "pred = olm.predict(numero_de_meses_medicao+1)[0]\n",
    "print (\"Volume Boqueirão depois de um mes = %6.2f %%\" % (pred))"
   ]
  },
  {
   "cell_type": "code",
   "execution_count": 73,
   "metadata": {},
   "outputs": [
    {
     "name": "stdout",
     "output_type": "stream",
     "text": [
      "Volume Boqueirão depois de 2 meses =   1.41 %\n"
     ]
    }
   ],
   "source": [
    "# predicao para 60 dias - 2 meses\n",
    "numero_de_meses_medicao = np.array(numero_de_meses_medicao).reshape(1, -1)\n",
    "pred = olm.predict(numero_de_meses_medicao+2)[0]\n",
    "print (\"Volume Boqueirão depois de 2 meses = %6.2f %%\" % (pred))"
   ]
  },
  {
   "cell_type": "markdown",
   "metadata": {},
   "source": [
    "## predição até acabar a água"
   ]
  },
  {
   "cell_type": "code",
   "execution_count": 74,
   "metadata": {},
   "outputs": [
    {
     "data": {
      "text/html": [
       "<div>\n",
       "<style scoped>\n",
       "    .dataframe tbody tr th:only-of-type {\n",
       "        vertical-align: middle;\n",
       "    }\n",
       "\n",
       "    .dataframe tbody tr th {\n",
       "        vertical-align: top;\n",
       "    }\n",
       "\n",
       "    .dataframe thead th {\n",
       "        text-align: right;\n",
       "    }\n",
       "</style>\n",
       "<table border=\"1\" class=\"dataframe\">\n",
       "  <thead>\n",
       "    <tr style=\"text-align: right;\">\n",
       "      <th></th>\n",
       "      <th>Volume (%)</th>\n",
       "      <th>Volume (m³)</th>\n",
       "      <th>Volume de chuvas (mm)</th>\n",
       "      <th>mes</th>\n",
       "      <th>Volume_previsto</th>\n",
       "    </tr>\n",
       "    <tr>\n",
       "      <th>Data do registro</th>\n",
       "      <th></th>\n",
       "      <th></th>\n",
       "      <th></th>\n",
       "      <th></th>\n",
       "      <th></th>\n",
       "    </tr>\n",
       "  </thead>\n",
       "  <tbody>\n",
       "    <tr>\n",
       "      <th>2008-01-31</th>\n",
       "      <td>67.39</td>\n",
       "      <td>2.774251e+08</td>\n",
       "      <td>0</td>\n",
       "      <td>1</td>\n",
       "      <td>115.969163</td>\n",
       "    </tr>\n",
       "    <tr>\n",
       "      <th>2008-02-29</th>\n",
       "      <td>65.23</td>\n",
       "      <td>2.685472e+08</td>\n",
       "      <td>0</td>\n",
       "      <td>2</td>\n",
       "      <td>114.946276</td>\n",
       "    </tr>\n",
       "    <tr>\n",
       "      <th>2008-03-31</th>\n",
       "      <td>110.03</td>\n",
       "      <td>4.529657e+08</td>\n",
       "      <td>0</td>\n",
       "      <td>3</td>\n",
       "      <td>113.923389</td>\n",
       "    </tr>\n",
       "    <tr>\n",
       "      <th>2008-04-30</th>\n",
       "      <td>104.93</td>\n",
       "      <td>4.319852e+08</td>\n",
       "      <td>0</td>\n",
       "      <td>4</td>\n",
       "      <td>112.900501</td>\n",
       "    </tr>\n",
       "    <tr>\n",
       "      <th>2008-05-31</th>\n",
       "      <td>104.83</td>\n",
       "      <td>4.315656e+08</td>\n",
       "      <td>0</td>\n",
       "      <td>5</td>\n",
       "      <td>111.877614</td>\n",
       "    </tr>\n",
       "  </tbody>\n",
       "</table>\n",
       "</div>"
      ],
      "text/plain": [
       "                  Volume (%)   Volume (m³)  Volume de chuvas (mm)  mes  \\\n",
       "Data do registro                                                         \n",
       "2008-01-31             67.39  2.774251e+08                      0    1   \n",
       "2008-02-29             65.23  2.685472e+08                      0    2   \n",
       "2008-03-31            110.03  4.529657e+08                      0    3   \n",
       "2008-04-30            104.93  4.319852e+08                      0    4   \n",
       "2008-05-31            104.83  4.315656e+08                      0    5   \n",
       "\n",
       "                  Volume_previsto  \n",
       "Data do registro                   \n",
       "2008-01-31             115.969163  \n",
       "2008-02-29             114.946276  \n",
       "2008-03-31             113.923389  \n",
       "2008-04-30             112.900501  \n",
       "2008-05-31             111.877614  "
      ]
     },
     "execution_count": 74,
     "metadata": {},
     "output_type": "execute_result"
    }
   ],
   "source": [
    "df3.head()"
   ]
  },
  {
   "cell_type": "code",
   "execution_count": 75,
   "metadata": {},
   "outputs": [
    {
     "data": {
      "text/html": [
       "<div>\n",
       "<style scoped>\n",
       "    .dataframe tbody tr th:only-of-type {\n",
       "        vertical-align: middle;\n",
       "    }\n",
       "\n",
       "    .dataframe tbody tr th {\n",
       "        vertical-align: top;\n",
       "    }\n",
       "\n",
       "    .dataframe thead th {\n",
       "        text-align: right;\n",
       "    }\n",
       "</style>\n",
       "<table border=\"1\" class=\"dataframe\">\n",
       "  <thead>\n",
       "    <tr style=\"text-align: right;\">\n",
       "      <th></th>\n",
       "      <th>Volume (%)</th>\n",
       "      <th>Volume (m³)</th>\n",
       "      <th>Volume de chuvas (mm)</th>\n",
       "      <th>mes</th>\n",
       "      <th>Volume_previsto</th>\n",
       "    </tr>\n",
       "    <tr>\n",
       "      <th>Data do registro</th>\n",
       "      <th></th>\n",
       "      <th></th>\n",
       "      <th></th>\n",
       "      <th></th>\n",
       "      <th></th>\n",
       "    </tr>\n",
       "  </thead>\n",
       "  <tbody>\n",
       "    <tr>\n",
       "      <th>2016-11-30</th>\n",
       "      <td>5.39</td>\n",
       "      <td>22196764.40</td>\n",
       "      <td>0</td>\n",
       "      <td>107</td>\n",
       "      <td>7.543107</td>\n",
       "    </tr>\n",
       "    <tr>\n",
       "      <th>2016-12-31</th>\n",
       "      <td>4.82</td>\n",
       "      <td>19828074.48</td>\n",
       "      <td>0</td>\n",
       "      <td>108</td>\n",
       "      <td>6.520219</td>\n",
       "    </tr>\n",
       "    <tr>\n",
       "      <th>2017-01-31</th>\n",
       "      <td>4.21</td>\n",
       "      <td>17343204.52</td>\n",
       "      <td>0</td>\n",
       "      <td>109</td>\n",
       "      <td>5.497332</td>\n",
       "    </tr>\n",
       "    <tr>\n",
       "      <th>2017-02-28</th>\n",
       "      <td>3.72</td>\n",
       "      <td>15312655.88</td>\n",
       "      <td>0</td>\n",
       "      <td>110</td>\n",
       "      <td>4.474445</td>\n",
       "    </tr>\n",
       "    <tr>\n",
       "      <th>2017-03-31</th>\n",
       "      <td>3.18</td>\n",
       "      <td>13094571.31</td>\n",
       "      <td>0</td>\n",
       "      <td>111</td>\n",
       "      <td>3.451557</td>\n",
       "    </tr>\n",
       "  </tbody>\n",
       "</table>\n",
       "</div>"
      ],
      "text/plain": [
       "                  Volume (%)  Volume (m³)  Volume de chuvas (mm)  mes  \\\n",
       "Data do registro                                                        \n",
       "2016-11-30              5.39  22196764.40                      0  107   \n",
       "2016-12-31              4.82  19828074.48                      0  108   \n",
       "2017-01-31              4.21  17343204.52                      0  109   \n",
       "2017-02-28              3.72  15312655.88                      0  110   \n",
       "2017-03-31              3.18  13094571.31                      0  111   \n",
       "\n",
       "                  Volume_previsto  \n",
       "Data do registro                   \n",
       "2016-11-30               7.543107  \n",
       "2016-12-31               6.520219  \n",
       "2017-01-31               5.497332  \n",
       "2017-02-28               4.474445  \n",
       "2017-03-31               3.451557  "
      ]
     },
     "execution_count": 75,
     "metadata": {},
     "output_type": "execute_result"
    }
   ],
   "source": [
    "df3.tail()"
   ]
  },
  {
   "cell_type": "code",
   "execution_count": 76,
   "metadata": {},
   "outputs": [
    {
     "data": {
      "text/plain": [
       "array([[111]])"
      ]
     },
     "execution_count": 76,
     "metadata": {},
     "output_type": "execute_result"
    }
   ],
   "source": [
    "numero_de_meses_medicao"
   ]
  },
  {
   "cell_type": "code",
   "execution_count": 77,
   "metadata": {},
   "outputs": [
    {
     "name": "stdout",
     "output_type": "stream",
     "text": [
      "Última observação: 31 de Março de 2017: 3.18% - Volume\n",
      "Erro de Previsão (mês de Março) : Previsto - Observado =  0.27\n",
      "\n",
      "Previsão do Volume Boqueirão até Secar - Ano 2017\n",
      "Volume Boqueirão - Mês de Março -> 3.45 %\n",
      "Volume Boqueirão - Mês de Abril -> 2.43 %\n",
      "Volume Boqueirão - Mês de Maio -> 1.41 %\n",
      "Volume Boqueirão - Mês de Junho -> 0.38 %\n",
      "Volume Boqueirão - Mês de Julho  -> -0.64%\n"
     ]
    }
   ],
   "source": [
    "numero_de_meses_medicao = np.array(numero_de_meses_medicao).reshape(1, -1)\n",
    "print(\"Última observação: 31 de Março de 2017: 3.18% - Volume\")\n",
    "print(\"Erro de Previsão (mês de Março) : Previsto - Observado = \", \\\n",
    "      \"{:.2f}\".format(olm.predict(numero_de_meses_medicao)[0] - 3.18) )\n",
    "\n",
    "print (\"\\nPrevisão do Volume Boqueirão até Secar - Ano 2017\")\n",
    "meses = 0\n",
    "nome_meses = [ \"Março\", \"Abril\", \"Maio\", \"Junho\", \"Julho\", \"Agosto\", \"Setembro\", \"Outubro\", \"Novembro\", \"Dezembro\", \"Janeiro\", \"Fevereiro\"]\n",
    "while (True):\n",
    "    pred = olm.predict(numero_de_meses_medicao+meses)[0]\n",
    "    if pred < 0:\n",
    "        break\n",
    "    if pred > 100:\n",
    "        break\n",
    "    print (\"Volume Boqueirão - Mês de %s -> %-5.2f%%\" % (nome_meses[meses],pred))\n",
    "    meses = meses + 1\n",
    "   # print(meses)\n",
    "pred = olm.predict(numero_de_meses_medicao+meses)[0]\n",
    "print (\"Volume Boqueirão - Mês de %s  -> %-5.2f%%\" % (nome_meses[meses],pred))"
   ]
  },
  {
   "cell_type": "markdown",
   "metadata": {},
   "source": [
    "### Isso indica que, em 2017, se não houvesse a recarga do mês de abril do Rio São Francisco, <br /> o açude de Boqueirão iria SECAR em Julho/2017"
   ]
  }
 ],
 "metadata": {
  "anaconda-cloud": {},
  "kernelspec": {
   "display_name": "Python 3 (ipykernel)",
   "language": "python",
   "name": "python3"
  },
  "language_info": {
   "codemirror_mode": {
    "name": "ipython",
    "version": 3
   },
   "file_extension": ".py",
   "mimetype": "text/x-python",
   "name": "python",
   "nbconvert_exporter": "python",
   "pygments_lexer": "ipython3",
   "version": "3.8.8"
  }
 },
 "nbformat": 4,
 "nbformat_minor": 1
}
