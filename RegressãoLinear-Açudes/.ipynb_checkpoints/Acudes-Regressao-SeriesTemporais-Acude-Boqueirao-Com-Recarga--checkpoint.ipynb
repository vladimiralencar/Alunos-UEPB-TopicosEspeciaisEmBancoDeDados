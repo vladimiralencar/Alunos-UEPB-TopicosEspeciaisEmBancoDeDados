{
 "cells": [
  {
   "cell_type": "markdown",
   "metadata": {
    "collapsed": true
   },
   "source": [
    "# Regressao - Séries Temporais - Prophet - Açudes da Paraíba\n",
    "## Açude de Boqueirão - Com Recarga do Rio São Francisco (Abril/2017)\n",
    "#### http://www.aesa.pb.gov.br/aesa-website/monitoramento/volume-acude/?id_acude=531"
   ]
  },
  {
   "cell_type": "code",
   "execution_count": 42,
   "metadata": {},
   "outputs": [],
   "source": [
    "# Usando o Facebook Prophet\n",
    "#!pip install pystan\n",
    "#!pip install fbprophet"
   ]
  },
  {
   "cell_type": "code",
   "execution_count": 2,
   "metadata": {},
   "outputs": [],
   "source": [
    "# No Anaconda Python\n",
    "# conda install gcc\n",
    "# onda install -c conda-forge fbprophet"
   ]
  },
  {
   "cell_type": "markdown",
   "metadata": {},
   "source": [
    "### Acude de Boqueirão com Recarga do Rio São Francisco - 03/05/2017 ate 01/05/2018"
   ]
  },
  {
   "cell_type": "code",
   "execution_count": 3,
   "metadata": {},
   "outputs": [],
   "source": [
    "import pandas as pd"
   ]
  },
  {
   "cell_type": "code",
   "execution_count": 4,
   "metadata": {},
   "outputs": [
    {
     "data": {
      "text/html": [
       "<div>\n",
       "<style scoped>\n",
       "    .dataframe tbody tr th:only-of-type {\n",
       "        vertical-align: middle;\n",
       "    }\n",
       "\n",
       "    .dataframe tbody tr th {\n",
       "        vertical-align: top;\n",
       "    }\n",
       "\n",
       "    .dataframe thead th {\n",
       "        text-align: right;\n",
       "    }\n",
       "</style>\n",
       "<table border=\"1\" class=\"dataframe\">\n",
       "  <thead>\n",
       "    <tr style=\"text-align: right;\">\n",
       "      <th></th>\n",
       "      <th>Unnamed: 0</th>\n",
       "      <th>Açude</th>\n",
       "      <th>Data do registro</th>\n",
       "      <th>Volume (%)</th>\n",
       "      <th>Volume (m³)</th>\n",
       "      <th>Aporte (m²)</th>\n",
       "    </tr>\n",
       "  </thead>\n",
       "  <tbody>\n",
       "    <tr>\n",
       "      <th>0</th>\n",
       "      <td>0</td>\n",
       "      <td>Epitácio Pessoa</td>\n",
       "      <td>20/04/2017</td>\n",
       "      <td>2.92</td>\n",
       "      <td>12033034.63</td>\n",
       "      <td>58974.26</td>\n",
       "    </tr>\n",
       "    <tr>\n",
       "      <th>1</th>\n",
       "      <td>1</td>\n",
       "      <td>Epitácio Pessoa</td>\n",
       "      <td>21/04/2017</td>\n",
       "      <td>2.94</td>\n",
       "      <td>12121496.02</td>\n",
       "      <td>88461.39</td>\n",
       "    </tr>\n",
       "    <tr>\n",
       "      <th>2</th>\n",
       "      <td>2</td>\n",
       "      <td>Epitácio Pessoa</td>\n",
       "      <td>22/04/2017</td>\n",
       "      <td>2.98</td>\n",
       "      <td>12268931.67</td>\n",
       "      <td>147435.65</td>\n",
       "    </tr>\n",
       "    <tr>\n",
       "      <th>3</th>\n",
       "      <td>3</td>\n",
       "      <td>Epitácio Pessoa</td>\n",
       "      <td>23/04/2017</td>\n",
       "      <td>3.02</td>\n",
       "      <td>12445854.45</td>\n",
       "      <td>176922.78</td>\n",
       "    </tr>\n",
       "    <tr>\n",
       "      <th>4</th>\n",
       "      <td>4</td>\n",
       "      <td>Epitácio Pessoa</td>\n",
       "      <td>24/04/2017</td>\n",
       "      <td>3.08</td>\n",
       "      <td>12681751.49</td>\n",
       "      <td>235897.04</td>\n",
       "    </tr>\n",
       "  </tbody>\n",
       "</table>\n",
       "</div>"
      ],
      "text/plain": [
       "   Unnamed: 0            Açude Data do registro  Volume (%)  Volume (m³)  \\\n",
       "0           0  Epitácio Pessoa       20/04/2017        2.92  12033034.63   \n",
       "1           1  Epitácio Pessoa       21/04/2017        2.94  12121496.02   \n",
       "2           2  Epitácio Pessoa       22/04/2017        2.98  12268931.67   \n",
       "3           3  Epitácio Pessoa       23/04/2017        3.02  12445854.45   \n",
       "4           4  Epitácio Pessoa       24/04/2017        3.08  12681751.49   \n",
       "\n",
       "   Aporte (m²)  \n",
       "0     58974.26  \n",
       "1     88461.39  \n",
       "2    147435.65  \n",
       "3    176922.78  \n",
       "4    235897.04  "
      ]
     },
     "execution_count": 4,
     "metadata": {},
     "output_type": "execute_result"
    }
   ],
   "source": [
    "# leitura do dataset\n",
    "# Acude de Boqueirão com Recarga do Rio São Francisco - 03/05/2017 ate 01/05/2018\n",
    "df = pd.read_excel(\"Boqueirao-2017-2018.xlsx\")\n",
    "df.head()"
   ]
  },
  {
   "cell_type": "code",
   "execution_count": 5,
   "metadata": {},
   "outputs": [
    {
     "data": {
      "text/html": [
       "<div>\n",
       "<style scoped>\n",
       "    .dataframe tbody tr th:only-of-type {\n",
       "        vertical-align: middle;\n",
       "    }\n",
       "\n",
       "    .dataframe tbody tr th {\n",
       "        vertical-align: top;\n",
       "    }\n",
       "\n",
       "    .dataframe thead th {\n",
       "        text-align: right;\n",
       "    }\n",
       "</style>\n",
       "<table border=\"1\" class=\"dataframe\">\n",
       "  <thead>\n",
       "    <tr style=\"text-align: right;\">\n",
       "      <th></th>\n",
       "      <th>Data do registro</th>\n",
       "      <th>Volume (%)</th>\n",
       "      <th>Volume (m³)</th>\n",
       "      <th>Aporte (m²)</th>\n",
       "    </tr>\n",
       "  </thead>\n",
       "  <tbody>\n",
       "    <tr>\n",
       "      <th>0</th>\n",
       "      <td>20/04/2017</td>\n",
       "      <td>2.92</td>\n",
       "      <td>12033034.63</td>\n",
       "      <td>58974.26</td>\n",
       "    </tr>\n",
       "    <tr>\n",
       "      <th>1</th>\n",
       "      <td>21/04/2017</td>\n",
       "      <td>2.94</td>\n",
       "      <td>12121496.02</td>\n",
       "      <td>88461.39</td>\n",
       "    </tr>\n",
       "    <tr>\n",
       "      <th>2</th>\n",
       "      <td>22/04/2017</td>\n",
       "      <td>2.98</td>\n",
       "      <td>12268931.67</td>\n",
       "      <td>147435.65</td>\n",
       "    </tr>\n",
       "    <tr>\n",
       "      <th>3</th>\n",
       "      <td>23/04/2017</td>\n",
       "      <td>3.02</td>\n",
       "      <td>12445854.45</td>\n",
       "      <td>176922.78</td>\n",
       "    </tr>\n",
       "    <tr>\n",
       "      <th>4</th>\n",
       "      <td>24/04/2017</td>\n",
       "      <td>3.08</td>\n",
       "      <td>12681751.49</td>\n",
       "      <td>235897.04</td>\n",
       "    </tr>\n",
       "  </tbody>\n",
       "</table>\n",
       "</div>"
      ],
      "text/plain": [
       "  Data do registro  Volume (%)  Volume (m³)  Aporte (m²)\n",
       "0       20/04/2017        2.92  12033034.63     58974.26\n",
       "1       21/04/2017        2.94  12121496.02     88461.39\n",
       "2       22/04/2017        2.98  12268931.67    147435.65\n",
       "3       23/04/2017        3.02  12445854.45    176922.78\n",
       "4       24/04/2017        3.08  12681751.49    235897.04"
      ]
     },
     "execution_count": 5,
     "metadata": {},
     "output_type": "execute_result"
    }
   ],
   "source": [
    "del df[\"Açude\"]\n",
    "del df[\"Unnamed: 0\"]\n",
    "df.head()"
   ]
  },
  {
   "cell_type": "code",
   "execution_count": 6,
   "metadata": {},
   "outputs": [
    {
     "data": {
      "text/html": [
       "<div>\n",
       "<style scoped>\n",
       "    .dataframe tbody tr th:only-of-type {\n",
       "        vertical-align: middle;\n",
       "    }\n",
       "\n",
       "    .dataframe tbody tr th {\n",
       "        vertical-align: top;\n",
       "    }\n",
       "\n",
       "    .dataframe thead th {\n",
       "        text-align: right;\n",
       "    }\n",
       "</style>\n",
       "<table border=\"1\" class=\"dataframe\">\n",
       "  <thead>\n",
       "    <tr style=\"text-align: right;\">\n",
       "      <th></th>\n",
       "      <th>Data do registro</th>\n",
       "      <th>Volume (%)</th>\n",
       "      <th>Volume (m³)</th>\n",
       "      <th>Aporte (m²)</th>\n",
       "    </tr>\n",
       "  </thead>\n",
       "  <tbody>\n",
       "    <tr>\n",
       "      <th>374</th>\n",
       "      <td>30/04/2018</td>\n",
       "      <td>35.13</td>\n",
       "      <td>1.446395e+08</td>\n",
       "      <td>0.00</td>\n",
       "    </tr>\n",
       "    <tr>\n",
       "      <th>375</th>\n",
       "      <td>01/05/2018</td>\n",
       "      <td>35.40</td>\n",
       "      <td>1.457439e+08</td>\n",
       "      <td>1104342.24</td>\n",
       "    </tr>\n",
       "    <tr>\n",
       "      <th>376</th>\n",
       "      <td>02/05/2018</td>\n",
       "      <td>35.58</td>\n",
       "      <td>1.464801e+08</td>\n",
       "      <td>736228.16</td>\n",
       "    </tr>\n",
       "    <tr>\n",
       "      <th>377</th>\n",
       "      <td>03/05/2018</td>\n",
       "      <td>35.63</td>\n",
       "      <td>1.466641e+08</td>\n",
       "      <td>184057.04</td>\n",
       "    </tr>\n",
       "    <tr>\n",
       "      <th>378</th>\n",
       "      <td>04/05/2018</td>\n",
       "      <td>35.67</td>\n",
       "      <td>1.468482e+08</td>\n",
       "      <td>184057.04</td>\n",
       "    </tr>\n",
       "  </tbody>\n",
       "</table>\n",
       "</div>"
      ],
      "text/plain": [
       "    Data do registro  Volume (%)   Volume (m³)  Aporte (m²)\n",
       "374       30/04/2018       35.13  1.446395e+08         0.00\n",
       "375       01/05/2018       35.40  1.457439e+08   1104342.24\n",
       "376       02/05/2018       35.58  1.464801e+08    736228.16\n",
       "377       03/05/2018       35.63  1.466641e+08    184057.04\n",
       "378       04/05/2018       35.67  1.468482e+08    184057.04"
      ]
     },
     "execution_count": 6,
     "metadata": {},
     "output_type": "execute_result"
    }
   ],
   "source": [
    "df.tail()"
   ]
  },
  {
   "cell_type": "code",
   "execution_count": 7,
   "metadata": {},
   "outputs": [
    {
     "data": {
      "text/plain": [
       "379"
      ]
     },
     "execution_count": 7,
     "metadata": {},
     "output_type": "execute_result"
    }
   ],
   "source": [
    "len(df)"
   ]
  },
  {
   "cell_type": "code",
   "execution_count": 8,
   "metadata": {},
   "outputs": [
    {
     "name": "stdout",
     "output_type": "stream",
     "text": [
      "<class 'pandas.core.frame.DataFrame'>\n",
      "RangeIndex: 379 entries, 0 to 378\n",
      "Data columns (total 4 columns):\n",
      " #   Column            Non-Null Count  Dtype  \n",
      "---  ------            --------------  -----  \n",
      " 0   Data do registro  379 non-null    object \n",
      " 1   Volume (%)        379 non-null    float64\n",
      " 2   Volume (m³)       379 non-null    float64\n",
      " 3   Aporte (m²)       379 non-null    float64\n",
      "dtypes: float64(3), object(1)\n",
      "memory usage: 12.0+ KB\n"
     ]
    }
   ],
   "source": [
    "df.info()"
   ]
  },
  {
   "cell_type": "code",
   "execution_count": 9,
   "metadata": {},
   "outputs": [
    {
     "data": {
      "text/html": [
       "<div>\n",
       "<style scoped>\n",
       "    .dataframe tbody tr th:only-of-type {\n",
       "        vertical-align: middle;\n",
       "    }\n",
       "\n",
       "    .dataframe tbody tr th {\n",
       "        vertical-align: top;\n",
       "    }\n",
       "\n",
       "    .dataframe thead th {\n",
       "        text-align: right;\n",
       "    }\n",
       "</style>\n",
       "<table border=\"1\" class=\"dataframe\">\n",
       "  <thead>\n",
       "    <tr style=\"text-align: right;\">\n",
       "      <th></th>\n",
       "      <th>Data do registro</th>\n",
       "      <th>Volume (%)</th>\n",
       "      <th>Volume (m³)</th>\n",
       "      <th>Aporte (m²)</th>\n",
       "    </tr>\n",
       "  </thead>\n",
       "  <tbody>\n",
       "    <tr>\n",
       "      <th>0</th>\n",
       "      <td>2017-04-20</td>\n",
       "      <td>2.92</td>\n",
       "      <td>12033034.63</td>\n",
       "      <td>58974.26</td>\n",
       "    </tr>\n",
       "    <tr>\n",
       "      <th>1</th>\n",
       "      <td>2017-04-21</td>\n",
       "      <td>2.94</td>\n",
       "      <td>12121496.02</td>\n",
       "      <td>88461.39</td>\n",
       "    </tr>\n",
       "    <tr>\n",
       "      <th>2</th>\n",
       "      <td>2017-04-22</td>\n",
       "      <td>2.98</td>\n",
       "      <td>12268931.67</td>\n",
       "      <td>147435.65</td>\n",
       "    </tr>\n",
       "    <tr>\n",
       "      <th>3</th>\n",
       "      <td>2017-04-23</td>\n",
       "      <td>3.02</td>\n",
       "      <td>12445854.45</td>\n",
       "      <td>176922.78</td>\n",
       "    </tr>\n",
       "    <tr>\n",
       "      <th>4</th>\n",
       "      <td>2017-04-24</td>\n",
       "      <td>3.08</td>\n",
       "      <td>12681751.49</td>\n",
       "      <td>235897.04</td>\n",
       "    </tr>\n",
       "  </tbody>\n",
       "</table>\n",
       "</div>"
      ],
      "text/plain": [
       "  Data do registro  Volume (%)  Volume (m³)  Aporte (m²)\n",
       "0       2017-04-20        2.92  12033034.63     58974.26\n",
       "1       2017-04-21        2.94  12121496.02     88461.39\n",
       "2       2017-04-22        2.98  12268931.67    147435.65\n",
       "3       2017-04-23        3.02  12445854.45    176922.78\n",
       "4       2017-04-24        3.08  12681751.49    235897.04"
      ]
     },
     "execution_count": 9,
     "metadata": {},
     "output_type": "execute_result"
    }
   ],
   "source": [
    "# converter atributo para data\n",
    "df['Data do registro'] =  pd.to_datetime( df['Data do registro'], format=\"%d/%m/%Y\") \n",
    "df.head()"
   ]
  },
  {
   "cell_type": "code",
   "execution_count": 10,
   "metadata": {},
   "outputs": [
    {
     "data": {
      "text/html": [
       "<div>\n",
       "<style scoped>\n",
       "    .dataframe tbody tr th:only-of-type {\n",
       "        vertical-align: middle;\n",
       "    }\n",
       "\n",
       "    .dataframe tbody tr th {\n",
       "        vertical-align: top;\n",
       "    }\n",
       "\n",
       "    .dataframe thead th {\n",
       "        text-align: right;\n",
       "    }\n",
       "</style>\n",
       "<table border=\"1\" class=\"dataframe\">\n",
       "  <thead>\n",
       "    <tr style=\"text-align: right;\">\n",
       "      <th></th>\n",
       "      <th>Volume (%)</th>\n",
       "      <th>Volume (m³)</th>\n",
       "      <th>Aporte (m²)</th>\n",
       "    </tr>\n",
       "    <tr>\n",
       "      <th>Data do registro</th>\n",
       "      <th></th>\n",
       "      <th></th>\n",
       "      <th></th>\n",
       "    </tr>\n",
       "  </thead>\n",
       "  <tbody>\n",
       "    <tr>\n",
       "      <th>2017-04-20</th>\n",
       "      <td>2.92</td>\n",
       "      <td>12033034.63</td>\n",
       "      <td>58974.26</td>\n",
       "    </tr>\n",
       "    <tr>\n",
       "      <th>2017-04-21</th>\n",
       "      <td>2.94</td>\n",
       "      <td>12121496.02</td>\n",
       "      <td>88461.39</td>\n",
       "    </tr>\n",
       "    <tr>\n",
       "      <th>2017-04-22</th>\n",
       "      <td>2.98</td>\n",
       "      <td>12268931.67</td>\n",
       "      <td>147435.65</td>\n",
       "    </tr>\n",
       "    <tr>\n",
       "      <th>2017-04-23</th>\n",
       "      <td>3.02</td>\n",
       "      <td>12445854.45</td>\n",
       "      <td>176922.78</td>\n",
       "    </tr>\n",
       "    <tr>\n",
       "      <th>2017-04-24</th>\n",
       "      <td>3.08</td>\n",
       "      <td>12681751.49</td>\n",
       "      <td>235897.04</td>\n",
       "    </tr>\n",
       "  </tbody>\n",
       "</table>\n",
       "</div>"
      ],
      "text/plain": [
       "                  Volume (%)  Volume (m³)  Aporte (m²)\n",
       "Data do registro                                      \n",
       "2017-04-20              2.92  12033034.63     58974.26\n",
       "2017-04-21              2.94  12121496.02     88461.39\n",
       "2017-04-22              2.98  12268931.67    147435.65\n",
       "2017-04-23              3.02  12445854.45    176922.78\n",
       "2017-04-24              3.08  12681751.49    235897.04"
      ]
     },
     "execution_count": 10,
     "metadata": {},
     "output_type": "execute_result"
    }
   ],
   "source": [
    "# colocar a data como indice para fazer uma série temporal\n",
    "df2 = df.set_index(pd.DatetimeIndex(df['Data do registro']))\n",
    "del df2['Data do registro']\n",
    "df2.head()"
   ]
  },
  {
   "cell_type": "code",
   "execution_count": 11,
   "metadata": {},
   "outputs": [
    {
     "data": {
      "text/plain": [
       "count    379.000000\n",
       "mean      10.493404\n",
       "std        6.468186\n",
       "min        2.920000\n",
       "25%        7.535000\n",
       "50%        9.240000\n",
       "75%       10.220000\n",
       "max       35.670000\n",
       "Name: Volume (%), dtype: float64"
      ]
     },
     "execution_count": 11,
     "metadata": {},
     "output_type": "execute_result"
    }
   ],
   "source": [
    "#del df2[\"Data do registro\"]\n",
    "df2.describe()[\"Volume (%)\"]"
   ]
  },
  {
   "cell_type": "code",
   "execution_count": 12,
   "metadata": {},
   "outputs": [
    {
     "name": "stdout",
     "output_type": "stream",
     "text": [
      "<class 'pandas.core.frame.DataFrame'>\n",
      "DatetimeIndex: 379 entries, 2017-04-20 to 2018-05-04\n",
      "Data columns (total 3 columns):\n",
      " #   Column       Non-Null Count  Dtype  \n",
      "---  ------       --------------  -----  \n",
      " 0   Volume (%)   379 non-null    float64\n",
      " 1   Volume (m³)  379 non-null    float64\n",
      " 2   Aporte (m²)  379 non-null    float64\n",
      "dtypes: float64(3)\n",
      "memory usage: 11.8 KB\n"
     ]
    }
   ],
   "source": [
    "df2.info()"
   ]
  },
  {
   "cell_type": "code",
   "execution_count": 13,
   "metadata": {},
   "outputs": [
    {
     "data": {
      "text/html": [
       "<div>\n",
       "<style scoped>\n",
       "    .dataframe tbody tr th:only-of-type {\n",
       "        vertical-align: middle;\n",
       "    }\n",
       "\n",
       "    .dataframe tbody tr th {\n",
       "        vertical-align: top;\n",
       "    }\n",
       "\n",
       "    .dataframe thead th {\n",
       "        text-align: right;\n",
       "    }\n",
       "</style>\n",
       "<table border=\"1\" class=\"dataframe\">\n",
       "  <thead>\n",
       "    <tr style=\"text-align: right;\">\n",
       "      <th></th>\n",
       "      <th>Volume (%)</th>\n",
       "      <th>Volume (m³)</th>\n",
       "      <th>Aporte (m²)</th>\n",
       "    </tr>\n",
       "    <tr>\n",
       "      <th>Data do registro</th>\n",
       "      <th></th>\n",
       "      <th></th>\n",
       "      <th></th>\n",
       "    </tr>\n",
       "  </thead>\n",
       "  <tbody>\n",
       "    <tr>\n",
       "      <th>2017-04-20</th>\n",
       "      <td>2.92</td>\n",
       "      <td>12033034.63</td>\n",
       "      <td>58974.26</td>\n",
       "    </tr>\n",
       "    <tr>\n",
       "      <th>2017-04-21</th>\n",
       "      <td>2.94</td>\n",
       "      <td>12121496.02</td>\n",
       "      <td>88461.39</td>\n",
       "    </tr>\n",
       "    <tr>\n",
       "      <th>2017-04-22</th>\n",
       "      <td>2.98</td>\n",
       "      <td>12268931.67</td>\n",
       "      <td>147435.65</td>\n",
       "    </tr>\n",
       "    <tr>\n",
       "      <th>2017-04-23</th>\n",
       "      <td>3.02</td>\n",
       "      <td>12445854.45</td>\n",
       "      <td>176922.78</td>\n",
       "    </tr>\n",
       "    <tr>\n",
       "      <th>2017-04-24</th>\n",
       "      <td>3.08</td>\n",
       "      <td>12681751.49</td>\n",
       "      <td>235897.04</td>\n",
       "    </tr>\n",
       "  </tbody>\n",
       "</table>\n",
       "</div>"
      ],
      "text/plain": [
       "                  Volume (%)  Volume (m³)  Aporte (m²)\n",
       "Data do registro                                      \n",
       "2017-04-20              2.92  12033034.63     58974.26\n",
       "2017-04-21              2.94  12121496.02     88461.39\n",
       "2017-04-22              2.98  12268931.67    147435.65\n",
       "2017-04-23              3.02  12445854.45    176922.78\n",
       "2017-04-24              3.08  12681751.49    235897.04"
      ]
     },
     "execution_count": 13,
     "metadata": {},
     "output_type": "execute_result"
    }
   ],
   "source": [
    "df2.head()"
   ]
  },
  {
   "cell_type": "markdown",
   "metadata": {},
   "source": [
    "## Plota dados do açude de Boqueirão - 20/04/2017 ate 04/05/2018"
   ]
  },
  {
   "cell_type": "code",
   "execution_count": 14,
   "metadata": {
    "scrolled": true
   },
   "outputs": [
    {
     "data": {
      "image/png": "[encoded data removed]",
      "text/plain": [
       "<Figure size 1152x360 with 1 Axes>"
      ]
     },
     "metadata": {
      "needs_background": "light"
     },
     "output_type": "display_data"
    }
   ],
   "source": [
    "import matplotlib, matplotlib.pyplot as plt\n",
    "%matplotlib inline\n",
    "plt.figure(figsize=(16,5))\n",
    "matplotlib.style.use(\"ggplot\")\n",
    "\n",
    "plt.plot(df2[\"Volume (%)\"], color='blue', linewidth=1)\n",
    "# adcionando textos\n",
    "plt.title(\"Açude de Boqueirão - Recarga (09/04/2017 ate 08/04/2018)\")\n",
    "plt.xlabel(\"Ano\")\n",
    "plt.ylabel(\"Volume (%)\")\n",
    "plt.legend([\"Observado\"], loc=\"lower right\")\n",
    "plt.show()"
   ]
  },
  {
   "cell_type": "code",
   "execution_count": 15,
   "metadata": {},
   "outputs": [
    {
     "data": {
      "text/html": [
       "<div>\n",
       "<style scoped>\n",
       "    .dataframe tbody tr th:only-of-type {\n",
       "        vertical-align: middle;\n",
       "    }\n",
       "\n",
       "    .dataframe tbody tr th {\n",
       "        vertical-align: top;\n",
       "    }\n",
       "\n",
       "    .dataframe thead th {\n",
       "        text-align: right;\n",
       "    }\n",
       "</style>\n",
       "<table border=\"1\" class=\"dataframe\">\n",
       "  <thead>\n",
       "    <tr style=\"text-align: right;\">\n",
       "      <th></th>\n",
       "      <th>Volume (%)</th>\n",
       "      <th>Volume (m³)</th>\n",
       "      <th>Aporte (m²)</th>\n",
       "      <th>dia</th>\n",
       "    </tr>\n",
       "    <tr>\n",
       "      <th>Data do registro</th>\n",
       "      <th></th>\n",
       "      <th></th>\n",
       "      <th></th>\n",
       "      <th></th>\n",
       "    </tr>\n",
       "  </thead>\n",
       "  <tbody>\n",
       "    <tr>\n",
       "      <th>2017-04-20</th>\n",
       "      <td>2.92</td>\n",
       "      <td>12033034.63</td>\n",
       "      <td>58974.26</td>\n",
       "      <td>1</td>\n",
       "    </tr>\n",
       "    <tr>\n",
       "      <th>2017-04-21</th>\n",
       "      <td>2.94</td>\n",
       "      <td>12121496.02</td>\n",
       "      <td>88461.39</td>\n",
       "      <td>2</td>\n",
       "    </tr>\n",
       "    <tr>\n",
       "      <th>2017-04-22</th>\n",
       "      <td>2.98</td>\n",
       "      <td>12268931.67</td>\n",
       "      <td>147435.65</td>\n",
       "      <td>3</td>\n",
       "    </tr>\n",
       "    <tr>\n",
       "      <th>2017-04-23</th>\n",
       "      <td>3.02</td>\n",
       "      <td>12445854.45</td>\n",
       "      <td>176922.78</td>\n",
       "      <td>4</td>\n",
       "    </tr>\n",
       "    <tr>\n",
       "      <th>2017-04-24</th>\n",
       "      <td>3.08</td>\n",
       "      <td>12681751.49</td>\n",
       "      <td>235897.04</td>\n",
       "      <td>5</td>\n",
       "    </tr>\n",
       "  </tbody>\n",
       "</table>\n",
       "</div>"
      ],
      "text/plain": [
       "                  Volume (%)  Volume (m³)  Aporte (m²)  dia\n",
       "Data do registro                                           \n",
       "2017-04-20              2.92  12033034.63     58974.26    1\n",
       "2017-04-21              2.94  12121496.02     88461.39    2\n",
       "2017-04-22              2.98  12268931.67    147435.65    3\n",
       "2017-04-23              3.02  12445854.45    176922.78    4\n",
       "2017-04-24              3.08  12681751.49    235897.04    5"
      ]
     },
     "execution_count": 15,
     "metadata": {},
     "output_type": "execute_result"
    }
   ],
   "source": [
    "# criar uma coluna com os dias\n",
    "df3 = df2\n",
    "numero_de_dias_observados = len(df3)\n",
    "df3[\"dia\"] = range(1,numero_de_dias_observados+1)\n",
    "df3.head()"
   ]
  },
  {
   "cell_type": "code",
   "execution_count": 16,
   "metadata": {},
   "outputs": [
    {
     "name": "stdout",
     "output_type": "stream",
     "text": [
      "numero_de_dias_observados =  379\n"
     ]
    }
   ],
   "source": [
    "print(\"numero_de_dias_observados = \",len(df3)) # numero de tuplas ou linhas ou medições"
   ]
  },
  {
   "cell_type": "code",
   "execution_count": 17,
   "metadata": {},
   "outputs": [
    {
     "data": {
      "text/html": [
       "<div>\n",
       "<style scoped>\n",
       "    .dataframe tbody tr th:only-of-type {\n",
       "        vertical-align: middle;\n",
       "    }\n",
       "\n",
       "    .dataframe tbody tr th {\n",
       "        vertical-align: top;\n",
       "    }\n",
       "\n",
       "    .dataframe thead th {\n",
       "        text-align: right;\n",
       "    }\n",
       "</style>\n",
       "<table border=\"1\" class=\"dataframe\">\n",
       "  <thead>\n",
       "    <tr style=\"text-align: right;\">\n",
       "      <th></th>\n",
       "      <th>Volume (%)</th>\n",
       "      <th>Volume (m³)</th>\n",
       "      <th>Aporte (m²)</th>\n",
       "      <th>dia</th>\n",
       "    </tr>\n",
       "    <tr>\n",
       "      <th>Data do registro</th>\n",
       "      <th></th>\n",
       "      <th></th>\n",
       "      <th></th>\n",
       "      <th></th>\n",
       "    </tr>\n",
       "  </thead>\n",
       "  <tbody>\n",
       "    <tr>\n",
       "      <th>2018-04-30</th>\n",
       "      <td>35.13</td>\n",
       "      <td>1.446395e+08</td>\n",
       "      <td>0.00</td>\n",
       "      <td>375</td>\n",
       "    </tr>\n",
       "    <tr>\n",
       "      <th>2018-05-01</th>\n",
       "      <td>35.40</td>\n",
       "      <td>1.457439e+08</td>\n",
       "      <td>1104342.24</td>\n",
       "      <td>376</td>\n",
       "    </tr>\n",
       "    <tr>\n",
       "      <th>2018-05-02</th>\n",
       "      <td>35.58</td>\n",
       "      <td>1.464801e+08</td>\n",
       "      <td>736228.16</td>\n",
       "      <td>377</td>\n",
       "    </tr>\n",
       "    <tr>\n",
       "      <th>2018-05-03</th>\n",
       "      <td>35.63</td>\n",
       "      <td>1.466641e+08</td>\n",
       "      <td>184057.04</td>\n",
       "      <td>378</td>\n",
       "    </tr>\n",
       "    <tr>\n",
       "      <th>2018-05-04</th>\n",
       "      <td>35.67</td>\n",
       "      <td>1.468482e+08</td>\n",
       "      <td>184057.04</td>\n",
       "      <td>379</td>\n",
       "    </tr>\n",
       "  </tbody>\n",
       "</table>\n",
       "</div>"
      ],
      "text/plain": [
       "                  Volume (%)   Volume (m³)  Aporte (m²)  dia\n",
       "Data do registro                                            \n",
       "2018-04-30             35.13  1.446395e+08         0.00  375\n",
       "2018-05-01             35.40  1.457439e+08   1104342.24  376\n",
       "2018-05-02             35.58  1.464801e+08    736228.16  377\n",
       "2018-05-03             35.63  1.466641e+08    184057.04  378\n",
       "2018-05-04             35.67  1.468482e+08    184057.04  379"
      ]
     },
     "execution_count": 17,
     "metadata": {},
     "output_type": "execute_result"
    }
   ],
   "source": [
    "df3.tail()"
   ]
  },
  {
   "cell_type": "markdown",
   "metadata": {},
   "source": [
    "## Preparar os dados para aplicar o modelo de regressao"
   ]
  },
  {
   "cell_type": "code",
   "execution_count": 18,
   "metadata": {},
   "outputs": [
    {
     "name": "stdout",
     "output_type": "stream",
     "text": [
      "[[1]\n",
      " [2]\n",
      " [3]]\n",
      "Data do registro\n",
      "2017-04-20    2.92\n",
      "2017-04-21    2.94\n",
      "2017-04-22    2.98\n",
      "Name: Volume (%), dtype: float64\n"
     ]
    }
   ],
   "source": [
    "import numpy, pandas as pd\n",
    "import matplotlib, matplotlib.pyplot as plt\n",
    "import sklearn.linear_model as lm\n",
    "import warnings\n",
    "warnings.filterwarnings('ignore')\n",
    "#X = numpy.array([x.toordinal() for x in df3.index])[:, numpy.newaxis]\n",
    "\n",
    "X = df3['dia'].values.reshape(-1, 1)\n",
    "y = df3['Volume (%)']\n",
    "\n",
    "print(X[:3])\n",
    "print(y[:3])"
   ]
  },
  {
   "cell_type": "markdown",
   "metadata": {},
   "source": [
    "## Aplicar o modelo de Regressao"
   ]
  },
  {
   "cell_type": "code",
   "execution_count": 19,
   "metadata": {},
   "outputs": [
    {
     "data": {
      "text/plain": [
       "LinearRegression()"
      ]
     },
     "execution_count": 19,
     "metadata": {},
     "output_type": "execute_result"
    }
   ],
   "source": [
    "# Aplicar o modelo de Regressao\n",
    "olm = lm.LinearRegression()\n",
    "olm.fit(X, y)\n",
    "olm"
   ]
  },
  {
   "cell_type": "markdown",
   "metadata": {},
   "source": [
    "## Métrica para avaliar o modelo\n",
    "É uma métrica que mede os o quanto dos futuros examplos são previstos corretamente. <br>\n",
    "Varia entre 0 e 1. Quanto mais o R² se aproximar de 1, melhor a previsão.<br>\n",
    "Um R² próximo de 0, não reflete o modelo."
   ]
  },
  {
   "cell_type": "code",
   "execution_count": 20,
   "metadata": {},
   "outputs": [
    {
     "data": {
      "text/html": [
       "<div>\n",
       "<style scoped>\n",
       "    .dataframe tbody tr th:only-of-type {\n",
       "        vertical-align: middle;\n",
       "    }\n",
       "\n",
       "    .dataframe tbody tr th {\n",
       "        vertical-align: top;\n",
       "    }\n",
       "\n",
       "    .dataframe thead th {\n",
       "        text-align: right;\n",
       "    }\n",
       "</style>\n",
       "<table border=\"1\" class=\"dataframe\">\n",
       "  <thead>\n",
       "    <tr style=\"text-align: right;\">\n",
       "      <th></th>\n",
       "      <th>dia</th>\n",
       "      <th>volume</th>\n",
       "      <th>Vol_prev</th>\n",
       "      <th>erro</th>\n",
       "      <th>quadrado_erro</th>\n",
       "    </tr>\n",
       "    <tr>\n",
       "      <th>Data do registro</th>\n",
       "      <th></th>\n",
       "      <th></th>\n",
       "      <th></th>\n",
       "      <th></th>\n",
       "      <th></th>\n",
       "    </tr>\n",
       "  </thead>\n",
       "  <tbody>\n",
       "    <tr>\n",
       "      <th>2017-04-20</th>\n",
       "      <td>1</td>\n",
       "      <td>2.92</td>\n",
       "      <td>1.990586</td>\n",
       "      <td>0.929414</td>\n",
       "      <td>0.863811</td>\n",
       "    </tr>\n",
       "    <tr>\n",
       "      <th>2017-04-21</th>\n",
       "      <td>2</td>\n",
       "      <td>2.94</td>\n",
       "      <td>2.035574</td>\n",
       "      <td>0.904426</td>\n",
       "      <td>0.817986</td>\n",
       "    </tr>\n",
       "    <tr>\n",
       "      <th>2017-04-22</th>\n",
       "      <td>3</td>\n",
       "      <td>2.98</td>\n",
       "      <td>2.080563</td>\n",
       "      <td>0.899437</td>\n",
       "      <td>0.808987</td>\n",
       "    </tr>\n",
       "    <tr>\n",
       "      <th>2017-04-23</th>\n",
       "      <td>4</td>\n",
       "      <td>3.02</td>\n",
       "      <td>2.125551</td>\n",
       "      <td>0.894449</td>\n",
       "      <td>0.800039</td>\n",
       "    </tr>\n",
       "    <tr>\n",
       "      <th>2017-04-24</th>\n",
       "      <td>5</td>\n",
       "      <td>3.08</td>\n",
       "      <td>2.170540</td>\n",
       "      <td>0.909460</td>\n",
       "      <td>0.827118</td>\n",
       "    </tr>\n",
       "  </tbody>\n",
       "</table>\n",
       "</div>"
      ],
      "text/plain": [
       "                  dia  volume  Vol_prev      erro  quadrado_erro\n",
       "Data do registro                                                \n",
       "2017-04-20          1    2.92  1.990586  0.929414       0.863811\n",
       "2017-04-21          2    2.94  2.035574  0.904426       0.817986\n",
       "2017-04-22          3    2.98  2.080563  0.899437       0.808987\n",
       "2017-04-23          4    3.02  2.125551  0.894449       0.800039\n",
       "2017-04-24          5    3.08  2.170540  0.909460       0.827118"
      ]
     },
     "execution_count": 20,
     "metadata": {},
     "output_type": "execute_result"
    }
   ],
   "source": [
    "from sklearn.metrics import r2_score\n",
    "import numpy as np\n",
    "\n",
    "y_pred = olm.predict(df3['dia'].values.reshape(-1, 1))\n",
    "# Evaluate the model\n",
    "\n",
    "dfp = pd.DataFrame()\n",
    "dfp['dia'] = df3['dia']\n",
    "dfp['volume'] = df3['Volume (%)']\n",
    "dfp['Vol_prev'] = y_pred\n",
    "dfp['erro'] = np.abs(dfp['volume'] - dfp['Vol_prev'])\n",
    "dfp['quadrado_erro'] = np.abs(dfp['volume'] - dfp['Vol_prev']) ** 2\n",
    "dfp.head()"
   ]
  },
  {
   "cell_type": "code",
   "execution_count": 21,
   "metadata": {},
   "outputs": [
    {
     "data": {
      "text/plain": [
       "81.44069961913722"
      ]
     },
     "execution_count": 21,
     "metadata": {},
     "output_type": "execute_result"
    }
   ],
   "source": [
    "import numpy as np\n",
    "\n",
    "np.sqrt(dfp.quadrado_erro.sum())"
   ]
  },
  {
   "cell_type": "code",
   "execution_count": 22,
   "metadata": {},
   "outputs": [
    {
     "data": {
      "text/plain": [
       "31.871490181116236"
      ]
     },
     "execution_count": 22,
     "metadata": {},
     "output_type": "execute_result"
    }
   ],
   "source": [
    "np.sqrt(dfp.erro.sum())"
   ]
  },
  {
   "cell_type": "code",
   "execution_count": 23,
   "metadata": {},
   "outputs": [
    {
     "name": "stdout",
     "output_type": "stream",
     "text": [
      "r2 =  0.5806021874539069\n"
     ]
    }
   ],
   "source": [
    "r2 = r2_score(y, y_pred)\n",
    "print('r2 = ', r2 )"
   ]
  },
  {
   "cell_type": "markdown",
   "metadata": {},
   "source": [
    "# Prophet - Séries Temporais"
   ]
  },
  {
   "cell_type": "code",
   "execution_count": 24,
   "metadata": {},
   "outputs": [
    {
     "name": "stderr",
     "output_type": "stream",
     "text": [
      "Importing plotly failed. Interactive plots will not work.\n"
     ]
    }
   ],
   "source": [
    "from fbprophet import Prophet"
   ]
  },
  {
   "cell_type": "code",
   "execution_count": 25,
   "metadata": {},
   "outputs": [
    {
     "data": {
      "text/html": [
       "<div>\n",
       "<style scoped>\n",
       "    .dataframe tbody tr th:only-of-type {\n",
       "        vertical-align: middle;\n",
       "    }\n",
       "\n",
       "    .dataframe tbody tr th {\n",
       "        vertical-align: top;\n",
       "    }\n",
       "\n",
       "    .dataframe thead th {\n",
       "        text-align: right;\n",
       "    }\n",
       "</style>\n",
       "<table border=\"1\" class=\"dataframe\">\n",
       "  <thead>\n",
       "    <tr style=\"text-align: right;\">\n",
       "      <th></th>\n",
       "      <th>Data do registro</th>\n",
       "      <th>Volume (%)</th>\n",
       "      <th>Volume (m³)</th>\n",
       "      <th>Aporte (m²)</th>\n",
       "    </tr>\n",
       "  </thead>\n",
       "  <tbody>\n",
       "    <tr>\n",
       "      <th>0</th>\n",
       "      <td>2017-04-20</td>\n",
       "      <td>2.92</td>\n",
       "      <td>12033034.63</td>\n",
       "      <td>58974.26</td>\n",
       "    </tr>\n",
       "    <tr>\n",
       "      <th>1</th>\n",
       "      <td>2017-04-21</td>\n",
       "      <td>2.94</td>\n",
       "      <td>12121496.02</td>\n",
       "      <td>88461.39</td>\n",
       "    </tr>\n",
       "    <tr>\n",
       "      <th>2</th>\n",
       "      <td>2017-04-22</td>\n",
       "      <td>2.98</td>\n",
       "      <td>12268931.67</td>\n",
       "      <td>147435.65</td>\n",
       "    </tr>\n",
       "    <tr>\n",
       "      <th>3</th>\n",
       "      <td>2017-04-23</td>\n",
       "      <td>3.02</td>\n",
       "      <td>12445854.45</td>\n",
       "      <td>176922.78</td>\n",
       "    </tr>\n",
       "    <tr>\n",
       "      <th>4</th>\n",
       "      <td>2017-04-24</td>\n",
       "      <td>3.08</td>\n",
       "      <td>12681751.49</td>\n",
       "      <td>235897.04</td>\n",
       "    </tr>\n",
       "  </tbody>\n",
       "</table>\n",
       "</div>"
      ],
      "text/plain": [
       "  Data do registro  Volume (%)  Volume (m³)  Aporte (m²)\n",
       "0       2017-04-20        2.92  12033034.63     58974.26\n",
       "1       2017-04-21        2.94  12121496.02     88461.39\n",
       "2       2017-04-22        2.98  12268931.67    147435.65\n",
       "3       2017-04-23        3.02  12445854.45    176922.78\n",
       "4       2017-04-24        3.08  12681751.49    235897.04"
      ]
     },
     "execution_count": 25,
     "metadata": {},
     "output_type": "execute_result"
    }
   ],
   "source": [
    "df.head()"
   ]
  },
  {
   "cell_type": "code",
   "execution_count": 26,
   "metadata": {},
   "outputs": [
    {
     "name": "stdout",
     "output_type": "stream",
     "text": [
      "<class 'pandas.core.frame.DataFrame'>\n",
      "RangeIndex: 379 entries, 0 to 378\n",
      "Data columns (total 4 columns):\n",
      " #   Column            Non-Null Count  Dtype         \n",
      "---  ------            --------------  -----         \n",
      " 0   Data do registro  379 non-null    datetime64[ns]\n",
      " 1   Volume (%)        379 non-null    float64       \n",
      " 2   Volume (m³)       379 non-null    float64       \n",
      " 3   Aporte (m²)       379 non-null    float64       \n",
      "dtypes: datetime64[ns](1), float64(3)\n",
      "memory usage: 12.0 KB\n"
     ]
    }
   ],
   "source": [
    "df.info()"
   ]
  },
  {
   "cell_type": "code",
   "execution_count": 34,
   "metadata": {},
   "outputs": [
    {
     "data": {
      "text/html": [
       "<div>\n",
       "<style scoped>\n",
       "    .dataframe tbody tr th:only-of-type {\n",
       "        vertical-align: middle;\n",
       "    }\n",
       "\n",
       "    .dataframe tbody tr th {\n",
       "        vertical-align: top;\n",
       "    }\n",
       "\n",
       "    .dataframe thead th {\n",
       "        text-align: right;\n",
       "    }\n",
       "</style>\n",
       "<table border=\"1\" class=\"dataframe\">\n",
       "  <thead>\n",
       "    <tr style=\"text-align: right;\">\n",
       "      <th></th>\n",
       "      <th>ds</th>\n",
       "      <th>y</th>\n",
       "    </tr>\n",
       "  </thead>\n",
       "  <tbody>\n",
       "    <tr>\n",
       "      <th>0</th>\n",
       "      <td>2017-04-20</td>\n",
       "      <td>2.92</td>\n",
       "    </tr>\n",
       "    <tr>\n",
       "      <th>1</th>\n",
       "      <td>2017-04-21</td>\n",
       "      <td>2.94</td>\n",
       "    </tr>\n",
       "    <tr>\n",
       "      <th>2</th>\n",
       "      <td>2017-04-22</td>\n",
       "      <td>2.98</td>\n",
       "    </tr>\n",
       "    <tr>\n",
       "      <th>3</th>\n",
       "      <td>2017-04-23</td>\n",
       "      <td>3.02</td>\n",
       "    </tr>\n",
       "    <tr>\n",
       "      <th>4</th>\n",
       "      <td>2017-04-24</td>\n",
       "      <td>3.08</td>\n",
       "    </tr>\n",
       "  </tbody>\n",
       "</table>\n",
       "</div>"
      ],
      "text/plain": [
       "          ds     y\n",
       "0 2017-04-20  2.92\n",
       "1 2017-04-21  2.94\n",
       "2 2017-04-22  2.98\n",
       "3 2017-04-23  3.02\n",
       "4 2017-04-24  3.08"
      ]
     },
     "execution_count": 34,
     "metadata": {},
     "output_type": "execute_result"
    }
   ],
   "source": [
    "df2 = df[ ['Data do registro', 'Volume (%)' ] ]\n",
    "df2 = df2.rename(columns={\"Data do registro\": \"ds\", \"Volume (%)\": \"y\"})\n",
    "df2.head()"
   ]
  },
  {
   "cell_type": "code",
   "execution_count": 35,
   "metadata": {},
   "outputs": [
    {
     "name": "stderr",
     "output_type": "stream",
     "text": [
      "INFO:fbprophet:Disabling yearly seasonality. Run prophet with yearly_seasonality=True to override this.\n",
      "INFO:fbprophet:Disabling daily seasonality. Run prophet with daily_seasonality=True to override this.\n"
     ]
    },
    {
     "data": {
      "text/plain": [
       "<fbprophet.forecaster.Prophet at 0x7f8111086f40>"
      ]
     },
     "execution_count": 35,
     "metadata": {},
     "output_type": "execute_result"
    }
   ],
   "source": [
    "m = Prophet()\n",
    "m.fit(df2)"
   ]
  },
  {
   "cell_type": "code",
   "execution_count": 36,
   "metadata": {},
   "outputs": [
    {
     "data": {
      "text/html": [
       "<div>\n",
       "<style scoped>\n",
       "    .dataframe tbody tr th:only-of-type {\n",
       "        vertical-align: middle;\n",
       "    }\n",
       "\n",
       "    .dataframe tbody tr th {\n",
       "        vertical-align: top;\n",
       "    }\n",
       "\n",
       "    .dataframe thead th {\n",
       "        text-align: right;\n",
       "    }\n",
       "</style>\n",
       "<table border=\"1\" class=\"dataframe\">\n",
       "  <thead>\n",
       "    <tr style=\"text-align: right;\">\n",
       "      <th></th>\n",
       "      <th>ds</th>\n",
       "    </tr>\n",
       "  </thead>\n",
       "  <tbody>\n",
       "    <tr>\n",
       "      <th>739</th>\n",
       "      <td>2019-04-30</td>\n",
       "    </tr>\n",
       "    <tr>\n",
       "      <th>740</th>\n",
       "      <td>2019-05-01</td>\n",
       "    </tr>\n",
       "    <tr>\n",
       "      <th>741</th>\n",
       "      <td>2019-05-02</td>\n",
       "    </tr>\n",
       "    <tr>\n",
       "      <th>742</th>\n",
       "      <td>2019-05-03</td>\n",
       "    </tr>\n",
       "    <tr>\n",
       "      <th>743</th>\n",
       "      <td>2019-05-04</td>\n",
       "    </tr>\n",
       "  </tbody>\n",
       "</table>\n",
       "</div>"
      ],
      "text/plain": [
       "            ds\n",
       "739 2019-04-30\n",
       "740 2019-05-01\n",
       "741 2019-05-02\n",
       "742 2019-05-03\n",
       "743 2019-05-04"
      ]
     },
     "execution_count": 36,
     "metadata": {},
     "output_type": "execute_result"
    }
   ],
   "source": [
    "# Python\n",
    "future = m.make_future_dataframe(periods=365)\n",
    "future.tail()"
   ]
  },
  {
   "cell_type": "code",
   "execution_count": 37,
   "metadata": {},
   "outputs": [
    {
     "data": {
      "text/html": [
       "<div>\n",
       "<style scoped>\n",
       "    .dataframe tbody tr th:only-of-type {\n",
       "        vertical-align: middle;\n",
       "    }\n",
       "\n",
       "    .dataframe tbody tr th {\n",
       "        vertical-align: top;\n",
       "    }\n",
       "\n",
       "    .dataframe thead th {\n",
       "        text-align: right;\n",
       "    }\n",
       "</style>\n",
       "<table border=\"1\" class=\"dataframe\">\n",
       "  <thead>\n",
       "    <tr style=\"text-align: right;\">\n",
       "      <th></th>\n",
       "      <th>ds</th>\n",
       "      <th>yhat</th>\n",
       "      <th>yhat_lower</th>\n",
       "      <th>yhat_upper</th>\n",
       "    </tr>\n",
       "  </thead>\n",
       "  <tbody>\n",
       "    <tr>\n",
       "      <th>739</th>\n",
       "      <td>2019-04-30</td>\n",
       "      <td>140.155710</td>\n",
       "      <td>117.042863</td>\n",
       "      <td>163.274574</td>\n",
       "    </tr>\n",
       "    <tr>\n",
       "      <th>740</th>\n",
       "      <td>2019-05-01</td>\n",
       "      <td>140.450742</td>\n",
       "      <td>117.158974</td>\n",
       "      <td>164.490249</td>\n",
       "    </tr>\n",
       "    <tr>\n",
       "      <th>741</th>\n",
       "      <td>2019-05-02</td>\n",
       "      <td>140.715406</td>\n",
       "      <td>117.680469</td>\n",
       "      <td>165.381893</td>\n",
       "    </tr>\n",
       "    <tr>\n",
       "      <th>742</th>\n",
       "      <td>2019-05-03</td>\n",
       "      <td>140.978180</td>\n",
       "      <td>117.425643</td>\n",
       "      <td>164.974818</td>\n",
       "    </tr>\n",
       "    <tr>\n",
       "      <th>743</th>\n",
       "      <td>2019-05-04</td>\n",
       "      <td>141.284170</td>\n",
       "      <td>117.484019</td>\n",
       "      <td>165.298030</td>\n",
       "    </tr>\n",
       "  </tbody>\n",
       "</table>\n",
       "</div>"
      ],
      "text/plain": [
       "            ds        yhat  yhat_lower  yhat_upper\n",
       "739 2019-04-30  140.155710  117.042863  163.274574\n",
       "740 2019-05-01  140.450742  117.158974  164.490249\n",
       "741 2019-05-02  140.715406  117.680469  165.381893\n",
       "742 2019-05-03  140.978180  117.425643  164.974818\n",
       "743 2019-05-04  141.284170  117.484019  165.298030"
      ]
     },
     "execution_count": 37,
     "metadata": {},
     "output_type": "execute_result"
    }
   ],
   "source": [
    "# Python\n",
    "forecast = m.predict(future)\n",
    "forecast[['ds', 'yhat', 'yhat_lower', 'yhat_upper']].tail()"
   ]
  },
  {
   "cell_type": "code",
   "execution_count": 38,
   "metadata": {},
   "outputs": [
    {
     "data": {
      "image/png": "[encoded data removed]",
      "text/plain": [
       "<Figure size 720x432 with 1 Axes>"
      ]
     },
     "metadata": {},
     "output_type": "display_data"
    }
   ],
   "source": [
    "# Python\n",
    "fig1 = m.plot(forecast)"
   ]
  },
  {
   "cell_type": "code",
   "execution_count": 39,
   "metadata": {},
   "outputs": [
    {
     "data": {
      "image/png": "[encoded data removed]",
      "text/plain": [
       "<Figure size 648x432 with 2 Axes>"
      ]
     },
     "metadata": {},
     "output_type": "display_data"
    }
   ],
   "source": [
    "fig2 = m.plot_components(forecast)"
   ]
  },
  {
   "cell_type": "markdown",
   "metadata": {},
   "source": [
    "## Plota os Dados Observados e Previstos"
   ]
  },
  {
   "cell_type": "markdown",
   "metadata": {
    "collapsed": true
   },
   "source": [
    "### preparando a saida para plotar"
   ]
  },
  {
   "cell_type": "code",
   "execution_count": null,
   "metadata": {},
   "outputs": [],
   "source": [
    "# a reta de regressao\n",
    "a = olm.coef_[0]\n",
    "b = olm.intercept_\n",
    "print(' y = {0} * x + {1}'.format(a, b))"
   ]
  },
  {
   "cell_type": "code",
   "execution_count": null,
   "metadata": {},
   "outputs": [],
   "source": [
    "x1 = 366 * 4\n",
    "y1 = 0.04498845398456564 * x1 + 1.9455974368639257\n",
    "y1"
   ]
  },
  {
   "cell_type": "code",
   "execution_count": null,
   "metadata": {},
   "outputs": [],
   "source": [
    "matplotlib.style.use(\"ggplot\")\n",
    "plt.figure(figsize=(15,8))\n",
    "\n",
    "# Plot both data sets\n",
    "plt.plot(X, y, color='blue',\n",
    "         linewidth=1)\n",
    "plt.plot(X, olm.predict(X), color='green',\n",
    "         linewidth=1)\n",
    "\n",
    "# Add decorations\n",
    "plt.title(\"Açude de Boqueirão - 2017 (Depois da Recarga do São Francisco)\")\n",
    "plt.xlabel(\"Dia\")\n",
    "plt.ylabel(\"Volume (%)\")\n",
    "plt.legend([\"Atual\", \"Previsto\",], loc=\"lower right\")\n",
    "print('reta de regressão')\n",
    "print(' y = {0} * x + {1}'.format(a, b))\n",
    "plt.show()"
   ]
  },
  {
   "cell_type": "code",
   "execution_count": null,
   "metadata": {},
   "outputs": [],
   "source": [
    "list(olm.predict(X))[:3]"
   ]
  },
  {
   "cell_type": "code",
   "execution_count": null,
   "metadata": {},
   "outputs": [],
   "source": [
    "import numpy as np"
   ]
  },
  {
   "cell_type": "code",
   "execution_count": null,
   "metadata": {},
   "outputs": [],
   "source": [
    "numero_de_dias_observados"
   ]
  },
  {
   "cell_type": "code",
   "execution_count": null,
   "metadata": {},
   "outputs": [],
   "source": [
    "dados3meses = np.array(numero_de_dias_observados + 90)\n",
    "dados3meses"
   ]
  },
  {
   "cell_type": "code",
   "execution_count": null,
   "metadata": {},
   "outputs": [],
   "source": [
    "olm.predict(dados3meses.reshape(-1, 1))[0]"
   ]
  },
  {
   "cell_type": "code",
   "execution_count": null,
   "metadata": {},
   "outputs": [],
   "source": [
    "# predicao para 1 ano\n",
    "dados = np.array(numero_de_dias_observados + 365).reshape(-1, 1)\n",
    "pred = olm.predict(dados)[0] \n",
    "print (\"Volume Boqueirão depois de um ano = %6.2f %%\" % (pred))"
   ]
  },
  {
   "cell_type": "code",
   "execution_count": null,
   "metadata": {},
   "outputs": [],
   "source": [
    "# predicao para 2 anos\n",
    "dados = np.array((numero_de_dias_observados+365)*2).reshape(1, -1)\n",
    "pred = olm.predict(dados)[0]  \n",
    "\n",
    "print (\"Volume Boqueirão depois de dois anos = %6.2f %%\" % (pred))"
   ]
  },
  {
   "cell_type": "code",
   "execution_count": null,
   "metadata": {},
   "outputs": [],
   "source": [
    "numero_de_dias_observados "
   ]
  },
  {
   "cell_type": "code",
   "execution_count": null,
   "metadata": {},
   "outputs": [],
   "source": [
    "# predicao até verter água - sangrar (100%) - Capacidade Máxima do Açude\n",
    "ano=2018\n",
    "dados = np.array((numero_de_dias_observados)).reshape(1, -1)\n",
    "pred = olm.predict(dados)[0]\n",
    "print (\"Volume Boqueirão: Ano %d -> %-5.2f%%\" % \n",
    "       (ano,pred))\n",
    "dia = 1\n",
    "while (True):\n",
    "    x = np.array([(numero_de_dias_observados + dia)]).reshape(1, -1)\n",
    "    pred = olm.predict(x)[0]  \n",
    "    if pred >= 100:\n",
    "        break\n",
    "    if dia % 365 == 0:\n",
    "        ano = ano +  1\n",
    "        print (\"Volume Boqueirão: Ano %d -> %-5.2f%%\" % (ano,pred))\n",
    "    dia = dia + 1\n",
    "print (\"Volume Boqueirão: Ano %d -> %-5.2f%%\" % (ano,pred))"
   ]
  },
  {
   "cell_type": "markdown",
   "metadata": {},
   "source": [
    "### Com os dados de recarga do São Francisco e dados de chuva, representados pelo Volume diário, <br /> O Açude de Boqueirão encherá em 4 anos (2022)"
   ]
  },
  {
   "cell_type": "markdown",
   "metadata": {},
   "source": [
    "---"
   ]
  }
 ],
 "metadata": {
  "anaconda-cloud": {},
  "kernelspec": {
   "display_name": "Python 3",
   "language": "python",
   "name": "python3"
  },
  "language_info": {
   "codemirror_mode": {
    "name": "ipython",
    "version": 3
   },
   "file_extension": ".py",
   "mimetype": "text/x-python",
   "name": "python",
   "nbconvert_exporter": "python",
   "pygments_lexer": "ipython3",
   "version": "3.8.5"
  }
 },
 "nbformat": 4,
 "nbformat_minor": 1
}
