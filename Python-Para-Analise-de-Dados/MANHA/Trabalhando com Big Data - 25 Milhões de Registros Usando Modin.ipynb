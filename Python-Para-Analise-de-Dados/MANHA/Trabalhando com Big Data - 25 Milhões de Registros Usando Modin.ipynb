{
 "cells": [
  {
   "cell_type": "markdown",
   "id": "e6e5a5c3",
   "metadata": {},
   "source": [
    "## Trabalhando com Big Data - 25 Milhões de Registros - Usando Modin\n",
    "fonte: https://grouplens.org/datasets/movielens/"
   ]
  },
  {
   "cell_type": "code",
   "execution_count": 1,
   "id": "0c79152a",
   "metadata": {},
   "outputs": [],
   "source": [
    "#import pandas as pd"
   ]
  },
  {
   "cell_type": "markdown",
   "id": "9b50be43",
   "metadata": {},
   "source": [
    "## Scale your pandas workflows by changing one line of code <br>\n",
    "https://github.com/modin-project/modin"
   ]
  },
  {
   "cell_type": "code",
   "execution_count": 2,
   "id": "9620792d",
   "metadata": {},
   "outputs": [],
   "source": [
    "# pip install modin\n",
    "# conda install -c conda-forge modin-all"
   ]
  },
  {
   "cell_type": "code",
   "execution_count": 3,
   "id": "939a280c",
   "metadata": {},
   "outputs": [],
   "source": [
    "# import pandas as pd\n",
    "\n",
    "from distributed import Client\n",
    "client = Client(n_workers=6)\n",
    "# Modin will connect to the Dask Client\n",
    "import modin.pandas as pd\n",
    "\n",
    "\n",
    "#import modin.pandas as pd\n",
    "#from dask.distributed import Client\n",
    "\n",
    "#client = Client()"
   ]
  },
  {
   "cell_type": "code",
   "execution_count": 4,
   "id": "cbbb0840",
   "metadata": {},
   "outputs": [
    {
     "name": "stdout",
     "output_type": "stream",
     "text": [
      "/Users/valencar/Dropbox/AULAS-REMOTAS/Alunos-UEPB-TopicosEspeciaisEmBancoDeDados/Python-Para-Analise-de-Dados/MANHA\r\n"
     ]
    }
   ],
   "source": [
    "!pwd"
   ]
  },
  {
   "cell_type": "code",
   "execution_count": 5,
   "id": "04c8e76d",
   "metadata": {},
   "outputs": [
    {
     "name": "stdout",
     "output_type": "stream",
     "text": [
      "total 4645512\r\n",
      "8852112067 drwxr-xr-x@ 15 valencar  staff   480B Feb  1 18:51 \u001b[34m.\u001b[m\u001b[m\r\n",
      "8753341664 drwxr-xr-x@ 31 valencar  staff   992B Dec 21 05:24 \u001b[34m..\u001b[m\u001b[m\r\n",
      "8852135013 -rw-r--r--@  1 valencar  staff   6.0K Dec 21 16:32 .DS_Store\r\n",
      "8852112072 -rw-r--r--@  1 valencar  staff    10K Oct 17  2016 README.txt\r\n",
      "8852115885 -rw-r--r--@  1 valencar  staff   1.1M Dec 20 17:50 filmes-ratings.csv\r\n",
      "8852133601 -rw-r--r--@  1 valencar  staff    46K Dec 20 21:38 filmes2.csv\r\n",
      "8859960005 -rw-r-----@  1 valencar  staff   1.1G Dec 20 22:20 filmes4.csv\r\n",
      "8852142504 -rw-r--r--@  1 valencar  staff   287M Dec 21 05:20 filmes4.csv.zip\r\n",
      "8852112073 -rw-r--r--@  1 valencar  staff   309M Oct 17  2016 genome-scores.csv\r\n",
      "8852112070 -rw-r--r--@  1 valencar  staff    18K Oct 17  2016 genome-tags.csv\r\n",
      "8852112068 -rw-r--r--@  1 valencar  staff   557K Oct 17  2016 links.csv\r\n",
      "8852445227 -rw-r--r--@  1 valencar  staff   2.3K Dec 24 23:22 ml-20m.sql\r\n",
      "8852112074 -rw-r--r--@  1 valencar  staff   1.3M Mar 31  2015 movies.csv\r\n",
      "8852112071 -rw-r--r--@  1 valencar  staff   509M Mar 31  2015 ratings.csv\r\n",
      "8852112069 -rw-r--r--@  1 valencar  staff    16M Mar 31  2015 tags.csv\r\n"
     ]
    }
   ],
   "source": [
    "!ls -ilah /Users/valencar/Dropbox/AULAS-REMOTAS/BD-ESTATISTICA-MANHA/datasets/ml-20m"
   ]
  },
  {
   "cell_type": "code",
   "execution_count": 6,
   "id": "e66d80bb",
   "metadata": {},
   "outputs": [
    {
     "name": "stdout",
     "output_type": "stream",
     "text": [
      "movieId,title,genres\r",
      "\r\n",
      "1,Toy Story (1995),Adventure|Animation|Children|Comedy|Fantasy\r",
      "\r\n",
      "2,Jumanji (1995),Adventure|Children|Fantasy\r",
      "\r\n",
      "3,Grumpier Old Men (1995),Comedy|Romance\r",
      "\r\n",
      "4,Waiting to Exhale (1995),Comedy|Drama|Romance\r",
      "\r\n",
      "5,Father of the Bride Part II (1995),Comedy\r",
      "\r\n",
      "6,Heat (1995),Action|Crime|Thriller\r",
      "\r\n",
      "7,Sabrina (1995),Comedy|Romance\r",
      "\r\n",
      "8,Tom and Huck (1995),Adventure|Children\r",
      "\r\n",
      "9,Sudden Death (1995),Action\r",
      "\r\n"
     ]
    }
   ],
   "source": [
    "!head /Users/valencar/Dropbox/AULAS-REMOTAS/BD-ESTATISTICA-MANHA/datasets/ml-20m/movies.csv"
   ]
  },
  {
   "cell_type": "code",
   "execution_count": 7,
   "id": "20af5c7c",
   "metadata": {},
   "outputs": [],
   "source": [
    "#!unzip /Users/valencar/Dropbox/AULAS-REMOTAS/BD-ESTATISTICA-MANHA/datasets/ml-20m/filmes4.csv.zip "
   ]
  },
  {
   "cell_type": "code",
   "execution_count": 8,
   "id": "6319ebab",
   "metadata": {},
   "outputs": [],
   "source": [
    "#!mv filmes4.csv /Users/valencar/Dropbox/AULAS-REMOTAS/BD-ESTATISTICA-MANHA/datasets/ml-20m/"
   ]
  },
  {
   "cell_type": "code",
   "execution_count": 9,
   "id": "55781c80",
   "metadata": {},
   "outputs": [
    {
     "data": {
      "text/plain": [
       "'/Users/valencar/Dropbox/AULAS-REMOTAS/BD-ESTATISTICA-MANHA/datasets/ml-20m/ratings.csv'"
      ]
     },
     "execution_count": 9,
     "metadata": {},
     "output_type": "execute_result"
    }
   ],
   "source": [
    "url = '/Users/valencar/Dropbox/AULAS-REMOTAS/BD-ESTATISTICA-MANHA/datasets/ml-20m' + '/' + 'ratings.csv'\n",
    "url"
   ]
  },
  {
   "cell_type": "code",
   "execution_count": 10,
   "id": "ea665d6f",
   "metadata": {
    "scrolled": true
   },
   "outputs": [
    {
     "name": "stdout",
     "output_type": "stream",
     "text": [
      "CPU times: user 3 µs, sys: 1 µs, total: 4 µs\n",
      "Wall time: 6.91 µs\n"
     ]
    },
    {
     "name": "stderr",
     "output_type": "stream",
     "text": [
      "FutureWarning: pandas.Int64Index is deprecated and will be removed from pandas in a future version. Use pandas.Index with the appropriate dtype instead.\n",
      "FutureWarning: pandas.Float64Index is deprecated and will be removed from pandas in a future version. Use pandas.Index with the appropriate dtype instead.\n",
      "FutureWarning: pandas.UInt64Index is deprecated and will be removed from pandas in a future version. Use pandas.Index with the appropriate dtype instead.\n"
     ]
    },
    {
     "name": "stdout",
     "output_type": "stream",
     "text": [
      "total de registros: 20,000,263\n"
     ]
    }
   ],
   "source": [
    "%time\n",
    "\n",
    "from dask import dataframe as dd\n",
    "\n",
    "\n",
    "dfratings = dd.read_csv(url)\n",
    "print('total de registros: {:,d}'.format(len(dfratings)))"
   ]
  },
  {
   "cell_type": "code",
   "execution_count": 11,
   "id": "0c92db79",
   "metadata": {},
   "outputs": [
    {
     "data": {
      "text/html": [
       "<div>\n",
       "<style scoped>\n",
       "    .dataframe tbody tr th:only-of-type {\n",
       "        vertical-align: middle;\n",
       "    }\n",
       "\n",
       "    .dataframe tbody tr th {\n",
       "        vertical-align: top;\n",
       "    }\n",
       "\n",
       "    .dataframe thead th {\n",
       "        text-align: right;\n",
       "    }\n",
       "</style>\n",
       "<table border=\"1\" class=\"dataframe\">\n",
       "  <thead>\n",
       "    <tr style=\"text-align: right;\">\n",
       "      <th></th>\n",
       "      <th>userId</th>\n",
       "      <th>movieId</th>\n",
       "      <th>rating</th>\n",
       "      <th>timestamp</th>\n",
       "    </tr>\n",
       "  </thead>\n",
       "  <tbody>\n",
       "    <tr>\n",
       "      <th>0</th>\n",
       "      <td>1</td>\n",
       "      <td>2</td>\n",
       "      <td>3.5</td>\n",
       "      <td>1112486027</td>\n",
       "    </tr>\n",
       "    <tr>\n",
       "      <th>1</th>\n",
       "      <td>1</td>\n",
       "      <td>29</td>\n",
       "      <td>3.5</td>\n",
       "      <td>1112484676</td>\n",
       "    </tr>\n",
       "    <tr>\n",
       "      <th>2</th>\n",
       "      <td>1</td>\n",
       "      <td>32</td>\n",
       "      <td>3.5</td>\n",
       "      <td>1112484819</td>\n",
       "    </tr>\n",
       "    <tr>\n",
       "      <th>3</th>\n",
       "      <td>1</td>\n",
       "      <td>47</td>\n",
       "      <td>3.5</td>\n",
       "      <td>1112484727</td>\n",
       "    </tr>\n",
       "    <tr>\n",
       "      <th>4</th>\n",
       "      <td>1</td>\n",
       "      <td>50</td>\n",
       "      <td>3.5</td>\n",
       "      <td>1112484580</td>\n",
       "    </tr>\n",
       "  </tbody>\n",
       "</table>\n",
       "</div>"
      ],
      "text/plain": [
       "   userId  movieId  rating   timestamp\n",
       "0       1        2     3.5  1112486027\n",
       "1       1       29     3.5  1112484676\n",
       "2       1       32     3.5  1112484819\n",
       "3       1       47     3.5  1112484727\n",
       "4       1       50     3.5  1112484580"
      ]
     },
     "execution_count": 11,
     "metadata": {},
     "output_type": "execute_result"
    }
   ],
   "source": [
    "dfratings.head()"
   ]
  },
  {
   "cell_type": "code",
   "execution_count": 12,
   "id": "69a9076f",
   "metadata": {},
   "outputs": [
    {
     "data": {
      "text/plain": [
       "'/Users/valencar/Dropbox/AULAS-REMOTAS/BD-ESTATISTICA-MANHA/datasets/ml-20m/movies.csv'"
      ]
     },
     "execution_count": 12,
     "metadata": {},
     "output_type": "execute_result"
    }
   ],
   "source": [
    "url = '/Users/valencar/Dropbox/AULAS-REMOTAS/BD-ESTATISTICA-MANHA/datasets/ml-20m' + '/' + 'movies.csv'\n",
    "url"
   ]
  },
  {
   "cell_type": "code",
   "execution_count": 13,
   "id": "4ce92b16",
   "metadata": {},
   "outputs": [
    {
     "name": "stdout",
     "output_type": "stream",
     "text": [
      "total de registros: 27,278\n",
      "CPU times: user 17.5 ms, sys: 4.2 ms, total: 21.7 ms\n",
      "Wall time: 76 ms\n"
     ]
    }
   ],
   "source": [
    "%%time\n",
    "\n",
    "dfmovies = dd.read_csv(url)\n",
    "print('total de registros: {:,d}'.format(len(dfmovies)))"
   ]
  },
  {
   "cell_type": "code",
   "execution_count": 14,
   "id": "63dd793a",
   "metadata": {},
   "outputs": [
    {
     "data": {
      "text/html": [
       "<div>\n",
       "<style scoped>\n",
       "    .dataframe tbody tr th:only-of-type {\n",
       "        vertical-align: middle;\n",
       "    }\n",
       "\n",
       "    .dataframe tbody tr th {\n",
       "        vertical-align: top;\n",
       "    }\n",
       "\n",
       "    .dataframe thead th {\n",
       "        text-align: right;\n",
       "    }\n",
       "</style>\n",
       "<table border=\"1\" class=\"dataframe\">\n",
       "  <thead>\n",
       "    <tr style=\"text-align: right;\">\n",
       "      <th></th>\n",
       "      <th>movieId</th>\n",
       "      <th>title</th>\n",
       "      <th>genres</th>\n",
       "    </tr>\n",
       "  </thead>\n",
       "  <tbody>\n",
       "    <tr>\n",
       "      <th>0</th>\n",
       "      <td>1</td>\n",
       "      <td>Toy Story (1995)</td>\n",
       "      <td>Adventure|Animation|Children|Comedy|Fantasy</td>\n",
       "    </tr>\n",
       "    <tr>\n",
       "      <th>1</th>\n",
       "      <td>2</td>\n",
       "      <td>Jumanji (1995)</td>\n",
       "      <td>Adventure|Children|Fantasy</td>\n",
       "    </tr>\n",
       "    <tr>\n",
       "      <th>2</th>\n",
       "      <td>3</td>\n",
       "      <td>Grumpier Old Men (1995)</td>\n",
       "      <td>Comedy|Romance</td>\n",
       "    </tr>\n",
       "    <tr>\n",
       "      <th>3</th>\n",
       "      <td>4</td>\n",
       "      <td>Waiting to Exhale (1995)</td>\n",
       "      <td>Comedy|Drama|Romance</td>\n",
       "    </tr>\n",
       "    <tr>\n",
       "      <th>4</th>\n",
       "      <td>5</td>\n",
       "      <td>Father of the Bride Part II (1995)</td>\n",
       "      <td>Comedy</td>\n",
       "    </tr>\n",
       "  </tbody>\n",
       "</table>\n",
       "</div>"
      ],
      "text/plain": [
       "   movieId                               title  \\\n",
       "0        1                    Toy Story (1995)   \n",
       "1        2                      Jumanji (1995)   \n",
       "2        3             Grumpier Old Men (1995)   \n",
       "3        4            Waiting to Exhale (1995)   \n",
       "4        5  Father of the Bride Part II (1995)   \n",
       "\n",
       "                                        genres  \n",
       "0  Adventure|Animation|Children|Comedy|Fantasy  \n",
       "1                   Adventure|Children|Fantasy  \n",
       "2                               Comedy|Romance  \n",
       "3                         Comedy|Drama|Romance  \n",
       "4                                       Comedy  "
      ]
     },
     "execution_count": 14,
     "metadata": {},
     "output_type": "execute_result"
    }
   ],
   "source": [
    "dfmovies.head()"
   ]
  },
  {
   "cell_type": "code",
   "execution_count": 15,
   "id": "459bf0a0",
   "metadata": {},
   "outputs": [
    {
     "data": {
      "text/html": [
       "<div>\n",
       "<style scoped>\n",
       "    .dataframe tbody tr th:only-of-type {\n",
       "        vertical-align: middle;\n",
       "    }\n",
       "\n",
       "    .dataframe tbody tr th {\n",
       "        vertical-align: top;\n",
       "    }\n",
       "\n",
       "    .dataframe thead th {\n",
       "        text-align: right;\n",
       "    }\n",
       "</style>\n",
       "<table border=\"1\" class=\"dataframe\">\n",
       "  <thead>\n",
       "    <tr style=\"text-align: right;\">\n",
       "      <th></th>\n",
       "      <th>userId</th>\n",
       "      <th>movieId</th>\n",
       "      <th>rating</th>\n",
       "      <th>timestamp</th>\n",
       "    </tr>\n",
       "  </thead>\n",
       "  <tbody>\n",
       "    <tr>\n",
       "      <th>0</th>\n",
       "      <td>1</td>\n",
       "      <td>2</td>\n",
       "      <td>3.5</td>\n",
       "      <td>1112486027</td>\n",
       "    </tr>\n",
       "    <tr>\n",
       "      <th>1</th>\n",
       "      <td>1</td>\n",
       "      <td>29</td>\n",
       "      <td>3.5</td>\n",
       "      <td>1112484676</td>\n",
       "    </tr>\n",
       "    <tr>\n",
       "      <th>2</th>\n",
       "      <td>1</td>\n",
       "      <td>32</td>\n",
       "      <td>3.5</td>\n",
       "      <td>1112484819</td>\n",
       "    </tr>\n",
       "    <tr>\n",
       "      <th>3</th>\n",
       "      <td>1</td>\n",
       "      <td>47</td>\n",
       "      <td>3.5</td>\n",
       "      <td>1112484727</td>\n",
       "    </tr>\n",
       "    <tr>\n",
       "      <th>4</th>\n",
       "      <td>1</td>\n",
       "      <td>50</td>\n",
       "      <td>3.5</td>\n",
       "      <td>1112484580</td>\n",
       "    </tr>\n",
       "  </tbody>\n",
       "</table>\n",
       "</div>"
      ],
      "text/plain": [
       "   userId  movieId  rating   timestamp\n",
       "0       1        2     3.5  1112486027\n",
       "1       1       29     3.5  1112484676\n",
       "2       1       32     3.5  1112484819\n",
       "3       1       47     3.5  1112484727\n",
       "4       1       50     3.5  1112484580"
      ]
     },
     "execution_count": 15,
     "metadata": {},
     "output_type": "execute_result"
    }
   ],
   "source": [
    "dfratings.head()"
   ]
  },
  {
   "cell_type": "markdown",
   "id": "c0300e89",
   "metadata": {},
   "source": [
    "# Join - inner join"
   ]
  },
  {
   "cell_type": "code",
   "execution_count": 16,
   "id": "0faf7e28",
   "metadata": {},
   "outputs": [
    {
     "name": "stdout",
     "output_type": "stream",
     "text": [
      "total de registros: 20,000,263\n",
      "CPU times: user 360 ms, sys: 55.4 ms, total: 415 ms\n",
      "Wall time: 6.14 s\n"
     ]
    },
    {
     "data": {
      "text/html": [
       "<div>\n",
       "<style scoped>\n",
       "    .dataframe tbody tr th:only-of-type {\n",
       "        vertical-align: middle;\n",
       "    }\n",
       "\n",
       "    .dataframe tbody tr th {\n",
       "        vertical-align: top;\n",
       "    }\n",
       "\n",
       "    .dataframe thead th {\n",
       "        text-align: right;\n",
       "    }\n",
       "</style>\n",
       "<table border=\"1\" class=\"dataframe\">\n",
       "  <thead>\n",
       "    <tr style=\"text-align: right;\">\n",
       "      <th></th>\n",
       "      <th>movieId</th>\n",
       "      <th>title</th>\n",
       "      <th>genres</th>\n",
       "      <th>userId</th>\n",
       "      <th>rating</th>\n",
       "      <th>timestamp</th>\n",
       "    </tr>\n",
       "  </thead>\n",
       "  <tbody>\n",
       "    <tr>\n",
       "      <th>0</th>\n",
       "      <td>1</td>\n",
       "      <td>Toy Story (1995)</td>\n",
       "      <td>Adventure|Animation|Children|Comedy|Fantasy</td>\n",
       "      <td>3</td>\n",
       "      <td>4.0</td>\n",
       "      <td>944919407</td>\n",
       "    </tr>\n",
       "    <tr>\n",
       "      <th>1</th>\n",
       "      <td>1</td>\n",
       "      <td>Toy Story (1995)</td>\n",
       "      <td>Adventure|Animation|Children|Comedy|Fantasy</td>\n",
       "      <td>6</td>\n",
       "      <td>5.0</td>\n",
       "      <td>858275452</td>\n",
       "    </tr>\n",
       "    <tr>\n",
       "      <th>2</th>\n",
       "      <td>1</td>\n",
       "      <td>Toy Story (1995)</td>\n",
       "      <td>Adventure|Animation|Children|Comedy|Fantasy</td>\n",
       "      <td>8</td>\n",
       "      <td>4.0</td>\n",
       "      <td>833981871</td>\n",
       "    </tr>\n",
       "    <tr>\n",
       "      <th>3</th>\n",
       "      <td>1</td>\n",
       "      <td>Toy Story (1995)</td>\n",
       "      <td>Adventure|Animation|Children|Comedy|Fantasy</td>\n",
       "      <td>10</td>\n",
       "      <td>4.0</td>\n",
       "      <td>943497887</td>\n",
       "    </tr>\n",
       "    <tr>\n",
       "      <th>4</th>\n",
       "      <td>1</td>\n",
       "      <td>Toy Story (1995)</td>\n",
       "      <td>Adventure|Animation|Children|Comedy|Fantasy</td>\n",
       "      <td>11</td>\n",
       "      <td>4.5</td>\n",
       "      <td>1230858821</td>\n",
       "    </tr>\n",
       "  </tbody>\n",
       "</table>\n",
       "</div>"
      ],
      "text/plain": [
       "   movieId             title                                       genres  \\\n",
       "0        1  Toy Story (1995)  Adventure|Animation|Children|Comedy|Fantasy   \n",
       "1        1  Toy Story (1995)  Adventure|Animation|Children|Comedy|Fantasy   \n",
       "2        1  Toy Story (1995)  Adventure|Animation|Children|Comedy|Fantasy   \n",
       "3        1  Toy Story (1995)  Adventure|Animation|Children|Comedy|Fantasy   \n",
       "4        1  Toy Story (1995)  Adventure|Animation|Children|Comedy|Fantasy   \n",
       "\n",
       "   userId  rating   timestamp  \n",
       "0       3     4.0   944919407  \n",
       "1       6     5.0   858275452  \n",
       "2       8     4.0   833981871  \n",
       "3      10     4.0   943497887  \n",
       "4      11     4.5  1230858821  "
      ]
     },
     "execution_count": 16,
     "metadata": {},
     "output_type": "execute_result"
    }
   ],
   "source": [
    "%%time\n",
    "\n",
    "dffilmes =  dd.merge(dfmovies, dfratings, left_on='movieId', right_on='movieId')\n",
    "print('total de registros: {:,d}'.format(len(dffilmes)))\n",
    "dffilmes.head()"
   ]
  },
  {
   "cell_type": "code",
   "execution_count": 17,
   "id": "5af9845c",
   "metadata": {},
   "outputs": [
    {
     "name": "stdout",
     "output_type": "stream",
     "text": [
      "<class 'dask.dataframe.core.DataFrame'>\n",
      "Columns: 6 entries, movieId to timestamp\n",
      "dtypes: object(2), float64(1), int64(3)"
     ]
    }
   ],
   "source": [
    "dffilmes.info()"
   ]
  },
  {
   "cell_type": "code",
   "execution_count": 18,
   "id": "c5204593",
   "metadata": {},
   "outputs": [
    {
     "name": "stdout",
     "output_type": "stream",
     "text": [
      "CPU times: user 7.23 s, sys: 2.41 s, total: 9.64 s\n",
      "Wall time: 16.2 s\n"
     ]
    },
    {
     "data": {
      "text/html": [
       "<div>\n",
       "<style scoped>\n",
       "    .dataframe tbody tr th:only-of-type {\n",
       "        vertical-align: middle;\n",
       "    }\n",
       "\n",
       "    .dataframe tbody tr th {\n",
       "        vertical-align: top;\n",
       "    }\n",
       "\n",
       "    .dataframe thead th {\n",
       "        text-align: right;\n",
       "    }\n",
       "</style>\n",
       "<table border=\"1\" class=\"dataframe\">\n",
       "  <thead>\n",
       "    <tr style=\"text-align: right;\">\n",
       "      <th></th>\n",
       "      <th>movieId</th>\n",
       "      <th>title</th>\n",
       "      <th>genres</th>\n",
       "      <th>userId</th>\n",
       "      <th>rating</th>\n",
       "      <th>timestamp</th>\n",
       "    </tr>\n",
       "  </thead>\n",
       "  <tbody>\n",
       "    <tr>\n",
       "      <th>510544</th>\n",
       "      <td>608</td>\n",
       "      <td>Fargo (1996)</td>\n",
       "      <td>Comedy|Crime|Drama|Thriller</td>\n",
       "      <td>64895</td>\n",
       "      <td>5.0</td>\n",
       "      <td>835784283</td>\n",
       "    </tr>\n",
       "    <tr>\n",
       "      <th>1695061</th>\n",
       "      <td>3996</td>\n",
       "      <td>Crouching Tiger, Hidden Dragon (Wo hu cang lon...</td>\n",
       "      <td>Action|Drama|Romance</td>\n",
       "      <td>20314</td>\n",
       "      <td>5.0</td>\n",
       "      <td>1072020681</td>\n",
       "    </tr>\n",
       "    <tr>\n",
       "      <th>869849</th>\n",
       "      <td>1285</td>\n",
       "      <td>Heathers (1989)</td>\n",
       "      <td>Comedy</td>\n",
       "      <td>82262</td>\n",
       "      <td>5.0</td>\n",
       "      <td>1085422722</td>\n",
       "    </tr>\n",
       "    <tr>\n",
       "      <th>1695071</th>\n",
       "      <td>3996</td>\n",
       "      <td>Crouching Tiger, Hidden Dragon (Wo hu cang lon...</td>\n",
       "      <td>Action|Drama|Romance</td>\n",
       "      <td>20342</td>\n",
       "      <td>5.0</td>\n",
       "      <td>983922370</td>\n",
       "    </tr>\n",
       "    <tr>\n",
       "      <th>1695070</th>\n",
       "      <td>3996</td>\n",
       "      <td>Crouching Tiger, Hidden Dragon (Wo hu cang lon...</td>\n",
       "      <td>Action|Drama|Romance</td>\n",
       "      <td>20340</td>\n",
       "      <td>5.0</td>\n",
       "      <td>1375431534</td>\n",
       "    </tr>\n",
       "    <tr>\n",
       "      <th>1695068</th>\n",
       "      <td>3996</td>\n",
       "      <td>Crouching Tiger, Hidden Dragon (Wo hu cang lon...</td>\n",
       "      <td>Action|Drama|Romance</td>\n",
       "      <td>20332</td>\n",
       "      <td>5.0</td>\n",
       "      <td>1234473138</td>\n",
       "    </tr>\n",
       "    <tr>\n",
       "      <th>1695067</th>\n",
       "      <td>3996</td>\n",
       "      <td>Crouching Tiger, Hidden Dragon (Wo hu cang lon...</td>\n",
       "      <td>Action|Drama|Romance</td>\n",
       "      <td>20331</td>\n",
       "      <td>5.0</td>\n",
       "      <td>1010804653</td>\n",
       "    </tr>\n",
       "    <tr>\n",
       "      <th>1965718</th>\n",
       "      <td>6281</td>\n",
       "      <td>Phone Booth (2002)</td>\n",
       "      <td>Drama|Thriller</td>\n",
       "      <td>40292</td>\n",
       "      <td>5.0</td>\n",
       "      <td>1074444269</td>\n",
       "    </tr>\n",
       "    <tr>\n",
       "      <th>1695063</th>\n",
       "      <td>3996</td>\n",
       "      <td>Crouching Tiger, Hidden Dragon (Wo hu cang lon...</td>\n",
       "      <td>Action|Drama|Romance</td>\n",
       "      <td>20322</td>\n",
       "      <td>5.0</td>\n",
       "      <td>1224530134</td>\n",
       "    </tr>\n",
       "    <tr>\n",
       "      <th>1971261</th>\n",
       "      <td>6377</td>\n",
       "      <td>Finding Nemo (2003)</td>\n",
       "      <td>Adventure|Animation|Children|Comedy</td>\n",
       "      <td>51113</td>\n",
       "      <td>5.0</td>\n",
       "      <td>1207345026</td>\n",
       "    </tr>\n",
       "    <tr>\n",
       "      <th>1114780</th>\n",
       "      <td>1968</td>\n",
       "      <td>Breakfast Club, The (1985)</td>\n",
       "      <td>Comedy|Drama</td>\n",
       "      <td>36009</td>\n",
       "      <td>5.0</td>\n",
       "      <td>1025618746</td>\n",
       "    </tr>\n",
       "    <tr>\n",
       "      <th>1965714</th>\n",
       "      <td>6281</td>\n",
       "      <td>Phone Booth (2002)</td>\n",
       "      <td>Drama|Thriller</td>\n",
       "      <td>40174</td>\n",
       "      <td>5.0</td>\n",
       "      <td>1253136560</td>\n",
       "    </tr>\n",
       "    <tr>\n",
       "      <th>1982264</th>\n",
       "      <td>7256</td>\n",
       "      <td>Touching the Void (2003)</td>\n",
       "      <td>Adventure|Documentary</td>\n",
       "      <td>100937</td>\n",
       "      <td>5.0</td>\n",
       "      <td>1148260057</td>\n",
       "    </tr>\n",
       "    <tr>\n",
       "      <th>869843</th>\n",
       "      <td>1285</td>\n",
       "      <td>Heathers (1989)</td>\n",
       "      <td>Comedy</td>\n",
       "      <td>82211</td>\n",
       "      <td>5.0</td>\n",
       "      <td>975728618</td>\n",
       "    </tr>\n",
       "    <tr>\n",
       "      <th>869842</th>\n",
       "      <td>1285</td>\n",
       "      <td>Heathers (1989)</td>\n",
       "      <td>Comedy</td>\n",
       "      <td>82161</td>\n",
       "      <td>5.0</td>\n",
       "      <td>991699639</td>\n",
       "    </tr>\n",
       "    <tr>\n",
       "      <th>1114784</th>\n",
       "      <td>1968</td>\n",
       "      <td>Breakfast Club, The (1985)</td>\n",
       "      <td>Comedy|Drama</td>\n",
       "      <td>36036</td>\n",
       "      <td>5.0</td>\n",
       "      <td>1376605406</td>\n",
       "    </tr>\n",
       "    <tr>\n",
       "      <th>1114785</th>\n",
       "      <td>1968</td>\n",
       "      <td>Breakfast Club, The (1985)</td>\n",
       "      <td>Comedy|Drama</td>\n",
       "      <td>36045</td>\n",
       "      <td>5.0</td>\n",
       "      <td>1257634389</td>\n",
       "    </tr>\n",
       "    <tr>\n",
       "      <th>1695053</th>\n",
       "      <td>3996</td>\n",
       "      <td>Crouching Tiger, Hidden Dragon (Wo hu cang lon...</td>\n",
       "      <td>Action|Drama|Romance</td>\n",
       "      <td>20278</td>\n",
       "      <td>5.0</td>\n",
       "      <td>1198102644</td>\n",
       "    </tr>\n",
       "    <tr>\n",
       "      <th>1982177</th>\n",
       "      <td>7254</td>\n",
       "      <td>The Butterfly Effect (2004)</td>\n",
       "      <td>Drama|Sci-Fi|Thriller</td>\n",
       "      <td>116775</td>\n",
       "      <td>5.0</td>\n",
       "      <td>1314706620</td>\n",
       "    </tr>\n",
       "    <tr>\n",
       "      <th>1982175</th>\n",
       "      <td>7254</td>\n",
       "      <td>The Butterfly Effect (2004)</td>\n",
       "      <td>Drama|Sci-Fi|Thriller</td>\n",
       "      <td>116754</td>\n",
       "      <td>5.0</td>\n",
       "      <td>1278382615</td>\n",
       "    </tr>\n",
       "    <tr>\n",
       "      <th>869837</th>\n",
       "      <td>1285</td>\n",
       "      <td>Heathers (1989)</td>\n",
       "      <td>Comedy</td>\n",
       "      <td>82082</td>\n",
       "      <td>5.0</td>\n",
       "      <td>957652959</td>\n",
       "    </tr>\n",
       "    <tr>\n",
       "      <th>1982173</th>\n",
       "      <td>7254</td>\n",
       "      <td>The Butterfly Effect (2004)</td>\n",
       "      <td>Drama|Sci-Fi|Thriller</td>\n",
       "      <td>116706</td>\n",
       "      <td>5.0</td>\n",
       "      <td>1175821747</td>\n",
       "    </tr>\n",
       "    <tr>\n",
       "      <th>869850</th>\n",
       "      <td>1285</td>\n",
       "      <td>Heathers (1989)</td>\n",
       "      <td>Comedy</td>\n",
       "      <td>82269</td>\n",
       "      <td>5.0</td>\n",
       "      <td>1106952752</td>\n",
       "    </tr>\n",
       "    <tr>\n",
       "      <th>1695074</th>\n",
       "      <td>3996</td>\n",
       "      <td>Crouching Tiger, Hidden Dragon (Wo hu cang lon...</td>\n",
       "      <td>Action|Drama|Romance</td>\n",
       "      <td>20346</td>\n",
       "      <td>5.0</td>\n",
       "      <td>1343371607</td>\n",
       "    </tr>\n",
       "    <tr>\n",
       "      <th>1695047</th>\n",
       "      <td>3996</td>\n",
       "      <td>Crouching Tiger, Hidden Dragon (Wo hu cang lon...</td>\n",
       "      <td>Action|Drama|Romance</td>\n",
       "      <td>20261</td>\n",
       "      <td>5.0</td>\n",
       "      <td>1138245986</td>\n",
       "    </tr>\n",
       "    <tr>\n",
       "      <th>1114768</th>\n",
       "      <td>1968</td>\n",
       "      <td>Breakfast Club, The (1985)</td>\n",
       "      <td>Comedy|Drama</td>\n",
       "      <td>35956</td>\n",
       "      <td>5.0</td>\n",
       "      <td>1119390354</td>\n",
       "    </tr>\n",
       "    <tr>\n",
       "      <th>2211991</th>\n",
       "      <td>30793</td>\n",
       "      <td>Charlie and the Chocolate Factory (2005)</td>\n",
       "      <td>Adventure|Children|Comedy|Fantasy|IMAX</td>\n",
       "      <td>7116</td>\n",
       "      <td>5.0</td>\n",
       "      <td>1139540515</td>\n",
       "    </tr>\n",
       "    <tr>\n",
       "      <th>1695102</th>\n",
       "      <td>3996</td>\n",
       "      <td>Crouching Tiger, Hidden Dragon (Wo hu cang lon...</td>\n",
       "      <td>Action|Drama|Romance</td>\n",
       "      <td>20506</td>\n",
       "      <td>5.0</td>\n",
       "      <td>978362591</td>\n",
       "    </tr>\n",
       "    <tr>\n",
       "      <th>1971239</th>\n",
       "      <td>6377</td>\n",
       "      <td>Finding Nemo (2003)</td>\n",
       "      <td>Adventure|Animation|Children|Comedy</td>\n",
       "      <td>50968</td>\n",
       "      <td>5.0</td>\n",
       "      <td>1212819202</td>\n",
       "    </tr>\n",
       "    <tr>\n",
       "      <th>1982298</th>\n",
       "      <td>7256</td>\n",
       "      <td>Touching the Void (2003)</td>\n",
       "      <td>Adventure|Documentary</td>\n",
       "      <td>104102</td>\n",
       "      <td>5.0</td>\n",
       "      <td>1380804174</td>\n",
       "    </tr>\n",
       "  </tbody>\n",
       "</table>\n",
       "</div>"
      ],
      "text/plain": [
       "         movieId                                              title  \\\n",
       "510544       608                                       Fargo (1996)   \n",
       "1695061     3996  Crouching Tiger, Hidden Dragon (Wo hu cang lon...   \n",
       "869849      1285                                    Heathers (1989)   \n",
       "1695071     3996  Crouching Tiger, Hidden Dragon (Wo hu cang lon...   \n",
       "1695070     3996  Crouching Tiger, Hidden Dragon (Wo hu cang lon...   \n",
       "1695068     3996  Crouching Tiger, Hidden Dragon (Wo hu cang lon...   \n",
       "1695067     3996  Crouching Tiger, Hidden Dragon (Wo hu cang lon...   \n",
       "1965718     6281                                 Phone Booth (2002)   \n",
       "1695063     3996  Crouching Tiger, Hidden Dragon (Wo hu cang lon...   \n",
       "1971261     6377                                Finding Nemo (2003)   \n",
       "1114780     1968                         Breakfast Club, The (1985)   \n",
       "1965714     6281                                 Phone Booth (2002)   \n",
       "1982264     7256                           Touching the Void (2003)   \n",
       "869843      1285                                    Heathers (1989)   \n",
       "869842      1285                                    Heathers (1989)   \n",
       "1114784     1968                         Breakfast Club, The (1985)   \n",
       "1114785     1968                         Breakfast Club, The (1985)   \n",
       "1695053     3996  Crouching Tiger, Hidden Dragon (Wo hu cang lon...   \n",
       "1982177     7254                        The Butterfly Effect (2004)   \n",
       "1982175     7254                        The Butterfly Effect (2004)   \n",
       "869837      1285                                    Heathers (1989)   \n",
       "1982173     7254                        The Butterfly Effect (2004)   \n",
       "869850      1285                                    Heathers (1989)   \n",
       "1695074     3996  Crouching Tiger, Hidden Dragon (Wo hu cang lon...   \n",
       "1695047     3996  Crouching Tiger, Hidden Dragon (Wo hu cang lon...   \n",
       "1114768     1968                         Breakfast Club, The (1985)   \n",
       "2211991    30793           Charlie and the Chocolate Factory (2005)   \n",
       "1695102     3996  Crouching Tiger, Hidden Dragon (Wo hu cang lon...   \n",
       "1971239     6377                                Finding Nemo (2003)   \n",
       "1982298     7256                           Touching the Void (2003)   \n",
       "\n",
       "                                         genres  userId  rating   timestamp  \n",
       "510544              Comedy|Crime|Drama|Thriller   64895     5.0   835784283  \n",
       "1695061                    Action|Drama|Romance   20314     5.0  1072020681  \n",
       "869849                                   Comedy   82262     5.0  1085422722  \n",
       "1695071                    Action|Drama|Romance   20342     5.0   983922370  \n",
       "1695070                    Action|Drama|Romance   20340     5.0  1375431534  \n",
       "1695068                    Action|Drama|Romance   20332     5.0  1234473138  \n",
       "1695067                    Action|Drama|Romance   20331     5.0  1010804653  \n",
       "1965718                          Drama|Thriller   40292     5.0  1074444269  \n",
       "1695063                    Action|Drama|Romance   20322     5.0  1224530134  \n",
       "1971261     Adventure|Animation|Children|Comedy   51113     5.0  1207345026  \n",
       "1114780                            Comedy|Drama   36009     5.0  1025618746  \n",
       "1965714                          Drama|Thriller   40174     5.0  1253136560  \n",
       "1982264                   Adventure|Documentary  100937     5.0  1148260057  \n",
       "869843                                   Comedy   82211     5.0   975728618  \n",
       "869842                                   Comedy   82161     5.0   991699639  \n",
       "1114784                            Comedy|Drama   36036     5.0  1376605406  \n",
       "1114785                            Comedy|Drama   36045     5.0  1257634389  \n",
       "1695053                    Action|Drama|Romance   20278     5.0  1198102644  \n",
       "1982177                   Drama|Sci-Fi|Thriller  116775     5.0  1314706620  \n",
       "1982175                   Drama|Sci-Fi|Thriller  116754     5.0  1278382615  \n",
       "869837                                   Comedy   82082     5.0   957652959  \n",
       "1982173                   Drama|Sci-Fi|Thriller  116706     5.0  1175821747  \n",
       "869850                                   Comedy   82269     5.0  1106952752  \n",
       "1695074                    Action|Drama|Romance   20346     5.0  1343371607  \n",
       "1695047                    Action|Drama|Romance   20261     5.0  1138245986  \n",
       "1114768                            Comedy|Drama   35956     5.0  1119390354  \n",
       "2211991  Adventure|Children|Comedy|Fantasy|IMAX    7116     5.0  1139540515  \n",
       "1695102                    Action|Drama|Romance   20506     5.0   978362591  \n",
       "1971239     Adventure|Animation|Children|Comedy   50968     5.0  1212819202  \n",
       "1982298                   Adventure|Documentary  104102     5.0  1380804174  "
      ]
     },
     "execution_count": 18,
     "metadata": {},
     "output_type": "execute_result"
    }
   ],
   "source": [
    "%%time\n",
    "\n",
    "dffilmes.compute().sort_values(by='rating', ascending=False)[:30] "
   ]
  },
  {
   "cell_type": "code",
   "execution_count": 19,
   "id": "4e315c84",
   "metadata": {},
   "outputs": [
    {
     "name": "stdout",
     "output_type": "stream",
     "text": [
      "total de registros: 13,088,050\n",
      "CPU times: user 824 ms, sys: 143 ms, total: 967 ms\n",
      "Wall time: 16.9 s\n"
     ]
    },
    {
     "data": {
      "text/html": [
       "<div>\n",
       "<style scoped>\n",
       "    .dataframe tbody tr th:only-of-type {\n",
       "        vertical-align: middle;\n",
       "    }\n",
       "\n",
       "    .dataframe tbody tr th {\n",
       "        vertical-align: top;\n",
       "    }\n",
       "\n",
       "    .dataframe thead th {\n",
       "        text-align: right;\n",
       "    }\n",
       "</style>\n",
       "<table border=\"1\" class=\"dataframe\">\n",
       "  <thead>\n",
       "    <tr style=\"text-align: right;\">\n",
       "      <th></th>\n",
       "      <th>movieId</th>\n",
       "      <th>title</th>\n",
       "      <th>genres</th>\n",
       "      <th>userId</th>\n",
       "      <th>rating</th>\n",
       "      <th>timestamp</th>\n",
       "    </tr>\n",
       "  </thead>\n",
       "  <tbody>\n",
       "    <tr>\n",
       "      <th>10373</th>\n",
       "      <td>4</td>\n",
       "      <td>Waiting to Exhale (1995)</td>\n",
       "      <td>Comedy|Drama|Romance</td>\n",
       "      <td>41</td>\n",
       "      <td>2.0</td>\n",
       "      <td>951694198</td>\n",
       "    </tr>\n",
       "    <tr>\n",
       "      <th>10374</th>\n",
       "      <td>4</td>\n",
       "      <td>Waiting to Exhale (1995)</td>\n",
       "      <td>Comedy|Drama|Romance</td>\n",
       "      <td>61</td>\n",
       "      <td>3.0</td>\n",
       "      <td>1197068409</td>\n",
       "    </tr>\n",
       "    <tr>\n",
       "      <th>10375</th>\n",
       "      <td>4</td>\n",
       "      <td>Waiting to Exhale (1995)</td>\n",
       "      <td>Comedy|Drama|Romance</td>\n",
       "      <td>156</td>\n",
       "      <td>3.0</td>\n",
       "      <td>1038801803</td>\n",
       "    </tr>\n",
       "    <tr>\n",
       "      <th>10376</th>\n",
       "      <td>4</td>\n",
       "      <td>Waiting to Exhale (1995)</td>\n",
       "      <td>Comedy|Drama|Romance</td>\n",
       "      <td>158</td>\n",
       "      <td>3.0</td>\n",
       "      <td>842735262</td>\n",
       "    </tr>\n",
       "    <tr>\n",
       "      <th>10377</th>\n",
       "      <td>4</td>\n",
       "      <td>Waiting to Exhale (1995)</td>\n",
       "      <td>Comedy|Drama|Romance</td>\n",
       "      <td>295</td>\n",
       "      <td>3.0</td>\n",
       "      <td>863971097</td>\n",
       "    </tr>\n",
       "  </tbody>\n",
       "</table>\n",
       "</div>"
      ],
      "text/plain": [
       "       movieId                     title                genres  userId  \\\n",
       "10373        4  Waiting to Exhale (1995)  Comedy|Drama|Romance      41   \n",
       "10374        4  Waiting to Exhale (1995)  Comedy|Drama|Romance      61   \n",
       "10375        4  Waiting to Exhale (1995)  Comedy|Drama|Romance     156   \n",
       "10376        4  Waiting to Exhale (1995)  Comedy|Drama|Romance     158   \n",
       "10377        4  Waiting to Exhale (1995)  Comedy|Drama|Romance     295   \n",
       "\n",
       "       rating   timestamp  \n",
       "10373     2.0   951694198  \n",
       "10374     3.0  1197068409  \n",
       "10375     3.0  1038801803  \n",
       "10376     3.0   842735262  \n",
       "10377     3.0   863971097  "
      ]
     },
     "execution_count": 19,
     "metadata": {},
     "output_type": "execute_result"
    }
   ],
   "source": [
    "%%time\n",
    "\n",
    "dfdrama_acao = dffilmes[ dffilmes.genres.str.contains('Drama') |  dffilmes.genres.str.contains('Action') ]\n",
    "print('total de registros: {:,d}'.format(len(dfdrama_acao)))\n",
    "dfdrama_acao.head()"
   ]
  },
  {
   "cell_type": "markdown",
   "id": "830adf67",
   "metadata": {},
   "source": [
    "## Criando colunas Genero - individuais"
   ]
  },
  {
   "cell_type": "code",
   "execution_count": 20,
   "id": "d8a3d576",
   "metadata": {},
   "outputs": [
    {
     "data": {
      "text/plain": [
       "['Comedy', 'Drama', 'Romance']"
      ]
     },
     "execution_count": 20,
     "metadata": {},
     "output_type": "execute_result"
    }
   ],
   "source": [
    "genres = 'Comedy|Drama|Romance'\n",
    "generos = genres.split('|')\n",
    "generos"
   ]
  },
  {
   "cell_type": "code",
   "execution_count": 21,
   "id": "36e5d4dd",
   "metadata": {},
   "outputs": [
    {
     "name": "stdout",
     "output_type": "stream",
     "text": [
      "Adventure|Animation|Children|Comedy|Fantasy\n",
      "['Adventure', 'Animation', 'Children', 'Comedy', 'Fantasy']\n",
      "CPU times: user 683 ms, sys: 236 ms, total: 919 ms\n",
      "Wall time: 2.28 s\n"
     ]
    }
   ],
   "source": [
    "%%time\n",
    "\n",
    "for index, row in dffilmes.iterrows(): \n",
    "    print(row['genres'])\n",
    "    generos = row['genres'].split('|')\n",
    "    print(generos)\n",
    "    break"
   ]
  },
  {
   "cell_type": "code",
   "execution_count": 22,
   "id": "7ecb6c5e",
   "metadata": {},
   "outputs": [
    {
     "name": "stdout",
     "output_type": "stream",
     "text": [
      "Adventure|Animation|Children|Comedy|Fantasy\n",
      "{'Comedy', 'Animation', 'Children', 'Adventure', 'Fantasy'}\n",
      "CPU times: user 895 ms, sys: 365 ms, total: 1.26 s\n",
      "Wall time: 2.78 s\n"
     ]
    }
   ],
   "source": [
    "%%time\n",
    "\n",
    "set_generos = set()\n",
    "\n",
    "for index, row in dffilmes.iterrows(): \n",
    "    print(row['genres'])\n",
    "    generos = row['genres'].split('|')\n",
    "    set_generos.update(generos)\n",
    "    print(set_generos)\n",
    "    break"
   ]
  },
  {
   "cell_type": "code",
   "execution_count": 23,
   "id": "a3b2388b",
   "metadata": {},
   "outputs": [
    {
     "name": "stdout",
     "output_type": "stream",
     "text": [
      "CPU times: user 11min 49s, sys: 13.9 s, total: 12min 3s\n",
      "Wall time: 12min 32s\n"
     ]
    },
    {
     "data": {
      "text/plain": [
       "['Animation',\n",
       " 'Documentary',\n",
       " 'Film-Noir',\n",
       " 'Western',\n",
       " 'Crime',\n",
       " 'Romance',\n",
       " 'Musical',\n",
       " 'Fantasy',\n",
       " 'Thriller',\n",
       " 'Children',\n",
       " 'Horror',\n",
       " 'War',\n",
       " 'Action',\n",
       " 'IMAX',\n",
       " '(no genres listed)',\n",
       " 'Comedy',\n",
       " 'Drama',\n",
       " 'Sci-Fi',\n",
       " 'Mystery',\n",
       " 'Adventure']"
      ]
     },
     "execution_count": 23,
     "metadata": {},
     "output_type": "execute_result"
    }
   ],
   "source": [
    "%%time\n",
    "\n",
    "set_generos = set()\n",
    "\n",
    "for index, row in dffilmes.iterrows(): \n",
    "    generos = row['genres'].split('|')\n",
    "    set_generos.update(generos)\n",
    "    \n",
    "generos = list(set_generos)\n",
    "generos"
   ]
  },
  {
   "cell_type": "code",
   "execution_count": 24,
   "id": "fafa9937",
   "metadata": {},
   "outputs": [
    {
     "name": "stdout",
     "output_type": "stream",
     "text": [
      "['Animation', 'Documentary', 'Film-Noir', 'Western', 'Crime', 'Romance', 'Musical', 'Fantasy', 'Thriller', 'Children', 'Horror', 'War', 'Action', 'IMAX', '(no genres listed)', 'Comedy', 'Drama', 'Sci-Fi', 'Mystery', 'Adventure'] 20\n"
     ]
    }
   ],
   "source": [
    "print(generos, len(generos))"
   ]
  },
  {
   "cell_type": "code",
   "execution_count": 25,
   "id": "939256bf",
   "metadata": {},
   "outputs": [],
   "source": [
    "# generos = ['Crime', 'Western', 'Thriller', 'War', 'Sci-Fi', 'Children', \n",
    "#             'Documentary', '(no genres listed)', 'Romance', 'Adventure', 'Mystery',\n",
    "#             'Comedy', 'IMAX', 'Animation', 'Action', 'Horror', 'Film-Noir', 'Fantasy',\n",
    "#         'Drama', 'Musical'] "
   ]
  },
  {
   "cell_type": "code",
   "execution_count": 26,
   "id": "3146aff9",
   "metadata": {},
   "outputs": [
    {
     "name": "stdout",
     "output_type": "stream",
     "text": [
      "CPU times: user 122 ms, sys: 12.8 ms, total: 135 ms\n",
      "Wall time: 1.11 s\n"
     ]
    },
    {
     "data": {
      "text/html": [
       "<div>\n",
       "<style scoped>\n",
       "    .dataframe tbody tr th:only-of-type {\n",
       "        vertical-align: middle;\n",
       "    }\n",
       "\n",
       "    .dataframe tbody tr th {\n",
       "        vertical-align: top;\n",
       "    }\n",
       "\n",
       "    .dataframe thead th {\n",
       "        text-align: right;\n",
       "    }\n",
       "</style>\n",
       "<table border=\"1\" class=\"dataframe\">\n",
       "  <thead>\n",
       "    <tr style=\"text-align: right;\">\n",
       "      <th></th>\n",
       "      <th>movieId</th>\n",
       "      <th>title</th>\n",
       "      <th>genres</th>\n",
       "      <th>userId</th>\n",
       "      <th>rating</th>\n",
       "      <th>timestamp</th>\n",
       "      <th>Animation</th>\n",
       "      <th>Documentary</th>\n",
       "      <th>Film-Noir</th>\n",
       "      <th>Western</th>\n",
       "      <th>...</th>\n",
       "      <th>Horror</th>\n",
       "      <th>War</th>\n",
       "      <th>Action</th>\n",
       "      <th>IMAX</th>\n",
       "      <th>(no genres listed)</th>\n",
       "      <th>Comedy</th>\n",
       "      <th>Drama</th>\n",
       "      <th>Sci-Fi</th>\n",
       "      <th>Mystery</th>\n",
       "      <th>Adventure</th>\n",
       "    </tr>\n",
       "  </thead>\n",
       "  <tbody>\n",
       "    <tr>\n",
       "      <th>0</th>\n",
       "      <td>1</td>\n",
       "      <td>Toy Story (1995)</td>\n",
       "      <td>Adventure|Animation|Children|Comedy|Fantasy</td>\n",
       "      <td>3</td>\n",
       "      <td>4.0</td>\n",
       "      <td>944919407</td>\n",
       "      <td>False</td>\n",
       "      <td>False</td>\n",
       "      <td>False</td>\n",
       "      <td>False</td>\n",
       "      <td>...</td>\n",
       "      <td>False</td>\n",
       "      <td>False</td>\n",
       "      <td>False</td>\n",
       "      <td>False</td>\n",
       "      <td>False</td>\n",
       "      <td>False</td>\n",
       "      <td>False</td>\n",
       "      <td>False</td>\n",
       "      <td>False</td>\n",
       "      <td>False</td>\n",
       "    </tr>\n",
       "    <tr>\n",
       "      <th>1</th>\n",
       "      <td>1</td>\n",
       "      <td>Toy Story (1995)</td>\n",
       "      <td>Adventure|Animation|Children|Comedy|Fantasy</td>\n",
       "      <td>6</td>\n",
       "      <td>5.0</td>\n",
       "      <td>858275452</td>\n",
       "      <td>False</td>\n",
       "      <td>False</td>\n",
       "      <td>False</td>\n",
       "      <td>False</td>\n",
       "      <td>...</td>\n",
       "      <td>False</td>\n",
       "      <td>False</td>\n",
       "      <td>False</td>\n",
       "      <td>False</td>\n",
       "      <td>False</td>\n",
       "      <td>False</td>\n",
       "      <td>False</td>\n",
       "      <td>False</td>\n",
       "      <td>False</td>\n",
       "      <td>False</td>\n",
       "    </tr>\n",
       "    <tr>\n",
       "      <th>2</th>\n",
       "      <td>1</td>\n",
       "      <td>Toy Story (1995)</td>\n",
       "      <td>Adventure|Animation|Children|Comedy|Fantasy</td>\n",
       "      <td>8</td>\n",
       "      <td>4.0</td>\n",
       "      <td>833981871</td>\n",
       "      <td>False</td>\n",
       "      <td>False</td>\n",
       "      <td>False</td>\n",
       "      <td>False</td>\n",
       "      <td>...</td>\n",
       "      <td>False</td>\n",
       "      <td>False</td>\n",
       "      <td>False</td>\n",
       "      <td>False</td>\n",
       "      <td>False</td>\n",
       "      <td>False</td>\n",
       "      <td>False</td>\n",
       "      <td>False</td>\n",
       "      <td>False</td>\n",
       "      <td>False</td>\n",
       "    </tr>\n",
       "    <tr>\n",
       "      <th>3</th>\n",
       "      <td>1</td>\n",
       "      <td>Toy Story (1995)</td>\n",
       "      <td>Adventure|Animation|Children|Comedy|Fantasy</td>\n",
       "      <td>10</td>\n",
       "      <td>4.0</td>\n",
       "      <td>943497887</td>\n",
       "      <td>False</td>\n",
       "      <td>False</td>\n",
       "      <td>False</td>\n",
       "      <td>False</td>\n",
       "      <td>...</td>\n",
       "      <td>False</td>\n",
       "      <td>False</td>\n",
       "      <td>False</td>\n",
       "      <td>False</td>\n",
       "      <td>False</td>\n",
       "      <td>False</td>\n",
       "      <td>False</td>\n",
       "      <td>False</td>\n",
       "      <td>False</td>\n",
       "      <td>False</td>\n",
       "    </tr>\n",
       "    <tr>\n",
       "      <th>4</th>\n",
       "      <td>1</td>\n",
       "      <td>Toy Story (1995)</td>\n",
       "      <td>Adventure|Animation|Children|Comedy|Fantasy</td>\n",
       "      <td>11</td>\n",
       "      <td>4.5</td>\n",
       "      <td>1230858821</td>\n",
       "      <td>False</td>\n",
       "      <td>False</td>\n",
       "      <td>False</td>\n",
       "      <td>False</td>\n",
       "      <td>...</td>\n",
       "      <td>False</td>\n",
       "      <td>False</td>\n",
       "      <td>False</td>\n",
       "      <td>False</td>\n",
       "      <td>False</td>\n",
       "      <td>False</td>\n",
       "      <td>False</td>\n",
       "      <td>False</td>\n",
       "      <td>False</td>\n",
       "      <td>False</td>\n",
       "    </tr>\n",
       "  </tbody>\n",
       "</table>\n",
       "<p>5 rows × 26 columns</p>\n",
       "</div>"
      ],
      "text/plain": [
       "   movieId             title                                       genres  \\\n",
       "0        1  Toy Story (1995)  Adventure|Animation|Children|Comedy|Fantasy   \n",
       "1        1  Toy Story (1995)  Adventure|Animation|Children|Comedy|Fantasy   \n",
       "2        1  Toy Story (1995)  Adventure|Animation|Children|Comedy|Fantasy   \n",
       "3        1  Toy Story (1995)  Adventure|Animation|Children|Comedy|Fantasy   \n",
       "4        1  Toy Story (1995)  Adventure|Animation|Children|Comedy|Fantasy   \n",
       "\n",
       "   userId  rating   timestamp  Animation  Documentary  Film-Noir  Western  \\\n",
       "0       3     4.0   944919407      False        False      False    False   \n",
       "1       6     5.0   858275452      False        False      False    False   \n",
       "2       8     4.0   833981871      False        False      False    False   \n",
       "3      10     4.0   943497887      False        False      False    False   \n",
       "4      11     4.5  1230858821      False        False      False    False   \n",
       "\n",
       "   ...  Horror    War  Action   IMAX  (no genres listed)  Comedy  Drama  \\\n",
       "0  ...   False  False   False  False               False   False  False   \n",
       "1  ...   False  False   False  False               False   False  False   \n",
       "2  ...   False  False   False  False               False   False  False   \n",
       "3  ...   False  False   False  False               False   False  False   \n",
       "4  ...   False  False   False  False               False   False  False   \n",
       "\n",
       "   Sci-Fi  Mystery  Adventure  \n",
       "0   False    False      False  \n",
       "1   False    False      False  \n",
       "2   False    False      False  \n",
       "3   False    False      False  \n",
       "4   False    False      False  \n",
       "\n",
       "[5 rows x 26 columns]"
      ]
     },
     "execution_count": 26,
     "metadata": {},
     "output_type": "execute_result"
    }
   ],
   "source": [
    "%%time\n",
    "\n",
    "for genero in generos:\n",
    "    dffilmes[genero] = False\n",
    "    \n",
    "dffilmes.head()"
   ]
  },
  {
   "cell_type": "code",
   "execution_count": null,
   "id": "ca520796",
   "metadata": {},
   "outputs": [],
   "source": [
    "%%time \n",
    "\n",
    "for index, row in dffilmes.iterrows(): \n",
    "    generos = row['genres'].split('|')\n",
    "    for genero in generos:\n",
    "        #print(genero)\n",
    "     \n",
    "        dffilmes.compute().at[index, genero] = True\n",
    "\n",
    "        #print(dffilmes.iloc[index][genero])\n",
    "        #break\n",
    "    #break  \n",
    "    \n",
    "dffilmes.head()"
   ]
  },
  {
   "cell_type": "markdown",
   "id": "e017d719",
   "metadata": {},
   "source": [
    "CPU times: user 31min 32s, sys: 32.6 s, total: 32min 5s\n",
    "Wall time: 34min 12s"
   ]
  },
  {
   "cell_type": "code",
   "execution_count": null,
   "id": "57323d64",
   "metadata": {},
   "outputs": [],
   "source": []
  },
  {
   "cell_type": "code",
   "execution_count": null,
   "id": "62c3e976",
   "metadata": {},
   "outputs": [],
   "source": [
    "dffilmes.to_csv('filmes-2022-Modin.csv', index=False)\n",
    "!ls -ilah *.csv"
   ]
  },
  {
   "cell_type": "code",
   "execution_count": null,
   "id": "014b241f",
   "metadata": {},
   "outputs": [],
   "source": [
    "dffilmes.Action.value_counts()"
   ]
  },
  {
   "cell_type": "code",
   "execution_count": null,
   "id": "93c26830",
   "metadata": {},
   "outputs": [],
   "source": [
    "%time\n",
    "#df2 = pd.get_dummies(dfdrama_acao, columns=['genres'])\n",
    "#df2.head()"
   ]
  },
  {
   "cell_type": "code",
   "execution_count": null,
   "id": "a48dd573",
   "metadata": {},
   "outputs": [],
   "source": [
    "print(df2.columns, len(df2.columns))"
   ]
  },
  {
   "cell_type": "code",
   "execution_count": null,
   "id": "b52ac49e",
   "metadata": {},
   "outputs": [],
   "source": []
  },
  {
   "cell_type": "code",
   "execution_count": null,
   "id": "8af73194",
   "metadata": {},
   "outputs": [],
   "source": [
    "dfo = dffilmes.rating.value_counts()\n",
    "dfo"
   ]
  },
  {
   "cell_type": "code",
   "execution_count": null,
   "id": "9845c4a5",
   "metadata": {},
   "outputs": [],
   "source": [
    "type(dfo)"
   ]
  },
  {
   "cell_type": "code",
   "execution_count": null,
   "id": "e565a44a",
   "metadata": {},
   "outputs": [],
   "source": [
    "df2 = dfo.to_frame().reset_index()\n",
    "df2.columns = ['rating', 'quantidade']"
   ]
  },
  {
   "cell_type": "code",
   "execution_count": null,
   "id": "dfff14c3",
   "metadata": {},
   "outputs": [],
   "source": [
    "df2"
   ]
  },
  {
   "cell_type": "code",
   "execution_count": null,
   "id": "f1a54295",
   "metadata": {},
   "outputs": [],
   "source": [
    "df2['percent'] = df2['quantidade'] / df2['quantidade'].sum() * 100\n",
    "df2"
   ]
  },
  {
   "cell_type": "code",
   "execution_count": null,
   "id": "115b1b63",
   "metadata": {},
   "outputs": [],
   "source": [
    "# formatar a saída\n",
    "\n",
    "df3 = df2.style.format({\n",
    "    \"rating\": \"{:.1f}\",\n",
    "    \"quantidade\": \"{:,d}\",\n",
    "    \"percent\": \"{:.0f}\"\n",
    "})\n",
    "\n",
    "\n",
    "\n",
    "df3"
   ]
  },
  {
   "cell_type": "code",
   "execution_count": null,
   "id": "5495e2b6",
   "metadata": {},
   "outputs": [],
   "source": [
    "df4 = df2[ df2.percent >= 7]\n",
    "df4"
   ]
  },
  {
   "cell_type": "code",
   "execution_count": null,
   "id": "37d1618f",
   "metadata": {},
   "outputs": [],
   "source": [
    "df4.percent.sum()"
   ]
  },
  {
   "cell_type": "code",
   "execution_count": null,
   "id": "dda636bb",
   "metadata": {},
   "outputs": [],
   "source": [
    "print('{:,d}'.format(df4.quantidade.sum()))"
   ]
  },
  {
   "cell_type": "code",
   "execution_count": null,
   "id": "ad02bf97",
   "metadata": {},
   "outputs": [],
   "source": [
    "df5 = df2[ df2.percent < 7]\n",
    "df5"
   ]
  },
  {
   "cell_type": "code",
   "execution_count": null,
   "id": "9b02d75a",
   "metadata": {},
   "outputs": [],
   "source": [
    "print('{:,d}'.format(df5.quantidade.sum()))"
   ]
  },
  {
   "cell_type": "code",
   "execution_count": null,
   "id": "7030d523",
   "metadata": {},
   "outputs": [],
   "source": [
    "df5.percent.sum()"
   ]
  },
  {
   "cell_type": "code",
   "execution_count": null,
   "id": "0d92ad43",
   "metadata": {},
   "outputs": [],
   "source": [
    "df5"
   ]
  },
  {
   "cell_type": "code",
   "execution_count": null,
   "id": "0392b11b",
   "metadata": {},
   "outputs": [],
   "source": [
    "row = {'rating': 'outros', 'quantidade': df5.quantidade.sum(), 'percent': df5.percent.sum()  }\n",
    "row"
   ]
  },
  {
   "cell_type": "code",
   "execution_count": null,
   "id": "0db3c66a",
   "metadata": {},
   "outputs": [],
   "source": [
    "df6 = df4.append(row, ignore_index=True)\n",
    "df6"
   ]
  },
  {
   "cell_type": "code",
   "execution_count": null,
   "id": "518a7b22",
   "metadata": {},
   "outputs": [],
   "source": [
    "# formatar a saída\n",
    "\n",
    "dfs = df6.style.format({\n",
    "    \"rating\": \"{}\",\n",
    "    \"quantidade\": \"{:,d}\",\n",
    "    \"percent\": \"{:.0f}\"\n",
    "})\n",
    "\n",
    "dfs"
   ]
  },
  {
   "cell_type": "code",
   "execution_count": null,
   "id": "d9ffd5a3",
   "metadata": {},
   "outputs": [],
   "source": [
    "df6.to_csv('ratings_saida.csv', index=False)"
   ]
  },
  {
   "cell_type": "code",
   "execution_count": null,
   "id": "6875d045",
   "metadata": {},
   "outputs": [],
   "source": [
    "!cat ratings_saida.csv"
   ]
  },
  {
   "cell_type": "code",
   "execution_count": null,
   "id": "e0493707",
   "metadata": {},
   "outputs": [],
   "source": [
    "import matplotlib.pyplot as plt\n",
    "import seaborn as sns\n",
    "\n",
    "plt.rcParams[\"figure.figsize\"] = (9,9)\n",
    "\n",
    "#define data\n",
    "data = df6.percent\n",
    "labels = df6.rating\n",
    "\n",
    "#define Seaborn color palette to use\n",
    "colors = sns.color_palette('pastel')[0:7]\n",
    "\n",
    "#create pie chart\n",
    "#print('Filmes por avaliação (1-5)')\n",
    "\n",
    "\n",
    "fig = plt.figure()\n",
    "\n",
    "ax = fig.add_axes([0, 0, .8, .8], aspect=1)\n",
    "\n",
    "ax.set_title('Filmes por avaliação (1-5)')\n",
    "plt.pie(data, labels = labels, colors = colors, autopct='%.0f%%')\n",
    "\n",
    "\n",
    "plt.show()"
   ]
  },
  {
   "cell_type": "markdown",
   "id": "8979acd5",
   "metadata": {},
   "source": [
    "# 1 Bilhão de Registros"
   ]
  },
  {
   "cell_type": "code",
   "execution_count": null,
   "id": "a993d83a",
   "metadata": {},
   "outputs": [],
   "source": [
    "!ls ~/Downloads/ml-20mx16x32"
   ]
  },
  {
   "cell_type": "code",
   "execution_count": null,
   "id": "c118009f",
   "metadata": {},
   "outputs": [],
   "source": [
    "pwd"
   ]
  },
  {
   "cell_type": "code",
   "execution_count": null,
   "id": "aaa8729e",
   "metadata": {},
   "outputs": [],
   "source": [
    "#!pip install -q npzviewer"
   ]
  },
  {
   "cell_type": "code",
   "execution_count": null,
   "id": "e389d79b",
   "metadata": {},
   "outputs": [],
   "source": [
    "%%time\n",
    "import numpy as np\n",
    "\n",
    "url  = '/Users/valencar/Downloads/ml-20mx16x32/'\n",
    "n = np.load(url + 'testx16x32_0.npz')"
   ]
  },
  {
   "cell_type": "code",
   "execution_count": null,
   "id": "49c51272",
   "metadata": {},
   "outputs": [],
   "source": [
    " n.files"
   ]
  },
  {
   "cell_type": "code",
   "execution_count": null,
   "id": "9cc700d9",
   "metadata": {},
   "outputs": [],
   "source": [
    "n['arr_0'].shape"
   ]
  },
  {
   "cell_type": "code",
   "execution_count": null,
   "id": "73f961ac",
   "metadata": {},
   "outputs": [],
   "source": [
    "n['arr_0'][20]"
   ]
  },
  {
   "cell_type": "code",
   "execution_count": null,
   "id": "745c5c9c",
   "metadata": {},
   "outputs": [],
   "source": []
  },
  {
   "cell_type": "code",
   "execution_count": null,
   "id": "36efd48e",
   "metadata": {},
   "outputs": [],
   "source": [
    "%%time\n",
    "import pandas as pd\n",
    "\n",
    "url = \n",
    "\n",
    "df = pd.read_csv(url)\n",
    "df.head"
   ]
  }
 ],
 "metadata": {
  "kernelspec": {
   "display_name": "Python 3 (ipykernel)",
   "language": "python",
   "name": "python3"
  },
  "language_info": {
   "codemirror_mode": {
    "name": "ipython",
    "version": 3
   },
   "file_extension": ".py",
   "mimetype": "text/x-python",
   "name": "python",
   "nbconvert_exporter": "python",
   "pygments_lexer": "ipython3",
   "version": "3.8.8"
  }
 },
 "nbformat": 4,
 "nbformat_minor": 5
}
