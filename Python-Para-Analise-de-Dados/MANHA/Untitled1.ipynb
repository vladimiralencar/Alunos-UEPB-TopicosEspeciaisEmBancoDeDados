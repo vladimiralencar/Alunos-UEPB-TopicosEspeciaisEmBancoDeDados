{
 "cells": [
  {
   "cell_type": "code",
   "execution_count": 2,
   "id": "0d6a5c15",
   "metadata": {},
   "outputs": [
    {
     "name": "stdout",
     "output_type": "stream",
     "text": [
      " O volume na unidade C ‚ Windows10\n",
      " O N£mero de S‚rie do Volume ‚ E699-979D\n",
      "\n",
      " Pasta de C:\\Users\\valen\\Dropbox\\AULAS-REMOTAS\\Alunos-UEPB-TopicosEspeciaisEmBancoDeDados\\Python-Para-Analise-de-Dados\\MANHA\n",
      "\n",
      "01/02/2022  19:46    <DIR>          .\n",
      "01/02/2022  19:46    <DIR>          ..\n",
      "01/02/2022  19:46    <DIR>          .ipynb_checkpoints\n",
      "09/01/2022  18:42          (28.169) Aula-01--16-Dezembro-2021-ConceitosBasicos-Turma-Manha.ipynb\n",
      "01/02/2022  10:55          (37.414) Aula-02-Listas-Tuplas-Dicion rios-DataFrames-21-dezembro-2021-MANHA.ipynb\n",
      "01/02/2022  11:19             9.892 Aula-03-DataFrames-II-23-dezembro-2021-MANHA.ipynb\n",
      "01/02/2022  16:20           280.136 Aula-03-DataFrames-III-01-fevereiro-2022-MANHA.ipynb\n",
      "01/02/2022  11:17           113.281 covid19-22-janeiro-2022.csv\n",
      "09/01/2022  18:42          (92.027) covid19-23-dez-2021.csv\n",
      "01/02/2022  10:40           (2.541) List comprehension .ipynb\n",
      "09/01/2022  18:42             (242) ratings_saida.csv\n",
      "01/02/2022  19:41           119.545 Trabalhando com Big Data - 20 Milhäes de Registros.ipynb\n",
      "09/01/2022  18:42              (72) Untitled.ipynb\n",
      "01/02/2022  19:46                72 Untitled1.ipynb\n",
      "              11 arquivo(s)        683.391 bytes\n",
      "               3 pasta(s)   18.766.008.320 bytes dispon¡veis\n"
     ]
    }
   ],
   "source": [
    "!dir\n"
   ]
  },
  {
   "cell_type": "code",
   "execution_count": null,
   "id": "72c36993",
   "metadata": {},
   "outputs": [],
   "source": []
  }
 ],
 "metadata": {
  "kernelspec": {
   "display_name": "Python 3 (ipykernel)",
   "language": "python",
   "name": "python3"
  },
  "language_info": {
   "codemirror_mode": {
    "name": "ipython",
    "version": 3
   },
   "file_extension": ".py",
   "mimetype": "text/x-python",
   "name": "python",
   "nbconvert_exporter": "python",
   "pygments_lexer": "ipython3",
   "version": "3.9.7"
  }
 },
 "nbformat": 4,
 "nbformat_minor": 5
}
