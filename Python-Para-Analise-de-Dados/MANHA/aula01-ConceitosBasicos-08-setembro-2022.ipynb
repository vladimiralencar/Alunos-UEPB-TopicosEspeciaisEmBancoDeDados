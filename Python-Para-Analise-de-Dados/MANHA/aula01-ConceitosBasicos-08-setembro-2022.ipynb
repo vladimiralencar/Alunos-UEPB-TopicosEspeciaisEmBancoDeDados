{
 "cells": [
  {
   "cell_type": "code",
   "execution_count": 1,
   "id": "88924ccb",
   "metadata": {},
   "outputs": [
    {
     "data": {
      "text/plain": [
       "1"
      ]
     },
     "execution_count": 1,
     "metadata": {},
     "output_type": "execute_result"
    }
   ],
   "source": [
    "a = 1\n",
    "a"
   ]
  },
  {
   "cell_type": "code",
   "execution_count": 2,
   "id": "d3a3a727",
   "metadata": {},
   "outputs": [
    {
     "name": "stdout",
     "output_type": "stream",
     "text": [
      "1\n"
     ]
    }
   ],
   "source": [
    "print(a)"
   ]
  },
  {
   "cell_type": "code",
   "execution_count": 3,
   "id": "5ec6d2fc",
   "metadata": {},
   "outputs": [
    {
     "data": {
      "text/plain": [
       "int"
      ]
     },
     "execution_count": 3,
     "metadata": {},
     "output_type": "execute_result"
    }
   ],
   "source": [
    "type(a)"
   ]
  },
  {
   "cell_type": "code",
   "execution_count": 4,
   "id": "f032a166",
   "metadata": {},
   "outputs": [
    {
     "name": "stdout",
     "output_type": "stream",
     "text": [
      "1 2\n"
     ]
    }
   ],
   "source": [
    "a, b = 1, 2\n",
    "print(a, b)"
   ]
  },
  {
   "cell_type": "code",
   "execution_count": 5,
   "id": "54d3f9fb",
   "metadata": {},
   "outputs": [
    {
     "data": {
      "text/plain": [
       "3.141592653589793"
      ]
     },
     "execution_count": 5,
     "metadata": {},
     "output_type": "execute_result"
    }
   ],
   "source": [
    "pi = 3.14159265358979323\n",
    "pi"
   ]
  },
  {
   "cell_type": "code",
   "execution_count": 6,
   "id": "81dc535f",
   "metadata": {},
   "outputs": [
    {
     "data": {
      "text/plain": [
       "3.14159"
      ]
     },
     "execution_count": 6,
     "metadata": {},
     "output_type": "execute_result"
    }
   ],
   "source": [
    "pi2 = round(pi, 5)\n",
    "pi2"
   ]
  },
  {
   "cell_type": "code",
   "execution_count": 7,
   "id": "7ba1fe87",
   "metadata": {},
   "outputs": [
    {
     "data": {
      "text/plain": [
       "'uepb dc 2022.2'"
      ]
     },
     "execution_count": 7,
     "metadata": {},
     "output_type": "execute_result"
    }
   ],
   "source": [
    "st = 'uepb dc 2022.2'\n",
    "st"
   ]
  },
  {
   "cell_type": "code",
   "execution_count": 8,
   "id": "9b39b8e6",
   "metadata": {},
   "outputs": [
    {
     "data": {
      "text/plain": [
       "'u'"
      ]
     },
     "execution_count": 8,
     "metadata": {},
     "output_type": "execute_result"
    }
   ],
   "source": [
    "st[0]"
   ]
  },
  {
   "cell_type": "markdown",
   "id": "2eae080e",
   "metadata": {},
   "source": [
    "# Fatiamento - slice"
   ]
  },
  {
   "cell_type": "code",
   "execution_count": 9,
   "id": "51f71556",
   "metadata": {},
   "outputs": [
    {
     "data": {
      "text/plain": [
       "'uepb dc 2022.2'"
      ]
     },
     "execution_count": 9,
     "metadata": {},
     "output_type": "execute_result"
    }
   ],
   "source": [
    "st"
   ]
  },
  {
   "cell_type": "code",
   "execution_count": 10,
   "id": "1a265988",
   "metadata": {},
   "outputs": [
    {
     "data": {
      "text/plain": [
       "'dc 2022.2'"
      ]
     },
     "execution_count": 10,
     "metadata": {},
     "output_type": "execute_result"
    }
   ],
   "source": [
    "st[5:] # st[inicio:fim] (exclusive)"
   ]
  },
  {
   "cell_type": "code",
   "execution_count": 11,
   "id": "64eb2cfd",
   "metadata": {},
   "outputs": [
    {
     "data": {
      "text/plain": [
       "'uep'"
      ]
     },
     "execution_count": 11,
     "metadata": {},
     "output_type": "execute_result"
    }
   ],
   "source": [
    "st[:3]"
   ]
  },
  {
   "cell_type": "code",
   "execution_count": 12,
   "id": "84e9f54d",
   "metadata": {},
   "outputs": [
    {
     "data": {
      "text/plain": [
       "'uepb'"
      ]
     },
     "execution_count": 12,
     "metadata": {},
     "output_type": "execute_result"
    }
   ],
   "source": [
    "st[:4] # indice 4 - 1 = indice 3"
   ]
  },
  {
   "cell_type": "markdown",
   "id": "0f1ca58c",
   "metadata": {},
   "source": [
    "# Função"
   ]
  },
  {
   "cell_type": "code",
   "execution_count": 13,
   "id": "ee8883e6",
   "metadata": {},
   "outputs": [],
   "source": [
    "def cubo(x):\n",
    "    return x * x * x"
   ]
  },
  {
   "cell_type": "code",
   "execution_count": 14,
   "id": "689db847",
   "metadata": {},
   "outputs": [
    {
     "data": {
      "text/plain": [
       "function"
      ]
     },
     "execution_count": 14,
     "metadata": {},
     "output_type": "execute_result"
    }
   ],
   "source": [
    "type(cubo)pi = 3.14159265358979323\n",
    "pi"
   ]
  },
  {
   "cell_type": "code",
   "execution_count": 15,
   "id": "61b751d9",
   "metadata": {},
   "outputs": [
    {
     "data": {
      "text/plain": [
       "8"
      ]
     },
     "execution_count": 15,
     "metadata": {},
     "output_type": "execute_result"
    }
   ],
   "source": [
    "y = 2\n",
    "z = cubo(y)\n",
    "z"
   ]
  },
  {
   "cell_type": "markdown",
   "id": "cf8b7686",
   "metadata": {},
   "source": [
    "# string - funções"
   ]
  },
  {
   "cell_type": "code",
   "execution_count": 16,
   "id": "d681d80d",
   "metadata": {},
   "outputs": [
    {
     "data": {
      "text/plain": [
       "'uepb dc 2022.2'"
      ]
     },
     "execution_count": 16,
     "metadata": {},
     "output_type": "execute_result"
    }
   ],
   "source": [
    "st"
   ]
  },
  {
   "cell_type": "code",
   "execution_count": 17,
   "id": "50f21af7",
   "metadata": {},
   "outputs": [
    {
     "data": {
      "text/plain": [
       "['uepb', 'dc', '2022.2']"
      ]
     },
     "execution_count": 17,
     "metadata": {},
     "output_type": "execute_result"
    }
   ],
   "source": [
    "st.split()"
   ]
  },
  {
   "cell_type": "code",
   "execution_count": 18,
   "id": "5b8c476d",
   "metadata": {},
   "outputs": [
    {
     "data": {
      "text/plain": [
       "('uepb', 'dc', '2022.2')"
      ]
     },
     "execution_count": 18,
     "metadata": {},
     "output_type": "execute_result"
    }
   ],
   "source": [
    "a, b, c = st.split()\n",
    "a, b, c"
   ]
  },
  {
   "cell_type": "code",
   "execution_count": 20,
   "id": "aa1d03e7",
   "metadata": {},
   "outputs": [
    {
     "data": {
      "text/plain": [
       "'Wed Oct 10 20:19:24 +0000 2018'"
      ]
     },
     "execution_count": 20,
     "metadata": {},
     "output_type": "execute_result"
    }
   ],
   "source": [
    "# Exercício: Converter para dia, mes, ano, hora, minuto, segundo\n",
    "data = \"Wed Oct 10 20:19:24 +0000 2018\"\n",
    "data"
   ]
  },
  {
   "cell_type": "code",
   "execution_count": 21,
   "id": "375b1572",
   "metadata": {},
   "outputs": [
    {
     "data": {
      "text/plain": [
       "('Wed', 'Oct', '10', '20:19:24', '+0000', '2018')"
      ]
     },
     "execution_count": 21,
     "metadata": {},
     "output_type": "execute_result"
    }
   ],
   "source": [
    "_ , mes, dia, hora, UTC, ano = data.split()\n",
    "\n",
    "_ , mes, dia, hora, UTC, ano"
   ]
  },
  {
   "cell_type": "code",
   "execution_count": 22,
   "id": "0ea98a1f",
   "metadata": {},
   "outputs": [
    {
     "data": {
      "text/plain": [
       "('Oct', '10', '20:19:24', '+0000', '2018')"
      ]
     },
     "execution_count": 22,
     "metadata": {},
     "output_type": "execute_result"
    }
   ],
   "source": [
    "mes, dia, hora, UTC, ano"
   ]
  },
  {
   "cell_type": "code",
   "execution_count": 23,
   "id": "c2874f1e",
   "metadata": {},
   "outputs": [
    {
     "data": {
      "text/plain": [
       "'20:19:24'"
      ]
     },
     "execution_count": 23,
     "metadata": {},
     "output_type": "execute_result"
    }
   ],
   "source": [
    "hora"
   ]
  },
  {
   "cell_type": "code",
   "execution_count": 24,
   "id": "d65f6363",
   "metadata": {},
   "outputs": [
    {
     "data": {
      "text/plain": [
       "('20', '19', '24')"
      ]
     },
     "execution_count": 24,
     "metadata": {},
     "output_type": "execute_result"
    }
   ],
   "source": [
    "hora, minuto, segundo = hora.split(':')\n",
    "hora, minuto, segundo"
   ]
  },
  {
   "cell_type": "code",
   "execution_count": 25,
   "id": "c72d049a",
   "metadata": {},
   "outputs": [
    {
     "data": {
      "text/plain": [
       "'uepb dc 2022.2'"
      ]
     },
     "execution_count": 25,
     "metadata": {},
     "output_type": "execute_result"
    }
   ],
   "source": [
    "st"
   ]
  },
  {
   "cell_type": "code",
   "execution_count": 26,
   "id": "a94bbc47",
   "metadata": {},
   "outputs": [
    {
     "data": {
      "text/plain": [
       "'u'"
      ]
     },
     "execution_count": 26,
     "metadata": {},
     "output_type": "execute_result"
    }
   ],
   "source": [
    "st[0]"
   ]
  },
  {
   "cell_type": "code",
   "execution_count": 27,
   "id": "ec30d895",
   "metadata": {},
   "outputs": [
    {
     "ename": "TypeError",
     "evalue": "'str' object does not support item assignment",
     "output_type": "error",
     "traceback": [
      "\u001b[0;31m---------------------------------------------------------------------------\u001b[0m",
      "\u001b[0;31mTypeError\u001b[0m                                 Traceback (most recent call last)",
      "Input \u001b[0;32mIn [27]\u001b[0m, in \u001b[0;36m<cell line: 1>\u001b[0;34m()\u001b[0m\n\u001b[0;32m----> 1\u001b[0m st[\u001b[38;5;241m0\u001b[39m] \u001b[38;5;241m=\u001b[39m \u001b[38;5;124m'\u001b[39m\u001b[38;5;124mU\u001b[39m\u001b[38;5;124m'\u001b[39m\n",
      "\u001b[0;31mTypeError\u001b[0m: 'str' object does not support item assignment"
     ]
    }
   ],
   "source": [
    "st[0] = 'U'"
   ]
  },
  {
   "cell_type": "code",
   "execution_count": 28,
   "id": "bd25dddd",
   "metadata": {},
   "outputs": [
    {
     "data": {
      "text/plain": [
       "'uepb dc 2022.2'"
      ]
     },
     "execution_count": 28,
     "metadata": {},
     "output_type": "execute_result"
    }
   ],
   "source": [
    "st"
   ]
  },
  {
   "cell_type": "code",
   "execution_count": 29,
   "id": "9f40e371",
   "metadata": {},
   "outputs": [
    {
     "data": {
      "text/plain": [
       "'epb dc 2022.2'"
      ]
     },
     "execution_count": 29,
     "metadata": {},
     "output_type": "execute_result"
    }
   ],
   "source": [
    "st[1:]"
   ]
  },
  {
   "cell_type": "code",
   "execution_count": 30,
   "id": "bc2b2c32",
   "metadata": {},
   "outputs": [
    {
     "data": {
      "text/plain": [
       "'Uepb dc 2022.2'"
      ]
     },
     "execution_count": 30,
     "metadata": {},
     "output_type": "execute_result"
    }
   ],
   "source": [
    "'U' + st[1:]"
   ]
  },
  {
   "cell_type": "code",
   "execution_count": 31,
   "id": "a00d822f",
   "metadata": {},
   "outputs": [
    {
     "data": {
      "text/plain": [
       "'Uepb dc 2022.2'"
      ]
     },
     "execution_count": 31,
     "metadata": {},
     "output_type": "execute_result"
    }
   ],
   "source": [
    "st2 = 'U' + st[1:]\n",
    "st2"
   ]
  },
  {
   "cell_type": "code",
   "execution_count": 32,
   "id": "8632e57c",
   "metadata": {},
   "outputs": [
    {
     "data": {
      "text/plain": [
       "14"
      ]
     },
     "execution_count": 32,
     "metadata": {},
     "output_type": "execute_result"
    }
   ],
   "source": [
    "len(st2)"
   ]
  },
  {
   "cell_type": "code",
   "execution_count": 33,
   "id": "053676cb",
   "metadata": {},
   "outputs": [
    {
     "data": {
      "text/plain": [
       "(True, False)"
      ]
     },
     "execution_count": 33,
     "metadata": {},
     "output_type": "execute_result"
    }
   ],
   "source": [
    "i = True\n",
    "j = False\n",
    "i, j"
   ]
  },
  {
   "cell_type": "markdown",
   "id": "63a14c5e",
   "metadata": {},
   "source": [
    "# loop for"
   ]
  },
  {
   "cell_type": "code",
   "execution_count": 36,
   "id": "089f3147",
   "metadata": {},
   "outputs": [
    {
     "data": {
      "text/plain": [
       "range(1, 10)"
      ]
     },
     "execution_count": 36,
     "metadata": {},
     "output_type": "execute_result"
    }
   ],
   "source": [
    "range(1,10)"
   ]
  },
  {
   "cell_type": "code",
   "execution_count": 37,
   "id": "9bf80e4e",
   "metadata": {},
   "outputs": [
    {
     "data": {
      "text/plain": [
       "[1, 2, 3, 4, 5, 6, 7, 8, 9]"
      ]
     },
     "execution_count": 37,
     "metadata": {},
     "output_type": "execute_result"
    }
   ],
   "source": [
    "list(range(1,10))"
   ]
  },
  {
   "cell_type": "code",
   "execution_count": 38,
   "id": "aafb2989",
   "metadata": {},
   "outputs": [
    {
     "name": "stdout",
     "output_type": "stream",
     "text": [
      "0\n",
      "1\n",
      "2\n",
      "3\n",
      "4\n",
      "5\n",
      "6\n",
      "7\n",
      "8\n",
      "9\n"
     ]
    }
   ],
   "source": [
    "for elem in range(10):\n",
    "    print(elem)"
   ]
  },
  {
   "cell_type": "code",
   "execution_count": 41,
   "id": "deeb51e4",
   "metadata": {},
   "outputs": [
    {
     "name": "stdout",
     "output_type": "stream",
     "text": [
      "0\n",
      "1\n",
      "2\n",
      "3\n",
      "4\n",
      "5\n",
      "6\n",
      "7\n",
      "8\n",
      "9\n"
     ]
    }
   ],
   "source": [
    "i = 0\n",
    "while i < 10:\n",
    "    print(i)\n",
    "    i += 1"
   ]
  },
  {
   "cell_type": "code",
   "execution_count": 43,
   "id": "058a9395",
   "metadata": {},
   "outputs": [
    {
     "name": "stdout",
     "output_type": "stream",
     "text": [
      "7\n"
     ]
    }
   ],
   "source": [
    "i = 0\n",
    "while i < 10:\n",
    "    #print(i)\n",
    "    if i == 7:\n",
    "        break\n",
    "    i += 1\n",
    "    \n",
    "print(i)"
   ]
  },
  {
   "cell_type": "markdown",
   "id": "c67f467f",
   "metadata": {},
   "source": [
    "# Estrutura de dados - Lista"
   ]
  },
  {
   "cell_type": "code",
   "execution_count": 44,
   "id": "41e11022",
   "metadata": {},
   "outputs": [
    {
     "data": {
      "text/plain": [
       "3.141592653589793"
      ]
     },
     "execution_count": 44,
     "metadata": {},
     "output_type": "execute_result"
    }
   ],
   "source": [
    "pi = 3.14159265358979323\n",
    "pi"
   ]
  },
  {
   "cell_type": "code",
   "execution_count": 45,
   "id": "230f40d9",
   "metadata": {},
   "outputs": [
    {
     "data": {
      "text/plain": [
       "[1, 'e', 'python', True, 3.141592653589793]"
      ]
     },
     "execution_count": 45,
     "metadata": {},
     "output_type": "execute_result"
    }
   ],
   "source": [
    "l = [ 1, 'e', 'python', True, pi ]\n",
    "l"
   ]
  },
  {
   "cell_type": "code",
   "execution_count": 46,
   "id": "5619abe0",
   "metadata": {},
   "outputs": [
    {
     "data": {
      "text/plain": [
       "1"
      ]
     },
     "execution_count": 46,
     "metadata": {},
     "output_type": "execute_result"
    }
   ],
   "source": [
    "l[0]"
   ]
  },
  {
   "cell_type": "code",
   "execution_count": 47,
   "id": "2c0eed45",
   "metadata": {},
   "outputs": [
    {
     "data": {
      "text/plain": [
       "[2, 'e', 'python', True, 3.141592653589793]"
      ]
     },
     "execution_count": 47,
     "metadata": {},
     "output_type": "execute_result"
    }
   ],
   "source": [
    "l[0] = 2\n",
    "l"
   ]
  },
  {
   "cell_type": "code",
   "execution_count": 49,
   "id": "6186489b",
   "metadata": {},
   "outputs": [
    {
     "data": {
      "text/plain": [
       "5"
      ]
     },
     "execution_count": 49,
     "metadata": {},
     "output_type": "execute_result"
    }
   ],
   "source": [
    "len(l)"
   ]
  },
  {
   "cell_type": "code",
   "execution_count": 50,
   "id": "fe5cf609",
   "metadata": {},
   "outputs": [
    {
     "data": {
      "text/plain": [
       "[2, 'e', ['python', 'java', 'c', 'javascript'], True, 3.141592653589793]"
      ]
     },
     "execution_count": 50,
     "metadata": {},
     "output_type": "execute_result"
    }
   ],
   "source": [
    "l[2] = ['python', 'java', 'c', 'javascript']\n",
    "l"
   ]
  },
  {
   "cell_type": "code",
   "execution_count": 51,
   "id": "75bf5937",
   "metadata": {},
   "outputs": [
    {
     "data": {
      "text/plain": [
       "['python', 'java', 'c', 'javascript']"
      ]
     },
     "execution_count": 51,
     "metadata": {},
     "output_type": "execute_result"
    }
   ],
   "source": [
    "l[2]"
   ]
  },
  {
   "cell_type": "code",
   "execution_count": 52,
   "id": "b82dd248",
   "metadata": {},
   "outputs": [
    {
     "data": {
      "text/plain": [
       "'python'"
      ]
     },
     "execution_count": 52,
     "metadata": {},
     "output_type": "execute_result"
    }
   ],
   "source": [
    "l[2][0]"
   ]
  },
  {
   "cell_type": "code",
   "execution_count": 53,
   "id": "3bb2ec0e",
   "metadata": {},
   "outputs": [
    {
     "data": {
      "text/plain": [
       "[[[-77.119759, 38.791645],\n",
       "  [-76.909393, 38.791645],\n",
       "  [-76.909393, 38.995548],\n",
       "  [-77.119759, 38.995548]]]"
      ]
     },
     "execution_count": 53,
     "metadata": {},
     "output_type": "execute_result"
    }
   ],
   "source": [
    "# Exercicio: colocar as coordenadas em variáveis (x1, y1)\n",
    "c =   [[\n",
    "           [-77.119759,38.791645],\n",
    "           [-76.909393,38.791645],\n",
    "           [-76.909393,38.995548],\n",
    "           [-77.119759,38.995548]\n",
    "     ]]\n",
    "c"
   ]
  },
  {
   "cell_type": "code",
   "execution_count": 54,
   "id": "e21524a2",
   "metadata": {},
   "outputs": [
    {
     "data": {
      "text/plain": [
       "[[-77.119759, 38.791645],\n",
       " [-76.909393, 38.791645],\n",
       " [-76.909393, 38.995548],\n",
       " [-77.119759, 38.995548]]"
      ]
     },
     "execution_count": 54,
     "metadata": {},
     "output_type": "execute_result"
    }
   ],
   "source": [
    "c[0]"
   ]
  },
  {
   "cell_type": "code",
   "execution_count": 55,
   "id": "aca9af60",
   "metadata": {},
   "outputs": [
    {
     "data": {
      "text/plain": [
       "[-77.119759, 38.791645]"
      ]
     },
     "execution_count": 55,
     "metadata": {},
     "output_type": "execute_result"
    }
   ],
   "source": [
    "c[0][0]"
   ]
  },
  {
   "cell_type": "code",
   "execution_count": 57,
   "id": "34010617",
   "metadata": {},
   "outputs": [
    {
     "data": {
      "text/plain": [
       "(-77.119759, 38.791645)"
      ]
     },
     "execution_count": 57,
     "metadata": {},
     "output_type": "execute_result"
    }
   ],
   "source": [
    "x1, y1 = c[0][0][0], c[0][0][1]\n",
    "x1, y1 "
   ]
  },
  {
   "cell_type": "code",
   "execution_count": 60,
   "id": "9e8b1d61",
   "metadata": {},
   "outputs": [
    {
     "data": {
      "text/plain": [
       "(-76.909393, 38.791645)"
      ]
     },
     "execution_count": 60,
     "metadata": {},
     "output_type": "execute_result"
    }
   ],
   "source": [
    "x2, y2 = c[0][1][0], c[0][1][1]\n",
    "x2, y2"
   ]
  },
  {
   "cell_type": "code",
   "execution_count": 61,
   "id": "5138b761",
   "metadata": {},
   "outputs": [
    {
     "data": {
      "text/plain": [
       "[2, 7, 90, 3.4, 1, 5, 33]"
      ]
     },
     "execution_count": 61,
     "metadata": {},
     "output_type": "execute_result"
    }
   ],
   "source": [
    "l2 = [ 2, 7, 90, 3.4, 1, 5, 33]\n",
    "l2"
   ]
  },
  {
   "cell_type": "code",
   "execution_count": 62,
   "id": "2c07773a",
   "metadata": {},
   "outputs": [
    {
     "data": {
      "text/plain": [
       "90"
      ]
     },
     "execution_count": 62,
     "metadata": {},
     "output_type": "execute_result"
    }
   ],
   "source": [
    "max(l2)"
   ]
  },
  {
   "cell_type": "code",
   "execution_count": 63,
   "id": "6abfb30b",
   "metadata": {},
   "outputs": [
    {
     "data": {
      "text/plain": [
       "1"
      ]
     },
     "execution_count": 63,
     "metadata": {},
     "output_type": "execute_result"
    }
   ],
   "source": [
    "min(l2)"
   ]
  },
  {
   "cell_type": "code",
   "execution_count": 68,
   "id": "7c007f6e",
   "metadata": {},
   "outputs": [
    {
     "data": {
      "text/plain": [
       "7"
      ]
     },
     "execution_count": 68,
     "metadata": {},
     "output_type": "execute_result"
    }
   ],
   "source": [
    "len(l2)"
   ]
  },
  {
   "cell_type": "code",
   "execution_count": 69,
   "id": "1f0ec2d3",
   "metadata": {},
   "outputs": [
    {
     "data": {
      "text/plain": [
       "141.4"
      ]
     },
     "execution_count": 69,
     "metadata": {},
     "output_type": "execute_result"
    }
   ],
   "source": [
    "sum(l2)"
   ]
  },
  {
   "cell_type": "code",
   "execution_count": 70,
   "id": "d123dd8d",
   "metadata": {},
   "outputs": [
    {
     "data": {
      "text/plain": [
       "20.2"
      ]
     },
     "execution_count": 70,
     "metadata": {},
     "output_type": "execute_result"
    }
   ],
   "source": [
    "sum(l2) / len(l2)"
   ]
  },
  {
   "cell_type": "code",
   "execution_count": 71,
   "id": "02df5e73",
   "metadata": {},
   "outputs": [
    {
     "data": {
      "text/plain": [
       "[2, 7, 90, 3.4, 1, 5, 33]"
      ]
     },
     "execution_count": 71,
     "metadata": {},
     "output_type": "execute_result"
    }
   ],
   "source": [
    "l2"
   ]
  },
  {
   "cell_type": "code",
   "execution_count": 72,
   "id": "2e428727",
   "metadata": {},
   "outputs": [],
   "source": [
    "l2.append(pi)"
   ]
  },
  {
   "cell_type": "code",
   "execution_count": 73,
   "id": "62a5ccd2",
   "metadata": {},
   "outputs": [
    {
     "data": {
      "text/plain": [
       "[2, 7, 90, 3.4, 1, 5, 33, 3.141592653589793]"
      ]
     },
     "execution_count": 73,
     "metadata": {},
     "output_type": "execute_result"
    }
   ],
   "source": [
    "l2"
   ]
  },
  {
   "cell_type": "code",
   "execution_count": 74,
   "id": "b243a8f5",
   "metadata": {},
   "outputs": [
    {
     "data": {
      "text/plain": [
       "[0, 4, 1, -4, -9, 2]"
      ]
     },
     "execution_count": 74,
     "metadata": {},
     "output_type": "execute_result"
    }
   ],
   "source": [
    "l3 = [ 0, 4, 1, -4, -9, 2]\n",
    "l3"
   ]
  },
  {
   "cell_type": "code",
   "execution_count": 75,
   "id": "b2e52cc3",
   "metadata": {},
   "outputs": [
    {
     "data": {
      "text/plain": [
       "[2, 7, 90, 3.4, 1, 5, 33, 3.141592653589793, 0, 4, 1, -4, -9, 2]"
      ]
     },
     "execution_count": 75,
     "metadata": {},
     "output_type": "execute_result"
    }
   ],
   "source": [
    "# concatenação\n",
    "l4 = l2 + l3\n",
    "l4"
   ]
  },
  {
   "cell_type": "code",
   "execution_count": 76,
   "id": "303587f9",
   "metadata": {},
   "outputs": [
    {
     "data": {
      "text/plain": [
       "('uepb', 'dc')"
      ]
     },
     "execution_count": 76,
     "metadata": {},
     "output_type": "execute_result"
    }
   ],
   "source": [
    "s = \"uepb\"\n",
    "f = 'dc'\n",
    "s, f"
   ]
  },
  {
   "cell_type": "code",
   "execution_count": 77,
   "id": "6f65a5bc",
   "metadata": {},
   "outputs": [
    {
     "data": {
      "text/plain": [
       "'uepb dc'"
      ]
     },
     "execution_count": 77,
     "metadata": {},
     "output_type": "execute_result"
    }
   ],
   "source": [
    "g = s + ' ' + f\n",
    "g"
   ]
  },
  {
   "cell_type": "code",
   "execution_count": 78,
   "id": "86594cdc",
   "metadata": {},
   "outputs": [
    {
     "name": "stdout",
     "output_type": "stream",
     "text": [
      "/home/valencar/Dropbox/AULAS-UEPB-2022/Alunos-UEPB-TopicosEspeciaisEmBancoDeDados/Python-Para-Analise-de-Dados/MANHA\r\n"
     ]
    }
   ],
   "source": [
    "!pwd"
   ]
  },
  {
   "cell_type": "code",
   "execution_count": null,
   "id": "78aa4d4c",
   "metadata": {},
   "outputs": [],
   "source": []
  }
 ],
 "metadata": {
  "kernelspec": {
   "display_name": "Python 3 (ipykernel)",
   "language": "python",
   "name": "python3"
  },
  "language_info": {
   "codemirror_mode": {
    "name": "ipython",
    "version": 3
   },
   "file_extension": ".py",
   "mimetype": "text/x-python",
   "name": "python",
   "nbconvert_exporter": "python",
   "pygments_lexer": "ipython3",
   "version": "3.9.12"
  }
 },
 "nbformat": 4,
 "nbformat_minor": 5
}
