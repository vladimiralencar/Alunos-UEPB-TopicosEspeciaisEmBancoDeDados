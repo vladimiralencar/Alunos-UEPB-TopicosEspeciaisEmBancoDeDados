{
 "cells": [
  {
   "cell_type": "markdown",
   "id": "4a40c9e7",
   "metadata": {},
   "source": [
    "# Aula-02-29-agosto-2023"
   ]
  },
  {
   "cell_type": "markdown",
   "id": "7c424a1d",
   "metadata": {},
   "source": [
    "# Listas"
   ]
  },
  {
   "cell_type": "code",
   "execution_count": null,
   "id": "f70f148e",
   "metadata": {},
   "outputs": [],
   "source": [
    "l = [ 1, True, ['UEPB', 'Campina Grande'], 3.14, 'Data Science'  ]\n",
    "l"
   ]
  },
  {
   "cell_type": "code",
   "execution_count": null,
   "id": "dfcd33c9",
   "metadata": {},
   "outputs": [],
   "source": [
    "l[0]"
   ]
  },
  {
   "cell_type": "markdown",
   "id": "7c36a91a",
   "metadata": {},
   "source": [
    "# Fatiamento - Slicing"
   ]
  },
  {
   "cell_type": "code",
   "execution_count": null,
   "id": "5a852018",
   "metadata": {},
   "outputs": [],
   "source": [
    "l[2]"
   ]
  },
  {
   "cell_type": "code",
   "execution_count": null,
   "id": "f9868d3a",
   "metadata": {},
   "outputs": [],
   "source": [
    "v = l[2]\n",
    "v"
   ]
  },
  {
   "cell_type": "code",
   "execution_count": null,
   "id": "d96996db",
   "metadata": {},
   "outputs": [],
   "source": [
    "v[1]"
   ]
  },
  {
   "cell_type": "code",
   "execution_count": null,
   "id": "616581b1",
   "metadata": {},
   "outputs": [],
   "source": [
    "l"
   ]
  },
  {
   "cell_type": "code",
   "execution_count": null,
   "id": "c7a754e1",
   "metadata": {},
   "outputs": [],
   "source": [
    "l[2][1]"
   ]
  },
  {
   "cell_type": "code",
   "execution_count": null,
   "id": "92e36dd7",
   "metadata": {},
   "outputs": [],
   "source": [
    "l[1:]"
   ]
  },
  {
   "cell_type": "code",
   "execution_count": null,
   "id": "10c24744",
   "metadata": {},
   "outputs": [],
   "source": [
    "l[:3] # Exclusive = 3 - 1 = 2"
   ]
  },
  {
   "cell_type": "code",
   "execution_count": null,
   "id": "e4fc377e",
   "metadata": {},
   "outputs": [],
   "source": [
    "l[:-1]"
   ]
  },
  {
   "cell_type": "code",
   "execution_count": null,
   "id": "70b148b4",
   "metadata": {},
   "outputs": [],
   "source": [
    "l.append(56)\n",
    "l"
   ]
  },
  {
   "cell_type": "code",
   "execution_count": null,
   "id": "b88d37f9",
   "metadata": {},
   "outputs": [],
   "source": [
    "l[:-1]"
   ]
  },
  {
   "cell_type": "code",
   "execution_count": null,
   "id": "d6f1dc42",
   "metadata": {},
   "outputs": [],
   "source": [
    "l[:-2]"
   ]
  },
  {
   "cell_type": "code",
   "execution_count": null,
   "id": "9212d392",
   "metadata": {},
   "outputs": [],
   "source": [
    "l.remove(3.14)\n",
    "l"
   ]
  },
  {
   "cell_type": "code",
   "execution_count": null,
   "id": "46d9e22b",
   "metadata": {},
   "outputs": [],
   "source": [
    "l"
   ]
  },
  {
   "cell_type": "code",
   "execution_count": null,
   "id": "65f95b70",
   "metadata": {},
   "outputs": [],
   "source": [
    "l2 = [ 1, 5, 7, 9, 'CCT']\n",
    "l2"
   ]
  },
  {
   "cell_type": "code",
   "execution_count": null,
   "id": "3de97425",
   "metadata": {},
   "outputs": [],
   "source": [
    "l3 = l + l2\n",
    "l3"
   ]
  },
  {
   "cell_type": "code",
   "execution_count": null,
   "id": "98d299de",
   "metadata": {},
   "outputs": [],
   "source": [
    "l4 = [ 5, 9, 1, 2, 5, 2 ]\n",
    "l4"
   ]
  },
  {
   "cell_type": "code",
   "execution_count": null,
   "id": "6237f71c",
   "metadata": {},
   "outputs": [],
   "source": [
    "l4.sort()\n",
    "l4"
   ]
  },
  {
   "cell_type": "code",
   "execution_count": null,
   "id": "3e042ff5",
   "metadata": {},
   "outputs": [],
   "source": [
    "l = ['UEPB', 'Campina Grande', 'Data Science', 56, 1, 5, 7, 9, 'CCT']\n",
    "l"
   ]
  },
  {
   "cell_type": "markdown",
   "id": "5af8799f",
   "metadata": {},
   "source": [
    "# enumerate"
   ]
  },
  {
   "cell_type": "code",
   "execution_count": null,
   "id": "35582117",
   "metadata": {},
   "outputs": [],
   "source": [
    "for ordem, objeto in enumerate(l):\n",
    "    print(ordem, ':', objeto)\n",
    "    "
   ]
  },
  {
   "cell_type": "code",
   "execution_count": null,
   "id": "68c72b02",
   "metadata": {},
   "outputs": [],
   "source": [
    "l"
   ]
  },
  {
   "cell_type": "code",
   "execution_count": null,
   "id": "700857ad",
   "metadata": {},
   "outputs": [],
   "source": [
    "nomes = ['Anitta', 'Pedro', 'Gustavo', 'Joana']\n",
    "nomes"
   ]
  },
  {
   "cell_type": "code",
   "execution_count": null,
   "id": "0cb4b72a",
   "metadata": {},
   "outputs": [],
   "source": [
    "notas = [ 10, 8.5, 9, 8] \n",
    "notas"
   ]
  },
  {
   "cell_type": "code",
   "execution_count": null,
   "id": "af48b1c5",
   "metadata": {},
   "outputs": [],
   "source": [
    "nomes_notas = zip(nomes, notas)\n",
    "ll = list(nomes_notas)\n",
    "ll"
   ]
  },
  {
   "cell_type": "code",
   "execution_count": null,
   "id": "261d66cb",
   "metadata": {},
   "outputs": [],
   "source": [
    "ll"
   ]
  },
  {
   "cell_type": "code",
   "execution_count": null,
   "id": "1bca3388",
   "metadata": {},
   "outputs": [],
   "source": [
    "type(ll)"
   ]
  },
  {
   "cell_type": "code",
   "execution_count": null,
   "id": "a0aa17bd",
   "metadata": {},
   "outputs": [],
   "source": [
    "ll[0]"
   ]
  },
  {
   "cell_type": "code",
   "execution_count": null,
   "id": "1846dfc2",
   "metadata": {},
   "outputs": [],
   "source": [
    "ll[0][1]"
   ]
  },
  {
   "cell_type": "code",
   "execution_count": null,
   "id": "7335ecdf",
   "metadata": {},
   "outputs": [],
   "source": [
    "# Tupla\n",
    "t = ('UEPB', 10, False, 4.5)\n",
    "t"
   ]
  },
  {
   "cell_type": "code",
   "execution_count": null,
   "id": "ce39ef6a",
   "metadata": {},
   "outputs": [],
   "source": [
    "type(t)"
   ]
  },
  {
   "cell_type": "code",
   "execution_count": null,
   "id": "db56957d",
   "metadata": {},
   "outputs": [],
   "source": [
    "t[0] = 'cct'"
   ]
  },
  {
   "cell_type": "code",
   "execution_count": null,
   "id": "27b875cc",
   "metadata": {},
   "outputs": [],
   "source": [
    "l1 = list(t)\n",
    "l1"
   ]
  },
  {
   "cell_type": "code",
   "execution_count": null,
   "id": "7b364e07",
   "metadata": {},
   "outputs": [],
   "source": [
    "l1[0] = 'cct'\n",
    "l1"
   ]
  },
  {
   "cell_type": "markdown",
   "id": "327120bd",
   "metadata": {},
   "source": [
    "# Comando range"
   ]
  },
  {
   "cell_type": "code",
   "execution_count": null,
   "id": "6ce6707b",
   "metadata": {},
   "outputs": [],
   "source": [
    "range(10)"
   ]
  },
  {
   "cell_type": "code",
   "execution_count": null,
   "id": "e90d6706",
   "metadata": {},
   "outputs": [],
   "source": [
    "list(range(10))"
   ]
  },
  {
   "cell_type": "code",
   "execution_count": null,
   "id": "d960940e",
   "metadata": {},
   "outputs": [],
   "source": [
    "list(range(1,10))"
   ]
  },
  {
   "cell_type": "code",
   "execution_count": null,
   "id": "c9dc3e08",
   "metadata": {},
   "outputs": [],
   "source": [
    "for elem in range(10):\n",
    "    print(elem)"
   ]
  },
  {
   "cell_type": "code",
   "execution_count": null,
   "id": "80bd09d9",
   "metadata": {},
   "outputs": [],
   "source": [
    "l1"
   ]
  },
  {
   "cell_type": "code",
   "execution_count": null,
   "id": "61a392ed",
   "metadata": {},
   "outputs": [],
   "source": [
    "for elem in l1:\n",
    "    print(elem)"
   ]
  },
  {
   "cell_type": "markdown",
   "id": "7d4e415f",
   "metadata": {},
   "source": [
    "# Dicionários"
   ]
  },
  {
   "cell_type": "code",
   "execution_count": null,
   "id": "e190d984",
   "metadata": {},
   "outputs": [],
   "source": [
    "d1 = { 10: 'UEPB',\n",
    "       'Marina': 7.5,\n",
    "       'Endereco': { 'Rua': 'Baraúnas', 'Numero': 240, 'Bairro': 'Bodocongó', 'Cidade': 'Campina Grande'}\n",
    "     }\n",
    "d1"
   ]
  },
  {
   "cell_type": "code",
   "execution_count": null,
   "id": "741b353f",
   "metadata": {},
   "outputs": [],
   "source": [
    "d1[10]"
   ]
  },
  {
   "cell_type": "code",
   "execution_count": null,
   "id": "01182af6",
   "metadata": {},
   "outputs": [],
   "source": [
    "d1['Computacao'] = 25\n",
    "d1"
   ]
  },
  {
   "cell_type": "code",
   "execution_count": null,
   "id": "57b119e1",
   "metadata": {},
   "outputs": [],
   "source": [
    "d1.keys()"
   ]
  },
  {
   "cell_type": "code",
   "execution_count": null,
   "id": "2964ca62",
   "metadata": {},
   "outputs": [],
   "source": [
    "d1['Endereco'].keys()"
   ]
  },
  {
   "cell_type": "code",
   "execution_count": null,
   "id": "c716310d",
   "metadata": {},
   "outputs": [],
   "source": [
    "d1['Endereco'].values()"
   ]
  },
  {
   "cell_type": "code",
   "execution_count": null,
   "id": "03b28c3b",
   "metadata": {},
   "outputs": [],
   "source": [
    "d1.values()"
   ]
  },
  {
   "cell_type": "code",
   "execution_count": null,
   "id": "f355a51d",
   "metadata": {},
   "outputs": [],
   "source": [
    "d1.items()"
   ]
  },
  {
   "cell_type": "code",
   "execution_count": null,
   "id": "24e16248",
   "metadata": {},
   "outputs": [],
   "source": [
    "for chave, valor in d1.items():\n",
    "    print(chave,':',valor)"
   ]
  },
  {
   "cell_type": "code",
   "execution_count": null,
   "id": "88b24a11",
   "metadata": {},
   "outputs": [],
   "source": [
    "d1['Endereco']"
   ]
  },
  {
   "cell_type": "code",
   "execution_count": null,
   "id": "ef2d94ac",
   "metadata": {},
   "outputs": [],
   "source": [
    "d1['Endereco']['Cidade']"
   ]
  },
  {
   "cell_type": "code",
   "execution_count": null,
   "id": "d8b96f3a",
   "metadata": {},
   "outputs": [],
   "source": [
    "cidade = d1['Endereco']['Cidade']\n",
    "cidade"
   ]
  },
  {
   "cell_type": "code",
   "execution_count": null,
   "id": "3eff3437",
   "metadata": {},
   "outputs": [],
   "source": [
    "del d1[10]\n",
    "d1"
   ]
  },
  {
   "cell_type": "markdown",
   "id": "d565e9f0",
   "metadata": {},
   "source": [
    "# List Comprehensions \n",
    "lista com o comando \"for\" dentro dela e pode ter comando if - else"
   ]
  },
  {
   "cell_type": "code",
   "execution_count": null,
   "id": "36b23dc8",
   "metadata": {},
   "outputs": [],
   "source": [
    "l = ['Rua', 'Baraúnas', 'Numero', 240, 'Bairro', 'Bodocongó', 'Cidade', 'Campina Grande']\n",
    "l"
   ]
  },
  {
   "cell_type": "code",
   "execution_count": null,
   "id": "024238ae",
   "metadata": {},
   "outputs": [],
   "source": [
    "result = []\n",
    "for val in l:\n",
    "    result.append(val)\n",
    "result"
   ]
  },
  {
   "cell_type": "code",
   "execution_count": null,
   "id": "388b1ec4",
   "metadata": {},
   "outputs": [],
   "source": [
    "result = [val for val in  l]\n",
    "result"
   ]
  },
  {
   "cell_type": "code",
   "execution_count": null,
   "id": "f11a425e",
   "metadata": {},
   "outputs": [],
   "source": [
    "n = list(range(10))\n",
    "print(n)"
   ]
  },
  {
   "cell_type": "code",
   "execution_count": null,
   "id": "1335ab42",
   "metadata": {},
   "outputs": [],
   "source": [
    "for elem in n:\n",
    "    if elem % 2 == 0:\n",
    "        print(elem)"
   ]
  },
  {
   "cell_type": "code",
   "execution_count": null,
   "id": "54afb052",
   "metadata": {},
   "outputs": [],
   "source": [
    "result = [val for val in n if val % 2 == 0]\n",
    "result"
   ]
  },
  {
   "cell_type": "code",
   "execution_count": 1,
   "id": "849b5c3d",
   "metadata": {},
   "outputs": [
    {
     "data": {
      "text/plain": [
       "['Rua',\n",
       " 'Baraúnas',\n",
       " 'Numero',\n",
       " 'Bairro',\n",
       " 'Bodocongó',\n",
       " 'Cidade',\n",
       " 'Campina Grande']"
      ]
     },
     "execution_count": 1,
     "metadata": {},
     "output_type": "execute_result"
    }
   ],
   "source": [
    "nomes = ['Rua',\n",
    " 'Baraúnas',\n",
    " 'Numero',\n",
    " 'Bairro',\n",
    " 'Bodocongó',\n",
    " 'Cidade',\n",
    " 'Campina Grande']\n",
    "nomes"
   ]
  },
  {
   "cell_type": "code",
   "execution_count": 2,
   "id": "8c386f83",
   "metadata": {},
   "outputs": [
    {
     "data": {
      "text/plain": [
       "'Rua'"
      ]
     },
     "execution_count": 2,
     "metadata": {},
     "output_type": "execute_result"
    }
   ],
   "source": [
    "s = 'Rua'\n",
    "s"
   ]
  },
  {
   "cell_type": "code",
   "execution_count": 3,
   "id": "d9eb0b67",
   "metadata": {},
   "outputs": [
    {
     "data": {
      "text/plain": [
       "str"
      ]
     },
     "execution_count": 3,
     "metadata": {},
     "output_type": "execute_result"
    }
   ],
   "source": [
    "type(s)"
   ]
  },
  {
   "cell_type": "code",
   "execution_count": 4,
   "id": "f0e13b6b",
   "metadata": {},
   "outputs": [
    {
     "data": {
      "text/plain": [
       "'RUA'"
      ]
     },
     "execution_count": 4,
     "metadata": {},
     "output_type": "execute_result"
    }
   ],
   "source": [
    "s.upper()"
   ]
  },
  {
   "cell_type": "code",
   "execution_count": 5,
   "id": "f80b6a53",
   "metadata": {},
   "outputs": [
    {
     "data": {
      "text/plain": [
       "'rua'"
      ]
     },
     "execution_count": 5,
     "metadata": {},
     "output_type": "execute_result"
    }
   ],
   "source": [
    "s.lower()"
   ]
  },
  {
   "cell_type": "code",
   "execution_count": 6,
   "id": "66746cd9",
   "metadata": {},
   "outputs": [
    {
     "data": {
      "text/plain": [
       "['Rua',\n",
       " 'Baraúnas',\n",
       " 'Numero',\n",
       " 'Bairro',\n",
       " 'Bodocongó',\n",
       " 'Cidade',\n",
       " 'Campina Grande',\n",
       " 'data',\n",
       " 'big data',\n",
       " 'Redes Neurais',\n",
       " 'deep learning']"
      ]
     },
     "execution_count": 6,
     "metadata": {},
     "output_type": "execute_result"
    }
   ],
   "source": [
    "nomes += ['data', 'big data', 'Redes Neurais', 'deep learning']\n",
    "nomes"
   ]
  },
  {
   "cell_type": "code",
   "execution_count": 7,
   "id": "5bdf3d13",
   "metadata": {},
   "outputs": [
    {
     "name": "stdout",
     "output_type": "stream",
     "text": [
      "['Rua', 'Baraúnas', 'Numero', 'Bairro', 'Bodocongó', 'Cidade', 'Campina Grande', 'data', 'big data', 'Redes Neurais', 'deep learning']\n"
     ]
    }
   ],
   "source": [
    "print(nomes)"
   ]
  },
  {
   "cell_type": "code",
   "execution_count": 8,
   "id": "43837570",
   "metadata": {},
   "outputs": [
    {
     "name": "stdout",
     "output_type": "stream",
     "text": [
      "Baraúnas : 8\n",
      "Bodocongó : 9\n",
      "Campina Grande : 14\n",
      "big data : 8\n",
      "Redes Neurais : 13\n",
      "deep learning : 13\n"
     ]
    }
   ],
   "source": [
    "for elem in nomes:\n",
    "    if len(elem) > 6:\n",
    "        print(elem, ':', len(elem))"
   ]
  },
  {
   "cell_type": "code",
   "execution_count": 9,
   "id": "96a10322",
   "metadata": {},
   "outputs": [
    {
     "ename": "NameError",
     "evalue": "name 'n' is not defined",
     "output_type": "error",
     "traceback": [
      "\u001b[0;31m---------------------------------------------------------------------------\u001b[0m",
      "\u001b[0;31mNameError\u001b[0m                                 Traceback (most recent call last)",
      "Cell \u001b[0;32mIn[9], line 1\u001b[0m\n\u001b[0;32m----> 1\u001b[0m result \u001b[38;5;241m=\u001b[39m [val \u001b[38;5;28;01mfor\u001b[39;00m val \u001b[38;5;129;01min\u001b[39;00m \u001b[43mn\u001b[49m \u001b[38;5;28;01mif\u001b[39;00m val \u001b[38;5;241m%\u001b[39m \u001b[38;5;241m2\u001b[39m \u001b[38;5;241m==\u001b[39m \u001b[38;5;241m0\u001b[39m]\n\u001b[1;32m      2\u001b[0m result\n",
      "\u001b[0;31mNameError\u001b[0m: name 'n' is not defined"
     ]
    }
   ],
   "source": [
    "result = [val for val in n if val % 2 == 0]\n",
    "result"
   ]
  },
  {
   "cell_type": "markdown",
   "id": "41945d53",
   "metadata": {},
   "source": [
    "#### Atividade: Percorrer uma lista e guardar as strings de tamanho maiores que 6, utilizando ListComprehension\n"
   ]
  },
  {
   "cell_type": "code",
   "execution_count": 10,
   "id": "a4bba5da",
   "metadata": {},
   "outputs": [
    {
     "data": {
      "text/plain": [
       "['Baraúnas',\n",
       " 'Bodocongó',\n",
       " 'Campina Grande',\n",
       " 'big data',\n",
       " 'Redes Neurais',\n",
       " 'deep learning']"
      ]
     },
     "execution_count": 10,
     "metadata": {},
     "output_type": "execute_result"
    }
   ],
   "source": [
    "result = [val for val in nomes if len(val) > 6]\n",
    "result"
   ]
  },
  {
   "cell_type": "markdown",
   "id": "452e75f1",
   "metadata": {},
   "source": [
    "# função embutida Map"
   ]
  },
  {
   "cell_type": "code",
   "execution_count": 11,
   "id": "16000a4c",
   "metadata": {},
   "outputs": [
    {
     "data": {
      "text/plain": [
       "'uepb'"
      ]
     },
     "execution_count": 11,
     "metadata": {},
     "output_type": "execute_result"
    }
   ],
   "source": [
    "s = 'uepb'\n",
    "s"
   ]
  },
  {
   "cell_type": "code",
   "execution_count": 12,
   "id": "63733f82",
   "metadata": {},
   "outputs": [
    {
     "data": {
      "text/plain": [
       "'Uepb'"
      ]
     },
     "execution_count": 12,
     "metadata": {},
     "output_type": "execute_result"
    }
   ],
   "source": [
    "s.capitalize()"
   ]
  },
  {
   "cell_type": "code",
   "execution_count": 13,
   "id": "1862b09a",
   "metadata": {},
   "outputs": [
    {
     "data": {
      "text/plain": [
       "['Baraúnas',\n",
       " 'Bodocongó',\n",
       " 'Campina Grande',\n",
       " 'big data',\n",
       " 'Redes Neurais',\n",
       " 'deep learning']"
      ]
     },
     "execution_count": 13,
     "metadata": {},
     "output_type": "execute_result"
    }
   ],
   "source": [
    "result"
   ]
  },
  {
   "cell_type": "code",
   "execution_count": 14,
   "id": "6fe602e9",
   "metadata": {},
   "outputs": [],
   "source": [
    "def maiuscula(x):\n",
    "    return x.capitalize()"
   ]
  },
  {
   "cell_type": "code",
   "execution_count": 16,
   "id": "70870c7d",
   "metadata": {},
   "outputs": [
    {
     "data": {
      "text/plain": [
       "'Big data'"
      ]
     },
     "execution_count": 16,
     "metadata": {},
     "output_type": "execute_result"
    }
   ],
   "source": [
    "maiuscula(result[3])"
   ]
  },
  {
   "cell_type": "code",
   "execution_count": 17,
   "id": "e5508655",
   "metadata": {},
   "outputs": [
    {
     "data": {
      "text/plain": [
       "['Baraúnas',\n",
       " 'Bodocongó',\n",
       " 'Campina grande',\n",
       " 'Big data',\n",
       " 'Redes neurais',\n",
       " 'Deep learning']"
      ]
     },
     "execution_count": 17,
     "metadata": {},
     "output_type": "execute_result"
    }
   ],
   "source": [
    "l = list(map(maiuscula, result))\n",
    "l"
   ]
  },
  {
   "cell_type": "code",
   "execution_count": null,
   "id": "403a2abf",
   "metadata": {},
   "outputs": [],
   "source": []
  }
 ],
 "metadata": {
  "kernelspec": {
   "display_name": "Python 3 (ipykernel)",
   "language": "python",
   "name": "python3"
  },
  "language_info": {
   "codemirror_mode": {
    "name": "ipython",
    "version": 3
   },
   "file_extension": ".py",
   "mimetype": "text/x-python",
   "name": "python",
   "nbconvert_exporter": "python",
   "pygments_lexer": "ipython3",
   "version": "3.9.17"
  }
 },
 "nbformat": 4,
 "nbformat_minor": 5
}
