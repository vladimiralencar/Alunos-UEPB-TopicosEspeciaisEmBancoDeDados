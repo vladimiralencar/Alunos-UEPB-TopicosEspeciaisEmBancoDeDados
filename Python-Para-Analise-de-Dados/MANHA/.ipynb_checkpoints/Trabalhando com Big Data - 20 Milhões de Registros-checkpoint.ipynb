{
 "cells": [
  {
   "cell_type": "markdown",
   "id": "09fe7279",
   "metadata": {},
   "source": [
    "## Trabalhando com Big Data - 20 Milhões de Registros\n",
    "fonte: https://grouplens.org/datasets/movielens/"
   ]
  },
  {
   "cell_type": "code",
   "execution_count": 1,
   "id": "e3cd595b",
   "metadata": {},
   "outputs": [],
   "source": [
    "import pandas as pd"
   ]
  },
  {
   "cell_type": "code",
   "execution_count": null,
   "id": "02aacb5b",
   "metadata": {},
   "outputs": [],
   "source": [
    "!pwd"
   ]
  },
  {
   "cell_type": "code",
   "execution_count": null,
   "id": "47246511",
   "metadata": {},
   "outputs": [],
   "source": [
    "!ls -ilah /Users/valencar/Dropbox/AULAS-REMOTAS/BD-ESTATISTICA-MANHA/datasets/ml-20m"
   ]
  },
  {
   "cell_type": "code",
   "execution_count": 2,
   "id": "69eeb794",
   "metadata": {},
   "outputs": [
    {
     "data": {
      "text/plain": [
       "'/Users/valencar/Dropbox/AULAS-REMOTAS/BD-ESTATISTICA-MANHA/datasets/ml-20m/filmes4.csv'"
      ]
     },
     "execution_count": 2,
     "metadata": {},
     "output_type": "execute_result"
    }
   ],
   "source": [
    "url = '/Users/valencar/Dropbox/AULAS-REMOTAS/BD-ESTATISTICA-MANHA/datasets/ml-20m' + '/' + 'filmes4.csv'\n",
    "url"
   ]
  },
  {
   "cell_type": "code",
   "execution_count": 3,
   "id": "65e6a561",
   "metadata": {},
   "outputs": [
    {
     "name": "stdout",
     "output_type": "stream",
     "text": [
      "CPU times: user 2 µs, sys: 0 ns, total: 2 µs\n",
      "Wall time: 5.01 µs\n",
      "total de registros: 20,000,263\n"
     ]
    }
   ],
   "source": [
    "%time\n",
    "df = pd.read_csv(url, header=None)\n",
    "df.columns = ['id_user', 'id_titulo', 'titulo', 'rating', 'timestamp']\n",
    "print('total de registros: {:,d}'.format(len(df)))"
   ]
  },
  {
   "cell_type": "code",
   "execution_count": 4,
   "id": "8aaeab6a",
   "metadata": {},
   "outputs": [
    {
     "data": {
      "text/html": [
       "<div>\n",
       "<style scoped>\n",
       "    .dataframe tbody tr th:only-of-type {\n",
       "        vertical-align: middle;\n",
       "    }\n",
       "\n",
       "    .dataframe tbody tr th {\n",
       "        vertical-align: top;\n",
       "    }\n",
       "\n",
       "    .dataframe thead th {\n",
       "        text-align: right;\n",
       "    }\n",
       "</style>\n",
       "<table border=\"1\" class=\"dataframe\">\n",
       "  <thead>\n",
       "    <tr style=\"text-align: right;\">\n",
       "      <th></th>\n",
       "      <th>id_user</th>\n",
       "      <th>id_titulo</th>\n",
       "      <th>titulo</th>\n",
       "      <th>rating</th>\n",
       "      <th>timestamp</th>\n",
       "    </tr>\n",
       "  </thead>\n",
       "  <tbody>\n",
       "    <tr>\n",
       "      <th>0</th>\n",
       "      <td>1</td>\n",
       "      <td>2</td>\n",
       "      <td>Jumanji (1995)</td>\n",
       "      <td>3.5</td>\n",
       "      <td>1112486027</td>\n",
       "    </tr>\n",
       "    <tr>\n",
       "      <th>1</th>\n",
       "      <td>1</td>\n",
       "      <td>29</td>\n",
       "      <td>City of Lost Children, The (Cité des enfants p...</td>\n",
       "      <td>3.5</td>\n",
       "      <td>1112484676</td>\n",
       "    </tr>\n",
       "    <tr>\n",
       "      <th>2</th>\n",
       "      <td>1</td>\n",
       "      <td>32</td>\n",
       "      <td>Twelve Monkeys (a.k.a. 12 Monkeys) (1995)</td>\n",
       "      <td>3.5</td>\n",
       "      <td>1112484819</td>\n",
       "    </tr>\n",
       "    <tr>\n",
       "      <th>3</th>\n",
       "      <td>1</td>\n",
       "      <td>47</td>\n",
       "      <td>Seven (a.k.a. Se7en) (1995)</td>\n",
       "      <td>3.5</td>\n",
       "      <td>1112484727</td>\n",
       "    </tr>\n",
       "    <tr>\n",
       "      <th>4</th>\n",
       "      <td>1</td>\n",
       "      <td>50</td>\n",
       "      <td>Usual Suspects, The (1995)</td>\n",
       "      <td>3.5</td>\n",
       "      <td>1112484580</td>\n",
       "    </tr>\n",
       "  </tbody>\n",
       "</table>\n",
       "</div>"
      ],
      "text/plain": [
       "   id_user  id_titulo                                             titulo  \\\n",
       "0        1          2                                     Jumanji (1995)   \n",
       "1        1         29  City of Lost Children, The (Cité des enfants p...   \n",
       "2        1         32          Twelve Monkeys (a.k.a. 12 Monkeys) (1995)   \n",
       "3        1         47                        Seven (a.k.a. Se7en) (1995)   \n",
       "4        1         50                         Usual Suspects, The (1995)   \n",
       "\n",
       "   rating   timestamp  \n",
       "0     3.5  1112486027  \n",
       "1     3.5  1112484676  \n",
       "2     3.5  1112484819  \n",
       "3     3.5  1112484727  \n",
       "4     3.5  1112484580  "
      ]
     },
     "execution_count": 4,
     "metadata": {},
     "output_type": "execute_result"
    }
   ],
   "source": [
    "df.head()"
   ]
  },
  {
   "cell_type": "code",
   "execution_count": 5,
   "id": "93a4c767",
   "metadata": {},
   "outputs": [
    {
     "name": "stdout",
     "output_type": "stream",
     "text": [
      "<class 'pandas.core.frame.DataFrame'>\n",
      "RangeIndex: 20000263 entries, 0 to 20000262\n",
      "Data columns (total 5 columns):\n",
      " #   Column     Dtype  \n",
      "---  ------     -----  \n",
      " 0   id_user    int64  \n",
      " 1   id_titulo  int64  \n",
      " 2   titulo     object \n",
      " 3   rating     float64\n",
      " 4   timestamp  int64  \n",
      "dtypes: float64(1), int64(3), object(1)\n",
      "memory usage: 762.9+ MB\n"
     ]
    }
   ],
   "source": [
    "df.info()"
   ]
  },
  {
   "cell_type": "code",
   "execution_count": 6,
   "id": "0b1edccc",
   "metadata": {},
   "outputs": [
    {
     "data": {
      "text/html": [
       "<div>\n",
       "<style scoped>\n",
       "    .dataframe tbody tr th:only-of-type {\n",
       "        vertical-align: middle;\n",
       "    }\n",
       "\n",
       "    .dataframe tbody tr th {\n",
       "        vertical-align: top;\n",
       "    }\n",
       "\n",
       "    .dataframe thead th {\n",
       "        text-align: right;\n",
       "    }\n",
       "</style>\n",
       "<table border=\"1\" class=\"dataframe\">\n",
       "  <thead>\n",
       "    <tr style=\"text-align: right;\">\n",
       "      <th></th>\n",
       "      <th>id_user</th>\n",
       "      <th>id_titulo</th>\n",
       "      <th>titulo</th>\n",
       "      <th>rating</th>\n",
       "      <th>timestamp</th>\n",
       "    </tr>\n",
       "  </thead>\n",
       "  <tbody>\n",
       "    <tr>\n",
       "      <th>13699034</th>\n",
       "      <td>127959</td>\n",
       "      <td>1086</td>\n",
       "      <td>Dial M for Murder (1954)</td>\n",
       "      <td>5.0</td>\n",
       "      <td>1143310854</td>\n",
       "    </tr>\n",
       "    <tr>\n",
       "      <th>7379179</th>\n",
       "      <td>69009</td>\n",
       "      <td>3012</td>\n",
       "      <td>Battling Butler (1926)</td>\n",
       "      <td>5.0</td>\n",
       "      <td>961110751</td>\n",
       "    </tr>\n",
       "    <tr>\n",
       "      <th>2027246</th>\n",
       "      <td>18537</td>\n",
       "      <td>1956</td>\n",
       "      <td>Ordinary People (1980)</td>\n",
       "      <td>5.0</td>\n",
       "      <td>996773587</td>\n",
       "    </tr>\n",
       "    <tr>\n",
       "      <th>7379177</th>\n",
       "      <td>69009</td>\n",
       "      <td>2987</td>\n",
       "      <td>Who Framed Roger Rabbit? (1988)</td>\n",
       "      <td>5.0</td>\n",
       "      <td>961112068</td>\n",
       "    </tr>\n",
       "    <tr>\n",
       "      <th>14429932</th>\n",
       "      <td>134779</td>\n",
       "      <td>1214</td>\n",
       "      <td>Alien (1979)</td>\n",
       "      <td>5.0</td>\n",
       "      <td>974841733</td>\n",
       "    </tr>\n",
       "    <tr>\n",
       "      <th>2027249</th>\n",
       "      <td>18537</td>\n",
       "      <td>2194</td>\n",
       "      <td>Untouchables, The (1987)</td>\n",
       "      <td>5.0</td>\n",
       "      <td>996773970</td>\n",
       "    </tr>\n",
       "    <tr>\n",
       "      <th>14429933</th>\n",
       "      <td>134779</td>\n",
       "      <td>1219</td>\n",
       "      <td>Psycho (1960)</td>\n",
       "      <td>5.0</td>\n",
       "      <td>974841666</td>\n",
       "    </tr>\n",
       "    <tr>\n",
       "      <th>7379174</th>\n",
       "      <td>69009</td>\n",
       "      <td>2937</td>\n",
       "      <td>Palm Beach Story, The (1942)</td>\n",
       "      <td>5.0</td>\n",
       "      <td>961109785</td>\n",
       "    </tr>\n",
       "    <tr>\n",
       "      <th>2027252</th>\n",
       "      <td>18537</td>\n",
       "      <td>2313</td>\n",
       "      <td>Elephant Man, The (1980)</td>\n",
       "      <td>5.0</td>\n",
       "      <td>996773654</td>\n",
       "    </tr>\n",
       "    <tr>\n",
       "      <th>2027253</th>\n",
       "      <td>18537</td>\n",
       "      <td>2324</td>\n",
       "      <td>Life Is Beautiful (La Vita è bella) (1997)</td>\n",
       "      <td>5.0</td>\n",
       "      <td>996769105</td>\n",
       "    </tr>\n",
       "    <tr>\n",
       "      <th>2027254</th>\n",
       "      <td>18537</td>\n",
       "      <td>2336</td>\n",
       "      <td>Elizabeth (1998)</td>\n",
       "      <td>5.0</td>\n",
       "      <td>996766768</td>\n",
       "    </tr>\n",
       "    <tr>\n",
       "      <th>7379173</th>\n",
       "      <td>69009</td>\n",
       "      <td>2935</td>\n",
       "      <td>Lady Eve, The (1941)</td>\n",
       "      <td>5.0</td>\n",
       "      <td>961109729</td>\n",
       "    </tr>\n",
       "    <tr>\n",
       "      <th>7379172</th>\n",
       "      <td>69009</td>\n",
       "      <td>2920</td>\n",
       "      <td>Children of Paradise (Les enfants du paradis) ...</td>\n",
       "      <td>5.0</td>\n",
       "      <td>961112722</td>\n",
       "    </tr>\n",
       "    <tr>\n",
       "      <th>2027257</th>\n",
       "      <td>18537</td>\n",
       "      <td>2512</td>\n",
       "      <td>Ballad of Narayama, The (Narayama bushiko) (1983)</td>\n",
       "      <td>5.0</td>\n",
       "      <td>996774067</td>\n",
       "    </tr>\n",
       "    <tr>\n",
       "      <th>14429934</th>\n",
       "      <td>134779</td>\n",
       "      <td>1227</td>\n",
       "      <td>Once Upon a Time in America (1984)</td>\n",
       "      <td>5.0</td>\n",
       "      <td>974842137</td>\n",
       "    </tr>\n",
       "    <tr>\n",
       "      <th>7379168</th>\n",
       "      <td>69009</td>\n",
       "      <td>2797</td>\n",
       "      <td>Big (1988)</td>\n",
       "      <td>5.0</td>\n",
       "      <td>961110838</td>\n",
       "    </tr>\n",
       "    <tr>\n",
       "      <th>2027260</th>\n",
       "      <td>18537</td>\n",
       "      <td>2704</td>\n",
       "      <td>Lovers on the Bridge, The (Amants du Pont-Neuf...</td>\n",
       "      <td>5.0</td>\n",
       "      <td>996768682</td>\n",
       "    </tr>\n",
       "    <tr>\n",
       "      <th>7379167</th>\n",
       "      <td>69009</td>\n",
       "      <td>2791</td>\n",
       "      <td>Airplane! (1980)</td>\n",
       "      <td>5.0</td>\n",
       "      <td>961110113</td>\n",
       "    </tr>\n",
       "    <tr>\n",
       "      <th>7379166</th>\n",
       "      <td>69009</td>\n",
       "      <td>2779</td>\n",
       "      <td>Heaven Can Wait (1978)</td>\n",
       "      <td>5.0</td>\n",
       "      <td>961110937</td>\n",
       "    </tr>\n",
       "    <tr>\n",
       "      <th>7379163</th>\n",
       "      <td>69009</td>\n",
       "      <td>2731</td>\n",
       "      <td>400 Blows, The (Les quatre cents coups) (1959)</td>\n",
       "      <td>5.0</td>\n",
       "      <td>961113737</td>\n",
       "    </tr>\n",
       "    <tr>\n",
       "      <th>7379160</th>\n",
       "      <td>69009</td>\n",
       "      <td>2726</td>\n",
       "      <td>Killing, The (1956)</td>\n",
       "      <td>5.0</td>\n",
       "      <td>961112068</td>\n",
       "    </tr>\n",
       "    <tr>\n",
       "      <th>2027245</th>\n",
       "      <td>18537</td>\n",
       "      <td>1947</td>\n",
       "      <td>West Side Story (1961)</td>\n",
       "      <td>5.0</td>\n",
       "      <td>996768779</td>\n",
       "    </tr>\n",
       "    <tr>\n",
       "      <th>7379180</th>\n",
       "      <td>69009</td>\n",
       "      <td>3019</td>\n",
       "      <td>Drugstore Cowboy (1989)</td>\n",
       "      <td>5.0</td>\n",
       "      <td>961114268</td>\n",
       "    </tr>\n",
       "    <tr>\n",
       "      <th>7379159</th>\n",
       "      <td>69009</td>\n",
       "      <td>2716</td>\n",
       "      <td>Ghostbusters (a.k.a. Ghost Busters) (1984)</td>\n",
       "      <td>5.0</td>\n",
       "      <td>961110233</td>\n",
       "    </tr>\n",
       "    <tr>\n",
       "      <th>7379181</th>\n",
       "      <td>69009</td>\n",
       "      <td>3022</td>\n",
       "      <td>General, The (1926)</td>\n",
       "      <td>5.0</td>\n",
       "      <td>961109729</td>\n",
       "    </tr>\n",
       "    <tr>\n",
       "      <th>2027223</th>\n",
       "      <td>18537</td>\n",
       "      <td>1225</td>\n",
       "      <td>Amadeus (1984)</td>\n",
       "      <td>5.0</td>\n",
       "      <td>996773462</td>\n",
       "    </tr>\n",
       "    <tr>\n",
       "      <th>2027224</th>\n",
       "      <td>18537</td>\n",
       "      <td>1227</td>\n",
       "      <td>Once Upon a Time in America (1984)</td>\n",
       "      <td>5.0</td>\n",
       "      <td>996723787</td>\n",
       "    </tr>\n",
       "    <tr>\n",
       "      <th>7379200</th>\n",
       "      <td>69009</td>\n",
       "      <td>3104</td>\n",
       "      <td>Midnight Run (1988)</td>\n",
       "      <td>5.0</td>\n",
       "      <td>961110647</td>\n",
       "    </tr>\n",
       "    <tr>\n",
       "      <th>2027226</th>\n",
       "      <td>18537</td>\n",
       "      <td>1296</td>\n",
       "      <td>Room with a View, A (1986)</td>\n",
       "      <td>5.0</td>\n",
       "      <td>996773785</td>\n",
       "    </tr>\n",
       "    <tr>\n",
       "      <th>2027227</th>\n",
       "      <td>18537</td>\n",
       "      <td>1307</td>\n",
       "      <td>When Harry Met Sally... (1989)</td>\n",
       "      <td>5.0</td>\n",
       "      <td>996773814</td>\n",
       "    </tr>\n",
       "  </tbody>\n",
       "</table>\n",
       "</div>"
      ],
      "text/plain": [
       "          id_user  id_titulo  \\\n",
       "13699034   127959       1086   \n",
       "7379179     69009       3012   \n",
       "2027246     18537       1956   \n",
       "7379177     69009       2987   \n",
       "14429932   134779       1214   \n",
       "2027249     18537       2194   \n",
       "14429933   134779       1219   \n",
       "7379174     69009       2937   \n",
       "2027252     18537       2313   \n",
       "2027253     18537       2324   \n",
       "2027254     18537       2336   \n",
       "7379173     69009       2935   \n",
       "7379172     69009       2920   \n",
       "2027257     18537       2512   \n",
       "14429934   134779       1227   \n",
       "7379168     69009       2797   \n",
       "2027260     18537       2704   \n",
       "7379167     69009       2791   \n",
       "7379166     69009       2779   \n",
       "7379163     69009       2731   \n",
       "7379160     69009       2726   \n",
       "2027245     18537       1947   \n",
       "7379180     69009       3019   \n",
       "7379159     69009       2716   \n",
       "7379181     69009       3022   \n",
       "2027223     18537       1225   \n",
       "2027224     18537       1227   \n",
       "7379200     69009       3104   \n",
       "2027226     18537       1296   \n",
       "2027227     18537       1307   \n",
       "\n",
       "                                                     titulo  rating  \\\n",
       "13699034                           Dial M for Murder (1954)     5.0   \n",
       "7379179                              Battling Butler (1926)     5.0   \n",
       "2027246                              Ordinary People (1980)     5.0   \n",
       "7379177                     Who Framed Roger Rabbit? (1988)     5.0   \n",
       "14429932                                       Alien (1979)     5.0   \n",
       "2027249                            Untouchables, The (1987)     5.0   \n",
       "14429933                                      Psycho (1960)     5.0   \n",
       "7379174                        Palm Beach Story, The (1942)     5.0   \n",
       "2027252                            Elephant Man, The (1980)     5.0   \n",
       "2027253          Life Is Beautiful (La Vita è bella) (1997)     5.0   \n",
       "2027254                                    Elizabeth (1998)     5.0   \n",
       "7379173                                Lady Eve, The (1941)     5.0   \n",
       "7379172   Children of Paradise (Les enfants du paradis) ...     5.0   \n",
       "2027257   Ballad of Narayama, The (Narayama bushiko) (1983)     5.0   \n",
       "14429934                 Once Upon a Time in America (1984)     5.0   \n",
       "7379168                                          Big (1988)     5.0   \n",
       "2027260   Lovers on the Bridge, The (Amants du Pont-Neuf...     5.0   \n",
       "7379167                                    Airplane! (1980)     5.0   \n",
       "7379166                              Heaven Can Wait (1978)     5.0   \n",
       "7379163      400 Blows, The (Les quatre cents coups) (1959)     5.0   \n",
       "7379160                                 Killing, The (1956)     5.0   \n",
       "2027245                              West Side Story (1961)     5.0   \n",
       "7379180                             Drugstore Cowboy (1989)     5.0   \n",
       "7379159          Ghostbusters (a.k.a. Ghost Busters) (1984)     5.0   \n",
       "7379181                                 General, The (1926)     5.0   \n",
       "2027223                                      Amadeus (1984)     5.0   \n",
       "2027224                  Once Upon a Time in America (1984)     5.0   \n",
       "7379200                                 Midnight Run (1988)     5.0   \n",
       "2027226                          Room with a View, A (1986)     5.0   \n",
       "2027227                      When Harry Met Sally... (1989)     5.0   \n",
       "\n",
       "           timestamp  \n",
       "13699034  1143310854  \n",
       "7379179    961110751  \n",
       "2027246    996773587  \n",
       "7379177    961112068  \n",
       "14429932   974841733  \n",
       "2027249    996773970  \n",
       "14429933   974841666  \n",
       "7379174    961109785  \n",
       "2027252    996773654  \n",
       "2027253    996769105  \n",
       "2027254    996766768  \n",
       "7379173    961109729  \n",
       "7379172    961112722  \n",
       "2027257    996774067  \n",
       "14429934   974842137  \n",
       "7379168    961110838  \n",
       "2027260    996768682  \n",
       "7379167    961110113  \n",
       "7379166    961110937  \n",
       "7379163    961113737  \n",
       "7379160    961112068  \n",
       "2027245    996768779  \n",
       "7379180    961114268  \n",
       "7379159    961110233  \n",
       "7379181    961109729  \n",
       "2027223    996773462  \n",
       "2027224    996723787  \n",
       "7379200    961110647  \n",
       "2027226    996773785  \n",
       "2027227    996773814  "
      ]
     },
     "execution_count": 6,
     "metadata": {},
     "output_type": "execute_result"
    }
   ],
   "source": [
    "df.sort_values(by='rating', ascending=False)[:30]"
   ]
  },
  {
   "cell_type": "code",
   "execution_count": 7,
   "id": "8b16e530",
   "metadata": {},
   "outputs": [
    {
     "data": {
      "text/plain": [
       "4.0    5561926\n",
       "3.0    4291193\n",
       "5.0    2898660\n",
       "3.5    2200156\n",
       "4.5    1534824\n",
       "2.0    1430997\n",
       "2.5     883398\n",
       "1.0     680732\n",
       "1.5     279252\n",
       "0.5     239125\n",
       "Name: rating, dtype: int64"
      ]
     },
     "execution_count": 7,
     "metadata": {},
     "output_type": "execute_result"
    }
   ],
   "source": [
    "dfo = df.rating.value_counts()\n",
    "dfo"
   ]
  },
  {
   "cell_type": "code",
   "execution_count": 8,
   "id": "2e394559",
   "metadata": {},
   "outputs": [
    {
     "data": {
      "text/plain": [
       "pandas.core.series.Series"
      ]
     },
     "execution_count": 8,
     "metadata": {},
     "output_type": "execute_result"
    }
   ],
   "source": [
    "type(dfo)"
   ]
  },
  {
   "cell_type": "code",
   "execution_count": 10,
   "id": "672bd19c",
   "metadata": {},
   "outputs": [],
   "source": [
    "df2 = dfo.to_frame().reset_index()\n",
    "df2.columns = ['rating', 'quantidade']"
   ]
  },
  {
   "cell_type": "code",
   "execution_count": 11,
   "id": "5068f32f",
   "metadata": {},
   "outputs": [
    {
     "data": {
      "text/html": [
       "<div>\n",
       "<style scoped>\n",
       "    .dataframe tbody tr th:only-of-type {\n",
       "        vertical-align: middle;\n",
       "    }\n",
       "\n",
       "    .dataframe tbody tr th {\n",
       "        vertical-align: top;\n",
       "    }\n",
       "\n",
       "    .dataframe thead th {\n",
       "        text-align: right;\n",
       "    }\n",
       "</style>\n",
       "<table border=\"1\" class=\"dataframe\">\n",
       "  <thead>\n",
       "    <tr style=\"text-align: right;\">\n",
       "      <th></th>\n",
       "      <th>rating</th>\n",
       "      <th>quantidade</th>\n",
       "    </tr>\n",
       "  </thead>\n",
       "  <tbody>\n",
       "    <tr>\n",
       "      <th>0</th>\n",
       "      <td>4.0</td>\n",
       "      <td>5561926</td>\n",
       "    </tr>\n",
       "    <tr>\n",
       "      <th>1</th>\n",
       "      <td>3.0</td>\n",
       "      <td>4291193</td>\n",
       "    </tr>\n",
       "    <tr>\n",
       "      <th>2</th>\n",
       "      <td>5.0</td>\n",
       "      <td>2898660</td>\n",
       "    </tr>\n",
       "    <tr>\n",
       "      <th>3</th>\n",
       "      <td>3.5</td>\n",
       "      <td>2200156</td>\n",
       "    </tr>\n",
       "    <tr>\n",
       "      <th>4</th>\n",
       "      <td>4.5</td>\n",
       "      <td>1534824</td>\n",
       "    </tr>\n",
       "    <tr>\n",
       "      <th>5</th>\n",
       "      <td>2.0</td>\n",
       "      <td>1430997</td>\n",
       "    </tr>\n",
       "    <tr>\n",
       "      <th>6</th>\n",
       "      <td>2.5</td>\n",
       "      <td>883398</td>\n",
       "    </tr>\n",
       "    <tr>\n",
       "      <th>7</th>\n",
       "      <td>1.0</td>\n",
       "      <td>680732</td>\n",
       "    </tr>\n",
       "    <tr>\n",
       "      <th>8</th>\n",
       "      <td>1.5</td>\n",
       "      <td>279252</td>\n",
       "    </tr>\n",
       "    <tr>\n",
       "      <th>9</th>\n",
       "      <td>0.5</td>\n",
       "      <td>239125</td>\n",
       "    </tr>\n",
       "  </tbody>\n",
       "</table>\n",
       "</div>"
      ],
      "text/plain": [
       "   rating  quantidade\n",
       "0     4.0     5561926\n",
       "1     3.0     4291193\n",
       "2     5.0     2898660\n",
       "3     3.5     2200156\n",
       "4     4.5     1534824\n",
       "5     2.0     1430997\n",
       "6     2.5      883398\n",
       "7     1.0      680732\n",
       "8     1.5      279252\n",
       "9     0.5      239125"
      ]
     },
     "execution_count": 11,
     "metadata": {},
     "output_type": "execute_result"
    }
   ],
   "source": [
    "df2"
   ]
  },
  {
   "cell_type": "code",
   "execution_count": 12,
   "id": "467b535e",
   "metadata": {},
   "outputs": [
    {
     "data": {
      "text/html": [
       "<div>\n",
       "<style scoped>\n",
       "    .dataframe tbody tr th:only-of-type {\n",
       "        vertical-align: middle;\n",
       "    }\n",
       "\n",
       "    .dataframe tbody tr th {\n",
       "        vertical-align: top;\n",
       "    }\n",
       "\n",
       "    .dataframe thead th {\n",
       "        text-align: right;\n",
       "    }\n",
       "</style>\n",
       "<table border=\"1\" class=\"dataframe\">\n",
       "  <thead>\n",
       "    <tr style=\"text-align: right;\">\n",
       "      <th></th>\n",
       "      <th>rating</th>\n",
       "      <th>quantidade</th>\n",
       "      <th>percent</th>\n",
       "    </tr>\n",
       "  </thead>\n",
       "  <tbody>\n",
       "    <tr>\n",
       "      <th>0</th>\n",
       "      <td>4.0</td>\n",
       "      <td>5561926</td>\n",
       "      <td>27.809264</td>\n",
       "    </tr>\n",
       "    <tr>\n",
       "      <th>1</th>\n",
       "      <td>3.0</td>\n",
       "      <td>4291193</td>\n",
       "      <td>21.455683</td>\n",
       "    </tr>\n",
       "    <tr>\n",
       "      <th>2</th>\n",
       "      <td>5.0</td>\n",
       "      <td>2898660</td>\n",
       "      <td>14.493109</td>\n",
       "    </tr>\n",
       "    <tr>\n",
       "      <th>3</th>\n",
       "      <td>3.5</td>\n",
       "      <td>2200156</td>\n",
       "      <td>11.000635</td>\n",
       "    </tr>\n",
       "    <tr>\n",
       "      <th>4</th>\n",
       "      <td>4.5</td>\n",
       "      <td>1534824</td>\n",
       "      <td>7.674019</td>\n",
       "    </tr>\n",
       "    <tr>\n",
       "      <th>5</th>\n",
       "      <td>2.0</td>\n",
       "      <td>1430997</td>\n",
       "      <td>7.154891</td>\n",
       "    </tr>\n",
       "    <tr>\n",
       "      <th>6</th>\n",
       "      <td>2.5</td>\n",
       "      <td>883398</td>\n",
       "      <td>4.416932</td>\n",
       "    </tr>\n",
       "    <tr>\n",
       "      <th>7</th>\n",
       "      <td>1.0</td>\n",
       "      <td>680732</td>\n",
       "      <td>3.403615</td>\n",
       "    </tr>\n",
       "    <tr>\n",
       "      <th>8</th>\n",
       "      <td>1.5</td>\n",
       "      <td>279252</td>\n",
       "      <td>1.396242</td>\n",
       "    </tr>\n",
       "    <tr>\n",
       "      <th>9</th>\n",
       "      <td>0.5</td>\n",
       "      <td>239125</td>\n",
       "      <td>1.195609</td>\n",
       "    </tr>\n",
       "  </tbody>\n",
       "</table>\n",
       "</div>"
      ],
      "text/plain": [
       "   rating  quantidade    percent\n",
       "0     4.0     5561926  27.809264\n",
       "1     3.0     4291193  21.455683\n",
       "2     5.0     2898660  14.493109\n",
       "3     3.5     2200156  11.000635\n",
       "4     4.5     1534824   7.674019\n",
       "5     2.0     1430997   7.154891\n",
       "6     2.5      883398   4.416932\n",
       "7     1.0      680732   3.403615\n",
       "8     1.5      279252   1.396242\n",
       "9     0.5      239125   1.195609"
      ]
     },
     "execution_count": 12,
     "metadata": {},
     "output_type": "execute_result"
    }
   ],
   "source": [
    "df2['percent'] = df2['quantidade'] / df2['quantidade'].sum() * 100\n",
    "df2"
   ]
  },
  {
   "cell_type": "code",
   "execution_count": 20,
   "id": "82c9948f",
   "metadata": {},
   "outputs": [
    {
     "data": {
      "text/html": [
       "<style type=\"text/css\">\n",
       "</style>\n",
       "<table id=\"T_4c8b0_\">\n",
       "  <thead>\n",
       "    <tr>\n",
       "      <th class=\"blank level0\" >&nbsp;</th>\n",
       "      <th class=\"col_heading level0 col0\" >rating</th>\n",
       "      <th class=\"col_heading level0 col1\" >quantidade</th>\n",
       "      <th class=\"col_heading level0 col2\" >percent</th>\n",
       "    </tr>\n",
       "  </thead>\n",
       "  <tbody>\n",
       "    <tr>\n",
       "      <th id=\"T_4c8b0_level0_row0\" class=\"row_heading level0 row0\" >0</th>\n",
       "      <td id=\"T_4c8b0_row0_col0\" class=\"data row0 col0\" >4.0</td>\n",
       "      <td id=\"T_4c8b0_row0_col1\" class=\"data row0 col1\" >5,561,926</td>\n",
       "      <td id=\"T_4c8b0_row0_col2\" class=\"data row0 col2\" >28</td>\n",
       "    </tr>\n",
       "    <tr>\n",
       "      <th id=\"T_4c8b0_level0_row1\" class=\"row_heading level0 row1\" >1</th>\n",
       "      <td id=\"T_4c8b0_row1_col0\" class=\"data row1 col0\" >3.0</td>\n",
       "      <td id=\"T_4c8b0_row1_col1\" class=\"data row1 col1\" >4,291,193</td>\n",
       "      <td id=\"T_4c8b0_row1_col2\" class=\"data row1 col2\" >21</td>\n",
       "    </tr>\n",
       "    <tr>\n",
       "      <th id=\"T_4c8b0_level0_row2\" class=\"row_heading level0 row2\" >2</th>\n",
       "      <td id=\"T_4c8b0_row2_col0\" class=\"data row2 col0\" >5.0</td>\n",
       "      <td id=\"T_4c8b0_row2_col1\" class=\"data row2 col1\" >2,898,660</td>\n",
       "      <td id=\"T_4c8b0_row2_col2\" class=\"data row2 col2\" >14</td>\n",
       "    </tr>\n",
       "    <tr>\n",
       "      <th id=\"T_4c8b0_level0_row3\" class=\"row_heading level0 row3\" >3</th>\n",
       "      <td id=\"T_4c8b0_row3_col0\" class=\"data row3 col0\" >3.5</td>\n",
       "      <td id=\"T_4c8b0_row3_col1\" class=\"data row3 col1\" >2,200,156</td>\n",
       "      <td id=\"T_4c8b0_row3_col2\" class=\"data row3 col2\" >11</td>\n",
       "    </tr>\n",
       "    <tr>\n",
       "      <th id=\"T_4c8b0_level0_row4\" class=\"row_heading level0 row4\" >4</th>\n",
       "      <td id=\"T_4c8b0_row4_col0\" class=\"data row4 col0\" >4.5</td>\n",
       "      <td id=\"T_4c8b0_row4_col1\" class=\"data row4 col1\" >1,534,824</td>\n",
       "      <td id=\"T_4c8b0_row4_col2\" class=\"data row4 col2\" >8</td>\n",
       "    </tr>\n",
       "    <tr>\n",
       "      <th id=\"T_4c8b0_level0_row5\" class=\"row_heading level0 row5\" >5</th>\n",
       "      <td id=\"T_4c8b0_row5_col0\" class=\"data row5 col0\" >2.0</td>\n",
       "      <td id=\"T_4c8b0_row5_col1\" class=\"data row5 col1\" >1,430,997</td>\n",
       "      <td id=\"T_4c8b0_row5_col2\" class=\"data row5 col2\" >7</td>\n",
       "    </tr>\n",
       "    <tr>\n",
       "      <th id=\"T_4c8b0_level0_row6\" class=\"row_heading level0 row6\" >6</th>\n",
       "      <td id=\"T_4c8b0_row6_col0\" class=\"data row6 col0\" >2.5</td>\n",
       "      <td id=\"T_4c8b0_row6_col1\" class=\"data row6 col1\" >883,398</td>\n",
       "      <td id=\"T_4c8b0_row6_col2\" class=\"data row6 col2\" >4</td>\n",
       "    </tr>\n",
       "    <tr>\n",
       "      <th id=\"T_4c8b0_level0_row7\" class=\"row_heading level0 row7\" >7</th>\n",
       "      <td id=\"T_4c8b0_row7_col0\" class=\"data row7 col0\" >1.0</td>\n",
       "      <td id=\"T_4c8b0_row7_col1\" class=\"data row7 col1\" >680,732</td>\n",
       "      <td id=\"T_4c8b0_row7_col2\" class=\"data row7 col2\" >3</td>\n",
       "    </tr>\n",
       "    <tr>\n",
       "      <th id=\"T_4c8b0_level0_row8\" class=\"row_heading level0 row8\" >8</th>\n",
       "      <td id=\"T_4c8b0_row8_col0\" class=\"data row8 col0\" >1.5</td>\n",
       "      <td id=\"T_4c8b0_row8_col1\" class=\"data row8 col1\" >279,252</td>\n",
       "      <td id=\"T_4c8b0_row8_col2\" class=\"data row8 col2\" >1</td>\n",
       "    </tr>\n",
       "    <tr>\n",
       "      <th id=\"T_4c8b0_level0_row9\" class=\"row_heading level0 row9\" >9</th>\n",
       "      <td id=\"T_4c8b0_row9_col0\" class=\"data row9 col0\" >0.5</td>\n",
       "      <td id=\"T_4c8b0_row9_col1\" class=\"data row9 col1\" >239,125</td>\n",
       "      <td id=\"T_4c8b0_row9_col2\" class=\"data row9 col2\" >1</td>\n",
       "    </tr>\n",
       "  </tbody>\n",
       "</table>\n"
      ],
      "text/plain": [
       "<pandas.io.formats.style.Styler at 0x7fc7155a6df0>"
      ]
     },
     "execution_count": 20,
     "metadata": {},
     "output_type": "execute_result"
    }
   ],
   "source": [
    "# formatar a saída\n",
    "\n",
    "df3 = df2.style.format({\n",
    "    \"rating\": \"{:.1f}\",\n",
    "    \"quantidade\": \"{:,d}\",\n",
    "    \"percent\": \"{:.0f}\"\n",
    "})\n",
    "\n",
    "\n",
    "\n",
    "df3"
   ]
  },
  {
   "cell_type": "code",
   "execution_count": 23,
   "id": "8e75d21d",
   "metadata": {},
   "outputs": [
    {
     "data": {
      "text/html": [
       "<div>\n",
       "<style scoped>\n",
       "    .dataframe tbody tr th:only-of-type {\n",
       "        vertical-align: middle;\n",
       "    }\n",
       "\n",
       "    .dataframe tbody tr th {\n",
       "        vertical-align: top;\n",
       "    }\n",
       "\n",
       "    .dataframe thead th {\n",
       "        text-align: right;\n",
       "    }\n",
       "</style>\n",
       "<table border=\"1\" class=\"dataframe\">\n",
       "  <thead>\n",
       "    <tr style=\"text-align: right;\">\n",
       "      <th></th>\n",
       "      <th>rating</th>\n",
       "      <th>quantidade</th>\n",
       "      <th>percent</th>\n",
       "    </tr>\n",
       "  </thead>\n",
       "  <tbody>\n",
       "    <tr>\n",
       "      <th>0</th>\n",
       "      <td>4.0</td>\n",
       "      <td>5561926</td>\n",
       "      <td>27.809264</td>\n",
       "    </tr>\n",
       "    <tr>\n",
       "      <th>1</th>\n",
       "      <td>3.0</td>\n",
       "      <td>4291193</td>\n",
       "      <td>21.455683</td>\n",
       "    </tr>\n",
       "    <tr>\n",
       "      <th>2</th>\n",
       "      <td>5.0</td>\n",
       "      <td>2898660</td>\n",
       "      <td>14.493109</td>\n",
       "    </tr>\n",
       "    <tr>\n",
       "      <th>3</th>\n",
       "      <td>3.5</td>\n",
       "      <td>2200156</td>\n",
       "      <td>11.000635</td>\n",
       "    </tr>\n",
       "    <tr>\n",
       "      <th>4</th>\n",
       "      <td>4.5</td>\n",
       "      <td>1534824</td>\n",
       "      <td>7.674019</td>\n",
       "    </tr>\n",
       "    <tr>\n",
       "      <th>5</th>\n",
       "      <td>2.0</td>\n",
       "      <td>1430997</td>\n",
       "      <td>7.154891</td>\n",
       "    </tr>\n",
       "  </tbody>\n",
       "</table>\n",
       "</div>"
      ],
      "text/plain": [
       "   rating  quantidade    percent\n",
       "0     4.0     5561926  27.809264\n",
       "1     3.0     4291193  21.455683\n",
       "2     5.0     2898660  14.493109\n",
       "3     3.5     2200156  11.000635\n",
       "4     4.5     1534824   7.674019\n",
       "5     2.0     1430997   7.154891"
      ]
     },
     "execution_count": 23,
     "metadata": {},
     "output_type": "execute_result"
    }
   ],
   "source": [
    "df4 = df2[ df2.percent >= 7]\n",
    "df4"
   ]
  },
  {
   "cell_type": "code",
   "execution_count": 24,
   "id": "71d9d65a",
   "metadata": {},
   "outputs": [
    {
     "data": {
      "text/plain": [
       "89.58760192303471"
      ]
     },
     "execution_count": 24,
     "metadata": {},
     "output_type": "execute_result"
    }
   ],
   "source": [
    "df4.percent.sum()"
   ]
  },
  {
   "cell_type": "code",
   "execution_count": 28,
   "id": "9307c2ba",
   "metadata": {},
   "outputs": [
    {
     "name": "stdout",
     "output_type": "stream",
     "text": [
      "17,917,756\n"
     ]
    }
   ],
   "source": [
    "print('{:,d}'.format(df4.quantidade.sum()))"
   ]
  },
  {
   "cell_type": "code",
   "execution_count": 44,
   "id": "bd1d5459",
   "metadata": {},
   "outputs": [
    {
     "data": {
      "text/html": [
       "<div>\n",
       "<style scoped>\n",
       "    .dataframe tbody tr th:only-of-type {\n",
       "        vertical-align: middle;\n",
       "    }\n",
       "\n",
       "    .dataframe tbody tr th {\n",
       "        vertical-align: top;\n",
       "    }\n",
       "\n",
       "    .dataframe thead th {\n",
       "        text-align: right;\n",
       "    }\n",
       "</style>\n",
       "<table border=\"1\" class=\"dataframe\">\n",
       "  <thead>\n",
       "    <tr style=\"text-align: right;\">\n",
       "      <th></th>\n",
       "      <th>rating</th>\n",
       "      <th>quantidade</th>\n",
       "      <th>percent</th>\n",
       "    </tr>\n",
       "  </thead>\n",
       "  <tbody>\n",
       "    <tr>\n",
       "      <th>6</th>\n",
       "      <td>2.5</td>\n",
       "      <td>883398</td>\n",
       "      <td>4.416932</td>\n",
       "    </tr>\n",
       "    <tr>\n",
       "      <th>7</th>\n",
       "      <td>1.0</td>\n",
       "      <td>680732</td>\n",
       "      <td>3.403615</td>\n",
       "    </tr>\n",
       "    <tr>\n",
       "      <th>8</th>\n",
       "      <td>1.5</td>\n",
       "      <td>279252</td>\n",
       "      <td>1.396242</td>\n",
       "    </tr>\n",
       "    <tr>\n",
       "      <th>9</th>\n",
       "      <td>0.5</td>\n",
       "      <td>239125</td>\n",
       "      <td>1.195609</td>\n",
       "    </tr>\n",
       "  </tbody>\n",
       "</table>\n",
       "</div>"
      ],
      "text/plain": [
       "   rating  quantidade   percent\n",
       "6     2.5      883398  4.416932\n",
       "7     1.0      680732  3.403615\n",
       "8     1.5      279252  1.396242\n",
       "9     0.5      239125  1.195609"
      ]
     },
     "execution_count": 44,
     "metadata": {},
     "output_type": "execute_result"
    }
   ],
   "source": [
    "df5 = df2[ df2.percent < 7]\n",
    "df5"
   ]
  },
  {
   "cell_type": "code",
   "execution_count": 45,
   "id": "a202c607",
   "metadata": {},
   "outputs": [
    {
     "name": "stdout",
     "output_type": "stream",
     "text": [
      "2,082,507\n"
     ]
    }
   ],
   "source": [
    "print('{:,d}'.format(df5.quantidade.sum()))"
   ]
  },
  {
   "cell_type": "code",
   "execution_count": 46,
   "id": "10465375",
   "metadata": {},
   "outputs": [
    {
     "data": {
      "text/plain": [
       "10.412398076965287"
      ]
     },
     "execution_count": 46,
     "metadata": {},
     "output_type": "execute_result"
    }
   ],
   "source": [
    "df5.percent.sum()"
   ]
  },
  {
   "cell_type": "code",
   "execution_count": 47,
   "id": "679c8645",
   "metadata": {},
   "outputs": [
    {
     "data": {
      "text/html": [
       "<div>\n",
       "<style scoped>\n",
       "    .dataframe tbody tr th:only-of-type {\n",
       "        vertical-align: middle;\n",
       "    }\n",
       "\n",
       "    .dataframe tbody tr th {\n",
       "        vertical-align: top;\n",
       "    }\n",
       "\n",
       "    .dataframe thead th {\n",
       "        text-align: right;\n",
       "    }\n",
       "</style>\n",
       "<table border=\"1\" class=\"dataframe\">\n",
       "  <thead>\n",
       "    <tr style=\"text-align: right;\">\n",
       "      <th></th>\n",
       "      <th>rating</th>\n",
       "      <th>quantidade</th>\n",
       "      <th>percent</th>\n",
       "    </tr>\n",
       "  </thead>\n",
       "  <tbody>\n",
       "    <tr>\n",
       "      <th>6</th>\n",
       "      <td>2.5</td>\n",
       "      <td>883398</td>\n",
       "      <td>4.416932</td>\n",
       "    </tr>\n",
       "    <tr>\n",
       "      <th>7</th>\n",
       "      <td>1.0</td>\n",
       "      <td>680732</td>\n",
       "      <td>3.403615</td>\n",
       "    </tr>\n",
       "    <tr>\n",
       "      <th>8</th>\n",
       "      <td>1.5</td>\n",
       "      <td>279252</td>\n",
       "      <td>1.396242</td>\n",
       "    </tr>\n",
       "    <tr>\n",
       "      <th>9</th>\n",
       "      <td>0.5</td>\n",
       "      <td>239125</td>\n",
       "      <td>1.195609</td>\n",
       "    </tr>\n",
       "  </tbody>\n",
       "</table>\n",
       "</div>"
      ],
      "text/plain": [
       "   rating  quantidade   percent\n",
       "6     2.5      883398  4.416932\n",
       "7     1.0      680732  3.403615\n",
       "8     1.5      279252  1.396242\n",
       "9     0.5      239125  1.195609"
      ]
     },
     "execution_count": 47,
     "metadata": {},
     "output_type": "execute_result"
    }
   ],
   "source": [
    "df5"
   ]
  },
  {
   "cell_type": "code",
   "execution_count": 49,
   "id": "87293318",
   "metadata": {},
   "outputs": [
    {
     "data": {
      "text/plain": [
       "{'rating': 'outros', 'quantidade': 2082507, 'percent': 10.412398076965287}"
      ]
     },
     "execution_count": 49,
     "metadata": {},
     "output_type": "execute_result"
    }
   ],
   "source": [
    "row = {'rating': 'outros', 'quantidade': df5.quantidade.sum(), 'percent': df5.percent.sum()  }\n",
    "row"
   ]
  },
  {
   "cell_type": "code",
   "execution_count": 50,
   "id": "1033f145",
   "metadata": {},
   "outputs": [
    {
     "data": {
      "text/html": [
       "<div>\n",
       "<style scoped>\n",
       "    .dataframe tbody tr th:only-of-type {\n",
       "        vertical-align: middle;\n",
       "    }\n",
       "\n",
       "    .dataframe tbody tr th {\n",
       "        vertical-align: top;\n",
       "    }\n",
       "\n",
       "    .dataframe thead th {\n",
       "        text-align: right;\n",
       "    }\n",
       "</style>\n",
       "<table border=\"1\" class=\"dataframe\">\n",
       "  <thead>\n",
       "    <tr style=\"text-align: right;\">\n",
       "      <th></th>\n",
       "      <th>rating</th>\n",
       "      <th>quantidade</th>\n",
       "      <th>percent</th>\n",
       "    </tr>\n",
       "  </thead>\n",
       "  <tbody>\n",
       "    <tr>\n",
       "      <th>0</th>\n",
       "      <td>4.0</td>\n",
       "      <td>5561926</td>\n",
       "      <td>27.809264</td>\n",
       "    </tr>\n",
       "    <tr>\n",
       "      <th>1</th>\n",
       "      <td>3.0</td>\n",
       "      <td>4291193</td>\n",
       "      <td>21.455683</td>\n",
       "    </tr>\n",
       "    <tr>\n",
       "      <th>2</th>\n",
       "      <td>5.0</td>\n",
       "      <td>2898660</td>\n",
       "      <td>14.493109</td>\n",
       "    </tr>\n",
       "    <tr>\n",
       "      <th>3</th>\n",
       "      <td>3.5</td>\n",
       "      <td>2200156</td>\n",
       "      <td>11.000635</td>\n",
       "    </tr>\n",
       "    <tr>\n",
       "      <th>4</th>\n",
       "      <td>4.5</td>\n",
       "      <td>1534824</td>\n",
       "      <td>7.674019</td>\n",
       "    </tr>\n",
       "    <tr>\n",
       "      <th>5</th>\n",
       "      <td>2.0</td>\n",
       "      <td>1430997</td>\n",
       "      <td>7.154891</td>\n",
       "    </tr>\n",
       "    <tr>\n",
       "      <th>6</th>\n",
       "      <td>outros</td>\n",
       "      <td>2082507</td>\n",
       "      <td>10.412398</td>\n",
       "    </tr>\n",
       "  </tbody>\n",
       "</table>\n",
       "</div>"
      ],
      "text/plain": [
       "   rating  quantidade    percent\n",
       "0     4.0     5561926  27.809264\n",
       "1     3.0     4291193  21.455683\n",
       "2     5.0     2898660  14.493109\n",
       "3     3.5     2200156  11.000635\n",
       "4     4.5     1534824   7.674019\n",
       "5     2.0     1430997   7.154891\n",
       "6  outros     2082507  10.412398"
      ]
     },
     "execution_count": 50,
     "metadata": {},
     "output_type": "execute_result"
    }
   ],
   "source": [
    "df6 = df4.append(row, ignore_index=True)\n",
    "df6"
   ]
  },
  {
   "cell_type": "code",
   "execution_count": 52,
   "id": "969b5d12",
   "metadata": {},
   "outputs": [
    {
     "data": {
      "text/html": [
       "<style type=\"text/css\">\n",
       "</style>\n",
       "<table id=\"T_5c2c2_\">\n",
       "  <thead>\n",
       "    <tr>\n",
       "      <th class=\"blank level0\" >&nbsp;</th>\n",
       "      <th class=\"col_heading level0 col0\" >rating</th>\n",
       "      <th class=\"col_heading level0 col1\" >quantidade</th>\n",
       "      <th class=\"col_heading level0 col2\" >percent</th>\n",
       "    </tr>\n",
       "  </thead>\n",
       "  <tbody>\n",
       "    <tr>\n",
       "      <th id=\"T_5c2c2_level0_row0\" class=\"row_heading level0 row0\" >0</th>\n",
       "      <td id=\"T_5c2c2_row0_col0\" class=\"data row0 col0\" >4.0</td>\n",
       "      <td id=\"T_5c2c2_row0_col1\" class=\"data row0 col1\" >5,561,926</td>\n",
       "      <td id=\"T_5c2c2_row0_col2\" class=\"data row0 col2\" >28</td>\n",
       "    </tr>\n",
       "    <tr>\n",
       "      <th id=\"T_5c2c2_level0_row1\" class=\"row_heading level0 row1\" >1</th>\n",
       "      <td id=\"T_5c2c2_row1_col0\" class=\"data row1 col0\" >3.0</td>\n",
       "      <td id=\"T_5c2c2_row1_col1\" class=\"data row1 col1\" >4,291,193</td>\n",
       "      <td id=\"T_5c2c2_row1_col2\" class=\"data row1 col2\" >21</td>\n",
       "    </tr>\n",
       "    <tr>\n",
       "      <th id=\"T_5c2c2_level0_row2\" class=\"row_heading level0 row2\" >2</th>\n",
       "      <td id=\"T_5c2c2_row2_col0\" class=\"data row2 col0\" >5.0</td>\n",
       "      <td id=\"T_5c2c2_row2_col1\" class=\"data row2 col1\" >2,898,660</td>\n",
       "      <td id=\"T_5c2c2_row2_col2\" class=\"data row2 col2\" >14</td>\n",
       "    </tr>\n",
       "    <tr>\n",
       "      <th id=\"T_5c2c2_level0_row3\" class=\"row_heading level0 row3\" >3</th>\n",
       "      <td id=\"T_5c2c2_row3_col0\" class=\"data row3 col0\" >3.5</td>\n",
       "      <td id=\"T_5c2c2_row3_col1\" class=\"data row3 col1\" >2,200,156</td>\n",
       "      <td id=\"T_5c2c2_row3_col2\" class=\"data row3 col2\" >11</td>\n",
       "    </tr>\n",
       "    <tr>\n",
       "      <th id=\"T_5c2c2_level0_row4\" class=\"row_heading level0 row4\" >4</th>\n",
       "      <td id=\"T_5c2c2_row4_col0\" class=\"data row4 col0\" >4.5</td>\n",
       "      <td id=\"T_5c2c2_row4_col1\" class=\"data row4 col1\" >1,534,824</td>\n",
       "      <td id=\"T_5c2c2_row4_col2\" class=\"data row4 col2\" >8</td>\n",
       "    </tr>\n",
       "    <tr>\n",
       "      <th id=\"T_5c2c2_level0_row5\" class=\"row_heading level0 row5\" >5</th>\n",
       "      <td id=\"T_5c2c2_row5_col0\" class=\"data row5 col0\" >2.0</td>\n",
       "      <td id=\"T_5c2c2_row5_col1\" class=\"data row5 col1\" >1,430,997</td>\n",
       "      <td id=\"T_5c2c2_row5_col2\" class=\"data row5 col2\" >7</td>\n",
       "    </tr>\n",
       "    <tr>\n",
       "      <th id=\"T_5c2c2_level0_row6\" class=\"row_heading level0 row6\" >6</th>\n",
       "      <td id=\"T_5c2c2_row6_col0\" class=\"data row6 col0\" >outros</td>\n",
       "      <td id=\"T_5c2c2_row6_col1\" class=\"data row6 col1\" >2,082,507</td>\n",
       "      <td id=\"T_5c2c2_row6_col2\" class=\"data row6 col2\" >10</td>\n",
       "    </tr>\n",
       "  </tbody>\n",
       "</table>\n"
      ],
      "text/plain": [
       "<pandas.io.formats.style.Styler at 0x7fc7155a6a00>"
      ]
     },
     "execution_count": 52,
     "metadata": {},
     "output_type": "execute_result"
    }
   ],
   "source": [
    "# formatar a saída\n",
    "\n",
    "dfs = df6.style.format({\n",
    "    \"rating\": \"{}\",\n",
    "    \"quantidade\": \"{:,d}\",\n",
    "    \"percent\": \"{:.0f}\"\n",
    "})\n",
    "\n",
    "dfs"
   ]
  },
  {
   "cell_type": "code",
   "execution_count": 54,
   "id": "fdc7bc33",
   "metadata": {},
   "outputs": [],
   "source": [
    "df6.to_csv('ratings_saida.csv', index=False)"
   ]
  },
  {
   "cell_type": "code",
   "execution_count": 55,
   "id": "191192e1",
   "metadata": {},
   "outputs": [
    {
     "name": "stdout",
     "output_type": "stream",
     "text": [
      "rating,quantidade,percent\r\n",
      "4.0,5561926,27.80926430817435\r\n",
      "3.0,4291193,21.45568285777042\r\n",
      "5.0,2898660,14.493109415611185\r\n",
      "3.5,2200156,11.000635341645257\r\n",
      "4.5,1534824,7.67401908664901\r\n",
      "2.0,1430997,7.1548909131844916\r\n",
      "outros,2082507,10.412398076965287\r\n"
     ]
    }
   ],
   "source": [
    "!cat ratings_saida.csv"
   ]
  },
  {
   "cell_type": "markdown",
   "id": "d6d7a2bf",
   "metadata": {},
   "source": [
    "import matplotlib.pyplot as plt\n",
    "import seaborn as sns\n",
    "\n",
    "plt.rcParams[\"figure.figsize\"] = (9,9)\n",
    "\n",
    "#define data\n",
    "data = df6.percent\n",
    "labels = df6.rating\n",
    "\n",
    "#define Seaborn color palette to use\n",
    "colors = sns.color_palette('pastel')[0:7]\n",
    "\n",
    "#create pie chart\n",
    "plt.pie(data, labels = labels, colors = colors, autopct='%.0f%%')\n",
    "plt.show()"
   ]
  },
  {
   "cell_type": "markdown",
   "id": "b928f480",
   "metadata": {},
   "source": [
    "# 1 Bilhão de Registros"
   ]
  },
  {
   "cell_type": "code",
   "execution_count": 63,
   "id": "f6aa6323",
   "metadata": {},
   "outputs": [
    {
     "name": "stdout",
     "output_type": "stream",
     "text": [
      "testx16x32_0.npz   testx16x32_2.npz   trainx16x32_0.npz  trainx16x32_2.npz\r\n",
      "testx16x32_1.npz   testx16x32_3.npz   trainx16x32_1.npz  trainx16x32_3.npz\r\n",
      "testx16x32_10.npz  testx16x32_4.npz   trainx16x32_10.npz trainx16x32_4.npz\r\n",
      "testx16x32_11.npz  testx16x32_5.npz   trainx16x32_11.npz trainx16x32_5.npz\r\n",
      "testx16x32_12.npz  testx16x32_6.npz   trainx16x32_12.npz trainx16x32_6.npz\r\n",
      "testx16x32_13.npz  testx16x32_7.npz   trainx16x32_13.npz trainx16x32_7.npz\r\n",
      "testx16x32_14.npz  testx16x32_8.npz   trainx16x32_14.npz trainx16x32_8.npz\r\n",
      "testx16x32_15.npz  testx16x32_9.npz   trainx16x32_15.npz trainx16x32_9.npz\r\n"
     ]
    }
   ],
   "source": [
    "!ls ~/Downloads/ml-20mx16x32"
   ]
  },
  {
   "cell_type": "code",
   "execution_count": 66,
   "id": "09dbf747",
   "metadata": {},
   "outputs": [
    {
     "data": {
      "text/plain": [
       "'/Users/valencar/Dropbox/AULAS-REMOTAS/Alunos-UEPB-TopicosEspeciaisEmBancoDeDados/Python-Para-Analise-de-Dados/MANHA'"
      ]
     },
     "execution_count": 66,
     "metadata": {},
     "output_type": "execute_result"
    }
   ],
   "source": [
    "pwd"
   ]
  },
  {
   "cell_type": "code",
   "execution_count": 90,
   "id": "b099fc8d",
   "metadata": {},
   "outputs": [],
   "source": [
    "#!pip install -q npzviewer"
   ]
  },
  {
   "cell_type": "code",
   "execution_count": 73,
   "id": "05b3b578",
   "metadata": {},
   "outputs": [
    {
     "name": "stdout",
     "output_type": "stream",
     "text": [
      "CPU times: user 797 µs, sys: 1.91 ms, total: 2.71 ms\n",
      "Wall time: 2.66 ms\n"
     ]
    }
   ],
   "source": [
    "%%time\n",
    "import numpy as np\n",
    "\n",
    "url  = '/Users/valencar/Downloads/ml-20mx16x32/'\n",
    "n = np.load(url + 'testx16x32_0.npz')"
   ]
  },
  {
   "cell_type": "code",
   "execution_count": 80,
   "id": "d5940d49",
   "metadata": {},
   "outputs": [
    {
     "data": {
      "text/plain": [
       "['arr_0']"
      ]
     },
     "execution_count": 80,
     "metadata": {},
     "output_type": "execute_result"
    }
   ],
   "source": [
    " n.files"
   ]
  },
  {
   "cell_type": "code",
   "execution_count": 82,
   "id": "aada3c88",
   "metadata": {},
   "outputs": [
    {
     "data": {
      "text/plain": [
       "(138240, 2)"
      ]
     },
     "execution_count": 82,
     "metadata": {},
     "output_type": "execute_result"
    }
   ],
   "source": [
    "n['arr_0'].shape"
   ]
  },
  {
   "cell_type": "code",
   "execution_count": 89,
   "id": "bcb2c36c",
   "metadata": {},
   "outputs": [
    {
     "data": {
      "text/plain": [
       "array([    20, 133191])"
      ]
     },
     "execution_count": 89,
     "metadata": {},
     "output_type": "execute_result"
    }
   ],
   "source": [
    "n['arr_0'][20]"
   ]
  },
  {
   "cell_type": "code",
   "execution_count": null,
   "id": "61f12cc3",
   "metadata": {},
   "outputs": [],
   "source": []
  },
  {
   "cell_type": "code",
   "execution_count": null,
   "id": "f39f5006",
   "metadata": {},
   "outputs": [],
   "source": [
    "%%time\n",
    "import pandas as pd\n",
    "\n",
    "url = \n",
    "\n",
    "df = pd.read_csv(url)\n",
    "df.head"
   ]
  }
 ],
 "metadata": {
  "kernelspec": {
   "display_name": "Python 3 (ipykernel)",
   "language": "python",
   "name": "python3"
  },
  "language_info": {
   "codemirror_mode": {
    "name": "ipython",
    "version": 3
   },
   "file_extension": ".py",
   "mimetype": "text/x-python",
   "name": "python",
   "nbconvert_exporter": "python",
   "pygments_lexer": "ipython3",
   "version": "3.8.8"
  }
 },
 "nbformat": 4,
 "nbformat_minor": 5
}
