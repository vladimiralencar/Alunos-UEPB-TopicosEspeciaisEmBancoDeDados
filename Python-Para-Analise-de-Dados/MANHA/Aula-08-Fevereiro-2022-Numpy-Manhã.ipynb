{
 "cells": [
  {
   "cell_type": "markdown",
   "metadata": {},
   "source": [
    "# Numpy -Aula-08-Fevereiro-2022-Numpy-Manhã"
   ]
  },
  {
   "cell_type": "code",
   "execution_count": 1,
   "metadata": {},
   "outputs": [],
   "source": [
    "import numpy as np"
   ]
  },
  {
   "cell_type": "code",
   "execution_count": 2,
   "metadata": {},
   "outputs": [
    {
     "data": {
      "text/plain": [
       "'1.19.5'"
      ]
     },
     "execution_count": 2,
     "metadata": {},
     "output_type": "execute_result"
    }
   ],
   "source": [
    "np.__version__"
   ]
  },
  {
   "cell_type": "code",
   "execution_count": 3,
   "metadata": {},
   "outputs": [
    {
     "name": "stdout",
     "output_type": "stream",
     "text": [
      "<class 'list'>\n",
      "[2, 3, 4]\n"
     ]
    }
   ],
   "source": [
    "l = [2, 3, 4]\n",
    "print(type(l))\n",
    "print(l)"
   ]
  },
  {
   "cell_type": "code",
   "execution_count": 4,
   "metadata": {},
   "outputs": [
    {
     "data": {
      "text/plain": [
       "array([2, 3, 4])"
      ]
     },
     "execution_count": 4,
     "metadata": {},
     "output_type": "execute_result"
    }
   ],
   "source": [
    "v1 = np.array( l )\n",
    "v1"
   ]
  },
  {
   "cell_type": "code",
   "execution_count": 5,
   "metadata": {},
   "outputs": [
    {
     "data": {
      "text/plain": [
       "numpy.ndarray"
      ]
     },
     "execution_count": 5,
     "metadata": {},
     "output_type": "execute_result"
    }
   ],
   "source": [
    "type(v1)"
   ]
  },
  {
   "cell_type": "code",
   "execution_count": 7,
   "metadata": {},
   "outputs": [
    {
     "data": {
      "text/plain": [
       "[0, 1, 2, 3, 4, 5, 6, 7, 8, 9]"
      ]
     },
     "execution_count": 7,
     "metadata": {},
     "output_type": "execute_result"
    }
   ],
   "source": [
    "l = list(range(10))\n",
    "l"
   ]
  },
  {
   "cell_type": "code",
   "execution_count": 8,
   "metadata": {},
   "outputs": [
    {
     "data": {
      "text/plain": [
       "array([0, 1, 2, 3, 4, 5, 6, 7, 8, 9])"
      ]
     },
     "execution_count": 8,
     "metadata": {},
     "output_type": "execute_result"
    }
   ],
   "source": [
    "a = np.array(l)\n",
    "a"
   ]
  },
  {
   "cell_type": "code",
   "execution_count": 9,
   "metadata": {},
   "outputs": [
    {
     "data": {
      "text/plain": [
       "0"
      ]
     },
     "execution_count": 9,
     "metadata": {},
     "output_type": "execute_result"
    }
   ],
   "source": [
    "a[0]"
   ]
  },
  {
   "cell_type": "code",
   "execution_count": 10,
   "metadata": {},
   "outputs": [
    {
     "data": {
      "text/plain": [
       "array([3, 1, 2, 3, 4, 5, 6, 7, 8, 9])"
      ]
     },
     "execution_count": 10,
     "metadata": {},
     "output_type": "execute_result"
    }
   ],
   "source": [
    "a[0] = 3\n",
    "a"
   ]
  },
  {
   "cell_type": "code",
   "execution_count": 11,
   "metadata": {},
   "outputs": [
    {
     "ename": "ValueError",
     "evalue": "invalid literal for int() with base 10: 'a'",
     "output_type": "error",
     "traceback": [
      "\u001b[1;31m---------------------------------------------------------------------------\u001b[0m",
      "\u001b[1;31mValueError\u001b[0m                                Traceback (most recent call last)",
      "\u001b[1;32m~\\AppData\\Local\\Temp/ipykernel_3096/259675232.py\u001b[0m in \u001b[0;36m<module>\u001b[1;34m\u001b[0m\n\u001b[1;32m----> 1\u001b[1;33m \u001b[0ma\u001b[0m\u001b[1;33m[\u001b[0m\u001b[1;36m1\u001b[0m\u001b[1;33m]\u001b[0m \u001b[1;33m=\u001b[0m \u001b[1;34m'a'\u001b[0m\u001b[1;33m\u001b[0m\u001b[1;33m\u001b[0m\u001b[0m\n\u001b[0m",
      "\u001b[1;31mValueError\u001b[0m: invalid literal for int() with base 10: 'a'"
     ]
    }
   ],
   "source": [
    "a[1] = 'a'"
   ]
  },
  {
   "cell_type": "code",
   "execution_count": 12,
   "metadata": {},
   "outputs": [
    {
     "data": {
      "text/plain": [
       "array(['1', '4', 'a'], dtype='<U11')"
      ]
     },
     "execution_count": 12,
     "metadata": {},
     "output_type": "execute_result"
    }
   ],
   "source": [
    "l2 = [ 1, 4, 'a']\n",
    "a2 = np.array(l2)\n",
    "a2"
   ]
  },
  {
   "cell_type": "code",
   "execution_count": 13,
   "metadata": {},
   "outputs": [
    {
     "data": {
      "text/plain": [
       "(3,)"
      ]
     },
     "execution_count": 13,
     "metadata": {},
     "output_type": "execute_result"
    }
   ],
   "source": [
    "a2.shape"
   ]
  },
  {
   "cell_type": "markdown",
   "metadata": {},
   "source": [
    "# Funções Numpy"
   ]
  },
  {
   "cell_type": "code",
   "execution_count": 14,
   "metadata": {},
   "outputs": [
    {
     "data": {
      "text/plain": [
       "array([0. , 0.5, 1. , 1.5, 2. , 2.5, 3. , 3.5, 4. ])"
      ]
     },
     "execution_count": 14,
     "metadata": {},
     "output_type": "execute_result"
    }
   ],
   "source": [
    "v2 = np.arange(0., 4.5, .5) # inicio, fim (exclusive), passo ou incremento\n",
    "v2"
   ]
  },
  {
   "cell_type": "code",
   "execution_count": 15,
   "metadata": {},
   "outputs": [
    {
     "data": {
      "text/plain": [
       "numpy.ndarray"
      ]
     },
     "execution_count": 15,
     "metadata": {},
     "output_type": "execute_result"
    }
   ],
   "source": [
    "type(v2)"
   ]
  },
  {
   "cell_type": "code",
   "execution_count": 16,
   "metadata": {},
   "outputs": [
    {
     "data": {
      "text/plain": [
       "dtype('float64')"
      ]
     },
     "execution_count": 16,
     "metadata": {},
     "output_type": "execute_result"
    }
   ],
   "source": [
    "v2.dtype"
   ]
  },
  {
   "cell_type": "code",
   "execution_count": 17,
   "metadata": {},
   "outputs": [
    {
     "data": {
      "text/plain": [
       "array([0., 0., 0., 0., 0., 0., 0., 0., 0., 0.])"
      ]
     },
     "execution_count": 17,
     "metadata": {},
     "output_type": "execute_result"
    }
   ],
   "source": [
    "a = np.zeros(10)\n",
    "a"
   ]
  },
  {
   "cell_type": "code",
   "execution_count": 18,
   "metadata": {},
   "outputs": [
    {
     "data": {
      "text/plain": [
       "array([1., 1., 1., 1., 1., 1., 1., 1., 1., 1.])"
      ]
     },
     "execution_count": 18,
     "metadata": {},
     "output_type": "execute_result"
    }
   ],
   "source": [
    "np.ones(10)"
   ]
  },
  {
   "cell_type": "code",
   "execution_count": 19,
   "metadata": {},
   "outputs": [
    {
     "data": {
      "text/plain": [
       "array([[1., 0., 0.],\n",
       "       [0., 1., 0.],\n",
       "       [0., 0., 1.]])"
      ]
     },
     "execution_count": 19,
     "metadata": {},
     "output_type": "execute_result"
    }
   ],
   "source": [
    "np.eye(3)"
   ]
  },
  {
   "cell_type": "markdown",
   "metadata": {},
   "source": [
    "# Matrizes"
   ]
  },
  {
   "cell_type": "code",
   "execution_count": 20,
   "metadata": {},
   "outputs": [
    {
     "data": {
      "text/plain": [
       "array([[5, 6, 7],\n",
       "       [2, 1, 0]])"
      ]
     },
     "execution_count": 20,
     "metadata": {},
     "output_type": "execute_result"
    }
   ],
   "source": [
    "m = np.array( [  \n",
    "    [5, 6, 7],\n",
    "    [2, 1, 0] ]\n",
    ")\n",
    "m"
   ]
  },
  {
   "cell_type": "code",
   "execution_count": 21,
   "metadata": {},
   "outputs": [
    {
     "data": {
      "text/plain": [
       "array([5, 6, 7])"
      ]
     },
     "execution_count": 21,
     "metadata": {},
     "output_type": "execute_result"
    }
   ],
   "source": [
    "m[0]"
   ]
  },
  {
   "cell_type": "code",
   "execution_count": 22,
   "metadata": {},
   "outputs": [
    {
     "data": {
      "text/plain": [
       "7"
      ]
     },
     "execution_count": 22,
     "metadata": {},
     "output_type": "execute_result"
    }
   ],
   "source": [
    "m[0][2]"
   ]
  },
  {
   "cell_type": "code",
   "execution_count": 23,
   "metadata": {},
   "outputs": [
    {
     "data": {
      "text/plain": [
       "(2, 3)"
      ]
     },
     "execution_count": 23,
     "metadata": {},
     "output_type": "execute_result"
    }
   ],
   "source": [
    "m.shape"
   ]
  },
  {
   "cell_type": "code",
   "execution_count": 24,
   "metadata": {},
   "outputs": [
    {
     "data": {
      "text/plain": [
       "2"
      ]
     },
     "execution_count": 24,
     "metadata": {},
     "output_type": "execute_result"
    }
   ],
   "source": [
    "m.shape[0]"
   ]
  },
  {
   "cell_type": "code",
   "execution_count": 25,
   "metadata": {},
   "outputs": [
    {
     "data": {
      "text/plain": [
       "3"
      ]
     },
     "execution_count": 25,
     "metadata": {},
     "output_type": "execute_result"
    }
   ],
   "source": [
    "m.shape[1]"
   ]
  },
  {
   "cell_type": "code",
   "execution_count": 26,
   "metadata": {},
   "outputs": [
    {
     "data": {
      "text/plain": [
       "(2, 3)"
      ]
     },
     "execution_count": 26,
     "metadata": {},
     "output_type": "execute_result"
    }
   ],
   "source": [
    "lin = m.shape[0]\n",
    "col = m.shape[1]\n",
    "lin, col"
   ]
  },
  {
   "cell_type": "code",
   "execution_count": 27,
   "metadata": {},
   "outputs": [
    {
     "data": {
      "text/plain": [
       "(2, 3)"
      ]
     },
     "execution_count": 27,
     "metadata": {},
     "output_type": "execute_result"
    }
   ],
   "source": [
    "lin, col = m.shape\n",
    "lin, col"
   ]
  },
  {
   "cell_type": "code",
   "execution_count": 28,
   "metadata": {},
   "outputs": [
    {
     "data": {
      "text/plain": [
       "6"
      ]
     },
     "execution_count": 28,
     "metadata": {},
     "output_type": "execute_result"
    }
   ],
   "source": [
    "m.size"
   ]
  },
  {
   "cell_type": "code",
   "execution_count": 29,
   "metadata": {},
   "outputs": [
    {
     "data": {
      "text/plain": [
       "dtype('int32')"
      ]
     },
     "execution_count": 29,
     "metadata": {},
     "output_type": "execute_result"
    }
   ],
   "source": [
    "m.dtype"
   ]
  },
  {
   "cell_type": "code",
   "execution_count": 30,
   "metadata": {},
   "outputs": [
    {
     "data": {
      "text/plain": [
       "array([6., 8., 4., 9.], dtype=float16)"
      ]
     },
     "execution_count": 30,
     "metadata": {},
     "output_type": "execute_result"
    }
   ],
   "source": [
    "z = np.array( [6, 8, 4, 9], dtype=np.float16)\n",
    "z"
   ]
  },
  {
   "cell_type": "code",
   "execution_count": 31,
   "metadata": {},
   "outputs": [
    {
     "data": {
      "text/plain": [
       "dtype('float16')"
      ]
     },
     "execution_count": 31,
     "metadata": {},
     "output_type": "execute_result"
    }
   ],
   "source": [
    "z.dtype"
   ]
  },
  {
   "cell_type": "markdown",
   "metadata": {},
   "source": [
    "# Metodo Random - Gera números aleatórios"
   ]
  },
  {
   "cell_type": "code",
   "execution_count": 32,
   "metadata": {},
   "outputs": [
    {
     "data": {
      "text/plain": [
       "array([0.27697233, 0.99228555, 0.69794511, 0.6270625 , 0.71505024,\n",
       "       0.84404561, 0.86554396, 0.7387132 , 0.58144052, 0.03901962])"
      ]
     },
     "execution_count": 32,
     "metadata": {},
     "output_type": "execute_result"
    }
   ],
   "source": [
    "a = np.random.rand(10)\n",
    "a"
   ]
  },
  {
   "cell_type": "code",
   "execution_count": 33,
   "metadata": {},
   "outputs": [
    {
     "data": {
      "image/png": "[encoded data removed]",
      "text/plain": [
       "<Figure size 432x288 with 1 Axes>"
      ]
     },
     "metadata": {
      "needs_background": "light"
     },
     "output_type": "display_data"
    }
   ],
   "source": [
    "import matplotlib.pyplot as plt\n",
    "\n",
    "plt.show( plt.hist(a) )"
   ]
  },
  {
   "cell_type": "code",
   "execution_count": 34,
   "metadata": {},
   "outputs": [
    {
     "data": {
      "image/png": "[encoded data removed]",
      "text/plain": [
       "<Figure size 432x288 with 1 Axes>"
      ]
     },
     "metadata": {
      "needs_background": "light"
     },
     "output_type": "display_data"
    }
   ],
   "source": [
    "a = np.random.rand(100)\n",
    "\n",
    "plt.show( plt.hist(a) )"
   ]
  },
  {
   "cell_type": "code",
   "execution_count": 35,
   "metadata": {},
   "outputs": [
    {
     "data": {
      "image/png": "[encoded data removed]",
      "text/plain": [
       "<Figure size 432x288 with 1 Axes>"
      ]
     },
     "metadata": {
      "needs_background": "light"
     },
     "output_type": "display_data"
    }
   ],
   "source": [
    "a = np.random.rand(1000)\n",
    "\n",
    "plt.show( plt.hist(a) )"
   ]
  },
  {
   "cell_type": "code",
   "execution_count": 36,
   "metadata": {},
   "outputs": [
    {
     "data": {
      "image/png": "[encoded data removed]",
      "text/plain": [
       "<Figure size 432x288 with 1 Axes>"
      ]
     },
     "metadata": {
      "needs_background": "light"
     },
     "output_type": "display_data"
    }
   ],
   "source": [
    "a = np.random.rand(10000)\n",
    "\n",
    "plt.show( plt.hist(a) )"
   ]
  },
  {
   "cell_type": "markdown",
   "metadata": {},
   "source": [
    "# Distribuição Normal"
   ]
  },
  {
   "cell_type": "code",
   "execution_count": 37,
   "metadata": {},
   "outputs": [
    {
     "data": {
      "text/plain": [
       "array([ 0.88600869,  1.25972137,  0.07348449, -0.57461114, -0.10085247,\n",
       "       -1.3379471 ,  2.56240293, -0.08111486, -0.69519915, -0.44747777])"
      ]
     },
     "execution_count": 37,
     "metadata": {},
     "output_type": "execute_result"
    }
   ],
   "source": [
    "n = np.random.randn(10)\n",
    "n"
   ]
  },
  {
   "cell_type": "code",
   "execution_count": 38,
   "metadata": {},
   "outputs": [
    {
     "data": {
      "image/png": "[encoded data removed]",
      "text/plain": [
       "<Figure size 432x288 with 1 Axes>"
      ]
     },
     "metadata": {
      "needs_background": "light"
     },
     "output_type": "display_data"
    }
   ],
   "source": [
    "plt.show( plt.hist(n) )"
   ]
  },
  {
   "cell_type": "code",
   "execution_count": 39,
   "metadata": {},
   "outputs": [
    {
     "data": {
      "image/png": "[encoded data removed]",
      "text/plain": [
       "<Figure size 432x288 with 1 Axes>"
      ]
     },
     "metadata": {
      "needs_background": "light"
     },
     "output_type": "display_data"
    }
   ],
   "source": [
    "n = np.random.randn(100)\n",
    "plt.show( plt.hist(n) )"
   ]
  },
  {
   "cell_type": "code",
   "execution_count": 40,
   "metadata": {},
   "outputs": [
    {
     "data": {
      "image/png": "[encoded data removed]",
      "text/plain": [
       "<Figure size 432x288 with 1 Axes>"
      ]
     },
     "metadata": {
      "needs_background": "light"
     },
     "output_type": "display_data"
    }
   ],
   "source": [
    "n = np.random.randn(1000)\n",
    "plt.show( plt.hist(n) )"
   ]
  },
  {
   "cell_type": "code",
   "execution_count": 41,
   "metadata": {},
   "outputs": [
    {
     "data": {
      "image/png": "[encoded data removed]",
      "text/plain": [
       "<Figure size 432x288 with 1 Axes>"
      ]
     },
     "metadata": {
      "needs_background": "light"
     },
     "output_type": "display_data"
    }
   ],
   "source": [
    "n = np.random.randn(10000)\n",
    "plt.show( plt.hist(n) )"
   ]
  },
  {
   "cell_type": "code",
   "execution_count": 42,
   "metadata": {},
   "outputs": [
    {
     "data": {
      "text/plain": [
       "0.0024403955366787073"
      ]
     },
     "execution_count": 42,
     "metadata": {},
     "output_type": "execute_result"
    }
   ],
   "source": [
    "n.mean()"
   ]
  },
  {
   "cell_type": "code",
   "execution_count": 43,
   "metadata": {},
   "outputs": [
    {
     "data": {
      "text/plain": [
       "1.002823012664265"
      ]
     },
     "execution_count": 43,
     "metadata": {},
     "output_type": "execute_result"
    }
   ],
   "source": [
    "n.std()"
   ]
  },
  {
   "cell_type": "markdown",
   "metadata": {},
   "source": [
    "# Leitura de arquivos"
   ]
  },
  {
   "cell_type": "code",
   "execution_count": 44,
   "metadata": {},
   "outputs": [
    {
     "data": {
      "text/plain": [
       "'https://raw.githubusercontent.com/vladimiralencar/Alunos-UEPB-TopicosEspeciaisEmBancoDeDados/master/Python-Para-Analise-de-Dados/iris.csv'"
      ]
     },
     "execution_count": 44,
     "metadata": {},
     "output_type": "execute_result"
    }
   ],
   "source": [
    "url = 'https://raw.githubusercontent.com/vladimiralencar/Alunos-UEPB-TopicosEspeciaisEmBancoDeDados/master/Python-Para-Analise-de-Dados/iris.csv' \n",
    "url"
   ]
  },
  {
   "cell_type": "code",
   "execution_count": 45,
   "metadata": {},
   "outputs": [
    {
     "data": {
      "text/plain": [
       "array([[5.1, 3.5, 1.4, 0.2],\n",
       "       [4.9, 3. , 1.4, 0.2],\n",
       "       [4.7, 3.2, 1.3, 0.2],\n",
       "       [4.6, 3.1, 1.5, 0.2],\n",
       "       [5. , 3.6, 1.4, 0.2],\n",
       "       [5.4, 3.9, 1.7, 0.4],\n",
       "       [4.6, 3.4, 1.4, 0.3],\n",
       "       [5. , 3.4, 1.5, 0.2],\n",
       "       [4.4, 2.9, 1.4, 0.2],\n",
       "       [4.9, 3.1, 1.5, 0.1],\n",
       "       [5.4, 3.7, 1.5, 0.2],\n",
       "       [4.8, 3.4, 1.6, 0.2],\n",
       "       [4.8, 3. , 1.4, 0.1],\n",
       "       [4.3, 3. , 1.1, 0.1],\n",
       "       [5.8, 4. , 1.2, 0.2],\n",
       "       [5.7, 4.4, 1.5, 0.4],\n",
       "       [5.4, 3.9, 1.3, 0.4],\n",
       "       [5.1, 3.5, 1.4, 0.3],\n",
       "       [5.7, 3.8, 1.7, 0.3],\n",
       "       [5.1, 3.8, 1.5, 0.3],\n",
       "       [5.4, 3.4, 1.7, 0.2],\n",
       "       [5.1, 3.7, 1.5, 0.4],\n",
       "       [4.6, 3.6, 1. , 0.2],\n",
       "       [5.1, 3.3, 1.7, 0.5],\n",
       "       [4.8, 3.4, 1.9, 0.2],\n",
       "       [5. , 3. , 1.6, 0.2],\n",
       "       [5. , 3.4, 1.6, 0.4],\n",
       "       [5.2, 3.5, 1.5, 0.2],\n",
       "       [5.2, 3.4, 1.4, 0.2],\n",
       "       [4.7, 3.2, 1.6, 0.2],\n",
       "       [4.8, 3.1, 1.6, 0.2],\n",
       "       [5.4, 3.4, 1.5, 0.4],\n",
       "       [5.2, 4.1, 1.5, 0.1],\n",
       "       [5.5, 4.2, 1.4, 0.2],\n",
       "       [4.9, 3.1, 1.5, 0.1],\n",
       "       [5. , 3.2, 1.2, 0.2],\n",
       "       [5.5, 3.5, 1.3, 0.2],\n",
       "       [4.9, 3.1, 1.5, 0.1],\n",
       "       [4.4, 3. , 1.3, 0.2],\n",
       "       [5.1, 3.4, 1.5, 0.2],\n",
       "       [5. , 3.5, 1.3, 0.3],\n",
       "       [4.5, 2.3, 1.3, 0.3],\n",
       "       [4.4, 3.2, 1.3, 0.2],\n",
       "       [5. , 3.5, 1.6, 0.6],\n",
       "       [5.1, 3.8, 1.9, 0.4],\n",
       "       [4.8, 3. , 1.4, 0.3],\n",
       "       [5.1, 3.8, 1.6, 0.2],\n",
       "       [4.6, 3.2, 1.4, 0.2],\n",
       "       [5.3, 3.7, 1.5, 0.2],\n",
       "       [5. , 3.3, 1.4, 0.2],\n",
       "       [7. , 3.2, 4.7, 1.4],\n",
       "       [6.4, 3.2, 4.5, 1.5],\n",
       "       [6.9, 3.1, 4.9, 1.5],\n",
       "       [5.5, 2.3, 4. , 1.3],\n",
       "       [6.5, 2.8, 4.6, 1.5],\n",
       "       [5.7, 2.8, 4.5, 1.3],\n",
       "       [6.3, 3.3, 4.7, 1.6],\n",
       "       [4.9, 2.4, 3.3, 1. ],\n",
       "       [6.6, 2.9, 4.6, 1.3],\n",
       "       [5.2, 2.7, 3.9, 1.4],\n",
       "       [5. , 2. , 3.5, 1. ],\n",
       "       [5.9, 3. , 4.2, 1.5],\n",
       "       [6. , 2.2, 4. , 1. ],\n",
       "       [6.1, 2.9, 4.7, 1.4],\n",
       "       [5.6, 2.9, 3.6, 1.3],\n",
       "       [6.7, 3.1, 4.4, 1.4],\n",
       "       [5.6, 3. , 4.5, 1.5],\n",
       "       [5.8, 2.7, 4.1, 1. ],\n",
       "       [6.2, 2.2, 4.5, 1.5],\n",
       "       [5.6, 2.5, 3.9, 1.1],\n",
       "       [5.9, 3.2, 4.8, 1.8],\n",
       "       [6.1, 2.8, 4. , 1.3],\n",
       "       [6.3, 2.5, 4.9, 1.5],\n",
       "       [6.1, 2.8, 4.7, 1.2],\n",
       "       [6.4, 2.9, 4.3, 1.3],\n",
       "       [6.6, 3. , 4.4, 1.4],\n",
       "       [6.8, 2.8, 4.8, 1.4],\n",
       "       [6.7, 3. , 5. , 1.7],\n",
       "       [6. , 2.9, 4.5, 1.5],\n",
       "       [5.7, 2.6, 3.5, 1. ],\n",
       "       [5.5, 2.4, 3.8, 1.1],\n",
       "       [5.5, 2.4, 3.7, 1. ],\n",
       "       [5.8, 2.7, 3.9, 1.2],\n",
       "       [6. , 2.7, 5.1, 1.6],\n",
       "       [5.4, 3. , 4.5, 1.5],\n",
       "       [6. , 3.4, 4.5, 1.6],\n",
       "       [6.7, 3.1, 4.7, 1.5],\n",
       "       [6.3, 2.3, 4.4, 1.3],\n",
       "       [5.6, 3. , 4.1, 1.3],\n",
       "       [5.5, 2.5, 4. , 1.3],\n",
       "       [5.5, 2.6, 4.4, 1.2],\n",
       "       [6.1, 3. , 4.6, 1.4],\n",
       "       [5.8, 2.6, 4. , 1.2],\n",
       "       [5. , 2.3, 3.3, 1. ],\n",
       "       [5.6, 2.7, 4.2, 1.3],\n",
       "       [5.7, 3. , 4.2, 1.2],\n",
       "       [5.7, 2.9, 4.2, 1.3],\n",
       "       [6.2, 2.9, 4.3, 1.3],\n",
       "       [5.1, 2.5, 3. , 1.1],\n",
       "       [5.7, 2.8, 4.1, 1.3],\n",
       "       [6.3, 3.3, 6. , 2.5],\n",
       "       [5.8, 2.7, 5.1, 1.9],\n",
       "       [7.1, 3. , 5.9, 2.1],\n",
       "       [6.3, 2.9, 5.6, 1.8],\n",
       "       [6.5, 3. , 5.8, 2.2],\n",
       "       [7.6, 3. , 6.6, 2.1],\n",
       "       [4.9, 2.5, 4.5, 1.7],\n",
       "       [7.3, 2.9, 6.3, 1.8],\n",
       "       [6.7, 2.5, 5.8, 1.8],\n",
       "       [7.2, 3.6, 6.1, 2.5],\n",
       "       [6.5, 3.2, 5.1, 2. ],\n",
       "       [6.4, 2.7, 5.3, 1.9],\n",
       "       [6.8, 3. , 5.5, 2.1],\n",
       "       [5.7, 2.5, 5. , 2. ],\n",
       "       [5.8, 2.8, 5.1, 2.4],\n",
       "       [6.4, 3.2, 5.3, 2.3],\n",
       "       [6.5, 3. , 5.5, 1.8],\n",
       "       [7.7, 3.8, 6.7, 2.2],\n",
       "       [7.7, 2.6, 6.9, 2.3],\n",
       "       [6. , 2.2, 5. , 1.5],\n",
       "       [6.9, 3.2, 5.7, 2.3],\n",
       "       [5.6, 2.8, 4.9, 2. ],\n",
       "       [7.7, 2.8, 6.7, 2. ],\n",
       "       [6.3, 2.7, 4.9, 1.8],\n",
       "       [6.7, 3.3, 5.7, 2.1],\n",
       "       [7.2, 3.2, 6. , 1.8],\n",
       "       [6.2, 2.8, 4.8, 1.8],\n",
       "       [6.1, 3. , 4.9, 1.8],\n",
       "       [6.4, 2.8, 5.6, 2.1],\n",
       "       [7.2, 3. , 5.8, 1.6],\n",
       "       [7.4, 2.8, 6.1, 1.9],\n",
       "       [7.9, 3.8, 6.4, 2. ],\n",
       "       [6.4, 2.8, 5.6, 2.2],\n",
       "       [6.3, 2.8, 5.1, 1.5],\n",
       "       [6.1, 2.6, 5.6, 1.4],\n",
       "       [7.7, 3. , 6.1, 2.3],\n",
       "       [6.3, 3.4, 5.6, 2.4],\n",
       "       [6.4, 3.1, 5.5, 1.8],\n",
       "       [6. , 3. , 4.8, 1.8],\n",
       "       [6.9, 3.1, 5.4, 2.1],\n",
       "       [6.7, 3.1, 5.6, 2.4],\n",
       "       [6.9, 3.1, 5.1, 2.3],\n",
       "       [5.8, 2.7, 5.1, 1.9],\n",
       "       [6.8, 3.2, 5.9, 2.3],\n",
       "       [6.7, 3.3, 5.7, 2.5],\n",
       "       [6.7, 3. , 5.2, 2.3],\n",
       "       [6.3, 2.5, 5. , 1.9],\n",
       "       [6.5, 3. , 5.2, 2. ],\n",
       "       [6.2, 3.4, 5.4, 2.3],\n",
       "       [5.9, 3. , 5.1, 1.8]])"
      ]
     },
     "execution_count": 45,
     "metadata": {},
     "output_type": "execute_result"
    }
   ],
   "source": [
    "m = np.loadtxt(url, delimiter = ',', usecols=(0,1,2,3), skiprows=1)\n",
    "m"
   ]
  },
  {
   "cell_type": "code",
   "execution_count": 46,
   "metadata": {},
   "outputs": [
    {
     "data": {
      "text/plain": [
       "(150, 4)"
      ]
     },
     "execution_count": 46,
     "metadata": {},
     "output_type": "execute_result"
    }
   ],
   "source": [
    "m.shape"
   ]
  },
  {
   "cell_type": "code",
   "execution_count": 47,
   "metadata": {},
   "outputs": [
    {
     "data": {
      "text/plain": [
       "dtype('float64')"
      ]
     },
     "execution_count": 47,
     "metadata": {},
     "output_type": "execute_result"
    }
   ],
   "source": [
    "m.dtype"
   ]
  },
  {
   "cell_type": "code",
   "execution_count": 48,
   "metadata": {},
   "outputs": [
    {
     "data": {
      "text/plain": [
       "array([5.1, 4.9, 4.7, 4.6, 5. , 5.4, 4.6, 5. , 4.4, 4.9])"
      ]
     },
     "execution_count": 48,
     "metadata": {},
     "output_type": "execute_result"
    }
   ],
   "source": [
    "a1, a2 = np.loadtxt(url, delimiter = ',', usecols=(0,1), skiprows=1,\n",
    "                   unpack=True)\n",
    "a1[:10]"
   ]
  },
  {
   "cell_type": "code",
   "execution_count": 49,
   "metadata": {},
   "outputs": [
    {
     "data": {
      "text/plain": [
       "array([3.5, 3. , 3.2, 3.1, 3.6, 3.9, 3.4, 3.4, 2.9, 3.1])"
      ]
     },
     "execution_count": 49,
     "metadata": {},
     "output_type": "execute_result"
    }
   ],
   "source": [
    "a2[:10]"
   ]
  },
  {
   "cell_type": "code",
   "execution_count": 50,
   "metadata": {},
   "outputs": [
    {
     "data": {
      "image/png": "[encoded data removed]",
      "text/plain": [
       "<Figure size 432x288 with 1 Axes>"
      ]
     },
     "metadata": {
      "needs_background": "light"
     },
     "output_type": "display_data"
    }
   ],
   "source": [
    "plt.show( plt.plot(a1, a2, 'o', markersize=8, alpha=0.75))"
   ]
  },
  {
   "cell_type": "markdown",
   "metadata": {},
   "source": [
    "# Estatística - Funções"
   ]
  },
  {
   "cell_type": "code",
   "execution_count": 51,
   "metadata": {},
   "outputs": [
    {
     "data": {
      "text/plain": [
       "array([5.1, 4.9, 4.7, 4.6, 5. , 5.4, 4.6, 5. , 4.4, 4.9, 5.4, 4.8, 4.8,\n",
       "       4.3, 5.8])"
      ]
     },
     "execution_count": 51,
     "metadata": {},
     "output_type": "execute_result"
    }
   ],
   "source": [
    "a1[:15]"
   ]
  },
  {
   "cell_type": "code",
   "execution_count": 52,
   "metadata": {},
   "outputs": [
    {
     "data": {
      "text/plain": [
       "(150,)"
      ]
     },
     "execution_count": 52,
     "metadata": {},
     "output_type": "execute_result"
    }
   ],
   "source": [
    "a1.shape"
   ]
  },
  {
   "cell_type": "code",
   "execution_count": 53,
   "metadata": {},
   "outputs": [
    {
     "data": {
      "text/plain": [
       "dtype('float64')"
      ]
     },
     "execution_count": 53,
     "metadata": {},
     "output_type": "execute_result"
    }
   ],
   "source": [
    "a.dtype"
   ]
  },
  {
   "cell_type": "code",
   "execution_count": 54,
   "metadata": {},
   "outputs": [
    {
     "data": {
      "text/plain": [
       "5.843333333333334"
      ]
     },
     "execution_count": 54,
     "metadata": {},
     "output_type": "execute_result"
    }
   ],
   "source": [
    "media = np.mean(a1)\n",
    "media"
   ]
  },
  {
   "cell_type": "code",
   "execution_count": 55,
   "metadata": {},
   "outputs": [
    {
     "data": {
      "text/plain": [
       "0.8253012917851409"
      ]
     },
     "execution_count": 55,
     "metadata": {},
     "output_type": "execute_result"
    }
   ],
   "source": [
    "std = np.std(a1)\n",
    "std"
   ]
  },
  {
   "cell_type": "code",
   "execution_count": 56,
   "metadata": {},
   "outputs": [
    {
     "data": {
      "text/plain": [
       "6.6"
      ]
     },
     "execution_count": 56,
     "metadata": {},
     "output_type": "execute_result"
    }
   ],
   "source": [
    "5.8+0.8"
   ]
  },
  {
   "cell_type": "code",
   "execution_count": 57,
   "metadata": {},
   "outputs": [
    {
     "data": {
      "text/plain": [
       "5.0"
      ]
     },
     "execution_count": 57,
     "metadata": {},
     "output_type": "execute_result"
    }
   ],
   "source": [
    "5.8-0.8"
   ]
  },
  {
   "cell_type": "code",
   "execution_count": 58,
   "metadata": {},
   "outputs": [
    {
     "data": {
      "image/png": "[encoded data removed]",
      "text/plain": [
       "<Figure size 432x288 with 1 Axes>"
      ]
     },
     "metadata": {
      "needs_background": "light"
     },
     "output_type": "display_data"
    }
   ],
   "source": [
    "plt.show( plt.hist(a1))"
   ]
  },
  {
   "cell_type": "code",
   "execution_count": 59,
   "metadata": {},
   "outputs": [
    {
     "data": {
      "text/plain": [
       "4.3"
      ]
     },
     "execution_count": 59,
     "metadata": {},
     "output_type": "execute_result"
    }
   ],
   "source": [
    "a1.min()"
   ]
  },
  {
   "cell_type": "code",
   "execution_count": 60,
   "metadata": {},
   "outputs": [
    {
     "data": {
      "text/plain": [
       "7.9"
      ]
     },
     "execution_count": 60,
     "metadata": {},
     "output_type": "execute_result"
    }
   ],
   "source": [
    "a1.max()"
   ]
  },
  {
   "cell_type": "code",
   "execution_count": 61,
   "metadata": {},
   "outputs": [
    {
     "data": {
      "text/plain": [
       "5.843333333333334"
      ]
     },
     "execution_count": 61,
     "metadata": {},
     "output_type": "execute_result"
    }
   ],
   "source": [
    "a1.mean()"
   ]
  },
  {
   "cell_type": "code",
   "execution_count": 62,
   "metadata": {},
   "outputs": [
    {
     "data": {
      "text/plain": [
       "0.8253012917851409"
      ]
     },
     "execution_count": 62,
     "metadata": {},
     "output_type": "execute_result"
    }
   ],
   "source": [
    "a1.std()"
   ]
  },
  {
   "cell_type": "code",
   "execution_count": 63,
   "metadata": {},
   "outputs": [
    {
     "data": {
      "text/plain": [
       "876.5"
      ]
     },
     "execution_count": 63,
     "metadata": {},
     "output_type": "execute_result"
    }
   ],
   "source": [
    "np.sum(a1)"
   ]
  },
  {
   "cell_type": "code",
   "execution_count": 64,
   "metadata": {},
   "outputs": [
    {
     "data": {
      "text/plain": [
       "(400, 2)"
      ]
     },
     "execution_count": 64,
     "metadata": {},
     "output_type": "execute_result"
    }
   ],
   "source": [
    "m = np.random.randn(400, 2)\n",
    "m.shape"
   ]
  },
  {
   "cell_type": "code",
   "execution_count": 65,
   "metadata": {},
   "outputs": [
    {
     "data": {
      "text/plain": [
       "array([[-0.63272459,  0.18542627],\n",
       "       [-0.83234707, -0.61438877],\n",
       "       [ 0.27511592, -0.23449766],\n",
       "       [ 0.90867338,  0.08562052]])"
      ]
     },
     "execution_count": 65,
     "metadata": {},
     "output_type": "execute_result"
    }
   ],
   "source": [
    "m[:4]"
   ]
  },
  {
   "cell_type": "code",
   "execution_count": 67,
   "metadata": {},
   "outputs": [
    {
     "data": {
      "text/plain": [
       "(-2.7427414280726814,\n",
       " 0.06630234265672447,\n",
       " 4.074542394056729,\n",
       " 1.0311346642096046)"
      ]
     },
     "execution_count": 67,
     "metadata": {},
     "output_type": "execute_result"
    }
   ],
   "source": [
    "m.min(), m.mean(), m.max(), m.std()"
   ]
  },
  {
   "cell_type": "markdown",
   "metadata": {},
   "source": [
    "# Colocar em Escala"
   ]
  },
  {
   "cell_type": "markdown",
   "metadata": {},
   "source": [
    "### Normalização - Média = 0, desvio padrao = 1"
   ]
  },
  {
   "cell_type": "code",
   "execution_count": 72,
   "metadata": {},
   "outputs": [
    {
     "data": {
      "text/plain": [
       "array([-0.82235771, -0.0091099 ,  0.57693882,  1.71442328, -1.29305053,\n",
       "        0.07966184, -1.49404469, -0.69929266,  0.06946159, -0.24115482])"
      ]
     },
     "execution_count": 72,
     "metadata": {},
     "output_type": "execute_result"
    }
   ],
   "source": [
    "a = np.random.randn(100)\n",
    "a[:10]"
   ]
  },
  {
   "cell_type": "code",
   "execution_count": 69,
   "metadata": {},
   "outputs": [
    {
     "data": {
      "image/png": "[encoded data removed]",
      "text/plain": [
       "<Figure size 432x288 with 1 Axes>"
      ]
     },
     "metadata": {
      "needs_background": "light"
     },
     "output_type": "display_data"
    }
   ],
   "source": [
    "plt.show( plt.hist(a))"
   ]
  },
  {
   "cell_type": "code",
   "execution_count": 73,
   "metadata": {},
   "outputs": [
    {
     "data": {
      "text/plain": [
       "array([-0.97782836, -0.0548202 ,  0.61032485,  1.9013304 , -1.51204844,\n",
       "        0.04593266, -1.74016987, -0.83815378,  0.03435572, -0.31818316])"
      ]
     },
     "execution_count": 73,
     "metadata": {},
     "output_type": "execute_result"
    }
   ],
   "source": [
    "a_scaled = (a - a.mean()) / a.std()\n",
    "a_scaled[:10]"
   ]
  },
  {
   "cell_type": "code",
   "execution_count": 74,
   "metadata": {},
   "outputs": [
    {
     "data": {
      "image/png": "[encoded data removed]",
      "text/plain": [
       "<Figure size 432x288 with 1 Axes>"
      ]
     },
     "metadata": {
      "needs_background": "light"
     },
     "output_type": "display_data"
    }
   ],
   "source": [
    "plt.show( plt.hist(a_scaled))"
   ]
  },
  {
   "cell_type": "markdown",
   "metadata": {},
   "source": [
    "# Mudar o formato"
   ]
  },
  {
   "cell_type": "code",
   "execution_count": 75,
   "metadata": {},
   "outputs": [
    {
     "data": {
      "text/plain": [
       "array([[2, 6, 9],\n",
       "       [1, 5, 7]])"
      ]
     },
     "execution_count": 75,
     "metadata": {},
     "output_type": "execute_result"
    }
   ],
   "source": [
    "c = np.array([ [2, 6, 9], [1, 5, 7] ])\n",
    "c"
   ]
  },
  {
   "cell_type": "code",
   "execution_count": 76,
   "metadata": {},
   "outputs": [
    {
     "data": {
      "text/plain": [
       "(2, 3)"
      ]
     },
     "execution_count": 76,
     "metadata": {},
     "output_type": "execute_result"
    }
   ],
   "source": [
    "c.shape"
   ]
  },
  {
   "cell_type": "code",
   "execution_count": 77,
   "metadata": {},
   "outputs": [
    {
     "data": {
      "text/plain": [
       "array([[2, 6],\n",
       "       [9, 1],\n",
       "       [5, 7]])"
      ]
     },
     "execution_count": 77,
     "metadata": {},
     "output_type": "execute_result"
    }
   ],
   "source": [
    "d = c.reshape(3,2)\n",
    "d"
   ]
  },
  {
   "cell_type": "code",
   "execution_count": 78,
   "metadata": {},
   "outputs": [
    {
     "data": {
      "text/plain": [
       "(3, 2)"
      ]
     },
     "execution_count": 78,
     "metadata": {},
     "output_type": "execute_result"
    }
   ],
   "source": [
    "d.shape"
   ]
  },
  {
   "cell_type": "code",
   "execution_count": 79,
   "metadata": {},
   "outputs": [
    {
     "data": {
      "text/plain": [
       "2"
      ]
     },
     "execution_count": 79,
     "metadata": {},
     "output_type": "execute_result"
    }
   ],
   "source": [
    "d.ndim"
   ]
  },
  {
   "cell_type": "code",
   "execution_count": 80,
   "metadata": {},
   "outputs": [
    {
     "data": {
      "text/plain": [
       "(400, 2)"
      ]
     },
     "execution_count": 80,
     "metadata": {},
     "output_type": "execute_result"
    }
   ],
   "source": [
    "m.shape"
   ]
  },
  {
   "cell_type": "code",
   "execution_count": 81,
   "metadata": {},
   "outputs": [
    {
     "data": {
      "text/plain": [
       "array([[-0.63272459,  0.18542627],\n",
       "       [-0.83234707, -0.61438877],\n",
       "       [ 0.27511592, -0.23449766]])"
      ]
     },
     "execution_count": 81,
     "metadata": {},
     "output_type": "execute_result"
    }
   ],
   "source": [
    "m[:3]"
   ]
  },
  {
   "cell_type": "code",
   "execution_count": 82,
   "metadata": {},
   "outputs": [],
   "source": [
    "np.save('dados.npy', m)"
   ]
  },
  {
   "cell_type": "code",
   "execution_count": 83,
   "metadata": {},
   "outputs": [
    {
     "name": "stdout",
     "output_type": "stream",
     "text": [
      " O volume na unidade C ‚ Windows10\n",
      " O N£mero de S‚rie do Volume ‚ E699-979D\n",
      "\n",
      " Pasta de C:\\Users\\valen\\Dropbox\\AULAS-REMOTAS\\Alunos-UEPB-TopicosEspeciaisEmBancoDeDados\\Python-Para-Analise-de-Dados\n",
      "\n",
      "\n",
      " Pasta de C:\\Users\\valen\\Dropbox\\AULAS-REMOTAS\\Alunos-UEPB-TopicosEspeciaisEmBancoDeDados\\Python-Para-Analise-de-Dados\n",
      "\n",
      "08/02/2022  12:00           (6.528) dados.npy\n",
      "\n",
      " Pasta de C:\\Users\\valen\\Dropbox\\AULAS-REMOTAS\\Alunos-UEPB-TopicosEspeciaisEmBancoDeDados\\Python-Para-Analise-de-Dados\n",
      "\n",
      "               1 arquivo(s)          6.528 bytes\n",
      "               0 pasta(s)    9.377.816.576 bytes dispon¡veis\n"
     ]
    }
   ],
   "source": [
    "!dir -ilah dados.npy #dir"
   ]
  },
  {
   "cell_type": "code",
   "execution_count": 84,
   "metadata": {},
   "outputs": [
    {
     "name": "stdout",
     "output_type": "stream",
     "text": [
      "“NUMPY\u0001\u0000v\u0000{'descr': '<f8', 'fortran_order': False, 'shape': (400, 2), }                                                        \n",
      "••z£G?ä¿5&µE\f",
      "¼Ç?™�\u0003R–¢ê¿¸Ö-¥\u0012©ã¿\u0019³_É›Ñ?\u0013\u000f¹ê\u0004\u0004Î¿\n",
      "6g2Ú\u0013í?”\u001a>\u0006:ëµ?\n",
      "ÚðÎoQæ¿fÖ�õÙ\tÝ?7ÕÒ€Ú\té¿ó‚-O\n",
      "sí¿Æä×F•9í¿µ\n",
      "f”ÁjÎ?³Ì\u0019“ƒ÷Ð¿Ó$ªíÐ5À?€\n",
      "WHI÷ç?]d!´\u000b",
      "tò?3|¥•ÿwÜ?ÏMtB@Bú?e=à\u0002¶'ù?sWV˜\u0012Ùñ?4P\u00073%Éó?!à)\u0015Ô0\u0000@\u0011a\b\u0016&¼á¿OüHô#ÂÕ¿ñÛƒ\\2LÐ?q\u0006\u001c",
      "Ro\u0006Ø¿44ÀØ\u0001uñ¿Ó–]\u001e",
      "[6Ý?TH\t¬öëõ¿¤�n\u0012ŸRÛ?ióÚÔ-kð?\u0016¥šàùhò?ÐxÊ\u0007^5ò?¢CJ¿«\u001c",
      "à¿\u000e´DÒ#I‘¿pGô¯ãÈè¿ÉËk\u0005hÊö?²òW‘ÜNü?dd'�û¡Î¿\u0000'kŽ\u000e\u000fø?XÔ6É•0à¿·\u001d",
      "˜8\u0014Lø¿‚8Ý\u001b\n",
      "\t\u0003À›\u0005¤u|,Ä¿.2Û6É3Ð?+ýò\u001bÌÎð¿\u000f\u0003|° Rö¿;ö »È0¾¿ºFU¢™¦×?x´¬«\u001bxö?¤¦f\u0012s­Ö¿Ÿ³5\\^-õ¿ô,\u0001YÆdð¿\u0017qÀ \u000fžÐ¿I\u0013Ü¦ì‹ö¿ 7‚\u0017û„ô¿pÙ�œ·Iö?,ºµ;ùoá¿8P°ô�\u001bÜ?\u0011y¿æŠíß¿Ûv\u0007ìHv×¿ø\u001fa¶âÿî?Z\u0011E§‹ñ£?µd·pNìÝ¿É¨8«Þ°í?dx®O«Lâ¿\u001c",
      "ˆõ}Jˆâ¿£Ií\u001böÉí?]%f\u000b",
      "ÕÁù¿©®\u001a~™\u0013\u0003@7bÁ\u000fq~ü¿°(ó\u0001É\u001c",
      "ý?t[ƒñÝDÔ¿ÓK�@¢˜í?c\u0003åÛ‚iü¿vàw¥1ùÖ¿>X\u0001³É¸Ë?\u001e",
      "q>ÏU´¤?ø\u0010\u0001©÷°¾?\u00145\u001c",
      "Ê†\"Ù?\u0004QÈÓ%7\u0004À\u001a\"D\u0010@Šú¿ÌG\u0014Æ±�á¿º“ÆÂoÐº¿�;GØiéÌ¿rÙ…\u0004;Ï×¿Qd¥‹]Kã?\u0011›Þ–}&÷??n��nˆÙ?Õv—°äâ¨¿è¾‘ÖîÎÃ?ê_\u0003`ºvè?³{â­È\u0005Õ?|ð–\u000e\u0018_y¿É\u0019oYûi¿¿Z'”¹[¢Å¿\\:°¼G–ì¿ê§wá°eÞ¿\u0010�Š˜:èè¿\n",
      "\"\tùS\u001c",
      "\u0003ÀŸ>•Q^¦Ì¿8E…ì^ìë?…J\u0002Æ\u0002Gâ¿t\"O\u0015ï’ê¿ÛÍ\u001f\u0014xßè¿ˆÆ\u001f(ñ?Ö?îy‡\u0007%éØ¿ÀKcˆ¦XÛ¿\u0013žÈëþ¦ì¿«f\n",
      "?�8Ã¿šˆÞò¥J©?%õ\f",
      "‰\u000fÀ\u0000À=@)/ó'ó?äöGüë‰ú?�n=\u0003ÛúË¿<(g„û­Ã¿2ßÌîö\u0000\n",
      "@ÂVyMQ”ñ?\b\\�\u000fB˜\u0002@è¤à¯žÏè?ƒ•ãÝ4ˆä?Í\u0001Æ=\u0017[æ?Î~Iá\u0002_®¿*Æ†’\"ÿô¿¢\f",
      "§m´ß—?*¦ß/\u001fÍá¿¶…X\u001e",
      "»\u001fí?x·4\u0011\u0004Ïó¿Ræ‰$b„é¿Ñ¾{À·šÁ?uI„B�Ó\u0002@â‹±ïARü?Ì¼Åúì•õ¿š”\u0007øNIì?\u001c",
      "obÀýßé?Üí?\u001e",
      "\u001b¡\u0003@M}\tgÝ6î¿~\t)Ÿ~<•¿+Iµ\u0007Zsò¿\u001c",
      "\n",
      "¶[\u0002az?ß+­ùÙö?E\u0017{Àa®ú?Æ»ešk‰Ð?Ñí(\u0001pÿÔ?¯\u000fÖ®Z\u001bË?n¡\u0011_M�ï¿g\u001aM\u000eš&Ü¿,Ë�Þs'ÿ?áUqÒ åñ?\u000evxŒwüÖ¿rYãçf$â¿3¥hê\u0004éÒ¿þ\u001bb>‚ƒÕ¿Ô­å²ûKÊ?Ê<\u0000Ìe,‘?P{Î\u0011»�\u0002ÀA\u0006lÎu­þ?\u000b",
      "ú¡6õ¾ë¿Ð>\u0010o>)õ?ÊPÂ�wŽü¿-\u00052P*4¡¿àÓ\n",
      "½ûnÅ¿õ¡ñ9Raö?ÅÑâ|`<Ý¿ôš>˜\n",
      "Øð?«ì*^Î•ë¿ßys{Óãï¿úº\u0016<\u001e",
      "½á¿àîã´)ó¿œy[jáuô¿<a‰BÛðö?#{µ\u0005Á(Ý?vÓZ‹!Ëñ?k\u0013\u0010ò+<¾?MOì[#\u0014Ð¿\"û¨ºp\u0003 ?µ˜(¤¹Åó¿˜Ã\u0004•HƒÏ¿Î…:\\„\u001fê?\u0015\u0012\u0006\u0002Ÿ±º¿\u0001\u0012&÷~7\u0001ÀA\u001b€\u0005VXØ¿¦J±Ø\u0004¡ù¿ˆ@\u0019ú-çÁ?ÍŠíïLïÝ¿Æ›?\n",
      "¢ Ð¿‡;Ä¨¤\u0010ì?ò¸a´<æî?ë\u0016PXô\u001d",
      "ó?_¼[d÷›¼¿CaÐDpgÖ¿Ùb/¤ç�³?Ð6éŸ€ƒÕ¿�Ä\u000b",
      "-áÇà¿\u0011©wNb‘Ò¿7·\u0001À@5Ë?RU3ÂðÊó?ô\u000eßkº\u0007ï?ê7ø–5Å°¿\f",
      "�™\u00138Ðï¿2Â~q\u0001\u0013ò?a|\u0004\u001bËÏÖ¿ñŸWú�<ö¿D\u0001Næ“Ý?)nCDT.Ò?A�È\u0012³dò¿CDÑáO°õ?•³ ^\u001c",
      "ø´¿yOËŸòIè¿•Š„…ý £?e\f",
      "š\n",
      "_\u001d",
      "ò¿ß+`¯\u0000\tì?3…èZumå?¦úÔÿîµ¼¿˜\u0013Iª©Î£¿Q)É\u0001\tÆä?}\b&AŠ’°?¤òýuñ‚¨¿o¯ŒE~µñ?w¯�GzÌî?\u0019</¾º�á¿§’\u0018×´3ë¿>`–qŸ`í?»â�DÍ\u0007ú¿†s\u001fÝ–Eî¿\u0003�¼À°õ¿½œÁ\u0017õFë¿H\u001fV¤,Aé¿\u0013¥§È9Dó?<@È\n",
      "u3ò?�æ^\u0000\\¤ó?#×\u0006<ßÇà?s7ˆXhë\u0001@\u000eX!×0Îú¿žþÞ\tp�ð?ŽªJ:oŒÒ?\u0016\u0003\u0013›æ•Æ¿£­Ž ™&þ?\"`%Ékúï?ù™À¤â¶¿,0Y\u000f�–Ø¿\t•Ïí‰ðÜ¿CƒT\n",
      "[\\Ô¿&åàÕà–ç?3Dï\u001c",
      "¦é?ÄfEžäÍü¿Š\u001c",
      "˜ç#•¹?#¬2z,tó¿~€åžÖŒ\u0000Àòù\"b\u0014ÝÚ¿\u0015òTvÇ`ô¿\f",
      "\u000eŸ®òuÂ¿;`aGÇTí¿Þ(0(UYå¿Ù5øKò æ¿†gH¦m6�?NF<t\u001e",
      "\u0016ß¿~µ4\u000fj¯Î¿]�ø\u001e",
      "¹>ô?Õ›–¤\u0015¥Ù?îB\u000f\u0006ÊØç¿\u0004ˆP6Z:\u0004À.\n",
      "^3–%Ï?ßf“xòÕ\u0004@nš�ŽˆÙÅ?é™–�à¾õ?ôpZò«öè?p�zlueÑ?·A\u0010��›ê?»d\n",
      "å-â¯¿‡^DÃý0Æ¿Ãfß+ý\f",
      "þ?>ÁX)¬Žô?–‹¹E¶\u0011í¿\u0001Ú^\u000f¹0Þ¿�\u0001®\u0012¤¹è¿×1·Í�âÀ?\u0006ã8Ý®Þí¿24\u0019‘\u0002\u001bð?äeî¼§þó?ÎYÂ»BÖß¿E„”ÿˆHì¿t6\u000eóÛ?ÿ¿(„*™%\u0007á¿³MÞ¦~¾÷¿u)ŒÔ/]ß?\u001bAÀgÏÏÂ¿S\u0014e\u000ekÖÂ¿ g\u000eËõ_Ï?8F\u001d",
      "¾]-î?L{€Q”�á¿\u0010}àJ:–ß?AúÕf\u0011$Û?Û(“„•ôÕ¿ëgv¢_ÂÄ¿—�Ý\u0003Á�ë?\u0010fÖÖàÛð¿%\u0014<’<™ì¿ôýlfó\u001e",
      "ð?Õc§\u001d",
      "NæÇ¿\u000fËG\u0007–“ÿ?l'[Så^Þ¿U\u0016sv˜áÒ¿.Z·`\b±ó¿�»•×3Äæ?Xi\u0015Bî\u0007Ñ¿~ì–TÓYÇ¿…¸¯ŸS\u0001\u0000À­\u001föÄ×4ç¿Å\n",
      "T\u0001÷\u001a×¿~·HÛ¾#ñ?á4ÔÕñ+ä¿\u001fá‘X¤¹ú¿$¢ðÐØ‹â¿€·¤ü-Šë?BÛÍ:Æ�è¿ZtÌËž\u001b¹¿ç…2\u001aáëâ¿°7«Khø?Õo÷bE˜ñ¿j\n",
      "{ŒâÃö¿Û«+x\u0006Éâ¿Údën”EÔ?­\u0006ZêJ\u001aë¿Ë÷¹úëúø?\u00002-U¥j\u0001@ÿ€v·”\u0012æ¿ã1`/‰³ð¿\u0015ŠTå.„\u0004@^îS:)|à?L}¢µb_æ¿e¡\u001d",
      "w£Ïî?DÛ\f",
      "ÝGcÇ¿Ÿ»O•XÉù¿>íšƒªŸã¿\u0019ª–\u0006Õjó?´å�>…·í?‘«\n",
      "\u00044?î?\u0005«g{fÄñ?\u000eOãÂ×VÒ¿fÎºQ\u0005$ñ¿Ÿ ÄËn@æ¿4•—5™?ô¿}ÞÜ»ëàß?·wß®–£ï?[mKŽV�ù?u\u0018~†kÉá¿e\u0013n2`5Ö¿©´9·—Üæ¿\u0007K8ÑmÍá¿Ìø­j_íÞ?�ß\u001c",
      "\u0016èê?‰Žb×TL\u0010@óòíR×|ü?×Ÿu‹UÜÖ¿À\u000f\u0000n”Åá¿L¢g•o&æ?©ŸÏÿ:êÂ?Z,\u0000\u0003–¤Ï¿É˜fÄî†Ó¿É™vÉàvï?{,‚¨\t\u0011ã¿\u0018Ø{F0üç¿„¦V£Õ\u0002Ë?]%üÅÈâð¿„X�ê\u0016Ûô?\u0010Ú\u000f˜m×î¿\u0011dæö¯ôâ?uÎ\f",
      "®\u0004#m?ä\u0002“Ú—9\u0007@º´Ü©5—Á¿[\\#Þ/q¿¿³�¢¿#ÈÆ?Ò¯\u0013rôæ¿ñÅùÌUÑð?Æç\tÁa›À¿£†«ß$Û©?*áÞ´\n",
      "›ò¿Pq*DŒ›Á¿G:Û\u0017˜Ýì¿UäG4sBí¿$‘.z\u0012UÞ?Ø\u0002\u0016ò\u001f\n",
      "Þ?ü‹ò\u0005u½ì¿ØüŸË5ëÀ? ˜ö‚Pëì?‘ŸÜË\u001fŠù¿tÑÑþ×\u0007\u0003@-­áî~Úä?øzµAAKÚ?vií\u0016YðÜ?Þ»'ÒvF¤?>\u0019\f",
      "&åZí?\bè\tÔƒ(ò?]ŒtôM²Ó¿\\¦?D´9ë?Z“\u001fMzÞÛ?iXm‘Ã\u000eÿ?û\u000eÂ\u0005[îÖ¿›®TÎ\u0002“š?~€o´Þ®ò?Žô\u0004¨§þÕ?\"éÕwOcÏ?\u001c",
      "éÖ†eNË?è}X´|PÁ?�æ’5–ëò?±Í’„=ÉØ¿iE�s\u0014øÑ¿û…\bvä+\u0004Àá\u0014Ø\u0007\u001bFß¿S.\u0007~AXõ?nÖ\n",
      "a™\u001e",
      "ô¿�\u0017\u0013 S“ñ¿Ö\t\u001e",
      " å\u0005ô?u¶MÜ¾\tý¿é\u0006o\u0012Muß?Ä¡}L0áà¿¾«\u0012\u0001áÐù?ÿÐçM,\u001aò¿\u0012ÎbÇA1þ?\u00157{€9ÌÒ?Ìü°EÓðÜ?bj+k­Oà¿e¥\u001c",
      "0cõ–?B×]–Ê—å¿™éD6TIÁ?\u0004\u000ffcIêò¿äÃlü,Ìû?Æ6\u001e",
      "§á¯ü¿PQf®5xÑ¿0'ÒfOJæ¿}\n",
      "ãÙM‹ö?/â–Øœ$î¿\f",
      "ft3;bÏ¿!Ø\u0000øÄ/ã¿Ñ\\Î©~\u0018M¿ê¯ˆXÉ'Á¿á(€ïR\t×¿ž\u0019“\f",
      "—µÜ¿:\u0002\"i[Xé¿9\n",
      "„»D€Ó¿è'þaë±û?�Ö\u001e",
      "\u0017g>Ô¿\u001d",
      "ˆ>‘\u0014q\u0000@\n",
      "\u0002à‘¬÷ò?{Öì²8ºó¿È\u0007ÊíÕµ\u0002@s÷m\n",
      "å8ò¿`øè°µ¸ó?V·M'ýmó?rÜ�Y\u001a�¥?²\tiOó»\u0001@¼ºÛ?­’ù?}`2mÝ\u0001ò?¨ª™½\u0019 Ô?V«Òïd\"Ó¿Ö÷ŽöM¸Þ¿ä•Ó$TFã?+Tèc\u0010Ïì¿Œˆ‹£¶ãÖ¿\u001c",
      "ðÚC8\n",
      "ë?¡Á¯­«‹ü?VxÞLD§Ö¿+ùÈg\n",
      "²ë¿j+›Ù’\u0014±¿_Ip¿1Bç?H/ïüî�Ù?ËÃi¥\u0010q¹¿¡‰�?ˆ\u0016ñ¿Ê\u001aŠéÍ‡Ö¿I\u001e",
      "\u0014q\u0019Œ£?neŠ\f",
      "v­Ñ?úY.ÊÐ•ã¿�YðI`¼æ?¹|öÏ-Cä?ko®Àø³‹¿¢\\Èê¹Åü¿Ç¥�a[Êô?š|F\n",
      "+]Ò?X�~•\f",
      "{ã¿”\u0000ÆÔ_%ú¿U½>Ú3ºß?Xa}Ê7Zõ¿!7ö°t;÷?õÍ#\u0003}x£¿¶›¡¶²Âµ?v§©ÆÆ\u001e",
      "\u0000@9ô‘\u001aç¸Ñ?è©ß«¾Û\u0000ÀŽ\u0005ó|¢¸Þ¿4ŽDôÄ6ñ?Ü\u0013\f",
      "©¢kÖ¿¨ŽCóÌ\u001bö?tÝ\u0001ãt\t÷?eYŽ€\u000b",
      "\u0017è¿\u0016fK!°L°¿\u0004Î{CÚŽó?Ž\u001e",
      "SÃÃ\u0002\u0002@7DFE\u000eº©¿¡x•\tÅ�Š¿–äµx±\u0000ó?(K8õ”Tç?Ã„õ~ìþ¿Íû\u001d",
      "±¹¢ò?#ft¦r²è?§t}‘ð Ý¿m;ª\u0000›WÙ¿\u000b",
      "ü–ä\u001f4ý¿Ïs]Ó\u001aÉ…¿žÓSß]DÐ¿41@‰\u0004Ä÷?8Äšš¦æâ¿³ˆoçÁÍÆ?›‘iwi•õ¿O*Uj±‡Ù?3JÙ¼%Ò¥¿\u0010?#é�vÑ?Œ>–Æä¡ä?FÝ\u0005�Ë]ð¿I¼c*+åã?[åœ™U(ì¿ÎƒÚ\u0006ªDÑ?‡ýqìàŒî?÷ÌQÐ¼nç¿ÁÃ\u00189É¥ó¿qÓZ›\n",
      "ïÝ?\u001d",
      "F¯f%cæ?!EÎù‰&ð¿WÏÑ´Å5¾¿ÅšÌâÃZç¿\u0012SaB<Áá?e]qáO¸ü¿4OvÞeÜ?Å\u001b\u0005\u000f ¹ã¿\u0005µe—ñ†Ú?%%›z‡²ô¿\u0018‹\\u\u001b\u0000Ã?î�&¦&Ý³¿°¼±½ããÞ?–ì¼ª¤îÕ?{Ñ6õï°Ø?+èmzF‚â?õ[ºû^iÚ?ÝÊ)KçA\u0001@]z½\u0002£ºþ?#JL\u0003kmø?\u0017X]%wÇú?5‘ãøÚîÙ¿?¨˜\u0010ƒ¹é¿ÏtšEj\u001e",
      "é¿(›qÎFm¤?¥13è\u001e",
      "ÞÞ¿kcN•Ù,\u0001@']¸ j1B?°« R\n",
      "\u000fà?T;3ÂðÞ¾¿Ô2\u001f€¾ã¿Ü\u0016Ö¤‡Âó¿å\u0005¨]Ù Ó¿Ã¯(.ÏYä?ÜÃh¾o\"Ð¿¸ÌòÞè¸Ä¿EûþB÷\u000eì?\u000f‘²�\u0007ãþ?U\u000b",
      "µ=ÕfÈ¿-*ÅÕ\u0014pâ¿Q\u001d",
      "vq»®î?µÝîÆwBã?Þ‹÷\u0019Ôo\u0001@0\u0019÷¸œÉ÷¿¸E×‚˜\u0012ü?1¨b+¾âò¿ÌÒý\u001e",
      "nEñ?\"|±&Šøü¿q»éÏáèä¿_ÒœàË`ã?@¯>sjUñ?Åoáðû+Ó¿è›®5Éxó?Z5&W�\u0004Ø?\u001c",
      "{œd6Aê?ŒÈØF´ð?)H_±\\Ué¿EÒúK\u001c",
      "¤ñ¿\"ØÂˆÏqÝ¿wÕë¨Ç\u000b",
      "Ö¿ãR’Ë\b�ê¿9\u0006Ü!Ëìè?�?\u001e",
      "ìWÖÒ¿&©ýk6/Ä?Û;t-b2â¿A0èKjmã?Ä`IÖØRè¿¨òk=ßáã¿}ê]º©Ž¸?7MÁÙ\u0018�Ö?Üê8ž-ZÈ¿™\u0015ì\u0010|Šô¿E\u000fÑË~\\è¿\u000e\"¬­©Tß¿\f",
      "Ùb=U\u0019à?4Î\u0019_1'ô?\u0012\n",
      "ÚWª“ç¿ÒÀåÓ\"-Ú¿$I#×cgú¿ÉÎ»p©ŽÇ¿Ù\u001e",
      "ôA�äñ?\u0000µº€\u0011\n",
      "í¿Ì-}Í�^ê?hrJ¥Æ!Í¿sÙå‹”Tð?ûž’ä[ˆñ¿ì]\u0006%¨šã¿\u0013t¥.\u0003–\b@Òb5cù–ñ?Mé’Bäíí?Ê÷òŽÌ£ö?eí–z\u001abË?Çi]¾Á'Æ¿º2n\u001f÷,ë¿\bƒ»Ê,\u0001é?Ò|˜³ñ\u000e’?ÉÉäº5Uë¿ÎX¥QmóÙ¿CPä¬\u0013�ñ?¬scì×’\u0000@IR ½øÖÈ?µ�ÆÉ;\u001d",
      "Ð¿‚ÿúM€�ø?\u0007¦!,ï#ò?\u0013+ŸÞ\u00180õ¿N&ÑÎ•\u001fÛ?ë¦÷j\"ñ\u0005ÀŠÐ\n",
      "\\Í²õ?\n",
      "ÅZ‚ˆ\u0013ó?ž8(ðvVí¿=èïp´˜Ö¿ÜèePÒï?»ñä<ôÅê?N\u001c",
      "?‘Ú¿û¿oK¥°{7ç¿;ÓÒÇ‡\u0003ã¿²+Ráfåã?\u0014¯¯†Y§à?e\"1J\t^û¿¤‡ê>z£ý¿¿âNgÎ$ì?\u0002]Ÿ!sžÆ?\n",
      "žãî\u0005°à¿\\’K�«•Õ¿ÛÄ7„C\"î?øR‹Ï=ýð?}ªï\u0011NLÕ?h\u0000Ç8=\u0015î¿ÅŠy^?/Ê?I15ôçÃá¿“ä‰Ž/}á??VîÑ\"•à¿Y\n",
      "2‡«Òà?�\u0006‚7\u0016Ÿ\u0001ÀÉâÄèH\u0005ú?æ*§v„·ã?\n",
      "gR({2ã¿J/¾“8êß¿ñÃ2\bÇªÕ¿úˆõ£÷dï¿\u001bú\u001e",
      "„¤]ì?A¼ªDÈ+³¿áªsu±«ð¿Þåv�æ›Ù¿ý³\u0004Þ¿âº?¾ã{Õd}×?Pòôv6Eà?Ò§T&|ÒÜ?ºûIì\u0001sÐ¿¼\u0019¯G”Üø?ÀZ¯3ŠÙ\u0003@<³\u001b-CÒú?m>XD8„\u0003Àx_\\Ö‰©¢?\u0010“)ÎÒ£Ü¿'\u0006¼riÁú¿w‰6E*³É?°õB¤m„Ö?9D›‰sFô?ÝŒ`$\u0014\u001e",
      "Ê¿QàáóÀ>à¿ºÊ§ŸªTé¿b•øË¡\u001d",
      "ê?‹\u00154K\u0014åÂ?\u0004]ÆO¤\u0004ä¿Æîii·n÷¿î\u001f0Ú\u001a\u0019Å¿\u0012¨Í1×xÝ¿\u0005¯†MÞÖï¿�\u0018mI„Õ¿)ª,!p�æ¿y.\u0013´ÍÄô¿°~\u000e1¨Êñ?ZºÕ\u0006œÂ?&‚)ÄüšÉ?t\u0011TdV—Õ?\u0001ä\u00051A\u0001Á¿¿Ì\u0016p‘JÑ¿ž¿\u000b",
      "q\f",
      "\\é¿¡Ä§a¥Àî?æ¥J®Ä\u0000ñ¿¶â\u001fÙ6…Ð?“koéx\u0006å?\u001a\u0004—¡¤JÖ?f¶\büñ\u000eÕ¿4fq\u000eöQ¶¿N[ƒ\u0010?\n",
      "ç?wa\n",
      "c§\u0004ä?Ï\"o­\u000eÑþ?Å\u001a\u001a\bªT\u0005@`¶Kè}\u0002Æ?c(l¯=…þ?Èx…\u0012íyÂ?~ÏÊZ?ûó?¤5ƒ9š‘Î¿\u001d",
      "\u0005–)Ï«Ä?‘~^2\b_í?ˆwÜ4·9ë?…\"gã}‰û?±è4ùô�ü?2É ™S¹ê¿Y£‡\u0015o‡ñ¿Ý%Âq»†\u0004@«žŒ\u000eQ�Ò¿c�@ÐM\u001aì?«[Õ\u0018]Öþ¿ZÃ‰ã6Ee?íµ\u001fë\u000f•¿p\u0015á¨µD\u0001@,%\"\u001b\u000b",
      "hï¿Å\u001c",
      "\bV„\u0005Ö¿òø¹1\u001c",
      "Õë¿rÿ÷L¢ýí¿\bé„|cÓà¿¿çÙŠúEã?]\u000e©Ëi\u0012Û¿‚ö_¹‹ìæ¿Ô\n",
      "—]³xÖ¿»\u0017iÂñ\u0019Ú¿ê%4[.®÷?Væ¸nŒ•é?ï\u0017‚G0P¼¿\u001fºæ\u001c",
      "ø€ó?6\u0012¬†EQ ¿Ð™‹i[\tù¿™\u0012\u001b»ñöÔ¿ËŠum@Bð?\u0005ÉÛÍMgò?\u001aˆ)2m\u001få¿´ö�\u0006¿Tø¿¤‰ÿåSàæ¿[\u001e",
      "\u0006À¸Ö×¿¼»Ðd~\u000b",
      "ó?ðÖš\b\u000b",
      "xø?\u0011œ\u0003Ö,\u001bé?­à†'å\u000b",
      "á¿\u0003^/<OHà?Æù‹/ö\u0006Ã¿sôGƒ^Aã?\u001aÃª\b‰àê?ä­rªãËÅ¿\u0017ÒÐ\u0014¯Ue?\u001a:Ü‰)Åû¿ ±Ïø›ß¿Ø‚B)®ÃÏ?ÑÁUØh²ú?“‘ŸGüøú?c=ç•¸Üç?fë£o¯@Õ?q—2§e\u0015à?IýÜ¾\u0011—ç¿v™•\u0019ö�ú¿!­Nb§¸\b@Ôí^\b&–ë¿ë;%wØHá¿\u0014Ï\u0011tå|Á¿@a\u00175™¥é¿\u0001]¦]\u0011úá¿5d–(í÷¿?tåjWDd\u0004@YmGZ§\u001aà?J\\\n",
      "&\u0005Åð?[‰Ä'É2â?\b\\×DêJÐ?Õ\u0002FÇ{jå?\n",
      "ËMû\u0015d\u0003@YwAùŽ†Ö?4Ü6œâÈö¿:\u0005³M.Gï¿RNEF¶¥á¿UúŠ\u00133âð¿àh�öÏãå?\n"
     ]
    },
    {
     "name": "stderr",
     "output_type": "stream",
     "text": [
      "\n",
      "dados.npy\n",
      "\n",
      "\n",
      "O sistema nÆo pode encontrar o arquivo especificado.\n",
      "Erro ao processar: #type.\n"
     ]
    }
   ],
   "source": [
    "!type dados.npy #type"
   ]
  },
  {
   "cell_type": "code",
   "execution_count": null,
   "metadata": {},
   "outputs": [],
   "source": [
    "!cat dados.npy"
   ]
  },
  {
   "cell_type": "code",
   "execution_count": null,
   "metadata": {},
   "outputs": [],
   "source": [
    "np.save('dados.npy', m)"
   ]
  },
  {
   "cell_type": "code",
   "execution_count": 85,
   "metadata": {},
   "outputs": [
    {
     "data": {
      "text/plain": [
       "array([[-0.63272459,  0.18542627],\n",
       "       [-0.83234707, -0.61438877],\n",
       "       [ 0.27511592, -0.23449766]])"
      ]
     },
     "execution_count": 85,
     "metadata": {},
     "output_type": "execute_result"
    }
   ],
   "source": [
    "p = np.load('dados.npy')\n",
    "p[:3]"
   ]
  },
  {
   "cell_type": "code",
   "execution_count": 86,
   "metadata": {},
   "outputs": [
    {
     "data": {
      "text/plain": [
       "(400, 2)"
      ]
     },
     "execution_count": 86,
     "metadata": {},
     "output_type": "execute_result"
    }
   ],
   "source": [
    "p.shape"
   ]
  },
  {
   "cell_type": "code",
   "execution_count": null,
   "metadata": {},
   "outputs": [],
   "source": []
  }
 ],
 "metadata": {
  "kernelspec": {
   "display_name": "Python 3 (ipykernel)",
   "language": "python",
   "name": "python3"
  },
  "language_info": {
   "codemirror_mode": {
    "name": "ipython",
    "version": 3
   },
   "file_extension": ".py",
   "mimetype": "text/x-python",
   "name": "python",
   "nbconvert_exporter": "python",
   "pygments_lexer": "ipython3",
   "version": "3.9.7"
  }
 },
 "nbformat": 4,
 "nbformat_minor": 4
}
