{
 "cells": [
  {
   "cell_type": "markdown",
   "metadata": {},
   "source": [
    "# Aula-18-Maio-2023-Numpy-Turma-Manha"
   ]
  },
  {
   "cell_type": "code",
   "execution_count": 1,
   "metadata": {},
   "outputs": [],
   "source": [
    "import pandas as pd"
   ]
  },
  {
   "cell_type": "code",
   "execution_count": 2,
   "metadata": {},
   "outputs": [
    {
     "data": {
      "text/html": [
       "<div>\n",
       "<style scoped>\n",
       "    .dataframe tbody tr th:only-of-type {\n",
       "        vertical-align: middle;\n",
       "    }\n",
       "\n",
       "    .dataframe tbody tr th {\n",
       "        vertical-align: top;\n",
       "    }\n",
       "\n",
       "    .dataframe thead th {\n",
       "        text-align: right;\n",
       "    }\n",
       "</style>\n",
       "<table border=\"1\" class=\"dataframe\">\n",
       "  <thead>\n",
       "    <tr style=\"text-align: right;\">\n",
       "      <th></th>\n",
       "      <th>STATE</th>\n",
       "      <th>IBGE_POP</th>\n",
       "      <th>GDP</th>\n",
       "      <th>IDHM</th>\n",
       "      <th>IDHM_Longevidade</th>\n",
       "      <th>IDHM_Educacao</th>\n",
       "      <th>Cars</th>\n",
       "    </tr>\n",
       "  </thead>\n",
       "  <tbody>\n",
       "    <tr>\n",
       "      <th>0</th>\n",
       "      <td>AC</td>\n",
       "      <td>511107</td>\n",
       "      <td>13751124</td>\n",
       "      <td>0.586091</td>\n",
       "      <td>0.766591</td>\n",
       "      <td>0.452227</td>\n",
       "      <td>87400</td>\n",
       "    </tr>\n",
       "    <tr>\n",
       "      <th>1</th>\n",
       "      <td>AL</td>\n",
       "      <td>2247432</td>\n",
       "      <td>49456362</td>\n",
       "      <td>0.563500</td>\n",
       "      <td>0.739539</td>\n",
       "      <td>0.442745</td>\n",
       "      <td>357183</td>\n",
       "    </tr>\n",
       "    <tr>\n",
       "      <th>2</th>\n",
       "      <td>AM</td>\n",
       "      <td>2692087</td>\n",
       "      <td>89017164</td>\n",
       "      <td>0.565113</td>\n",
       "      <td>0.765548</td>\n",
       "      <td>0.436935</td>\n",
       "      <td>394443</td>\n",
       "    </tr>\n",
       "    <tr>\n",
       "      <th>3</th>\n",
       "      <td>AP</td>\n",
       "      <td>522709</td>\n",
       "      <td>14338837</td>\n",
       "      <td>0.642813</td>\n",
       "      <td>0.783938</td>\n",
       "      <td>0.549937</td>\n",
       "      <td>80686</td>\n",
       "    </tr>\n",
       "    <tr>\n",
       "      <th>4</th>\n",
       "      <td>BA</td>\n",
       "      <td>9121262</td>\n",
       "      <td>258649050</td>\n",
       "      <td>0.592483</td>\n",
       "      <td>0.757766</td>\n",
       "      <td>0.480734</td>\n",
       "      <td>1835913</td>\n",
       "    </tr>\n",
       "  </tbody>\n",
       "</table>\n",
       "</div>"
      ],
      "text/plain": [
       "  STATE  IBGE_POP        GDP      IDHM  IDHM_Longevidade  IDHM_Educacao  \\\n",
       "0    AC    511107   13751124  0.586091          0.766591       0.452227   \n",
       "1    AL   2247432   49456362  0.563500          0.739539       0.442745   \n",
       "2    AM   2692087   89017164  0.565113          0.765548       0.436935   \n",
       "3    AP    522709   14338837  0.642813          0.783938       0.549937   \n",
       "4    BA   9121262  258649050  0.592483          0.757766       0.480734   \n",
       "\n",
       "      Cars  \n",
       "0    87400  \n",
       "1   357183  \n",
       "2   394443  \n",
       "3    80686  \n",
       "4  1835913  "
      ]
     },
     "execution_count": 2,
     "metadata": {},
     "output_type": "execute_result"
    }
   ],
   "source": [
    "file = 'estados.csv'\n",
    "df = pd.read_csv(file)\n",
    "df.head()"
   ]
  },
  {
   "cell_type": "code",
   "execution_count": 3,
   "metadata": {},
   "outputs": [],
   "source": [
    "import numpy as np"
   ]
  },
  {
   "cell_type": "code",
   "execution_count": 9,
   "metadata": {},
   "outputs": [],
   "source": [
    "!pip install -U -q numpy"
   ]
  },
  {
   "cell_type": "code",
   "execution_count": 10,
   "metadata": {},
   "outputs": [
    {
     "data": {
      "text/plain": [
       "'1.22.4'"
      ]
     },
     "execution_count": 10,
     "metadata": {},
     "output_type": "execute_result"
    }
   ],
   "source": [
    "np.__version__ "
   ]
  },
  {
   "cell_type": "code",
   "execution_count": 11,
   "metadata": {},
   "outputs": [
    {
     "name": "stdout",
     "output_type": "stream",
     "text": [
      "Help on built-in function array in module numpy:\n",
      "\n",
      "array(...)\n",
      "    array(object, dtype=None, *, copy=True, order='K', subok=False, ndmin=0,\n",
      "          like=None)\n",
      "    \n",
      "    Create an array.\n",
      "    \n",
      "    Parameters\n",
      "    ----------\n",
      "    object : array_like\n",
      "        An array, any object exposing the array interface, an object whose\n",
      "        __array__ method returns an array, or any (nested) sequence.\n",
      "        If object is a scalar, a 0-dimensional array containing object is\n",
      "        returned.\n",
      "    dtype : data-type, optional\n",
      "        The desired data-type for the array.  If not given, then the type will\n",
      "        be determined as the minimum type required to hold the objects in the\n",
      "        sequence.\n",
      "    copy : bool, optional\n",
      "        If true (default), then the object is copied.  Otherwise, a copy will\n",
      "        only be made if __array__ returns a copy, if obj is a nested sequence,\n",
      "        or if a copy is needed to satisfy any of the other requirements\n",
      "        (`dtype`, `order`, etc.).\n",
      "    order : {'K', 'A', 'C', 'F'}, optional\n",
      "        Specify the memory layout of the array. If object is not an array, the\n",
      "        newly created array will be in C order (row major) unless 'F' is\n",
      "        specified, in which case it will be in Fortran order (column major).\n",
      "        If object is an array the following holds.\n",
      "    \n",
      "        ===== ========= ===================================================\n",
      "        order  no copy                     copy=True\n",
      "        ===== ========= ===================================================\n",
      "        'K'   unchanged F & C order preserved, otherwise most similar order\n",
      "        'A'   unchanged F order if input is F and not C, otherwise C order\n",
      "        'C'   C order   C order\n",
      "        'F'   F order   F order\n",
      "        ===== ========= ===================================================\n",
      "    \n",
      "        When ``copy=False`` and a copy is made for other reasons, the result is\n",
      "        the same as if ``copy=True``, with some exceptions for 'A', see the\n",
      "        Notes section. The default order is 'K'.\n",
      "    subok : bool, optional\n",
      "        If True, then sub-classes will be passed-through, otherwise\n",
      "        the returned array will be forced to be a base-class array (default).\n",
      "    ndmin : int, optional\n",
      "        Specifies the minimum number of dimensions that the resulting\n",
      "        array should have.  Ones will be pre-pended to the shape as\n",
      "        needed to meet this requirement.\n",
      "    like : array_like\n",
      "        Reference object to allow the creation of arrays which are not\n",
      "        NumPy arrays. If an array-like passed in as ``like`` supports\n",
      "        the ``__array_function__`` protocol, the result will be defined\n",
      "        by it. In this case, it ensures the creation of an array object\n",
      "        compatible with that passed in via this argument.\n",
      "    \n",
      "        .. versionadded:: 1.20.0\n",
      "    \n",
      "    Returns\n",
      "    -------\n",
      "    out : ndarray\n",
      "        An array object satisfying the specified requirements.\n",
      "    \n",
      "    See Also\n",
      "    --------\n",
      "    empty_like : Return an empty array with shape and type of input.\n",
      "    ones_like : Return an array of ones with shape and type of input.\n",
      "    zeros_like : Return an array of zeros with shape and type of input.\n",
      "    full_like : Return a new array with shape of input filled with value.\n",
      "    empty : Return a new uninitialized array.\n",
      "    ones : Return a new array setting values to one.\n",
      "    zeros : Return a new array setting values to zero.\n",
      "    full : Return a new array of given shape filled with value.\n",
      "    \n",
      "    \n",
      "    Notes\n",
      "    -----\n",
      "    When order is 'A' and `object` is an array in neither 'C' nor 'F' order,\n",
      "    and a copy is forced by a change in dtype, then the order of the result is\n",
      "    not necessarily 'C' as expected. This is likely a bug.\n",
      "    \n",
      "    Examples\n",
      "    --------\n",
      "    >>> np.array([1, 2, 3])\n",
      "    array([1, 2, 3])\n",
      "    \n",
      "    Upcasting:\n",
      "    \n",
      "    >>> np.array([1, 2, 3.0])\n",
      "    array([ 1.,  2.,  3.])\n",
      "    \n",
      "    More than one dimension:\n",
      "    \n",
      "    >>> np.array([[1, 2], [3, 4]])\n",
      "    array([[1, 2],\n",
      "           [3, 4]])\n",
      "    \n",
      "    Minimum dimensions 2:\n",
      "    \n",
      "    >>> np.array([1, 2, 3], ndmin=2)\n",
      "    array([[1, 2, 3]])\n",
      "    \n",
      "    Type provided:\n",
      "    \n",
      "    >>> np.array([1, 2, 3], dtype=complex)\n",
      "    array([ 1.+0.j,  2.+0.j,  3.+0.j])\n",
      "    \n",
      "    Data-type consisting of more than one element:\n",
      "    \n",
      "    >>> x = np.array([(1,2),(3,4)],dtype=[('a','<i4'),('b','<i4')])\n",
      "    >>> x['a']\n",
      "    array([1, 3])\n",
      "    \n",
      "    Creating an array from sub-classes:\n",
      "    \n",
      "    >>> np.array(np.mat('1 2; 3 4'))\n",
      "    array([[1, 2],\n",
      "           [3, 4]])\n",
      "    \n",
      "    >>> np.array(np.mat('1 2; 3 4'), subok=True)\n",
      "    matrix([[1, 2],\n",
      "            [3, 4]])\n",
      "\n"
     ]
    }
   ],
   "source": [
    "help(np.array)"
   ]
  },
  {
   "cell_type": "code",
   "execution_count": 12,
   "metadata": {},
   "outputs": [
    {
     "data": {
      "text/plain": [
       "array([0, 1, 2, 3, 4, 5, 6, 7, 8])"
      ]
     },
     "execution_count": 12,
     "metadata": {},
     "output_type": "execute_result"
    }
   ],
   "source": [
    "v1 = np.array( [0, 1, 2, 3, 4, 5, 6, 7, 8 ] )\n",
    "v1"
   ]
  },
  {
   "cell_type": "code",
   "execution_count": 13,
   "metadata": {},
   "outputs": [
    {
     "data": {
      "text/plain": [
       "numpy.ndarray"
      ]
     },
     "execution_count": 13,
     "metadata": {},
     "output_type": "execute_result"
    }
   ],
   "source": [
    "type(v1)"
   ]
  },
  {
   "cell_type": "code",
   "execution_count": 14,
   "metadata": {},
   "outputs": [
    {
     "data": {
      "text/plain": [
       "dtype('int64')"
      ]
     },
     "execution_count": 14,
     "metadata": {},
     "output_type": "execute_result"
    }
   ],
   "source": [
    "v1.dtype"
   ]
  },
  {
   "cell_type": "code",
   "execution_count": 15,
   "metadata": {},
   "outputs": [
    {
     "data": {
      "text/plain": [
       "array([0., 1., 2., 3., 4., 5., 6., 7., 8.], dtype=float128)"
      ]
     },
     "execution_count": 15,
     "metadata": {},
     "output_type": "execute_result"
    }
   ],
   "source": [
    "v10 = np.array( [0, 1, 2, 3, 4, 5, 6, 7, 8 ], dtype=np.float128 )\n",
    "v10"
   ]
  },
  {
   "cell_type": "code",
   "execution_count": 16,
   "metadata": {},
   "outputs": [
    {
     "data": {
      "text/plain": [
       "dtype('float128')"
      ]
     },
     "execution_count": 16,
     "metadata": {},
     "output_type": "execute_result"
    }
   ],
   "source": [
    "v10.dtype"
   ]
  },
  {
   "cell_type": "code",
   "execution_count": 17,
   "metadata": {},
   "outputs": [
    {
     "data": {
      "text/plain": [
       "array([ 0,  1,  3,  6, 10, 15, 21, 28, 36])"
      ]
     },
     "execution_count": 17,
     "metadata": {},
     "output_type": "execute_result"
    }
   ],
   "source": [
    "v1.cumsum()"
   ]
  },
  {
   "cell_type": "code",
   "execution_count": 18,
   "metadata": {},
   "outputs": [
    {
     "data": {
      "text/plain": [
       "36"
      ]
     },
     "execution_count": 18,
     "metadata": {},
     "output_type": "execute_result"
    }
   ],
   "source": [
    "v1.sum()"
   ]
  },
  {
   "cell_type": "code",
   "execution_count": 24,
   "metadata": {},
   "outputs": [
    {
     "data": {
      "text/plain": [
       "4.0"
      ]
     },
     "execution_count": 24,
     "metadata": {},
     "output_type": "execute_result"
    }
   ],
   "source": [
    "v1.mean()"
   ]
  },
  {
   "cell_type": "code",
   "execution_count": 20,
   "metadata": {},
   "outputs": [
    {
     "data": {
      "text/plain": [
       "4.0"
      ]
     },
     "execution_count": 20,
     "metadata": {},
     "output_type": "execute_result"
    }
   ],
   "source": [
    "np.mean(v1)"
   ]
  },
  {
   "cell_type": "code",
   "execution_count": 27,
   "metadata": {},
   "outputs": [
    {
     "data": {
      "text/plain": [
       "array([ 0, 10, 20, 30, 40, 50, 60, 70, 80])"
      ]
     },
     "execution_count": 27,
     "metadata": {},
     "output_type": "execute_result"
    }
   ],
   "source": [
    "v2 = v1 * 10\n",
    "v2"
   ]
  },
  {
   "cell_type": "code",
   "execution_count": 29,
   "metadata": {},
   "outputs": [
    {
     "data": {
      "text/plain": [
       "array([100,  10,  20,  30,  40,  50,  60,  70,  80])"
      ]
     },
     "execution_count": 29,
     "metadata": {},
     "output_type": "execute_result"
    }
   ],
   "source": [
    "v2[0] = 100\n",
    "v2"
   ]
  },
  {
   "cell_type": "code",
   "execution_count": 31,
   "metadata": {},
   "outputs": [
    {
     "data": {
      "text/plain": [
       "array([4.60517019, 2.30258509, 2.99573227, 3.40119738, 3.68887945,\n",
       "       3.91202301, 4.09434456, 4.24849524, 4.38202663])"
      ]
     },
     "execution_count": 31,
     "metadata": {},
     "output_type": "execute_result"
    }
   ],
   "source": [
    "v3 = np.log(v2)\n",
    "v3"
   ]
  },
  {
   "cell_type": "code",
   "execution_count": 35,
   "metadata": {},
   "outputs": [
    {
     "name": "stdout",
     "output_type": "stream",
     "text": [
      "[2.30258509 2.99573227 3.40119738 3.68887945 3.91202301 4.09434456]\n"
     ]
    }
   ],
   "source": [
    "print(v3[1:-2]) # slicing ou fatiamento"
   ]
  },
  {
   "cell_type": "code",
   "execution_count": 36,
   "metadata": {},
   "outputs": [
    {
     "data": {
      "text/plain": [
       "array([100,   1,   2,   3,   4,   5,   6,   7,   8])"
      ]
     },
     "execution_count": 36,
     "metadata": {},
     "output_type": "execute_result"
    }
   ],
   "source": [
    "v1[0] = 100\n",
    "v1"
   ]
  },
  {
   "cell_type": "code",
   "execution_count": 37,
   "metadata": {},
   "outputs": [
    {
     "ename": "ValueError",
     "evalue": "invalid literal for int() with base 10: 'cct'",
     "output_type": "error",
     "traceback": [
      "\u001b[0;31m---------------------------------------------------------------------------\u001b[0m",
      "\u001b[0;31mValueError\u001b[0m                                Traceback (most recent call last)",
      "Input \u001b[0;32mIn [37]\u001b[0m, in \u001b[0;36m<cell line: 1>\u001b[0;34m()\u001b[0m\n\u001b[0;32m----> 1\u001b[0m v1[\u001b[38;5;241m1\u001b[39m] \u001b[38;5;241m=\u001b[39m \u001b[38;5;124m'\u001b[39m\u001b[38;5;124mcct\u001b[39m\u001b[38;5;124m'\u001b[39m\n",
      "\u001b[0;31mValueError\u001b[0m: invalid literal for int() with base 10: 'cct'"
     ]
    }
   ],
   "source": [
    "v1[1] = 'cct'"
   ]
  },
  {
   "cell_type": "code",
   "execution_count": 38,
   "metadata": {},
   "outputs": [
    {
     "data": {
      "text/plain": [
       "(9,)"
      ]
     },
     "execution_count": 38,
     "metadata": {},
     "output_type": "execute_result"
    }
   ],
   "source": [
    "v1.shape"
   ]
  },
  {
   "cell_type": "code",
   "execution_count": 39,
   "metadata": {},
   "outputs": [
    {
     "data": {
      "text/plain": [
       "dtype('int64')"
      ]
     },
     "execution_count": 39,
     "metadata": {},
     "output_type": "execute_result"
    }
   ],
   "source": [
    "v1.dtype"
   ]
  },
  {
   "cell_type": "markdown",
   "metadata": {},
   "source": [
    "# Funções "
   ]
  },
  {
   "cell_type": "code",
   "execution_count": 40,
   "metadata": {},
   "outputs": [
    {
     "data": {
      "text/plain": [
       "range(0, 10)"
      ]
     },
     "execution_count": 40,
     "metadata": {},
     "output_type": "execute_result"
    }
   ],
   "source": [
    "range(10)"
   ]
  },
  {
   "cell_type": "code",
   "execution_count": 41,
   "metadata": {},
   "outputs": [
    {
     "data": {
      "text/plain": [
       "[0, 1, 2, 3, 4, 5, 6, 7, 8, 9]"
      ]
     },
     "execution_count": 41,
     "metadata": {},
     "output_type": "execute_result"
    }
   ],
   "source": [
    "list(range(10))"
   ]
  },
  {
   "cell_type": "code",
   "execution_count": 42,
   "metadata": {},
   "outputs": [
    {
     "name": "stdout",
     "output_type": "stream",
     "text": [
      "0\n",
      "1\n",
      "2\n",
      "3\n",
      "4\n",
      "5\n",
      "6\n",
      "7\n",
      "8\n",
      "9\n"
     ]
    }
   ],
   "source": [
    "for i in range(10):\n",
    "    print(i)"
   ]
  },
  {
   "cell_type": "code",
   "execution_count": 43,
   "metadata": {},
   "outputs": [
    {
     "data": {
      "text/plain": [
       "array([0. , 0.5, 1. , 1.5, 2. , 2.5, 3. , 3.5, 4. ])"
      ]
     },
     "execution_count": 43,
     "metadata": {},
     "output_type": "execute_result"
    }
   ],
   "source": [
    "# Intervalo - Inicio, Fim (Exclusive), Passo ou Incremento\n",
    "v2 = np.arange(0., 4.5, .5)\n",
    "v2"
   ]
  },
  {
   "cell_type": "code",
   "execution_count": 44,
   "metadata": {},
   "outputs": [
    {
     "data": {
      "text/plain": [
       "numpy.ndarray"
      ]
     },
     "execution_count": 44,
     "metadata": {},
     "output_type": "execute_result"
    }
   ],
   "source": [
    "type(v2)"
   ]
  },
  {
   "cell_type": "code",
   "execution_count": 45,
   "metadata": {},
   "outputs": [
    {
     "data": {
      "text/plain": [
       "(9,)"
      ]
     },
     "execution_count": 45,
     "metadata": {},
     "output_type": "execute_result"
    }
   ],
   "source": [
    "np.shape(v2)"
   ]
  },
  {
   "cell_type": "code",
   "execution_count": 46,
   "metadata": {},
   "outputs": [
    {
     "data": {
      "text/plain": [
       "dtype('float64')"
      ]
     },
     "execution_count": 46,
     "metadata": {},
     "output_type": "execute_result"
    }
   ],
   "source": [
    "v2.dtype"
   ]
  },
  {
   "cell_type": "code",
   "execution_count": 48,
   "metadata": {},
   "outputs": [
    {
     "name": "stdout",
     "output_type": "stream",
     "text": [
      "[1.   1.25 1.5  1.75 2.   2.25 2.5  2.75 3.   3.25 3.5  3.75 4.   4.25\n",
      " 4.5  4.75 5.   5.25 5.5  5.75 6.   6.25 6.5  6.75 7.   7.25 7.5  7.75\n",
      " 8.   8.25 8.5  8.75 9.   9.25 9.5  9.75]\n"
     ]
    }
   ],
   "source": [
    "x = np.arange(1, 10, 0.25)\n",
    "print(x)"
   ]
  },
  {
   "cell_type": "code",
   "execution_count": 49,
   "metadata": {},
   "outputs": [
    {
     "data": {
      "text/plain": [
       "array([ True, False,  True,  True])"
      ]
     },
     "execution_count": 49,
     "metadata": {},
     "output_type": "execute_result"
    }
   ],
   "source": [
    "b = np.array([True, False, True, True])\n",
    "b"
   ]
  },
  {
   "cell_type": "code",
   "execution_count": 50,
   "metadata": {},
   "outputs": [
    {
     "data": {
      "text/plain": [
       "dtype('bool')"
      ]
     },
     "execution_count": 50,
     "metadata": {},
     "output_type": "execute_result"
    }
   ],
   "source": [
    "b.dtype"
   ]
  },
  {
   "cell_type": "code",
   "execution_count": 52,
   "metadata": {},
   "outputs": [
    {
     "data": {
      "text/plain": [
       "array(['python', 'R', 'java', 'érika', '10'], dtype='<U21')"
      ]
     },
     "execution_count": 52,
     "metadata": {},
     "output_type": "execute_result"
    }
   ],
   "source": [
    "s = np.array( ['python', 'R', 'java', 'érika', 10] )\n",
    "s"
   ]
  },
  {
   "cell_type": "markdown",
   "metadata": {},
   "source": [
    "# Matrizes"
   ]
  },
  {
   "cell_type": "code",
   "execution_count": 53,
   "metadata": {},
   "outputs": [
    {
     "data": {
      "text/plain": [
       "array([[1, 2, 3],\n",
       "       [4, 5, 6]])"
      ]
     },
     "execution_count": 53,
     "metadata": {},
     "output_type": "execute_result"
    }
   ],
   "source": [
    "m = np.array( [ [1,2,3], [4,5,6]  ] )\n",
    "m"
   ]
  },
  {
   "cell_type": "code",
   "execution_count": 54,
   "metadata": {},
   "outputs": [
    {
     "data": {
      "text/plain": [
       "(2, 3)"
      ]
     },
     "execution_count": 54,
     "metadata": {},
     "output_type": "execute_result"
    }
   ],
   "source": [
    "m.shape"
   ]
  },
  {
   "cell_type": "code",
   "execution_count": 57,
   "metadata": {},
   "outputs": [
    {
     "data": {
      "text/plain": [
       "2"
      ]
     },
     "execution_count": 57,
     "metadata": {},
     "output_type": "execute_result"
    }
   ],
   "source": [
    "lin = m.shape[0]\n",
    "lin"
   ]
  },
  {
   "cell_type": "code",
   "execution_count": 58,
   "metadata": {},
   "outputs": [
    {
     "data": {
      "text/plain": [
       "(2, 3)"
      ]
     },
     "execution_count": 58,
     "metadata": {},
     "output_type": "execute_result"
    }
   ],
   "source": [
    "lin, col = m.shape # (2, 3)\n",
    "lin, col"
   ]
  },
  {
   "cell_type": "code",
   "execution_count": 59,
   "metadata": {},
   "outputs": [
    {
     "data": {
      "text/plain": [
       "array([[1., 1., 1.],\n",
       "       [1., 1., 1.]])"
      ]
     },
     "execution_count": 59,
     "metadata": {},
     "output_type": "execute_result"
    }
   ],
   "source": [
    "m1 = np.ones((2,3))\n",
    "m1"
   ]
  },
  {
   "cell_type": "code",
   "execution_count": 60,
   "metadata": {},
   "outputs": [
    {
     "data": {
      "text/plain": [
       "[[13, 24, 56], [23, 76, 12], [68, 61, 8]]"
      ]
     },
     "execution_count": 60,
     "metadata": {},
     "output_type": "execute_result"
    }
   ],
   "source": [
    "lista = [ [13, 24, 56], [23, 76, 12], [68, 61, 8]  ]\n",
    "lista"
   ]
  },
  {
   "cell_type": "code",
   "execution_count": 61,
   "metadata": {},
   "outputs": [
    {
     "data": {
      "text/plain": [
       "list"
      ]
     },
     "execution_count": 61,
     "metadata": {},
     "output_type": "execute_result"
    }
   ],
   "source": [
    "type(lista)"
   ]
  },
  {
   "cell_type": "code",
   "execution_count": 62,
   "metadata": {},
   "outputs": [
    {
     "data": {
      "text/plain": [
       "matrix([[13, 24, 56],\n",
       "        [23, 76, 12],\n",
       "        [68, 61,  8]])"
      ]
     },
     "execution_count": 62,
     "metadata": {},
     "output_type": "execute_result"
    }
   ],
   "source": [
    "m2 = np.matrix(lista)\n",
    "m2"
   ]
  },
  {
   "cell_type": "code",
   "execution_count": 63,
   "metadata": {},
   "outputs": [
    {
     "data": {
      "text/plain": [
       "(3, 3)"
      ]
     },
     "execution_count": 63,
     "metadata": {},
     "output_type": "execute_result"
    }
   ],
   "source": [
    "m2.shape"
   ]
  },
  {
   "cell_type": "code",
   "execution_count": 64,
   "metadata": {},
   "outputs": [
    {
     "data": {
      "text/plain": [
       "numpy.matrix"
      ]
     },
     "execution_count": 64,
     "metadata": {},
     "output_type": "execute_result"
    }
   ],
   "source": [
    "type(m2)"
   ]
  },
  {
   "cell_type": "code",
   "execution_count": 65,
   "metadata": {},
   "outputs": [
    {
     "data": {
      "text/plain": [
       "9"
      ]
     },
     "execution_count": 65,
     "metadata": {},
     "output_type": "execute_result"
    }
   ],
   "source": [
    "m2.size # numero de elementos"
   ]
  },
  {
   "cell_type": "code",
   "execution_count": 66,
   "metadata": {},
   "outputs": [
    {
     "data": {
      "text/plain": [
       "dtype('int64')"
      ]
     },
     "execution_count": 66,
     "metadata": {},
     "output_type": "execute_result"
    }
   ],
   "source": [
    "m2.dtype"
   ]
  },
  {
   "cell_type": "code",
   "execution_count": 67,
   "metadata": {},
   "outputs": [
    {
     "data": {
      "text/plain": [
       "61"
      ]
     },
     "execution_count": 67,
     "metadata": {},
     "output_type": "execute_result"
    }
   ],
   "source": [
    "m2[2,1]"
   ]
  },
  {
   "cell_type": "code",
   "execution_count": 68,
   "metadata": {},
   "outputs": [
    {
     "data": {
      "text/plain": [
       "matrix([[ 13,  24,  56],\n",
       "        [100,  76,  12],\n",
       "        [ 68,  61,   8]])"
      ]
     },
     "execution_count": 68,
     "metadata": {},
     "output_type": "execute_result"
    }
   ],
   "source": [
    "m2[1,0] = 100\n",
    "m2"
   ]
  },
  {
   "cell_type": "code",
   "execution_count": 70,
   "metadata": {},
   "outputs": [
    {
     "data": {
      "text/plain": [
       "dtype('uint64')"
      ]
     },
     "execution_count": 70,
     "metadata": {},
     "output_type": "execute_result"
    }
   ],
   "source": [
    "z = np.array([1,2], dtype=np.uint)\n",
    "z.dtype"
   ]
  },
  {
   "cell_type": "code",
   "execution_count": 71,
   "metadata": {},
   "outputs": [
    {
     "data": {
      "text/plain": [
       "dtype('float64')"
      ]
     },
     "execution_count": 71,
     "metadata": {},
     "output_type": "execute_result"
    }
   ],
   "source": [
    "z = np.array([1.0,2.0])\n",
    "z.dtype"
   ]
  },
  {
   "cell_type": "code",
   "execution_count": 72,
   "metadata": {},
   "outputs": [
    {
     "data": {
      "text/plain": [
       "dtype('float32')"
      ]
     },
     "execution_count": 72,
     "metadata": {},
     "output_type": "execute_result"
    }
   ],
   "source": [
    "z = np.array([1,2], dtype=np.float32)\n",
    "z.dtype"
   ]
  },
  {
   "cell_type": "markdown",
   "metadata": {},
   "source": [
    "### Método Random()"
   ]
  },
  {
   "cell_type": "code",
   "execution_count": 73,
   "metadata": {},
   "outputs": [
    {
     "data": {
      "text/plain": [
       "array([0.80366018, 0.3727437 , 0.39377805, 0.00529542, 0.10383566,\n",
       "       0.08648296, 0.22254865, 0.44101908, 0.00557623, 0.28015879])"
      ]
     },
     "execution_count": 73,
     "metadata": {},
     "output_type": "execute_result"
    }
   ],
   "source": [
    "# 10 números aleatórios\n",
    "x = np.random.rand(10)\n",
    "x"
   ]
  },
  {
   "cell_type": "code",
   "execution_count": 74,
   "metadata": {},
   "outputs": [],
   "source": [
    "import matplotlib.pyplot as plt\n",
    "%matplotlib inline"
   ]
  },
  {
   "cell_type": "code",
   "execution_count": 75,
   "metadata": {},
   "outputs": [
    {
     "data": {
      "image/png": "[encoded data removed]",
      "text/plain": [
       "<Figure size 432x288 with 1 Axes>"
      ]
     },
     "metadata": {
      "needs_background": "light"
     },
     "output_type": "display_data"
    }
   ],
   "source": [
    "plt.show(plt.hist(x))"
   ]
  },
  {
   "cell_type": "code",
   "execution_count": 76,
   "metadata": {},
   "outputs": [],
   "source": [
    "x = np.random.rand(10000)"
   ]
  },
  {
   "cell_type": "code",
   "execution_count": 77,
   "metadata": {},
   "outputs": [
    {
     "data": {
      "image/png": "[encoded data removed]",
      "text/plain": [
       "<Figure size 432x288 with 1 Axes>"
      ]
     },
     "metadata": {
      "needs_background": "light"
     },
     "output_type": "display_data"
    }
   ],
   "source": [
    "plt.show(plt.hist(x))"
   ]
  },
  {
   "cell_type": "code",
   "execution_count": 78,
   "metadata": {},
   "outputs": [
    {
     "data": {
      "text/plain": [
       "array([0.52058227, 0.62182471, 0.18450396, 0.60414393, 0.34382935,\n",
       "       0.89957507, 0.74052626, 0.78131335, 0.43977803, 0.10779743,\n",
       "       0.50873644, 0.3312828 , 0.0810056 , 0.63385306, 0.37263405,\n",
       "       0.55510162, 0.6542088 , 0.06932594, 0.34039453, 0.90432783])"
      ]
     },
     "execution_count": 78,
     "metadata": {},
     "output_type": "execute_result"
    }
   ],
   "source": [
    "x[:20]"
   ]
  },
  {
   "cell_type": "code",
   "execution_count": 88,
   "metadata": {},
   "outputs": [
    {
     "name": "stderr",
     "output_type": "stream",
     "text": [
      "/tmp/ipykernel_14243/2267129857.py:2: RuntimeWarning: invalid value encountered in log\n",
      "  x = np.log(x)\n"
     ]
    }
   ],
   "source": [
    "x = np.random.randn(2000000) # distribuicao normal\n",
    "x = np.log(x)"
   ]
  },
  {
   "cell_type": "code",
   "execution_count": 89,
   "metadata": {},
   "outputs": [
    {
     "data": {
      "text/plain": [
       "array([ 0.14514861,  0.02217927, -1.4691105 , -0.32389916, -0.40955674,\n",
       "               nan,         nan,         nan,         nan, -0.47940638,\n",
       "       -1.10484726,         nan, -0.39488011, -0.77506718,  0.09730809,\n",
       "               nan, -0.63449961,         nan, -0.52638957, -1.45688101])"
      ]
     },
     "execution_count": 89,
     "metadata": {},
     "output_type": "execute_result"
    }
   ],
   "source": [
    "x[:20]"
   ]
  },
  {
   "cell_type": "code",
   "execution_count": 90,
   "metadata": {},
   "outputs": [
    {
     "data": {
      "image/png": "[encoded data removed]",
      "text/plain": [
       "<Figure size 432x288 with 1 Axes>"
      ]
     },
     "metadata": {
      "needs_background": "light"
     },
     "output_type": "display_data"
    }
   ],
   "source": [
    "plt.show(plt.hist(x))"
   ]
  },
  {
   "cell_type": "code",
   "execution_count": 92,
   "metadata": {},
   "outputs": [],
   "source": [
    "url = 'https://raw.githubusercontent.com/vladimiralencar/Alunos-UEPB-TopicosEspeciaisEmBancoDeDados/master/Python-Para-Analise-de-Dados/iris.csv'"
   ]
  },
  {
   "cell_type": "code",
   "execution_count": 93,
   "metadata": {},
   "outputs": [
    {
     "name": "stdout",
     "output_type": "stream",
     "text": [
      "[[5.1 3.5 1.4 0.2]\n",
      " [4.9 3.  1.4 0.2]\n",
      " [4.7 3.2 1.3 0.2]\n",
      " [4.6 3.1 1.5 0.2]\n",
      " [5.  3.6 1.4 0.2]\n",
      " [5.4 3.9 1.7 0.4]\n",
      " [4.6 3.4 1.4 0.3]\n",
      " [5.  3.4 1.5 0.2]\n",
      " [4.4 2.9 1.4 0.2]\n",
      " [4.9 3.1 1.5 0.1]\n",
      " [5.4 3.7 1.5 0.2]\n",
      " [4.8 3.4 1.6 0.2]\n",
      " [4.8 3.  1.4 0.1]\n",
      " [4.3 3.  1.1 0.1]\n",
      " [5.8 4.  1.2 0.2]\n",
      " [5.7 4.4 1.5 0.4]\n",
      " [5.4 3.9 1.3 0.4]\n",
      " [5.1 3.5 1.4 0.3]\n",
      " [5.7 3.8 1.7 0.3]\n",
      " [5.1 3.8 1.5 0.3]\n",
      " [5.4 3.4 1.7 0.2]\n",
      " [5.1 3.7 1.5 0.4]\n",
      " [4.6 3.6 1.  0.2]\n",
      " [5.1 3.3 1.7 0.5]\n",
      " [4.8 3.4 1.9 0.2]\n",
      " [5.  3.  1.6 0.2]\n",
      " [5.  3.4 1.6 0.4]\n",
      " [5.2 3.5 1.5 0.2]\n",
      " [5.2 3.4 1.4 0.2]\n",
      " [4.7 3.2 1.6 0.2]\n",
      " [4.8 3.1 1.6 0.2]\n",
      " [5.4 3.4 1.5 0.4]\n",
      " [5.2 4.1 1.5 0.1]\n",
      " [5.5 4.2 1.4 0.2]\n",
      " [4.9 3.1 1.5 0.1]\n",
      " [5.  3.2 1.2 0.2]\n",
      " [5.5 3.5 1.3 0.2]\n",
      " [4.9 3.1 1.5 0.1]\n",
      " [4.4 3.  1.3 0.2]\n",
      " [5.1 3.4 1.5 0.2]\n",
      " [5.  3.5 1.3 0.3]\n",
      " [4.5 2.3 1.3 0.3]\n",
      " [4.4 3.2 1.3 0.2]\n",
      " [5.  3.5 1.6 0.6]\n",
      " [5.1 3.8 1.9 0.4]\n",
      " [4.8 3.  1.4 0.3]\n",
      " [5.1 3.8 1.6 0.2]\n",
      " [4.6 3.2 1.4 0.2]\n",
      " [5.3 3.7 1.5 0.2]\n",
      " [5.  3.3 1.4 0.2]\n",
      " [7.  3.2 4.7 1.4]\n",
      " [6.4 3.2 4.5 1.5]\n",
      " [6.9 3.1 4.9 1.5]\n",
      " [5.5 2.3 4.  1.3]\n",
      " [6.5 2.8 4.6 1.5]\n",
      " [5.7 2.8 4.5 1.3]\n",
      " [6.3 3.3 4.7 1.6]\n",
      " [4.9 2.4 3.3 1. ]\n",
      " [6.6 2.9 4.6 1.3]\n",
      " [5.2 2.7 3.9 1.4]\n",
      " [5.  2.  3.5 1. ]\n",
      " [5.9 3.  4.2 1.5]\n",
      " [6.  2.2 4.  1. ]\n",
      " [6.1 2.9 4.7 1.4]\n",
      " [5.6 2.9 3.6 1.3]\n",
      " [6.7 3.1 4.4 1.4]\n",
      " [5.6 3.  4.5 1.5]\n",
      " [5.8 2.7 4.1 1. ]\n",
      " [6.2 2.2 4.5 1.5]\n",
      " [5.6 2.5 3.9 1.1]\n",
      " [5.9 3.2 4.8 1.8]\n",
      " [6.1 2.8 4.  1.3]\n",
      " [6.3 2.5 4.9 1.5]\n",
      " [6.1 2.8 4.7 1.2]\n",
      " [6.4 2.9 4.3 1.3]\n",
      " [6.6 3.  4.4 1.4]\n",
      " [6.8 2.8 4.8 1.4]\n",
      " [6.7 3.  5.  1.7]\n",
      " [6.  2.9 4.5 1.5]\n",
      " [5.7 2.6 3.5 1. ]\n",
      " [5.5 2.4 3.8 1.1]\n",
      " [5.5 2.4 3.7 1. ]\n",
      " [5.8 2.7 3.9 1.2]\n",
      " [6.  2.7 5.1 1.6]\n",
      " [5.4 3.  4.5 1.5]\n",
      " [6.  3.4 4.5 1.6]\n",
      " [6.7 3.1 4.7 1.5]\n",
      " [6.3 2.3 4.4 1.3]\n",
      " [5.6 3.  4.1 1.3]\n",
      " [5.5 2.5 4.  1.3]\n",
      " [5.5 2.6 4.4 1.2]\n",
      " [6.1 3.  4.6 1.4]\n",
      " [5.8 2.6 4.  1.2]\n",
      " [5.  2.3 3.3 1. ]\n",
      " [5.6 2.7 4.2 1.3]\n",
      " [5.7 3.  4.2 1.2]\n",
      " [5.7 2.9 4.2 1.3]\n",
      " [6.2 2.9 4.3 1.3]\n",
      " [5.1 2.5 3.  1.1]\n",
      " [5.7 2.8 4.1 1.3]\n",
      " [6.3 3.3 6.  2.5]\n",
      " [5.8 2.7 5.1 1.9]\n",
      " [7.1 3.  5.9 2.1]\n",
      " [6.3 2.9 5.6 1.8]\n",
      " [6.5 3.  5.8 2.2]\n",
      " [7.6 3.  6.6 2.1]\n",
      " [4.9 2.5 4.5 1.7]\n",
      " [7.3 2.9 6.3 1.8]\n",
      " [6.7 2.5 5.8 1.8]\n",
      " [7.2 3.6 6.1 2.5]\n",
      " [6.5 3.2 5.1 2. ]\n",
      " [6.4 2.7 5.3 1.9]\n",
      " [6.8 3.  5.5 2.1]\n",
      " [5.7 2.5 5.  2. ]\n",
      " [5.8 2.8 5.1 2.4]\n",
      " [6.4 3.2 5.3 2.3]\n",
      " [6.5 3.  5.5 1.8]\n",
      " [7.7 3.8 6.7 2.2]\n",
      " [7.7 2.6 6.9 2.3]\n",
      " [6.  2.2 5.  1.5]\n",
      " [6.9 3.2 5.7 2.3]\n",
      " [5.6 2.8 4.9 2. ]\n",
      " [7.7 2.8 6.7 2. ]\n",
      " [6.3 2.7 4.9 1.8]\n",
      " [6.7 3.3 5.7 2.1]\n",
      " [7.2 3.2 6.  1.8]\n",
      " [6.2 2.8 4.8 1.8]\n",
      " [6.1 3.  4.9 1.8]\n",
      " [6.4 2.8 5.6 2.1]\n",
      " [7.2 3.  5.8 1.6]\n",
      " [7.4 2.8 6.1 1.9]\n",
      " [7.9 3.8 6.4 2. ]\n",
      " [6.4 2.8 5.6 2.2]\n",
      " [6.3 2.8 5.1 1.5]\n",
      " [6.1 2.6 5.6 1.4]\n",
      " [7.7 3.  6.1 2.3]\n",
      " [6.3 3.4 5.6 2.4]\n",
      " [6.4 3.1 5.5 1.8]\n",
      " [6.  3.  4.8 1.8]\n",
      " [6.9 3.1 5.4 2.1]\n",
      " [6.7 3.1 5.6 2.4]\n",
      " [6.9 3.1 5.1 2.3]\n",
      " [5.8 2.7 5.1 1.9]\n",
      " [6.8 3.2 5.9 2.3]\n",
      " [6.7 3.3 5.7 2.5]\n",
      " [6.7 3.  5.2 2.3]\n",
      " [6.3 2.5 5.  1.9]\n",
      " [6.5 3.  5.2 2. ]\n",
      " [6.2 3.4 5.4 2.3]\n",
      " [5.9 3.  5.1 1.8]]\n"
     ]
    }
   ],
   "source": [
    "f = np.loadtxt(url, delimiter=',', usecols=(0,1,2,3), skiprows=1)\n",
    "print(f)"
   ]
  },
  {
   "cell_type": "code",
   "execution_count": 94,
   "metadata": {},
   "outputs": [
    {
     "data": {
      "text/plain": [
       "(150, 4)"
      ]
     },
     "execution_count": 94,
     "metadata": {},
     "output_type": "execute_result"
    }
   ],
   "source": [
    "f.shape"
   ]
  },
  {
   "cell_type": "code",
   "execution_count": 95,
   "metadata": {},
   "outputs": [
    {
     "data": {
      "text/plain": [
       "numpy.ndarray"
      ]
     },
     "execution_count": 95,
     "metadata": {},
     "output_type": "execute_result"
    }
   ],
   "source": [
    "type(f)"
   ]
  },
  {
   "cell_type": "code",
   "execution_count": 96,
   "metadata": {},
   "outputs": [
    {
     "data": {
      "text/plain": [
       "dtype('float64')"
      ]
     },
     "execution_count": 96,
     "metadata": {},
     "output_type": "execute_result"
    }
   ],
   "source": [
    "f.dtype"
   ]
  },
  {
   "cell_type": "code",
   "execution_count": 97,
   "metadata": {},
   "outputs": [
    {
     "name": "stdout",
     "output_type": "stream",
     "text": [
      "[5.1 4.9 4.7 4.6 5.  5.4 4.6 5.  4.4 4.9]\n"
     ]
    }
   ],
   "source": [
    "var1, var2 = np.loadtxt(url, delimiter=',', usecols=(0,1), skiprows=1, unpack=True)\n",
    "print(var1[:10])"
   ]
  },
  {
   "cell_type": "code",
   "execution_count": 98,
   "metadata": {},
   "outputs": [
    {
     "name": "stdout",
     "output_type": "stream",
     "text": [
      "[3.5 3.  3.2 3.1 3.6 3.9 3.4 3.4 2.9 3.1]\n"
     ]
    }
   ],
   "source": [
    "print(var2[:10])"
   ]
  },
  {
   "cell_type": "code",
   "execution_count": 99,
   "metadata": {},
   "outputs": [
    {
     "data": {
      "image/png": "[encoded data removed]",
      "text/plain": [
       "<Figure size 432x288 with 1 Axes>"
      ]
     },
     "metadata": {
      "needs_background": "light"
     },
     "output_type": "display_data"
    }
   ],
   "source": [
    "plt.show(plt.plot(var1, var2, 'o', markersize=8, alpha=0.75))"
   ]
  },
  {
   "cell_type": "markdown",
   "metadata": {},
   "source": [
    "# Estatística - Funções"
   ]
  },
  {
   "cell_type": "code",
   "execution_count": 100,
   "metadata": {},
   "outputs": [],
   "source": [
    "a = np.array([15, 34, -10, 100, 50, 70, 30, 10, 10, 10, 20, 20, 20])"
   ]
  },
  {
   "cell_type": "code",
   "execution_count": 101,
   "metadata": {},
   "outputs": [
    {
     "data": {
      "text/plain": [
       "array([ 15,  34, -10, 100,  50,  70,  30,  10,  10,  10,  20,  20,  20])"
      ]
     },
     "execution_count": 101,
     "metadata": {},
     "output_type": "execute_result"
    }
   ],
   "source": [
    "a"
   ]
  },
  {
   "cell_type": "code",
   "execution_count": 102,
   "metadata": {},
   "outputs": [
    {
     "data": {
      "text/plain": [
       "dtype('int64')"
      ]
     },
     "execution_count": 102,
     "metadata": {},
     "output_type": "execute_result"
    }
   ],
   "source": [
    "a.dtype"
   ]
  },
  {
   "cell_type": "code",
   "execution_count": 103,
   "metadata": {},
   "outputs": [
    {
     "data": {
      "text/plain": [
       "29.153846153846153"
      ]
     },
     "execution_count": 103,
     "metadata": {},
     "output_type": "execute_result"
    }
   ],
   "source": [
    "np.mean(a)"
   ]
  },
  {
   "cell_type": "code",
   "execution_count": 104,
   "metadata": {},
   "outputs": [
    {
     "data": {
      "text/plain": [
       "29.153846153846153"
      ]
     },
     "execution_count": 104,
     "metadata": {},
     "output_type": "execute_result"
    }
   ],
   "source": [
    "media = np.mean(a)\n",
    "media"
   ]
  },
  {
   "cell_type": "code",
   "execution_count": 105,
   "metadata": {},
   "outputs": [
    {
     "data": {
      "text/plain": [
       "28.054469420002754"
      ]
     },
     "execution_count": 105,
     "metadata": {},
     "output_type": "execute_result"
    }
   ],
   "source": [
    "# desvio padrão\n",
    "np.std(a)"
   ]
  },
  {
   "cell_type": "code",
   "execution_count": 106,
   "metadata": {},
   "outputs": [
    {
     "data": {
      "image/png": "[encoded data removed]",
      "text/plain": [
       "<Figure size 432x288 with 1 Axes>"
      ]
     },
     "metadata": {
      "needs_background": "light"
     },
     "output_type": "display_data"
    }
   ],
   "source": [
    "plt.show(plt.hist(a))"
   ]
  },
  {
   "cell_type": "code",
   "execution_count": 107,
   "metadata": {},
   "outputs": [
    {
     "data": {
      "text/plain": [
       "787.0532544378696"
      ]
     },
     "execution_count": 107,
     "metadata": {},
     "output_type": "execute_result"
    }
   ],
   "source": [
    "# variancia\n",
    "np.var(a)"
   ]
  },
  {
   "cell_type": "code",
   "execution_count": 108,
   "metadata": {},
   "outputs": [
    {
     "data": {
      "text/plain": [
       "array([1, 2, 3, 4, 5, 6, 7, 8, 9])"
      ]
     },
     "execution_count": 108,
     "metadata": {},
     "output_type": "execute_result"
    }
   ],
   "source": [
    "d = np.arange(1,10) # exclusive 10 - 1\n",
    "d"
   ]
  },
  {
   "cell_type": "code",
   "execution_count": 109,
   "metadata": {},
   "outputs": [
    {
     "data": {
      "text/plain": [
       "45"
      ]
     },
     "execution_count": 109,
     "metadata": {},
     "output_type": "execute_result"
    }
   ],
   "source": [
    "np.sum(d)"
   ]
  },
  {
   "cell_type": "code",
   "execution_count": 110,
   "metadata": {},
   "outputs": [
    {
     "data": {
      "text/plain": [
       "362880"
      ]
     },
     "execution_count": 110,
     "metadata": {},
     "output_type": "execute_result"
    }
   ],
   "source": [
    "np.prod(d)"
   ]
  },
  {
   "cell_type": "code",
   "execution_count": 111,
   "metadata": {},
   "outputs": [
    {
     "data": {
      "text/plain": [
       "array([ 12,  24,  36,  48,  60,  72,  84,  96, 108])"
      ]
     },
     "execution_count": 111,
     "metadata": {},
     "output_type": "execute_result"
    }
   ],
   "source": [
    "d * 12"
   ]
  },
  {
   "cell_type": "code",
   "execution_count": 112,
   "metadata": {},
   "outputs": [
    {
     "data": {
      "text/plain": [
       "array([ 2,  3,  4,  5,  6,  7,  8,  9, 10])"
      ]
     },
     "execution_count": 112,
     "metadata": {},
     "output_type": "execute_result"
    }
   ],
   "source": [
    "d + 1"
   ]
  },
  {
   "cell_type": "code",
   "execution_count": 113,
   "metadata": {},
   "outputs": [
    {
     "data": {
      "text/plain": [
       "array([ 1,  3,  6, 10, 15, 21, 28, 36, 45])"
      ]
     },
     "execution_count": 113,
     "metadata": {},
     "output_type": "execute_result"
    }
   ],
   "source": [
    "# soma acumulada\n",
    "np.cumsum(d)"
   ]
  },
  {
   "cell_type": "code",
   "execution_count": 114,
   "metadata": {},
   "outputs": [
    {
     "data": {
      "text/plain": [
       "(400, 2)"
      ]
     },
     "execution_count": 114,
     "metadata": {},
     "output_type": "execute_result"
    }
   ],
   "source": [
    "a = np.random.randn(400, 2)\n",
    "a.shape"
   ]
  },
  {
   "cell_type": "code",
   "execution_count": 115,
   "metadata": {},
   "outputs": [
    {
     "data": {
      "text/plain": [
       "array([[-0.52202879,  1.37842647],\n",
       "       [-1.20671788,  1.5238755 ]])"
      ]
     },
     "execution_count": 115,
     "metadata": {},
     "output_type": "execute_result"
    }
   ],
   "source": [
    "a[:2]"
   ]
  },
  {
   "cell_type": "code",
   "execution_count": 116,
   "metadata": {},
   "outputs": [
    {
     "data": {
      "text/plain": [
       "0.0312317228436157"
      ]
     },
     "execution_count": 116,
     "metadata": {},
     "output_type": "execute_result"
    }
   ],
   "source": [
    "m = np.mean(a)\n",
    "m"
   ]
  },
  {
   "cell_type": "code",
   "execution_count": 117,
   "metadata": {},
   "outputs": [
    {
     "data": {
      "text/plain": [
       "array([0.04337279, 0.01909065])"
      ]
     },
     "execution_count": 117,
     "metadata": {},
     "output_type": "execute_result"
    }
   ],
   "source": [
    "m0 = a.mean(0)\n",
    "m0"
   ]
  },
  {
   "cell_type": "code",
   "execution_count": 118,
   "metadata": {},
   "outputs": [
    {
     "data": {
      "text/plain": [
       "array([-5.22028792e-01, -1.20671788e+00,  9.92592192e-01,  5.26291762e-01,\n",
       "        8.68604410e-01,  9.38675469e-01,  1.60844871e-02,  6.21187704e-01,\n",
       "       -2.79918642e-01, -1.00512188e-01, -2.20055191e+00, -1.83061570e-01,\n",
       "       -7.56171220e-01,  9.09522849e-01, -2.68192414e-01,  1.70629856e+00,\n",
       "        2.29884183e-01, -5.98634410e-01, -4.57577152e-01,  3.73228403e-02,\n",
       "       -9.32950105e-01, -2.12006275e+00, -1.55358015e+00,  5.81559654e-01,\n",
       "       -9.93834451e-01, -5.43115674e-01,  2.94765911e-01, -6.72857471e-01,\n",
       "        7.85510571e-01,  1.99539421e-01,  1.05581927e+00, -1.81537916e-01,\n",
       "       -3.21323575e-01, -3.66034196e-01,  1.43755182e+00, -1.83789067e+00,\n",
       "        6.50591491e-01, -2.77972706e-01, -5.93031706e-01, -1.07365008e+00,\n",
       "        8.14304534e-01,  5.67269734e-01, -9.04549956e-01, -4.89432274e-01,\n",
       "       -4.23274656e-01, -6.62591393e-01,  1.15552531e-02,  4.77601547e-01,\n",
       "       -2.58914318e-01,  1.26046137e+00, -7.29041199e-01, -1.23918664e+00,\n",
       "        2.64809348e-01, -2.06191609e+00, -1.20207398e+00, -3.34385118e-01,\n",
       "        2.95534788e+00, -1.70859642e+00,  2.38772888e-01, -9.82590369e-01,\n",
       "        1.53337486e+00, -6.37803826e-02,  1.61187895e+00, -6.82000149e-01,\n",
       "       -6.29918620e-01, -1.31160875e+00, -3.52410898e-01,  4.47181087e-01,\n",
       "       -5.47405794e-02, -1.06158660e+00,  6.60516656e-01, -3.85994329e-01,\n",
       "        1.58620251e+00, -4.34072735e-01,  1.65973272e-01, -1.04620744e+00,\n",
       "        1.17426948e-01,  1.47972530e+00,  2.85280640e-01,  2.78380286e-01,\n",
       "       -8.00497581e-01,  3.28532624e-01,  4.63300412e-01,  1.16391375e+00,\n",
       "       -1.72219804e-02, -8.93171823e-01,  2.69919284e-01,  5.01093823e-01,\n",
       "        1.32460893e+00, -4.06733646e-01,  1.18114062e+00, -1.78430638e-01,\n",
       "       -1.37744063e+00, -9.43167177e-01, -1.92557176e-01, -1.12322318e+00,\n",
       "        1.67171841e+00,  1.15952108e-01, -4.25717786e-01,  1.55373296e-02,\n",
       "        2.71127773e-01, -1.40655838e-02, -7.07520686e-01, -5.53899333e-01,\n",
       "        6.95810053e-01,  3.98760501e+00, -7.39663306e-01,  1.67542625e+00,\n",
       "        4.41394768e-01, -4.16227412e-01, -2.68705924e-01,  1.08088545e+00,\n",
       "       -3.03019866e-02, -1.95667092e-01, -7.40911416e-02,  1.16358705e+00,\n",
       "        9.01882106e-01,  2.14600902e+00, -1.61016546e+00, -1.06001825e+00,\n",
       "        6.55729049e-01,  6.81578139e-01,  6.80384799e-01,  3.80721065e-01,\n",
       "        1.22401742e+00,  1.51936072e-02,  1.12932640e+00, -1.23101309e+00,\n",
       "       -4.05491714e-01,  4.44577062e-01,  6.10385851e-01,  5.48812878e-02,\n",
       "        4.93181827e-01, -3.58707086e-01,  7.37606948e-01, -1.85034956e+00,\n",
       "        9.94023264e-01, -5.27617490e-01,  3.58192992e-01, -1.11280963e+00,\n",
       "       -2.00328608e-01,  7.52188068e-02, -4.14946659e-01, -1.13312392e-01,\n",
       "       -8.01675607e-01,  8.49432058e-01,  4.13802539e-01, -3.35491323e-02,\n",
       "       -3.60097026e-01, -1.89377619e+00, -6.21317347e-01,  1.24509794e+00,\n",
       "        7.08486972e-01,  1.11430399e+00, -1.36357234e+00,  1.69296370e+00,\n",
       "       -6.99301828e-01,  4.62237748e-02,  2.27489920e-01,  1.16472286e+00,\n",
       "       -8.01910038e-02,  1.24131266e+00,  2.92966662e-01, -5.48673030e-01,\n",
       "       -3.99630752e-01, -7.25461974e-01,  6.65223908e-01, -6.81595748e-01,\n",
       "       -1.57843742e-01, -1.83996881e+00,  6.90966298e-01,  1.51009446e-01,\n",
       "        1.95659425e+00, -3.02799855e+00,  3.50538275e-01, -4.92297917e-01,\n",
       "       -6.48148648e-01,  1.07747791e+00,  1.24854020e-01, -7.57438897e-01,\n",
       "       -1.52292163e+00,  5.19208332e-01, -6.00624676e-01, -4.04304978e-01,\n",
       "       -1.98837947e+00,  5.94732412e-01,  1.06914938e+00,  1.06157771e+00,\n",
       "       -9.50143623e-01,  4.91368953e-01,  3.91711805e-01,  8.34177684e-01,\n",
       "        1.96907302e+00, -3.28177107e-01, -1.22481825e-02, -2.06621161e-01,\n",
       "        4.28418192e-01, -3.44254376e-01,  5.77519237e-01,  3.90806502e-01,\n",
       "        4.89701611e-01, -1.65389505e-01,  8.58299262e-02, -1.29631952e-01,\n",
       "        4.16654295e-01, -8.91000252e-01,  3.59716614e-01,  1.69261623e+00,\n",
       "        4.19319319e-02, -8.62320642e-01, -1.56441736e-01, -2.90246322e-01,\n",
       "        2.14579108e-01,  4.85048970e-02,  1.24458127e+00, -4.37005052e-01,\n",
       "       -1.18058380e+00,  5.89513100e-01,  8.47694867e-01,  1.42632818e-01,\n",
       "       -1.73351844e+00,  1.41873156e+00,  2.49780613e-01, -9.41007299e-01,\n",
       "       -7.24359689e-01,  1.40688984e+00, -7.44734618e-01, -1.67466809e-01,\n",
       "       -3.64778576e-01, -1.08179983e+00, -1.14169857e+00, -9.83198316e-01,\n",
       "        8.00170606e-01,  5.97581046e-01,  9.84563126e-01, -1.65570318e-01,\n",
       "        8.97612700e-01,  4.81418674e-01,  5.10577062e-02,  5.84608311e-01,\n",
       "       -1.34023208e+00,  3.66069152e-01, -7.36038026e-01, -4.48747768e-02,\n",
       "       -4.57905075e-01,  1.45700562e+00,  2.69258773e-01,  4.03419866e-01,\n",
       "        3.95669766e-01, -1.50266279e+00,  7.50238330e-01, -1.35678341e+00,\n",
       "       -1.38592801e+00, -3.23541173e-01, -9.75390666e-01,  1.40143283e+00,\n",
       "        3.91504699e-01, -4.57826795e-01, -4.35880418e-01,  3.68978143e-01,\n",
       "        2.33046381e-01, -1.02101110e+00,  5.92321255e-01,  3.21187296e-03,\n",
       "        1.81091243e-01,  2.16226851e-01,  3.59997679e-01,  4.15766824e-01,\n",
       "        1.41581106e+00,  3.41219236e-01, -1.28535092e+00, -9.81611491e-01,\n",
       "       -1.08061242e+00,  1.58231454e+00,  1.78642867e+00, -9.11324786e-01,\n",
       "        7.11104899e-01,  2.66090260e-01, -1.72041549e-01, -1.92668720e+00,\n",
       "       -5.60217011e-01,  1.05919738e+00,  7.88110556e-01, -9.41249598e-02,\n",
       "        1.03543108e+00, -1.11596639e+00, -1.46537503e-01, -1.96367088e-01,\n",
       "        2.06803344e+00,  9.62525261e-01, -6.22833585e-01,  3.64992357e-01,\n",
       "       -2.96824585e-01, -1.04074661e+00, -8.40034212e-01,  9.05474768e-01,\n",
       "       -3.53056129e-01, -1.65124668e-02, -1.99140908e-01,  1.10153870e+00,\n",
       "        2.20323527e+00,  4.14404070e-01, -2.20957226e+00,  6.92882639e-01,\n",
       "       -7.85035238e-02,  9.49878011e-01,  9.63861054e-01,  2.29125782e-01,\n",
       "        3.39425072e-02, -1.22407691e+00,  1.05287801e+00,  1.67882246e-01,\n",
       "        6.46589536e-01, -4.48061640e-01, -9.11195047e-01,  3.53148827e-01,\n",
       "        2.30701001e+00, -1.41727685e+00,  9.67626625e-01,  1.03776206e+00,\n",
       "       -2.06368749e+00,  5.01846552e-01, -4.71227886e-01,  4.69677038e-01,\n",
       "       -2.65951465e-01, -8.71039658e-01, -8.60068840e-01,  5.06866359e-01,\n",
       "        1.20577193e-01, -8.95498643e-01,  7.24370108e-01,  2.69000623e-01,\n",
       "       -1.43235191e+00,  1.30853183e+00, -3.02749393e-01,  1.89675385e-01,\n",
       "        9.29752843e-01,  1.25640186e+00,  8.40894055e-01,  8.67243371e-01,\n",
       "        3.18415707e-01,  1.46927457e+00, -2.31206122e-01, -1.01442367e+00,\n",
       "        7.92607631e-02, -1.84656330e+00,  3.08980102e-03,  6.37432507e-01,\n",
       "        4.65993777e-01, -7.91730870e-01,  9.86411040e-01, -7.22082974e-02,\n",
       "       -2.45734720e-01,  7.27444951e-02,  1.53575340e+00,  4.19073999e-01,\n",
       "        1.22482946e+00,  5.12944159e-01,  4.55855547e-01,  1.00773467e+00,\n",
       "       -8.74753908e-02,  3.61872697e-01, -4.65439134e-02,  1.63154480e+00,\n",
       "       -1.53987385e+00,  5.19860877e-01, -1.26913378e+00,  1.13481568e+00,\n",
       "       -1.78716181e-02, -4.62044268e-01,  2.20830019e+00, -2.48687220e+00,\n",
       "       -7.14927475e-01,  6.09033480e-01,  1.35861573e-01,  9.46551900e-01,\n",
       "        5.34902988e-01,  1.08277646e+00, -2.71198185e+00, -1.19128007e+00,\n",
       "        5.41550288e-01, -3.06905475e-01,  1.74828611e-01, -2.36316133e+00,\n",
       "        6.35517099e-02, -2.20834187e-02, -2.27292161e+00, -1.47719277e+00,\n",
       "        8.05839310e-01,  1.85388706e+00,  9.68111519e-01,  7.00531680e-01,\n",
       "       -2.25465157e-01,  1.37946157e+00, -5.30187085e-01,  1.59092679e-01,\n",
       "        2.01622031e+00,  1.24888358e+00,  4.43398135e-01,  1.22164566e-01])"
      ]
     },
     "execution_count": 118,
     "metadata": {},
     "output_type": "execute_result"
    }
   ],
   "source": [
    "a[:, 0] # todas a linhas da coluna 0"
   ]
  },
  {
   "cell_type": "code",
   "execution_count": 119,
   "metadata": {},
   "outputs": [
    {
     "data": {
      "text/plain": [
       "array([-5.22028792e-01, -1.20671788e+00,  9.92592192e-01,  5.26291762e-01,\n",
       "        8.68604410e-01,  9.38675469e-01,  1.60844871e-02,  6.21187704e-01,\n",
       "       -2.79918642e-01, -1.00512188e-01, -2.20055191e+00, -1.83061570e-01,\n",
       "       -7.56171220e-01,  9.09522849e-01, -2.68192414e-01,  1.70629856e+00,\n",
       "        2.29884183e-01, -5.98634410e-01, -4.57577152e-01,  3.73228403e-02,\n",
       "       -9.32950105e-01, -2.12006275e+00, -1.55358015e+00,  5.81559654e-01,\n",
       "       -9.93834451e-01, -5.43115674e-01,  2.94765911e-01, -6.72857471e-01,\n",
       "        7.85510571e-01,  1.99539421e-01,  1.05581927e+00, -1.81537916e-01,\n",
       "       -3.21323575e-01, -3.66034196e-01,  1.43755182e+00, -1.83789067e+00,\n",
       "        6.50591491e-01, -2.77972706e-01, -5.93031706e-01, -1.07365008e+00,\n",
       "        8.14304534e-01,  5.67269734e-01, -9.04549956e-01, -4.89432274e-01,\n",
       "       -4.23274656e-01, -6.62591393e-01,  1.15552531e-02,  4.77601547e-01,\n",
       "       -2.58914318e-01,  1.26046137e+00, -7.29041199e-01, -1.23918664e+00,\n",
       "        2.64809348e-01, -2.06191609e+00, -1.20207398e+00, -3.34385118e-01,\n",
       "        2.95534788e+00, -1.70859642e+00,  2.38772888e-01, -9.82590369e-01,\n",
       "        1.53337486e+00, -6.37803826e-02,  1.61187895e+00, -6.82000149e-01,\n",
       "       -6.29918620e-01, -1.31160875e+00, -3.52410898e-01,  4.47181087e-01,\n",
       "       -5.47405794e-02, -1.06158660e+00,  6.60516656e-01, -3.85994329e-01,\n",
       "        1.58620251e+00, -4.34072735e-01,  1.65973272e-01, -1.04620744e+00,\n",
       "        1.17426948e-01,  1.47972530e+00,  2.85280640e-01,  2.78380286e-01,\n",
       "       -8.00497581e-01,  3.28532624e-01,  4.63300412e-01,  1.16391375e+00,\n",
       "       -1.72219804e-02, -8.93171823e-01,  2.69919284e-01,  5.01093823e-01,\n",
       "        1.32460893e+00, -4.06733646e-01,  1.18114062e+00, -1.78430638e-01,\n",
       "       -1.37744063e+00, -9.43167177e-01, -1.92557176e-01, -1.12322318e+00,\n",
       "        1.67171841e+00,  1.15952108e-01, -4.25717786e-01,  1.55373296e-02,\n",
       "        2.71127773e-01, -1.40655838e-02, -7.07520686e-01, -5.53899333e-01,\n",
       "        6.95810053e-01,  3.98760501e+00, -7.39663306e-01,  1.67542625e+00,\n",
       "        4.41394768e-01, -4.16227412e-01, -2.68705924e-01,  1.08088545e+00,\n",
       "       -3.03019866e-02, -1.95667092e-01, -7.40911416e-02,  1.16358705e+00,\n",
       "        9.01882106e-01,  2.14600902e+00, -1.61016546e+00, -1.06001825e+00,\n",
       "        6.55729049e-01,  6.81578139e-01,  6.80384799e-01,  3.80721065e-01,\n",
       "        1.22401742e+00,  1.51936072e-02,  1.12932640e+00, -1.23101309e+00,\n",
       "       -4.05491714e-01,  4.44577062e-01,  6.10385851e-01,  5.48812878e-02,\n",
       "        4.93181827e-01, -3.58707086e-01,  7.37606948e-01, -1.85034956e+00,\n",
       "        9.94023264e-01, -5.27617490e-01,  3.58192992e-01, -1.11280963e+00,\n",
       "       -2.00328608e-01,  7.52188068e-02, -4.14946659e-01, -1.13312392e-01,\n",
       "       -8.01675607e-01,  8.49432058e-01,  4.13802539e-01, -3.35491323e-02,\n",
       "       -3.60097026e-01, -1.89377619e+00, -6.21317347e-01,  1.24509794e+00,\n",
       "        7.08486972e-01,  1.11430399e+00, -1.36357234e+00,  1.69296370e+00,\n",
       "       -6.99301828e-01,  4.62237748e-02,  2.27489920e-01,  1.16472286e+00,\n",
       "       -8.01910038e-02,  1.24131266e+00,  2.92966662e-01, -5.48673030e-01,\n",
       "       -3.99630752e-01, -7.25461974e-01,  6.65223908e-01, -6.81595748e-01,\n",
       "       -1.57843742e-01, -1.83996881e+00,  6.90966298e-01,  1.51009446e-01,\n",
       "        1.95659425e+00, -3.02799855e+00,  3.50538275e-01, -4.92297917e-01,\n",
       "       -6.48148648e-01,  1.07747791e+00,  1.24854020e-01, -7.57438897e-01,\n",
       "       -1.52292163e+00,  5.19208332e-01, -6.00624676e-01, -4.04304978e-01,\n",
       "       -1.98837947e+00,  5.94732412e-01,  1.06914938e+00,  1.06157771e+00,\n",
       "       -9.50143623e-01,  4.91368953e-01,  3.91711805e-01,  8.34177684e-01,\n",
       "        1.96907302e+00, -3.28177107e-01, -1.22481825e-02, -2.06621161e-01,\n",
       "        4.28418192e-01, -3.44254376e-01,  5.77519237e-01,  3.90806502e-01,\n",
       "        4.89701611e-01, -1.65389505e-01,  8.58299262e-02, -1.29631952e-01,\n",
       "        4.16654295e-01, -8.91000252e-01,  3.59716614e-01,  1.69261623e+00,\n",
       "        4.19319319e-02, -8.62320642e-01, -1.56441736e-01, -2.90246322e-01,\n",
       "        2.14579108e-01,  4.85048970e-02,  1.24458127e+00, -4.37005052e-01,\n",
       "       -1.18058380e+00,  5.89513100e-01,  8.47694867e-01,  1.42632818e-01,\n",
       "       -1.73351844e+00,  1.41873156e+00,  2.49780613e-01, -9.41007299e-01,\n",
       "       -7.24359689e-01,  1.40688984e+00, -7.44734618e-01, -1.67466809e-01,\n",
       "       -3.64778576e-01, -1.08179983e+00, -1.14169857e+00, -9.83198316e-01,\n",
       "        8.00170606e-01,  5.97581046e-01,  9.84563126e-01, -1.65570318e-01,\n",
       "        8.97612700e-01,  4.81418674e-01,  5.10577062e-02,  5.84608311e-01,\n",
       "       -1.34023208e+00,  3.66069152e-01, -7.36038026e-01, -4.48747768e-02,\n",
       "       -4.57905075e-01,  1.45700562e+00,  2.69258773e-01,  4.03419866e-01,\n",
       "        3.95669766e-01, -1.50266279e+00,  7.50238330e-01, -1.35678341e+00,\n",
       "       -1.38592801e+00, -3.23541173e-01, -9.75390666e-01,  1.40143283e+00,\n",
       "        3.91504699e-01, -4.57826795e-01, -4.35880418e-01,  3.68978143e-01,\n",
       "        2.33046381e-01, -1.02101110e+00,  5.92321255e-01,  3.21187296e-03,\n",
       "        1.81091243e-01,  2.16226851e-01,  3.59997679e-01,  4.15766824e-01,\n",
       "        1.41581106e+00,  3.41219236e-01, -1.28535092e+00, -9.81611491e-01,\n",
       "       -1.08061242e+00,  1.58231454e+00,  1.78642867e+00, -9.11324786e-01,\n",
       "        7.11104899e-01,  2.66090260e-01, -1.72041549e-01, -1.92668720e+00,\n",
       "       -5.60217011e-01,  1.05919738e+00,  7.88110556e-01, -9.41249598e-02,\n",
       "        1.03543108e+00, -1.11596639e+00, -1.46537503e-01, -1.96367088e-01,\n",
       "        2.06803344e+00,  9.62525261e-01, -6.22833585e-01,  3.64992357e-01,\n",
       "       -2.96824585e-01, -1.04074661e+00, -8.40034212e-01,  9.05474768e-01,\n",
       "       -3.53056129e-01, -1.65124668e-02, -1.99140908e-01,  1.10153870e+00,\n",
       "        2.20323527e+00,  4.14404070e-01, -2.20957226e+00,  6.92882639e-01,\n",
       "       -7.85035238e-02,  9.49878011e-01,  9.63861054e-01,  2.29125782e-01,\n",
       "        3.39425072e-02, -1.22407691e+00,  1.05287801e+00,  1.67882246e-01,\n",
       "        6.46589536e-01, -4.48061640e-01, -9.11195047e-01,  3.53148827e-01,\n",
       "        2.30701001e+00, -1.41727685e+00,  9.67626625e-01,  1.03776206e+00,\n",
       "       -2.06368749e+00,  5.01846552e-01, -4.71227886e-01,  4.69677038e-01,\n",
       "       -2.65951465e-01, -8.71039658e-01, -8.60068840e-01,  5.06866359e-01,\n",
       "        1.20577193e-01, -8.95498643e-01,  7.24370108e-01,  2.69000623e-01,\n",
       "       -1.43235191e+00,  1.30853183e+00, -3.02749393e-01,  1.89675385e-01,\n",
       "        9.29752843e-01,  1.25640186e+00,  8.40894055e-01,  8.67243371e-01,\n",
       "        3.18415707e-01,  1.46927457e+00, -2.31206122e-01, -1.01442367e+00,\n",
       "        7.92607631e-02, -1.84656330e+00,  3.08980102e-03,  6.37432507e-01,\n",
       "        4.65993777e-01, -7.91730870e-01,  9.86411040e-01, -7.22082974e-02,\n",
       "       -2.45734720e-01,  7.27444951e-02,  1.53575340e+00,  4.19073999e-01,\n",
       "        1.22482946e+00,  5.12944159e-01,  4.55855547e-01,  1.00773467e+00,\n",
       "       -8.74753908e-02,  3.61872697e-01, -4.65439134e-02,  1.63154480e+00,\n",
       "       -1.53987385e+00,  5.19860877e-01, -1.26913378e+00,  1.13481568e+00,\n",
       "       -1.78716181e-02, -4.62044268e-01,  2.20830019e+00, -2.48687220e+00,\n",
       "       -7.14927475e-01,  6.09033480e-01,  1.35861573e-01,  9.46551900e-01,\n",
       "        5.34902988e-01,  1.08277646e+00, -2.71198185e+00, -1.19128007e+00,\n",
       "        5.41550288e-01, -3.06905475e-01,  1.74828611e-01, -2.36316133e+00,\n",
       "        6.35517099e-02, -2.20834187e-02, -2.27292161e+00, -1.47719277e+00,\n",
       "        8.05839310e-01,  1.85388706e+00,  9.68111519e-01,  7.00531680e-01,\n",
       "       -2.25465157e-01,  1.37946157e+00, -5.30187085e-01,  1.59092679e-01,\n",
       "        2.01622031e+00,  1.24888358e+00,  4.43398135e-01,  1.22164566e-01])"
      ]
     },
     "execution_count": 119,
     "metadata": {},
     "output_type": "execute_result"
    }
   ],
   "source": [
    "a[0:400, 0] # todas a linhas da coluna 0"
   ]
  },
  {
   "cell_type": "code",
   "execution_count": 120,
   "metadata": {},
   "outputs": [
    {
     "data": {
      "text/plain": [
       "(400, 2)"
      ]
     },
     "execution_count": 120,
     "metadata": {},
     "output_type": "execute_result"
    }
   ],
   "source": [
    "a.shape"
   ]
  },
  {
   "cell_type": "code",
   "execution_count": 121,
   "metadata": {},
   "outputs": [
    {
     "data": {
      "text/plain": [
       "400"
      ]
     },
     "execution_count": 121,
     "metadata": {},
     "output_type": "execute_result"
    }
   ],
   "source": [
    "linhas = a.shape[0]\n",
    "linhas"
   ]
  },
  {
   "cell_type": "code",
   "execution_count": 122,
   "metadata": {},
   "outputs": [
    {
     "data": {
      "text/plain": [
       "2"
      ]
     },
     "execution_count": 122,
     "metadata": {},
     "output_type": "execute_result"
    }
   ],
   "source": [
    "colunas = a.shape[1]\n",
    "colunas"
   ]
  },
  {
   "cell_type": "code",
   "execution_count": 123,
   "metadata": {},
   "outputs": [
    {
     "data": {
      "image/png": "[encoded data removed]",
      "text/plain": [
       "<Figure size 432x288 with 1 Axes>"
      ]
     },
     "metadata": {
      "needs_background": "light"
     },
     "output_type": "display_data"
    }
   ],
   "source": [
    "import matplotlib.pyplot as plt\n",
    "\n",
    "plt.plot(a[:,0], a[:,1], 'o', markersize=8, alpha=0.75)\n",
    "plt.show()"
   ]
  },
  {
   "cell_type": "code",
   "execution_count": 124,
   "metadata": {},
   "outputs": [
    {
     "data": {
      "text/plain": [
       "0.043372793019926706"
      ]
     },
     "execution_count": 124,
     "metadata": {},
     "output_type": "execute_result"
    }
   ],
   "source": [
    "media0 = np.mean(a[:,0])\n",
    "media0"
   ]
  },
  {
   "cell_type": "code",
   "execution_count": 125,
   "metadata": {},
   "outputs": [
    {
     "data": {
      "text/plain": [
       "0.0190906526673047"
      ]
     },
     "execution_count": 125,
     "metadata": {},
     "output_type": "execute_result"
    }
   ],
   "source": [
    "media1 = np.mean(a[:,1])\n",
    "media1"
   ]
  },
  {
   "cell_type": "code",
   "execution_count": 126,
   "metadata": {},
   "outputs": [
    {
     "data": {
      "image/png": "[encoded data removed]",
      "text/plain": [
       "<Figure size 432x288 with 1 Axes>"
      ]
     },
     "metadata": {
      "needs_background": "light"
     },
     "output_type": "display_data"
    }
   ],
   "source": [
    "plt.plot(a[:,0], a[:,1], 'o', markersize=8, alpha=0.75)\n",
    "plt.plot(media0, media1, 'ro', markersize=10)\n",
    "plt.show()"
   ]
  },
  {
   "cell_type": "code",
   "execution_count": 127,
   "metadata": {},
   "outputs": [
    {
     "data": {
      "image/png": "[encoded data removed]",
      "text/plain": [
       "<Figure size 432x288 with 1 Axes>"
      ]
     },
     "metadata": {
      "needs_background": "light"
     },
     "output_type": "display_data"
    }
   ],
   "source": [
    "plt.show(plt.hist(a[:,0]))"
   ]
  },
  {
   "cell_type": "code",
   "execution_count": 128,
   "metadata": {},
   "outputs": [
    {
     "data": {
      "image/png": "[encoded data removed]",
      "text/plain": [
       "<Figure size 432x288 with 1 Axes>"
      ]
     },
     "metadata": {
      "needs_background": "light"
     },
     "output_type": "display_data"
    }
   ],
   "source": [
    "plt.show(plt.hist(a[:,1]))"
   ]
  },
  {
   "cell_type": "code",
   "execution_count": 129,
   "metadata": {},
   "outputs": [
    {
     "data": {
      "text/plain": [
       "(400,)"
      ]
     },
     "execution_count": 129,
     "metadata": {},
     "output_type": "execute_result"
    }
   ],
   "source": [
    "m0 = a[:, 0]\n",
    "m0.shape"
   ]
  },
  {
   "cell_type": "code",
   "execution_count": 130,
   "metadata": {},
   "outputs": [
    {
     "data": {
      "text/plain": [
       "array([-5.22028792e-01, -1.20671788e+00,  9.92592192e-01,  5.26291762e-01,\n",
       "        8.68604410e-01,  9.38675469e-01,  1.60844871e-02,  6.21187704e-01,\n",
       "       -2.79918642e-01, -1.00512188e-01, -2.20055191e+00, -1.83061570e-01,\n",
       "       -7.56171220e-01,  9.09522849e-01, -2.68192414e-01,  1.70629856e+00,\n",
       "        2.29884183e-01, -5.98634410e-01, -4.57577152e-01,  3.73228403e-02,\n",
       "       -9.32950105e-01, -2.12006275e+00, -1.55358015e+00,  5.81559654e-01,\n",
       "       -9.93834451e-01, -5.43115674e-01,  2.94765911e-01, -6.72857471e-01,\n",
       "        7.85510571e-01,  1.99539421e-01,  1.05581927e+00, -1.81537916e-01,\n",
       "       -3.21323575e-01, -3.66034196e-01,  1.43755182e+00, -1.83789067e+00,\n",
       "        6.50591491e-01, -2.77972706e-01, -5.93031706e-01, -1.07365008e+00,\n",
       "        8.14304534e-01,  5.67269734e-01, -9.04549956e-01, -4.89432274e-01,\n",
       "       -4.23274656e-01, -6.62591393e-01,  1.15552531e-02,  4.77601547e-01,\n",
       "       -2.58914318e-01,  1.26046137e+00, -7.29041199e-01, -1.23918664e+00,\n",
       "        2.64809348e-01, -2.06191609e+00, -1.20207398e+00, -3.34385118e-01,\n",
       "        2.95534788e+00, -1.70859642e+00,  2.38772888e-01, -9.82590369e-01,\n",
       "        1.53337486e+00, -6.37803826e-02,  1.61187895e+00, -6.82000149e-01,\n",
       "       -6.29918620e-01, -1.31160875e+00, -3.52410898e-01,  4.47181087e-01,\n",
       "       -5.47405794e-02, -1.06158660e+00,  6.60516656e-01, -3.85994329e-01,\n",
       "        1.58620251e+00, -4.34072735e-01,  1.65973272e-01, -1.04620744e+00,\n",
       "        1.17426948e-01,  1.47972530e+00,  2.85280640e-01,  2.78380286e-01,\n",
       "       -8.00497581e-01,  3.28532624e-01,  4.63300412e-01,  1.16391375e+00,\n",
       "       -1.72219804e-02, -8.93171823e-01,  2.69919284e-01,  5.01093823e-01,\n",
       "        1.32460893e+00, -4.06733646e-01,  1.18114062e+00, -1.78430638e-01,\n",
       "       -1.37744063e+00, -9.43167177e-01, -1.92557176e-01, -1.12322318e+00,\n",
       "        1.67171841e+00,  1.15952108e-01, -4.25717786e-01,  1.55373296e-02,\n",
       "        2.71127773e-01, -1.40655838e-02, -7.07520686e-01, -5.53899333e-01,\n",
       "        6.95810053e-01,  3.98760501e+00, -7.39663306e-01,  1.67542625e+00,\n",
       "        4.41394768e-01, -4.16227412e-01, -2.68705924e-01,  1.08088545e+00,\n",
       "       -3.03019866e-02, -1.95667092e-01, -7.40911416e-02,  1.16358705e+00,\n",
       "        9.01882106e-01,  2.14600902e+00, -1.61016546e+00, -1.06001825e+00,\n",
       "        6.55729049e-01,  6.81578139e-01,  6.80384799e-01,  3.80721065e-01,\n",
       "        1.22401742e+00,  1.51936072e-02,  1.12932640e+00, -1.23101309e+00,\n",
       "       -4.05491714e-01,  4.44577062e-01,  6.10385851e-01,  5.48812878e-02,\n",
       "        4.93181827e-01, -3.58707086e-01,  7.37606948e-01, -1.85034956e+00,\n",
       "        9.94023264e-01, -5.27617490e-01,  3.58192992e-01, -1.11280963e+00,\n",
       "       -2.00328608e-01,  7.52188068e-02, -4.14946659e-01, -1.13312392e-01,\n",
       "       -8.01675607e-01,  8.49432058e-01,  4.13802539e-01, -3.35491323e-02,\n",
       "       -3.60097026e-01, -1.89377619e+00, -6.21317347e-01,  1.24509794e+00,\n",
       "        7.08486972e-01,  1.11430399e+00, -1.36357234e+00,  1.69296370e+00,\n",
       "       -6.99301828e-01,  4.62237748e-02,  2.27489920e-01,  1.16472286e+00,\n",
       "       -8.01910038e-02,  1.24131266e+00,  2.92966662e-01, -5.48673030e-01,\n",
       "       -3.99630752e-01, -7.25461974e-01,  6.65223908e-01, -6.81595748e-01,\n",
       "       -1.57843742e-01, -1.83996881e+00,  6.90966298e-01,  1.51009446e-01,\n",
       "        1.95659425e+00, -3.02799855e+00,  3.50538275e-01, -4.92297917e-01,\n",
       "       -6.48148648e-01,  1.07747791e+00,  1.24854020e-01, -7.57438897e-01,\n",
       "       -1.52292163e+00,  5.19208332e-01, -6.00624676e-01, -4.04304978e-01,\n",
       "       -1.98837947e+00,  5.94732412e-01,  1.06914938e+00,  1.06157771e+00,\n",
       "       -9.50143623e-01,  4.91368953e-01,  3.91711805e-01,  8.34177684e-01,\n",
       "        1.96907302e+00, -3.28177107e-01, -1.22481825e-02, -2.06621161e-01,\n",
       "        4.28418192e-01, -3.44254376e-01,  5.77519237e-01,  3.90806502e-01,\n",
       "        4.89701611e-01, -1.65389505e-01,  8.58299262e-02, -1.29631952e-01,\n",
       "        4.16654295e-01, -8.91000252e-01,  3.59716614e-01,  1.69261623e+00,\n",
       "        4.19319319e-02, -8.62320642e-01, -1.56441736e-01, -2.90246322e-01,\n",
       "        2.14579108e-01,  4.85048970e-02,  1.24458127e+00, -4.37005052e-01,\n",
       "       -1.18058380e+00,  5.89513100e-01,  8.47694867e-01,  1.42632818e-01,\n",
       "       -1.73351844e+00,  1.41873156e+00,  2.49780613e-01, -9.41007299e-01,\n",
       "       -7.24359689e-01,  1.40688984e+00, -7.44734618e-01, -1.67466809e-01,\n",
       "       -3.64778576e-01, -1.08179983e+00, -1.14169857e+00, -9.83198316e-01,\n",
       "        8.00170606e-01,  5.97581046e-01,  9.84563126e-01, -1.65570318e-01,\n",
       "        8.97612700e-01,  4.81418674e-01,  5.10577062e-02,  5.84608311e-01,\n",
       "       -1.34023208e+00,  3.66069152e-01, -7.36038026e-01, -4.48747768e-02,\n",
       "       -4.57905075e-01,  1.45700562e+00,  2.69258773e-01,  4.03419866e-01,\n",
       "        3.95669766e-01, -1.50266279e+00,  7.50238330e-01, -1.35678341e+00,\n",
       "       -1.38592801e+00, -3.23541173e-01, -9.75390666e-01,  1.40143283e+00,\n",
       "        3.91504699e-01, -4.57826795e-01, -4.35880418e-01,  3.68978143e-01,\n",
       "        2.33046381e-01, -1.02101110e+00,  5.92321255e-01,  3.21187296e-03,\n",
       "        1.81091243e-01,  2.16226851e-01,  3.59997679e-01,  4.15766824e-01,\n",
       "        1.41581106e+00,  3.41219236e-01, -1.28535092e+00, -9.81611491e-01,\n",
       "       -1.08061242e+00,  1.58231454e+00,  1.78642867e+00, -9.11324786e-01,\n",
       "        7.11104899e-01,  2.66090260e-01, -1.72041549e-01, -1.92668720e+00,\n",
       "       -5.60217011e-01,  1.05919738e+00,  7.88110556e-01, -9.41249598e-02,\n",
       "        1.03543108e+00, -1.11596639e+00, -1.46537503e-01, -1.96367088e-01,\n",
       "        2.06803344e+00,  9.62525261e-01, -6.22833585e-01,  3.64992357e-01,\n",
       "       -2.96824585e-01, -1.04074661e+00, -8.40034212e-01,  9.05474768e-01,\n",
       "       -3.53056129e-01, -1.65124668e-02, -1.99140908e-01,  1.10153870e+00,\n",
       "        2.20323527e+00,  4.14404070e-01, -2.20957226e+00,  6.92882639e-01,\n",
       "       -7.85035238e-02,  9.49878011e-01,  9.63861054e-01,  2.29125782e-01,\n",
       "        3.39425072e-02, -1.22407691e+00,  1.05287801e+00,  1.67882246e-01,\n",
       "        6.46589536e-01, -4.48061640e-01, -9.11195047e-01,  3.53148827e-01,\n",
       "        2.30701001e+00, -1.41727685e+00,  9.67626625e-01,  1.03776206e+00,\n",
       "       -2.06368749e+00,  5.01846552e-01, -4.71227886e-01,  4.69677038e-01,\n",
       "       -2.65951465e-01, -8.71039658e-01, -8.60068840e-01,  5.06866359e-01,\n",
       "        1.20577193e-01, -8.95498643e-01,  7.24370108e-01,  2.69000623e-01,\n",
       "       -1.43235191e+00,  1.30853183e+00, -3.02749393e-01,  1.89675385e-01,\n",
       "        9.29752843e-01,  1.25640186e+00,  8.40894055e-01,  8.67243371e-01,\n",
       "        3.18415707e-01,  1.46927457e+00, -2.31206122e-01, -1.01442367e+00,\n",
       "        7.92607631e-02, -1.84656330e+00,  3.08980102e-03,  6.37432507e-01,\n",
       "        4.65993777e-01, -7.91730870e-01,  9.86411040e-01, -7.22082974e-02,\n",
       "       -2.45734720e-01,  7.27444951e-02,  1.53575340e+00,  4.19073999e-01,\n",
       "        1.22482946e+00,  5.12944159e-01,  4.55855547e-01,  1.00773467e+00,\n",
       "       -8.74753908e-02,  3.61872697e-01, -4.65439134e-02,  1.63154480e+00,\n",
       "       -1.53987385e+00,  5.19860877e-01, -1.26913378e+00,  1.13481568e+00,\n",
       "       -1.78716181e-02, -4.62044268e-01,  2.20830019e+00, -2.48687220e+00,\n",
       "       -7.14927475e-01,  6.09033480e-01,  1.35861573e-01,  9.46551900e-01,\n",
       "        5.34902988e-01,  1.08277646e+00, -2.71198185e+00, -1.19128007e+00,\n",
       "        5.41550288e-01, -3.06905475e-01,  1.74828611e-01, -2.36316133e+00,\n",
       "        6.35517099e-02, -2.20834187e-02, -2.27292161e+00, -1.47719277e+00,\n",
       "        8.05839310e-01,  1.85388706e+00,  9.68111519e-01,  7.00531680e-01,\n",
       "       -2.25465157e-01,  1.37946157e+00, -5.30187085e-01,  1.59092679e-01,\n",
       "        2.01622031e+00,  1.24888358e+00,  4.43398135e-01,  1.22164566e-01])"
      ]
     },
     "execution_count": 130,
     "metadata": {},
     "output_type": "execute_result"
    }
   ],
   "source": [
    "m0"
   ]
  },
  {
   "cell_type": "code",
   "execution_count": 131,
   "metadata": {},
   "outputs": [
    {
     "data": {
      "text/plain": [
       "array([-0.52202879, -1.20671788,  0.99259219,  0.52629176,  0.86860441,\n",
       "        0.93867547,  0.01608449,  0.6211877 , -0.27991864, -0.10051219])"
      ]
     },
     "execution_count": 131,
     "metadata": {},
     "output_type": "execute_result"
    }
   ],
   "source": [
    "m0[:10]"
   ]
  },
  {
   "cell_type": "code",
   "execution_count": 132,
   "metadata": {},
   "outputs": [
    {
     "data": {
      "text/plain": [
       "array([ 0.96811152,  0.70053168, -0.22546516,  1.37946157, -0.53018709,\n",
       "        0.15909268,  2.01622031,  1.24888358,  0.44339814,  0.12216457])"
      ]
     },
     "execution_count": 132,
     "metadata": {},
     "output_type": "execute_result"
    }
   ],
   "source": [
    "m0[-10:]"
   ]
  },
  {
   "cell_type": "code",
   "execution_count": 133,
   "metadata": {},
   "outputs": [
    {
     "data": {
      "text/plain": [
       "-3.0279985504829363"
      ]
     },
     "execution_count": 133,
     "metadata": {},
     "output_type": "execute_result"
    }
   ],
   "source": [
    "m0.min()"
   ]
  },
  {
   "cell_type": "code",
   "execution_count": 134,
   "metadata": {},
   "outputs": [
    {
     "data": {
      "text/plain": [
       "3.9876050067943614"
      ]
     },
     "execution_count": 134,
     "metadata": {},
     "output_type": "execute_result"
    }
   ],
   "source": [
    "m0.max()"
   ]
  },
  {
   "cell_type": "code",
   "execution_count": 135,
   "metadata": {},
   "outputs": [
    {
     "data": {
      "text/plain": [
       "0.043372793019926706"
      ]
     },
     "execution_count": 135,
     "metadata": {},
     "output_type": "execute_result"
    }
   ],
   "source": [
    "m0.mean()"
   ]
  },
  {
   "cell_type": "code",
   "execution_count": 137,
   "metadata": {},
   "outputs": [
    {
     "data": {
      "text/plain": [
       "array([ 0.14524319,  0.10273714, -0.06388456])"
      ]
     },
     "execution_count": 137,
     "metadata": {},
     "output_type": "execute_result"
    }
   ],
   "source": [
    "np.array([ 1.45243195,  1.0273714 , -0.63884557]) / 10"
   ]
  },
  {
   "cell_type": "code",
   "execution_count": 138,
   "metadata": {},
   "outputs": [
    {
     "data": {
      "text/plain": [
       "array([ 1.,  1., -1.])"
      ]
     },
     "execution_count": 138,
     "metadata": {},
     "output_type": "execute_result"
    }
   ],
   "source": [
    "np.around([ 1.45243195,  1.0273714 , -0.63884557])"
   ]
  },
  {
   "cell_type": "code",
   "execution_count": 139,
   "metadata": {},
   "outputs": [
    {
     "data": {
      "text/plain": [
       "array([ 1.45243195,  1.0273714 , -0.63884557])"
      ]
     },
     "execution_count": 139,
     "metadata": {},
     "output_type": "execute_result"
    }
   ],
   "source": [
    "c = np.array([ 1.45243195,  1.0273714 , -0.63884557])\n",
    "c"
   ]
  },
  {
   "cell_type": "code",
   "execution_count": 140,
   "metadata": {},
   "outputs": [
    {
     "data": {
      "text/plain": [
       "array([ 1.45243195,  1.0273714 , -0.63884557])"
      ]
     },
     "execution_count": 140,
     "metadata": {},
     "output_type": "execute_result"
    }
   ],
   "source": [
    "d = c.flatten()\n",
    "d"
   ]
  },
  {
   "cell_type": "code",
   "execution_count": 141,
   "metadata": {},
   "outputs": [
    {
     "data": {
      "text/plain": [
       "array([5, 6])"
      ]
     },
     "execution_count": 141,
     "metadata": {},
     "output_type": "execute_result"
    }
   ],
   "source": [
    "w = np.array([5,6])\n",
    "w"
   ]
  },
  {
   "cell_type": "code",
   "execution_count": 142,
   "metadata": {},
   "outputs": [
    {
     "data": {
      "text/plain": [
       "array([1, 2, 3, 4])"
      ]
     },
     "execution_count": 142,
     "metadata": {},
     "output_type": "execute_result"
    }
   ],
   "source": [
    "v = np.array([1,2,3,4])\n",
    "v"
   ]
  },
  {
   "cell_type": "code",
   "execution_count": 143,
   "metadata": {},
   "outputs": [
    {
     "data": {
      "text/plain": [
       "array([1, 2, 3, 4, 5, 6])"
      ]
     },
     "execution_count": 143,
     "metadata": {},
     "output_type": "execute_result"
    }
   ],
   "source": [
    "z = np.concatenate((v,w), axis=0)\n",
    "z"
   ]
  },
  {
   "cell_type": "code",
   "execution_count": 144,
   "metadata": {},
   "outputs": [
    {
     "data": {
      "text/plain": [
       "array([0, 1, 2, 3, 4, 5, 6, 7, 8])"
      ]
     },
     "execution_count": 144,
     "metadata": {},
     "output_type": "execute_result"
    }
   ],
   "source": [
    "# Reshape\n",
    "a = np.arange(9)\n",
    "a"
   ]
  },
  {
   "cell_type": "code",
   "execution_count": 145,
   "metadata": {},
   "outputs": [
    {
     "data": {
      "text/plain": [
       "array([[0, 1, 2],\n",
       "       [3, 4, 5],\n",
       "       [6, 7, 8]])"
      ]
     },
     "execution_count": 145,
     "metadata": {},
     "output_type": "execute_result"
    }
   ],
   "source": [
    "a2d = a.reshape(3,3)\n",
    "a2d"
   ]
  },
  {
   "cell_type": "code",
   "execution_count": 146,
   "metadata": {},
   "outputs": [
    {
     "data": {
      "text/plain": [
       "array([0, 1, 2, 3, 4, 5, 6, 7, 8, 9])"
      ]
     },
     "execution_count": 146,
     "metadata": {},
     "output_type": "execute_result"
    }
   ],
   "source": [
    "a = np.arange(10)\n",
    "a"
   ]
  },
  {
   "cell_type": "code",
   "execution_count": 147,
   "metadata": {},
   "outputs": [
    {
     "data": {
      "text/plain": [
       "array([[0, 1],\n",
       "       [2, 3],\n",
       "       [4, 5],\n",
       "       [6, 7],\n",
       "       [8, 9]])"
      ]
     },
     "execution_count": 147,
     "metadata": {},
     "output_type": "execute_result"
    }
   ],
   "source": [
    "a2d = a.reshape(5,2)\n",
    "a2d"
   ]
  },
  {
   "cell_type": "code",
   "execution_count": 148,
   "metadata": {},
   "outputs": [
    {
     "data": {
      "text/plain": [
       "array([[0, 1, 2, 3, 4],\n",
       "       [5, 6, 7, 8, 9]])"
      ]
     },
     "execution_count": 148,
     "metadata": {},
     "output_type": "execute_result"
    }
   ],
   "source": [
    "a2d = a.reshape(2,5)\n",
    "a2d"
   ]
  },
  {
   "cell_type": "code",
   "execution_count": 149,
   "metadata": {},
   "outputs": [
    {
     "data": {
      "text/plain": [
       "(2, 5)"
      ]
     },
     "execution_count": 149,
     "metadata": {},
     "output_type": "execute_result"
    }
   ],
   "source": [
    "a2d.shape"
   ]
  },
  {
   "cell_type": "code",
   "execution_count": null,
   "metadata": {},
   "outputs": [],
   "source": []
  }
 ],
 "metadata": {
  "kernelspec": {
   "display_name": "Python 3 (ipykernel)",
   "language": "python",
   "name": "python3"
  },
  "language_info": {
   "codemirror_mode": {
    "name": "ipython",
    "version": 3
   },
   "file_extension": ".py",
   "mimetype": "text/x-python",
   "name": "python",
   "nbconvert_exporter": "python",
   "pygments_lexer": "ipython3",
   "version": "3.9.12"
  }
 },
 "nbformat": 4,
 "nbformat_minor": 4
}
