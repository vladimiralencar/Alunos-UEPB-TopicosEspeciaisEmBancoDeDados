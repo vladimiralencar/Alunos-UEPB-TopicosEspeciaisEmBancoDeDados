{
 "cells": [
  {
   "cell_type": "markdown",
   "id": "e6e5a5c3",
   "metadata": {},
   "source": [
    "## Trabalhando com Big Data - 25 Milhões de Registros\n",
    "fonte: https://grouplens.org/datasets/movielens/"
   ]
  },
  {
   "cell_type": "code",
   "execution_count": 1,
   "id": "0c79152a",
   "metadata": {
    "scrolled": true
   },
   "outputs": [],
   "source": [
    "import pandas as pd"
   ]
  },
  {
   "cell_type": "code",
   "execution_count": 2,
   "id": "cbbb0840",
   "metadata": {
    "scrolled": true
   },
   "outputs": [
    {
     "name": "stderr",
     "output_type": "stream",
     "text": [
      "'pwd' nÆo ‚ reconhecido como um comando interno\n",
      "ou externo, um programa oper vel ou um arquivo em lotes.\n"
     ]
    }
   ],
   "source": [
    "!pwd"
   ]
  },
  {
   "cell_type": "code",
   "execution_count": 3,
   "id": "04c8e76d",
   "metadata": {
    "scrolled": true
   },
   "outputs": [
    {
     "name": "stderr",
     "output_type": "stream",
     "text": [
      "'ls' nÆo ‚ reconhecido como um comando interno\n",
      "ou externo, um programa oper vel ou um arquivo em lotes.\n"
     ]
    }
   ],
   "source": [
    "!ls -ilah /Users/valencar/Dropbox/AULAS-REMOTAS/BD-ESTATISTICA-MANHA/datasets/ml-20m"
   ]
  },
  {
   "cell_type": "code",
   "execution_count": 4,
   "id": "e66d80bb",
   "metadata": {
    "scrolled": true
   },
   "outputs": [
    {
     "name": "stderr",
     "output_type": "stream",
     "text": [
      "'head' nÆo ‚ reconhecido como um comando interno\n",
      "ou externo, um programa oper vel ou um arquivo em lotes.\n"
     ]
    }
   ],
   "source": [
    "!head /Users/valencar/Dropbox/AULAS-REMOTAS/BD-ESTATISTICA-MANHA/datasets/ml-20m/movies.csv"
   ]
  },
  {
   "cell_type": "code",
   "execution_count": 5,
   "id": "55781c80",
   "metadata": {
    "scrolled": true
   },
   "outputs": [
    {
     "data": {
      "text/plain": [
       "'/Users/valencar/Dropbox/AULAS-REMOTAS/BD-ESTATISTICA-MANHA/datasets/ml-20m/ratings.csv'"
      ]
     },
     "execution_count": 5,
     "metadata": {},
     "output_type": "execute_result"
    }
   ],
   "source": [
    "url = '/Users/valencar/Dropbox/AULAS-REMOTAS/BD-ESTATISTICA-MANHA/datasets/ml-20m' + '/' + 'ratings.csv'\n",
    "url"
   ]
  },
  {
   "cell_type": "code",
   "execution_count": 6,
   "id": "ea665d6f",
   "metadata": {
    "scrolled": true
   },
   "outputs": [
    {
     "name": "stdout",
     "output_type": "stream",
     "text": [
      "Wall time: 0 ns\n"
     ]
    },
    {
     "ename": "FileNotFoundError",
     "evalue": "[Errno 2] No such file or directory: '/Users/valencar/Dropbox/AULAS-REMOTAS/BD-ESTATISTICA-MANHA/datasets/ml-20m/ratings.csv'",
     "output_type": "error",
     "traceback": [
      "\u001b[1;31m---------------------------------------------------------------------------\u001b[0m",
      "\u001b[1;31mFileNotFoundError\u001b[0m                         Traceback (most recent call last)",
      "\u001b[1;32m~\\AppData\\Local\\Temp/ipykernel_7824/1089356100.py\u001b[0m in \u001b[0;36m<module>\u001b[1;34m\u001b[0m\n\u001b[0;32m      1\u001b[0m \u001b[0mget_ipython\u001b[0m\u001b[1;33m(\u001b[0m\u001b[1;33m)\u001b[0m\u001b[1;33m.\u001b[0m\u001b[0mrun_line_magic\u001b[0m\u001b[1;33m(\u001b[0m\u001b[1;34m'time'\u001b[0m\u001b[1;33m,\u001b[0m \u001b[1;34m''\u001b[0m\u001b[1;33m)\u001b[0m\u001b[1;33m\u001b[0m\u001b[1;33m\u001b[0m\u001b[0m\n\u001b[0;32m      2\u001b[0m \u001b[1;33m\u001b[0m\u001b[0m\n\u001b[1;32m----> 3\u001b[1;33m \u001b[0mdfratings\u001b[0m \u001b[1;33m=\u001b[0m \u001b[0mpd\u001b[0m\u001b[1;33m.\u001b[0m\u001b[0mread_csv\u001b[0m\u001b[1;33m(\u001b[0m\u001b[0murl\u001b[0m\u001b[1;33m)\u001b[0m\u001b[1;33m\u001b[0m\u001b[1;33m\u001b[0m\u001b[0m\n\u001b[0m\u001b[0;32m      4\u001b[0m \u001b[0mprint\u001b[0m\u001b[1;33m(\u001b[0m\u001b[1;34m'total de registros: {:,d}'\u001b[0m\u001b[1;33m.\u001b[0m\u001b[0mformat\u001b[0m\u001b[1;33m(\u001b[0m\u001b[0mlen\u001b[0m\u001b[1;33m(\u001b[0m\u001b[0mdfratings\u001b[0m\u001b[1;33m)\u001b[0m\u001b[1;33m)\u001b[0m\u001b[1;33m)\u001b[0m\u001b[1;33m\u001b[0m\u001b[1;33m\u001b[0m\u001b[0m\n",
      "\u001b[1;32m~\\anaconda3\\lib\\site-packages\\pandas\\util\\_decorators.py\u001b[0m in \u001b[0;36mwrapper\u001b[1;34m(*args, **kwargs)\u001b[0m\n\u001b[0;32m    309\u001b[0m                     \u001b[0mstacklevel\u001b[0m\u001b[1;33m=\u001b[0m\u001b[0mstacklevel\u001b[0m\u001b[1;33m,\u001b[0m\u001b[1;33m\u001b[0m\u001b[1;33m\u001b[0m\u001b[0m\n\u001b[0;32m    310\u001b[0m                 )\n\u001b[1;32m--> 311\u001b[1;33m             \u001b[1;32mreturn\u001b[0m \u001b[0mfunc\u001b[0m\u001b[1;33m(\u001b[0m\u001b[1;33m*\u001b[0m\u001b[0margs\u001b[0m\u001b[1;33m,\u001b[0m \u001b[1;33m**\u001b[0m\u001b[0mkwargs\u001b[0m\u001b[1;33m)\u001b[0m\u001b[1;33m\u001b[0m\u001b[1;33m\u001b[0m\u001b[0m\n\u001b[0m\u001b[0;32m    312\u001b[0m \u001b[1;33m\u001b[0m\u001b[0m\n\u001b[0;32m    313\u001b[0m         \u001b[1;32mreturn\u001b[0m \u001b[0mwrapper\u001b[0m\u001b[1;33m\u001b[0m\u001b[1;33m\u001b[0m\u001b[0m\n",
      "\u001b[1;32m~\\anaconda3\\lib\\site-packages\\pandas\\io\\parsers\\readers.py\u001b[0m in \u001b[0;36mread_csv\u001b[1;34m(filepath_or_buffer, sep, delimiter, header, names, index_col, usecols, squeeze, prefix, mangle_dupe_cols, dtype, engine, converters, true_values, false_values, skipinitialspace, skiprows, skipfooter, nrows, na_values, keep_default_na, na_filter, verbose, skip_blank_lines, parse_dates, infer_datetime_format, keep_date_col, date_parser, dayfirst, cache_dates, iterator, chunksize, compression, thousands, decimal, lineterminator, quotechar, quoting, doublequote, escapechar, comment, encoding, encoding_errors, dialect, error_bad_lines, warn_bad_lines, on_bad_lines, delim_whitespace, low_memory, memory_map, float_precision, storage_options)\u001b[0m\n\u001b[0;32m    584\u001b[0m     \u001b[0mkwds\u001b[0m\u001b[1;33m.\u001b[0m\u001b[0mupdate\u001b[0m\u001b[1;33m(\u001b[0m\u001b[0mkwds_defaults\u001b[0m\u001b[1;33m)\u001b[0m\u001b[1;33m\u001b[0m\u001b[1;33m\u001b[0m\u001b[0m\n\u001b[0;32m    585\u001b[0m \u001b[1;33m\u001b[0m\u001b[0m\n\u001b[1;32m--> 586\u001b[1;33m     \u001b[1;32mreturn\u001b[0m \u001b[0m_read\u001b[0m\u001b[1;33m(\u001b[0m\u001b[0mfilepath_or_buffer\u001b[0m\u001b[1;33m,\u001b[0m \u001b[0mkwds\u001b[0m\u001b[1;33m)\u001b[0m\u001b[1;33m\u001b[0m\u001b[1;33m\u001b[0m\u001b[0m\n\u001b[0m\u001b[0;32m    587\u001b[0m \u001b[1;33m\u001b[0m\u001b[0m\n\u001b[0;32m    588\u001b[0m \u001b[1;33m\u001b[0m\u001b[0m\n",
      "\u001b[1;32m~\\anaconda3\\lib\\site-packages\\pandas\\io\\parsers\\readers.py\u001b[0m in \u001b[0;36m_read\u001b[1;34m(filepath_or_buffer, kwds)\u001b[0m\n\u001b[0;32m    480\u001b[0m \u001b[1;33m\u001b[0m\u001b[0m\n\u001b[0;32m    481\u001b[0m     \u001b[1;31m# Create the parser.\u001b[0m\u001b[1;33m\u001b[0m\u001b[1;33m\u001b[0m\u001b[0m\n\u001b[1;32m--> 482\u001b[1;33m     \u001b[0mparser\u001b[0m \u001b[1;33m=\u001b[0m \u001b[0mTextFileReader\u001b[0m\u001b[1;33m(\u001b[0m\u001b[0mfilepath_or_buffer\u001b[0m\u001b[1;33m,\u001b[0m \u001b[1;33m**\u001b[0m\u001b[0mkwds\u001b[0m\u001b[1;33m)\u001b[0m\u001b[1;33m\u001b[0m\u001b[1;33m\u001b[0m\u001b[0m\n\u001b[0m\u001b[0;32m    483\u001b[0m \u001b[1;33m\u001b[0m\u001b[0m\n\u001b[0;32m    484\u001b[0m     \u001b[1;32mif\u001b[0m \u001b[0mchunksize\u001b[0m \u001b[1;32mor\u001b[0m \u001b[0miterator\u001b[0m\u001b[1;33m:\u001b[0m\u001b[1;33m\u001b[0m\u001b[1;33m\u001b[0m\u001b[0m\n",
      "\u001b[1;32m~\\anaconda3\\lib\\site-packages\\pandas\\io\\parsers\\readers.py\u001b[0m in \u001b[0;36m__init__\u001b[1;34m(self, f, engine, **kwds)\u001b[0m\n\u001b[0;32m    809\u001b[0m             \u001b[0mself\u001b[0m\u001b[1;33m.\u001b[0m\u001b[0moptions\u001b[0m\u001b[1;33m[\u001b[0m\u001b[1;34m\"has_index_names\"\u001b[0m\u001b[1;33m]\u001b[0m \u001b[1;33m=\u001b[0m \u001b[0mkwds\u001b[0m\u001b[1;33m[\u001b[0m\u001b[1;34m\"has_index_names\"\u001b[0m\u001b[1;33m]\u001b[0m\u001b[1;33m\u001b[0m\u001b[1;33m\u001b[0m\u001b[0m\n\u001b[0;32m    810\u001b[0m \u001b[1;33m\u001b[0m\u001b[0m\n\u001b[1;32m--> 811\u001b[1;33m         \u001b[0mself\u001b[0m\u001b[1;33m.\u001b[0m\u001b[0m_engine\u001b[0m \u001b[1;33m=\u001b[0m \u001b[0mself\u001b[0m\u001b[1;33m.\u001b[0m\u001b[0m_make_engine\u001b[0m\u001b[1;33m(\u001b[0m\u001b[0mself\u001b[0m\u001b[1;33m.\u001b[0m\u001b[0mengine\u001b[0m\u001b[1;33m)\u001b[0m\u001b[1;33m\u001b[0m\u001b[1;33m\u001b[0m\u001b[0m\n\u001b[0m\u001b[0;32m    812\u001b[0m \u001b[1;33m\u001b[0m\u001b[0m\n\u001b[0;32m    813\u001b[0m     \u001b[1;32mdef\u001b[0m \u001b[0mclose\u001b[0m\u001b[1;33m(\u001b[0m\u001b[0mself\u001b[0m\u001b[1;33m)\u001b[0m\u001b[1;33m:\u001b[0m\u001b[1;33m\u001b[0m\u001b[1;33m\u001b[0m\u001b[0m\n",
      "\u001b[1;32m~\\anaconda3\\lib\\site-packages\\pandas\\io\\parsers\\readers.py\u001b[0m in \u001b[0;36m_make_engine\u001b[1;34m(self, engine)\u001b[0m\n\u001b[0;32m   1038\u001b[0m             )\n\u001b[0;32m   1039\u001b[0m         \u001b[1;31m# error: Too many arguments for \"ParserBase\"\u001b[0m\u001b[1;33m\u001b[0m\u001b[1;33m\u001b[0m\u001b[0m\n\u001b[1;32m-> 1040\u001b[1;33m         \u001b[1;32mreturn\u001b[0m \u001b[0mmapping\u001b[0m\u001b[1;33m[\u001b[0m\u001b[0mengine\u001b[0m\u001b[1;33m]\u001b[0m\u001b[1;33m(\u001b[0m\u001b[0mself\u001b[0m\u001b[1;33m.\u001b[0m\u001b[0mf\u001b[0m\u001b[1;33m,\u001b[0m \u001b[1;33m**\u001b[0m\u001b[0mself\u001b[0m\u001b[1;33m.\u001b[0m\u001b[0moptions\u001b[0m\u001b[1;33m)\u001b[0m  \u001b[1;31m# type: ignore[call-arg]\u001b[0m\u001b[1;33m\u001b[0m\u001b[1;33m\u001b[0m\u001b[0m\n\u001b[0m\u001b[0;32m   1041\u001b[0m \u001b[1;33m\u001b[0m\u001b[0m\n\u001b[0;32m   1042\u001b[0m     \u001b[1;32mdef\u001b[0m \u001b[0m_failover_to_python\u001b[0m\u001b[1;33m(\u001b[0m\u001b[0mself\u001b[0m\u001b[1;33m)\u001b[0m\u001b[1;33m:\u001b[0m\u001b[1;33m\u001b[0m\u001b[1;33m\u001b[0m\u001b[0m\n",
      "\u001b[1;32m~\\anaconda3\\lib\\site-packages\\pandas\\io\\parsers\\c_parser_wrapper.py\u001b[0m in \u001b[0;36m__init__\u001b[1;34m(self, src, **kwds)\u001b[0m\n\u001b[0;32m     49\u001b[0m \u001b[1;33m\u001b[0m\u001b[0m\n\u001b[0;32m     50\u001b[0m         \u001b[1;31m# open handles\u001b[0m\u001b[1;33m\u001b[0m\u001b[1;33m\u001b[0m\u001b[0m\n\u001b[1;32m---> 51\u001b[1;33m         \u001b[0mself\u001b[0m\u001b[1;33m.\u001b[0m\u001b[0m_open_handles\u001b[0m\u001b[1;33m(\u001b[0m\u001b[0msrc\u001b[0m\u001b[1;33m,\u001b[0m \u001b[0mkwds\u001b[0m\u001b[1;33m)\u001b[0m\u001b[1;33m\u001b[0m\u001b[1;33m\u001b[0m\u001b[0m\n\u001b[0m\u001b[0;32m     52\u001b[0m         \u001b[1;32massert\u001b[0m \u001b[0mself\u001b[0m\u001b[1;33m.\u001b[0m\u001b[0mhandles\u001b[0m \u001b[1;32mis\u001b[0m \u001b[1;32mnot\u001b[0m \u001b[1;32mNone\u001b[0m\u001b[1;33m\u001b[0m\u001b[1;33m\u001b[0m\u001b[0m\n\u001b[0;32m     53\u001b[0m \u001b[1;33m\u001b[0m\u001b[0m\n",
      "\u001b[1;32m~\\anaconda3\\lib\\site-packages\\pandas\\io\\parsers\\base_parser.py\u001b[0m in \u001b[0;36m_open_handles\u001b[1;34m(self, src, kwds)\u001b[0m\n\u001b[0;32m    220\u001b[0m         \u001b[0mLet\u001b[0m \u001b[0mthe\u001b[0m \u001b[0mreaders\u001b[0m \u001b[0mopen\u001b[0m \u001b[0mIOHandles\u001b[0m \u001b[0mafter\u001b[0m \u001b[0mthey\u001b[0m \u001b[0mare\u001b[0m \u001b[0mdone\u001b[0m \u001b[1;32mwith\u001b[0m \u001b[0mtheir\u001b[0m \u001b[0mpotential\u001b[0m \u001b[0mraises\u001b[0m\u001b[1;33m.\u001b[0m\u001b[1;33m\u001b[0m\u001b[1;33m\u001b[0m\u001b[0m\n\u001b[0;32m    221\u001b[0m         \"\"\"\n\u001b[1;32m--> 222\u001b[1;33m         self.handles = get_handle(\n\u001b[0m\u001b[0;32m    223\u001b[0m             \u001b[0msrc\u001b[0m\u001b[1;33m,\u001b[0m\u001b[1;33m\u001b[0m\u001b[1;33m\u001b[0m\u001b[0m\n\u001b[0;32m    224\u001b[0m             \u001b[1;34m\"r\"\u001b[0m\u001b[1;33m,\u001b[0m\u001b[1;33m\u001b[0m\u001b[1;33m\u001b[0m\u001b[0m\n",
      "\u001b[1;32m~\\anaconda3\\lib\\site-packages\\pandas\\io\\common.py\u001b[0m in \u001b[0;36mget_handle\u001b[1;34m(path_or_buf, mode, encoding, compression, memory_map, is_text, errors, storage_options)\u001b[0m\n\u001b[0;32m    700\u001b[0m         \u001b[1;32mif\u001b[0m \u001b[0mioargs\u001b[0m\u001b[1;33m.\u001b[0m\u001b[0mencoding\u001b[0m \u001b[1;32mand\u001b[0m \u001b[1;34m\"b\"\u001b[0m \u001b[1;32mnot\u001b[0m \u001b[1;32min\u001b[0m \u001b[0mioargs\u001b[0m\u001b[1;33m.\u001b[0m\u001b[0mmode\u001b[0m\u001b[1;33m:\u001b[0m\u001b[1;33m\u001b[0m\u001b[1;33m\u001b[0m\u001b[0m\n\u001b[0;32m    701\u001b[0m             \u001b[1;31m# Encoding\u001b[0m\u001b[1;33m\u001b[0m\u001b[1;33m\u001b[0m\u001b[0m\n\u001b[1;32m--> 702\u001b[1;33m             handle = open(\n\u001b[0m\u001b[0;32m    703\u001b[0m                 \u001b[0mhandle\u001b[0m\u001b[1;33m,\u001b[0m\u001b[1;33m\u001b[0m\u001b[1;33m\u001b[0m\u001b[0m\n\u001b[0;32m    704\u001b[0m                 \u001b[0mioargs\u001b[0m\u001b[1;33m.\u001b[0m\u001b[0mmode\u001b[0m\u001b[1;33m,\u001b[0m\u001b[1;33m\u001b[0m\u001b[1;33m\u001b[0m\u001b[0m\n",
      "\u001b[1;31mFileNotFoundError\u001b[0m: [Errno 2] No such file or directory: '/Users/valencar/Dropbox/AULAS-REMOTAS/BD-ESTATISTICA-MANHA/datasets/ml-20m/ratings.csv'"
     ]
    }
   ],
   "source": [
    "%time\n",
    "\n",
    "dfratings = pd.read_csv(url)\n",
    "print('total de registros: {:,d}'.format(len(dfratings)))"
   ]
  },
  {
   "cell_type": "code",
   "execution_count": null,
   "id": "0c92db79",
   "metadata": {
    "scrolled": true
   },
   "outputs": [],
   "source": [
    "dfratings.head()"
   ]
  },
  {
   "cell_type": "code",
   "execution_count": null,
   "id": "69a9076f",
   "metadata": {
    "scrolled": true
   },
   "outputs": [],
   "source": [
    "url = '/Users/valencar/Dropbox/AULAS-REMOTAS/BD-ESTATISTICA-MANHA/datasets/ml-20m' + '/' + 'movies.csv'\n",
    "url"
   ]
  },
  {
   "cell_type": "code",
   "execution_count": null,
   "id": "4ce92b16",
   "metadata": {
    "scrolled": true
   },
   "outputs": [],
   "source": [
    "%time\n",
    "\n",
    "dfmovies = pd.read_csv(url)\n",
    "print('total de registros: {:,d}'.format(len(dfmovies)))"
   ]
  },
  {
   "cell_type": "code",
   "execution_count": null,
   "id": "63dd793a",
   "metadata": {
    "scrolled": true
   },
   "outputs": [],
   "source": [
    "dfmovies.head()"
   ]
  },
  {
   "cell_type": "code",
   "execution_count": null,
   "id": "3e0e55b4",
   "metadata": {
    "scrolled": true
   },
   "outputs": [],
   "source": [
    "%%time\n",
    "\n",
    "dfdrama_acao = dfmovies[ dfmovies.genres.str.contains('Drama') |  dfmovies.genres.str.contains('Action') ]\n",
    "print('total de registros: {:,d}'.format(len(dfdrama_acao)))\n",
    "dfdrama_acao.head()"
   ]
  },
  {
   "cell_type": "markdown",
   "id": "9ee2dd90",
   "metadata": {},
   "source": [
    "# Obter todos os generos"
   ]
  },
  {
   "cell_type": "code",
   "execution_count": null,
   "id": "d50d6783",
   "metadata": {
    "scrolled": true
   },
   "outputs": [],
   "source": [
    "genres = 'Comedy|Drama|Romance'\n",
    "generos = genres.split('|')\n",
    "generos"
   ]
  },
  {
   "cell_type": "code",
   "execution_count": null,
   "id": "9c7dfcfa",
   "metadata": {
    "scrolled": true
   },
   "outputs": [],
   "source": [
    "%%time\n",
    "\n",
    "set_generos = set()\n",
    "\n",
    "for index, row in dfmovies.iterrows(): \n",
    "    generos = row['genres'].split('|')\n",
    "    set_generos.update(generos)\n",
    "    \n",
    "generos = list(set_generos)\n",
    "print('numero de generos',len(generos))\n",
    "print(generos)"
   ]
  },
  {
   "cell_type": "markdown",
   "id": "830adf67",
   "metadata": {},
   "source": [
    "## Criando colunas Genero - individuais"
   ]
  },
  {
   "cell_type": "code",
   "execution_count": null,
   "id": "9e2f5f9b",
   "metadata": {
    "scrolled": true
   },
   "outputs": [],
   "source": [
    "%%time\n",
    "\n",
    "for genero in generos:\n",
    "    dfmovies[genero] = False\n",
    "    \n",
    "dfmovies.head()"
   ]
  },
  {
   "cell_type": "code",
   "execution_count": null,
   "id": "d1fa4b82",
   "metadata": {
    "scrolled": true
   },
   "outputs": [],
   "source": [
    "%%time \n",
    "\n",
    "for index, row in dfmovies.iterrows(): \n",
    "    generos = row['genres'].split('|')\n",
    "    for genero in generos:\n",
    "        dfmovies.at[index, genero] = True\n",
    "    \n",
    "dfmovies.head()"
   ]
  },
  {
   "cell_type": "code",
   "execution_count": null,
   "id": "eb20414f",
   "metadata": {
    "scrolled": true
   },
   "outputs": [],
   "source": [
    "dfmovies.Drama.value_counts()"
   ]
  },
  {
   "cell_type": "code",
   "execution_count": null,
   "id": "485df8f0",
   "metadata": {
    "scrolled": true
   },
   "outputs": [],
   "source": [
    "del dfmovies['genres']\n",
    "dfmovies.head()"
   ]
  },
  {
   "cell_type": "markdown",
   "id": "b6eac698",
   "metadata": {},
   "source": [
    "# criar estatistica de generos"
   ]
  },
  {
   "cell_type": "code",
   "execution_count": null,
   "id": "1250281c",
   "metadata": {
    "scrolled": true
   },
   "outputs": [],
   "source": [
    "generos = list(set_generos)\n",
    "print('numero de generos',len(generos))\n",
    "print(generos)"
   ]
  },
  {
   "cell_type": "code",
   "execution_count": null,
   "id": "f5edb657",
   "metadata": {
    "scrolled": true
   },
   "outputs": [],
   "source": [
    "dfmovies.Horror.value_counts()"
   ]
  },
  {
   "cell_type": "code",
   "execution_count": null,
   "id": "4431719f",
   "metadata": {
    "scrolled": true
   },
   "outputs": [],
   "source": [
    "for genero in generos:\n",
    "    count_genero = dfmovies[genero].sum()\n",
    "    print(genero, count_genero)\n",
    "    break"
   ]
  },
  {
   "cell_type": "code",
   "execution_count": null,
   "id": "11f64c89",
   "metadata": {
    "scrolled": true
   },
   "outputs": [],
   "source": [
    "dict_genero = {}\n",
    "for genero in generos:\n",
    "    count_genero = dfmovies[genero].sum()\n",
    "    dict_genero[genero] = count_genero\n",
    "\n",
    "dict_genero"
   ]
  },
  {
   "cell_type": "code",
   "execution_count": null,
   "id": "c78d7905",
   "metadata": {
    "scrolled": true
   },
   "outputs": [],
   "source": [
    "df_genero_cont = pd.DataFrame.from_dict(dict_genero, orient='index').reset_index()\n",
    "df_genero_cont"
   ]
  },
  {
   "cell_type": "code",
   "execution_count": null,
   "id": "32174507",
   "metadata": {
    "scrolled": true
   },
   "outputs": [],
   "source": [
    "df_genero_cont.columns = ['genero', 'total']\n",
    "df_genero_cont"
   ]
  },
  {
   "cell_type": "code",
   "execution_count": null,
   "id": "f337a490",
   "metadata": {
    "scrolled": true
   },
   "outputs": [],
   "source": [
    "dfo = df_genero_cont.sort_values(by='total', ascending=False).reset_index(drop=True)\n",
    "dfo"
   ]
  },
  {
   "cell_type": "code",
   "execution_count": null,
   "id": "c736c313",
   "metadata": {
    "scrolled": true
   },
   "outputs": [],
   "source": []
  },
  {
   "cell_type": "markdown",
   "id": "404c96a5",
   "metadata": {},
   "source": [
    "# Capturando o ano"
   ]
  },
  {
   "cell_type": "code",
   "execution_count": null,
   "id": "0b0e5fed",
   "metadata": {
    "scrolled": true
   },
   "outputs": [],
   "source": [
    "dfmovies.head()"
   ]
  },
  {
   "cell_type": "code",
   "execution_count": null,
   "id": "d0380e52",
   "metadata": {
    "scrolled": true
   },
   "outputs": [],
   "source": [
    "x = 'Father of the Bride Part II (1995)'\n",
    "x.find(')')"
   ]
  },
  {
   "cell_type": "code",
   "execution_count": null,
   "id": "99705ab1",
   "metadata": {
    "scrolled": true
   },
   "outputs": [],
   "source": [
    "type(x)"
   ]
  },
  {
   "cell_type": "code",
   "execution_count": null,
   "id": "4480eb19",
   "metadata": {
    "scrolled": true
   },
   "outputs": [],
   "source": [
    "x = 'Father of the Bride Part II'\n",
    "x.find(')')"
   ]
  },
  {
   "cell_type": "code",
   "execution_count": null,
   "id": "c72bed6d",
   "metadata": {
    "scrolled": true
   },
   "outputs": [],
   "source": [
    "import numpy as np\n",
    "\n",
    "dfmovies['ano'] = dfmovies.title.apply(lambda x : x.split('(')[1] if x.find(')') != -1  else np.nan)\n",
    "dfmovies.head()"
   ]
  },
  {
   "cell_type": "code",
   "execution_count": null,
   "id": "91856dad",
   "metadata": {
    "scrolled": true
   },
   "outputs": [],
   "source": [
    "dfmovies['ano'] = dfmovies.ano.apply(lambda x : x.replace(')', '') if type(x) == str else x)\n",
    "dfmovies.head()"
   ]
  },
  {
   "cell_type": "code",
   "execution_count": null,
   "id": "b0142a6a",
   "metadata": {
    "scrolled": true
   },
   "outputs": [],
   "source": [
    "print(dfmovies.ano.value_counts())"
   ]
  },
  {
   "cell_type": "code",
   "execution_count": null,
   "id": "022a13e3",
   "metadata": {
    "scrolled": true
   },
   "outputs": [],
   "source": [
    "import re\n",
    "\n",
    "x1 = '19993'\n",
    "x2 = '1 2 title'\n",
    "datas = r'^([1-9][0-9][0-9][0-9])'\n",
    "#re.match(r'\\d{4}', x)\n",
    "\n",
    "if re.match(datas, x1):\n",
    "    print('ok')\n",
    "if re.match(datas, x2):\n",
    "    print('ok nao data')"
   ]
  },
  {
   "cell_type": "code",
   "execution_count": null,
   "id": "51ebe2f0",
   "metadata": {
    "scrolled": true
   },
   "outputs": [],
   "source": [
    "datas = r'^([0-9][0-9][0-9][0-9])'\n",
    "\n",
    "dfmovies['ano'] = dfmovies.title.apply(lambda x : x.split('(')[1] if x.find(')') != -1  else np.nan)\n",
    "dfmovies['ano'] = dfmovies.ano.apply(lambda x : x.replace(')', '') if type(x) == str else x)\n",
    "\n",
    "dfmovies['ano'] = dfmovies.ano.apply(lambda x : x[:4] if x is not np.nan and re.match(datas, x[:4]) else np.nan)\n",
    "dfmovies.head()"
   ]
  },
  {
   "cell_type": "code",
   "execution_count": null,
   "id": "6bf9b718",
   "metadata": {
    "scrolled": true
   },
   "outputs": [],
   "source": [
    "dfmovies.ano.value_counts()"
   ]
  },
  {
   "cell_type": "code",
   "execution_count": null,
   "id": "99ca6c49",
   "metadata": {
    "scrolled": true
   },
   "outputs": [],
   "source": [
    "len(dfmovies.ano.unique())"
   ]
  },
  {
   "cell_type": "code",
   "execution_count": null,
   "id": "989ded3e",
   "metadata": {
    "scrolled": true
   },
   "outputs": [],
   "source": [
    "print(dfmovies.ano.unique())"
   ]
  },
  {
   "cell_type": "code",
   "execution_count": null,
   "id": "2a20820c",
   "metadata": {
    "scrolled": true
   },
   "outputs": [],
   "source": [
    "dfmovies.ano.isnull().sum(), len(dfmovies.ano)"
   ]
  },
  {
   "cell_type": "code",
   "execution_count": null,
   "id": "c8cc3356",
   "metadata": {
    "scrolled": true
   },
   "outputs": [],
   "source": [
    "dfanofilmes = dfmovies.ano.value_counts().to_frame().reset_index()\n",
    "dfanofilmes.columns = ['ano', 'total_filmes']\n",
    "dfanofilmes.head()"
   ]
  },
  {
   "cell_type": "code",
   "execution_count": null,
   "id": "59ff3261",
   "metadata": {
    "scrolled": true
   },
   "outputs": [],
   "source": [
    "dfanofilmes = dfanofilmes.sort_values(by='total_filmes', ascending=False).reset_index(drop=True)\n",
    "dfanofilmes.head(10)"
   ]
  },
  {
   "cell_type": "code",
   "execution_count": null,
   "id": "806cabb0",
   "metadata": {
    "scrolled": true
   },
   "outputs": [],
   "source": [
    "import matplotlib.pyplot as plt\n",
    "import seaborn as sns\n",
    "\n",
    "plt.figure(figsize=(12,8))\n",
    "\n",
    "sns.barplot(x='total_filmes', y='ano', data=dfanofilmes[:20], palette='Greens_r')"
   ]
  },
  {
   "cell_type": "markdown",
   "id": "c0300e89",
   "metadata": {},
   "source": [
    "# Join - inner join"
   ]
  },
  {
   "cell_type": "code",
   "execution_count": null,
   "id": "459bf0a0",
   "metadata": {
    "scrolled": true
   },
   "outputs": [],
   "source": [
    "dfratings.head()"
   ]
  },
  {
   "cell_type": "code",
   "execution_count": null,
   "id": "80c36e21",
   "metadata": {
    "scrolled": true
   },
   "outputs": [],
   "source": [
    "dfmovies.head()"
   ]
  },
  {
   "cell_type": "code",
   "execution_count": null,
   "id": "0faf7e28",
   "metadata": {
    "scrolled": true
   },
   "outputs": [],
   "source": [
    "%%time\n",
    "\n",
    "dffilmes =  pd.merge(dfmovies, dfratings, left_on='movieId', right_on='movieId', how=\"inner\")\n",
    "print('total de registros: {:,d}'.format(len(dffilmes)))\n",
    "dffilmes.head()"
   ]
  },
  {
   "cell_type": "code",
   "execution_count": null,
   "id": "5af9845c",
   "metadata": {
    "scrolled": true
   },
   "outputs": [],
   "source": [
    "dffilmes.info()"
   ]
  },
  {
   "cell_type": "code",
   "execution_count": null,
   "id": "c5204593",
   "metadata": {
    "scrolled": true
   },
   "outputs": [],
   "source": [
    "dffilmes.sort_values(by='rating', ascending=False)[:15]"
   ]
  },
  {
   "cell_type": "code",
   "execution_count": null,
   "id": "939256bf",
   "metadata": {
    "scrolled": true
   },
   "outputs": [],
   "source": [
    "# generos = ['Crime', 'Western', 'Thriller', 'War', 'Sci-Fi', 'Children', \n",
    "#             'Documentary', '(no genres listed)', 'Romance', 'Adventure', 'Mystery',\n",
    "#             'Comedy', 'IMAX', 'Animation', 'Action', 'Horror', 'Film-Noir', 'Fantasy',\n",
    "#         'Drama', 'Musical'] "
   ]
  },
  {
   "cell_type": "code",
   "execution_count": null,
   "id": "10135d9c",
   "metadata": {
    "scrolled": true
   },
   "outputs": [],
   "source": []
  },
  {
   "cell_type": "code",
   "execution_count": null,
   "id": "3146aff9",
   "metadata": {
    "scrolled": true
   },
   "outputs": [],
   "source": []
  },
  {
   "cell_type": "code",
   "execution_count": null,
   "id": "62c3e976",
   "metadata": {
    "scrolled": true
   },
   "outputs": [],
   "source": [
    "%%time\n",
    "\n",
    "#dffilmes.to_csv('filmes-2022.csv', index=False)\n",
    "#!ls -ilah *.csv"
   ]
  },
  {
   "cell_type": "code",
   "execution_count": null,
   "id": "03439866",
   "metadata": {
    "scrolled": true
   },
   "outputs": [],
   "source": [
    "!rm filmes-2022.csv\n",
    "!ls -ilah *.csv"
   ]
  },
  {
   "cell_type": "code",
   "execution_count": null,
   "id": "7fa81ebd",
   "metadata": {
    "scrolled": true
   },
   "outputs": [],
   "source": [
    "dffilmes.Action.value_counts()"
   ]
  },
  {
   "cell_type": "code",
   "execution_count": null,
   "id": "014b241f",
   "metadata": {
    "scrolled": true
   },
   "outputs": [],
   "source": [
    "acao = dffilmes.Action.value_counts()[1]\n",
    "acao"
   ]
  },
  {
   "cell_type": "code",
   "execution_count": null,
   "id": "4f403608",
   "metadata": {
    "scrolled": true
   },
   "outputs": [],
   "source": [
    "dffilmes.Drama.value_counts()"
   ]
  },
  {
   "cell_type": "code",
   "execution_count": null,
   "id": "339857f8",
   "metadata": {
    "scrolled": true
   },
   "outputs": [],
   "source": [
    "drama = dffilmes.Drama.value_counts()[1]\n",
    "drama"
   ]
  },
  {
   "cell_type": "code",
   "execution_count": null,
   "id": "22bd4d30",
   "metadata": {
    "scrolled": true
   },
   "outputs": [],
   "source": [
    "dffilmes.Adventure.value_counts()"
   ]
  },
  {
   "cell_type": "code",
   "execution_count": null,
   "id": "35b97a04",
   "metadata": {
    "scrolled": true
   },
   "outputs": [],
   "source": [
    "aventura = dffilmes.Adventure.value_counts()[1]\n",
    "aventura"
   ]
  },
  {
   "cell_type": "code",
   "execution_count": null,
   "id": "7357e17b",
   "metadata": {
    "scrolled": true
   },
   "outputs": [],
   "source": [
    "dffilmes.Romance.value_counts()"
   ]
  },
  {
   "cell_type": "code",
   "execution_count": null,
   "id": "b44c7628",
   "metadata": {
    "scrolled": true
   },
   "outputs": [],
   "source": [
    "romance = dffilmes.Romance.value_counts()[1]\n",
    "romance"
   ]
  },
  {
   "cell_type": "code",
   "execution_count": null,
   "id": "ecbb2ca4",
   "metadata": {
    "scrolled": true
   },
   "outputs": [],
   "source": [
    "#outros = len(dfmovies) - aventura - drama - romance - acao\n",
    "#outros"
   ]
  },
  {
   "cell_type": "markdown",
   "id": "896e9b6f",
   "metadata": {},
   "source": [
    "# grafico de Pizza - genero"
   ]
  },
  {
   "cell_type": "code",
   "execution_count": null,
   "id": "ff35a83f",
   "metadata": {
    "scrolled": true
   },
   "outputs": [],
   "source": [
    "import matplotlib.pyplot as plt\n",
    "import seaborn as sns\n",
    "\n",
    "plt.style.use('ggplot')\n",
    "\n",
    "plt.rcParams[\"figure.figsize\"] = (9,9)\n",
    "\n",
    "#define data\n",
    "data =    [aventura, drama, romance, acao] #f6.percent\n",
    "labels = ['aventura', 'drama', 'romance', 'acao'] #, 'outros'] #df.rating\n",
    "\n",
    "#define Seaborn color palette to use\n",
    "colors = sns.color_palette('pastel')#[0:4]\n",
    "\n",
    "colors = sns.color_palette(\"rocket\")\n",
    "\n",
    "colors = sns.color_palette(\"Blues_r\") #, as_cmap=True)\n",
    "\n",
    "#colors = 'Blues'\n",
    "\n",
    "\n",
    "\n",
    "fig = plt.figure()\n",
    "\n",
    "#ax = fig.add_axes([.8, .8, .8, .8], aspect=2)\n",
    "\n",
    "ax = fig.add_axes([.8, .8, .8, .8], aspect=2)\n",
    "ax.set_title('Filmes por genero ')\n",
    "plt.pie(data, labels = labels, colors = colors, autopct='%.0f%%')\n",
    "\n",
    "\n",
    "plt.show()"
   ]
  },
  {
   "cell_type": "code",
   "execution_count": null,
   "id": "f759c9cb",
   "metadata": {
    "scrolled": true
   },
   "outputs": [],
   "source": []
  },
  {
   "cell_type": "code",
   "execution_count": null,
   "id": "8af73194",
   "metadata": {
    "scrolled": true
   },
   "outputs": [],
   "source": [
    "dfo = dffilmes.rating.value_counts()\n",
    "dfo"
   ]
  },
  {
   "cell_type": "code",
   "execution_count": null,
   "id": "9845c4a5",
   "metadata": {
    "scrolled": true
   },
   "outputs": [],
   "source": [
    "type(dfo)"
   ]
  },
  {
   "cell_type": "code",
   "execution_count": null,
   "id": "e565a44a",
   "metadata": {
    "scrolled": true
   },
   "outputs": [],
   "source": [
    "df2 = dfo.to_frame().reset_index()\n",
    "df2.columns = ['rating', 'quantidade']"
   ]
  },
  {
   "cell_type": "code",
   "execution_count": null,
   "id": "dfff14c3",
   "metadata": {
    "scrolled": true
   },
   "outputs": [],
   "source": [
    "df2"
   ]
  },
  {
   "cell_type": "code",
   "execution_count": null,
   "id": "f1a54295",
   "metadata": {
    "scrolled": true
   },
   "outputs": [],
   "source": [
    "df2['percent'] = df2['quantidade'] / df2['quantidade'].sum() * 100\n",
    "df2"
   ]
  },
  {
   "cell_type": "code",
   "execution_count": null,
   "id": "115b1b63",
   "metadata": {
    "scrolled": true
   },
   "outputs": [],
   "source": [
    "# formatar a saída\n",
    "\n",
    "df3 = df2.style.format({\n",
    "    \"rating\": \"{:.1f}\",\n",
    "    \"quantidade\": \"{:,d}\",\n",
    "    \"percent\": \"{:.0f}\"\n",
    "})\n",
    "\n",
    "\n",
    "\n",
    "df3"
   ]
  },
  {
   "cell_type": "code",
   "execution_count": null,
   "id": "5495e2b6",
   "metadata": {
    "scrolled": true
   },
   "outputs": [],
   "source": [
    "df4 = df2[ df2.percent >= 7]\n",
    "df4"
   ]
  },
  {
   "cell_type": "code",
   "execution_count": null,
   "id": "37d1618f",
   "metadata": {
    "scrolled": true
   },
   "outputs": [],
   "source": [
    "df4.percent.sum()"
   ]
  },
  {
   "cell_type": "code",
   "execution_count": null,
   "id": "dda636bb",
   "metadata": {
    "scrolled": true
   },
   "outputs": [],
   "source": [
    "print('{:,d}'.format(df4.quantidade.sum()))"
   ]
  },
  {
   "cell_type": "code",
   "execution_count": null,
   "id": "ad02bf97",
   "metadata": {
    "scrolled": true
   },
   "outputs": [],
   "source": [
    "df5 = df2[ df2.percent < 7]\n",
    "df5"
   ]
  },
  {
   "cell_type": "code",
   "execution_count": null,
   "id": "9b02d75a",
   "metadata": {
    "scrolled": true
   },
   "outputs": [],
   "source": [
    "print('{:,d}'.format(df5.quantidade.sum()))"
   ]
  },
  {
   "cell_type": "code",
   "execution_count": null,
   "id": "7030d523",
   "metadata": {
    "scrolled": true
   },
   "outputs": [],
   "source": [
    "df5.percent.sum()"
   ]
  },
  {
   "cell_type": "code",
   "execution_count": null,
   "id": "0d92ad43",
   "metadata": {
    "scrolled": true
   },
   "outputs": [],
   "source": [
    "df5"
   ]
  },
  {
   "cell_type": "code",
   "execution_count": null,
   "id": "0392b11b",
   "metadata": {
    "scrolled": true
   },
   "outputs": [],
   "source": [
    "row = {'rating': 'outros', 'quantidade': df5.quantidade.sum(), 'percent': df5.percent.sum()  }\n",
    "row"
   ]
  },
  {
   "cell_type": "code",
   "execution_count": null,
   "id": "0db3c66a",
   "metadata": {
    "scrolled": true
   },
   "outputs": [],
   "source": [
    "df6 = df4.append(row, ignore_index=True)\n",
    "df6"
   ]
  },
  {
   "cell_type": "code",
   "execution_count": null,
   "id": "518a7b22",
   "metadata": {
    "scrolled": true
   },
   "outputs": [],
   "source": [
    "# formatar a saída\n",
    "\n",
    "dfs = df6.style.format({\n",
    "    \"rating\": \"{}\",\n",
    "    \"quantidade\": \"{:,d}\",\n",
    "    \"percent\": \"{:.0f}\"\n",
    "})\n",
    "\n",
    "dfs"
   ]
  },
  {
   "cell_type": "code",
   "execution_count": null,
   "id": "d9ffd5a3",
   "metadata": {
    "scrolled": true
   },
   "outputs": [],
   "source": [
    "df6.to_csv('ratings_saida.csv', index=False)"
   ]
  },
  {
   "cell_type": "code",
   "execution_count": null,
   "id": "6875d045",
   "metadata": {
    "scrolled": true
   },
   "outputs": [],
   "source": [
    "!cat ratings_saida.csv"
   ]
  },
  {
   "cell_type": "code",
   "execution_count": null,
   "id": "e0493707",
   "metadata": {
    "scrolled": true
   },
   "outputs": [],
   "source": [
    "import matplotlib.pyplot as plt\n",
    "import seaborn as sns\n",
    "\n",
    "plt.rcParams[\"figure.figsize\"] = (9,9)\n",
    "\n",
    "#define data\n",
    "data = df6.percent\n",
    "labels = df6.rating\n",
    "\n",
    "#define Seaborn color palette to use\n",
    "colors = sns.color_palette('pastel')[0:7]\n",
    "\n",
    "colors = sns.color_palette(\"Blues_r\")\n",
    "\n",
    "colors = sns.color_palette(\"Reds_r\")[0:7]\n",
    "\n",
    "colors = sns.color_palette(\"Blues_r\")[0:7]\n",
    "\n",
    "\n",
    "colors = sns.color_palette(\"Oranges\")[0:10]\n",
    "\n",
    "\n",
    "colors = sns.color_palette(\"Blues_r\")\n",
    "\n",
    "fig = plt.figure()\n",
    "\n",
    "ax = fig.add_axes([0, 0, .8, .8], aspect=1)\n",
    "\n",
    "ax.set_title('Filmes por avaliação (1-5)')\n",
    "plt.pie(data, labels = labels, colors = colors, autopct='%.0f%%')\n",
    "\n",
    "\n",
    "plt.show()"
   ]
  },
  {
   "cell_type": "code",
   "execution_count": null,
   "id": "c4353f71",
   "metadata": {
    "scrolled": true
   },
   "outputs": [],
   "source": [
    "!ls -ilah /Users/valencar/Dropbox/AULAS-REMOTAS/BD-ESTATISTICA-MANHA/datasets/ml-20m"
   ]
  },
  {
   "cell_type": "code",
   "execution_count": null,
   "id": "aa63cec3",
   "metadata": {
    "scrolled": true
   },
   "outputs": [],
   "source": [
    "!head /Users/valencar/Dropbox/AULAS-REMOTAS/BD-ESTATISTICA-MANHA/datasets/ml-20m/tags.csv"
   ]
  },
  {
   "cell_type": "markdown",
   "id": "d2213e48",
   "metadata": {},
   "source": [
    "# mapa"
   ]
  },
  {
   "cell_type": "code",
   "execution_count": null,
   "id": "6340b288",
   "metadata": {
    "scrolled": true
   },
   "outputs": [],
   "source": [
    "!pip install plotly==5.5.0"
   ]
  },
  {
   "cell_type": "markdown",
   "id": "4ac16f54",
   "metadata": {},
   "source": [
    "# covid19"
   ]
  },
  {
   "cell_type": "code",
   "execution_count": null,
   "id": "43e67970",
   "metadata": {
    "scrolled": true
   },
   "outputs": [],
   "source": [
    "url = 'https://raw.githubusercontent.com/CSSEGISandData/COVID-19/master/csse_covid_19_data/csse_covid_19_daily_reports/02-04-2022.csv'\n",
    "url\n"
   ]
  },
  {
   "cell_type": "code",
   "execution_count": null,
   "id": "2887250b",
   "metadata": {
    "scrolled": true
   },
   "outputs": [],
   "source": [
    "import pandas as pd\n",
    "\n",
    "df = pd.read_csv(url)\n",
    "df.head()"
   ]
  },
  {
   "cell_type": "code",
   "execution_count": null,
   "id": "75efe382",
   "metadata": {
    "scrolled": true
   },
   "outputs": [],
   "source": [
    "df.info()"
   ]
  },
  {
   "cell_type": "code",
   "execution_count": null,
   "id": "4f4082e4",
   "metadata": {
    "scrolled": true
   },
   "outputs": [],
   "source": [
    "df.loc[0, 'Province_State']"
   ]
  },
  {
   "cell_type": "code",
   "execution_count": null,
   "id": "c6b4bc4a",
   "metadata": {
    "scrolled": true
   },
   "outputs": [],
   "source": [
    "df2 = df.groupby('Country_Region').sum().reset_index()\n",
    "df2.head(30)"
   ]
  },
  {
   "cell_type": "code",
   "execution_count": null,
   "id": "09e3ac6b",
   "metadata": {
    "scrolled": true
   },
   "outputs": [],
   "source": [
    "len(df2)"
   ]
  },
  {
   "cell_type": "code",
   "execution_count": null,
   "id": "59dc14fd",
   "metadata": {
    "scrolled": true
   },
   "outputs": [],
   "source": [
    "url = 'https://raw.githubusercontent.com/lukes/ISO-3166-Countries-with-Regional-Codes/master/all/all.csv'\n",
    "df3codes = pd.read_csv(url)\n",
    "df3codes.head()"
   ]
  },
  {
   "cell_type": "code",
   "execution_count": null,
   "id": "ac64f716",
   "metadata": {
    "scrolled": true
   },
   "outputs": [],
   "source": [
    "dfmap = pd.merge(df2, df3codes, left_on='Country_Region', right_on='name', how='inner')\n",
    "print(len(dfmap))\n",
    "dfmap.head()"
   ]
  },
  {
   "cell_type": "code",
   "execution_count": null,
   "id": "2a4c508d",
   "metadata": {
    "scrolled": true
   },
   "outputs": [],
   "source": [
    "dfmap.columns"
   ]
  },
  {
   "cell_type": "code",
   "execution_count": null,
   "id": "9cae010f",
   "metadata": {
    "scrolled": true
   },
   "outputs": [],
   "source": [
    "dfmap.Country_Region.unique()"
   ]
  },
  {
   "cell_type": "code",
   "execution_count": null,
   "id": "bc56228d",
   "metadata": {
    "scrolled": true
   },
   "outputs": [],
   "source": [
    "dfmap.Country_Region.value_counts()"
   ]
  },
  {
   "cell_type": "code",
   "execution_count": null,
   "id": "0be9f82f",
   "metadata": {
    "scrolled": true
   },
   "outputs": [],
   "source": [
    "import plotly.graph_objects as go\n",
    "import pandas as pd\n",
    "\n",
    "\n",
    "fig = go.Figure(data=go.Choropleth(\n",
    "    locations = dfmap['alpha-3'],\n",
    "    z = dfmap['Confirmed'],\n",
    "    text = dfmap['Country_Region'],\n",
    "    colorscale = 'Reds',\n",
    "    autocolorscale=False,\n",
    "    reversescale=True,\n",
    "    marker_line_color='darkgray',\n",
    "    marker_line_width=0.5,\n",
    "    colorbar_tickprefix = '',\n",
    "    colorbar_title = 'Casos Confirmados',\n",
    "))\n",
    "\n",
    "fig.update_layout(\n",
    "    title_text='Covid19 - 4/fevereiro/2022 - Casos Confirmados',\n",
    "    geo=dict(\n",
    "        showframe=False,\n",
    "        showcoastlines=False,\n",
    "        projection_type='equirectangular'\n",
    "    ),\n",
    "    annotations = [\n",
    "    ]\n",
    ")\n",
    "\n",
    "fig.show()"
   ]
  },
  {
   "cell_type": "code",
   "execution_count": null,
   "id": "3dc02365",
   "metadata": {
    "scrolled": true
   },
   "outputs": [],
   "source": [
    "dfmap.head()"
   ]
  },
  {
   "cell_type": "code",
   "execution_count": null,
   "id": "f7bea3e4",
   "metadata": {
    "scrolled": true
   },
   "outputs": [],
   "source": [
    "dfmap.to_csv('mapa_mundo_covid19-4-fevereiro-2022.csv')\n",
    "!ls -ilah m*.csv"
   ]
  },
  {
   "cell_type": "code",
   "execution_count": null,
   "id": "f038ed51",
   "metadata": {
    "scrolled": true
   },
   "outputs": [],
   "source": [
    "!pwd"
   ]
  },
  {
   "cell_type": "markdown",
   "id": "9301c0a7",
   "metadata": {},
   "source": [
    "# Séries Teporais - Pandas"
   ]
  },
  {
   "cell_type": "markdown",
   "id": "e2cecf78",
   "metadata": {},
   "source": [
    "https://raw.githubusercontent.com/CSSEGISandData/COVID-19/master/csse_covid_19_data/csse_covid_19_time_series/time_series_covid19_confirmed_global.csv"
   ]
  },
  {
   "cell_type": "code",
   "execution_count": null,
   "id": "b742100d",
   "metadata": {
    "scrolled": true
   },
   "outputs": [],
   "source": [
    "url = 'https://raw.githubusercontent.com/CSSEGISandData/COVID-19/master/csse_covid_19_data/csse_covid_19_time_series/time_series_covid19_confirmed_global.csv'\n",
    "url"
   ]
  },
  {
   "cell_type": "code",
   "execution_count": null,
   "id": "36986449",
   "metadata": {
    "scrolled": true
   },
   "outputs": [],
   "source": [
    "import pandas as pd\n",
    "\n",
    "df = pd.read_csv(url)\n",
    "print(len(df))\n",
    "df.head()"
   ]
  },
  {
   "cell_type": "code",
   "execution_count": null,
   "id": "e24ed736",
   "metadata": {
    "scrolled": true
   },
   "outputs": [],
   "source": [
    "df2 = df.T\n",
    "df2.head()"
   ]
  },
  {
   "cell_type": "code",
   "execution_count": null,
   "id": "424e24d0",
   "metadata": {
    "scrolled": true
   },
   "outputs": [],
   "source": [
    "datas_s = list(df.columns[4:])\n",
    "print(len(datas_s))\n",
    "datas_s[:5]"
   ]
  },
  {
   "cell_type": "code",
   "execution_count": null,
   "id": "1d080c33",
   "metadata": {
    "scrolled": true
   },
   "outputs": [],
   "source": [
    "# convertar a string para o formato data\n",
    "\n",
    "datas = pd.to_datetime(datas_s)\n",
    "datas[:10]"
   ]
  },
  {
   "cell_type": "code",
   "execution_count": null,
   "id": "322730a1",
   "metadata": {
    "scrolled": true
   },
   "outputs": [],
   "source": [
    "datas[:-5]"
   ]
  },
  {
   "cell_type": "code",
   "execution_count": null,
   "id": "5a63d748",
   "metadata": {
    "scrolled": true
   },
   "outputs": [],
   "source": [
    "df.head()"
   ]
  },
  {
   "cell_type": "markdown",
   "id": "c613d64c",
   "metadata": {},
   "source": [
    "## convertendo as string para DATAS"
   ]
  },
  {
   "cell_type": "code",
   "execution_count": null,
   "id": "f6964e34",
   "metadata": {
    "scrolled": true
   },
   "outputs": [],
   "source": [
    "datas_str = list(df.columns[4:])\n",
    "datas_str[:10]"
   ]
  },
  {
   "cell_type": "code",
   "execution_count": null,
   "id": "882c365c",
   "metadata": {
    "scrolled": true
   },
   "outputs": [],
   "source": [
    "df2.head()"
   ]
  },
  {
   "cell_type": "code",
   "execution_count": null,
   "id": "5d018f33",
   "metadata": {
    "scrolled": true
   },
   "outputs": [],
   "source": [
    "cols = list(df2.columns[4:])\n",
    "cols[:3]"
   ]
  },
  {
   "cell_type": "code",
   "execution_count": null,
   "id": "11ee6652",
   "metadata": {
    "scrolled": true
   },
   "outputs": [],
   "source": [
    "datas2 = list(datas)\n",
    "datas2[:3]"
   ]
  },
  {
   "cell_type": "code",
   "execution_count": null,
   "id": "7f5b5409",
   "metadata": {
    "scrolled": true
   },
   "outputs": [],
   "source": [
    "from datetime import datetime\n",
    "\n",
    "df2 = df.copy()\n",
    "\n",
    "for col, data in zip(list(df.columns[4:]), datas2):\n",
    "    #print(col, data)\n",
    "    date_time = datetime.strftime(data, \"%Y-%m-%d\")\n",
    "    #print(date_time)\n",
    "    df2.rename(columns={ col: date_time}, inplace = True)\n",
    "\n",
    "df2.head()"
   ]
  },
  {
   "cell_type": "code",
   "execution_count": null,
   "id": "6f88ef15",
   "metadata": {
    "scrolled": true
   },
   "outputs": [],
   "source": [
    "df2.head()"
   ]
  },
  {
   "cell_type": "markdown",
   "id": "f04f6c25",
   "metadata": {},
   "source": [
    "# somar os países com métricas dos estados"
   ]
  },
  {
   "cell_type": "code",
   "execution_count": null,
   "id": "df6f0c0a",
   "metadata": {
    "scrolled": true
   },
   "outputs": [],
   "source": [
    "# somar os países com métricas dos estados\n",
    "print(len(df2))\n",
    "dfm = df2.groupby('Country/Region').sum().reset_index()\n",
    "print(len(dfm))\n",
    "dfm.head(30)"
   ]
  },
  {
   "cell_type": "code",
   "execution_count": null,
   "id": "79da9f4f",
   "metadata": {
    "scrolled": true
   },
   "outputs": [],
   "source": [
    "br = dfm [ dfm['Country/Region'].str.contains(\"Brazil\") ]\n",
    "br"
   ]
  },
  {
   "cell_type": "code",
   "execution_count": null,
   "id": "9b17ef38",
   "metadata": {
    "scrolled": true
   },
   "outputs": [],
   "source": [
    "x = br.columns[4:]\n",
    "x"
   ]
  },
  {
   "cell_type": "code",
   "execution_count": null,
   "id": "a505d256",
   "metadata": {
    "scrolled": false
   },
   "outputs": [],
   "source": [
    "y = br[x].values\n",
    "y = y.ravel()\n",
    "y"
   ]
  },
  {
   "cell_type": "code",
   "execution_count": null,
   "id": "1ba7d38e",
   "metadata": {
    "scrolled": true
   },
   "outputs": [],
   "source": [
    "br.T"
   ]
  },
  {
   "cell_type": "code",
   "execution_count": null,
   "id": "2d914411",
   "metadata": {
    "scrolled": true
   },
   "outputs": [],
   "source": [
    "br2 = br.T[4:]\n",
    "br2.rename(columns={ 23: 'Confirmados'}, inplace = True)\n",
    "br2"
   ]
  },
  {
   "cell_type": "code",
   "execution_count": null,
   "id": "fe2ec002",
   "metadata": {
    "scrolled": true
   },
   "outputs": [],
   "source": [
    "import plotly.express as px\n",
    "\n",
    "df = br2.copy()\n",
    "\n",
    "# plotly\n",
    "fig = px.line(df, x=df.index, y = df.columns)\n",
    "fig.update_layout(template=\"plotly_dark\")\n",
    "fig.show()"
   ]
  },
  {
   "cell_type": "code",
   "execution_count": null,
   "id": "5dbd29d2",
   "metadata": {
    "scrolled": true
   },
   "outputs": [],
   "source": [
    "dfm.head()"
   ]
  },
  {
   "cell_type": "code",
   "execution_count": null,
   "id": "965168bd",
   "metadata": {
    "scrolled": true
   },
   "outputs": [],
   "source": [
    "dfm [dfm['Country/Region'].str.contains(\"US\") ]"
   ]
  },
  {
   "cell_type": "code",
   "execution_count": null,
   "id": "0d77a709",
   "metadata": {
    "scrolled": true
   },
   "outputs": [],
   "source": [
    "top = dfm [ dfm['Country/Region'].str.contains(\"Brazil\") |\n",
    "          dfm['Country/Region'].str.contains(\"USA\") |\n",
    "          dfm['Country/Region'].str.contains(\"India\") |\n",
    "          dfm['Country/Region'].str.contains(\"Russia\") |\n",
    "          dfm['Country/Region'].str.contains(\"US\")\n",
    "         ]\n",
    "top"
   ]
  },
  {
   "cell_type": "code",
   "execution_count": null,
   "id": "de4b0b24",
   "metadata": {
    "scrolled": true
   },
   "outputs": [],
   "source": [
    "top2 = top.T[4:]\n",
    "top2"
   ]
  },
  {
   "cell_type": "code",
   "execution_count": null,
   "id": "e6eb27f2",
   "metadata": {
    "scrolled": true
   },
   "outputs": [],
   "source": [
    "top2.rename(columns={ 23: 'Brasil', 79: 'India', 144: 'Russia', 182: \"US\"}, inplace = True)\n",
    "top2"
   ]
  },
  {
   "cell_type": "code",
   "execution_count": null,
   "id": "db4aa6a6",
   "metadata": {
    "scrolled": true
   },
   "outputs": [],
   "source": [
    "# plotly\n",
    "df = top2.copy()\n",
    "\n",
    "fig = px.line(df, x=df.index, y = df.columns)\n",
    "fig.update_layout(template=\"plotly_dark\")\n",
    "fig.show()"
   ]
  },
  {
   "cell_type": "code",
   "execution_count": null,
   "id": "357a5acd",
   "metadata": {
    "scrolled": true
   },
   "outputs": [],
   "source": [
    "top2.head(8)"
   ]
  },
  {
   "cell_type": "code",
   "execution_count": null,
   "id": "25138a4a",
   "metadata": {
    "scrolled": true
   },
   "outputs": [],
   "source": [
    "top2['Casos_Diarios_US'] = top2['US'] - top2.shift(1)['US']\n",
    "top2.head(8)"
   ]
  },
  {
   "cell_type": "code",
   "execution_count": null,
   "id": "cf9ffb64",
   "metadata": {
    "scrolled": true
   },
   "outputs": [],
   "source": [
    "top2['Casos_Diarios_Brasil'] = top2['Brasil'] - top2.shift(1)['Brasil']\n",
    "top2.head()"
   ]
  },
  {
   "cell_type": "code",
   "execution_count": null,
   "id": "9a2dae6a",
   "metadata": {
    "scrolled": true
   },
   "outputs": [],
   "source": [
    "top2.tail()"
   ]
  },
  {
   "cell_type": "code",
   "execution_count": null,
   "id": "9a02c251",
   "metadata": {
    "scrolled": true
   },
   "outputs": [],
   "source": [
    "# plotly\n",
    "df = top2.copy()\n",
    "\n",
    "y = ['Casos_Diarios_US', 'Casos_Diarios_Brasil']\n",
    "fig = px.line(df, x=df.index, y = y)\n",
    "fig.update_layout(template=\"plotly_dark\")\n",
    "fig.show()"
   ]
  },
  {
   "cell_type": "code",
   "execution_count": null,
   "id": "8046951b",
   "metadata": {
    "scrolled": true
   },
   "outputs": [],
   "source": [
    "df = top2.copy()\n",
    "\n",
    "y =  ['Casos_Diarios_Brasil']\n",
    "fig = px.line(df, x=df.index, y = y)\n",
    "fig.update_layout(template=\"plotly_dark\")\n",
    "fig.show()"
   ]
  },
  {
   "cell_type": "code",
   "execution_count": null,
   "id": "61e96ce1",
   "metadata": {
    "scrolled": true
   },
   "outputs": [],
   "source": [
    "print(len(df))\n",
    "df = df[df['Casos_Diarios_Brasil'] >= 0] \n",
    "print(len(df))"
   ]
  },
  {
   "cell_type": "code",
   "execution_count": null,
   "id": "220738a3",
   "metadata": {
    "scrolled": true
   },
   "outputs": [],
   "source": [
    "\n",
    "y =  ['Casos_Diarios_Brasil']\n",
    "fig = px.line(df, x=df.index, y = y)\n",
    "fig.update_layout(template=\"plotly_dark\")\n",
    "fig.show()"
   ]
  },
  {
   "cell_type": "code",
   "execution_count": null,
   "id": "f1f76fb8",
   "metadata": {
    "scrolled": true
   },
   "outputs": [],
   "source": [
    "# Using plotly.express\n",
    "import plotly.express as px\n",
    "\n",
    "df = px.data.stocks()\n",
    "fig = px.line(df, x='date', y=\"GOOG\")\n",
    "fig.show()"
   ]
  },
  {
   "cell_type": "code",
   "execution_count": null,
   "id": "c3449d7d",
   "metadata": {
    "scrolled": true
   },
   "outputs": [],
   "source": [
    "df.head()"
   ]
  },
  {
   "cell_type": "code",
   "execution_count": null,
   "id": "828d234b",
   "metadata": {
    "scrolled": true
   },
   "outputs": [],
   "source": [
    "df.head()"
   ]
  },
  {
   "cell_type": "code",
   "execution_count": null,
   "id": "2605e01d",
   "metadata": {
    "scrolled": true
   },
   "outputs": [],
   "source": [
    "df = px.data.stocks()"
   ]
  },
  {
   "cell_type": "code",
   "execution_count": null,
   "id": "5184ab9d",
   "metadata": {
    "scrolled": true
   },
   "outputs": [],
   "source": [
    "print(len(df))\n",
    "df = top2.copy()\n",
    "\n",
    "df = df.dropna()\n",
    "\n",
    "print(len(df))"
   ]
  },
  {
   "cell_type": "code",
   "execution_count": null,
   "id": "8d13bd35",
   "metadata": {
    "scrolled": true
   },
   "outputs": [],
   "source": [
    "import numpy as np\n",
    "\n",
    "print(len(df))\n",
    "\n",
    "df = top2.copy()\n",
    "\n",
    "df \n",
    "\n",
    "df = df[df['Casos_Diarios_Brasil'] >= 0] \n",
    "\n",
    "print(len(df))"
   ]
  },
  {
   "cell_type": "code",
   "execution_count": null,
   "id": "961d46a3",
   "metadata": {
    "scrolled": false
   },
   "outputs": [],
   "source": [
    "import plotly.express as px\n",
    "\n",
    "\n",
    "#df = px.data.stocks(indexed=True)-1\n",
    "y =  \"Casos_Diarios_Brasil\"\n",
    "fig = px.bar(df, x=df.index, y=y)\n",
    "\n",
    "fig.update_layout(template=\"plotly_dark\")\n",
    "fig.show()"
   ]
  },
  {
   "cell_type": "code",
   "execution_count": null,
   "id": "f1850a6d",
   "metadata": {
    "scrolled": true
   },
   "outputs": [],
   "source": [
    "df.tail()"
   ]
  },
  {
   "cell_type": "code",
   "execution_count": null,
   "id": "b682b828",
   "metadata": {
    "scrolled": true
   },
   "outputs": [],
   "source": [
    "dfo = df.sort_values(by='Casos_Diarios_Brasil', ascending=False)\n",
    "dfo.head(8)"
   ]
  },
  {
   "cell_type": "code",
   "execution_count": null,
   "id": "ae7ebab9",
   "metadata": {},
   "outputs": [],
   "source": [
    "y =  dfo['Casos_Diarios_Brasil']\n",
    "fig = px.bar(dfo, x=dfo.index[:30], y=y[:30])\n",
    "\n",
    "fig.update_layout(template=\"plotly_dark\")\n",
    "fig.show()"
   ]
  },
  {
   "cell_type": "code",
   "execution_count": null,
   "id": "397c39aa",
   "metadata": {},
   "outputs": [],
   "source": []
  }
 ],
 "metadata": {
  "kernelspec": {
   "display_name": "Python 3 (ipykernel)",
   "language": "python",
   "name": "python3"
  },
  "language_info": {
   "codemirror_mode": {
    "name": "ipython",
    "version": 3
   },
   "file_extension": ".py",
   "mimetype": "text/x-python",
   "name": "python",
   "nbconvert_exporter": "python",
   "pygments_lexer": "ipython3",
   "version": "3.9.7"
  }
 },
 "nbformat": 4,
 "nbformat_minor": 5
}
