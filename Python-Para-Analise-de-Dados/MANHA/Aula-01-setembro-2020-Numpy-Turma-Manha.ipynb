{
 "cells": [
  {
   "cell_type": "markdown",
   "metadata": {},
   "source": [
    "# Aula-01-setembro-2020-Numpy-Turma-Manha"
   ]
  },
  {
   "cell_type": "code",
   "execution_count": 1,
   "metadata": {},
   "outputs": [],
   "source": [
    "import numpy as np"
   ]
  },
  {
   "cell_type": "code",
   "execution_count": 2,
   "metadata": {},
   "outputs": [
    {
     "data": {
      "text/plain": [
       "'1.18.5'"
      ]
     },
     "execution_count": 2,
     "metadata": {},
     "output_type": "execute_result"
    }
   ],
   "source": [
    "np.__version__"
   ]
  },
  {
   "cell_type": "code",
   "execution_count": 3,
   "metadata": {},
   "outputs": [
    {
     "name": "stdout",
     "output_type": "stream",
     "text": [
      "Help on built-in function array in module numpy:\n",
      "\n",
      "array(...)\n",
      "    array(object, dtype=None, copy=True, order='K', subok=False, ndmin=0)\n",
      "    \n",
      "    Create an array.\n",
      "    \n",
      "    Parameters\n",
      "    ----------\n",
      "    object : array_like\n",
      "        An array, any object exposing the array interface, an object whose\n",
      "        __array__ method returns an array, or any (nested) sequence.\n",
      "    dtype : data-type, optional\n",
      "        The desired data-type for the array.  If not given, then the type will\n",
      "        be determined as the minimum type required to hold the objects in the\n",
      "        sequence.\n",
      "    copy : bool, optional\n",
      "        If true (default), then the object is copied.  Otherwise, a copy will\n",
      "        only be made if __array__ returns a copy, if obj is a nested sequence,\n",
      "        or if a copy is needed to satisfy any of the other requirements\n",
      "        (`dtype`, `order`, etc.).\n",
      "    order : {'K', 'A', 'C', 'F'}, optional\n",
      "        Specify the memory layout of the array. If object is not an array, the\n",
      "        newly created array will be in C order (row major) unless 'F' is\n",
      "        specified, in which case it will be in Fortran order (column major).\n",
      "        If object is an array the following holds.\n",
      "    \n",
      "        ===== ========= ===================================================\n",
      "        order  no copy                     copy=True\n",
      "        ===== ========= ===================================================\n",
      "        'K'   unchanged F & C order preserved, otherwise most similar order\n",
      "        'A'   unchanged F order if input is F and not C, otherwise C order\n",
      "        'C'   C order   C order\n",
      "        'F'   F order   F order\n",
      "        ===== ========= ===================================================\n",
      "    \n",
      "        When ``copy=False`` and a copy is made for other reasons, the result is\n",
      "        the same as if ``copy=True``, with some exceptions for `A`, see the\n",
      "        Notes section. The default order is 'K'.\n",
      "    subok : bool, optional\n",
      "        If True, then sub-classes will be passed-through, otherwise\n",
      "        the returned array will be forced to be a base-class array (default).\n",
      "    ndmin : int, optional\n",
      "        Specifies the minimum number of dimensions that the resulting\n",
      "        array should have.  Ones will be pre-pended to the shape as\n",
      "        needed to meet this requirement.\n",
      "    \n",
      "    Returns\n",
      "    -------\n",
      "    out : ndarray\n",
      "        An array object satisfying the specified requirements.\n",
      "    \n",
      "    See Also\n",
      "    --------\n",
      "    empty_like : Return an empty array with shape and type of input.\n",
      "    ones_like : Return an array of ones with shape and type of input.\n",
      "    zeros_like : Return an array of zeros with shape and type of input.\n",
      "    full_like : Return a new array with shape of input filled with value.\n",
      "    empty : Return a new uninitialized array.\n",
      "    ones : Return a new array setting values to one.\n",
      "    zeros : Return a new array setting values to zero.\n",
      "    full : Return a new array of given shape filled with value.\n",
      "    \n",
      "    \n",
      "    Notes\n",
      "    -----\n",
      "    When order is 'A' and `object` is an array in neither 'C' nor 'F' order,\n",
      "    and a copy is forced by a change in dtype, then the order of the result is\n",
      "    not necessarily 'C' as expected. This is likely a bug.\n",
      "    \n",
      "    Examples\n",
      "    --------\n",
      "    >>> np.array([1, 2, 3])\n",
      "    array([1, 2, 3])\n",
      "    \n",
      "    Upcasting:\n",
      "    \n",
      "    >>> np.array([1, 2, 3.0])\n",
      "    array([ 1.,  2.,  3.])\n",
      "    \n",
      "    More than one dimension:\n",
      "    \n",
      "    >>> np.array([[1, 2], [3, 4]])\n",
      "    array([[1, 2],\n",
      "           [3, 4]])\n",
      "    \n",
      "    Minimum dimensions 2:\n",
      "    \n",
      "    >>> np.array([1, 2, 3], ndmin=2)\n",
      "    array([[1, 2, 3]])\n",
      "    \n",
      "    Type provided:\n",
      "    \n",
      "    >>> np.array([1, 2, 3], dtype=complex)\n",
      "    array([ 1.+0.j,  2.+0.j,  3.+0.j])\n",
      "    \n",
      "    Data-type consisting of more than one element:\n",
      "    \n",
      "    >>> x = np.array([(1,2),(3,4)],dtype=[('a','<i4'),('b','<i4')])\n",
      "    >>> x['a']\n",
      "    array([1, 3])\n",
      "    \n",
      "    Creating an array from sub-classes:\n",
      "    \n",
      "    >>> np.array(np.mat('1 2; 3 4'))\n",
      "    array([[1, 2],\n",
      "           [3, 4]])\n",
      "    \n",
      "    >>> np.array(np.mat('1 2; 3 4'), subok=True)\n",
      "    matrix([[1, 2],\n",
      "            [3, 4]])\n",
      "\n"
     ]
    }
   ],
   "source": [
    "help(np.array)"
   ]
  },
  {
   "cell_type": "code",
   "execution_count": 4,
   "metadata": {},
   "outputs": [
    {
     "data": {
      "text/plain": [
       "array([0, 1, 2, 3, 4, 5, 6, 7, 8])"
      ]
     },
     "execution_count": 4,
     "metadata": {},
     "output_type": "execute_result"
    }
   ],
   "source": [
    "v1 = np.array( [0, 1, 2, 3, 4, 5, 6, 7, 8 ] )\n",
    "v1"
   ]
  },
  {
   "cell_type": "code",
   "execution_count": 5,
   "metadata": {},
   "outputs": [
    {
     "data": {
      "text/plain": [
       "numpy.ndarray"
      ]
     },
     "execution_count": 5,
     "metadata": {},
     "output_type": "execute_result"
    }
   ],
   "source": [
    "type(v1)"
   ]
  },
  {
   "cell_type": "code",
   "execution_count": 6,
   "metadata": {},
   "outputs": [
    {
     "data": {
      "text/plain": [
       "array([ 0,  1,  3,  6, 10, 15, 21, 28, 36])"
      ]
     },
     "execution_count": 6,
     "metadata": {},
     "output_type": "execute_result"
    }
   ],
   "source": [
    "v1.cumsum()"
   ]
  },
  {
   "cell_type": "code",
   "execution_count": 7,
   "metadata": {},
   "outputs": [
    {
     "name": "stdout",
     "output_type": "stream",
     "text": [
      "[0 1 2 3 4 5 6 7 8]\n"
     ]
    }
   ],
   "source": [
    "print(v1)"
   ]
  },
  {
   "cell_type": "code",
   "execution_count": 8,
   "metadata": {},
   "outputs": [
    {
     "data": {
      "text/plain": [
       "array([100,   1,   2,   3,   4,   5,   6,   7,   8])"
      ]
     },
     "execution_count": 8,
     "metadata": {},
     "output_type": "execute_result"
    }
   ],
   "source": [
    "v1[0] = 100\n",
    "v1"
   ]
  },
  {
   "cell_type": "code",
   "execution_count": 10,
   "metadata": {},
   "outputs": [
    {
     "ename": "ValueError",
     "evalue": "invalid literal for int() with base 10: 'cct'",
     "output_type": "error",
     "traceback": [
      "\u001b[0;31m---------------------------------------------------------------------------\u001b[0m",
      "\u001b[0;31mValueError\u001b[0m                                Traceback (most recent call last)",
      "\u001b[0;32m<ipython-input-10-458db5d6f861>\u001b[0m in \u001b[0;36m<module>\u001b[0;34m\u001b[0m\n\u001b[0;32m----> 1\u001b[0;31m \u001b[0mv1\u001b[0m\u001b[0;34m[\u001b[0m\u001b[0;36m1\u001b[0m\u001b[0;34m]\u001b[0m \u001b[0;34m=\u001b[0m \u001b[0;34m'cct'\u001b[0m\u001b[0;34m\u001b[0m\u001b[0;34m\u001b[0m\u001b[0m\n\u001b[0m",
      "\u001b[0;31mValueError\u001b[0m: invalid literal for int() with base 10: 'cct'"
     ]
    }
   ],
   "source": [
    "v1[1] = 'cct'"
   ]
  },
  {
   "cell_type": "code",
   "execution_count": null,
   "metadata": {},
   "outputs": [],
   "source": [
    "v1.shape"
   ]
  },
  {
   "cell_type": "code",
   "execution_count": null,
   "metadata": {},
   "outputs": [],
   "source": [
    "v1.dtype"
   ]
  },
  {
   "cell_type": "markdown",
   "metadata": {},
   "source": [
    "# Funções "
   ]
  },
  {
   "cell_type": "code",
   "execution_count": null,
   "metadata": {},
   "outputs": [],
   "source": [
    "# Intervalo - Inicio, Fim (Exclusive), Passo ou Incremento\n",
    "v2 = np.arange(0., 4.5, .5)\n",
    "v2"
   ]
  },
  {
   "cell_type": "code",
   "execution_count": null,
   "metadata": {},
   "outputs": [],
   "source": [
    "type(v2)"
   ]
  },
  {
   "cell_type": "code",
   "execution_count": null,
   "metadata": {},
   "outputs": [],
   "source": [
    "np.shape(v2)"
   ]
  },
  {
   "cell_type": "code",
   "execution_count": null,
   "metadata": {},
   "outputs": [],
   "source": [
    "v2.dtype"
   ]
  },
  {
   "cell_type": "code",
   "execution_count": null,
   "metadata": {},
   "outputs": [],
   "source": [
    "x = np.arange(1, 10, 0.25)\n",
    "x"
   ]
  },
  {
   "cell_type": "code",
   "execution_count": 11,
   "metadata": {},
   "outputs": [
    {
     "data": {
      "text/plain": [
       "array([ True, False,  True,  True])"
      ]
     },
     "execution_count": 11,
     "metadata": {},
     "output_type": "execute_result"
    }
   ],
   "source": [
    "b = np.array([True, False, True, True])\n",
    "b"
   ]
  },
  {
   "cell_type": "code",
   "execution_count": 12,
   "metadata": {},
   "outputs": [
    {
     "data": {
      "text/plain": [
       "dtype('bool')"
      ]
     },
     "execution_count": 12,
     "metadata": {},
     "output_type": "execute_result"
    }
   ],
   "source": [
    "b.dtype"
   ]
  },
  {
   "cell_type": "code",
   "execution_count": 13,
   "metadata": {},
   "outputs": [
    {
     "data": {
      "text/plain": [
       "array(['python', 'R', 'java', 'érika'], dtype='<U6')"
      ]
     },
     "execution_count": 13,
     "metadata": {},
     "output_type": "execute_result"
    }
   ],
   "source": [
    "s = np.array( ['python', 'R', 'java', 'érika'] )\n",
    "s"
   ]
  },
  {
   "cell_type": "markdown",
   "metadata": {},
   "source": [
    "# Matrizes"
   ]
  },
  {
   "cell_type": "code",
   "execution_count": 14,
   "metadata": {},
   "outputs": [
    {
     "data": {
      "text/plain": [
       "array([[1, 2, 3],\n",
       "       [4, 5, 6]])"
      ]
     },
     "execution_count": 14,
     "metadata": {},
     "output_type": "execute_result"
    }
   ],
   "source": [
    "m = np.array( [ [1,2,3], [4,5,6]  ] )\n",
    "m"
   ]
  },
  {
   "cell_type": "code",
   "execution_count": 15,
   "metadata": {},
   "outputs": [
    {
     "data": {
      "text/plain": [
       "(2, 3)"
      ]
     },
     "execution_count": 15,
     "metadata": {},
     "output_type": "execute_result"
    }
   ],
   "source": [
    "m.shape"
   ]
  },
  {
   "cell_type": "code",
   "execution_count": 16,
   "metadata": {},
   "outputs": [
    {
     "data": {
      "text/plain": [
       "array([[1., 1., 1.],\n",
       "       [1., 1., 1.]])"
      ]
     },
     "execution_count": 16,
     "metadata": {},
     "output_type": "execute_result"
    }
   ],
   "source": [
    "m1 = np.ones((2,3))\n",
    "m1"
   ]
  },
  {
   "cell_type": "code",
   "execution_count": 17,
   "metadata": {},
   "outputs": [
    {
     "data": {
      "text/plain": [
       "[[13, 24, 56], [23, 76, 12], [68, 61, 8]]"
      ]
     },
     "execution_count": 17,
     "metadata": {},
     "output_type": "execute_result"
    }
   ],
   "source": [
    "lista = [ [13, 24, 56], [23, 76, 12], [68, 61, 8]  ]\n",
    "lista"
   ]
  },
  {
   "cell_type": "code",
   "execution_count": 18,
   "metadata": {},
   "outputs": [
    {
     "data": {
      "text/plain": [
       "list"
      ]
     },
     "execution_count": 18,
     "metadata": {},
     "output_type": "execute_result"
    }
   ],
   "source": [
    "type(lista)"
   ]
  },
  {
   "cell_type": "code",
   "execution_count": 19,
   "metadata": {},
   "outputs": [
    {
     "data": {
      "text/plain": [
       "matrix([[13, 24, 56],\n",
       "        [23, 76, 12],\n",
       "        [68, 61,  8]])"
      ]
     },
     "execution_count": 19,
     "metadata": {},
     "output_type": "execute_result"
    }
   ],
   "source": [
    "m2 = np.matrix(lista)\n",
    "m2"
   ]
  },
  {
   "cell_type": "code",
   "execution_count": 20,
   "metadata": {},
   "outputs": [
    {
     "data": {
      "text/plain": [
       "(3, 3)"
      ]
     },
     "execution_count": 20,
     "metadata": {},
     "output_type": "execute_result"
    }
   ],
   "source": [
    "m2.shape"
   ]
  },
  {
   "cell_type": "code",
   "execution_count": 21,
   "metadata": {},
   "outputs": [
    {
     "data": {
      "text/plain": [
       "numpy.matrix"
      ]
     },
     "execution_count": 21,
     "metadata": {},
     "output_type": "execute_result"
    }
   ],
   "source": [
    "type(m2)"
   ]
  },
  {
   "cell_type": "code",
   "execution_count": 22,
   "metadata": {},
   "outputs": [
    {
     "data": {
      "text/plain": [
       "9"
      ]
     },
     "execution_count": 22,
     "metadata": {},
     "output_type": "execute_result"
    }
   ],
   "source": [
    "m2.size # numero de elementos"
   ]
  },
  {
   "cell_type": "code",
   "execution_count": 23,
   "metadata": {},
   "outputs": [
    {
     "data": {
      "text/plain": [
       "61"
      ]
     },
     "execution_count": 23,
     "metadata": {},
     "output_type": "execute_result"
    }
   ],
   "source": [
    "m2[2,1]"
   ]
  },
  {
   "cell_type": "code",
   "execution_count": 24,
   "metadata": {},
   "outputs": [
    {
     "data": {
      "text/plain": [
       "matrix([[ 13,  24,  56],\n",
       "        [100,  76,  12],\n",
       "        [ 68,  61,   8]])"
      ]
     },
     "execution_count": 24,
     "metadata": {},
     "output_type": "execute_result"
    }
   ],
   "source": [
    "m2[1,0] = 100\n",
    "m2"
   ]
  },
  {
   "cell_type": "code",
   "execution_count": 25,
   "metadata": {},
   "outputs": [
    {
     "data": {
      "text/plain": [
       "dtype('int64')"
      ]
     },
     "execution_count": 25,
     "metadata": {},
     "output_type": "execute_result"
    }
   ],
   "source": [
    "z = np.array([1,2])\n",
    "z.dtype"
   ]
  },
  {
   "cell_type": "code",
   "execution_count": 26,
   "metadata": {},
   "outputs": [
    {
     "data": {
      "text/plain": [
       "dtype('float64')"
      ]
     },
     "execution_count": 26,
     "metadata": {},
     "output_type": "execute_result"
    }
   ],
   "source": [
    "z = np.array([1.0,2.0])\n",
    "z.dtype"
   ]
  },
  {
   "cell_type": "code",
   "execution_count": 27,
   "metadata": {},
   "outputs": [
    {
     "data": {
      "text/plain": [
       "dtype('float32')"
      ]
     },
     "execution_count": 27,
     "metadata": {},
     "output_type": "execute_result"
    }
   ],
   "source": [
    "z = np.array([1,2], dtype=np.float32)\n",
    "z.dtype"
   ]
  },
  {
   "cell_type": "markdown",
   "metadata": {},
   "source": [
    "### Método Random()"
   ]
  },
  {
   "cell_type": "code",
   "execution_count": 28,
   "metadata": {},
   "outputs": [
    {
     "data": {
      "text/plain": [
       "array([0.62813991, 0.45657807, 0.46938097, 0.83931671, 0.08174096,\n",
       "       0.14671445, 0.80637197, 0.18992328, 0.83743415, 0.80319935])"
      ]
     },
     "execution_count": 28,
     "metadata": {},
     "output_type": "execute_result"
    }
   ],
   "source": [
    "# 10 números aleatórios\n",
    "x = np.random.rand(10)\n",
    "x"
   ]
  },
  {
   "cell_type": "code",
   "execution_count": 29,
   "metadata": {},
   "outputs": [],
   "source": [
    "import matplotlib.pyplot as plt\n",
    "%matplotlib inline"
   ]
  },
  {
   "cell_type": "code",
   "execution_count": 30,
   "metadata": {},
   "outputs": [
    {
     "data": {
      "image/png": "[encoded data removed]",
      "text/plain": [
       "<Figure size 432x288 with 1 Axes>"
      ]
     },
     "metadata": {
      "needs_background": "light"
     },
     "output_type": "display_data"
    }
   ],
   "source": [
    "plt.show(plt.hist(x))"
   ]
  },
  {
   "cell_type": "code",
   "execution_count": 31,
   "metadata": {},
   "outputs": [],
   "source": [
    "x = np.random.rand(10000)"
   ]
  },
  {
   "cell_type": "code",
   "execution_count": 32,
   "metadata": {},
   "outputs": [
    {
     "data": {
      "image/png": "[encoded data removed]",
      "text/plain": [
       "<Figure size 432x288 with 1 Axes>"
      ]
     },
     "metadata": {
      "needs_background": "light"
     },
     "output_type": "display_data"
    }
   ],
   "source": [
    "plt.show(plt.hist(x))"
   ]
  },
  {
   "cell_type": "code",
   "execution_count": 33,
   "metadata": {},
   "outputs": [
    {
     "data": {
      "text/plain": [
       "array([0.36786047, 0.08144455, 0.33337257, 0.0412542 , 0.30509273,\n",
       "       0.6014967 , 0.65102582, 0.83026596, 0.39598027, 0.54571664,\n",
       "       0.27863985, 0.98809189, 0.46138319, 0.39234486, 0.68987368,\n",
       "       0.48497615, 0.57619497, 0.73071466, 0.80267159, 0.70641612])"
      ]
     },
     "execution_count": 33,
     "metadata": {},
     "output_type": "execute_result"
    }
   ],
   "source": [
    "x[:20]"
   ]
  },
  {
   "cell_type": "code",
   "execution_count": 34,
   "metadata": {},
   "outputs": [],
   "source": [
    "x = np.random.randn(100000) # distribuicao normal"
   ]
  },
  {
   "cell_type": "code",
   "execution_count": 35,
   "metadata": {},
   "outputs": [
    {
     "data": {
      "text/plain": [
       "array([ 0.49341166,  1.15434072,  0.96920172,  0.04547627,  1.13055909,\n",
       "        0.60967428,  1.18651882, -0.08299358, -1.5051436 ,  2.70895906,\n",
       "       -2.31236856,  0.54667956,  1.58559245,  1.35578449, -0.58904176,\n",
       "        0.21509599, -1.95724915,  0.7812032 ,  1.40260506, -0.5219458 ])"
      ]
     },
     "execution_count": 35,
     "metadata": {},
     "output_type": "execute_result"
    }
   ],
   "source": [
    "x[:20]"
   ]
  },
  {
   "cell_type": "code",
   "execution_count": 36,
   "metadata": {},
   "outputs": [
    {
     "data": {
      "image/png": "[encoded data removed]",
      "text/plain": [
       "<Figure size 432x288 with 1 Axes>"
      ]
     },
     "metadata": {
      "needs_background": "light"
     },
     "output_type": "display_data"
    }
   ],
   "source": [
    "plt.show(plt.hist(x))"
   ]
  },
  {
   "cell_type": "code",
   "execution_count": 37,
   "metadata": {},
   "outputs": [],
   "source": [
    "url = 'https://raw.githubusercontent.com/vladimiralencar/Alunos-UEPB-TopicosEspeciaisEmBancoDeDados/master/Python-Para-Analise-de-Dados/iris.csv'"
   ]
  },
  {
   "cell_type": "code",
   "execution_count": 38,
   "metadata": {},
   "outputs": [
    {
     "name": "stdout",
     "output_type": "stream",
     "text": [
      "[[5.1 3.5 1.4 0.2]\n",
      " [4.9 3.  1.4 0.2]\n",
      " [4.7 3.2 1.3 0.2]\n",
      " [4.6 3.1 1.5 0.2]\n",
      " [5.  3.6 1.4 0.2]\n",
      " [5.4 3.9 1.7 0.4]\n",
      " [4.6 3.4 1.4 0.3]\n",
      " [5.  3.4 1.5 0.2]\n",
      " [4.4 2.9 1.4 0.2]\n",
      " [4.9 3.1 1.5 0.1]\n",
      " [5.4 3.7 1.5 0.2]\n",
      " [4.8 3.4 1.6 0.2]\n",
      " [4.8 3.  1.4 0.1]\n",
      " [4.3 3.  1.1 0.1]\n",
      " [5.8 4.  1.2 0.2]\n",
      " [5.7 4.4 1.5 0.4]\n",
      " [5.4 3.9 1.3 0.4]\n",
      " [5.1 3.5 1.4 0.3]\n",
      " [5.7 3.8 1.7 0.3]\n",
      " [5.1 3.8 1.5 0.3]\n",
      " [5.4 3.4 1.7 0.2]\n",
      " [5.1 3.7 1.5 0.4]\n",
      " [4.6 3.6 1.  0.2]\n",
      " [5.1 3.3 1.7 0.5]\n",
      " [4.8 3.4 1.9 0.2]\n",
      " [5.  3.  1.6 0.2]\n",
      " [5.  3.4 1.6 0.4]\n",
      " [5.2 3.5 1.5 0.2]\n",
      " [5.2 3.4 1.4 0.2]\n",
      " [4.7 3.2 1.6 0.2]\n",
      " [4.8 3.1 1.6 0.2]\n",
      " [5.4 3.4 1.5 0.4]\n",
      " [5.2 4.1 1.5 0.1]\n",
      " [5.5 4.2 1.4 0.2]\n",
      " [4.9 3.1 1.5 0.1]\n",
      " [5.  3.2 1.2 0.2]\n",
      " [5.5 3.5 1.3 0.2]\n",
      " [4.9 3.1 1.5 0.1]\n",
      " [4.4 3.  1.3 0.2]\n",
      " [5.1 3.4 1.5 0.2]\n",
      " [5.  3.5 1.3 0.3]\n",
      " [4.5 2.3 1.3 0.3]\n",
      " [4.4 3.2 1.3 0.2]\n",
      " [5.  3.5 1.6 0.6]\n",
      " [5.1 3.8 1.9 0.4]\n",
      " [4.8 3.  1.4 0.3]\n",
      " [5.1 3.8 1.6 0.2]\n",
      " [4.6 3.2 1.4 0.2]\n",
      " [5.3 3.7 1.5 0.2]\n",
      " [5.  3.3 1.4 0.2]\n",
      " [7.  3.2 4.7 1.4]\n",
      " [6.4 3.2 4.5 1.5]\n",
      " [6.9 3.1 4.9 1.5]\n",
      " [5.5 2.3 4.  1.3]\n",
      " [6.5 2.8 4.6 1.5]\n",
      " [5.7 2.8 4.5 1.3]\n",
      " [6.3 3.3 4.7 1.6]\n",
      " [4.9 2.4 3.3 1. ]\n",
      " [6.6 2.9 4.6 1.3]\n",
      " [5.2 2.7 3.9 1.4]\n",
      " [5.  2.  3.5 1. ]\n",
      " [5.9 3.  4.2 1.5]\n",
      " [6.  2.2 4.  1. ]\n",
      " [6.1 2.9 4.7 1.4]\n",
      " [5.6 2.9 3.6 1.3]\n",
      " [6.7 3.1 4.4 1.4]\n",
      " [5.6 3.  4.5 1.5]\n",
      " [5.8 2.7 4.1 1. ]\n",
      " [6.2 2.2 4.5 1.5]\n",
      " [5.6 2.5 3.9 1.1]\n",
      " [5.9 3.2 4.8 1.8]\n",
      " [6.1 2.8 4.  1.3]\n",
      " [6.3 2.5 4.9 1.5]\n",
      " [6.1 2.8 4.7 1.2]\n",
      " [6.4 2.9 4.3 1.3]\n",
      " [6.6 3.  4.4 1.4]\n",
      " [6.8 2.8 4.8 1.4]\n",
      " [6.7 3.  5.  1.7]\n",
      " [6.  2.9 4.5 1.5]\n",
      " [5.7 2.6 3.5 1. ]\n",
      " [5.5 2.4 3.8 1.1]\n",
      " [5.5 2.4 3.7 1. ]\n",
      " [5.8 2.7 3.9 1.2]\n",
      " [6.  2.7 5.1 1.6]\n",
      " [5.4 3.  4.5 1.5]\n",
      " [6.  3.4 4.5 1.6]\n",
      " [6.7 3.1 4.7 1.5]\n",
      " [6.3 2.3 4.4 1.3]\n",
      " [5.6 3.  4.1 1.3]\n",
      " [5.5 2.5 4.  1.3]\n",
      " [5.5 2.6 4.4 1.2]\n",
      " [6.1 3.  4.6 1.4]\n",
      " [5.8 2.6 4.  1.2]\n",
      " [5.  2.3 3.3 1. ]\n",
      " [5.6 2.7 4.2 1.3]\n",
      " [5.7 3.  4.2 1.2]\n",
      " [5.7 2.9 4.2 1.3]\n",
      " [6.2 2.9 4.3 1.3]\n",
      " [5.1 2.5 3.  1.1]\n",
      " [5.7 2.8 4.1 1.3]\n",
      " [6.3 3.3 6.  2.5]\n",
      " [5.8 2.7 5.1 1.9]\n",
      " [7.1 3.  5.9 2.1]\n",
      " [6.3 2.9 5.6 1.8]\n",
      " [6.5 3.  5.8 2.2]\n",
      " [7.6 3.  6.6 2.1]\n",
      " [4.9 2.5 4.5 1.7]\n",
      " [7.3 2.9 6.3 1.8]\n",
      " [6.7 2.5 5.8 1.8]\n",
      " [7.2 3.6 6.1 2.5]\n",
      " [6.5 3.2 5.1 2. ]\n",
      " [6.4 2.7 5.3 1.9]\n",
      " [6.8 3.  5.5 2.1]\n",
      " [5.7 2.5 5.  2. ]\n",
      " [5.8 2.8 5.1 2.4]\n",
      " [6.4 3.2 5.3 2.3]\n",
      " [6.5 3.  5.5 1.8]\n",
      " [7.7 3.8 6.7 2.2]\n",
      " [7.7 2.6 6.9 2.3]\n",
      " [6.  2.2 5.  1.5]\n",
      " [6.9 3.2 5.7 2.3]\n",
      " [5.6 2.8 4.9 2. ]\n",
      " [7.7 2.8 6.7 2. ]\n",
      " [6.3 2.7 4.9 1.8]\n",
      " [6.7 3.3 5.7 2.1]\n",
      " [7.2 3.2 6.  1.8]\n",
      " [6.2 2.8 4.8 1.8]\n",
      " [6.1 3.  4.9 1.8]\n",
      " [6.4 2.8 5.6 2.1]\n",
      " [7.2 3.  5.8 1.6]\n",
      " [7.4 2.8 6.1 1.9]\n",
      " [7.9 3.8 6.4 2. ]\n",
      " [6.4 2.8 5.6 2.2]\n",
      " [6.3 2.8 5.1 1.5]\n",
      " [6.1 2.6 5.6 1.4]\n",
      " [7.7 3.  6.1 2.3]\n",
      " [6.3 3.4 5.6 2.4]\n",
      " [6.4 3.1 5.5 1.8]\n",
      " [6.  3.  4.8 1.8]\n",
      " [6.9 3.1 5.4 2.1]\n",
      " [6.7 3.1 5.6 2.4]\n",
      " [6.9 3.1 5.1 2.3]\n",
      " [5.8 2.7 5.1 1.9]\n",
      " [6.8 3.2 5.9 2.3]\n",
      " [6.7 3.3 5.7 2.5]\n",
      " [6.7 3.  5.2 2.3]\n",
      " [6.3 2.5 5.  1.9]\n",
      " [6.5 3.  5.2 2. ]\n",
      " [6.2 3.4 5.4 2.3]\n",
      " [5.9 3.  5.1 1.8]]\n"
     ]
    }
   ],
   "source": [
    "f = np.loadtxt(url, delimiter=',', usecols=(0,1,2,3), skiprows=1)\n",
    "print(f)"
   ]
  },
  {
   "cell_type": "code",
   "execution_count": 39,
   "metadata": {},
   "outputs": [
    {
     "data": {
      "text/plain": [
       "(150, 4)"
      ]
     },
     "execution_count": 39,
     "metadata": {},
     "output_type": "execute_result"
    }
   ],
   "source": [
    "f.shape"
   ]
  },
  {
   "cell_type": "code",
   "execution_count": 40,
   "metadata": {},
   "outputs": [
    {
     "data": {
      "text/plain": [
       "numpy.ndarray"
      ]
     },
     "execution_count": 40,
     "metadata": {},
     "output_type": "execute_result"
    }
   ],
   "source": [
    "type(f)"
   ]
  },
  {
   "cell_type": "code",
   "execution_count": 44,
   "metadata": {},
   "outputs": [
    {
     "name": "stdout",
     "output_type": "stream",
     "text": [
      "[5.1 4.9 4.7 4.6 5.  5.4 4.6 5.  4.4 4.9]\n"
     ]
    }
   ],
   "source": [
    "var1, var2 = np.loadtxt(url, delimiter=',', usecols=(0,1), skiprows=1, unpack=True)\n",
    "print(var1[:10])"
   ]
  },
  {
   "cell_type": "code",
   "execution_count": 45,
   "metadata": {},
   "outputs": [
    {
     "name": "stdout",
     "output_type": "stream",
     "text": [
      "[3.5 3.  3.2 3.1 3.6 3.9 3.4 3.4 2.9 3.1]\n"
     ]
    }
   ],
   "source": [
    "print(var2[:10])"
   ]
  },
  {
   "cell_type": "code",
   "execution_count": 57,
   "metadata": {},
   "outputs": [
    {
     "data": {
      "image/png": "[encoded data removed]",
      "text/plain": [
       "<Figure size 432x288 with 1 Axes>"
      ]
     },
     "metadata": {
      "needs_background": "light"
     },
     "output_type": "display_data"
    }
   ],
   "source": [
    "plt.show(plt.plot(var1, var2, 'o', markersize=8, alpha=0.75))"
   ]
  },
  {
   "cell_type": "markdown",
   "metadata": {},
   "source": [
    "# Estatística - Funções"
   ]
  },
  {
   "cell_type": "code",
   "execution_count": 70,
   "metadata": {},
   "outputs": [],
   "source": [
    "a = np.array([15, 34, -10, 100, 50, 70, 30, 10, 10, 10, 20, 20, 20])"
   ]
  },
  {
   "cell_type": "code",
   "execution_count": 71,
   "metadata": {},
   "outputs": [
    {
     "data": {
      "text/plain": [
       "array([ 15,  34, -10, 100,  50,  70,  30,  10,  10,  10,  20,  20,  20])"
      ]
     },
     "execution_count": 71,
     "metadata": {},
     "output_type": "execute_result"
    }
   ],
   "source": [
    "a"
   ]
  },
  {
   "cell_type": "code",
   "execution_count": 72,
   "metadata": {},
   "outputs": [
    {
     "data": {
      "text/plain": [
       "dtype('int64')"
      ]
     },
     "execution_count": 72,
     "metadata": {},
     "output_type": "execute_result"
    }
   ],
   "source": [
    "a.dtype"
   ]
  },
  {
   "cell_type": "code",
   "execution_count": 73,
   "metadata": {},
   "outputs": [
    {
     "data": {
      "text/plain": [
       "29.153846153846153"
      ]
     },
     "execution_count": 73,
     "metadata": {},
     "output_type": "execute_result"
    }
   ],
   "source": [
    "np.mean(a)"
   ]
  },
  {
   "cell_type": "code",
   "execution_count": 74,
   "metadata": {},
   "outputs": [
    {
     "data": {
      "text/plain": [
       "29.153846153846153"
      ]
     },
     "execution_count": 74,
     "metadata": {},
     "output_type": "execute_result"
    }
   ],
   "source": [
    "media = np.mean(a)\n",
    "media"
   ]
  },
  {
   "cell_type": "code",
   "execution_count": 75,
   "metadata": {},
   "outputs": [
    {
     "data": {
      "text/plain": [
       "28.054469420002754"
      ]
     },
     "execution_count": 75,
     "metadata": {},
     "output_type": "execute_result"
    }
   ],
   "source": [
    "# desvio padrão\n",
    "np.std(a)"
   ]
  },
  {
   "cell_type": "code",
   "execution_count": 76,
   "metadata": {},
   "outputs": [
    {
     "data": {
      "image/png": "[encoded data removed]",
      "text/plain": [
       "<Figure size 432x288 with 1 Axes>"
      ]
     },
     "metadata": {
      "needs_background": "light"
     },
     "output_type": "display_data"
    }
   ],
   "source": [
    "plt.show(plt.hist(a))"
   ]
  },
  {
   "cell_type": "code",
   "execution_count": 77,
   "metadata": {},
   "outputs": [
    {
     "data": {
      "text/plain": [
       "787.0532544378696"
      ]
     },
     "execution_count": 77,
     "metadata": {},
     "output_type": "execute_result"
    }
   ],
   "source": [
    "# variancia\n",
    "np.var(a)"
   ]
  },
  {
   "cell_type": "code",
   "execution_count": 78,
   "metadata": {},
   "outputs": [
    {
     "data": {
      "text/plain": [
       "array([1, 2, 3, 4, 5, 6, 7, 8, 9])"
      ]
     },
     "execution_count": 78,
     "metadata": {},
     "output_type": "execute_result"
    }
   ],
   "source": [
    "d = np.arange(1,10) # exclusive 10 - 1\n",
    "d"
   ]
  },
  {
   "cell_type": "code",
   "execution_count": 79,
   "metadata": {},
   "outputs": [
    {
     "data": {
      "text/plain": [
       "45"
      ]
     },
     "execution_count": 79,
     "metadata": {},
     "output_type": "execute_result"
    }
   ],
   "source": [
    "np.sum(d)"
   ]
  },
  {
   "cell_type": "code",
   "execution_count": 80,
   "metadata": {},
   "outputs": [
    {
     "data": {
      "text/plain": [
       "362880"
      ]
     },
     "execution_count": 80,
     "metadata": {},
     "output_type": "execute_result"
    }
   ],
   "source": [
    "np.prod(d)"
   ]
  },
  {
   "cell_type": "code",
   "execution_count": 81,
   "metadata": {},
   "outputs": [
    {
     "data": {
      "text/plain": [
       "array([ 1,  3,  6, 10, 15, 21, 28, 36, 45])"
      ]
     },
     "execution_count": 81,
     "metadata": {},
     "output_type": "execute_result"
    }
   ],
   "source": [
    "# soma acumulada\n",
    "np.cumsum(d)"
   ]
  },
  {
   "cell_type": "code",
   "execution_count": 82,
   "metadata": {},
   "outputs": [
    {
     "data": {
      "text/plain": [
       "(400, 2)"
      ]
     },
     "execution_count": 82,
     "metadata": {},
     "output_type": "execute_result"
    }
   ],
   "source": [
    "a = np.random.randn(400, 2)\n",
    "a.shape"
   ]
  },
  {
   "cell_type": "code",
   "execution_count": 83,
   "metadata": {},
   "outputs": [
    {
     "data": {
      "text/plain": [
       "array([[-0.08896297,  1.2855831 ],\n",
       "       [-0.99628991,  1.21655525]])"
      ]
     },
     "execution_count": 83,
     "metadata": {},
     "output_type": "execute_result"
    }
   ],
   "source": [
    "a[:2]"
   ]
  },
  {
   "cell_type": "code",
   "execution_count": 84,
   "metadata": {},
   "outputs": [
    {
     "data": {
      "text/plain": [
       "-0.042545512981045024"
      ]
     },
     "execution_count": 84,
     "metadata": {},
     "output_type": "execute_result"
    }
   ],
   "source": [
    "m = np.mean(a)\n",
    "m"
   ]
  },
  {
   "cell_type": "code",
   "execution_count": 85,
   "metadata": {},
   "outputs": [
    {
     "data": {
      "text/plain": [
       "array([-0.01524503, -0.069846  ])"
      ]
     },
     "execution_count": 85,
     "metadata": {},
     "output_type": "execute_result"
    }
   ],
   "source": [
    "m0 = a.mean(0)\n",
    "m0"
   ]
  },
  {
   "cell_type": "code",
   "execution_count": 89,
   "metadata": {},
   "outputs": [
    {
     "data": {
      "text/plain": [
       "array([-0.08896297, -0.99628991, -0.03442457, -0.71752453, -0.49862143,\n",
       "        0.40981241,  0.48650734, -0.46942676,  0.27730296,  0.80098716,\n",
       "       -0.47342642, -1.42349899,  1.34806072,  0.81256941, -0.8620713 ,\n",
       "        0.20420516, -0.47119176, -0.35680977,  0.55928944, -0.48230898,\n",
       "        0.28746628,  1.41434547, -1.85735815,  0.36335563, -0.08098297,\n",
       "        1.82292957, -0.80330311, -0.79074767, -1.26935369, -0.52012053,\n",
       "        0.2257878 ,  0.02583964,  0.11730608,  0.43906555, -0.23337036,\n",
       "       -0.69119394, -0.34690569,  1.38214369, -0.17557417, -1.18555883,\n",
       "       -1.91996682,  1.60219474,  0.52833372,  0.54299085, -0.38552914,\n",
       "       -2.75845001, -1.17713382,  1.07559986, -2.32405285,  1.76577726,\n",
       "       -0.55289749, -0.32926781, -0.66448778,  1.20968307,  0.79819974,\n",
       "       -1.90323581, -1.78552237, -0.90054357, -0.34023549,  0.96784572,\n",
       "        0.18415518, -1.71908345,  0.75980014, -0.3143959 , -0.08202565,\n",
       "       -0.04216491, -0.97966231,  0.38336049,  0.12223894,  0.96286368,\n",
       "       -1.27842221,  0.39629752, -1.78173792, -0.58591618,  0.95227984,\n",
       "       -0.56456123,  3.31894431, -0.2327632 ,  0.65542765, -1.07633133,\n",
       "        0.38862499,  0.82620214,  0.47062181,  0.53377822,  0.00502225,\n",
       "        1.37086598, -0.19036965, -0.63531557, -0.92672333,  0.40496325,\n",
       "       -0.08346725,  1.4003971 , -0.88069367, -1.30880106,  0.60842382,\n",
       "       -1.13076713,  0.1826006 , -0.65578418, -2.05613491, -0.45132757,\n",
       "        0.95741848,  0.89113194,  0.36893033, -0.27857811, -0.0165409 ,\n",
       "        1.38898112,  0.7593468 ,  1.40554648,  0.20596416,  0.59292029,\n",
       "        2.04109018,  0.39017339,  0.30157292,  0.1488681 , -0.67094704,\n",
       "       -1.24530588, -0.09183606,  2.07654014,  0.73212552, -0.00765431,\n",
       "        0.04493141, -0.31209694,  0.36473542, -1.24122361,  0.02988457,\n",
       "       -3.39665508, -2.2641536 , -0.92944785,  1.83651088,  0.49656535,\n",
       "       -0.53601453,  1.14753233, -0.68491051, -0.17396628,  0.41825515,\n",
       "        0.21252997,  0.26108618, -1.02585486,  2.53849299,  0.58202696,\n",
       "       -0.05165561, -0.45174709, -0.30949401, -0.57811698,  0.18039694,\n",
       "        0.49180664, -0.381137  ,  1.26844531, -0.12556808,  1.27040328,\n",
       "        1.37422827, -0.7478236 ,  0.21240183,  0.05082903,  0.21230662,\n",
       "       -0.17658372,  0.2413321 , -1.4512537 , -1.33017574, -1.34737099,\n",
       "       -1.12746425,  1.41817774,  1.49030725,  1.06631803,  1.21607229,\n",
       "        1.4885019 ,  0.37110263,  0.55160444, -1.91676295, -0.89639858,\n",
       "        0.51419037,  0.5738549 , -0.61175248, -0.12773118, -0.97034583,\n",
       "       -0.11518977, -0.07704008, -0.20823596,  0.89008646, -0.11324156,\n",
       "        0.77894665,  0.93881405,  0.32904321,  1.19693699, -0.68918795,\n",
       "        0.05736148, -0.976513  , -0.1140565 ,  1.08775946, -0.59005323,\n",
       "       -2.16431493,  1.18168587, -0.79226024,  1.11595221, -1.12034257,\n",
       "        2.41069957, -1.69453769, -0.15392141, -1.19529872,  1.05526483,\n",
       "       -0.63981145,  1.39536062, -0.69168936,  0.06832387,  1.26699965,\n",
       "       -0.92291076,  0.9839584 , -0.90095652, -0.53368681,  0.80686437,\n",
       "       -0.65331697,  0.36509829, -0.39641029, -1.37638555,  0.4141074 ,\n",
       "       -0.57976013, -1.13157183, -1.2163263 ,  0.7553763 , -0.68755919,\n",
       "        1.06975471,  0.40217524, -0.23370566, -0.19337451, -0.79751747,\n",
       "       -1.01533368, -0.74067565, -0.70575521,  0.43841783,  0.52596379,\n",
       "       -0.77172742, -2.04448161,  0.46193405, -2.24750972, -1.43618213,\n",
       "       -0.47421208,  0.22073216,  0.98525773,  0.13725243, -1.79395756,\n",
       "       -1.90160869,  0.87461783,  0.31156614,  1.07029222, -0.6631894 ,\n",
       "       -1.1140649 ,  0.5209052 , -1.50936943, -0.01386233, -0.44835123,\n",
       "        0.42340409, -1.36140501,  1.7322169 ,  1.85342192, -1.19872589,\n",
       "        0.36682074,  0.69144319, -0.15501374, -0.61724403, -0.24660085,\n",
       "       -0.19590041, -0.87413294,  0.97744922, -0.76742194,  0.20521795,\n",
       "       -0.96835695,  2.081304  , -0.03532837, -2.02539223, -1.53110727,\n",
       "        0.49822217, -0.42293933,  0.46323893,  1.52040264,  0.68222237,\n",
       "       -0.01709417,  1.50789459,  0.15274143, -0.38633795, -0.43442659,\n",
       "        0.35977974,  0.10994393,  0.14643599,  1.07783976, -1.07802378,\n",
       "        0.71974486, -0.033623  ,  0.80733156, -0.06581134,  0.04628813,\n",
       "       -0.39104057,  0.71350532,  0.12215295,  0.03023434,  0.50553466,\n",
       "       -0.84311353,  0.03607727,  0.89929888,  1.1488878 , -0.33752264,\n",
       "       -1.04855686,  0.47900072, -0.88404105, -1.49742756,  0.57657015,\n",
       "       -0.77682728,  0.43424601, -0.34209781,  1.57731845,  2.59099186,\n",
       "        0.61843805, -1.87139853, -1.14737307,  0.11826155, -2.00855875,\n",
       "       -1.31532117, -0.89508956, -1.41657898,  0.22234693, -0.40808733,\n",
       "       -0.77232336, -0.43137565, -0.09335466, -0.61951439, -0.57434902,\n",
       "       -0.86195049,  2.5824003 ,  2.29856769,  1.38228161, -0.12035557,\n",
       "        0.0163426 ,  1.37301397, -2.41954967,  2.21898328,  0.20699936,\n",
       "       -0.44426707, -0.28300455, -0.65090364,  0.56035625, -0.28731644,\n",
       "        0.21891034,  1.33869336, -0.14964721, -0.90614327, -2.24252265,\n",
       "       -0.20738837, -1.06225013,  0.12713545,  0.30906346,  1.43236265,\n",
       "       -0.72362812, -0.07515363,  0.89529865,  0.2722238 ,  0.55306342,\n",
       "       -0.74905904,  0.38863431, -1.0298591 ,  0.2133172 ,  1.68415199,\n",
       "       -0.44589025,  1.81781619,  0.51918159,  0.07778738,  1.1458519 ,\n",
       "       -1.03534791,  1.16038312,  0.56175461, -1.23505705,  0.57934597,\n",
       "        0.30825931, -1.12645226, -0.06608052,  0.22322695,  1.47223396,\n",
       "       -0.75841857, -0.41820033, -0.352581  ,  1.21246646,  1.63046974,\n",
       "        0.73486422,  0.65345383, -0.52145511,  0.97282551, -1.636688  ,\n",
       "        0.22328364, -1.54413184,  1.20611709, -0.70539712,  0.2020315 ,\n",
       "        1.45243195,  1.0273714 , -0.63884557, -0.19580227,  0.12839904,\n",
       "       -0.63746679,  0.08576558,  0.84450437,  2.23815724,  0.9410336 ])"
      ]
     },
     "execution_count": 89,
     "metadata": {},
     "output_type": "execute_result"
    }
   ],
   "source": [
    "a[:, 0] # todas a linhas da coluna 0"
   ]
  },
  {
   "cell_type": "code",
   "execution_count": 90,
   "metadata": {},
   "outputs": [
    {
     "data": {
      "text/plain": [
       "array([-0.08896297, -0.99628991, -0.03442457, -0.71752453, -0.49862143,\n",
       "        0.40981241,  0.48650734, -0.46942676,  0.27730296,  0.80098716,\n",
       "       -0.47342642, -1.42349899,  1.34806072,  0.81256941, -0.8620713 ,\n",
       "        0.20420516, -0.47119176, -0.35680977,  0.55928944, -0.48230898,\n",
       "        0.28746628,  1.41434547, -1.85735815,  0.36335563, -0.08098297,\n",
       "        1.82292957, -0.80330311, -0.79074767, -1.26935369, -0.52012053,\n",
       "        0.2257878 ,  0.02583964,  0.11730608,  0.43906555, -0.23337036,\n",
       "       -0.69119394, -0.34690569,  1.38214369, -0.17557417, -1.18555883,\n",
       "       -1.91996682,  1.60219474,  0.52833372,  0.54299085, -0.38552914,\n",
       "       -2.75845001, -1.17713382,  1.07559986, -2.32405285,  1.76577726,\n",
       "       -0.55289749, -0.32926781, -0.66448778,  1.20968307,  0.79819974,\n",
       "       -1.90323581, -1.78552237, -0.90054357, -0.34023549,  0.96784572,\n",
       "        0.18415518, -1.71908345,  0.75980014, -0.3143959 , -0.08202565,\n",
       "       -0.04216491, -0.97966231,  0.38336049,  0.12223894,  0.96286368,\n",
       "       -1.27842221,  0.39629752, -1.78173792, -0.58591618,  0.95227984,\n",
       "       -0.56456123,  3.31894431, -0.2327632 ,  0.65542765, -1.07633133,\n",
       "        0.38862499,  0.82620214,  0.47062181,  0.53377822,  0.00502225,\n",
       "        1.37086598, -0.19036965, -0.63531557, -0.92672333,  0.40496325,\n",
       "       -0.08346725,  1.4003971 , -0.88069367, -1.30880106,  0.60842382,\n",
       "       -1.13076713,  0.1826006 , -0.65578418, -2.05613491, -0.45132757,\n",
       "        0.95741848,  0.89113194,  0.36893033, -0.27857811, -0.0165409 ,\n",
       "        1.38898112,  0.7593468 ,  1.40554648,  0.20596416,  0.59292029,\n",
       "        2.04109018,  0.39017339,  0.30157292,  0.1488681 , -0.67094704,\n",
       "       -1.24530588, -0.09183606,  2.07654014,  0.73212552, -0.00765431,\n",
       "        0.04493141, -0.31209694,  0.36473542, -1.24122361,  0.02988457,\n",
       "       -3.39665508, -2.2641536 , -0.92944785,  1.83651088,  0.49656535,\n",
       "       -0.53601453,  1.14753233, -0.68491051, -0.17396628,  0.41825515,\n",
       "        0.21252997,  0.26108618, -1.02585486,  2.53849299,  0.58202696,\n",
       "       -0.05165561, -0.45174709, -0.30949401, -0.57811698,  0.18039694,\n",
       "        0.49180664, -0.381137  ,  1.26844531, -0.12556808,  1.27040328,\n",
       "        1.37422827, -0.7478236 ,  0.21240183,  0.05082903,  0.21230662,\n",
       "       -0.17658372,  0.2413321 , -1.4512537 , -1.33017574, -1.34737099,\n",
       "       -1.12746425,  1.41817774,  1.49030725,  1.06631803,  1.21607229,\n",
       "        1.4885019 ,  0.37110263,  0.55160444, -1.91676295, -0.89639858,\n",
       "        0.51419037,  0.5738549 , -0.61175248, -0.12773118, -0.97034583,\n",
       "       -0.11518977, -0.07704008, -0.20823596,  0.89008646, -0.11324156,\n",
       "        0.77894665,  0.93881405,  0.32904321,  1.19693699, -0.68918795,\n",
       "        0.05736148, -0.976513  , -0.1140565 ,  1.08775946, -0.59005323,\n",
       "       -2.16431493,  1.18168587, -0.79226024,  1.11595221, -1.12034257,\n",
       "        2.41069957, -1.69453769, -0.15392141, -1.19529872,  1.05526483,\n",
       "       -0.63981145,  1.39536062, -0.69168936,  0.06832387,  1.26699965,\n",
       "       -0.92291076,  0.9839584 , -0.90095652, -0.53368681,  0.80686437,\n",
       "       -0.65331697,  0.36509829, -0.39641029, -1.37638555,  0.4141074 ,\n",
       "       -0.57976013, -1.13157183, -1.2163263 ,  0.7553763 , -0.68755919,\n",
       "        1.06975471,  0.40217524, -0.23370566, -0.19337451, -0.79751747,\n",
       "       -1.01533368, -0.74067565, -0.70575521,  0.43841783,  0.52596379,\n",
       "       -0.77172742, -2.04448161,  0.46193405, -2.24750972, -1.43618213,\n",
       "       -0.47421208,  0.22073216,  0.98525773,  0.13725243, -1.79395756,\n",
       "       -1.90160869,  0.87461783,  0.31156614,  1.07029222, -0.6631894 ,\n",
       "       -1.1140649 ,  0.5209052 , -1.50936943, -0.01386233, -0.44835123,\n",
       "        0.42340409, -1.36140501,  1.7322169 ,  1.85342192, -1.19872589,\n",
       "        0.36682074,  0.69144319, -0.15501374, -0.61724403, -0.24660085,\n",
       "       -0.19590041, -0.87413294,  0.97744922, -0.76742194,  0.20521795,\n",
       "       -0.96835695,  2.081304  , -0.03532837, -2.02539223, -1.53110727,\n",
       "        0.49822217, -0.42293933,  0.46323893,  1.52040264,  0.68222237,\n",
       "       -0.01709417,  1.50789459,  0.15274143, -0.38633795, -0.43442659,\n",
       "        0.35977974,  0.10994393,  0.14643599,  1.07783976, -1.07802378,\n",
       "        0.71974486, -0.033623  ,  0.80733156, -0.06581134,  0.04628813,\n",
       "       -0.39104057,  0.71350532,  0.12215295,  0.03023434,  0.50553466,\n",
       "       -0.84311353,  0.03607727,  0.89929888,  1.1488878 , -0.33752264,\n",
       "       -1.04855686,  0.47900072, -0.88404105, -1.49742756,  0.57657015,\n",
       "       -0.77682728,  0.43424601, -0.34209781,  1.57731845,  2.59099186,\n",
       "        0.61843805, -1.87139853, -1.14737307,  0.11826155, -2.00855875,\n",
       "       -1.31532117, -0.89508956, -1.41657898,  0.22234693, -0.40808733,\n",
       "       -0.77232336, -0.43137565, -0.09335466, -0.61951439, -0.57434902,\n",
       "       -0.86195049,  2.5824003 ,  2.29856769,  1.38228161, -0.12035557,\n",
       "        0.0163426 ,  1.37301397, -2.41954967,  2.21898328,  0.20699936,\n",
       "       -0.44426707, -0.28300455, -0.65090364,  0.56035625, -0.28731644,\n",
       "        0.21891034,  1.33869336, -0.14964721, -0.90614327, -2.24252265,\n",
       "       -0.20738837, -1.06225013,  0.12713545,  0.30906346,  1.43236265,\n",
       "       -0.72362812, -0.07515363,  0.89529865,  0.2722238 ,  0.55306342,\n",
       "       -0.74905904,  0.38863431, -1.0298591 ,  0.2133172 ,  1.68415199,\n",
       "       -0.44589025,  1.81781619,  0.51918159,  0.07778738,  1.1458519 ,\n",
       "       -1.03534791,  1.16038312,  0.56175461, -1.23505705,  0.57934597,\n",
       "        0.30825931, -1.12645226, -0.06608052,  0.22322695,  1.47223396,\n",
       "       -0.75841857, -0.41820033, -0.352581  ,  1.21246646,  1.63046974,\n",
       "        0.73486422,  0.65345383, -0.52145511,  0.97282551, -1.636688  ,\n",
       "        0.22328364, -1.54413184,  1.20611709, -0.70539712,  0.2020315 ,\n",
       "        1.45243195,  1.0273714 , -0.63884557, -0.19580227,  0.12839904,\n",
       "       -0.63746679,  0.08576558,  0.84450437,  2.23815724,  0.9410336 ])"
      ]
     },
     "execution_count": 90,
     "metadata": {},
     "output_type": "execute_result"
    }
   ],
   "source": [
    "a[0:400, 0] # todas a linhas da coluna 0"
   ]
  },
  {
   "cell_type": "code",
   "execution_count": 91,
   "metadata": {},
   "outputs": [
    {
     "data": {
      "text/plain": [
       "(400, 2)"
      ]
     },
     "execution_count": 91,
     "metadata": {},
     "output_type": "execute_result"
    }
   ],
   "source": [
    "a.shape"
   ]
  },
  {
   "cell_type": "code",
   "execution_count": 94,
   "metadata": {},
   "outputs": [
    {
     "data": {
      "text/plain": [
       "400"
      ]
     },
     "execution_count": 94,
     "metadata": {},
     "output_type": "execute_result"
    }
   ],
   "source": [
    "linhas = a.shape[0]\n",
    "linhas"
   ]
  },
  {
   "cell_type": "code",
   "execution_count": 95,
   "metadata": {},
   "outputs": [
    {
     "data": {
      "text/plain": [
       "2"
      ]
     },
     "execution_count": 95,
     "metadata": {},
     "output_type": "execute_result"
    }
   ],
   "source": [
    "colunas = a.shape[1]\n",
    "colunas"
   ]
  },
  {
   "cell_type": "code",
   "execution_count": 96,
   "metadata": {},
   "outputs": [
    {
     "data": {
      "image/png": "[encoded data removed]",
      "text/plain": [
       "<Figure size 432x288 with 1 Axes>"
      ]
     },
     "metadata": {
      "needs_background": "light"
     },
     "output_type": "display_data"
    }
   ],
   "source": [
    "import matplotlib.pyplot as plt\n",
    "\n",
    "plt.plot(a[:,0], a[:,1], 'o', markersize=8, alpha=0.75)\n",
    "plt.show()"
   ]
  },
  {
   "cell_type": "code",
   "execution_count": 97,
   "metadata": {},
   "outputs": [
    {
     "data": {
      "text/plain": [
       "-0.015245030821984308"
      ]
     },
     "execution_count": 97,
     "metadata": {},
     "output_type": "execute_result"
    }
   ],
   "source": [
    "media0 = np.mean(a[:,0])\n",
    "media0"
   ]
  },
  {
   "cell_type": "code",
   "execution_count": 98,
   "metadata": {},
   "outputs": [
    {
     "data": {
      "text/plain": [
       "-0.06984599514010575"
      ]
     },
     "execution_count": 98,
     "metadata": {},
     "output_type": "execute_result"
    }
   ],
   "source": [
    "media1 = np.mean(a[:,1])\n",
    "media1"
   ]
  },
  {
   "cell_type": "code",
   "execution_count": 99,
   "metadata": {},
   "outputs": [
    {
     "data": {
      "image/png": "[encoded data removed]",
      "text/plain": [
       "<Figure size 432x288 with 1 Axes>"
      ]
     },
     "metadata": {
      "needs_background": "light"
     },
     "output_type": "display_data"
    }
   ],
   "source": [
    "plt.plot(a[:,0], a[:,1], 'o', markersize=8, alpha=0.75)\n",
    "plt.plot(media0, media1, 'ro', markersize=10)\n",
    "plt.show()"
   ]
  },
  {
   "cell_type": "code",
   "execution_count": 100,
   "metadata": {},
   "outputs": [
    {
     "data": {
      "image/png": "[encoded data removed]",
      "text/plain": [
       "<Figure size 432x288 with 1 Axes>"
      ]
     },
     "metadata": {
      "needs_background": "light"
     },
     "output_type": "display_data"
    }
   ],
   "source": [
    "plt.show(plt.hist(a[:,0]))"
   ]
  },
  {
   "cell_type": "code",
   "execution_count": 101,
   "metadata": {},
   "outputs": [
    {
     "data": {
      "image/png": "[encoded data removed]",
      "text/plain": [
       "<Figure size 432x288 with 1 Axes>"
      ]
     },
     "metadata": {
      "needs_background": "light"
     },
     "output_type": "display_data"
    }
   ],
   "source": [
    "plt.show(plt.hist(a[:,1]))"
   ]
  },
  {
   "cell_type": "code",
   "execution_count": 102,
   "metadata": {},
   "outputs": [
    {
     "data": {
      "text/plain": [
       "(400,)"
      ]
     },
     "execution_count": 102,
     "metadata": {},
     "output_type": "execute_result"
    }
   ],
   "source": [
    "m0 = a[:, 0]\n",
    "m0.shape"
   ]
  },
  {
   "cell_type": "code",
   "execution_count": 103,
   "metadata": {},
   "outputs": [
    {
     "data": {
      "text/plain": [
       "array([-0.08896297, -0.99628991, -0.03442457, -0.71752453, -0.49862143,\n",
       "        0.40981241,  0.48650734, -0.46942676,  0.27730296,  0.80098716,\n",
       "       -0.47342642, -1.42349899,  1.34806072,  0.81256941, -0.8620713 ,\n",
       "        0.20420516, -0.47119176, -0.35680977,  0.55928944, -0.48230898,\n",
       "        0.28746628,  1.41434547, -1.85735815,  0.36335563, -0.08098297,\n",
       "        1.82292957, -0.80330311, -0.79074767, -1.26935369, -0.52012053,\n",
       "        0.2257878 ,  0.02583964,  0.11730608,  0.43906555, -0.23337036,\n",
       "       -0.69119394, -0.34690569,  1.38214369, -0.17557417, -1.18555883,\n",
       "       -1.91996682,  1.60219474,  0.52833372,  0.54299085, -0.38552914,\n",
       "       -2.75845001, -1.17713382,  1.07559986, -2.32405285,  1.76577726,\n",
       "       -0.55289749, -0.32926781, -0.66448778,  1.20968307,  0.79819974,\n",
       "       -1.90323581, -1.78552237, -0.90054357, -0.34023549,  0.96784572,\n",
       "        0.18415518, -1.71908345,  0.75980014, -0.3143959 , -0.08202565,\n",
       "       -0.04216491, -0.97966231,  0.38336049,  0.12223894,  0.96286368,\n",
       "       -1.27842221,  0.39629752, -1.78173792, -0.58591618,  0.95227984,\n",
       "       -0.56456123,  3.31894431, -0.2327632 ,  0.65542765, -1.07633133,\n",
       "        0.38862499,  0.82620214,  0.47062181,  0.53377822,  0.00502225,\n",
       "        1.37086598, -0.19036965, -0.63531557, -0.92672333,  0.40496325,\n",
       "       -0.08346725,  1.4003971 , -0.88069367, -1.30880106,  0.60842382,\n",
       "       -1.13076713,  0.1826006 , -0.65578418, -2.05613491, -0.45132757,\n",
       "        0.95741848,  0.89113194,  0.36893033, -0.27857811, -0.0165409 ,\n",
       "        1.38898112,  0.7593468 ,  1.40554648,  0.20596416,  0.59292029,\n",
       "        2.04109018,  0.39017339,  0.30157292,  0.1488681 , -0.67094704,\n",
       "       -1.24530588, -0.09183606,  2.07654014,  0.73212552, -0.00765431,\n",
       "        0.04493141, -0.31209694,  0.36473542, -1.24122361,  0.02988457,\n",
       "       -3.39665508, -2.2641536 , -0.92944785,  1.83651088,  0.49656535,\n",
       "       -0.53601453,  1.14753233, -0.68491051, -0.17396628,  0.41825515,\n",
       "        0.21252997,  0.26108618, -1.02585486,  2.53849299,  0.58202696,\n",
       "       -0.05165561, -0.45174709, -0.30949401, -0.57811698,  0.18039694,\n",
       "        0.49180664, -0.381137  ,  1.26844531, -0.12556808,  1.27040328,\n",
       "        1.37422827, -0.7478236 ,  0.21240183,  0.05082903,  0.21230662,\n",
       "       -0.17658372,  0.2413321 , -1.4512537 , -1.33017574, -1.34737099,\n",
       "       -1.12746425,  1.41817774,  1.49030725,  1.06631803,  1.21607229,\n",
       "        1.4885019 ,  0.37110263,  0.55160444, -1.91676295, -0.89639858,\n",
       "        0.51419037,  0.5738549 , -0.61175248, -0.12773118, -0.97034583,\n",
       "       -0.11518977, -0.07704008, -0.20823596,  0.89008646, -0.11324156,\n",
       "        0.77894665,  0.93881405,  0.32904321,  1.19693699, -0.68918795,\n",
       "        0.05736148, -0.976513  , -0.1140565 ,  1.08775946, -0.59005323,\n",
       "       -2.16431493,  1.18168587, -0.79226024,  1.11595221, -1.12034257,\n",
       "        2.41069957, -1.69453769, -0.15392141, -1.19529872,  1.05526483,\n",
       "       -0.63981145,  1.39536062, -0.69168936,  0.06832387,  1.26699965,\n",
       "       -0.92291076,  0.9839584 , -0.90095652, -0.53368681,  0.80686437,\n",
       "       -0.65331697,  0.36509829, -0.39641029, -1.37638555,  0.4141074 ,\n",
       "       -0.57976013, -1.13157183, -1.2163263 ,  0.7553763 , -0.68755919,\n",
       "        1.06975471,  0.40217524, -0.23370566, -0.19337451, -0.79751747,\n",
       "       -1.01533368, -0.74067565, -0.70575521,  0.43841783,  0.52596379,\n",
       "       -0.77172742, -2.04448161,  0.46193405, -2.24750972, -1.43618213,\n",
       "       -0.47421208,  0.22073216,  0.98525773,  0.13725243, -1.79395756,\n",
       "       -1.90160869,  0.87461783,  0.31156614,  1.07029222, -0.6631894 ,\n",
       "       -1.1140649 ,  0.5209052 , -1.50936943, -0.01386233, -0.44835123,\n",
       "        0.42340409, -1.36140501,  1.7322169 ,  1.85342192, -1.19872589,\n",
       "        0.36682074,  0.69144319, -0.15501374, -0.61724403, -0.24660085,\n",
       "       -0.19590041, -0.87413294,  0.97744922, -0.76742194,  0.20521795,\n",
       "       -0.96835695,  2.081304  , -0.03532837, -2.02539223, -1.53110727,\n",
       "        0.49822217, -0.42293933,  0.46323893,  1.52040264,  0.68222237,\n",
       "       -0.01709417,  1.50789459,  0.15274143, -0.38633795, -0.43442659,\n",
       "        0.35977974,  0.10994393,  0.14643599,  1.07783976, -1.07802378,\n",
       "        0.71974486, -0.033623  ,  0.80733156, -0.06581134,  0.04628813,\n",
       "       -0.39104057,  0.71350532,  0.12215295,  0.03023434,  0.50553466,\n",
       "       -0.84311353,  0.03607727,  0.89929888,  1.1488878 , -0.33752264,\n",
       "       -1.04855686,  0.47900072, -0.88404105, -1.49742756,  0.57657015,\n",
       "       -0.77682728,  0.43424601, -0.34209781,  1.57731845,  2.59099186,\n",
       "        0.61843805, -1.87139853, -1.14737307,  0.11826155, -2.00855875,\n",
       "       -1.31532117, -0.89508956, -1.41657898,  0.22234693, -0.40808733,\n",
       "       -0.77232336, -0.43137565, -0.09335466, -0.61951439, -0.57434902,\n",
       "       -0.86195049,  2.5824003 ,  2.29856769,  1.38228161, -0.12035557,\n",
       "        0.0163426 ,  1.37301397, -2.41954967,  2.21898328,  0.20699936,\n",
       "       -0.44426707, -0.28300455, -0.65090364,  0.56035625, -0.28731644,\n",
       "        0.21891034,  1.33869336, -0.14964721, -0.90614327, -2.24252265,\n",
       "       -0.20738837, -1.06225013,  0.12713545,  0.30906346,  1.43236265,\n",
       "       -0.72362812, -0.07515363,  0.89529865,  0.2722238 ,  0.55306342,\n",
       "       -0.74905904,  0.38863431, -1.0298591 ,  0.2133172 ,  1.68415199,\n",
       "       -0.44589025,  1.81781619,  0.51918159,  0.07778738,  1.1458519 ,\n",
       "       -1.03534791,  1.16038312,  0.56175461, -1.23505705,  0.57934597,\n",
       "        0.30825931, -1.12645226, -0.06608052,  0.22322695,  1.47223396,\n",
       "       -0.75841857, -0.41820033, -0.352581  ,  1.21246646,  1.63046974,\n",
       "        0.73486422,  0.65345383, -0.52145511,  0.97282551, -1.636688  ,\n",
       "        0.22328364, -1.54413184,  1.20611709, -0.70539712,  0.2020315 ,\n",
       "        1.45243195,  1.0273714 , -0.63884557, -0.19580227,  0.12839904,\n",
       "       -0.63746679,  0.08576558,  0.84450437,  2.23815724,  0.9410336 ])"
      ]
     },
     "execution_count": 103,
     "metadata": {},
     "output_type": "execute_result"
    }
   ],
   "source": [
    "m0"
   ]
  },
  {
   "cell_type": "code",
   "execution_count": 104,
   "metadata": {},
   "outputs": [
    {
     "data": {
      "text/plain": [
       "array([-0.08896297, -0.99628991, -0.03442457, -0.71752453, -0.49862143,\n",
       "        0.40981241,  0.48650734, -0.46942676,  0.27730296,  0.80098716])"
      ]
     },
     "execution_count": 104,
     "metadata": {},
     "output_type": "execute_result"
    }
   ],
   "source": [
    "m0[:10]"
   ]
  },
  {
   "cell_type": "code",
   "execution_count": 105,
   "metadata": {},
   "outputs": [
    {
     "data": {
      "text/plain": [
       "array([ 1.45243195,  1.0273714 , -0.63884557, -0.19580227,  0.12839904,\n",
       "       -0.63746679,  0.08576558,  0.84450437,  2.23815724,  0.9410336 ])"
      ]
     },
     "execution_count": 105,
     "metadata": {},
     "output_type": "execute_result"
    }
   ],
   "source": [
    "m0[-10:]"
   ]
  },
  {
   "cell_type": "code",
   "execution_count": 106,
   "metadata": {},
   "outputs": [
    {
     "data": {
      "text/plain": [
       "-3.3966550790909436"
      ]
     },
     "execution_count": 106,
     "metadata": {},
     "output_type": "execute_result"
    }
   ],
   "source": [
    "m0.min()"
   ]
  },
  {
   "cell_type": "code",
   "execution_count": 107,
   "metadata": {},
   "outputs": [
    {
     "data": {
      "text/plain": [
       "3.318944307848348"
      ]
     },
     "execution_count": 107,
     "metadata": {},
     "output_type": "execute_result"
    }
   ],
   "source": [
    "m0.max()"
   ]
  },
  {
   "cell_type": "code",
   "execution_count": 108,
   "metadata": {},
   "outputs": [
    {
     "data": {
      "text/plain": [
       "-0.015245030821984308"
      ]
     },
     "execution_count": 108,
     "metadata": {},
     "output_type": "execute_result"
    }
   ],
   "source": [
    "m0.mean()"
   ]
  },
  {
   "cell_type": "code",
   "execution_count": 109,
   "metadata": {},
   "outputs": [
    {
     "data": {
      "text/plain": [
       "array([11.45243195, 11.0273714 ,  9.36115443])"
      ]
     },
     "execution_count": 109,
     "metadata": {},
     "output_type": "execute_result"
    }
   ],
   "source": [
    "np.array([ 1.45243195,  1.0273714 , -0.63884557]) + 10"
   ]
  },
  {
   "cell_type": "code",
   "execution_count": 110,
   "metadata": {},
   "outputs": [
    {
     "data": {
      "text/plain": [
       "array([ 1.,  1., -1.])"
      ]
     },
     "execution_count": 110,
     "metadata": {},
     "output_type": "execute_result"
    }
   ],
   "source": [
    "np.around([ 1.45243195,  1.0273714 , -0.63884557])"
   ]
  },
  {
   "cell_type": "code",
   "execution_count": 111,
   "metadata": {},
   "outputs": [
    {
     "data": {
      "text/plain": [
       "array([ 1.45243195,  1.0273714 , -0.63884557])"
      ]
     },
     "execution_count": 111,
     "metadata": {},
     "output_type": "execute_result"
    }
   ],
   "source": [
    "c = np.array([ 1.45243195,  1.0273714 , -0.63884557])\n",
    "c"
   ]
  },
  {
   "cell_type": "code",
   "execution_count": 112,
   "metadata": {},
   "outputs": [
    {
     "data": {
      "text/plain": [
       "array([ 1.45243195,  1.0273714 , -0.63884557])"
      ]
     },
     "execution_count": 112,
     "metadata": {},
     "output_type": "execute_result"
    }
   ],
   "source": [
    "d = c.flatten()\n",
    "d"
   ]
  },
  {
   "cell_type": "code",
   "execution_count": 113,
   "metadata": {},
   "outputs": [
    {
     "data": {
      "text/plain": [
       "array([5, 6])"
      ]
     },
     "execution_count": 113,
     "metadata": {},
     "output_type": "execute_result"
    }
   ],
   "source": [
    "w = np.array([5,6])\n",
    "w"
   ]
  },
  {
   "cell_type": "code",
   "execution_count": 114,
   "metadata": {},
   "outputs": [
    {
     "data": {
      "text/plain": [
       "array([1, 2, 3, 4])"
      ]
     },
     "execution_count": 114,
     "metadata": {},
     "output_type": "execute_result"
    }
   ],
   "source": [
    "v = np.array([1,2,3,4])\n",
    "v"
   ]
  },
  {
   "cell_type": "code",
   "execution_count": 116,
   "metadata": {},
   "outputs": [
    {
     "data": {
      "text/plain": [
       "array([1, 2, 3, 4, 5, 6])"
      ]
     },
     "execution_count": 116,
     "metadata": {},
     "output_type": "execute_result"
    }
   ],
   "source": [
    "z = np.concatenate((v,w), axis=0)\n",
    "z"
   ]
  },
  {
   "cell_type": "code",
   "execution_count": 117,
   "metadata": {},
   "outputs": [
    {
     "data": {
      "text/plain": [
       "array([0, 1, 2, 3, 4, 5, 6, 7, 8])"
      ]
     },
     "execution_count": 117,
     "metadata": {},
     "output_type": "execute_result"
    }
   ],
   "source": [
    "# Reshape\n",
    "a = np.arange(9)\n",
    "a"
   ]
  },
  {
   "cell_type": "code",
   "execution_count": 118,
   "metadata": {},
   "outputs": [
    {
     "data": {
      "text/plain": [
       "array([[0, 1, 2],\n",
       "       [3, 4, 5],\n",
       "       [6, 7, 8]])"
      ]
     },
     "execution_count": 118,
     "metadata": {},
     "output_type": "execute_result"
    }
   ],
   "source": [
    "a2d = a.reshape(3,3)\n",
    "a2d"
   ]
  },
  {
   "cell_type": "code",
   "execution_count": 119,
   "metadata": {},
   "outputs": [
    {
     "data": {
      "text/plain": [
       "array([0, 1, 2, 3, 4, 5, 6, 7, 8, 9])"
      ]
     },
     "execution_count": 119,
     "metadata": {},
     "output_type": "execute_result"
    }
   ],
   "source": [
    "a = np.arange(10)\n",
    "a"
   ]
  },
  {
   "cell_type": "code",
   "execution_count": 120,
   "metadata": {},
   "outputs": [
    {
     "data": {
      "text/plain": [
       "array([[0, 1],\n",
       "       [2, 3],\n",
       "       [4, 5],\n",
       "       [6, 7],\n",
       "       [8, 9]])"
      ]
     },
     "execution_count": 120,
     "metadata": {},
     "output_type": "execute_result"
    }
   ],
   "source": [
    "a2d = a.reshape(5,2)\n",
    "a2d"
   ]
  },
  {
   "cell_type": "code",
   "execution_count": 121,
   "metadata": {},
   "outputs": [
    {
     "data": {
      "text/plain": [
       "array([[0, 1, 2, 3, 4],\n",
       "       [5, 6, 7, 8, 9]])"
      ]
     },
     "execution_count": 121,
     "metadata": {},
     "output_type": "execute_result"
    }
   ],
   "source": [
    "a2d = a.reshape(2,5)\n",
    "a2d"
   ]
  },
  {
   "cell_type": "code",
   "execution_count": 122,
   "metadata": {},
   "outputs": [
    {
     "data": {
      "text/plain": [
       "(2, 5)"
      ]
     },
     "execution_count": 122,
     "metadata": {},
     "output_type": "execute_result"
    }
   ],
   "source": [
    "a2d.shape"
   ]
  },
  {
   "cell_type": "code",
   "execution_count": null,
   "metadata": {},
   "outputs": [],
   "source": []
  }
 ],
 "metadata": {
  "kernelspec": {
   "display_name": "Python 3",
   "language": "python",
   "name": "python3"
  },
  "language_info": {
   "codemirror_mode": {
    "name": "ipython",
    "version": 3
   },
   "file_extension": ".py",
   "mimetype": "text/x-python",
   "name": "python",
   "nbconvert_exporter": "python",
   "pygments_lexer": "ipython3",
   "version": "3.8.3"
  }
 },
 "nbformat": 4,
 "nbformat_minor": 4
}
