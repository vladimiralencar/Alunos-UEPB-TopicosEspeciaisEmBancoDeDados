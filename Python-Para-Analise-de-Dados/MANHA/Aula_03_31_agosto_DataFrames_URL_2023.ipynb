{
  "cells": [
    {
      "cell_type": "markdown",
      "id": "df57316c",
      "metadata": {
        "id": "df57316c"
      },
      "source": [
        "# Aula-03-31-agosto-DataFrames-2023"
      ]
    },
    {
      "cell_type": "code",
      "execution_count": null,
      "id": "ecc1cfe5",
      "metadata": {
        "id": "ecc1cfe5"
      },
      "outputs": [],
      "source": [
        "import pandas as pd"
      ]
    },
    {
      "cell_type": "code",
      "execution_count": null,
      "id": "60b2aef0",
      "metadata": {
        "id": "60b2aef0"
      },
      "outputs": [],
      "source": [
        "pd.set_option('display.max_columns', None)\n",
        "pd.set_option('display.max_rows', None)"
      ]
    },
    {
      "cell_type": "code",
      "execution_count": null,
      "id": "543a0759",
      "metadata": {
        "id": "543a0759"
      },
      "outputs": [],
      "source": [
        "df = pd.DataFrame()\n",
        "df"
      ]
    },
    {
      "cell_type": "code",
      "execution_count": null,
      "id": "39f03690",
      "metadata": {
        "id": "39f03690"
      },
      "outputs": [],
      "source": [
        "df['Nome'] = [ 'Brasil', \"Argentina\", \"Chile\" ]\n",
        "df"
      ]
    },
    {
      "cell_type": "code",
      "execution_count": null,
      "id": "dc1ee7ff",
      "metadata": {
        "id": "dc1ee7ff"
      },
      "outputs": [],
      "source": [
        "df['Populacao (Milhoes)'] = [ 200, 46,  20 ]\n",
        "df"
      ]
    },
    {
      "cell_type": "code",
      "execution_count": null,
      "id": "1d0358b3",
      "metadata": {
        "id": "1d0358b3"
      },
      "outputs": [],
      "source": [
        "data = {\n",
        "    'Nome': [ 'Brasil', \"Argentina\", \"Chile\" ],\n",
        "    'Populacao (Milhoes)': [ 200, 46,  20 ]\n",
        "\n",
        "}\n",
        "data"
      ]
    },
    {
      "cell_type": "code",
      "execution_count": null,
      "id": "1f47190b",
      "metadata": {
        "id": "1f47190b"
      },
      "outputs": [],
      "source": [
        "df2 = pd.DataFrame(data)\n",
        "df2"
      ]
    },
    {
      "cell_type": "code",
      "execution_count": null,
      "id": "4e9a72be",
      "metadata": {
        "id": "4e9a72be"
      },
      "outputs": [],
      "source": [
        "# Leitura de Dataframe - Url\n",
        "url = 'https://raw.githubusercontent.com/vladimiralencar/Alunos-UEPB-TopicosEspeciaisEmBancoDeDados/master/datasets/brasil_cidades_corrigido.csv'\n",
        "url"
      ]
    },
    {
      "cell_type": "code",
      "execution_count": null,
      "id": "40d1587e",
      "metadata": {
        "id": "40d1587e"
      },
      "outputs": [],
      "source": [
        "import pandas as pd"
      ]
    },
    {
      "cell_type": "code",
      "execution_count": null,
      "id": "0fa0bbe8",
      "metadata": {
        "id": "0fa0bbe8"
      },
      "outputs": [],
      "source": [
        "df = pd.read_csv(url, delimiter = ';')\n",
        "df.head()"
      ]
    },
    {
      "cell_type": "code",
      "execution_count": null,
      "id": "83acac53",
      "metadata": {
        "id": "83acac53"
      },
      "outputs": [],
      "source": [
        "df.info()"
      ]
    },
    {
      "cell_type": "code",
      "execution_count": null,
      "id": "2c0c2feb",
      "metadata": {
        "id": "2c0c2feb"
      },
      "outputs": [],
      "source": [
        "df.columns"
      ]
    },
    {
      "cell_type": "code",
      "execution_count": null,
      "id": "ea94035f",
      "metadata": {
        "id": "ea94035f"
      },
      "outputs": [],
      "source": [
        "atributos = ['CIDADE', 'ESTADO', 'IDHM_Renda']\n",
        "atributos"
      ]
    },
    {
      "cell_type": "code",
      "execution_count": null,
      "id": "ca643415",
      "metadata": {
        "id": "ca643415"
      },
      "outputs": [],
      "source": [
        "df[atributos][:5]"
      ]
    },
    {
      "cell_type": "code",
      "execution_count": null,
      "id": "51180ade",
      "metadata": {
        "id": "51180ade"
      },
      "outputs": [],
      "source": [
        "df.head()"
      ]
    },
    {
      "cell_type": "code",
      "execution_count": null,
      "id": "b2aa85e3",
      "metadata": {
        "id": "b2aa85e3"
      },
      "outputs": [],
      "source": [
        "len(df)"
      ]
    },
    {
      "cell_type": "code",
      "execution_count": null,
      "id": "c773240b",
      "metadata": {
        "id": "c773240b"
      },
      "outputs": [],
      "source": [
        "df.sort_values(by='IDHM_Longevidade', ascending=False)[:25]"
      ]
    },
    {
      "cell_type": "code",
      "execution_count": null,
      "id": "c61cf152",
      "metadata": {
        "id": "c61cf152"
      },
      "outputs": [],
      "source": [
        "import matplotlib.pyplot as plt\n",
        "import seaborn as sns"
      ]
    },
    {
      "cell_type": "code",
      "execution_count": null,
      "id": "68c0fe16",
      "metadata": {
        "id": "68c0fe16"
      },
      "outputs": [],
      "source": [
        "dfp = df.sort_values(by='IDHM_Longevidade', ascending=False)[:15]\n",
        "dfp"
      ]
    },
    {
      "cell_type": "code",
      "execution_count": null,
      "id": "d9938135",
      "metadata": {
        "id": "d9938135"
      },
      "outputs": [],
      "source": [
        "sns.barplot(y='CIDADE', x='IDHM_Longevidade', data=dfp)"
      ]
    },
    {
      "cell_type": "code",
      "execution_count": null,
      "id": "0b18a8f0",
      "metadata": {
        "id": "0b18a8f0"
      },
      "outputs": [],
      "source": [
        "sns.barplot(y='CIDADE', x='IDHM_Longevidade', data=dfp, palette='Blues_r')"
      ]
    },
    {
      "cell_type": "markdown",
      "id": "84d4c447",
      "metadata": {
        "id": "84d4c447"
      },
      "source": [
        "# fazer com o PIB"
      ]
    },
    {
      "cell_type": "code",
      "execution_count": null,
      "id": "0e2039f4",
      "metadata": {
        "id": "0e2039f4"
      },
      "outputs": [],
      "source": [
        "dfp = df.sort_values(by='PIB', ascending=False)[:15]\n",
        "dfp"
      ]
    },
    {
      "cell_type": "code",
      "execution_count": null,
      "id": "2fe8bbd2",
      "metadata": {
        "id": "2fe8bbd2"
      },
      "outputs": [],
      "source": [
        "sns.barplot(y='CIDADE', x='PIB', data=dfp, palette='Blues_r')"
      ]
    },
    {
      "cell_type": "code",
      "execution_count": null,
      "id": "73b52e96",
      "metadata": {
        "id": "73b52e96"
      },
      "outputs": [],
      "source": [
        "df.head()"
      ]
    },
    {
      "cell_type": "code",
      "execution_count": null,
      "id": "26c30aa0",
      "metadata": {
        "id": "26c30aa0"
      },
      "outputs": [],
      "source": [
        "dfe = df.groupby('ESTADO').agg({'POPULACAO_ESTIMADA': 'sum','IDHM': 'mean',\n",
        "                          'PIB': 'mean', 'IDHM_Educacao': 'mean'}).reset_index()\n",
        "dfe"
      ]
    },
    {
      "cell_type": "code",
      "execution_count": null,
      "id": "c232e1d9",
      "metadata": {
        "id": "c232e1d9"
      },
      "outputs": [],
      "source": [
        "dfe = dfe.sort_values(by='IDHM_Educacao', ascending=False).reset_index(drop=True)\n",
        "dfe"
      ]
    },
    {
      "cell_type": "code",
      "execution_count": null,
      "id": "2b40d1b1",
      "metadata": {
        "id": "2b40d1b1"
      },
      "outputs": [],
      "source": [
        "import matplotlib.pyplot as plt\n",
        "import seaborn as sns"
      ]
    },
    {
      "cell_type": "code",
      "execution_count": null,
      "id": "718fc1a2",
      "metadata": {
        "id": "718fc1a2"
      },
      "outputs": [],
      "source": [
        "plt.rcParams[\"figure.figsize\"] = (9,4)\n",
        "sns.barplot(y='ESTADO', x='IDHM_Educacao', data=dfe[:12], palette='Greens_r')"
      ]
    },
    {
      "cell_type": "code",
      "execution_count": null,
      "id": "96c670e4",
      "metadata": {
        "id": "96c670e4"
      },
      "outputs": [],
      "source": [
        "dfe.head()"
      ]
    },
    {
      "cell_type": "code",
      "execution_count": null,
      "id": "9b3f523a",
      "metadata": {
        "id": "9b3f523a"
      },
      "outputs": [],
      "source": [
        "df.head()"
      ]
    },
    {
      "cell_type": "code",
      "execution_count": null,
      "id": "580ae6b4",
      "metadata": {
        "id": "580ae6b4"
      },
      "outputs": [],
      "source": [
        "dfr = df.groupby('regiao').agg({'POPULACAO_ESTIMADA': 'sum','IDHM': 'mean',\n",
        "                          'PIB': 'mean', 'IDHM_Educacao': 'mean'}).reset_index()\n",
        "dfr"
      ]
    },
    {
      "cell_type": "code",
      "execution_count": null,
      "id": "9a39e4ac",
      "metadata": {
        "id": "9a39e4ac"
      },
      "outputs": [],
      "source": [
        "dfe.sample(10)"
      ]
    },
    {
      "cell_type": "markdown",
      "id": "b48e5a31",
      "metadata": {
        "id": "b48e5a31"
      },
      "source": [
        "IDH Educacao <br>\n",
        "Alto >= 0.7 <br>\n",
        "medio 0.5 - 0.699 <br>\n",
        "baixo < 0.5 <br>"
      ]
    },
    {
      "cell_type": "code",
      "execution_count": null,
      "id": "dc84ffda",
      "metadata": {
        "id": "dc84ffda"
      },
      "outputs": [],
      "source": [
        "def idh_categoria(x):\n",
        "    if  x < 0.5:\n",
        "        return'Baixo'\n",
        "    elif x >= 0.5 and x < 0.7:\n",
        "        return 'Medio'\n",
        "    else:\n",
        "        return 'Alto'"
      ]
    },
    {
      "cell_type": "code",
      "execution_count": null,
      "id": "cd4d2739",
      "metadata": {
        "id": "cd4d2739"
      },
      "outputs": [],
      "source": [
        "dfe['IDHM_Educacao_categoria'] = dfe.IDHM_Educacao.apply(lambda x: idh_categoria(x))\n",
        "dfe.head()"
      ]
    },
    {
      "cell_type": "code",
      "execution_count": null,
      "id": "0f69b3d3",
      "metadata": {
        "id": "0f69b3d3"
      },
      "outputs": [],
      "source": [
        "dfe['IDHM_Educacao_categoria'].value_counts()"
      ]
    },
    {
      "cell_type": "code",
      "execution_count": null,
      "id": "6c049bbe",
      "metadata": {
        "id": "6c049bbe"
      },
      "outputs": [],
      "source": [
        "dfe['IDHM_Educacao_categoria_2'] = dfe.IDHM_Educacao.apply(lambda x: 'Alto' if x >= 0.7  else \\\n",
        "                                                           ('Medio'  if 0.5 <= x  < 0.7 else 'Baixo') )\n",
        "dfe.head()"
      ]
    },
    {
      "cell_type": "code",
      "execution_count": null,
      "id": "318e5248",
      "metadata": {
        "id": "318e5248"
      },
      "outputs": [],
      "source": [
        "dfe.IDHM_Educacao_categoria.value_counts()"
      ]
    },
    {
      "cell_type": "code",
      "execution_count": null,
      "id": "a111273d",
      "metadata": {
        "id": "a111273d"
      },
      "outputs": [],
      "source": [
        "dfe.IDHM_Educacao_categoria_2.value_counts()"
      ]
    },
    {
      "cell_type": "code",
      "execution_count": null,
      "id": "ca0c942c",
      "metadata": {
        "id": "ca0c942c"
      },
      "outputs": [],
      "source": [
        "dfe"
      ]
    },
    {
      "cell_type": "code",
      "execution_count": null,
      "id": "793a4161",
      "metadata": {
        "id": "793a4161"
      },
      "outputs": [],
      "source": [
        "plt.rcParams[\"figure.figsize\"] = (8,3.5)\n",
        "sns.countplot( x='IDHM_Educacao_categoria', data=dfe, palette='Blues_r')"
      ]
    },
    {
      "cell_type": "markdown",
      "id": "9cf58768",
      "metadata": {
        "id": "9cf58768"
      },
      "source": [
        "# Mapas"
      ]
    },
    {
      "cell_type": "code",
      "execution_count": null,
      "id": "3790b32e",
      "metadata": {
        "id": "3790b32e"
      },
      "outputs": [],
      "source": [
        "dfe.head()"
      ]
    },
    {
      "cell_type": "code",
      "execution_count": null,
      "id": "b458edaf",
      "metadata": {
        "id": "b458edaf"
      },
      "outputs": [],
      "source": [
        "!pip install -q plotly-express"
      ]
    },
    {
      "cell_type": "code",
      "execution_count": null,
      "id": "830d9e52",
      "metadata": {
        "id": "830d9e52"
      },
      "outputs": [],
      "source": [
        "!ls *.json"
      ]
    },
    {
      "cell_type": "code",
      "execution_count": null,
      "id": "d5696bc6",
      "metadata": {
        "id": "d5696bc6"
      },
      "outputs": [],
      "source": [
        "import plotly.express as px\n",
        "import sys, json"
      ]
    },
    {
      "cell_type": "code",
      "source": [
        "!wget https://raw.githubusercontent.com/vladimiralencar/Alunos-UEPB-TopicosEspeciaisEmBancoDeDados/master/Python-Para-Analise-de-Dados/MANHA/brasil_estados.json\n",
        "!wget https://raw.githubusercontent.com/vladimiralencar/Alunos-UEPB-TopicosEspeciaisEmBancoDeDados/master/Python-Para-Analise-de-Dados/MANHA/brasil_completo.json"
      ],
      "metadata": {
        "id": "DZCaCvh0SdAS"
      },
      "id": "DZCaCvh0SdAS",
      "execution_count": null,
      "outputs": []
    },
    {
      "cell_type": "code",
      "execution_count": null,
      "id": "1fa0964e",
      "metadata": {
        "scrolled": true,
        "id": "1fa0964e"
      },
      "outputs": [],
      "source": [
        "geojson = json.load(open('brasil_estados.json'))\n",
        "\n",
        "fig_choropleth = px.choropleth(dfe, geojson=geojson,\n",
        "                       locations='ESTADO',\n",
        "                       color='IDHM_Educacao',\n",
        "                       color_continuous_scale=\"Blues\",\n",
        "                       #range_color=(3000, 99999),\n",
        "                        scope='south america'\n",
        "                      )\n",
        "fig_choropleth.update_layout(\n",
        "              width=800,\n",
        "              height=600)"
      ]
    },
    {
      "cell_type": "code",
      "execution_count": null,
      "id": "a8b4e81d",
      "metadata": {
        "id": "a8b4e81d"
      },
      "outputs": [],
      "source": [
        "fig_choropleth.show()"
      ]
    },
    {
      "cell_type": "code",
      "execution_count": null,
      "id": "4d261652",
      "metadata": {
        "id": "4d261652"
      },
      "outputs": [],
      "source": [
        "# para arquivo .csv\n",
        "dfe.head()"
      ]
    },
    {
      "cell_type": "code",
      "execution_count": null,
      "id": "7a6a868a",
      "metadata": {
        "id": "7a6a868a"
      },
      "outputs": [],
      "source": [
        "list(dfe.columns)"
      ]
    },
    {
      "cell_type": "code",
      "execution_count": null,
      "id": "32b76ea4",
      "metadata": {
        "id": "32b76ea4"
      },
      "outputs": [],
      "source": [
        "dfe2 = dfe [ ['ESTADO', 'POPULACAO_ESTIMADA', 'IDHM', 'PIB', 'IDHM_Educacao',  'IDHM_Educacao_categoria'] ]\n",
        "\n",
        "dfe2.head()"
      ]
    },
    {
      "cell_type": "code",
      "execution_count": null,
      "id": "38cf515c",
      "metadata": {
        "id": "38cf515c"
      },
      "outputs": [],
      "source": [
        "dfe2.to_csv('estados_idh2.csv', index=False)"
      ]
    },
    {
      "cell_type": "code",
      "execution_count": null,
      "id": "afee328a",
      "metadata": {
        "id": "afee328a"
      },
      "outputs": [],
      "source": [
        "!ls estados*.csv"
      ]
    },
    {
      "cell_type": "code",
      "execution_count": null,
      "id": "166a92ba",
      "metadata": {
        "id": "166a92ba"
      },
      "outputs": [],
      "source": [
        "!head estados_idh2.csv"
      ]
    },
    {
      "cell_type": "code",
      "execution_count": null,
      "id": "65e5e041",
      "metadata": {
        "id": "65e5e041"
      },
      "outputs": [],
      "source": [
        "!pwd"
      ]
    },
    {
      "cell_type": "code",
      "execution_count": null,
      "id": "dcdb7c57",
      "metadata": {
        "id": "dcdb7c57"
      },
      "outputs": [],
      "source": []
    }
  ],
  "metadata": {
    "kernelspec": {
      "display_name": "Python 3 (ipykernel)",
      "language": "python",
      "name": "python3"
    },
    "language_info": {
      "codemirror_mode": {
        "name": "ipython",
        "version": 3
      },
      "file_extension": ".py",
      "mimetype": "text/x-python",
      "name": "python",
      "nbconvert_exporter": "python",
      "pygments_lexer": "ipython3",
      "version": "3.9.17"
    },
    "colab": {
      "provenance": []
    }
  },
  "nbformat": 4,
  "nbformat_minor": 5
}