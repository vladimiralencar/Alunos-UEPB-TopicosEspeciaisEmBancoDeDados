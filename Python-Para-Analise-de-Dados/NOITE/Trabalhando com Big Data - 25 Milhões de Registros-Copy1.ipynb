{
 "cells": [
  {
   "cell_type": "markdown",
   "id": "e6e5a5c3",
   "metadata": {},
   "source": [
    "## Trabalhando com Big Data - 25 Milhões de Registros\n",
    "fonte: https://grouplens.org/datasets/movielens/"
   ]
  },
  {
   "cell_type": "code",
   "execution_count": null,
   "id": "0c79152a",
   "metadata": {},
   "outputs": [],
   "source": [
    "import pandas as pd"
   ]
  },
  {
   "cell_type": "code",
   "execution_count": null,
   "id": "cbbb0840",
   "metadata": {},
   "outputs": [],
   "source": [
    "!pwd"
   ]
  },
  {
   "cell_type": "code",
   "execution_count": null,
   "id": "04c8e76d",
   "metadata": {},
   "outputs": [],
   "source": [
    "!ls -ilah /Users/valencar/Dropbox/AULAS-REMOTAS/BD-ESTATISTICA-MANHA/datasets/ml-20m"
   ]
  },
  {
   "cell_type": "code",
   "execution_count": null,
   "id": "e66d80bb",
   "metadata": {},
   "outputs": [],
   "source": [
    "!head /Users/valencar/Dropbox/AULAS-REMOTAS/BD-ESTATISTICA-MANHA/datasets/ml-20m/movies.csv"
   ]
  },
  {
   "cell_type": "code",
   "execution_count": null,
   "id": "55781c80",
   "metadata": {},
   "outputs": [],
   "source": [
    "url = '/Users/valencar/Dropbox/AULAS-REMOTAS/BD-ESTATISTICA-MANHA/datasets/ml-20m' + '/' + 'ratings.csv'\n",
    "url"
   ]
  },
  {
   "cell_type": "code",
   "execution_count": null,
   "id": "ea665d6f",
   "metadata": {},
   "outputs": [],
   "source": [
    "%time\n",
    "\n",
    "dfratings = pd.read_csv(url)\n",
    "print('total de registros: {:,d}'.format(len(dfratings)))"
   ]
  },
  {
   "cell_type": "code",
   "execution_count": null,
   "id": "0c92db79",
   "metadata": {},
   "outputs": [],
   "source": [
    "dfratings.head()"
   ]
  },
  {
   "cell_type": "code",
   "execution_count": null,
   "id": "69a9076f",
   "metadata": {},
   "outputs": [],
   "source": [
    "url = '/Users/valencar/Dropbox/AULAS-REMOTAS/BD-ESTATISTICA-MANHA/datasets/ml-20m' + '/' + 'movies.csv'\n",
    "url"
   ]
  },
  {
   "cell_type": "code",
   "execution_count": null,
   "id": "4ce92b16",
   "metadata": {},
   "outputs": [],
   "source": [
    "%time\n",
    "\n",
    "dfmovies = pd.read_csv(url)\n",
    "print('total de registros: {:,d}'.format(len(dfmovies)))"
   ]
  },
  {
   "cell_type": "code",
   "execution_count": null,
   "id": "63dd793a",
   "metadata": {},
   "outputs": [],
   "source": [
    "dfmovies.head()"
   ]
  },
  {
   "cell_type": "code",
   "execution_count": null,
   "id": "3e0e55b4",
   "metadata": {},
   "outputs": [],
   "source": [
    "%%time\n",
    "\n",
    "dfdrama_acao = dfmovies[ dfmovies.genres.str.contains('Drama') |  dfmovies.genres.str.contains('Action') ]\n",
    "print('total de registros: {:,d}'.format(len(dfdrama_acao)))\n",
    "dfdrama_acao.head()"
   ]
  },
  {
   "cell_type": "markdown",
   "id": "9ee2dd90",
   "metadata": {},
   "source": [
    "# Obter todos os generos"
   ]
  },
  {
   "cell_type": "code",
   "execution_count": null,
   "id": "d50d6783",
   "metadata": {},
   "outputs": [],
   "source": [
    "genres = 'Comedy|Drama|Romance'\n",
    "generos = genres.split('|')\n",
    "generos"
   ]
  },
  {
   "cell_type": "code",
   "execution_count": null,
   "id": "9c7dfcfa",
   "metadata": {},
   "outputs": [],
   "source": [
    "%%time\n",
    "\n",
    "set_generos = set()\n",
    "\n",
    "for index, row in dfmovies.iterrows(): \n",
    "    generos = row['genres'].split('|')\n",
    "    set_generos.update(generos)\n",
    "    \n",
    "generos = list(set_generos)\n",
    "print('numero de generos',len(generos))\n",
    "print(generos)"
   ]
  },
  {
   "cell_type": "markdown",
   "id": "830adf67",
   "metadata": {},
   "source": [
    "## Criando colunas Genero - individuais"
   ]
  },
  {
   "cell_type": "code",
   "execution_count": null,
   "id": "9e2f5f9b",
   "metadata": {},
   "outputs": [],
   "source": [
    "%%time\n",
    "\n",
    "for genero in generos:\n",
    "    dfmovies[genero] = False\n",
    "    \n",
    "dfmovies.head()"
   ]
  },
  {
   "cell_type": "code",
   "execution_count": null,
   "id": "d1fa4b82",
   "metadata": {},
   "outputs": [],
   "source": [
    "%%time \n",
    "\n",
    "for index, row in dfmovies.iterrows(): \n",
    "    generos = row['genres'].split('|')\n",
    "    for genero in generos:\n",
    "        dfmovies.at[index, genero] = True\n",
    "    \n",
    "dfmovies.head()"
   ]
  },
  {
   "cell_type": "code",
   "execution_count": null,
   "id": "eb20414f",
   "metadata": {},
   "outputs": [],
   "source": [
    "dfmovies.Drama.value_counts()"
   ]
  },
  {
   "cell_type": "code",
   "execution_count": null,
   "id": "485df8f0",
   "metadata": {},
   "outputs": [],
   "source": [
    "del dfmovies['genres']\n",
    "dfmovies.head()"
   ]
  },
  {
   "cell_type": "markdown",
   "id": "b6eac698",
   "metadata": {},
   "source": [
    "# criar estatistica de generos"
   ]
  },
  {
   "cell_type": "code",
   "execution_count": null,
   "id": "1250281c",
   "metadata": {},
   "outputs": [],
   "source": [
    "generos = list(set_generos)\n",
    "print('numero de generos',len(generos))\n",
    "print(generos)"
   ]
  },
  {
   "cell_type": "code",
   "execution_count": null,
   "id": "f5edb657",
   "metadata": {},
   "outputs": [],
   "source": [
    "dfmovies.Horror.value_counts()"
   ]
  },
  {
   "cell_type": "code",
   "execution_count": null,
   "id": "4431719f",
   "metadata": {},
   "outputs": [],
   "source": [
    "for genero in generos:\n",
    "    count_genero = dfmovies[genero].sum()\n",
    "    print(genero, count_genero)\n",
    "    break"
   ]
  },
  {
   "cell_type": "code",
   "execution_count": null,
   "id": "11f64c89",
   "metadata": {},
   "outputs": [],
   "source": [
    "dict_genero = {}\n",
    "for genero in generos:\n",
    "    count_genero = dfmovies[genero].sum()\n",
    "    dict_genero[genero] = count_genero\n",
    "\n",
    "dict_genero"
   ]
  },
  {
   "cell_type": "code",
   "execution_count": null,
   "id": "c78d7905",
   "metadata": {},
   "outputs": [],
   "source": [
    "df_genero_cont = pd.DataFrame.from_dict(dict_genero, orient='index').reset_index()\n",
    "df_genero_cont"
   ]
  },
  {
   "cell_type": "code",
   "execution_count": null,
   "id": "32174507",
   "metadata": {},
   "outputs": [],
   "source": [
    "df_genero_cont.columns = ['genero', 'total']\n",
    "df_genero_cont"
   ]
  },
  {
   "cell_type": "code",
   "execution_count": null,
   "id": "f337a490",
   "metadata": {},
   "outputs": [],
   "source": [
    "dfo = df_genero_cont.sort_values(by='total', ascending=False).reset_index(drop=True)\n",
    "dfo"
   ]
  },
  {
   "cell_type": "code",
   "execution_count": null,
   "id": "c736c313",
   "metadata": {},
   "outputs": [],
   "source": []
  },
  {
   "cell_type": "markdown",
   "id": "404c96a5",
   "metadata": {},
   "source": [
    "# Capturando o ano"
   ]
  },
  {
   "cell_type": "code",
   "execution_count": null,
   "id": "0b0e5fed",
   "metadata": {},
   "outputs": [],
   "source": [
    "dfmovies.head()"
   ]
  },
  {
   "cell_type": "code",
   "execution_count": null,
   "id": "d0380e52",
   "metadata": {},
   "outputs": [],
   "source": [
    "x = 'Father of the Bride Part II (1995)'\n",
    "x.find(')')"
   ]
  },
  {
   "cell_type": "code",
   "execution_count": null,
   "id": "99705ab1",
   "metadata": {},
   "outputs": [],
   "source": [
    "type(x)"
   ]
  },
  {
   "cell_type": "code",
   "execution_count": null,
   "id": "4480eb19",
   "metadata": {},
   "outputs": [],
   "source": [
    "x = 'Father of the Bride Part II'\n",
    "x.find(')')"
   ]
  },
  {
   "cell_type": "code",
   "execution_count": null,
   "id": "c72bed6d",
   "metadata": {},
   "outputs": [],
   "source": [
    "import numpy as np\n",
    "\n",
    "dfmovies['ano'] = dfmovies.title.apply(lambda x : x.split('(')[1] if x.find(')') != -1  else np.nan)\n",
    "dfmovies.head()"
   ]
  },
  {
   "cell_type": "code",
   "execution_count": null,
   "id": "91856dad",
   "metadata": {},
   "outputs": [],
   "source": [
    "dfmovies['ano'] = dfmovies.ano.apply(lambda x : x.replace(')', '') if type(x) == str else x)\n",
    "dfmovies.head()"
   ]
  },
  {
   "cell_type": "code",
   "execution_count": null,
   "id": "b0142a6a",
   "metadata": {},
   "outputs": [],
   "source": [
    "print(dfmovies.ano.value_counts())"
   ]
  },
  {
   "cell_type": "code",
   "execution_count": null,
   "id": "022a13e3",
   "metadata": {},
   "outputs": [],
   "source": [
    "import re\n",
    "\n",
    "x1 = '19993'\n",
    "x2 = '1 2 title'\n",
    "datas = r'^([1-9][0-9][0-9][0-9])'\n",
    "#re.match(r'\\d{4}', x)\n",
    "\n",
    "if re.match(datas, x1):\n",
    "    print('ok')\n",
    "if re.match(datas, x2):\n",
    "    print('ok nao data')"
   ]
  },
  {
   "cell_type": "code",
   "execution_count": null,
   "id": "51ebe2f0",
   "metadata": {},
   "outputs": [],
   "source": [
    "datas = r'^([0-9][0-9][0-9][0-9])'\n",
    "\n",
    "dfmovies['ano'] = dfmovies.title.apply(lambda x : x.split('(')[1] if x.find(')') != -1  else np.nan)\n",
    "dfmovies['ano'] = dfmovies.ano.apply(lambda x : x.replace(')', '') if type(x) == str else x)\n",
    "\n",
    "dfmovies['ano'] = dfmovies.ano.apply(lambda x : x[:4] if x is not np.nan and re.match(datas, x[:4]) else np.nan)\n",
    "dfmovies.head()"
   ]
  },
  {
   "cell_type": "code",
   "execution_count": null,
   "id": "6bf9b718",
   "metadata": {},
   "outputs": [],
   "source": [
    "dfmovies.ano.value_counts()"
   ]
  },
  {
   "cell_type": "code",
   "execution_count": null,
   "id": "99ca6c49",
   "metadata": {},
   "outputs": [],
   "source": [
    "len(dfmovies.ano.unique())"
   ]
  },
  {
   "cell_type": "code",
   "execution_count": null,
   "id": "989ded3e",
   "metadata": {},
   "outputs": [],
   "source": [
    "print(dfmovies.ano.unique())"
   ]
  },
  {
   "cell_type": "code",
   "execution_count": null,
   "id": "2a20820c",
   "metadata": {},
   "outputs": [],
   "source": [
    "dfmovies.ano.isnull().sum(), len(dfmovies.ano)"
   ]
  },
  {
   "cell_type": "code",
   "execution_count": null,
   "id": "c8cc3356",
   "metadata": {},
   "outputs": [],
   "source": [
    "dfanofilmes = dfmovies.ano.value_counts().to_frame().reset_index()\n",
    "dfanofilmes.columns = ['ano', 'total_filmes']\n",
    "dfanofilmes.head()"
   ]
  },
  {
   "cell_type": "code",
   "execution_count": null,
   "id": "59ff3261",
   "metadata": {},
   "outputs": [],
   "source": [
    "dfanofilmes = dfanofilmes.sort_values(by='total_filmes', ascending=False).reset_index(drop=True)\n",
    "dfanofilmes.head(10)"
   ]
  },
  {
   "cell_type": "code",
   "execution_count": null,
   "id": "806cabb0",
   "metadata": {},
   "outputs": [],
   "source": [
    "import matplotlib.pyplot as plt\n",
    "import seaborn as sns\n",
    "\n",
    "plt.figure(figsize=(12,8))\n",
    "\n",
    "sns.barplot(x='total_filmes', y='ano', data=dfanofilmes[:20], palette='Greens_r')"
   ]
  },
  {
   "cell_type": "markdown",
   "id": "c0300e89",
   "metadata": {},
   "source": [
    "# Join - inner join"
   ]
  },
  {
   "cell_type": "code",
   "execution_count": null,
   "id": "459bf0a0",
   "metadata": {},
   "outputs": [],
   "source": [
    "dfratings.head()"
   ]
  },
  {
   "cell_type": "code",
   "execution_count": null,
   "id": "80c36e21",
   "metadata": {},
   "outputs": [],
   "source": [
    "dfmovies.head()"
   ]
  },
  {
   "cell_type": "code",
   "execution_count": null,
   "id": "0faf7e28",
   "metadata": {},
   "outputs": [],
   "source": [
    "%%time\n",
    "\n",
    "dffilmes =  pd.merge(dfmovies, dfratings, left_on='movieId', right_on='movieId', how=\"inner\")\n",
    "print('total de registros: {:,d}'.format(len(dffilmes)))\n",
    "dffilmes.head()"
   ]
  },
  {
   "cell_type": "code",
   "execution_count": null,
   "id": "5af9845c",
   "metadata": {},
   "outputs": [],
   "source": [
    "dffilmes.info()"
   ]
  },
  {
   "cell_type": "code",
   "execution_count": null,
   "id": "c5204593",
   "metadata": {},
   "outputs": [],
   "source": [
    "dffilmes.sort_values(by='rating', ascending=False)[:15]"
   ]
  },
  {
   "cell_type": "code",
   "execution_count": null,
   "id": "939256bf",
   "metadata": {},
   "outputs": [],
   "source": [
    "# generos = ['Crime', 'Western', 'Thriller', 'War', 'Sci-Fi', 'Children', \n",
    "#             'Documentary', '(no genres listed)', 'Romance', 'Adventure', 'Mystery',\n",
    "#             'Comedy', 'IMAX', 'Animation', 'Action', 'Horror', 'Film-Noir', 'Fantasy',\n",
    "#         'Drama', 'Musical'] "
   ]
  },
  {
   "cell_type": "code",
   "execution_count": null,
   "id": "10135d9c",
   "metadata": {},
   "outputs": [],
   "source": []
  },
  {
   "cell_type": "code",
   "execution_count": null,
   "id": "3146aff9",
   "metadata": {},
   "outputs": [],
   "source": []
  },
  {
   "cell_type": "code",
   "execution_count": null,
   "id": "62c3e976",
   "metadata": {},
   "outputs": [],
   "source": [
    "%%time\n",
    "\n",
    "dffilmes.to_csv('filmes-2022.csv', index=False)\n",
    "!ls -ilah *.csv"
   ]
  },
  {
   "cell_type": "code",
   "execution_count": null,
   "id": "7fa81ebd",
   "metadata": {},
   "outputs": [],
   "source": [
    "dffilmes.Action.value_counts()"
   ]
  },
  {
   "cell_type": "code",
   "execution_count": null,
   "id": "014b241f",
   "metadata": {},
   "outputs": [],
   "source": [
    "acao = dffilmes.Action.value_counts()[1]\n",
    "acao"
   ]
  },
  {
   "cell_type": "code",
   "execution_count": null,
   "id": "4f403608",
   "metadata": {},
   "outputs": [],
   "source": [
    "dffilmes.Drama.value_counts()"
   ]
  },
  {
   "cell_type": "code",
   "execution_count": null,
   "id": "339857f8",
   "metadata": {},
   "outputs": [],
   "source": [
    "drama = dffilmes.Drama.value_counts()[1]\n",
    "drama"
   ]
  },
  {
   "cell_type": "code",
   "execution_count": null,
   "id": "22bd4d30",
   "metadata": {},
   "outputs": [],
   "source": [
    "dffilmes.Adventure.value_counts()"
   ]
  },
  {
   "cell_type": "code",
   "execution_count": null,
   "id": "35b97a04",
   "metadata": {},
   "outputs": [],
   "source": [
    "aventura = dffilmes.Adventure.value_counts()[1]\n",
    "aventura"
   ]
  },
  {
   "cell_type": "code",
   "execution_count": null,
   "id": "7357e17b",
   "metadata": {},
   "outputs": [],
   "source": [
    "dffilmes.Romance.value_counts()"
   ]
  },
  {
   "cell_type": "code",
   "execution_count": null,
   "id": "b44c7628",
   "metadata": {},
   "outputs": [],
   "source": [
    "romance = dffilmes.Romance.value_counts()[1]\n",
    "romance"
   ]
  },
  {
   "cell_type": "code",
   "execution_count": null,
   "id": "ecbb2ca4",
   "metadata": {},
   "outputs": [],
   "source": [
    "#outros = len(dfmovies) - aventura - drama - romance - acao\n",
    "#outros"
   ]
  },
  {
   "cell_type": "markdown",
   "id": "896e9b6f",
   "metadata": {},
   "source": [
    "# grafico de Pizza - genero"
   ]
  },
  {
   "cell_type": "code",
   "execution_count": null,
   "id": "ff35a83f",
   "metadata": {},
   "outputs": [],
   "source": [
    "import matplotlib.pyplot as plt\n",
    "import seaborn as sns\n",
    "\n",
    "plt.style.use('ggplot')\n",
    "\n",
    "plt.rcParams[\"figure.figsize\"] = (9,9)\n",
    "\n",
    "#define data\n",
    "data =    [aventura, drama, romance, acao] #f6.percent\n",
    "labels = ['aventura', 'drama', 'romance', 'acao'] #, 'outros'] #df.rating\n",
    "\n",
    "#define Seaborn color palette to use\n",
    "colors = sns.color_palette('pastel')#[0:4]\n",
    "\n",
    "colors = sns.color_palette(\"rocket\")\n",
    "\n",
    "colors = sns.color_palette(\"Blues_r\") #, as_cmap=True)\n",
    "\n",
    "#colors = 'Blues'\n",
    "\n",
    "\n",
    "\n",
    "fig = plt.figure()\n",
    "\n",
    "#ax = fig.add_axes([.8, .8, .8, .8], aspect=2)\n",
    "\n",
    "ax = fig.add_axes([.8, .8, .8, .8], aspect=2)\n",
    "ax.set_title('Filmes por genero ')\n",
    "plt.pie(data, labels = labels, colors = colors, autopct='%.0f%%')\n",
    "\n",
    "\n",
    "plt.show()"
   ]
  },
  {
   "cell_type": "code",
   "execution_count": null,
   "id": "f759c9cb",
   "metadata": {},
   "outputs": [],
   "source": []
  },
  {
   "cell_type": "code",
   "execution_count": null,
   "id": "8af73194",
   "metadata": {},
   "outputs": [],
   "source": [
    "dfo = dffilmes.rating.value_counts()\n",
    "dfo"
   ]
  },
  {
   "cell_type": "code",
   "execution_count": null,
   "id": "9845c4a5",
   "metadata": {},
   "outputs": [],
   "source": [
    "type(dfo)"
   ]
  },
  {
   "cell_type": "code",
   "execution_count": null,
   "id": "e565a44a",
   "metadata": {},
   "outputs": [],
   "source": [
    "df2 = dfo.to_frame().reset_index()\n",
    "df2.columns = ['rating', 'quantidade']"
   ]
  },
  {
   "cell_type": "code",
   "execution_count": null,
   "id": "dfff14c3",
   "metadata": {},
   "outputs": [],
   "source": [
    "df2"
   ]
  },
  {
   "cell_type": "code",
   "execution_count": null,
   "id": "f1a54295",
   "metadata": {},
   "outputs": [],
   "source": [
    "df2['percent'] = df2['quantidade'] / df2['quantidade'].sum() * 100\n",
    "df2"
   ]
  },
  {
   "cell_type": "code",
   "execution_count": null,
   "id": "115b1b63",
   "metadata": {},
   "outputs": [],
   "source": [
    "# formatar a saída\n",
    "\n",
    "df3 = df2.style.format({\n",
    "    \"rating\": \"{:.1f}\",\n",
    "    \"quantidade\": \"{:,d}\",\n",
    "    \"percent\": \"{:.0f}\"\n",
    "})\n",
    "\n",
    "\n",
    "\n",
    "df3"
   ]
  },
  {
   "cell_type": "code",
   "execution_count": null,
   "id": "5495e2b6",
   "metadata": {},
   "outputs": [],
   "source": [
    "df4 = df2[ df2.percent >= 7]\n",
    "df4"
   ]
  },
  {
   "cell_type": "code",
   "execution_count": null,
   "id": "37d1618f",
   "metadata": {},
   "outputs": [],
   "source": [
    "df4.percent.sum()"
   ]
  },
  {
   "cell_type": "code",
   "execution_count": null,
   "id": "dda636bb",
   "metadata": {},
   "outputs": [],
   "source": [
    "print('{:,d}'.format(df4.quantidade.sum()))"
   ]
  },
  {
   "cell_type": "code",
   "execution_count": null,
   "id": "ad02bf97",
   "metadata": {},
   "outputs": [],
   "source": [
    "df5 = df2[ df2.percent < 7]\n",
    "df5"
   ]
  },
  {
   "cell_type": "code",
   "execution_count": null,
   "id": "9b02d75a",
   "metadata": {},
   "outputs": [],
   "source": [
    "print('{:,d}'.format(df5.quantidade.sum()))"
   ]
  },
  {
   "cell_type": "code",
   "execution_count": null,
   "id": "7030d523",
   "metadata": {},
   "outputs": [],
   "source": [
    "df5.percent.sum()"
   ]
  },
  {
   "cell_type": "code",
   "execution_count": null,
   "id": "0d92ad43",
   "metadata": {},
   "outputs": [],
   "source": [
    "df5"
   ]
  },
  {
   "cell_type": "code",
   "execution_count": null,
   "id": "0392b11b",
   "metadata": {},
   "outputs": [],
   "source": [
    "row = {'rating': 'outros', 'quantidade': df5.quantidade.sum(), 'percent': df5.percent.sum()  }\n",
    "row"
   ]
  },
  {
   "cell_type": "code",
   "execution_count": null,
   "id": "0db3c66a",
   "metadata": {},
   "outputs": [],
   "source": [
    "df6 = df4.append(row, ignore_index=True)\n",
    "df6"
   ]
  },
  {
   "cell_type": "code",
   "execution_count": null,
   "id": "518a7b22",
   "metadata": {},
   "outputs": [],
   "source": [
    "# formatar a saída\n",
    "\n",
    "dfs = df6.style.format({\n",
    "    \"rating\": \"{}\",\n",
    "    \"quantidade\": \"{:,d}\",\n",
    "    \"percent\": \"{:.0f}\"\n",
    "})\n",
    "\n",
    "dfs"
   ]
  },
  {
   "cell_type": "code",
   "execution_count": null,
   "id": "d9ffd5a3",
   "metadata": {},
   "outputs": [],
   "source": [
    "df6.to_csv('ratings_saida.csv', index=False)"
   ]
  },
  {
   "cell_type": "code",
   "execution_count": null,
   "id": "6875d045",
   "metadata": {},
   "outputs": [],
   "source": [
    "!cat ratings_saida.csv"
   ]
  },
  {
   "cell_type": "code",
   "execution_count": null,
   "id": "e0493707",
   "metadata": {},
   "outputs": [],
   "source": [
    "import matplotlib.pyplot as plt\n",
    "import seaborn as sns\n",
    "\n",
    "plt.rcParams[\"figure.figsize\"] = (9,9)\n",
    "\n",
    "#define data\n",
    "data = df6.percent\n",
    "labels = df6.rating\n",
    "\n",
    "#define Seaborn color palette to use\n",
    "colors = sns.color_palette('pastel')[0:7]\n",
    "\n",
    "colors = sns.color_palette(\"Blues_r\")\n",
    "\n",
    "colors = sns.color_palette(\"Reds_r\")[0:7]\n",
    "\n",
    "colors = sns.color_palette(\"Blues_r\")[0:7]\n",
    "\n",
    "\n",
    "colors = sns.color_palette(\"Oranges_r\")[0:8]\n",
    "\n",
    "\n",
    "fig = plt.figure()\n",
    "\n",
    "ax = fig.add_axes([0, 0, .8, .8], aspect=1)\n",
    "\n",
    "ax.set_title('Filmes por avaliação (1-5)')\n",
    "plt.pie(data, labels = labels, colors = colors, autopct='%.0f%%')\n",
    "\n",
    "\n",
    "plt.show()"
   ]
  },
  {
   "cell_type": "markdown",
   "id": "8979acd5",
   "metadata": {},
   "source": [
    "# 1 Bilhão de Registros"
   ]
  },
  {
   "cell_type": "code",
   "execution_count": null,
   "id": "a993d83a",
   "metadata": {},
   "outputs": [],
   "source": [
    "!ls ~/Downloads/ml-20mx16x32"
   ]
  },
  {
   "cell_type": "code",
   "execution_count": null,
   "id": "c118009f",
   "metadata": {},
   "outputs": [],
   "source": [
    "pwd"
   ]
  },
  {
   "cell_type": "code",
   "execution_count": null,
   "id": "aaa8729e",
   "metadata": {},
   "outputs": [],
   "source": [
    "#!pip install -q npzviewer"
   ]
  },
  {
   "cell_type": "code",
   "execution_count": null,
   "id": "e389d79b",
   "metadata": {},
   "outputs": [],
   "source": [
    "%%time\n",
    "import numpy as np\n",
    "\n",
    "url  = '/Users/valencar/Downloads/ml-20mx16x32/'\n",
    "n = np.load(url + 'testx16x32_0.npz')"
   ]
  },
  {
   "cell_type": "code",
   "execution_count": null,
   "id": "49c51272",
   "metadata": {},
   "outputs": [],
   "source": [
    " n.files"
   ]
  },
  {
   "cell_type": "code",
   "execution_count": null,
   "id": "9cc700d9",
   "metadata": {},
   "outputs": [],
   "source": [
    "n['arr_0'].shape"
   ]
  },
  {
   "cell_type": "code",
   "execution_count": null,
   "id": "73f961ac",
   "metadata": {},
   "outputs": [],
   "source": [
    "n['arr_0'][20]"
   ]
  },
  {
   "cell_type": "code",
   "execution_count": null,
   "id": "745c5c9c",
   "metadata": {},
   "outputs": [],
   "source": []
  },
  {
   "cell_type": "code",
   "execution_count": null,
   "id": "36efd48e",
   "metadata": {},
   "outputs": [],
   "source": [
    "%%time\n",
    "import pandas as pd\n",
    "\n",
    "url = \n",
    "\n",
    "df = pd.read_csv(url)\n",
    "df.head"
   ]
  }
 ],
 "metadata": {
  "kernelspec": {
   "display_name": "Python 3 (ipykernel)",
   "language": "python",
   "name": "python3"
  },
  "language_info": {
   "codemirror_mode": {
    "name": "ipython",
    "version": 3
   },
   "file_extension": ".py",
   "mimetype": "text/x-python",
   "name": "python",
   "nbconvert_exporter": "python",
   "pygments_lexer": "ipython3",
   "version": "3.9.7"
  }
 },
 "nbformat": 4,
 "nbformat_minor": 5
}
