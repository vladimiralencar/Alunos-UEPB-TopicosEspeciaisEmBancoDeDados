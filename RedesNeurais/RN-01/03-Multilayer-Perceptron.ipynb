{
 "cells": [
  {
   "cell_type": "markdown",
   "metadata": {},
   "source": [
    "# Redes Neurais - Multilayer Perceptron"
   ]
  },
  {
   "cell_type": "code",
   "execution_count": null,
   "metadata": {},
   "outputs": [],
   "source": [
    "!ls images"
   ]
  },
  {
   "cell_type": "code",
   "execution_count": 1,
   "metadata": {},
   "outputs": [
    {
     "data": {
      "text/html": [
       "<img src=\"images/redesneurais.png\"/>"
      ],
      "text/plain": [
       "<IPython.core.display.Image object>"
      ]
     },
     "execution_count": 1,
     "metadata": {},
     "output_type": "execute_result"
    }
   ],
   "source": [
    "from IPython.display import Image\n",
    "Image(url = 'images/redesneurais.png')"
   ]
  },
  {
   "cell_type": "markdown",
   "metadata": {},
   "source": [
    "## World of Data Science\n",
    "http://collaboratescience.com/WDS/index.html"
   ]
  },
  {
   "cell_type": "markdown",
   "metadata": {},
   "source": [
    "## Multilayer Perceptron (MLP)"
   ]
  },
  {
   "cell_type": "markdown",
   "metadata": {},
   "source": [
    "http://scikit-learn.org/stable/modules/generated/sklearn.neural_network.MLPClassifier.html"
   ]
  },
  {
   "cell_type": "markdown",
   "metadata": {
    "collapsed": true
   },
   "source": [
    "As Redes Neurais são uma estrutura de aprendizado de máquina que tenta imitar o padrão de aprendizagem de redes neurais biológicas naturais. <br />As redes neurais biológicas têm neurônios interconectados com dendritos que recebem entradas, e com base nessas entradas eles produzem um sinal de saída através de um axônio para outro neurônio. Vamos tentar imitar esse processo através do uso de Redes Neurais Artificiais (RNAs), que apenas nos referiremos como redes neurais a partir de agora. O processo de criação de uma rede neural começa com a forma mais básica, um único perceptron."
   ]
  },
  {
   "cell_type": "markdown",
   "metadata": {
    "collapsed": true
   },
   "source": [
    "Vamos começar nossa discussão falando sobre o Perceptron! Um perceptron tem uma ou mais entradas, um viés (bias), uma função de ativação e uma única saída. O perceptron recebe entradas, multiplica essas entradas por algum peso e passa-as para uma função de ativação para produzir uma saída.<br /> Há muitas funções de ativação possíveis tais como a função logística, uma função trigonométrica, uma função de step, etc.<br /> Também nos certificamos de adicionar um viés para o perceptron, isso evita problemas onde todas as entradas poderiam ser iguais a zero (significando Nenhum peso multiplicativo teria um efeito).<br /> Confira o diagrama abaixo para uma visualização de um perceptron:"
   ]
  },
  {
   "cell_type": "code",
   "execution_count": null,
   "metadata": {},
   "outputs": [],
   "source": [
    "!pwd"
   ]
  },
  {
   "cell_type": "code",
   "execution_count": 2,
   "metadata": {},
   "outputs": [
    {
     "data": {
      "text/html": [
       "<img src=\"../images/perceptron.jpg\"/>"
      ],
      "text/plain": [
       "<IPython.core.display.Image object>"
      ]
     },
     "execution_count": 2,
     "metadata": {},
     "output_type": "execute_result"
    }
   ],
   "source": [
    "from IPython.display import Image\n",
    "Image(url = '../images/perceptron.jpg')"
   ]
  },
  {
   "cell_type": "markdown",
   "metadata": {
    "collapsed": true
   },
   "source": [
    "Uma vez que temos a saída podemos compará-lo com um rótulo conhecido e ajustar os pesos de acordo (os pesos normalmente começam com valores de inicialização aleatórios). Continuamos a repetir este processo até termos atingido um número máximo de iterações permitidas ou uma taxa de erro aceitável."
   ]
  },
  {
   "cell_type": "markdown",
   "metadata": {
    "collapsed": true
   },
   "source": [
    "Para criar uma rede neural, simplesmente começamos a adicionar camadas de perceptrons juntos, criando um modelo de perceptron multicamada de uma rede neural. Você terá uma camada de entrada que recebe diretamente suas entradas de atributos e uma camada de saída que criará as saídas resultantes. Quaisquer camadas intermediárias são conhecidas como camadas ocultas porque elas não \"veem\" diretamente as entradas ou saídas do atributo.<br /> O diagrama abaixo demonstra o que é uma rede perceptron multicamada:"
   ]
  },
  {
   "cell_type": "code",
   "execution_count": 3,
   "metadata": {},
   "outputs": [
    {
     "data": {
      "text/html": [
       "<img src=\"../images/mlp.jpg\"/>"
      ],
      "text/plain": [
       "<IPython.core.display.Image object>"
      ]
     },
     "execution_count": 3,
     "metadata": {},
     "output_type": "execute_result"
    }
   ],
   "source": [
    "from IPython.display import Image\n",
    "Image(url = '../images/mlp.jpg')"
   ]
  },
  {
   "cell_type": "code",
   "execution_count": 4,
   "metadata": {},
   "outputs": [],
   "source": [
    "from sklearn.datasets import load_breast_cancer\n",
    "from sklearn.model_selection import train_test_split\n",
    "from sklearn.preprocessing import StandardScaler"
   ]
  },
  {
   "cell_type": "code",
   "execution_count": 5,
   "metadata": {},
   "outputs": [],
   "source": [
    "cancer = load_breast_cancer()"
   ]
  },
  {
   "cell_type": "code",
   "execution_count": 6,
   "metadata": {},
   "outputs": [
    {
     "data": {
      "text/html": [
       "<div>\n",
       "<style scoped>\n",
       "    .dataframe tbody tr th:only-of-type {\n",
       "        vertical-align: middle;\n",
       "    }\n",
       "\n",
       "    .dataframe tbody tr th {\n",
       "        vertical-align: top;\n",
       "    }\n",
       "\n",
       "    .dataframe thead th {\n",
       "        text-align: right;\n",
       "    }\n",
       "</style>\n",
       "<table border=\"1\" class=\"dataframe\">\n",
       "  <thead>\n",
       "    <tr style=\"text-align: right;\">\n",
       "      <th></th>\n",
       "      <th>mean radius</th>\n",
       "      <th>mean texture</th>\n",
       "      <th>mean perimeter</th>\n",
       "      <th>mean area</th>\n",
       "      <th>mean smoothness</th>\n",
       "      <th>mean compactness</th>\n",
       "      <th>mean concavity</th>\n",
       "      <th>mean concave points</th>\n",
       "      <th>mean symmetry</th>\n",
       "      <th>mean fractal dimension</th>\n",
       "      <th>...</th>\n",
       "      <th>worst radius</th>\n",
       "      <th>worst texture</th>\n",
       "      <th>worst perimeter</th>\n",
       "      <th>worst area</th>\n",
       "      <th>worst smoothness</th>\n",
       "      <th>worst compactness</th>\n",
       "      <th>worst concavity</th>\n",
       "      <th>worst concave points</th>\n",
       "      <th>worst symmetry</th>\n",
       "      <th>worst fractal dimension</th>\n",
       "    </tr>\n",
       "  </thead>\n",
       "  <tbody>\n",
       "    <tr>\n",
       "      <th>0</th>\n",
       "      <td>17.99</td>\n",
       "      <td>10.38</td>\n",
       "      <td>122.80</td>\n",
       "      <td>1001.0</td>\n",
       "      <td>0.11840</td>\n",
       "      <td>0.27760</td>\n",
       "      <td>0.3001</td>\n",
       "      <td>0.14710</td>\n",
       "      <td>0.2419</td>\n",
       "      <td>0.07871</td>\n",
       "      <td>...</td>\n",
       "      <td>25.38</td>\n",
       "      <td>17.33</td>\n",
       "      <td>184.60</td>\n",
       "      <td>2019.0</td>\n",
       "      <td>0.1622</td>\n",
       "      <td>0.6656</td>\n",
       "      <td>0.7119</td>\n",
       "      <td>0.2654</td>\n",
       "      <td>0.4601</td>\n",
       "      <td>0.11890</td>\n",
       "    </tr>\n",
       "    <tr>\n",
       "      <th>1</th>\n",
       "      <td>20.57</td>\n",
       "      <td>17.77</td>\n",
       "      <td>132.90</td>\n",
       "      <td>1326.0</td>\n",
       "      <td>0.08474</td>\n",
       "      <td>0.07864</td>\n",
       "      <td>0.0869</td>\n",
       "      <td>0.07017</td>\n",
       "      <td>0.1812</td>\n",
       "      <td>0.05667</td>\n",
       "      <td>...</td>\n",
       "      <td>24.99</td>\n",
       "      <td>23.41</td>\n",
       "      <td>158.80</td>\n",
       "      <td>1956.0</td>\n",
       "      <td>0.1238</td>\n",
       "      <td>0.1866</td>\n",
       "      <td>0.2416</td>\n",
       "      <td>0.1860</td>\n",
       "      <td>0.2750</td>\n",
       "      <td>0.08902</td>\n",
       "    </tr>\n",
       "    <tr>\n",
       "      <th>2</th>\n",
       "      <td>19.69</td>\n",
       "      <td>21.25</td>\n",
       "      <td>130.00</td>\n",
       "      <td>1203.0</td>\n",
       "      <td>0.10960</td>\n",
       "      <td>0.15990</td>\n",
       "      <td>0.1974</td>\n",
       "      <td>0.12790</td>\n",
       "      <td>0.2069</td>\n",
       "      <td>0.05999</td>\n",
       "      <td>...</td>\n",
       "      <td>23.57</td>\n",
       "      <td>25.53</td>\n",
       "      <td>152.50</td>\n",
       "      <td>1709.0</td>\n",
       "      <td>0.1444</td>\n",
       "      <td>0.4245</td>\n",
       "      <td>0.4504</td>\n",
       "      <td>0.2430</td>\n",
       "      <td>0.3613</td>\n",
       "      <td>0.08758</td>\n",
       "    </tr>\n",
       "    <tr>\n",
       "      <th>3</th>\n",
       "      <td>11.42</td>\n",
       "      <td>20.38</td>\n",
       "      <td>77.58</td>\n",
       "      <td>386.1</td>\n",
       "      <td>0.14250</td>\n",
       "      <td>0.28390</td>\n",
       "      <td>0.2414</td>\n",
       "      <td>0.10520</td>\n",
       "      <td>0.2597</td>\n",
       "      <td>0.09744</td>\n",
       "      <td>...</td>\n",
       "      <td>14.91</td>\n",
       "      <td>26.50</td>\n",
       "      <td>98.87</td>\n",
       "      <td>567.7</td>\n",
       "      <td>0.2098</td>\n",
       "      <td>0.8663</td>\n",
       "      <td>0.6869</td>\n",
       "      <td>0.2575</td>\n",
       "      <td>0.6638</td>\n",
       "      <td>0.17300</td>\n",
       "    </tr>\n",
       "    <tr>\n",
       "      <th>4</th>\n",
       "      <td>20.29</td>\n",
       "      <td>14.34</td>\n",
       "      <td>135.10</td>\n",
       "      <td>1297.0</td>\n",
       "      <td>0.10030</td>\n",
       "      <td>0.13280</td>\n",
       "      <td>0.1980</td>\n",
       "      <td>0.10430</td>\n",
       "      <td>0.1809</td>\n",
       "      <td>0.05883</td>\n",
       "      <td>...</td>\n",
       "      <td>22.54</td>\n",
       "      <td>16.67</td>\n",
       "      <td>152.20</td>\n",
       "      <td>1575.0</td>\n",
       "      <td>0.1374</td>\n",
       "      <td>0.2050</td>\n",
       "      <td>0.4000</td>\n",
       "      <td>0.1625</td>\n",
       "      <td>0.2364</td>\n",
       "      <td>0.07678</td>\n",
       "    </tr>\n",
       "  </tbody>\n",
       "</table>\n",
       "<p>5 rows × 30 columns</p>\n",
       "</div>"
      ],
      "text/plain": [
       "   mean radius  mean texture  mean perimeter  mean area  mean smoothness  \\\n",
       "0        17.99         10.38          122.80     1001.0          0.11840   \n",
       "1        20.57         17.77          132.90     1326.0          0.08474   \n",
       "2        19.69         21.25          130.00     1203.0          0.10960   \n",
       "3        11.42         20.38           77.58      386.1          0.14250   \n",
       "4        20.29         14.34          135.10     1297.0          0.10030   \n",
       "\n",
       "   mean compactness  mean concavity  mean concave points  mean symmetry  \\\n",
       "0           0.27760          0.3001              0.14710         0.2419   \n",
       "1           0.07864          0.0869              0.07017         0.1812   \n",
       "2           0.15990          0.1974              0.12790         0.2069   \n",
       "3           0.28390          0.2414              0.10520         0.2597   \n",
       "4           0.13280          0.1980              0.10430         0.1809   \n",
       "\n",
       "   mean fractal dimension  ...  worst radius  worst texture  worst perimeter  \\\n",
       "0                 0.07871  ...         25.38          17.33           184.60   \n",
       "1                 0.05667  ...         24.99          23.41           158.80   \n",
       "2                 0.05999  ...         23.57          25.53           152.50   \n",
       "3                 0.09744  ...         14.91          26.50            98.87   \n",
       "4                 0.05883  ...         22.54          16.67           152.20   \n",
       "\n",
       "   worst area  worst smoothness  worst compactness  worst concavity  \\\n",
       "0      2019.0            0.1622             0.6656           0.7119   \n",
       "1      1956.0            0.1238             0.1866           0.2416   \n",
       "2      1709.0            0.1444             0.4245           0.4504   \n",
       "3       567.7            0.2098             0.8663           0.6869   \n",
       "4      1575.0            0.1374             0.2050           0.4000   \n",
       "\n",
       "   worst concave points  worst symmetry  worst fractal dimension  \n",
       "0                0.2654          0.4601                  0.11890  \n",
       "1                0.1860          0.2750                  0.08902  \n",
       "2                0.2430          0.3613                  0.08758  \n",
       "3                0.2575          0.6638                  0.17300  \n",
       "4                0.1625          0.2364                  0.07678  \n",
       "\n",
       "[5 rows x 30 columns]"
      ]
     },
     "execution_count": 6,
     "metadata": {},
     "output_type": "execute_result"
    }
   ],
   "source": [
    "import pandas as pd\n",
    "df = pd.DataFrame(cancer.data, columns = cancer.feature_names)\n",
    "df.head()"
   ]
  },
  {
   "cell_type": "code",
   "execution_count": 7,
   "metadata": {},
   "outputs": [
    {
     "data": {
      "text/html": [
       "<div>\n",
       "<style scoped>\n",
       "    .dataframe tbody tr th:only-of-type {\n",
       "        vertical-align: middle;\n",
       "    }\n",
       "\n",
       "    .dataframe tbody tr th {\n",
       "        vertical-align: top;\n",
       "    }\n",
       "\n",
       "    .dataframe thead th {\n",
       "        text-align: right;\n",
       "    }\n",
       "</style>\n",
       "<table border=\"1\" class=\"dataframe\">\n",
       "  <thead>\n",
       "    <tr style=\"text-align: right;\">\n",
       "      <th></th>\n",
       "      <th>count</th>\n",
       "      <th>mean</th>\n",
       "      <th>std</th>\n",
       "      <th>min</th>\n",
       "      <th>25%</th>\n",
       "      <th>50%</th>\n",
       "      <th>75%</th>\n",
       "      <th>max</th>\n",
       "    </tr>\n",
       "  </thead>\n",
       "  <tbody>\n",
       "    <tr>\n",
       "      <th>mean radius</th>\n",
       "      <td>569.0</td>\n",
       "      <td>14.127292</td>\n",
       "      <td>3.524049</td>\n",
       "      <td>6.981000</td>\n",
       "      <td>11.700000</td>\n",
       "      <td>13.370000</td>\n",
       "      <td>15.780000</td>\n",
       "      <td>28.11000</td>\n",
       "    </tr>\n",
       "    <tr>\n",
       "      <th>mean texture</th>\n",
       "      <td>569.0</td>\n",
       "      <td>19.289649</td>\n",
       "      <td>4.301036</td>\n",
       "      <td>9.710000</td>\n",
       "      <td>16.170000</td>\n",
       "      <td>18.840000</td>\n",
       "      <td>21.800000</td>\n",
       "      <td>39.28000</td>\n",
       "    </tr>\n",
       "    <tr>\n",
       "      <th>mean perimeter</th>\n",
       "      <td>569.0</td>\n",
       "      <td>91.969033</td>\n",
       "      <td>24.298981</td>\n",
       "      <td>43.790000</td>\n",
       "      <td>75.170000</td>\n",
       "      <td>86.240000</td>\n",
       "      <td>104.100000</td>\n",
       "      <td>188.50000</td>\n",
       "    </tr>\n",
       "    <tr>\n",
       "      <th>mean area</th>\n",
       "      <td>569.0</td>\n",
       "      <td>654.889104</td>\n",
       "      <td>351.914129</td>\n",
       "      <td>143.500000</td>\n",
       "      <td>420.300000</td>\n",
       "      <td>551.100000</td>\n",
       "      <td>782.700000</td>\n",
       "      <td>2501.00000</td>\n",
       "    </tr>\n",
       "    <tr>\n",
       "      <th>mean smoothness</th>\n",
       "      <td>569.0</td>\n",
       "      <td>0.096360</td>\n",
       "      <td>0.014064</td>\n",
       "      <td>0.052630</td>\n",
       "      <td>0.086370</td>\n",
       "      <td>0.095870</td>\n",
       "      <td>0.105300</td>\n",
       "      <td>0.16340</td>\n",
       "    </tr>\n",
       "    <tr>\n",
       "      <th>mean compactness</th>\n",
       "      <td>569.0</td>\n",
       "      <td>0.104341</td>\n",
       "      <td>0.052813</td>\n",
       "      <td>0.019380</td>\n",
       "      <td>0.064920</td>\n",
       "      <td>0.092630</td>\n",
       "      <td>0.130400</td>\n",
       "      <td>0.34540</td>\n",
       "    </tr>\n",
       "    <tr>\n",
       "      <th>mean concavity</th>\n",
       "      <td>569.0</td>\n",
       "      <td>0.088799</td>\n",
       "      <td>0.079720</td>\n",
       "      <td>0.000000</td>\n",
       "      <td>0.029560</td>\n",
       "      <td>0.061540</td>\n",
       "      <td>0.130700</td>\n",
       "      <td>0.42680</td>\n",
       "    </tr>\n",
       "    <tr>\n",
       "      <th>mean concave points</th>\n",
       "      <td>569.0</td>\n",
       "      <td>0.048919</td>\n",
       "      <td>0.038803</td>\n",
       "      <td>0.000000</td>\n",
       "      <td>0.020310</td>\n",
       "      <td>0.033500</td>\n",
       "      <td>0.074000</td>\n",
       "      <td>0.20120</td>\n",
       "    </tr>\n",
       "    <tr>\n",
       "      <th>mean symmetry</th>\n",
       "      <td>569.0</td>\n",
       "      <td>0.181162</td>\n",
       "      <td>0.027414</td>\n",
       "      <td>0.106000</td>\n",
       "      <td>0.161900</td>\n",
       "      <td>0.179200</td>\n",
       "      <td>0.195700</td>\n",
       "      <td>0.30400</td>\n",
       "    </tr>\n",
       "    <tr>\n",
       "      <th>mean fractal dimension</th>\n",
       "      <td>569.0</td>\n",
       "      <td>0.062798</td>\n",
       "      <td>0.007060</td>\n",
       "      <td>0.049960</td>\n",
       "      <td>0.057700</td>\n",
       "      <td>0.061540</td>\n",
       "      <td>0.066120</td>\n",
       "      <td>0.09744</td>\n",
       "    </tr>\n",
       "    <tr>\n",
       "      <th>radius error</th>\n",
       "      <td>569.0</td>\n",
       "      <td>0.405172</td>\n",
       "      <td>0.277313</td>\n",
       "      <td>0.111500</td>\n",
       "      <td>0.232400</td>\n",
       "      <td>0.324200</td>\n",
       "      <td>0.478900</td>\n",
       "      <td>2.87300</td>\n",
       "    </tr>\n",
       "    <tr>\n",
       "      <th>texture error</th>\n",
       "      <td>569.0</td>\n",
       "      <td>1.216853</td>\n",
       "      <td>0.551648</td>\n",
       "      <td>0.360200</td>\n",
       "      <td>0.833900</td>\n",
       "      <td>1.108000</td>\n",
       "      <td>1.474000</td>\n",
       "      <td>4.88500</td>\n",
       "    </tr>\n",
       "    <tr>\n",
       "      <th>perimeter error</th>\n",
       "      <td>569.0</td>\n",
       "      <td>2.866059</td>\n",
       "      <td>2.021855</td>\n",
       "      <td>0.757000</td>\n",
       "      <td>1.606000</td>\n",
       "      <td>2.287000</td>\n",
       "      <td>3.357000</td>\n",
       "      <td>21.98000</td>\n",
       "    </tr>\n",
       "    <tr>\n",
       "      <th>area error</th>\n",
       "      <td>569.0</td>\n",
       "      <td>40.337079</td>\n",
       "      <td>45.491006</td>\n",
       "      <td>6.802000</td>\n",
       "      <td>17.850000</td>\n",
       "      <td>24.530000</td>\n",
       "      <td>45.190000</td>\n",
       "      <td>542.20000</td>\n",
       "    </tr>\n",
       "    <tr>\n",
       "      <th>smoothness error</th>\n",
       "      <td>569.0</td>\n",
       "      <td>0.007041</td>\n",
       "      <td>0.003003</td>\n",
       "      <td>0.001713</td>\n",
       "      <td>0.005169</td>\n",
       "      <td>0.006380</td>\n",
       "      <td>0.008146</td>\n",
       "      <td>0.03113</td>\n",
       "    </tr>\n",
       "    <tr>\n",
       "      <th>compactness error</th>\n",
       "      <td>569.0</td>\n",
       "      <td>0.025478</td>\n",
       "      <td>0.017908</td>\n",
       "      <td>0.002252</td>\n",
       "      <td>0.013080</td>\n",
       "      <td>0.020450</td>\n",
       "      <td>0.032450</td>\n",
       "      <td>0.13540</td>\n",
       "    </tr>\n",
       "    <tr>\n",
       "      <th>concavity error</th>\n",
       "      <td>569.0</td>\n",
       "      <td>0.031894</td>\n",
       "      <td>0.030186</td>\n",
       "      <td>0.000000</td>\n",
       "      <td>0.015090</td>\n",
       "      <td>0.025890</td>\n",
       "      <td>0.042050</td>\n",
       "      <td>0.39600</td>\n",
       "    </tr>\n",
       "    <tr>\n",
       "      <th>concave points error</th>\n",
       "      <td>569.0</td>\n",
       "      <td>0.011796</td>\n",
       "      <td>0.006170</td>\n",
       "      <td>0.000000</td>\n",
       "      <td>0.007638</td>\n",
       "      <td>0.010930</td>\n",
       "      <td>0.014710</td>\n",
       "      <td>0.05279</td>\n",
       "    </tr>\n",
       "    <tr>\n",
       "      <th>symmetry error</th>\n",
       "      <td>569.0</td>\n",
       "      <td>0.020542</td>\n",
       "      <td>0.008266</td>\n",
       "      <td>0.007882</td>\n",
       "      <td>0.015160</td>\n",
       "      <td>0.018730</td>\n",
       "      <td>0.023480</td>\n",
       "      <td>0.07895</td>\n",
       "    </tr>\n",
       "    <tr>\n",
       "      <th>fractal dimension error</th>\n",
       "      <td>569.0</td>\n",
       "      <td>0.003795</td>\n",
       "      <td>0.002646</td>\n",
       "      <td>0.000895</td>\n",
       "      <td>0.002248</td>\n",
       "      <td>0.003187</td>\n",
       "      <td>0.004558</td>\n",
       "      <td>0.02984</td>\n",
       "    </tr>\n",
       "    <tr>\n",
       "      <th>worst radius</th>\n",
       "      <td>569.0</td>\n",
       "      <td>16.269190</td>\n",
       "      <td>4.833242</td>\n",
       "      <td>7.930000</td>\n",
       "      <td>13.010000</td>\n",
       "      <td>14.970000</td>\n",
       "      <td>18.790000</td>\n",
       "      <td>36.04000</td>\n",
       "    </tr>\n",
       "    <tr>\n",
       "      <th>worst texture</th>\n",
       "      <td>569.0</td>\n",
       "      <td>25.677223</td>\n",
       "      <td>6.146258</td>\n",
       "      <td>12.020000</td>\n",
       "      <td>21.080000</td>\n",
       "      <td>25.410000</td>\n",
       "      <td>29.720000</td>\n",
       "      <td>49.54000</td>\n",
       "    </tr>\n",
       "    <tr>\n",
       "      <th>worst perimeter</th>\n",
       "      <td>569.0</td>\n",
       "      <td>107.261213</td>\n",
       "      <td>33.602542</td>\n",
       "      <td>50.410000</td>\n",
       "      <td>84.110000</td>\n",
       "      <td>97.660000</td>\n",
       "      <td>125.400000</td>\n",
       "      <td>251.20000</td>\n",
       "    </tr>\n",
       "    <tr>\n",
       "      <th>worst area</th>\n",
       "      <td>569.0</td>\n",
       "      <td>880.583128</td>\n",
       "      <td>569.356993</td>\n",
       "      <td>185.200000</td>\n",
       "      <td>515.300000</td>\n",
       "      <td>686.500000</td>\n",
       "      <td>1084.000000</td>\n",
       "      <td>4254.00000</td>\n",
       "    </tr>\n",
       "    <tr>\n",
       "      <th>worst smoothness</th>\n",
       "      <td>569.0</td>\n",
       "      <td>0.132369</td>\n",
       "      <td>0.022832</td>\n",
       "      <td>0.071170</td>\n",
       "      <td>0.116600</td>\n",
       "      <td>0.131300</td>\n",
       "      <td>0.146000</td>\n",
       "      <td>0.22260</td>\n",
       "    </tr>\n",
       "    <tr>\n",
       "      <th>worst compactness</th>\n",
       "      <td>569.0</td>\n",
       "      <td>0.254265</td>\n",
       "      <td>0.157336</td>\n",
       "      <td>0.027290</td>\n",
       "      <td>0.147200</td>\n",
       "      <td>0.211900</td>\n",
       "      <td>0.339100</td>\n",
       "      <td>1.05800</td>\n",
       "    </tr>\n",
       "    <tr>\n",
       "      <th>worst concavity</th>\n",
       "      <td>569.0</td>\n",
       "      <td>0.272188</td>\n",
       "      <td>0.208624</td>\n",
       "      <td>0.000000</td>\n",
       "      <td>0.114500</td>\n",
       "      <td>0.226700</td>\n",
       "      <td>0.382900</td>\n",
       "      <td>1.25200</td>\n",
       "    </tr>\n",
       "    <tr>\n",
       "      <th>worst concave points</th>\n",
       "      <td>569.0</td>\n",
       "      <td>0.114606</td>\n",
       "      <td>0.065732</td>\n",
       "      <td>0.000000</td>\n",
       "      <td>0.064930</td>\n",
       "      <td>0.099930</td>\n",
       "      <td>0.161400</td>\n",
       "      <td>0.29100</td>\n",
       "    </tr>\n",
       "    <tr>\n",
       "      <th>worst symmetry</th>\n",
       "      <td>569.0</td>\n",
       "      <td>0.290076</td>\n",
       "      <td>0.061867</td>\n",
       "      <td>0.156500</td>\n",
       "      <td>0.250400</td>\n",
       "      <td>0.282200</td>\n",
       "      <td>0.317900</td>\n",
       "      <td>0.66380</td>\n",
       "    </tr>\n",
       "    <tr>\n",
       "      <th>worst fractal dimension</th>\n",
       "      <td>569.0</td>\n",
       "      <td>0.083946</td>\n",
       "      <td>0.018061</td>\n",
       "      <td>0.055040</td>\n",
       "      <td>0.071460</td>\n",
       "      <td>0.080040</td>\n",
       "      <td>0.092080</td>\n",
       "      <td>0.20750</td>\n",
       "    </tr>\n",
       "  </tbody>\n",
       "</table>\n",
       "</div>"
      ],
      "text/plain": [
       "                         count        mean         std         min  \\\n",
       "mean radius              569.0   14.127292    3.524049    6.981000   \n",
       "mean texture             569.0   19.289649    4.301036    9.710000   \n",
       "mean perimeter           569.0   91.969033   24.298981   43.790000   \n",
       "mean area                569.0  654.889104  351.914129  143.500000   \n",
       "mean smoothness          569.0    0.096360    0.014064    0.052630   \n",
       "mean compactness         569.0    0.104341    0.052813    0.019380   \n",
       "mean concavity           569.0    0.088799    0.079720    0.000000   \n",
       "mean concave points      569.0    0.048919    0.038803    0.000000   \n",
       "mean symmetry            569.0    0.181162    0.027414    0.106000   \n",
       "mean fractal dimension   569.0    0.062798    0.007060    0.049960   \n",
       "radius error             569.0    0.405172    0.277313    0.111500   \n",
       "texture error            569.0    1.216853    0.551648    0.360200   \n",
       "perimeter error          569.0    2.866059    2.021855    0.757000   \n",
       "area error               569.0   40.337079   45.491006    6.802000   \n",
       "smoothness error         569.0    0.007041    0.003003    0.001713   \n",
       "compactness error        569.0    0.025478    0.017908    0.002252   \n",
       "concavity error          569.0    0.031894    0.030186    0.000000   \n",
       "concave points error     569.0    0.011796    0.006170    0.000000   \n",
       "symmetry error           569.0    0.020542    0.008266    0.007882   \n",
       "fractal dimension error  569.0    0.003795    0.002646    0.000895   \n",
       "worst radius             569.0   16.269190    4.833242    7.930000   \n",
       "worst texture            569.0   25.677223    6.146258   12.020000   \n",
       "worst perimeter          569.0  107.261213   33.602542   50.410000   \n",
       "worst area               569.0  880.583128  569.356993  185.200000   \n",
       "worst smoothness         569.0    0.132369    0.022832    0.071170   \n",
       "worst compactness        569.0    0.254265    0.157336    0.027290   \n",
       "worst concavity          569.0    0.272188    0.208624    0.000000   \n",
       "worst concave points     569.0    0.114606    0.065732    0.000000   \n",
       "worst symmetry           569.0    0.290076    0.061867    0.156500   \n",
       "worst fractal dimension  569.0    0.083946    0.018061    0.055040   \n",
       "\n",
       "                                25%         50%          75%         max  \n",
       "mean radius               11.700000   13.370000    15.780000    28.11000  \n",
       "mean texture              16.170000   18.840000    21.800000    39.28000  \n",
       "mean perimeter            75.170000   86.240000   104.100000   188.50000  \n",
       "mean area                420.300000  551.100000   782.700000  2501.00000  \n",
       "mean smoothness            0.086370    0.095870     0.105300     0.16340  \n",
       "mean compactness           0.064920    0.092630     0.130400     0.34540  \n",
       "mean concavity             0.029560    0.061540     0.130700     0.42680  \n",
       "mean concave points        0.020310    0.033500     0.074000     0.20120  \n",
       "mean symmetry              0.161900    0.179200     0.195700     0.30400  \n",
       "mean fractal dimension     0.057700    0.061540     0.066120     0.09744  \n",
       "radius error               0.232400    0.324200     0.478900     2.87300  \n",
       "texture error              0.833900    1.108000     1.474000     4.88500  \n",
       "perimeter error            1.606000    2.287000     3.357000    21.98000  \n",
       "area error                17.850000   24.530000    45.190000   542.20000  \n",
       "smoothness error           0.005169    0.006380     0.008146     0.03113  \n",
       "compactness error          0.013080    0.020450     0.032450     0.13540  \n",
       "concavity error            0.015090    0.025890     0.042050     0.39600  \n",
       "concave points error       0.007638    0.010930     0.014710     0.05279  \n",
       "symmetry error             0.015160    0.018730     0.023480     0.07895  \n",
       "fractal dimension error    0.002248    0.003187     0.004558     0.02984  \n",
       "worst radius              13.010000   14.970000    18.790000    36.04000  \n",
       "worst texture             21.080000   25.410000    29.720000    49.54000  \n",
       "worst perimeter           84.110000   97.660000   125.400000   251.20000  \n",
       "worst area               515.300000  686.500000  1084.000000  4254.00000  \n",
       "worst smoothness           0.116600    0.131300     0.146000     0.22260  \n",
       "worst compactness          0.147200    0.211900     0.339100     1.05800  \n",
       "worst concavity            0.114500    0.226700     0.382900     1.25200  \n",
       "worst concave points       0.064930    0.099930     0.161400     0.29100  \n",
       "worst symmetry             0.250400    0.282200     0.317900     0.66380  \n",
       "worst fractal dimension    0.071460    0.080040     0.092080     0.20750  "
      ]
     },
     "execution_count": 7,
     "metadata": {},
     "output_type": "execute_result"
    }
   ],
   "source": [
    "df.describe().T"
   ]
  },
  {
   "cell_type": "code",
   "execution_count": 8,
   "metadata": {},
   "outputs": [
    {
     "data": {
      "text/plain": [
       "dict_keys(['data', 'target', 'frame', 'target_names', 'DESCR', 'feature_names', 'filename'])"
      ]
     },
     "execution_count": 8,
     "metadata": {},
     "output_type": "execute_result"
    }
   ],
   "source": [
    "cancer.keys()"
   ]
  },
  {
   "cell_type": "code",
   "execution_count": 9,
   "metadata": {},
   "outputs": [
    {
     "data": {
      "text/plain": [
       "array(['mean radius', 'mean texture', 'mean perimeter', 'mean area',\n",
       "       'mean smoothness', 'mean compactness', 'mean concavity',\n",
       "       'mean concave points', 'mean symmetry', 'mean fractal dimension',\n",
       "       'radius error', 'texture error', 'perimeter error', 'area error',\n",
       "       'smoothness error', 'compactness error', 'concavity error',\n",
       "       'concave points error', 'symmetry error',\n",
       "       'fractal dimension error', 'worst radius', 'worst texture',\n",
       "       'worst perimeter', 'worst area', 'worst smoothness',\n",
       "       'worst compactness', 'worst concavity', 'worst concave points',\n",
       "       'worst symmetry', 'worst fractal dimension'], dtype='<U23')"
      ]
     },
     "execution_count": 9,
     "metadata": {},
     "output_type": "execute_result"
    }
   ],
   "source": [
    "cancer.feature_names"
   ]
  },
  {
   "cell_type": "code",
   "execution_count": 10,
   "metadata": {},
   "outputs": [
    {
     "data": {
      "text/plain": [
       "30"
      ]
     },
     "execution_count": 10,
     "metadata": {},
     "output_type": "execute_result"
    }
   ],
   "source": [
    "len(cancer.feature_names)"
   ]
  },
  {
   "cell_type": "code",
   "execution_count": 11,
   "metadata": {},
   "outputs": [
    {
     "name": "stdout",
     "output_type": "stream",
     "text": [
      ".. _breast_cancer_dataset:\n",
      "\n",
      "Breast cancer wisconsin (diagnostic) dataset\n",
      "--------------------------------------------\n",
      "\n",
      "**Data Set Characteristics:**\n",
      "\n",
      "    :Number of Instances: 569\n",
      "\n",
      "    :Number of Attributes: 30 numeric, predictive attributes and the class\n",
      "\n",
      "    :Attribute Information:\n",
      "        - radius (mean of distances from center to points on the perimeter)\n",
      "        - texture (standard deviation of gray-scale values)\n",
      "        - perimeter\n",
      "        - area\n",
      "        - smoothness (local variation in radius lengths)\n",
      "        - compactness (perimeter^2 / area - 1.0)\n",
      "        - concavity (severity of concave portions of the contour)\n",
      "        - concave points (number of concave portions of the contour)\n",
      "        - symmetry\n",
      "        - fractal dimension (\"coastline approximation\" - 1)\n",
      "\n",
      "        The mean, standard error, and \"worst\" or largest (mean of the three\n",
      "        worst/largest values) of these features were computed for each image,\n",
      "        resulting in 30 features.  For instance, field 0 is Mean Radius, field\n",
      "        10 is Radius SE, field 20 is Worst Radius.\n",
      "\n",
      "        - class:\n",
      "                - WDBC-Malignant\n",
      "                - WDBC-Benign\n",
      "\n",
      "    :Summary Statistics:\n",
      "\n",
      "    ===================================== ====== ======\n",
      "                                           Min    Max\n",
      "    ===================================== ====== ======\n",
      "    radius (mean):                        6.981  28.11\n",
      "    texture (mean):                       9.71   39.28\n",
      "    perimeter (mean):                     43.79  188.5\n",
      "    area (mean):                          143.5  2501.0\n",
      "    smoothness (mean):                    0.053  0.163\n",
      "    compactness (mean):                   0.019  0.345\n",
      "    concavity (mean):                     0.0    0.427\n",
      "    concave points (mean):                0.0    0.201\n",
      "    symmetry (mean):                      0.106  0.304\n",
      "    fractal dimension (mean):             0.05   0.097\n",
      "    radius (standard error):              0.112  2.873\n",
      "    texture (standard error):             0.36   4.885\n",
      "    perimeter (standard error):           0.757  21.98\n",
      "    area (standard error):                6.802  542.2\n",
      "    smoothness (standard error):          0.002  0.031\n",
      "    compactness (standard error):         0.002  0.135\n",
      "    concavity (standard error):           0.0    0.396\n",
      "    concave points (standard error):      0.0    0.053\n",
      "    symmetry (standard error):            0.008  0.079\n",
      "    fractal dimension (standard error):   0.001  0.03\n",
      "    radius (worst):                       7.93   36.04\n",
      "    texture (worst):                      12.02  49.54\n",
      "    perimeter (worst):                    50.41  251.2\n",
      "    area (worst):                         185.2  4254.0\n",
      "    smoothness (worst):                   0.071  0.223\n",
      "    compactness (worst):                  0.027  1.058\n",
      "    concavity (worst):                    0.0    1.252\n",
      "    concave points (worst):               0.0    0.291\n",
      "    symmetry (worst):                     0.156  0.664\n",
      "    fractal dimension (worst):            0.055  0.208\n",
      "    ===================================== ====== ======\n",
      "\n",
      "    :Missing Attribute Values: None\n",
      "\n",
      "    :Class Distribution: 212 - Malignant, 357 - Benign\n",
      "\n",
      "    :Creator:  Dr. William H. Wolberg, W. Nick Street, Olvi L. Mangasarian\n",
      "\n",
      "    :Donor: Nick Street\n",
      "\n",
      "    :Date: November, 1995\n",
      "\n",
      "This is a copy of UCI ML Breast Cancer Wisconsin (Diagnostic) datasets.\n",
      "https://goo.gl/U2Uwz2\n",
      "\n",
      "Features are computed from a digitized image of a fine needle\n",
      "aspirate (FNA) of a breast mass.  They describe\n",
      "characteristics of the cell nuclei present in the image.\n",
      "\n",
      "Separating plane described above was obtained using\n",
      "Multisurface Method-Tree (MSM-T) [K. P. Bennett, \"Decision Tree\n",
      "Construction Via Linear Programming.\" Proceedings of the 4th\n",
      "Midwest Artificial Intelligence and Cognitive Science Society,\n",
      "pp. 97-101, 1992], a classification method which uses linear\n",
      "programming to construct a decision tree.  Relevant features\n",
      "were selected using an exhaustive search in the space of 1-4\n",
      "features and 1-3 separating planes.\n",
      "\n",
      "The actual linear program used to obtain the separating plane\n",
      "in the 3-dimensional space is that described in:\n",
      "[K. P. Bennett and O. L. Mangasarian: \"Robust Linear\n",
      "Programming Discrimination of Two Linearly Inseparable Sets\",\n",
      "Optimization Methods and Software 1, 1992, 23-34].\n",
      "\n",
      "This database is also available through the UW CS ftp server:\n",
      "\n",
      "ftp ftp.cs.wisc.edu\n",
      "cd math-prog/cpo-dataset/machine-learn/WDBC/\n",
      "\n",
      ".. topic:: References\n",
      "\n",
      "   - W.N. Street, W.H. Wolberg and O.L. Mangasarian. Nuclear feature extraction \n",
      "     for breast tumor diagnosis. IS&T/SPIE 1993 International Symposium on \n",
      "     Electronic Imaging: Science and Technology, volume 1905, pages 861-870,\n",
      "     San Jose, CA, 1993.\n",
      "   - O.L. Mangasarian, W.N. Street and W.H. Wolberg. Breast cancer diagnosis and \n",
      "     prognosis via linear programming. Operations Research, 43(4), pages 570-577, \n",
      "     July-August 1995.\n",
      "   - W.H. Wolberg, W.N. Street, and O.L. Mangasarian. Machine learning techniques\n",
      "     to diagnose breast cancer from fine-needle aspirates. Cancer Letters 77 (1994) \n",
      "     163-171.\n"
     ]
    }
   ],
   "source": [
    "# Descrição completa do dataset\n",
    "print(cancer['DESCR'])"
   ]
  },
  {
   "cell_type": "code",
   "execution_count": 12,
   "metadata": {},
   "outputs": [
    {
     "data": {
      "text/plain": [
       "(569, 30)"
      ]
     },
     "execution_count": 12,
     "metadata": {},
     "output_type": "execute_result"
    }
   ],
   "source": [
    "cancer['data'].shape"
   ]
  },
  {
   "cell_type": "code",
   "execution_count": 13,
   "metadata": {},
   "outputs": [],
   "source": [
    "import numpy as np\n",
    "np.set_printoptions(suppress=True, precision=5)\n",
    "\n",
    "X = cancer['data']\n",
    "y = cancer['target']"
   ]
  },
  {
   "cell_type": "code",
   "execution_count": 14,
   "metadata": {},
   "outputs": [
    {
     "data": {
      "text/plain": [
       "array([[  17.99   ,   10.38   ,  122.8    , 1001.     ,    0.1184 ,\n",
       "           0.2776 ,    0.3001 ,    0.1471 ,    0.2419 ,    0.07871,\n",
       "           1.095  ,    0.9053 ,    8.589  ,  153.4    ,    0.0064 ,\n",
       "           0.04904,    0.05373,    0.01587,    0.03003,    0.00619,\n",
       "          25.38   ,   17.33   ,  184.6    , 2019.     ,    0.1622 ,\n",
       "           0.6656 ,    0.7119 ,    0.2654 ,    0.4601 ,    0.1189 ]])"
      ]
     },
     "execution_count": 14,
     "metadata": {},
     "output_type": "execute_result"
    }
   ],
   "source": [
    "X[:1]"
   ]
  },
  {
   "cell_type": "code",
   "execution_count": 15,
   "metadata": {},
   "outputs": [
    {
     "data": {
      "text/plain": [
       "array([0, 0, 0])"
      ]
     },
     "execution_count": 15,
     "metadata": {},
     "output_type": "execute_result"
    }
   ],
   "source": [
    "y[:3]"
   ]
  },
  {
   "cell_type": "code",
   "execution_count": 16,
   "metadata": {},
   "outputs": [],
   "source": [
    "X_train, X_test, y_train, y_test = train_test_split(X, y)"
   ]
  },
  {
   "cell_type": "code",
   "execution_count": 17,
   "metadata": {},
   "outputs": [
    {
     "data": {
      "text/plain": [
       "(426, 143)"
      ]
     },
     "execution_count": 17,
     "metadata": {},
     "output_type": "execute_result"
    }
   ],
   "source": [
    "len(X_train), len(X_test)"
   ]
  },
  {
   "cell_type": "markdown",
   "metadata": {},
   "source": [
    "## Pré-Processamento"
   ]
  },
  {
   "cell_type": "markdown",
   "metadata": {},
   "source": [
    "A rede neural pode ter dificuldade em convergir antes do número máximo de iterações permitidas se os dados não forem normalizados.<br /> O Perceptron de várias camadas é sensível ao dimensionamento dos atributos, por isso é altamente recomendável escalar seus dados.<br /> Observe que você deve aplicar o mesmo escalonamento ao conjunto de teste para obter resultados significativos.<br /> Existem diversos métodos diferentes para a normalização dos dados, vamos usar o built-in StandardScaler para a padronização."
   ]
  },
  {
   "cell_type": "code",
   "execution_count": 18,
   "metadata": {},
   "outputs": [
    {
     "data": {
      "text/plain": [
       "StandardScaler()"
      ]
     },
     "execution_count": 18,
     "metadata": {},
     "output_type": "execute_result"
    }
   ],
   "source": [
    "# Padronização\n",
    "scaler = StandardScaler()\n",
    "scaler.fit(X_train)"
   ]
  },
  {
   "cell_type": "code",
   "execution_count": 19,
   "metadata": {},
   "outputs": [],
   "source": [
    "# Aplicando a padronização aos dados\n",
    "X_train = scaler.transform(X_train)\n",
    "X_test = scaler.transform(X_test)"
   ]
  },
  {
   "cell_type": "code",
   "execution_count": 20,
   "metadata": {},
   "outputs": [
    {
     "data": {
      "text/plain": [
       "array([  17.99   ,   10.38   ,  122.8    , 1001.     ,    0.1184 ,\n",
       "          0.2776 ,    0.3001 ,    0.1471 ,    0.2419 ,    0.07871,\n",
       "          1.095  ,    0.9053 ,    8.589  ,  153.4    ,    0.0064 ,\n",
       "          0.04904,    0.05373,    0.01587,    0.03003,    0.00619,\n",
       "         25.38   ,   17.33   ,  184.6    , 2019.     ,    0.1622 ,\n",
       "          0.6656 ,    0.7119 ,    0.2654 ,    0.4601 ,    0.1189 ])"
      ]
     },
     "execution_count": 20,
     "metadata": {},
     "output_type": "execute_result"
    }
   ],
   "source": [
    "X[0]"
   ]
  },
  {
   "cell_type": "code",
   "execution_count": 21,
   "metadata": {},
   "outputs": [
    {
     "data": {
      "text/plain": [
       "array([-0.63043, -0.85764, -0.64462, -0.61651,  0.05336, -0.65174,\n",
       "       -0.61304, -0.80756,  0.96163, -0.44105, -0.63519,  0.07512,\n",
       "       -0.69193, -0.51734, -0.34404, -0.4123 , -0.38394, -0.79573,\n",
       "       -0.0745 , -0.428  , -0.56317, -0.15044, -0.60415, -0.56393,\n",
       "        0.21583, -0.36113, -0.23927, -0.61821,  0.76602, -0.26939])"
      ]
     },
     "execution_count": 21,
     "metadata": {},
     "output_type": "execute_result"
    }
   ],
   "source": [
    "X_train[0]"
   ]
  },
  {
   "cell_type": "code",
   "execution_count": 22,
   "metadata": {},
   "outputs": [
    {
     "data": {
      "text/plain": [
       "(0.0, 4254.0)"
      ]
     },
     "execution_count": 22,
     "metadata": {},
     "output_type": "execute_result"
    }
   ],
   "source": [
    "X.min(), X.max()"
   ]
  },
  {
   "cell_type": "code",
   "execution_count": 23,
   "metadata": {},
   "outputs": [
    {
     "data": {
      "text/plain": [
       "(-3.240180643332049, 11.367715448990436)"
      ]
     },
     "execution_count": 23,
     "metadata": {},
     "output_type": "execute_result"
    }
   ],
   "source": [
    "X_train.min(), X_train.max()"
   ]
  },
  {
   "cell_type": "markdown",
   "metadata": {},
   "source": [
    "## Treinamento do Modelo"
   ]
  },
  {
   "cell_type": "markdown",
   "metadata": {},
   "source": [
    "Agora é hora de treinar nosso modelo. O SciKit Learn torna isso incrivelmente fácil, usando objetos estimadores.<br /> Neste caso, iremos importar o nosso estimador (o modelo Multi-Layer Perceptron Classifier) da biblioteca neural_network do SciKit-Learn"
   ]
  },
  {
   "cell_type": "code",
   "execution_count": 24,
   "metadata": {},
   "outputs": [],
   "source": [
    "from sklearn.neural_network import MLPClassifier"
   ]
  },
  {
   "cell_type": "markdown",
   "metadata": {},
   "source": [
    "Em seguida, criamos uma instância do modelo, há uma série de parâmetros que você pode escolher para definir e personalizar aqui, vamos definir apenas o hidden_layer_sizes. Para este parâmetro você passa uma tupla que consiste no número de neurônios que você quer em cada camada, onde a entrada n-ésima na tupla representa o número de neurônios na n-ésima camada do modelo MLP.<br /> Há muitas maneiras de escolher esses números, mas, por simplicidade, escolheremos três camadas com o mesmo número de neurônios que existem no nosso conjunto de dados:"
   ]
  },
  {
   "cell_type": "code",
   "execution_count": 25,
   "metadata": {},
   "outputs": [],
   "source": [
    "mlp = MLPClassifier(hidden_layer_sizes = (30,30,30))"
   ]
  },
  {
   "cell_type": "markdown",
   "metadata": {},
   "source": [
    "Agora que o modelo foi feito podemos ajustar os dados de treinamento para o nosso modelo, lembre-se que esses dados já foram processados e dimensionados:"
   ]
  },
  {
   "cell_type": "code",
   "execution_count": 26,
   "metadata": {},
   "outputs": [
    {
     "data": {
      "text/plain": [
       "MLPClassifier(hidden_layer_sizes=(30, 30, 30))"
      ]
     },
     "execution_count": 26,
     "metadata": {},
     "output_type": "execute_result"
    }
   ],
   "source": [
    "mlp.fit(X_train, y_train)"
   ]
  },
  {
   "cell_type": "markdown",
   "metadata": {},
   "source": [
    "Você pode ver a saída que mostra os valores padrão dos outros parâmetros no modelo. Eu encorajo você a brincar com eles e descobrir quais os efeitos que eles têm em seu modelo!"
   ]
  },
  {
   "cell_type": "markdown",
   "metadata": {},
   "source": [
    "## Previsões e Avaliação"
   ]
  },
  {
   "cell_type": "markdown",
   "metadata": {},
   "source": [
    "Agora que temos um modelo, é hora de usá-lo para obter previsões! Podemos fazer isso simplesmente com o método predict () fora de nosso modelo ajustado:"
   ]
  },
  {
   "cell_type": "code",
   "execution_count": 27,
   "metadata": {},
   "outputs": [],
   "source": [
    "predictions = mlp.predict(X_test)"
   ]
  },
  {
   "cell_type": "markdown",
   "metadata": {},
   "source": [
    "Agora podemos usar as métricas construídas pelo SciKit-Learn, como um relatório de classificação e uma matriz de confusão, para avaliar o desempenho do nosso modelo:"
   ]
  },
  {
   "cell_type": "code",
   "execution_count": 28,
   "metadata": {},
   "outputs": [
    {
     "data": {
      "text/plain": [
       "0.9790209790209791"
      ]
     },
     "execution_count": 28,
     "metadata": {},
     "output_type": "execute_result"
    }
   ],
   "source": [
    "from sklearn.metrics import accuracy_score\n",
    "accuracy_score(y_test, predictions)"
   ]
  },
  {
   "cell_type": "code",
   "execution_count": 29,
   "metadata": {},
   "outputs": [
    {
     "name": "stdout",
     "output_type": "stream",
     "text": [
      "Confusion Matrix:\n",
      " [[47  2]\n",
      " [ 1 93]]\n",
      "              precision    recall  f1-score   support\n",
      "\n",
      "           0       0.98      0.96      0.97        49\n",
      "           1       0.98      0.99      0.98        94\n",
      "\n",
      "    accuracy                           0.98       143\n",
      "   macro avg       0.98      0.97      0.98       143\n",
      "weighted avg       0.98      0.98      0.98       143\n",
      "\n"
     ]
    }
   ],
   "source": [
    "from sklearn.metrics import classification_report,confusion_matrix\n",
    "print('Confusion Matrix:\\n',confusion_matrix(y_test,predictions))\n",
    "print(classification_report(y_test,predictions))"
   ]
  },
  {
   "cell_type": "markdown",
   "metadata": {},
   "source": [
    "Parece que somente 3 tumores foram clasisficados de forma incorreta, deixando-nos com uma taxa de 98% de precisão. Isso é muito bom considerando as poucas linhas de código que tivemos de escrever.<br /> A desvantagem entretanto em usar um modelo Multi-Layer Perceptron, é devido a dificuldade de interpretar o próprio modelo.<br /> Os pesos e vieses não serão facilmente interpretáveis em relação a quais características são importantes para o próprio modelo."
   ]
  },
  {
   "cell_type": "code",
   "execution_count": 30,
   "metadata": {},
   "outputs": [
    {
     "data": {
      "text/plain": [
       "MLPClassifier(hidden_layer_sizes=(30, 30, 30))"
      ]
     },
     "execution_count": 30,
     "metadata": {},
     "output_type": "execute_result"
    }
   ],
   "source": [
    "mlp"
   ]
  },
  {
   "cell_type": "code",
   "execution_count": 31,
   "metadata": {},
   "outputs": [
    {
     "data": {
      "text/plain": [
       "{'activation': 'relu',\n",
       " 'solver': 'adam',\n",
       " 'alpha': 0.0001,\n",
       " 'batch_size': 'auto',\n",
       " 'learning_rate': 'constant',\n",
       " 'learning_rate_init': 0.001,\n",
       " 'power_t': 0.5,\n",
       " 'max_iter': 200,\n",
       " 'loss': 'log_loss',\n",
       " 'hidden_layer_sizes': (30, 30, 30),\n",
       " 'shuffle': True,\n",
       " 'random_state': None,\n",
       " 'tol': 0.0001,\n",
       " 'verbose': False,\n",
       " 'warm_start': False,\n",
       " 'momentum': 0.9,\n",
       " 'nesterovs_momentum': True,\n",
       " 'early_stopping': False,\n",
       " 'validation_fraction': 0.1,\n",
       " 'beta_1': 0.9,\n",
       " 'beta_2': 0.999,\n",
       " 'epsilon': 1e-08,\n",
       " 'n_iter_no_change': 10,\n",
       " 'max_fun': 15000,\n",
       " 'n_features_in_': 30,\n",
       " '_label_binarizer': LabelBinarizer(),\n",
       " 'classes_': array([0, 1]),\n",
       " 'n_outputs_': 1,\n",
       " '_random_state': RandomState(MT19937) at 0x7F5C8C063340,\n",
       " 'n_iter_': 158,\n",
       " 't_': 67308,\n",
       " 'n_layers_': 5,\n",
       " 'out_activation_': 'logistic',\n",
       " 'coefs_': [array([[ 0.13625,  0.33466, -0.02936, -0.26735, -0.04751,  0.18179,\n",
       "           0.02905,  0.03133, -0.17401, -0.1564 ,  0.013  ,  0.15297,\n",
       "           0.05969,  0.17023,  0.33581, -0.23436,  0.22915,  0.07841,\n",
       "          -0.23594,  0.06048,  0.07438, -0.00349, -0.15345,  0.24665,\n",
       "           0.06806, -0.18454,  0.20629, -0.12932, -0.06051, -0.19378],\n",
       "         [ 0.00283,  0.0428 , -0.14894, -0.0106 ,  0.0058 , -0.09714,\n",
       "           0.27862, -0.26987,  0.07892, -0.21655,  0.22217,  0.26914,\n",
       "           0.20752, -0.21345,  0.34833,  0.12793, -0.1763 ,  0.27129,\n",
       "           0.01487,  0.0245 , -0.29846, -0.25592,  0.39241,  0.09038,\n",
       "           0.33255,  0.20015,  0.30429,  0.30748, -0.02937, -0.24554],\n",
       "         [ 0.10196,  0.32355, -0.00383,  0.04892,  0.10889, -0.32509,\n",
       "          -0.17439,  0.18986,  0.05378, -0.0468 , -0.03761, -0.10267,\n",
       "          -0.22102, -0.19394, -0.07587,  0.07711, -0.35719, -0.16312,\n",
       "          -0.03548, -0.0678 , -0.03332, -0.21086,  0.13348, -0.18264,\n",
       "          -0.23861,  0.02421, -0.01822, -0.07735, -0.23912,  0.11649],\n",
       "         [-0.37037,  0.3428 , -0.29167,  0.19974,  0.26902,  0.04603,\n",
       "          -0.0152 , -0.18074, -0.14529, -0.13666, -0.01543,  0.09554,\n",
       "           0.15325, -0.1643 , -0.23736,  0.17194,  0.24159, -0.00928,\n",
       "           0.20641, -0.24298, -0.17822,  0.28545,  0.1662 , -0.05216,\n",
       "           0.3015 ,  0.08095, -0.24625, -0.32992,  0.26751, -0.24632],\n",
       "         [-0.23842, -0.28796, -0.01915, -0.27471, -0.24117,  0.37078,\n",
       "           0.16426, -0.17756, -0.03647, -0.15628, -0.00142, -0.24043,\n",
       "           0.08915, -0.17521,  0.35008, -0.16913, -0.14946, -0.04482,\n",
       "          -0.25656, -0.13533,  0.31952,  0.00242,  0.28867,  0.15182,\n",
       "          -0.0132 ,  0.28784, -0.18913, -0.20728,  0.26231, -0.15275],\n",
       "         [ 0.28464, -0.25311,  0.05361, -0.23068,  0.11741, -0.00713,\n",
       "           0.31571,  0.27234, -0.12602,  0.33471, -0.24282,  0.00954,\n",
       "          -0.11261,  0.21314, -0.1244 ,  0.07773,  0.05698,  0.21032,\n",
       "          -0.1046 , -0.22587, -0.19577, -0.033  , -0.19749, -0.38936,\n",
       "          -0.14228,  0.0446 , -0.08243, -0.05135, -0.07471,  0.06007],\n",
       "         [ 0.21633, -0.00249, -0.38116,  0.12049, -0.03032, -0.24932,\n",
       "          -0.1449 , -0.38152,  0.13019, -0.04453, -0.27909,  0.13343,\n",
       "           0.26964, -0.12135, -0.11166, -0.19036, -0.02742,  0.25327,\n",
       "           0.15067, -0.21827, -0.30691,  0.06879, -0.12399, -0.12737,\n",
       "           0.33407,  0.29871,  0.04681,  0.1136 , -0.21632, -0.32586],\n",
       "         [-0.30286, -0.04612, -0.3807 , -0.20027,  0.15138, -0.09338,\n",
       "          -0.00501, -0.15623, -0.02062, -0.07808,  0.06106, -0.01726,\n",
       "           0.04659,  0.00523,  0.38151, -0.08332, -0.24874, -0.35262,\n",
       "          -0.27156, -0.22016, -0.09471,  0.01355, -0.19418, -0.30229,\n",
       "           0.18884, -0.13972, -0.11582,  0.16412, -0.20198, -0.05829],\n",
       "         [ 0.05691,  0.0203 , -0.10654,  0.12006, -0.17572, -0.08416,\n",
       "          -0.19786,  0.32751,  0.02349, -0.05119,  0.06984,  0.08789,\n",
       "           0.31148,  0.20361,  0.39297, -0.02243,  0.36648,  0.15979,\n",
       "          -0.03257,  0.0799 ,  0.24051,  0.38185, -0.20066,  0.10355,\n",
       "          -0.29018,  0.1653 ,  0.12151, -0.06917, -0.25879, -0.24743],\n",
       "         [ 0.12231,  0.14686,  0.07528, -0.09784, -0.19939, -0.29998,\n",
       "           0.18864,  0.00112, -0.15752,  0.29635, -0.10398, -0.33576,\n",
       "           0.19364,  0.12983,  0.19488,  0.20074, -0.21983, -0.28157,\n",
       "           0.01685, -0.15641,  0.23422,  0.1392 , -0.23848,  0.01505,\n",
       "          -0.04785, -0.293  ,  0.25731,  0.245  ,  0.2878 ,  0.10333],\n",
       "         [-0.22101,  0.37448, -0.01258, -0.13566,  0.27827, -0.31835,\n",
       "          -0.13649,  0.04408,  0.30657,  0.11575,  0.13978,  0.27873,\n",
       "           0.22044,  0.26271, -0.00716,  0.0046 ,  0.03373, -0.22465,\n",
       "           0.23323,  0.2506 , -0.27726,  0.15663,  0.13972, -0.19982,\n",
       "           0.05983, -0.05303, -0.10852, -0.30776, -0.2828 , -0.02172],\n",
       "         [-0.2994 , -0.08771,  0.07745, -0.04097,  0.38917,  0.01805,\n",
       "          -0.1021 , -0.27289, -0.02343, -0.32869,  0.05508, -0.41543,\n",
       "          -0.26297, -0.10852,  0.34452,  0.12961, -0.12233,  0.30769,\n",
       "          -0.30634, -0.24142,  0.02199,  0.11607,  0.25932, -0.03247,\n",
       "          -0.32367, -0.31325, -0.23281,  0.21903,  0.21072,  0.39999],\n",
       "         [-0.35416,  0.20951, -0.10756,  0.09907, -0.26012,  0.17288,\n",
       "           0.06549, -0.05007,  0.23485,  0.01722, -0.00511,  0.29737,\n",
       "          -0.09493,  0.12719, -0.07539,  0.20543,  0.06439, -0.28453,\n",
       "           0.21371, -0.05336, -0.24878, -0.30892,  0.32832, -0.19574,\n",
       "          -0.0449 , -0.04787,  0.06205,  0.08941,  0.08446, -0.05303],\n",
       "         [ 0.22165,  0.22995, -0.09624, -0.38609,  0.26165,  0.03906,\n",
       "          -0.23063,  0.20287,  0.30564,  0.25567, -0.16335,  0.23055,\n",
       "          -0.30247,  0.16963,  0.12696,  0.05293, -0.2663 , -0.3358 ,\n",
       "           0.15607,  0.26509, -0.17734, -0.19671, -0.08084,  0.08219,\n",
       "           0.25416,  0.0209 , -0.35233, -0.14417, -0.26305, -0.31355],\n",
       "         [-0.04822, -0.28748,  0.25446, -0.30119, -0.1588 , -0.33491,\n",
       "          -0.04847, -0.19008,  0.13844, -0.0222 ,  0.16417,  0.05822,\n",
       "          -0.25537, -0.25278, -0.36981, -0.01909,  0.31156,  0.22316,\n",
       "           0.02037,  0.21967,  0.19694, -0.03545, -0.04052, -0.11424,\n",
       "          -0.14033,  0.12901, -0.37753,  0.22437,  0.04257,  0.19037],\n",
       "         [ 0.17053, -0.01035,  0.33708,  0.37703,  0.25451, -0.30585,\n",
       "          -0.12899, -0.24128,  0.01242, -0.06161, -0.03777, -0.04   ,\n",
       "          -0.18394, -0.08219,  0.20934,  0.24172,  0.28833,  0.09073,\n",
       "           0.20525,  0.26735,  0.09776, -0.17396, -0.06465, -0.32952,\n",
       "           0.15837,  0.07885, -0.15138,  0.16455, -0.27439,  0.16467],\n",
       "         [-0.17525, -0.11615,  0.03347,  0.24506, -0.26283, -0.00489,\n",
       "          -0.24758, -0.38181, -0.11164,  0.04613,  0.22634,  0.04493,\n",
       "          -0.21291,  0.1583 ,  0.30594, -0.10076, -0.16237, -0.09281,\n",
       "           0.11192, -0.26063, -0.04502,  0.04169, -0.20431,  0.28934,\n",
       "           0.00353, -0.08672,  0.26031, -0.06917, -0.08536, -0.12863],\n",
       "         [-0.05973, -0.2422 , -0.07919,  0.31673,  0.05259,  0.29376,\n",
       "          -0.03541,  0.14131, -0.07523,  0.02007, -0.35244,  0.00794,\n",
       "          -0.04903, -0.07252,  0.13156,  0.09001, -0.10866, -0.17676,\n",
       "          -0.21918, -0.09269, -0.20974, -0.03841, -0.19788, -0.39073,\n",
       "           0.21792,  0.20671,  0.31535, -0.02982, -0.04445, -0.25061],\n",
       "         [-0.16172, -0.04773,  0.13852,  0.07832, -0.20103,  0.20041,\n",
       "          -0.23507,  0.10929, -0.08716, -0.18899, -0.00084,  0.06652,\n",
       "          -0.14406,  0.23845, -0.04993, -0.23285, -0.28593,  0.11559,\n",
       "           0.29796, -0.06236, -0.13117,  0.16831,  0.06412, -0.02152,\n",
       "           0.19299, -0.08487,  0.1148 ,  0.08988,  0.01238,  0.08623],\n",
       "         [-0.10198,  0.21303,  0.29236,  0.24241,  0.2438 ,  0.06247,\n",
       "           0.08931,  0.15439,  0.18172,  0.09135,  0.25575,  0.19675,\n",
       "           0.24743,  0.21794, -0.23024,  0.02828,  0.23571, -0.07527,\n",
       "          -0.21981, -0.09994,  0.13226,  0.09993,  0.08862, -0.21466,\n",
       "          -0.35861, -0.05281,  0.37472,  0.10305, -0.13015,  0.16566],\n",
       "         [ 0.00551, -0.01417,  0.05002, -0.30337, -0.16442,  0.23791,\n",
       "          -0.23004,  0.17928,  0.24224,  0.10763, -0.13671,  0.28911,\n",
       "           0.06689,  0.15177,  0.30177,  0.1259 , -0.35466, -0.1871 ,\n",
       "          -0.29908, -0.27495, -0.25049,  0.38053,  0.33681,  0.09419,\n",
       "          -0.17944,  0.35476, -0.04397,  0.09037, -0.09493,  0.05836],\n",
       "         [-0.20124, -0.14247, -0.07805, -0.04801,  0.02943, -0.28299,\n",
       "           0.00925,  0.14947,  0.15349,  0.23051,  0.23735,  0.17922,\n",
       "          -0.1591 , -0.22516, -0.13651, -0.42185, -0.34245,  0.06038,\n",
       "          -0.23134, -0.32902, -0.35372,  0.22917,  0.18938,  0.34504,\n",
       "           0.38626, -0.25891, -0.23149, -0.11297, -0.11691,  0.265  ],\n",
       "         [-0.24954,  0.14605,  0.20623, -0.33752, -0.33479, -0.22768,\n",
       "           0.0977 , -0.29249,  0.33659,  0.07533, -0.05675, -0.20712,\n",
       "          -0.23946,  0.14863,  0.14159,  0.10492, -0.196  , -0.21136,\n",
       "          -0.00905, -0.15114, -0.00446,  0.38127,  0.19929,  0.32309,\n",
       "           0.0939 ,  0.2106 , -0.28372,  0.02415, -0.24991, -0.34094],\n",
       "         [-0.05999,  0.0756 , -0.08003, -0.2179 , -0.02261,  0.1295 ,\n",
       "          -0.10645, -0.38673, -0.22699,  0.30075,  0.20967,  0.2671 ,\n",
       "          -0.29365,  0.08214, -0.05991,  0.07362, -0.28639, -0.08279,\n",
       "          -0.36478,  0.09275, -0.183  , -0.05398, -0.18608,  0.36149,\n",
       "           0.36846, -0.03318, -0.01025, -0.33423,  0.07778,  0.16874],\n",
       "         [-0.05546,  0.10038, -0.04908, -0.28434, -0.11376, -0.02751,\n",
       "          -0.02152, -0.26397,  0.06433,  0.09544, -0.17028, -0.15776,\n",
       "           0.05766,  0.18521,  0.21319, -0.23158,  0.19562, -0.22839,\n",
       "          -0.04132, -0.17143, -0.23398,  0.3737 , -0.02959, -0.00678,\n",
       "           0.14204, -0.05813, -0.28882, -0.01105,  0.01525, -0.15214],\n",
       "         [-0.11737,  0.05681, -0.05404,  0.05884, -0.06359, -0.27953,\n",
       "           0.36889,  0.13524,  0.08838, -0.1105 ,  0.03259,  0.24608,\n",
       "          -0.29714, -0.07752,  0.04011, -0.05598,  0.08456, -0.14138,\n",
       "          -0.23654, -0.08609, -0.09327,  0.24641,  0.16633, -0.32419,\n",
       "          -0.16067,  0.05436, -0.19077, -0.01018, -0.24241,  0.15478],\n",
       "         [-0.00195, -0.01958, -0.05232,  0.2084 , -0.33408, -0.24392,\n",
       "          -0.06669,  0.16666, -0.18113,  0.1098 , -0.1116 , -0.11003,\n",
       "          -0.3299 , -0.05151,  0.20939, -0.35062,  0.04573, -0.08309,\n",
       "           0.16472,  0.00765,  0.02418,  0.26899, -0.23238,  0.14981,\n",
       "          -0.06362,  0.3644 , -0.47431, -0.06753, -0.3326 , -0.25625],\n",
       "         [ 0.22427, -0.16083,  0.09114, -0.02139, -0.35418, -0.09071,\n",
       "           0.27706, -0.31979,  0.36965,  0.22577,  0.07346,  0.08423,\n",
       "           0.14398,  0.37007,  0.07616, -0.31636, -0.1655 , -0.35466,\n",
       "           0.00173,  0.23467, -0.34661,  0.36148, -0.06892, -0.22994,\n",
       "          -0.08174,  0.31599,  0.03524, -0.2492 ,  0.31869, -0.10195],\n",
       "         [-0.44558,  0.34116, -0.35332,  0.19319, -0.02822, -0.00366,\n",
       "           0.16104, -0.19703,  0.31324, -0.23681, -0.11729, -0.12151,\n",
       "           0.16814,  0.04379,  0.14031, -0.25903,  0.24425, -0.29925,\n",
       "          -0.12239,  0.23773,  0.16814, -0.20259, -0.19711,  0.33599,\n",
       "           0.19819, -0.0122 ,  0.18463,  0.18078,  0.09074, -0.10499],\n",
       "         [-0.2418 , -0.27234,  0.08234,  0.02457, -0.17401, -0.27899,\n",
       "           0.03766, -0.3462 , -0.21871,  0.43893, -0.28001, -0.27369,\n",
       "          -0.24665, -0.20769, -0.18366, -0.18209,  0.0093 ,  0.00354,\n",
       "          -0.18516,  0.31777,  0.06404,  0.31826, -0.21678, -0.20127,\n",
       "          -0.21201,  0.18404,  0.08323, -0.29324, -0.02451,  0.08154]]),\n",
       "  array([[-0.2539 ,  0.41254,  0.14851,  0.26613, -0.15822,  0.03379,\n",
       "           0.26353, -0.04263, -0.13303,  0.39181, -0.13504, -0.03885,\n",
       "          -0.25293, -0.08851, -0.17896, -0.20116,  0.36153, -0.08844,\n",
       "           0.08734,  0.09023, -0.21555,  0.2208 ,  0.03443,  0.14875,\n",
       "          -0.20706,  0.32945, -0.20029, -0.15436,  0.08947, -0.02905],\n",
       "         [ 0.32546,  0.31162, -0.20411,  0.21273,  0.10349, -0.17091,\n",
       "          -0.0247 , -0.15638, -0.19559,  0.17633,  0.14639, -0.20509,\n",
       "          -0.14929,  0.0788 ,  0.19665,  0.24732, -0.00041,  0.22683,\n",
       "           0.1865 , -0.212  ,  0.15475,  0.26583,  0.35542,  0.20658,\n",
       "           0.33143,  0.08358,  0.31161, -0.09243, -0.14989, -0.17289],\n",
       "         [-0.17589, -0.10124, -0.1195 , -0.08906, -0.01236, -0.12526,\n",
       "           0.08439, -0.0109 ,  0.35296,  0.31946, -0.32514, -0.05236,\n",
       "           0.1954 , -0.19315,  0.2096 ,  0.01536,  0.33525, -0.18291,\n",
       "          -0.07497, -0.13099, -0.12855, -0.00041,  0.0363 ,  0.20637,\n",
       "           0.1548 ,  0.14116,  0.03485, -0.21776,  0.08674, -0.15232],\n",
       "         [-0.1618 , -0.34226,  0.23577, -0.01692,  0.12405,  0.36673,\n",
       "          -0.36646,  0.01913,  0.0921 ,  0.33536,  0.16617,  0.06036,\n",
       "           0.0728 , -0.23049,  0.28629, -0.23458,  0.05341, -0.25141,\n",
       "          -0.17771,  0.09428,  0.05372, -0.21555, -0.09077,  0.14211,\n",
       "          -0.34198,  0.26192, -0.25296, -0.15675, -0.04997, -0.27706],\n",
       "         [-0.10032,  0.09924,  0.24098, -0.04943, -0.20368,  0.03145,\n",
       "           0.12707,  0.10057,  0.1488 ,  0.17957,  0.09693, -0.09793,\n",
       "          -0.10415, -0.38424,  0.01231,  0.10337, -0.08642,  0.26425,\n",
       "           0.17366,  0.21662, -0.01628, -0.20435, -0.25008,  0.01499,\n",
       "           0.09996,  0.23101,  0.05032, -0.31137, -0.32243, -0.07435],\n",
       "         [-0.34254, -0.22224,  0.23544,  0.03868,  0.13405, -0.26457,\n",
       "          -0.26412, -0.209  ,  0.09644,  0.37649,  0.18043,  0.25712,\n",
       "           0.01107,  0.20581,  0.21169,  0.14848,  0.34875,  0.1807 ,\n",
       "          -0.20264,  0.07797, -0.22927, -0.00997, -0.08451, -0.06935,\n",
       "          -0.18222,  0.38082, -0.13277, -0.20731, -0.32534,  0.19078],\n",
       "         [-0.16451,  0.07333,  0.27188, -0.14216,  0.26509,  0.199  ,\n",
       "           0.1938 , -0.03337, -0.18068,  0.3745 , -0.00727, -0.19034,\n",
       "           0.27665, -0.25355, -0.15367,  0.26648,  0.01424,  0.17119,\n",
       "          -0.21987,  0.2925 , -0.04358,  0.15235,  0.25743,  0.26221,\n",
       "          -0.15622,  0.09399, -0.26721, -0.11645,  0.20348,  0.16879],\n",
       "         [ 0.09965,  0.23528,  0.301  ,  0.09239, -0.23175, -0.07957,\n",
       "          -0.32249,  0.07877, -0.04869,  0.17092, -0.2543 , -0.32842,\n",
       "           0.28049,  0.0587 ,  0.16135,  0.27654, -0.13162, -0.30682,\n",
       "          -0.3223 ,  0.2358 , -0.17603,  0.13494, -0.28152,  0.13358,\n",
       "          -0.1892 ,  0.05896,  0.08333,  0.04204,  0.125  , -0.21107],\n",
       "         [-0.13839,  0.35993,  0.26109, -0.17881, -0.22029,  0.28285,\n",
       "           0.19887, -0.15518, -0.30518, -0.21646,  0.44481,  0.00565,\n",
       "          -0.09182,  0.07117,  0.26976,  0.04022, -0.15371,  0.12608,\n",
       "          -0.02244, -0.21115,  0.31633, -0.00904,  0.31493,  0.08755,\n",
       "           0.24864, -0.28796,  0.12776,  0.2351 , -0.15891,  0.27148],\n",
       "         [ 0.00465,  0.41721,  0.06932,  0.11475,  0.03891,  0.28012,\n",
       "           0.15762,  0.25038, -0.24031,  0.07376,  0.22471, -0.33452,\n",
       "          -0.2396 ,  0.2706 , -0.21917,  0.24934, -0.23544,  0.02477,\n",
       "           0.18349,  0.34683, -0.00446, -0.06653,  0.16282,  0.13931,\n",
       "           0.14616,  0.15366, -0.26931, -0.22029,  0.15351,  0.04272],\n",
       "         [-0.2503 ,  0.2873 ,  0.04408,  0.3053 ,  0.08319,  0.13517,\n",
       "           0.11198,  0.11381, -0.31304,  0.26202, -0.07714,  0.03684,\n",
       "           0.19188, -0.13063, -0.03695, -0.12242, -0.22089, -0.19986,\n",
       "          -0.04226, -0.25929, -0.10945, -0.09797, -0.13596, -0.35745,\n",
       "          -0.0724 ,  0.27719,  0.0122 ,  0.33185,  0.183  ,  0.02944],\n",
       "         [ 0.17161, -0.03286,  0.05774,  0.28222, -0.18698,  0.02241,\n",
       "          -0.07905,  0.14887, -0.18241, -0.12341,  0.06325,  0.06647,\n",
       "          -0.17934,  0.30792, -0.16136,  0.14715, -0.26302,  0.25596,\n",
       "          -0.21279, -0.1866 ,  0.0427 , -0.211  ,  0.14014, -0.09853,\n",
       "           0.19986, -0.18298,  0.30072, -0.05366, -0.26823,  0.11839],\n",
       "         [-0.34479, -0.09032,  0.26003, -0.04002, -0.16042,  0.19032,\n",
       "          -0.1577 , -0.0292 ,  0.00406,  0.37109,  0.03006, -0.21456,\n",
       "           0.29792, -0.22459, -0.06252, -0.17616,  0.06768,  0.03004,\n",
       "           0.09205, -0.28522,  0.25503, -0.27603,  0.14635,  0.15632,\n",
       "           0.24093,  0.17788, -0.27279,  0.06709, -0.3266 , -0.21871],\n",
       "         [-0.13684, -0.10709,  0.15787,  0.20723,  0.04149, -0.21221,\n",
       "           0.13054, -0.11827, -0.08883,  0.37867, -0.00584, -0.18733,\n",
       "          -0.13282,  0.00535,  0.0213 ,  0.33786,  0.22097,  0.14921,\n",
       "          -0.06303,  0.00004,  0.23777,  0.14317,  0.13261,  0.09494,\n",
       "           0.08644, -0.05516,  0.19271,  0.2237 , -0.3224 ,  0.07428],\n",
       "         [-0.00308,  0.34982, -0.18106,  0.17904,  0.12267,  0.07071,\n",
       "           0.24328, -0.0334 , -0.35871, -0.12407,  0.21392, -0.26548,\n",
       "          -0.22765, -0.12188, -0.21396,  0.08218,  0.06596,  0.26813,\n",
       "           0.00357,  0.02623,  0.18259, -0.28532,  0.37007, -0.3734 ,\n",
       "          -0.17147, -0.06153, -0.20202,  0.31386, -0.29344,  0.04284],\n",
       "         [ 0.16978, -0.27455, -0.08947, -0.09217,  0.09948, -0.11439,\n",
       "           0.24796, -0.14834,  0.3584 ,  0.11808,  0.36986, -0.08267,\n",
       "          -0.16833, -0.32111,  0.18594,  0.06505,  0.01054, -0.12921,\n",
       "          -0.25789,  0.1448 ,  0.19462,  0.15091, -0.27449,  0.31049,\n",
       "           0.07311,  0.22153, -0.17238, -0.42648,  0.17433,  0.28218],\n",
       "         [-0.27696, -0.26677,  0.0135 ,  0.23687, -0.11251, -0.31011,\n",
       "          -0.01142,  0.20142,  0.15125,  0.29464,  0.06233, -0.10399,\n",
       "           0.34026, -0.37566,  0.40955, -0.22432,  0.14588,  0.20753,\n",
       "          -0.20519, -0.0342 , -0.25086,  0.07071, -0.11713,  0.26966,\n",
       "          -0.10961,  0.43654,  0.01261,  0.2036 , -0.06327,  0.06936],\n",
       "         [-0.32198, -0.28708, -0.19659, -0.07812, -0.24758, -0.20137,\n",
       "          -0.22438,  0.48079,  0.30594,  0.38924,  0.0301 ,  0.09201,\n",
       "          -0.13434,  0.10433,  0.28774, -0.16645, -0.01078, -0.09206,\n",
       "           0.13044,  0.11724,  0.20009,  0.20497, -0.00786,  0.21511,\n",
       "          -0.22104,  0.32256, -0.25911, -0.09586, -0.15298, -0.20112],\n",
       "         [ 0.19316, -0.03039, -0.03311,  0.15137, -0.20351, -0.22856,\n",
       "           0.19019,  0.00955,  0.26346, -0.0791 ,  0.00232, -0.03241,\n",
       "          -0.19809,  0.27186,  0.2781 ,  0.05693,  0.25786,  0.19592,\n",
       "           0.00584, -0.23673,  0.00731, -0.24015, -0.17575, -0.10251,\n",
       "          -0.18281, -0.1873 ,  0.27903,  0.30215,  0.1334 ,  0.19246],\n",
       "         [ 0.01437,  0.22696, -0.26441,  0.17975, -0.17794, -0.10212,\n",
       "          -0.13375, -0.06287,  0.03648, -0.0643 ,  0.37912, -0.06019,\n",
       "           0.1633 , -0.24322, -0.26465, -0.13978,  0.20036, -0.06218,\n",
       "          -0.29868, -0.05535, -0.18696, -0.24638, -0.31691, -0.05333,\n",
       "           0.09384,  0.07109, -0.0783 , -0.21519,  0.06906, -0.28328],\n",
       "         [-0.17808, -0.27441,  0.05154,  0.37931, -0.27637, -0.19335,\n",
       "          -0.12502, -0.0967 ,  0.04923,  0.38399,  0.01298,  0.24126,\n",
       "          -0.17897, -0.36167,  0.3279 , -0.02816,  0.33002, -0.00346,\n",
       "          -0.10333, -0.10446, -0.14634, -0.32982,  0.01574,  0.09222,\n",
       "           0.0295 ,  0.2282 , -0.06902, -0.28896,  0.11279, -0.12706],\n",
       "         [-0.14242,  0.33655, -0.11998,  0.09175, -0.24204, -0.0725 ,\n",
       "           0.25604,  0.08009,  0.20346, -0.32581,  0.37105, -0.01906,\n",
       "           0.0735 ,  0.05652, -0.0546 , -0.27676, -0.22347,  0.14278,\n",
       "          -0.08905,  0.27396,  0.1344 ,  0.07038,  0.22755, -0.05423,\n",
       "           0.29794,  0.01666, -0.04524,  0.45045,  0.07404,  0.30119],\n",
       "         [-0.14338, -0.0001 , -0.14133, -0.27378,  0.22335,  0.14531,\n",
       "          -0.02283,  0.37352, -0.01451,  0.19329,  0.18338, -0.24619,\n",
       "           0.23107, -0.22031, -0.21421,  0.21759,  0.14773, -0.08996,\n",
       "           0.23468, -0.17813, -0.00581, -0.27533,  0.16745, -0.28411,\n",
       "           0.09822, -0.00578,  0.14651, -0.10672,  0.04452,  0.14199],\n",
       "         [-0.13124,  0.27591,  0.01781,  0.11633, -0.16337, -0.19227,\n",
       "          -0.13474, -0.04234,  0.13771, -0.30178, -0.30273,  0.11883,\n",
       "           0.08229,  0.41416,  0.12539,  0.17876,  0.12597,  0.00503,\n",
       "          -0.20292,  0.25508, -0.07799, -0.14224, -0.04389, -0.16517,\n",
       "           0.20772, -0.21878, -0.14884,  0.48124,  0.17925,  0.10673],\n",
       "         [-0.17192, -0.0035 , -0.15054,  0.17323, -0.25794,  0.02802,\n",
       "           0.1899 , -0.18722,  0.05995, -0.07389,  0.22141,  0.20127,\n",
       "          -0.14015,  0.39297, -0.25274,  0.00866, -0.07325,  0.21109,\n",
       "          -0.12428,  0.07221, -0.09864, -0.29101,  0.18831,  0.17283,\n",
       "           0.21819, -0.13175,  0.2573 ,  0.42169, -0.03637, -0.30758],\n",
       "         [ 0.08521, -0.00889, -0.24761, -0.2721 ,  0.12759, -0.23622,\n",
       "           0.0867 , -0.39335,  0.08043,  0.20663,  0.05758,  0.23571,\n",
       "          -0.16817,  0.36993,  0.15371, -0.15532, -0.16525, -0.19825,\n",
       "           0.12965,  0.13938,  0.09478,  0.08293,  0.20019, -0.03013,\n",
       "           0.29911,  0.27086,  0.15782, -0.18288,  0.06283, -0.12591],\n",
       "         [-0.09864, -0.28486, -0.14648,  0.15567, -0.17391,  0.03041,\n",
       "           0.00701,  0.08615,  0.07894, -0.03316, -0.03991, -0.13504,\n",
       "           0.18074,  0.02103,  0.14859, -0.09497,  0.21254, -0.14153,\n",
       "          -0.25867,  0.20268,  0.1265 , -0.2088 , -0.32774,  0.30135,\n",
       "           0.16253,  0.45116, -0.15324,  0.01802, -0.27931, -0.05169],\n",
       "         [-0.10869, -0.2951 ,  0.18939, -0.17297, -0.11977,  0.25914,\n",
       "          -0.22517, -0.03829,  0.14803,  0.29333, -0.03176,  0.23428,\n",
       "           0.13136,  0.17707, -0.01008,  0.12249,  0.1589 ,  0.08723,\n",
       "           0.19065, -0.04606, -0.12447,  0.12278, -0.23584, -0.05019,\n",
       "           0.17918,  0.17627,  0.16883, -0.01708,  0.09505,  0.10409],\n",
       "         [ 0.25558, -0.18502,  0.03911,  0.17297,  0.03929,  0.1632 ,\n",
       "          -0.05417, -0.27252, -0.01892, -0.10741, -0.29889,  0.20415,\n",
       "           0.02783,  0.15409,  0.08876,  0.1996 ,  0.23509, -0.37946,\n",
       "           0.23651, -0.13009,  0.22451, -0.25624, -0.08222,  0.28691,\n",
       "           0.05665,  0.3518 ,  0.04159,  0.08968,  0.24138, -0.02389],\n",
       "         [-0.12818, -0.18956,  0.21688,  0.20357, -0.06113,  0.06902,\n",
       "          -0.05336, -0.10321, -0.11568,  0.17875, -0.2036 ,  0.09018,\n",
       "          -0.16933,  0.0954 ,  0.18172,  0.22932,  0.01917,  0.13111,\n",
       "           0.19374, -0.28507, -0.18256,  0.05572, -0.24446, -0.30465,\n",
       "          -0.14089,  0.26689, -0.34561, -0.14454,  0.15004, -0.23725]]),\n",
       "  array([[-0.23277, -0.22359,  0.14931,  0.29563, -0.05435,  0.08614,\n",
       "           0.38604, -0.13306,  0.18493,  0.00144, -0.2653 , -0.07297,\n",
       "           0.29452,  0.09557,  0.0149 , -0.30202, -0.17059,  0.15431,\n",
       "          -0.14455,  0.17244,  0.20196,  0.02877, -0.252  ,  0.31995,\n",
       "           0.12882,  0.26968,  0.13925, -0.29723, -0.26373, -0.14394],\n",
       "         [-0.34437,  0.38134, -0.30208, -0.48206,  0.09337, -0.1761 ,\n",
       "           0.59114, -0.34852,  0.44773,  0.13644, -0.17859,  0.29389,\n",
       "           0.47389,  0.4626 , -0.12429, -0.11011, -0.16574, -0.32643,\n",
       "           0.17355,  0.6722 , -0.01883,  0.54116, -0.05324,  0.36196,\n",
       "          -0.13862, -0.24063,  0.06876, -0.43175,  0.46384,  0.24977],\n",
       "         [-0.20829, -0.18643,  0.36375, -0.19249,  0.05752,  0.44441,\n",
       "           0.00915,  0.19334, -0.30522, -0.17452,  0.0349 , -0.12814,\n",
       "           0.24237, -0.00693,  0.02938,  0.31285, -0.08484,  0.32888,\n",
       "          -0.26624, -0.16091, -0.29238,  0.25953, -0.04021,  0.15119,\n",
       "           0.15792,  0.01157, -0.12953, -0.08917,  0.00898, -0.00928],\n",
       "         [ 0.19873, -0.04164, -0.32157, -0.06894,  0.04786,  0.03126,\n",
       "           0.14796,  0.18192,  0.29251, -0.02314,  0.15861,  0.34339,\n",
       "          -0.2831 , -0.10141, -0.05205,  0.29005, -0.07245, -0.11641,\n",
       "           0.18662, -0.06908,  0.10457, -0.10585, -0.20568, -0.01468,\n",
       "          -0.24375,  0.34374,  0.27599, -0.19783,  0.16822, -0.32506],\n",
       "         [-0.16451,  0.12209,  0.24228,  0.10477, -0.21028, -0.13924,\n",
       "          -0.08339,  0.1554 ,  0.03392,  0.25056, -0.03209, -0.17286,\n",
       "          -0.1441 ,  0.28054, -0.13034, -0.1888 , -0.13219, -0.03191,\n",
       "          -0.23876,  0.14663,  0.06769, -0.15609, -0.21142, -0.26388,\n",
       "          -0.08452,  0.06576, -0.06377, -0.18478, -0.03365, -0.02662],\n",
       "         [ 0.16236, -0.09123, -0.05584,  0.24909,  0.23292,  0.13663,\n",
       "           0.05693, -0.06706, -0.21041, -0.23828, -0.02082,  0.00906,\n",
       "          -0.09921,  0.17918, -0.16907,  0.19382,  0.24071,  0.28235,\n",
       "           0.19837,  0.28789, -0.13054, -0.19866,  0.10789,  0.11194,\n",
       "          -0.15718,  0.24396,  0.03435,  0.27003,  0.1193 , -0.04198],\n",
       "         [ 0.13639, -0.13609,  0.16606,  0.0851 ,  0.33113, -0.23003,\n",
       "          -0.08573, -0.22657,  0.32786,  0.24192,  0.1797 ,  0.41064,\n",
       "           0.18836,  0.19083, -0.11287, -0.12601, -0.27755,  0.10903,\n",
       "          -0.28269,  0.37449, -0.18711,  0.02747, -0.11851, -0.15322,\n",
       "           0.14004, -0.08088,  0.02842, -0.30783,  0.17118,  0.14567],\n",
       "         [ 0.07458, -0.00976,  0.56557,  0.29311,  0.02543,  0.11164,\n",
       "          -0.32853,  0.04537, -0.00821, -0.15529,  0.47212, -0.34179,\n",
       "          -0.09224,  0.00517, -0.14098,  0.38621,  0.5792 ,  0.45817,\n",
       "           0.04309, -0.26416, -0.50002, -0.14406,  0.0144 , -0.27169,\n",
       "           0.56588,  0.19415, -0.22505,  0.35314, -0.09978, -0.2955 ],\n",
       "         [ 0.25282,  0.08628,  0.31506, -0.17114, -0.27655,  0.21046,\n",
       "          -0.16073,  0.27054, -0.12337, -0.14106,  0.05472, -0.31336,\n",
       "          -0.08305, -0.07242,  0.09796, -0.02323, -0.03396, -0.04205,\n",
       "          -0.12351,  0.00989, -0.23364, -0.3549 ,  0.35149,  0.02146,\n",
       "           0.11822,  0.08239,  0.04502, -0.16815,  0.04972,  0.15088],\n",
       "         [ 0.35882,  0.30562,  0.36594,  0.40783, -0.02164,  0.37007,\n",
       "          -0.10748,  0.41507, -0.20551, -0.10752,  0.1631 ,  0.15828,\n",
       "           0.21804, -0.10084,  0.23202,  0.04743,  0.47087,  0.36843,\n",
       "          -0.27548, -0.03941,  0.18028, -0.11854,  0.23004, -0.15271,\n",
       "          -0.05425,  0.16481,  0.04781,  0.03152, -0.04203,  0.11656],\n",
       "         [-0.02042,  0.01857, -0.10955,  0.16158,  0.35487, -0.26261,\n",
       "           0.11257,  0.16487,  0.24125,  0.40759, -0.23587,  0.30875,\n",
       "           0.18924, -0.1608 ,  0.26806,  0.08436,  0.16872, -0.14138,\n",
       "          -0.26624,  0.35436,  0.22909,  0.34686, -0.17963,  0.175  ,\n",
       "          -0.21681,  0.12848,  0.41201, -0.12286,  0.13415, -0.03427],\n",
       "         [ 0.06211,  0.10654,  0.08427,  0.067  ,  0.27057,  0.2576 ,\n",
       "           0.01881,  0.04305,  0.35927,  0.29455, -0.18742,  0.32605,\n",
       "           0.25742,  0.29769,  0.03902,  0.20334, -0.18594, -0.27563,\n",
       "           0.11703,  0.11127, -0.06811, -0.00032, -0.01751,  0.05313,\n",
       "          -0.33372,  0.18482, -0.02504,  0.0194 , -0.16863,  0.07558],\n",
       "         [-0.1459 , -0.03659,  0.10781,  0.26631, -0.17043, -0.07321,\n",
       "          -0.178  , -0.18064, -0.22902,  0.14881,  0.07272, -0.28904,\n",
       "           0.00085, -0.13865, -0.06578, -0.12302,  0.39245,  0.24233,\n",
       "          -0.08149,  0.26949,  0.2256 , -0.29054, -0.00201, -0.12174,\n",
       "           0.18188,  0.15188, -0.09279, -0.19707,  0.07678, -0.17919],\n",
       "         [-0.08085,  0.16429,  0.22585,  0.14211,  0.20499, -0.29431,\n",
       "           0.16856, -0.02639,  0.41118, -0.00839,  0.08909,  0.42532,\n",
       "           0.39873,  0.40341,  0.06632, -0.05194, -0.0342 , -0.02267,\n",
       "           0.00258,  0.0226 ,  0.43055, -0.1789 , -0.17459,  0.31736,\n",
       "           0.21266, -0.13704, -0.00944, -0.24867,  0.25963,  0.13986],\n",
       "         [ 0.37189,  0.03147, -0.1177 ,  0.27929, -0.1733 ,  0.06498,\n",
       "          -0.26547,  0.30287, -0.2246 , -0.14094,  0.21535,  0.02403,\n",
       "          -0.25565,  0.21991, -0.26943,  0.2975 ,  0.39697,  0.35115,\n",
       "           0.18389,  0.02396,  0.11807, -0.16598,  0.32167,  0.17006,\n",
       "           0.01544,  0.3724 , -0.25374, -0.09006,  0.02614, -0.28709],\n",
       "         [-0.20346, -0.01413,  0.10653,  0.12112, -0.26934,  0.03851,\n",
       "          -0.01508,  0.15085,  0.29386,  0.29684,  0.12114,  0.27169,\n",
       "          -0.17575, -0.06569, -0.01481, -0.07316, -0.04021,  0.29865,\n",
       "           0.05657,  0.23376,  0.26087,  0.187  ,  0.1218 ,  0.02403,\n",
       "          -0.0325 , -0.00311,  0.21573,  0.2611 ,  0.24086, -0.09542],\n",
       "         [ 0.37375, -0.1607 , -0.08918, -0.03118, -0.04893, -0.17555,\n",
       "          -0.25829,  0.15523, -0.30944, -0.0242 ,  0.12206, -0.30105,\n",
       "          -0.16855, -0.08202, -0.09107, -0.10833,  0.06495,  0.17136,\n",
       "           0.01716,  0.26642,  0.14444, -0.08721,  0.08998, -0.35341,\n",
       "          -0.05471,  0.05029, -0.13806, -0.00038,  0.15934, -0.05246],\n",
       "         [ 0.17158,  0.13821,  0.19003, -0.33912, -0.08617, -0.08225,\n",
       "           0.0483 , -0.26354,  0.36819,  0.39209, -0.04323,  0.20587,\n",
       "          -0.2247 ,  0.38925,  0.45022, -0.16776, -0.16522, -0.22877,\n",
       "           0.19313,  0.17708, -0.11499,  0.09213, -0.03762,  0.04262,\n",
       "          -0.16733,  0.26006,  0.0692 , -0.05297,  0.30649, -0.12923],\n",
       "         [-0.08872, -0.13244,  0.13625,  0.27358, -0.28851, -0.10727,\n",
       "           0.07038, -0.01704, -0.23516,  0.00346, -0.28981,  0.03278,\n",
       "           0.21772, -0.21453, -0.28968, -0.24074,  0.28699, -0.13571,\n",
       "           0.2311 , -0.0388 ,  0.23509,  0.02861, -0.03067, -0.23648,\n",
       "           0.19498,  0.01214,  0.1273 ,  0.07828,  0.05666, -0.06286],\n",
       "         [ 0.19617,  0.22159, -0.32868, -0.01339,  0.22216,  0.28193,\n",
       "           0.10694, -0.18429, -0.04055,  0.26544, -0.36454, -0.20041,\n",
       "          -0.15565,  0.09245, -0.16011,  0.00093,  0.22241, -0.0215 ,\n",
       "          -0.02962,  0.24843, -0.02462, -0.05546, -0.33425,  0.18635,\n",
       "          -0.09609, -0.13459, -0.24775, -0.08611,  0.19221,  0.20993],\n",
       "         [-0.0825 ,  0.24561, -0.12022,  0.05556, -0.08022, -0.17629,\n",
       "           0.01189,  0.3427 , -0.20396,  0.28857, -0.17367,  0.36424,\n",
       "           0.30665,  0.1646 ,  0.16455, -0.17152,  0.15546, -0.12947,\n",
       "          -0.2311 ,  0.21963,  0.27544, -0.10446, -0.05128,  0.13301,\n",
       "          -0.27965, -0.29691,  0.25475, -0.08093, -0.15582, -0.2218 ],\n",
       "         [ 0.21137,  0.26752, -0.0013 ,  0.22624,  0.0107 ,  0.06868,\n",
       "          -0.24838, -0.05845, -0.13269,  0.14275, -0.16841, -0.17928,\n",
       "           0.33779, -0.25481, -0.1294 ,  0.12593, -0.14346,  0.1305 ,\n",
       "          -0.25041, -0.15893, -0.03344, -0.11446, -0.08316,  0.08674,\n",
       "          -0.2841 , -0.01486,  0.23754,  0.20911, -0.00492, -0.09337],\n",
       "         [-0.35777,  0.26278,  0.21151, -0.12459,  0.21334, -0.20008,\n",
       "           0.31223, -0.06005,  0.33008,  0.20309,  0.2227 ,  0.26786,\n",
       "           0.2206 ,  0.25595, -0.11711, -0.18876, -0.18662, -0.22903,\n",
       "           0.25327,  0.41971,  0.02345,  0.26923,  0.17747,  0.19683,\n",
       "          -0.32718, -0.30142, -0.16393, -0.23298,  0.23089,  0.0705 ],\n",
       "         [ 0.30607,  0.02555, -0.06768,  0.25515,  0.15403, -0.17408,\n",
       "          -0.23022,  0.10703, -0.21878,  0.02121,  0.10841, -0.13989,\n",
       "           0.07486,  0.0087 ,  0.16356,  0.11249,  0.15995, -0.07828,\n",
       "          -0.08147, -0.20477, -0.24146,  0.2718 , -0.13227, -0.20347,\n",
       "          -0.02505,  0.12277,  0.06128, -0.28629, -0.2026 ,  0.21604],\n",
       "         [-0.0651 ,  0.08077, -0.28065,  0.0887 ,  0.35915,  0.01314,\n",
       "           0.19343, -0.25086,  0.05486, -0.01863, -0.30511,  0.25564,\n",
       "           0.09341,  0.18708,  0.41919, -0.04922, -0.08751, -0.25789,\n",
       "           0.26057, -0.20385,  0.1954 , -0.00695,  0.03559,  0.31225,\n",
       "           0.19499, -0.09755, -0.12469,  0.2538 ,  0.03799,  0.21483],\n",
       "         [-0.03081, -0.13404, -0.13678,  0.22095,  0.01543,  0.35821,\n",
       "           0.28656,  0.06528,  0.10655,  0.21109,  0.32586, -0.17643,\n",
       "           0.12177, -0.15229, -0.08997,  0.24511, -0.10049,  0.17109,\n",
       "          -0.12203, -0.25263, -0.27589,  0.18505,  0.3426 ,  0.0936 ,\n",
       "          -0.10255,  0.10034, -0.08207, -0.01108, -0.31812,  0.11196],\n",
       "         [-0.3915 ,  0.4365 , -0.28177,  0.03164,  0.30492, -0.32529,\n",
       "           0.58952, -0.04192,  0.39126,  0.08496, -0.16791,  0.26954,\n",
       "           0.48351,  0.15483,  0.31726, -0.00083, -0.1416 , -0.0965 ,\n",
       "           0.26845,  0.57872,  0.03325,  0.48727, -0.0537 ,  0.20845,\n",
       "          -0.03208, -0.42198,  0.51553, -0.29036,  0.21042, -0.03811],\n",
       "         [-0.08358,  0.17111,  0.13454, -0.2816 ,  0.48669, -0.2    ,\n",
       "           0.48159, -0.44971,  0.51057,  0.51673, -0.36807,  0.45556,\n",
       "           0.56052,  0.16483,  0.22994, -0.51306, -0.45   , -0.27931,\n",
       "           0.26089,  0.36123,  0.54216,  0.32735, -0.41698,  0.1532 ,\n",
       "           0.17233,  0.06854,  0.36455,  0.12803,  0.2661 ,  0.23173],\n",
       "         [-0.21215,  0.23637,  0.2282 ,  0.0624 ,  0.06654, -0.12703,\n",
       "           0.12836,  0.01544, -0.09984,  0.04749,  0.0679 , -0.16637,\n",
       "           0.24864,  0.17708, -0.27638,  0.13726, -0.09733, -0.24861,\n",
       "          -0.09863,  0.2058 ,  0.05059, -0.16121,  0.01794,  0.18641,\n",
       "          -0.2189 ,  0.17506,  0.2835 , -0.05329, -0.01967,  0.16605],\n",
       "         [ 0.05254,  0.18254,  0.11183,  0.20743,  0.03466, -0.2969 ,\n",
       "           0.10713,  0.07746, -0.14771,  0.31637, -0.21334, -0.13218,\n",
       "           0.27429, -0.16231,  0.4136 ,  0.03855, -0.19479, -0.17308,\n",
       "           0.11086,  0.15194, -0.13661,  0.20844, -0.10653,  0.18154,\n",
       "          -0.26825, -0.0997 , -0.1539 ,  0.15397,  0.08001,  0.00102]]),\n",
       "  array([[ 0.48571],\n",
       "         [-0.03304],\n",
       "         [ 0.30283],\n",
       "         [ 0.17203],\n",
       "         [-0.41035],\n",
       "         [ 0.45586],\n",
       "         [-0.423  ],\n",
       "         [ 0.58798],\n",
       "         [-0.24497],\n",
       "         [-0.46459],\n",
       "         [ 0.45483],\n",
       "         [-0.57061],\n",
       "         [-0.3197 ],\n",
       "         [-0.29529],\n",
       "         [-0.13229],\n",
       "         [ 0.48495],\n",
       "         [ 0.3917 ],\n",
       "         [ 0.44761],\n",
       "         [-0.01355],\n",
       "         [-0.45104],\n",
       "         [-0.13709],\n",
       "         [-0.25108],\n",
       "         [ 0.45542],\n",
       "         [-0.24871],\n",
       "         [ 0.05989],\n",
       "         [ 0.34308],\n",
       "         [-0.27109],\n",
       "         [ 0.38651],\n",
       "         [-0.17302],\n",
       "         [-0.22994]])],\n",
       " 'intercepts_': [array([-0.09747,  0.19643,  0.26336,  0.15244, -0.342  ,  0.14475,\n",
       "         -0.20437,  0.25068,  0.18361, -0.0869 ,  0.15361, -0.03623,\n",
       "         -0.15547, -0.05774, -0.11851, -0.03759, -0.00713, -0.23525,\n",
       "          0.28612,  0.09005, -0.15201, -0.17658, -0.14407, -0.2004 ,\n",
       "          0.37881,  0.36243,  0.05224,  0.12186,  0.19227, -0.09644]),\n",
       "  array([ 0.24593,  0.14861, -0.08794,  0.26464, -0.18984,  0.26083,\n",
       "          0.22372, -0.0811 ,  0.3437 , -0.15167, -0.19472, -0.24918,\n",
       "          0.10058, -0.06895,  0.1368 , -0.22021, -0.09041,  0.18804,\n",
       "         -0.14716, -0.21151,  0.06428, -0.03309,  0.28542,  0.26898,\n",
       "          0.22445,  0.31368,  0.05309,  0.09446, -0.24133,  0.03504]),\n",
       "  array([-0.03163,  0.21545, -0.14564,  0.13008,  0.04008,  0.03754,\n",
       "         -0.0301 , -0.07599,  0.33803, -0.23518, -0.21343,  0.14855,\n",
       "         -0.12114,  0.09899, -0.20133,  0.14272,  0.15814,  0.22003,\n",
       "         -0.18602,  0.13201,  0.14464,  0.19884, -0.09134,  0.19852,\n",
       "          0.07346, -0.03743,  0.01025,  0.20092,  0.22143, -0.29851]),\n",
       "  array([-0.07236])],\n",
       " 'loss_curve_': [0.7522746312645454,\n",
       "  0.6877140680645096,\n",
       "  0.6320818400068388,\n",
       "  0.5785838935604142,\n",
       "  0.5242926296629292,\n",
       "  0.47267547428731427,\n",
       "  0.42161671207945844,\n",
       "  0.37308186642606683,\n",
       "  0.32926396472539654,\n",
       "  0.29022068012493113,\n",
       "  0.25621710905964334,\n",
       "  0.22731685053523248,\n",
       "  0.20397159751811156,\n",
       "  0.18421609777897657,\n",
       "  0.16784062429175,\n",
       "  0.15394322868429006,\n",
       "  0.14253317182776262,\n",
       "  0.13250837576089122,\n",
       "  0.12403201849658292,\n",
       "  0.11656560203723355,\n",
       "  0.10978705566661726,\n",
       "  0.10392592803789227,\n",
       "  0.09882075762199628,\n",
       "  0.09451871503459622,\n",
       "  0.09045705591077187,\n",
       "  0.0867919063684876,\n",
       "  0.08349574457514938,\n",
       "  0.08051885135524325,\n",
       "  0.07773783124451722,\n",
       "  0.07520473232317196,\n",
       "  0.07278596203203065,\n",
       "  0.07064751439874971,\n",
       "  0.06850013747972106,\n",
       "  0.06647486703509582,\n",
       "  0.06466745108187356,\n",
       "  0.06291822444062616,\n",
       "  0.06140244486292279,\n",
       "  0.059716555479581004,\n",
       "  0.0580326821565931,\n",
       "  0.05653531694770396,\n",
       "  0.05529075626138401,\n",
       "  0.05403726823794154,\n",
       "  0.052534116044786104,\n",
       "  0.05109755686560304,\n",
       "  0.04953559383299127,\n",
       "  0.04808369388653939,\n",
       "  0.04714824979851734,\n",
       "  0.04601857708280783,\n",
       "  0.04501763636189182,\n",
       "  0.043922548992733956,\n",
       "  0.04347003267077132,\n",
       "  0.0426346078102546,\n",
       "  0.04148559056436022,\n",
       "  0.04031693652212091,\n",
       "  0.03926299170755706,\n",
       "  0.03832107184097974,\n",
       "  0.037457182357560376,\n",
       "  0.03669554154248262,\n",
       "  0.03624177603726085,\n",
       "  0.0355644497548794,\n",
       "  0.034809383445921015,\n",
       "  0.034045942734168,\n",
       "  0.03318488397396891,\n",
       "  0.032021187913291733,\n",
       "  0.030736747648202944,\n",
       "  0.029583688272527525,\n",
       "  0.02863892371465053,\n",
       "  0.027834319758609817,\n",
       "  0.027426390236031835,\n",
       "  0.027016722901223096,\n",
       "  0.02623304975885667,\n",
       "  0.02529062617331456,\n",
       "  0.024415246756304777,\n",
       "  0.024017349010241322,\n",
       "  0.02342808929110184,\n",
       "  0.022676096398633144,\n",
       "  0.022006205019619682,\n",
       "  0.021150087628214524,\n",
       "  0.020447198045722342,\n",
       "  0.01979621810090515,\n",
       "  0.019256217317368873,\n",
       "  0.018732416808340275,\n",
       "  0.01826937132359996,\n",
       "  0.017758461746211675,\n",
       "  0.017371623964127624,\n",
       "  0.01694036336500937,\n",
       "  0.01660349348904772,\n",
       "  0.016097730100634616,\n",
       "  0.015757039458500908,\n",
       "  0.015315905502253093,\n",
       "  0.014899748367521774,\n",
       "  0.014577149506939871,\n",
       "  0.014369342289408695,\n",
       "  0.013929931448631732,\n",
       "  0.013349480083104407,\n",
       "  0.013063995635280256,\n",
       "  0.012676006913165916,\n",
       "  0.0123596192926552,\n",
       "  0.011979646769415436,\n",
       "  0.011638658705442284,\n",
       "  0.011385680878139789,\n",
       "  0.011146218794624614,\n",
       "  0.010868760742549433,\n",
       "  0.0105620175963308,\n",
       "  0.010290620138958028,\n",
       "  0.009935051702417378,\n",
       "  0.009697280478671902,\n",
       "  0.009585579200867602,\n",
       "  0.009468587555575891,\n",
       "  0.009222116694162803,\n",
       "  0.008704727610206114,\n",
       "  0.008369784098310335,\n",
       "  0.00820940308701956,\n",
       "  0.008093696620007494,\n",
       "  0.0077566561975415385,\n",
       "  0.007540239854210964,\n",
       "  0.007414501432346622,\n",
       "  0.007181854571100255,\n",
       "  0.006986538569238276,\n",
       "  0.006764801969091016,\n",
       "  0.006552054349952109,\n",
       "  0.0064292779780894885,\n",
       "  0.00636872942270682,\n",
       "  0.006251604017744205,\n",
       "  0.006096707994484031,\n",
       "  0.005962111278319676,\n",
       "  0.0057057034190076605,\n",
       "  0.005547312684800776,\n",
       "  0.005403114134999228,\n",
       "  0.00531668968106328,\n",
       "  0.005189864801262211,\n",
       "  0.005343964311561749,\n",
       "  0.005433547076886465,\n",
       "  0.005152353910611116,\n",
       "  0.004944269172358316,\n",
       "  0.0046819559030139716,\n",
       "  0.004533560468646292,\n",
       "  0.0044340867134585625,\n",
       "  0.004353994790085469,\n",
       "  0.004268444312002956,\n",
       "  0.004171103358027473,\n",
       "  0.004085941452990469,\n",
       "  0.003988830022382496,\n",
       "  0.003911462988068843,\n",
       "  0.0037971834786866814,\n",
       "  0.0037153148561587675,\n",
       "  0.003606072402283289,\n",
       "  0.0035501203149074824,\n",
       "  0.0034831569133351174,\n",
       "  0.0034112629186469367,\n",
       "  0.003350082551391122,\n",
       "  0.0032703332254525866,\n",
       "  0.003202258745144623,\n",
       "  0.003150716175007702,\n",
       "  0.0030826949795999987,\n",
       "  0.003040217436598725,\n",
       "  0.003000763831372676,\n",
       "  0.002972808573545892],\n",
       " '_no_improvement_count': 11,\n",
       " 'best_loss_': 0.002972808573545892,\n",
       " '_optimizer': <sklearn.neural_network._stochastic_optimizers.AdamOptimizer at 0x7f5c64517820>,\n",
       " 'loss_': 0.002972808573545892}"
      ]
     },
     "execution_count": 31,
     "metadata": {},
     "output_type": "execute_result"
    }
   ],
   "source": [
    "mlp.__dict__"
   ]
  },
  {
   "cell_type": "markdown",
   "metadata": {},
   "source": [
    "No entanto, se você quiser extrair os pesos e viés (bias) do MLP após o treinamento do seu modelo, você usa seus atributos públicos coefs_ e intercepts_."
   ]
  },
  {
   "cell_type": "code",
   "execution_count": 32,
   "metadata": {},
   "outputs": [
    {
     "data": {
      "text/plain": [
       "4"
      ]
     },
     "execution_count": 32,
     "metadata": {},
     "output_type": "execute_result"
    }
   ],
   "source": [
    "len(mlp.coefs_)"
   ]
  },
  {
   "cell_type": "code",
   "execution_count": 33,
   "metadata": {},
   "outputs": [
    {
     "data": {
      "text/plain": [
       "(30, 30)"
      ]
     },
     "execution_count": 33,
     "metadata": {},
     "output_type": "execute_result"
    }
   ],
   "source": [
    "mlp.coefs_[0].shape"
   ]
  },
  {
   "cell_type": "code",
   "execution_count": 34,
   "metadata": {},
   "outputs": [
    {
     "data": {
      "text/plain": [
       "array([[ 0.13625,  0.33466, -0.02936, -0.26735, -0.04751,  0.18179,\n",
       "         0.02905,  0.03133, -0.17401, -0.1564 ,  0.013  ,  0.15297,\n",
       "         0.05969,  0.17023,  0.33581, -0.23436,  0.22915,  0.07841,\n",
       "        -0.23594,  0.06048,  0.07438, -0.00349, -0.15345,  0.24665,\n",
       "         0.06806, -0.18454,  0.20629, -0.12932, -0.06051, -0.19378],\n",
       "       [ 0.00283,  0.0428 , -0.14894, -0.0106 ,  0.0058 , -0.09714,\n",
       "         0.27862, -0.26987,  0.07892, -0.21655,  0.22217,  0.26914,\n",
       "         0.20752, -0.21345,  0.34833,  0.12793, -0.1763 ,  0.27129,\n",
       "         0.01487,  0.0245 , -0.29846, -0.25592,  0.39241,  0.09038,\n",
       "         0.33255,  0.20015,  0.30429,  0.30748, -0.02937, -0.24554],\n",
       "       [ 0.10196,  0.32355, -0.00383,  0.04892,  0.10889, -0.32509,\n",
       "        -0.17439,  0.18986,  0.05378, -0.0468 , -0.03761, -0.10267,\n",
       "        -0.22102, -0.19394, -0.07587,  0.07711, -0.35719, -0.16312,\n",
       "        -0.03548, -0.0678 , -0.03332, -0.21086,  0.13348, -0.18264,\n",
       "        -0.23861,  0.02421, -0.01822, -0.07735, -0.23912,  0.11649],\n",
       "       [-0.37037,  0.3428 , -0.29167,  0.19974,  0.26902,  0.04603,\n",
       "        -0.0152 , -0.18074, -0.14529, -0.13666, -0.01543,  0.09554,\n",
       "         0.15325, -0.1643 , -0.23736,  0.17194,  0.24159, -0.00928,\n",
       "         0.20641, -0.24298, -0.17822,  0.28545,  0.1662 , -0.05216,\n",
       "         0.3015 ,  0.08095, -0.24625, -0.32992,  0.26751, -0.24632],\n",
       "       [-0.23842, -0.28796, -0.01915, -0.27471, -0.24117,  0.37078,\n",
       "         0.16426, -0.17756, -0.03647, -0.15628, -0.00142, -0.24043,\n",
       "         0.08915, -0.17521,  0.35008, -0.16913, -0.14946, -0.04482,\n",
       "        -0.25656, -0.13533,  0.31952,  0.00242,  0.28867,  0.15182,\n",
       "        -0.0132 ,  0.28784, -0.18913, -0.20728,  0.26231, -0.15275],\n",
       "       [ 0.28464, -0.25311,  0.05361, -0.23068,  0.11741, -0.00713,\n",
       "         0.31571,  0.27234, -0.12602,  0.33471, -0.24282,  0.00954,\n",
       "        -0.11261,  0.21314, -0.1244 ,  0.07773,  0.05698,  0.21032,\n",
       "        -0.1046 , -0.22587, -0.19577, -0.033  , -0.19749, -0.38936,\n",
       "        -0.14228,  0.0446 , -0.08243, -0.05135, -0.07471,  0.06007],\n",
       "       [ 0.21633, -0.00249, -0.38116,  0.12049, -0.03032, -0.24932,\n",
       "        -0.1449 , -0.38152,  0.13019, -0.04453, -0.27909,  0.13343,\n",
       "         0.26964, -0.12135, -0.11166, -0.19036, -0.02742,  0.25327,\n",
       "         0.15067, -0.21827, -0.30691,  0.06879, -0.12399, -0.12737,\n",
       "         0.33407,  0.29871,  0.04681,  0.1136 , -0.21632, -0.32586],\n",
       "       [-0.30286, -0.04612, -0.3807 , -0.20027,  0.15138, -0.09338,\n",
       "        -0.00501, -0.15623, -0.02062, -0.07808,  0.06106, -0.01726,\n",
       "         0.04659,  0.00523,  0.38151, -0.08332, -0.24874, -0.35262,\n",
       "        -0.27156, -0.22016, -0.09471,  0.01355, -0.19418, -0.30229,\n",
       "         0.18884, -0.13972, -0.11582,  0.16412, -0.20198, -0.05829],\n",
       "       [ 0.05691,  0.0203 , -0.10654,  0.12006, -0.17572, -0.08416,\n",
       "        -0.19786,  0.32751,  0.02349, -0.05119,  0.06984,  0.08789,\n",
       "         0.31148,  0.20361,  0.39297, -0.02243,  0.36648,  0.15979,\n",
       "        -0.03257,  0.0799 ,  0.24051,  0.38185, -0.20066,  0.10355,\n",
       "        -0.29018,  0.1653 ,  0.12151, -0.06917, -0.25879, -0.24743],\n",
       "       [ 0.12231,  0.14686,  0.07528, -0.09784, -0.19939, -0.29998,\n",
       "         0.18864,  0.00112, -0.15752,  0.29635, -0.10398, -0.33576,\n",
       "         0.19364,  0.12983,  0.19488,  0.20074, -0.21983, -0.28157,\n",
       "         0.01685, -0.15641,  0.23422,  0.1392 , -0.23848,  0.01505,\n",
       "        -0.04785, -0.293  ,  0.25731,  0.245  ,  0.2878 ,  0.10333],\n",
       "       [-0.22101,  0.37448, -0.01258, -0.13566,  0.27827, -0.31835,\n",
       "        -0.13649,  0.04408,  0.30657,  0.11575,  0.13978,  0.27873,\n",
       "         0.22044,  0.26271, -0.00716,  0.0046 ,  0.03373, -0.22465,\n",
       "         0.23323,  0.2506 , -0.27726,  0.15663,  0.13972, -0.19982,\n",
       "         0.05983, -0.05303, -0.10852, -0.30776, -0.2828 , -0.02172],\n",
       "       [-0.2994 , -0.08771,  0.07745, -0.04097,  0.38917,  0.01805,\n",
       "        -0.1021 , -0.27289, -0.02343, -0.32869,  0.05508, -0.41543,\n",
       "        -0.26297, -0.10852,  0.34452,  0.12961, -0.12233,  0.30769,\n",
       "        -0.30634, -0.24142,  0.02199,  0.11607,  0.25932, -0.03247,\n",
       "        -0.32367, -0.31325, -0.23281,  0.21903,  0.21072,  0.39999],\n",
       "       [-0.35416,  0.20951, -0.10756,  0.09907, -0.26012,  0.17288,\n",
       "         0.06549, -0.05007,  0.23485,  0.01722, -0.00511,  0.29737,\n",
       "        -0.09493,  0.12719, -0.07539,  0.20543,  0.06439, -0.28453,\n",
       "         0.21371, -0.05336, -0.24878, -0.30892,  0.32832, -0.19574,\n",
       "        -0.0449 , -0.04787,  0.06205,  0.08941,  0.08446, -0.05303],\n",
       "       [ 0.22165,  0.22995, -0.09624, -0.38609,  0.26165,  0.03906,\n",
       "        -0.23063,  0.20287,  0.30564,  0.25567, -0.16335,  0.23055,\n",
       "        -0.30247,  0.16963,  0.12696,  0.05293, -0.2663 , -0.3358 ,\n",
       "         0.15607,  0.26509, -0.17734, -0.19671, -0.08084,  0.08219,\n",
       "         0.25416,  0.0209 , -0.35233, -0.14417, -0.26305, -0.31355],\n",
       "       [-0.04822, -0.28748,  0.25446, -0.30119, -0.1588 , -0.33491,\n",
       "        -0.04847, -0.19008,  0.13844, -0.0222 ,  0.16417,  0.05822,\n",
       "        -0.25537, -0.25278, -0.36981, -0.01909,  0.31156,  0.22316,\n",
       "         0.02037,  0.21967,  0.19694, -0.03545, -0.04052, -0.11424,\n",
       "        -0.14033,  0.12901, -0.37753,  0.22437,  0.04257,  0.19037],\n",
       "       [ 0.17053, -0.01035,  0.33708,  0.37703,  0.25451, -0.30585,\n",
       "        -0.12899, -0.24128,  0.01242, -0.06161, -0.03777, -0.04   ,\n",
       "        -0.18394, -0.08219,  0.20934,  0.24172,  0.28833,  0.09073,\n",
       "         0.20525,  0.26735,  0.09776, -0.17396, -0.06465, -0.32952,\n",
       "         0.15837,  0.07885, -0.15138,  0.16455, -0.27439,  0.16467],\n",
       "       [-0.17525, -0.11615,  0.03347,  0.24506, -0.26283, -0.00489,\n",
       "        -0.24758, -0.38181, -0.11164,  0.04613,  0.22634,  0.04493,\n",
       "        -0.21291,  0.1583 ,  0.30594, -0.10076, -0.16237, -0.09281,\n",
       "         0.11192, -0.26063, -0.04502,  0.04169, -0.20431,  0.28934,\n",
       "         0.00353, -0.08672,  0.26031, -0.06917, -0.08536, -0.12863],\n",
       "       [-0.05973, -0.2422 , -0.07919,  0.31673,  0.05259,  0.29376,\n",
       "        -0.03541,  0.14131, -0.07523,  0.02007, -0.35244,  0.00794,\n",
       "        -0.04903, -0.07252,  0.13156,  0.09001, -0.10866, -0.17676,\n",
       "        -0.21918, -0.09269, -0.20974, -0.03841, -0.19788, -0.39073,\n",
       "         0.21792,  0.20671,  0.31535, -0.02982, -0.04445, -0.25061],\n",
       "       [-0.16172, -0.04773,  0.13852,  0.07832, -0.20103,  0.20041,\n",
       "        -0.23507,  0.10929, -0.08716, -0.18899, -0.00084,  0.06652,\n",
       "        -0.14406,  0.23845, -0.04993, -0.23285, -0.28593,  0.11559,\n",
       "         0.29796, -0.06236, -0.13117,  0.16831,  0.06412, -0.02152,\n",
       "         0.19299, -0.08487,  0.1148 ,  0.08988,  0.01238,  0.08623],\n",
       "       [-0.10198,  0.21303,  0.29236,  0.24241,  0.2438 ,  0.06247,\n",
       "         0.08931,  0.15439,  0.18172,  0.09135,  0.25575,  0.19675,\n",
       "         0.24743,  0.21794, -0.23024,  0.02828,  0.23571, -0.07527,\n",
       "        -0.21981, -0.09994,  0.13226,  0.09993,  0.08862, -0.21466,\n",
       "        -0.35861, -0.05281,  0.37472,  0.10305, -0.13015,  0.16566],\n",
       "       [ 0.00551, -0.01417,  0.05002, -0.30337, -0.16442,  0.23791,\n",
       "        -0.23004,  0.17928,  0.24224,  0.10763, -0.13671,  0.28911,\n",
       "         0.06689,  0.15177,  0.30177,  0.1259 , -0.35466, -0.1871 ,\n",
       "        -0.29908, -0.27495, -0.25049,  0.38053,  0.33681,  0.09419,\n",
       "        -0.17944,  0.35476, -0.04397,  0.09037, -0.09493,  0.05836],\n",
       "       [-0.20124, -0.14247, -0.07805, -0.04801,  0.02943, -0.28299,\n",
       "         0.00925,  0.14947,  0.15349,  0.23051,  0.23735,  0.17922,\n",
       "        -0.1591 , -0.22516, -0.13651, -0.42185, -0.34245,  0.06038,\n",
       "        -0.23134, -0.32902, -0.35372,  0.22917,  0.18938,  0.34504,\n",
       "         0.38626, -0.25891, -0.23149, -0.11297, -0.11691,  0.265  ],\n",
       "       [-0.24954,  0.14605,  0.20623, -0.33752, -0.33479, -0.22768,\n",
       "         0.0977 , -0.29249,  0.33659,  0.07533, -0.05675, -0.20712,\n",
       "        -0.23946,  0.14863,  0.14159,  0.10492, -0.196  , -0.21136,\n",
       "        -0.00905, -0.15114, -0.00446,  0.38127,  0.19929,  0.32309,\n",
       "         0.0939 ,  0.2106 , -0.28372,  0.02415, -0.24991, -0.34094],\n",
       "       [-0.05999,  0.0756 , -0.08003, -0.2179 , -0.02261,  0.1295 ,\n",
       "        -0.10645, -0.38673, -0.22699,  0.30075,  0.20967,  0.2671 ,\n",
       "        -0.29365,  0.08214, -0.05991,  0.07362, -0.28639, -0.08279,\n",
       "        -0.36478,  0.09275, -0.183  , -0.05398, -0.18608,  0.36149,\n",
       "         0.36846, -0.03318, -0.01025, -0.33423,  0.07778,  0.16874],\n",
       "       [-0.05546,  0.10038, -0.04908, -0.28434, -0.11376, -0.02751,\n",
       "        -0.02152, -0.26397,  0.06433,  0.09544, -0.17028, -0.15776,\n",
       "         0.05766,  0.18521,  0.21319, -0.23158,  0.19562, -0.22839,\n",
       "        -0.04132, -0.17143, -0.23398,  0.3737 , -0.02959, -0.00678,\n",
       "         0.14204, -0.05813, -0.28882, -0.01105,  0.01525, -0.15214],\n",
       "       [-0.11737,  0.05681, -0.05404,  0.05884, -0.06359, -0.27953,\n",
       "         0.36889,  0.13524,  0.08838, -0.1105 ,  0.03259,  0.24608,\n",
       "        -0.29714, -0.07752,  0.04011, -0.05598,  0.08456, -0.14138,\n",
       "        -0.23654, -0.08609, -0.09327,  0.24641,  0.16633, -0.32419,\n",
       "        -0.16067,  0.05436, -0.19077, -0.01018, -0.24241,  0.15478],\n",
       "       [-0.00195, -0.01958, -0.05232,  0.2084 , -0.33408, -0.24392,\n",
       "        -0.06669,  0.16666, -0.18113,  0.1098 , -0.1116 , -0.11003,\n",
       "        -0.3299 , -0.05151,  0.20939, -0.35062,  0.04573, -0.08309,\n",
       "         0.16472,  0.00765,  0.02418,  0.26899, -0.23238,  0.14981,\n",
       "        -0.06362,  0.3644 , -0.47431, -0.06753, -0.3326 , -0.25625],\n",
       "       [ 0.22427, -0.16083,  0.09114, -0.02139, -0.35418, -0.09071,\n",
       "         0.27706, -0.31979,  0.36965,  0.22577,  0.07346,  0.08423,\n",
       "         0.14398,  0.37007,  0.07616, -0.31636, -0.1655 , -0.35466,\n",
       "         0.00173,  0.23467, -0.34661,  0.36148, -0.06892, -0.22994,\n",
       "        -0.08174,  0.31599,  0.03524, -0.2492 ,  0.31869, -0.10195],\n",
       "       [-0.44558,  0.34116, -0.35332,  0.19319, -0.02822, -0.00366,\n",
       "         0.16104, -0.19703,  0.31324, -0.23681, -0.11729, -0.12151,\n",
       "         0.16814,  0.04379,  0.14031, -0.25903,  0.24425, -0.29925,\n",
       "        -0.12239,  0.23773,  0.16814, -0.20259, -0.19711,  0.33599,\n",
       "         0.19819, -0.0122 ,  0.18463,  0.18078,  0.09074, -0.10499],\n",
       "       [-0.2418 , -0.27234,  0.08234,  0.02457, -0.17401, -0.27899,\n",
       "         0.03766, -0.3462 , -0.21871,  0.43893, -0.28001, -0.27369,\n",
       "        -0.24665, -0.20769, -0.18366, -0.18209,  0.0093 ,  0.00354,\n",
       "        -0.18516,  0.31777,  0.06404,  0.31826, -0.21678, -0.20127,\n",
       "        -0.21201,  0.18404,  0.08323, -0.29324, -0.02451,  0.08154]])"
      ]
     },
     "execution_count": 34,
     "metadata": {},
     "output_type": "execute_result"
    }
   ],
   "source": [
    "mlp.coefs_[0][:]"
   ]
  },
  {
   "cell_type": "code",
   "execution_count": 35,
   "metadata": {},
   "outputs": [
    {
     "data": {
      "text/plain": [
       "array([[ 0.48571],\n",
       "       [-0.03304],\n",
       "       [ 0.30283]])"
      ]
     },
     "execution_count": 35,
     "metadata": {},
     "output_type": "execute_result"
    }
   ],
   "source": [
    "mlp.coefs_[3][:3]"
   ]
  },
  {
   "cell_type": "code",
   "execution_count": 36,
   "metadata": {},
   "outputs": [
    {
     "data": {
      "text/plain": [
       "30"
      ]
     },
     "execution_count": 36,
     "metadata": {},
     "output_type": "execute_result"
    }
   ],
   "source": [
    "len(mlp.coefs_[0])"
   ]
  },
  {
   "cell_type": "code",
   "execution_count": 37,
   "metadata": {},
   "outputs": [
    {
     "data": {
      "text/plain": [
       "30"
      ]
     },
     "execution_count": 37,
     "metadata": {},
     "output_type": "execute_result"
    }
   ],
   "source": [
    "len(mlp.intercepts_[0])"
   ]
  },
  {
   "cell_type": "markdown",
   "metadata": {},
   "source": [
    "---"
   ]
  }
 ],
 "metadata": {
  "anaconda-cloud": {},
  "kernelspec": {
   "display_name": "Python 3 (ipykernel)",
   "language": "python",
   "name": "python3"
  },
  "language_info": {
   "codemirror_mode": {
    "name": "ipython",
    "version": 3
   },
   "file_extension": ".py",
   "mimetype": "text/x-python",
   "name": "python",
   "nbconvert_exporter": "python",
   "pygments_lexer": "ipython3",
   "version": "3.9.7"
  }
 },
 "nbformat": 4,
 "nbformat_minor": 1
}
